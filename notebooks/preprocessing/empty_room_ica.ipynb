{
 "cells": [
  {
   "cell_type": "code",
   "execution_count": 1,
   "id": "a9c6b00b",
   "metadata": {},
   "outputs": [],
   "source": [
    "import mne\n",
    "import os.path as op\n",
    "import os"
   ]
  },
  {
   "cell_type": "code",
   "execution_count": 2,
   "id": "436b0890",
   "metadata": {},
   "outputs": [],
   "source": [
    "root = \"/Volumes/BCOM/ciprian_project/data_analyzed/preprocessed\"\n",
    "subject_dirs = [op.join(root, subdir) for subdir in os.listdir(root) if \"DS_Store\" not in subdir]"
   ]
  },
  {
   "cell_type": "code",
   "execution_count": null,
   "id": "5f7f94ea",
   "metadata": {},
   "outputs": [],
   "source": [
    "blocks = [2, 3, 4] # [3, 4, 5] # remember to change the directory name for BCOM_08!\n",
    "subject_blocks_and_ica = []\n",
    "for dir in subject_dirs:\n",
    "    for subdir in [subdirs for subdirs in os.listdir(dir) if \"DS_Store\" not in subdirs]: # cursed \n",
    "        block_dir = op.join(dir, subdir)\n",
    "        ica_dir = op.join(block_dir, \"ICA\")\n",
    "        subject_blocks_and_ica.append((block_dir, ica_dir))"
   ]
  },
  {
   "cell_type": "code",
   "execution_count": null,
   "id": "d21c3a33",
   "metadata": {},
   "outputs": [
    {
     "name": "stdout",
     "output_type": "stream",
     "text": [
      "Opening raw data file /Volumes/BCOM/ciprian_project/data_analyzed/preprocessed/BCOM_08/2/empty_room_cleaned_no_ICA_raw.fif...\n",
      "Isotrak not found\n",
      "    Range : 0 ... 89999 =      0.000 ...   179.998 secs\n",
      "Ready.\n",
      "Reading 0 ... 89999  =      0.000 ...   179.998 secs...\n",
      "Reading /Volumes/BCOM/ciprian_project/data_analyzed/preprocessed/BCOM_08/2/ICA/solution_ica_with_exclusions.fif ...\n"
     ]
    },
    {
     "name": "stderr",
     "output_type": "stream",
     "text": [
      "/var/folders/f1/tvmmnqs17399g3n7wyy0pq0c0000gn/T/ipykernel_23885/3086004708.py:10: RuntimeWarning: This filename (/Volumes/BCOM/ciprian_project/data_analyzed/preprocessed/BCOM_08/2/ICA/solution_ica_with_exclusions.fif) does not conform to MNE naming conventions. All ICA files should end with -ica.fif, -ica.fif.gz, _ica.fif or _ica.fif.gz\n",
      "  ica_solution = mne.preprocessing.read_ica(ica_solution_path)\n"
     ]
    },
    {
     "name": "stdout",
     "output_type": "stream",
     "text": [
      "Now restoring ICA solution ...\n",
      "Ready.\n",
      "Applying ICA to Raw instance\n",
      "    Transforming to ICA space (79 components)\n",
      "    Zeroing out 4 ICA components\n",
      "    Projecting back using 246 PCA components\n",
      "Writing /Volumes/BCOM/ciprian_project/data_analyzed/preprocessed/BCOM_08/2/empty_room_cleaned_ICA_raw.fif\n",
      "Closing /Volumes/BCOM/ciprian_project/data_analyzed/preprocessed/BCOM_08/2/empty_room_cleaned_ICA_raw.fif\n",
      "[done]\n",
      "Opening raw data file /Volumes/BCOM/ciprian_project/data_analyzed/preprocessed/BCOM_08/3/empty_room_cleaned_no_ICA_raw.fif...\n",
      "Isotrak not found\n",
      "    Range : 0 ... 89999 =      0.000 ...   179.998 secs\n",
      "Ready.\n",
      "Reading 0 ... 89999  =      0.000 ...   179.998 secs...\n",
      "Reading /Volumes/BCOM/ciprian_project/data_analyzed/preprocessed/BCOM_08/3/ICA/solution_ica_with_exclusions.fif ...\n",
      "Now restoring ICA solution ...\n",
      "Ready.\n",
      "Applying ICA to Raw instance\n"
     ]
    },
    {
     "name": "stderr",
     "output_type": "stream",
     "text": [
      "/var/folders/f1/tvmmnqs17399g3n7wyy0pq0c0000gn/T/ipykernel_23885/3086004708.py:10: RuntimeWarning: This filename (/Volumes/BCOM/ciprian_project/data_analyzed/preprocessed/BCOM_08/3/ICA/solution_ica_with_exclusions.fif) does not conform to MNE naming conventions. All ICA files should end with -ica.fif, -ica.fif.gz, _ica.fif or _ica.fif.gz\n",
      "  ica_solution = mne.preprocessing.read_ica(ica_solution_path)\n"
     ]
    },
    {
     "name": "stdout",
     "output_type": "stream",
     "text": [
      "    Transforming to ICA space (61 components)\n",
      "    Zeroing out 4 ICA components\n",
      "    Projecting back using 246 PCA components\n",
      "Writing /Volumes/BCOM/ciprian_project/data_analyzed/preprocessed/BCOM_08/3/empty_room_cleaned_ICA_raw.fif\n",
      "Closing /Volumes/BCOM/ciprian_project/data_analyzed/preprocessed/BCOM_08/3/empty_room_cleaned_ICA_raw.fif\n",
      "[done]\n",
      "Opening raw data file /Volumes/BCOM/ciprian_project/data_analyzed/preprocessed/BCOM_08/4/empty_room_cleaned_no_ICA_raw.fif...\n",
      "Isotrak not found\n",
      "    Range : 0 ... 89999 =      0.000 ...   179.998 secs\n",
      "Ready.\n",
      "Reading 0 ... 89999  =      0.000 ...   179.998 secs...\n",
      "Reading /Volumes/BCOM/ciprian_project/data_analyzed/preprocessed/BCOM_08/4/ICA/solution_ica_with_exclusions.fif ...\n",
      "Now restoring ICA solution ...\n",
      "Ready.\n"
     ]
    },
    {
     "name": "stderr",
     "output_type": "stream",
     "text": [
      "/var/folders/f1/tvmmnqs17399g3n7wyy0pq0c0000gn/T/ipykernel_23885/3086004708.py:10: RuntimeWarning: This filename (/Volumes/BCOM/ciprian_project/data_analyzed/preprocessed/BCOM_08/4/ICA/solution_ica_with_exclusions.fif) does not conform to MNE naming conventions. All ICA files should end with -ica.fif, -ica.fif.gz, _ica.fif or _ica.fif.gz\n",
      "  ica_solution = mne.preprocessing.read_ica(ica_solution_path)\n"
     ]
    },
    {
     "name": "stdout",
     "output_type": "stream",
     "text": [
      "Applying ICA to Raw instance\n",
      "    Transforming to ICA space (60 components)\n",
      "    Zeroing out 4 ICA components\n",
      "    Projecting back using 246 PCA components\n",
      "Writing /Volumes/BCOM/ciprian_project/data_analyzed/preprocessed/BCOM_08/4/empty_room_cleaned_ICA_raw.fif\n",
      "Closing /Volumes/BCOM/ciprian_project/data_analyzed/preprocessed/BCOM_08/4/empty_room_cleaned_ICA_raw.fif\n",
      "[done]\n"
     ]
    }
   ],
   "source": [
    "for pairs in subject_blocks_and_ica:\n",
    "\n",
    "    empty_room_path = op.join(pairs[0], \"empty_room_cleaned_no_ICA_raw.fif\")\n",
    "    ica_solution_path = op.join(pairs[1], \"solution_ica_with_exclusions.fif\")\n",
    "    save_path = op.join(pairs[0], \"empty_room_cleaned_ICA_raw.fif\")\n",
    "\n",
    "    empty_room_raw = mne.io.read_raw_fif(empty_room_path, preload=True)\n",
    "\n",
    "    # Jas et al 2018 - apply the subject solution\n",
    "    ica_solution = mne.preprocessing.read_ica(ica_solution_path)\n",
    "\n",
    "    ica_solution.apply(empty_room_raw)\n",
    "\n",
    "    empty_room_raw.save(save_path, overwrite=True)\n",
    "\n"
   ]
  },
  {
   "cell_type": "code",
   "execution_count": null,
   "id": "767fdf00",
   "metadata": {},
   "outputs": [],
   "source": []
  }
 ],
 "metadata": {
  "kernelspec": {
   "display_name": "mne",
   "language": "python",
   "name": "python3"
  },
  "language_info": {
   "codemirror_mode": {
    "name": "ipython",
    "version": 3
   },
   "file_extension": ".py",
   "mimetype": "text/x-python",
   "name": "python",
   "nbconvert_exporter": "python",
   "pygments_lexer": "ipython3",
   "version": "3.11.12"
  }
 },
 "nbformat": 4,
 "nbformat_minor": 5
}
