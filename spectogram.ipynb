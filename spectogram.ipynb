{
 "cells": [
  {
   "cell_type": "code",
   "execution_count": 2,
   "metadata": {},
   "outputs": [],
   "source": [
    "from BcomMEG import *\n",
    "from TripletMEGDataset import *\n",
    "from MEGDataset_Conv import *\n",
    "import mne\n",
    "import numpy as np\n",
    "import matplotlib.pyplot as plt\n",
    "import os\n",
    "from torch.utils.data import DataLoader, Subset\n",
    "import torch\n",
    "import torch.optim as optim\n",
    "from sklearn.model_selection import train_test_split"
   ]
  },
  {
   "cell_type": "code",
   "execution_count": 297,
   "metadata": {},
   "outputs": [],
   "source": [
    "import torch.nn as nn\n",
    "class BigTripletNet(nn.Module): #this one is designed to take in all the sensors as one big tensor\n",
    "    def __init__(self):\n",
    "        super(BigTripletNet, self).__init__()\n",
    "        \n",
    "        #Conv Blocks\n",
    "        self.conv1 = nn.Conv2d(in_channels=247, out_channels=16, kernel_size=3, padding=1)\n",
    "        self.bn1 = nn.BatchNorm2d(16)\n",
    "        self.act1 = nn.ReLU()\n",
    "        self.pool1 = nn.MaxPool2d(kernel_size=2, stride=2) #(16, 24, 40)\n",
    "\n",
    "        self.conv2 = nn.Conv2d(in_channels=16, out_channels=32, kernel_size=3, padding=1) \n",
    "        self.bn2 = nn.BatchNorm2d(32)\n",
    "        self.act2 = nn.ReLU()\n",
    "        self.pool2 = nn.MaxPool2d(kernel_size=2, stride=2) #(32, 12, 20)\n",
    "\n",
    "        self.conv3 = nn.Conv2d(in_channels=32, out_channels=64, kernel_size=3, padding=1)\n",
    "        self.bn3 = nn.BatchNorm2d(64)\n",
    "        self.act3 = nn.ReLU()\n",
    "        self.pool3 = nn.MaxPool2d(kernel_size=2, stride=2) #64, 6, 10\n",
    "\n",
    "        self.conv4 = nn.Conv2d(in_channels=64, out_channels=128, kernel_size=3, padding=1)\n",
    "        self.bn4 = nn.BatchNorm2d(128)\n",
    "        self.act4 = nn.ReLU()\n",
    "        self.pool4 = nn.MaxPool2d(kernel_size=2, stride=2) #128, 3, 5\n",
    "\n",
    "        #FC layers\n",
    "        self.fc1 = nn.Linear(1920, 512)\n",
    "        self.fc2 = nn.Linear(512, 128)\n",
    "\n",
    "\n",
    "    def forward(self, x):\n",
    "        x = self.pool1(self.act1(self.bn1(self.conv1(x))))\n",
    "        x = self.pool2(self.act2(self.bn2(self.conv2(x))))\n",
    "        x = self.pool3(self.act3(self.bn3(self.conv3(x))))\n",
    "        x = self.pool4(self.act4(self.bn4(self.conv4(x))))\n",
    "\n",
    "\n",
    "        x = x.view(x.size(0), -1)\n",
    "        x = self.fc1(x)\n",
    "        x = self.fc2(x)\n",
    "\n",
    "        return x"
   ]
  },
  {
   "cell_type": "code",
   "execution_count": 298,
   "metadata": {},
   "outputs": [
    {
     "name": "stdout",
     "output_type": "stream",
     "text": [
      "Reading /Volumes/@neurospeech/PROJECTS/BCI/BCOM/DATA_ANALYZED/EVOKED/DATA/WITHOUT_BADS/COVERT/BCOM_18_2_re_144-epo.fif ...\n",
      "    Found the data of interest:\n",
      "        t =    -300.00 ...     500.00 ms\n",
      "        0 CTF compensation matrices available\n",
      "Not setting metadata\n",
      "8 matching events found\n",
      "No baseline correction applied\n",
      "0 projection items activated\n",
      "Reading /Volumes/@neurospeech/PROJECTS/BCI/BCOM/DATA_ANALYZED/EVOKED/DATA/WITHOUT_BADS/COVERT/BCOM_18_2_i_116-epo.fif ...\n",
      "    Found the data of interest:\n",
      "        t =    -300.00 ...     500.00 ms\n",
      "        0 CTF compensation matrices available\n",
      "Not setting metadata\n",
      "12 matching events found\n",
      "No baseline correction applied\n",
      "0 projection items activated\n",
      "Reading /Volumes/@neurospeech/PROJECTS/BCI/BCOM/DATA_ANALYZED/EVOKED/DATA/WITHOUT_BADS/COVERT/BCOM_18_2_a_112-epo.fif ...\n",
      "    Found the data of interest:\n",
      "        t =    -300.00 ...     500.00 ms\n",
      "        0 CTF compensation matrices available\n",
      "Not setting metadata\n",
      "16 matching events found\n",
      "No baseline correction applied\n",
      "0 projection items activated\n",
      "Reading /Volumes/@neurospeech/PROJECTS/BCI/BCOM/DATA_ANALYZED/EVOKED/DATA/WITHOUT_BADS/COVERT/BCOM_18_2_ri_146-epo.fif ...\n",
      "    Found the data of interest:\n",
      "        t =    -300.00 ...     500.00 ms\n",
      "        0 CTF compensation matrices available\n",
      "Not setting metadata\n",
      "13 matching events found\n",
      "No baseline correction applied\n",
      "0 projection items activated\n",
      "Reading /Volumes/@neurospeech/PROJECTS/BCI/BCOM/DATA_ANALYZED/EVOKED/DATA/WITHOUT_BADS/COVERT/BCOM_18_2_sa_152-epo.fif ...\n",
      "    Found the data of interest:\n",
      "        t =    -300.00 ...     500.00 ms\n",
      "        0 CTF compensation matrices available\n",
      "Not setting metadata\n",
      "13 matching events found\n",
      "No baseline correction applied\n",
      "0 projection items activated\n",
      "Reading /Volumes/@neurospeech/PROJECTS/BCI/BCOM/DATA_ANALYZED/EVOKED/DATA/WITHOUT_BADS/COVERT/BCOM_18_2_ma_132-epo.fif ...\n",
      "    Found the data of interest:\n",
      "        t =    -300.00 ...     500.00 ms\n",
      "        0 CTF compensation matrices available\n",
      "Not setting metadata\n",
      "18 matching events found\n",
      "No baseline correction applied\n",
      "0 projection items activated\n",
      "Reading /Volumes/@neurospeech/PROJECTS/BCI/BCOM/DATA_ANALYZED/EVOKED/DATA/WITHOUT_BADS/COVERT/BCOM_18_2_ra_142-epo.fif ...\n",
      "    Found the data of interest:\n",
      "        t =    -300.00 ...     500.00 ms\n",
      "        0 CTF compensation matrices available\n",
      "Not setting metadata\n",
      "14 matching events found\n",
      "No baseline correction applied\n",
      "0 projection items activated\n",
      "Reading /Volumes/@neurospeech/PROJECTS/BCI/BCOM/DATA_ANALYZED/EVOKED/DATA/WITHOUT_BADS/COVERT/BCOM_18_2_te_164-epo.fif ...\n",
      "    Found the data of interest:\n",
      "        t =    -300.00 ...     500.00 ms\n",
      "        0 CTF compensation matrices available\n",
      "Not setting metadata\n",
      "10 matching events found\n",
      "No baseline correction applied\n",
      "0 projection items activated\n",
      "Reading /Volumes/@neurospeech/PROJECTS/BCI/BCOM/DATA_ANALYZED/EVOKED/DATA/WITHOUT_BADS/COVERT/BCOM_18_2_si_156-epo.fif ...\n",
      "    Found the data of interest:\n",
      "        t =    -300.00 ...     500.00 ms\n",
      "        0 CTF compensation matrices available\n",
      "Not setting metadata\n",
      "6 matching events found\n",
      "No baseline correction applied\n",
      "0 projection items activated\n",
      "Reading /Volumes/@neurospeech/PROJECTS/BCI/BCOM/DATA_ANALYZED/EVOKED/DATA/WITHOUT_BADS/COVERT/BCOM_18_2_li_126-epo.fif ...\n",
      "    Found the data of interest:\n",
      "        t =    -300.00 ...     500.00 ms\n",
      "        0 CTF compensation matrices available\n",
      "Not setting metadata\n",
      "14 matching events found\n",
      "No baseline correction applied\n",
      "0 projection items activated\n",
      "Reading /Volumes/@neurospeech/PROJECTS/BCI/BCOM/DATA_ANALYZED/EVOKED/DATA/WITHOUT_BADS/COVERT/BCOM_18_2_ta_162-epo.fif ...\n",
      "    Found the data of interest:\n",
      "        t =    -300.00 ...     500.00 ms\n",
      "        0 CTF compensation matrices available\n",
      "Not setting metadata\n",
      "13 matching events found\n",
      "No baseline correction applied\n",
      "0 projection items activated\n",
      "Reading /Volumes/@neurospeech/PROJECTS/BCI/BCOM/DATA_ANALYZED/EVOKED/DATA/WITHOUT_BADS/COVERT/BCOM_18_2_ti_166-epo.fif ...\n",
      "    Found the data of interest:\n",
      "        t =    -300.00 ...     500.00 ms\n",
      "        0 CTF compensation matrices available\n",
      "Not setting metadata\n",
      "6 matching events found\n",
      "No baseline correction applied\n",
      "0 projection items activated\n",
      "Reading /Volumes/@neurospeech/PROJECTS/BCI/BCOM/DATA_ANALYZED/EVOKED/DATA/WITHOUT_BADS/COVERT/BCOM_18_2_e_114-epo.fif ...\n",
      "    Found the data of interest:\n",
      "        t =    -300.00 ...     500.00 ms\n",
      "        0 CTF compensation matrices available\n",
      "Not setting metadata\n",
      "12 matching events found\n",
      "No baseline correction applied\n",
      "0 projection items activated\n",
      "Reading /Volumes/@neurospeech/PROJECTS/BCI/BCOM/DATA_ANALYZED/EVOKED/DATA/WITHOUT_BADS/COVERT/BCOM_18_2_mi_136-epo.fif ...\n",
      "    Found the data of interest:\n",
      "        t =    -300.00 ...     500.00 ms\n",
      "        0 CTF compensation matrices available\n",
      "Not setting metadata\n",
      "11 matching events found\n",
      "No baseline correction applied\n",
      "0 projection items activated\n",
      "Reading /Volumes/@neurospeech/PROJECTS/BCI/BCOM/DATA_ANALYZED/EVOKED/DATA/WITHOUT_BADS/COVERT/BCOM_18_2_se_154-epo.fif ...\n",
      "    Found the data of interest:\n",
      "        t =    -300.00 ...     500.00 ms\n",
      "        0 CTF compensation matrices available\n",
      "Not setting metadata\n",
      "5 matching events found\n",
      "No baseline correction applied\n",
      "0 projection items activated\n",
      "Reading /Volumes/@neurospeech/PROJECTS/BCI/BCOM/DATA_ANALYZED/EVOKED/DATA/WITHOUT_BADS/COVERT/BCOM_18_2_la_122-epo.fif ...\n",
      "    Found the data of interest:\n",
      "        t =    -300.00 ...     500.00 ms\n",
      "        0 CTF compensation matrices available\n",
      "Not setting metadata\n",
      "16 matching events found\n",
      "No baseline correction applied\n",
      "0 projection items activated\n",
      "Reading /Volumes/@neurospeech/PROJECTS/BCI/BCOM/DATA_ANALYZED/EVOKED/DATA/WITHOUT_BADS/COVERT/BCOM_18_2_me_134-epo.fif ...\n",
      "    Found the data of interest:\n",
      "        t =    -300.00 ...     500.00 ms\n",
      "        0 CTF compensation matrices available\n",
      "Not setting metadata\n",
      "12 matching events found\n",
      "No baseline correction applied\n",
      "0 projection items activated\n",
      "Reading /Volumes/@neurospeech/PROJECTS/BCI/BCOM/DATA_ANALYZED/EVOKED/DATA/WITHOUT_BADS/COVERT/BCOM_18_2_le_124-epo.fif ...\n",
      "    Found the data of interest:\n",
      "        t =    -300.00 ...     500.00 ms\n",
      "        0 CTF compensation matrices available\n",
      "Not setting metadata\n",
      "7 matching events found\n",
      "No baseline correction applied\n",
      "0 projection items activated\n",
      "Reading /Volumes/@neurospeech/PROJECTS/BCI/BCOM/DATA_ANALYZED/EVOKED/DATA/WITHOUT_BADS/COVERT/BCOM_18_3_ma_132-epo.fif ...\n",
      "    Found the data of interest:\n",
      "        t =    -300.00 ...     500.00 ms\n",
      "        0 CTF compensation matrices available\n",
      "Not setting metadata\n",
      "14 matching events found\n",
      "No baseline correction applied\n",
      "0 projection items activated\n",
      "Reading /Volumes/@neurospeech/PROJECTS/BCI/BCOM/DATA_ANALYZED/EVOKED/DATA/WITHOUT_BADS/COVERT/BCOM_18_3_sa_152-epo.fif ...\n",
      "    Found the data of interest:\n",
      "        t =    -300.00 ...     500.00 ms\n",
      "        0 CTF compensation matrices available\n",
      "Not setting metadata\n",
      "7 matching events found\n",
      "No baseline correction applied\n",
      "0 projection items activated\n",
      "Reading /Volumes/@neurospeech/PROJECTS/BCI/BCOM/DATA_ANALYZED/EVOKED/DATA/WITHOUT_BADS/COVERT/BCOM_18_3_mi_136-epo.fif ...\n",
      "    Found the data of interest:\n",
      "        t =    -300.00 ...     500.00 ms\n",
      "        0 CTF compensation matrices available\n",
      "Not setting metadata\n",
      "10 matching events found\n",
      "No baseline correction applied\n",
      "0 projection items activated\n",
      "Reading /Volumes/@neurospeech/PROJECTS/BCI/BCOM/DATA_ANALYZED/EVOKED/DATA/WITHOUT_BADS/COVERT/BCOM_18_3_me_134-epo.fif ...\n",
      "    Found the data of interest:\n",
      "        t =    -300.00 ...     500.00 ms\n",
      "        0 CTF compensation matrices available\n",
      "Not setting metadata\n",
      "11 matching events found\n",
      "No baseline correction applied\n",
      "0 projection items activated\n",
      "Reading /Volumes/@neurospeech/PROJECTS/BCI/BCOM/DATA_ANALYZED/EVOKED/DATA/WITHOUT_BADS/COVERT/BCOM_18_3_li_126-epo.fif ...\n",
      "    Found the data of interest:\n",
      "        t =    -300.00 ...     500.00 ms\n",
      "        0 CTF compensation matrices available\n",
      "Not setting metadata\n",
      "13 matching events found\n",
      "No baseline correction applied\n",
      "0 projection items activated\n",
      "Reading /Volumes/@neurospeech/PROJECTS/BCI/BCOM/DATA_ANALYZED/EVOKED/DATA/WITHOUT_BADS/COVERT/BCOM_18_3_se_154-epo.fif ...\n",
      "    Found the data of interest:\n",
      "        t =    -300.00 ...     500.00 ms\n",
      "        0 CTF compensation matrices available\n",
      "Not setting metadata\n",
      "11 matching events found\n",
      "No baseline correction applied\n",
      "0 projection items activated\n",
      "Reading /Volumes/@neurospeech/PROJECTS/BCI/BCOM/DATA_ANALYZED/EVOKED/DATA/WITHOUT_BADS/COVERT/BCOM_18_3_ra_142-epo.fif ...\n",
      "    Found the data of interest:\n",
      "        t =    -300.00 ...     500.00 ms\n",
      "        0 CTF compensation matrices available\n",
      "Not setting metadata\n",
      "11 matching events found\n",
      "No baseline correction applied\n",
      "0 projection items activated\n",
      "Reading /Volumes/@neurospeech/PROJECTS/BCI/BCOM/DATA_ANALYZED/EVOKED/DATA/WITHOUT_BADS/COVERT/BCOM_18_3_le_124-epo.fif ...\n",
      "    Found the data of interest:\n",
      "        t =    -300.00 ...     500.00 ms\n",
      "        0 CTF compensation matrices available\n",
      "Not setting metadata\n",
      "7 matching events found\n",
      "No baseline correction applied\n",
      "0 projection items activated\n",
      "Reading /Volumes/@neurospeech/PROJECTS/BCI/BCOM/DATA_ANALYZED/EVOKED/DATA/WITHOUT_BADS/COVERT/BCOM_18_3_e_114-epo.fif ...\n",
      "    Found the data of interest:\n",
      "        t =    -300.00 ...     500.00 ms\n",
      "        0 CTF compensation matrices available\n",
      "Not setting metadata\n",
      "9 matching events found\n",
      "No baseline correction applied\n",
      "0 projection items activated\n",
      "Reading /Volumes/@neurospeech/PROJECTS/BCI/BCOM/DATA_ANALYZED/EVOKED/DATA/WITHOUT_BADS/COVERT/BCOM_18_3_ri_146-epo.fif ...\n",
      "    Found the data of interest:\n",
      "        t =    -300.00 ...     500.00 ms\n",
      "        0 CTF compensation matrices available\n",
      "Not setting metadata\n",
      "12 matching events found\n",
      "No baseline correction applied\n",
      "0 projection items activated\n",
      "Reading /Volumes/@neurospeech/PROJECTS/BCI/BCOM/DATA_ANALYZED/EVOKED/DATA/WITHOUT_BADS/COVERT/BCOM_18_3_te_164-epo.fif ...\n",
      "    Found the data of interest:\n",
      "        t =    -300.00 ...     500.00 ms\n",
      "        0 CTF compensation matrices available\n",
      "Not setting metadata\n",
      "13 matching events found\n",
      "No baseline correction applied\n",
      "0 projection items activated\n",
      "Reading /Volumes/@neurospeech/PROJECTS/BCI/BCOM/DATA_ANALYZED/EVOKED/DATA/WITHOUT_BADS/COVERT/BCOM_18_3_a_112-epo.fif ...\n",
      "    Found the data of interest:\n",
      "        t =    -300.00 ...     500.00 ms\n",
      "        0 CTF compensation matrices available\n",
      "Not setting metadata\n",
      "16 matching events found\n",
      "No baseline correction applied\n",
      "0 projection items activated\n",
      "Reading /Volumes/@neurospeech/PROJECTS/BCI/BCOM/DATA_ANALYZED/EVOKED/DATA/WITHOUT_BADS/COVERT/BCOM_18_3_la_122-epo.fif ...\n",
      "    Found the data of interest:\n",
      "        t =    -300.00 ...     500.00 ms\n",
      "        0 CTF compensation matrices available\n",
      "Not setting metadata\n",
      "14 matching events found\n",
      "No baseline correction applied\n",
      "0 projection items activated\n",
      "Reading /Volumes/@neurospeech/PROJECTS/BCI/BCOM/DATA_ANALYZED/EVOKED/DATA/WITHOUT_BADS/COVERT/BCOM_18_3_ta_162-epo.fif ...\n",
      "    Found the data of interest:\n",
      "        t =    -300.00 ...     500.00 ms\n",
      "        0 CTF compensation matrices available\n",
      "Not setting metadata\n",
      "8 matching events found\n",
      "No baseline correction applied\n",
      "0 projection items activated\n",
      "Reading /Volumes/@neurospeech/PROJECTS/BCI/BCOM/DATA_ANALYZED/EVOKED/DATA/WITHOUT_BADS/COVERT/BCOM_18_3_si_156-epo.fif ...\n",
      "    Found the data of interest:\n",
      "        t =    -300.00 ...     500.00 ms\n",
      "        0 CTF compensation matrices available\n",
      "Not setting metadata\n",
      "10 matching events found\n",
      "No baseline correction applied\n",
      "0 projection items activated\n",
      "Reading /Volumes/@neurospeech/PROJECTS/BCI/BCOM/DATA_ANALYZED/EVOKED/DATA/WITHOUT_BADS/COVERT/BCOM_18_3_re_144-epo.fif ...\n",
      "    Found the data of interest:\n",
      "        t =    -300.00 ...     500.00 ms\n",
      "        0 CTF compensation matrices available\n",
      "Not setting metadata\n",
      "12 matching events found\n",
      "No baseline correction applied\n",
      "0 projection items activated\n",
      "Reading /Volumes/@neurospeech/PROJECTS/BCI/BCOM/DATA_ANALYZED/EVOKED/DATA/WITHOUT_BADS/COVERT/BCOM_18_3_i_116-epo.fif ...\n",
      "    Found the data of interest:\n",
      "        t =    -300.00 ...     500.00 ms\n",
      "        0 CTF compensation matrices available\n",
      "Not setting metadata\n",
      "13 matching events found\n",
      "No baseline correction applied\n",
      "0 projection items activated\n",
      "Reading /Volumes/@neurospeech/PROJECTS/BCI/BCOM/DATA_ANALYZED/EVOKED/DATA/WITHOUT_BADS/COVERT/BCOM_18_3_ti_166-epo.fif ...\n",
      "    Found the data of interest:\n",
      "        t =    -300.00 ...     500.00 ms\n",
      "        0 CTF compensation matrices available\n",
      "Not setting metadata\n",
      "14 matching events found\n",
      "No baseline correction applied\n",
      "0 projection items activated\n",
      "Reading /Volumes/@neurospeech/PROJECTS/BCI/BCOM/DATA_ANALYZED/EVOKED/DATA/WITHOUT_BADS/COVERT/BCOM_18_4_a_112-epo.fif ...\n",
      "    Found the data of interest:\n",
      "        t =    -300.00 ...     500.00 ms\n",
      "        0 CTF compensation matrices available\n",
      "Not setting metadata\n",
      "5 matching events found\n",
      "No baseline correction applied\n",
      "0 projection items activated\n",
      "Reading /Volumes/@neurospeech/PROJECTS/BCI/BCOM/DATA_ANALYZED/EVOKED/DATA/WITHOUT_BADS/COVERT/BCOM_18_4_me_134-epo.fif ...\n",
      "    Found the data of interest:\n",
      "        t =    -300.00 ...     500.00 ms\n",
      "        0 CTF compensation matrices available\n",
      "Not setting metadata\n",
      "13 matching events found\n",
      "No baseline correction applied\n",
      "0 projection items activated\n",
      "Reading /Volumes/@neurospeech/PROJECTS/BCI/BCOM/DATA_ANALYZED/EVOKED/DATA/WITHOUT_BADS/COVERT/BCOM_18_4_sa_152-epo.fif ...\n",
      "    Found the data of interest:\n",
      "        t =    -300.00 ...     500.00 ms\n",
      "        0 CTF compensation matrices available\n",
      "Not setting metadata\n",
      "4 matching events found\n",
      "No baseline correction applied\n",
      "0 projection items activated\n",
      "Reading /Volumes/@neurospeech/PROJECTS/BCI/BCOM/DATA_ANALYZED/EVOKED/DATA/WITHOUT_BADS/COVERT/BCOM_18_4_ri_146-epo.fif ...\n",
      "    Found the data of interest:\n",
      "        t =    -300.00 ...     500.00 ms\n",
      "        0 CTF compensation matrices available\n",
      "Not setting metadata\n",
      "13 matching events found\n",
      "No baseline correction applied\n",
      "0 projection items activated\n",
      "Reading /Volumes/@neurospeech/PROJECTS/BCI/BCOM/DATA_ANALYZED/EVOKED/DATA/WITHOUT_BADS/COVERT/BCOM_18_4_i_116-epo.fif ...\n",
      "    Found the data of interest:\n",
      "        t =    -300.00 ...     500.00 ms\n",
      "        0 CTF compensation matrices available\n",
      "Not setting metadata\n",
      "11 matching events found\n",
      "No baseline correction applied\n",
      "0 projection items activated\n",
      "Reading /Volumes/@neurospeech/PROJECTS/BCI/BCOM/DATA_ANALYZED/EVOKED/DATA/WITHOUT_BADS/COVERT/BCOM_18_4_ra_142-epo.fif ...\n",
      "    Found the data of interest:\n",
      "        t =    -300.00 ...     500.00 ms\n",
      "        0 CTF compensation matrices available\n",
      "Not setting metadata\n",
      "13 matching events found\n",
      "No baseline correction applied\n",
      "0 projection items activated\n",
      "Reading /Volumes/@neurospeech/PROJECTS/BCI/BCOM/DATA_ANALYZED/EVOKED/DATA/WITHOUT_BADS/COVERT/BCOM_18_4_te_164-epo.fif ...\n",
      "    Found the data of interest:\n",
      "        t =    -300.00 ...     500.00 ms\n",
      "        0 CTF compensation matrices available\n",
      "Not setting metadata\n",
      "11 matching events found\n",
      "No baseline correction applied\n",
      "0 projection items activated\n",
      "Reading /Volumes/@neurospeech/PROJECTS/BCI/BCOM/DATA_ANALYZED/EVOKED/DATA/WITHOUT_BADS/COVERT/BCOM_18_4_mi_136-epo.fif ...\n",
      "    Found the data of interest:\n",
      "        t =    -300.00 ...     500.00 ms\n",
      "        0 CTF compensation matrices available\n",
      "Not setting metadata\n",
      "18 matching events found\n",
      "No baseline correction applied\n",
      "0 projection items activated\n",
      "Reading /Volumes/@neurospeech/PROJECTS/BCI/BCOM/DATA_ANALYZED/EVOKED/DATA/WITHOUT_BADS/COVERT/BCOM_18_4_le_124-epo.fif ...\n",
      "    Found the data of interest:\n",
      "        t =    -300.00 ...     500.00 ms\n",
      "        0 CTF compensation matrices available\n",
      "Not setting metadata\n",
      "3 matching events found\n",
      "No baseline correction applied\n",
      "0 projection items activated\n",
      "Reading /Volumes/@neurospeech/PROJECTS/BCI/BCOM/DATA_ANALYZED/EVOKED/DATA/WITHOUT_BADS/COVERT/BCOM_18_4_si_156-epo.fif ...\n",
      "    Found the data of interest:\n",
      "        t =    -300.00 ...     500.00 ms\n",
      "        0 CTF compensation matrices available\n",
      "Not setting metadata\n",
      "16 matching events found\n",
      "No baseline correction applied\n",
      "0 projection items activated\n",
      "Reading /Volumes/@neurospeech/PROJECTS/BCI/BCOM/DATA_ANALYZED/EVOKED/DATA/WITHOUT_BADS/COVERT/BCOM_18_4_ma_132-epo.fif ...\n",
      "    Found the data of interest:\n",
      "        t =    -300.00 ...     500.00 ms\n",
      "        0 CTF compensation matrices available\n",
      "Not setting metadata\n",
      "13 matching events found\n",
      "No baseline correction applied\n",
      "0 projection items activated\n",
      "Reading /Volumes/@neurospeech/PROJECTS/BCI/BCOM/DATA_ANALYZED/EVOKED/DATA/WITHOUT_BADS/COVERT/BCOM_18_4_e_114-epo.fif ...\n",
      "    Found the data of interest:\n",
      "        t =    -300.00 ...     500.00 ms\n",
      "        0 CTF compensation matrices available\n",
      "Not setting metadata\n",
      "10 matching events found\n",
      "No baseline correction applied\n",
      "0 projection items activated\n",
      "Reading /Volumes/@neurospeech/PROJECTS/BCI/BCOM/DATA_ANALYZED/EVOKED/DATA/WITHOUT_BADS/COVERT/BCOM_18_4_ta_162-epo.fif ...\n",
      "    Found the data of interest:\n",
      "        t =    -300.00 ...     500.00 ms\n",
      "        0 CTF compensation matrices available\n",
      "Not setting metadata\n",
      "13 matching events found\n",
      "No baseline correction applied\n",
      "0 projection items activated\n",
      "Reading /Volumes/@neurospeech/PROJECTS/BCI/BCOM/DATA_ANALYZED/EVOKED/DATA/WITHOUT_BADS/COVERT/BCOM_18_4_la_122-epo.fif ...\n",
      "    Found the data of interest:\n",
      "        t =    -300.00 ...     500.00 ms\n",
      "        0 CTF compensation matrices available\n",
      "Not setting metadata\n",
      "10 matching events found\n",
      "No baseline correction applied\n",
      "0 projection items activated\n",
      "Reading /Volumes/@neurospeech/PROJECTS/BCI/BCOM/DATA_ANALYZED/EVOKED/DATA/WITHOUT_BADS/COVERT/BCOM_18_4_re_144-epo.fif ...\n",
      "    Found the data of interest:\n",
      "        t =    -300.00 ...     500.00 ms\n",
      "        0 CTF compensation matrices available\n",
      "Not setting metadata\n",
      "12 matching events found\n",
      "No baseline correction applied\n",
      "0 projection items activated\n",
      "Reading /Volumes/@neurospeech/PROJECTS/BCI/BCOM/DATA_ANALYZED/EVOKED/DATA/WITHOUT_BADS/COVERT/BCOM_18_4_ti_166-epo.fif ...\n",
      "    Found the data of interest:\n",
      "        t =    -300.00 ...     500.00 ms\n",
      "        0 CTF compensation matrices available\n",
      "Not setting metadata\n",
      "10 matching events found\n",
      "No baseline correction applied\n",
      "0 projection items activated\n",
      "Reading /Volumes/@neurospeech/PROJECTS/BCI/BCOM/DATA_ANALYZED/EVOKED/DATA/WITHOUT_BADS/COVERT/BCOM_18_4_se_154-epo.fif ...\n",
      "    Found the data of interest:\n",
      "        t =    -300.00 ...     500.00 ms\n",
      "        0 CTF compensation matrices available\n",
      "Not setting metadata\n",
      "7 matching events found\n",
      "No baseline correction applied\n",
      "0 projection items activated\n",
      "Reading /Volumes/@neurospeech/PROJECTS/BCI/BCOM/DATA_ANALYZED/EVOKED/DATA/WITHOUT_BADS/COVERT/BCOM_18_4_li_126-epo.fif ...\n",
      "    Found the data of interest:\n",
      "        t =    -300.00 ...     500.00 ms\n",
      "        0 CTF compensation matrices available\n",
      "Not setting metadata\n",
      "9 matching events found\n",
      "No baseline correction applied\n",
      "0 projection items activated\n"
     ]
    }
   ],
   "source": [
    "dir = '/Volumes/@neurospeech/PROJECTS/BCI/BCOM/DATA_ANALYZED/EVOKED/DATA/WITHOUT_BADS/COVERT'\n",
    "subject = ['BCOM_18_2', 'BCOM_18_3', 'BCOM_18_4']\n",
    "avoid_reading=True\n",
    "picks=None\n",
    "frequencies = np.array(range(2, 100, 2))\n",
    "divisor = 7\n",
    "baseline = (None, 0)\n",
    "\n",
    "data = BcomMEG(subjects=subject, \n",
    "               dir=dir, \n",
    "               picks=picks, \n",
    "               avoid_reading=True)"
   ]
  },
  {
   "cell_type": "code",
   "execution_count": 299,
   "metadata": {},
   "outputs": [
    {
     "name": "stdout",
     "output_type": "stream",
     "text": [
      "NB! Data_only is set to true. To get accurate plots, the extent will have to be set manually, and channels \n",
      "will have to be specified as indexes, not names\n",
      "NOTE: tfr_morlet() is a legacy function. New code should use .compute_tfr(method=\"morlet\").\n"
     ]
    },
    {
     "name": "stderr",
     "output_type": "stream",
     "text": [
      "[Parallel(n_jobs=10)]: Using backend LokyBackend with 10 concurrent workers.\n",
      "[Parallel(n_jobs=10)]: Done   1 out of   1 | elapsed:    0.3s finished\n",
      "[Parallel(n_jobs=10)]: Done   9 tasks      | elapsed:    0.4s\n"
     ]
    },
    {
     "name": "stdout",
     "output_type": "stream",
     "text": [
      "Applying baseline correction (mode: zscore)\n",
      "NOTE: tfr_morlet() is a legacy function. New code should use .compute_tfr(method=\"morlet\").\n"
     ]
    },
    {
     "name": "stderr",
     "output_type": "stream",
     "text": [
      "[Parallel(n_jobs=10)]: Done 173 tasks      | elapsed:    0.6s\n",
      "[Parallel(n_jobs=10)]: Done 247 out of 247 | elapsed:    0.8s finished\n",
      "[Parallel(n_jobs=10)]: Using backend LokyBackend with 10 concurrent workers.\n",
      "[Parallel(n_jobs=10)]: Done   8 tasks      | elapsed:    0.0s\n",
      "[Parallel(n_jobs=10)]: Done 172 tasks      | elapsed:    0.3s\n"
     ]
    },
    {
     "name": "stdout",
     "output_type": "stream",
     "text": [
      "Applying baseline correction (mode: zscore)\n",
      "NOTE: tfr_morlet() is a legacy function. New code should use .compute_tfr(method=\"morlet\").\n",
      "Applying baseline correction (mode: zscore)\n",
      "NOTE: tfr_morlet() is a legacy function. New code should use .compute_tfr(method=\"morlet\").\n"
     ]
    },
    {
     "name": "stderr",
     "output_type": "stream",
     "text": [
      "[Parallel(n_jobs=10)]: Done 247 out of 247 | elapsed:    1.6s finished\n",
      "[Parallel(n_jobs=10)]: Using backend LokyBackend with 10 concurrent workers.\n",
      "[Parallel(n_jobs=10)]: Done   8 tasks      | elapsed:    0.0s\n",
      "[Parallel(n_jobs=10)]: Done 172 tasks      | elapsed:    0.1s\n",
      "[Parallel(n_jobs=10)]: Done 247 out of 247 | elapsed:    0.1s finished\n",
      "[Parallel(n_jobs=10)]: Using backend LokyBackend with 10 concurrent workers.\n",
      "[Parallel(n_jobs=10)]: Done   8 tasks      | elapsed:    0.0s\n"
     ]
    },
    {
     "name": "stdout",
     "output_type": "stream",
     "text": [
      "Applying baseline correction (mode: zscore)\n",
      "NOTE: tfr_morlet() is a legacy function. New code should use .compute_tfr(method=\"morlet\").\n",
      "Applying baseline correction (mode: zscore)\n",
      "NOTE: tfr_morlet() is a legacy function. New code should use .compute_tfr(method=\"morlet\").\n"
     ]
    },
    {
     "name": "stderr",
     "output_type": "stream",
     "text": [
      "[Parallel(n_jobs=10)]: Done 172 tasks      | elapsed:    0.0s\n",
      "[Parallel(n_jobs=10)]: Done 247 out of 247 | elapsed:    0.1s finished\n",
      "[Parallel(n_jobs=10)]: Using backend LokyBackend with 10 concurrent workers.\n",
      "[Parallel(n_jobs=10)]: Done   8 tasks      | elapsed:    0.0s\n",
      "[Parallel(n_jobs=10)]: Done 172 tasks      | elapsed:    0.0s\n",
      "[Parallel(n_jobs=10)]: Done 247 out of 247 | elapsed:    0.1s finished\n",
      "[Parallel(n_jobs=10)]: Using backend LokyBackend with 10 concurrent workers.\n",
      "[Parallel(n_jobs=10)]: Done   8 tasks      | elapsed:    0.0s\n"
     ]
    },
    {
     "name": "stdout",
     "output_type": "stream",
     "text": [
      "Applying baseline correction (mode: zscore)\n",
      "NOTE: tfr_morlet() is a legacy function. New code should use .compute_tfr(method=\"morlet\").\n",
      "Applying baseline correction (mode: zscore)\n",
      "NOTE: tfr_morlet() is a legacy function. New code should use .compute_tfr(method=\"morlet\").\n"
     ]
    },
    {
     "name": "stderr",
     "output_type": "stream",
     "text": [
      "[Parallel(n_jobs=10)]: Done 172 tasks      | elapsed:    0.1s\n",
      "[Parallel(n_jobs=10)]: Done 247 out of 247 | elapsed:    0.1s finished\n",
      "[Parallel(n_jobs=10)]: Using backend LokyBackend with 10 concurrent workers.\n",
      "[Parallel(n_jobs=10)]: Done   8 tasks      | elapsed:    0.0s\n",
      "[Parallel(n_jobs=10)]: Done 172 tasks      | elapsed:    0.0s\n",
      "[Parallel(n_jobs=10)]: Done 247 out of 247 | elapsed:    0.1s finished\n",
      "[Parallel(n_jobs=10)]: Using backend LokyBackend with 10 concurrent workers.\n",
      "[Parallel(n_jobs=10)]: Done   8 tasks      | elapsed:    0.0s\n"
     ]
    },
    {
     "name": "stdout",
     "output_type": "stream",
     "text": [
      "Applying baseline correction (mode: zscore)\n",
      "NOTE: tfr_morlet() is a legacy function. New code should use .compute_tfr(method=\"morlet\").\n",
      "Applying baseline correction (mode: zscore)\n",
      "NOTE: tfr_morlet() is a legacy function. New code should use .compute_tfr(method=\"morlet\").\n"
     ]
    },
    {
     "name": "stderr",
     "output_type": "stream",
     "text": [
      "[Parallel(n_jobs=10)]: Done 172 tasks      | elapsed:    0.1s\n",
      "[Parallel(n_jobs=10)]: Done 247 out of 247 | elapsed:    0.1s finished\n",
      "[Parallel(n_jobs=10)]: Using backend LokyBackend with 10 concurrent workers.\n",
      "[Parallel(n_jobs=10)]: Done   8 tasks      | elapsed:    0.0s\n",
      "[Parallel(n_jobs=10)]: Done 172 tasks      | elapsed:    0.1s\n",
      "[Parallel(n_jobs=10)]: Done 247 out of 247 | elapsed:    0.1s finished\n",
      "[Parallel(n_jobs=10)]: Using backend LokyBackend with 10 concurrent workers.\n",
      "[Parallel(n_jobs=10)]: Done   8 tasks      | elapsed:    0.0s\n"
     ]
    },
    {
     "name": "stdout",
     "output_type": "stream",
     "text": [
      "Applying baseline correction (mode: zscore)\n",
      "NOTE: tfr_morlet() is a legacy function. New code should use .compute_tfr(method=\"morlet\").\n",
      "Applying baseline correction (mode: zscore)\n",
      "NOTE: tfr_morlet() is a legacy function. New code should use .compute_tfr(method=\"morlet\").\n"
     ]
    },
    {
     "name": "stderr",
     "output_type": "stream",
     "text": [
      "[Parallel(n_jobs=10)]: Done 172 tasks      | elapsed:    0.1s\n",
      "[Parallel(n_jobs=10)]: Done 247 out of 247 | elapsed:    0.1s finished\n",
      "[Parallel(n_jobs=10)]: Using backend LokyBackend with 10 concurrent workers.\n",
      "[Parallel(n_jobs=10)]: Done   8 tasks      | elapsed:    0.0s\n",
      "[Parallel(n_jobs=10)]: Done 172 tasks      | elapsed:    0.1s\n",
      "[Parallel(n_jobs=10)]: Done 247 out of 247 | elapsed:    0.1s finished\n",
      "[Parallel(n_jobs=10)]: Using backend LokyBackend with 10 concurrent workers.\n",
      "[Parallel(n_jobs=10)]: Done   8 tasks      | elapsed:    0.0s\n"
     ]
    },
    {
     "name": "stdout",
     "output_type": "stream",
     "text": [
      "Applying baseline correction (mode: zscore)\n",
      "NOTE: tfr_morlet() is a legacy function. New code should use .compute_tfr(method=\"morlet\").\n",
      "Applying baseline correction (mode: zscore)\n",
      "NOTE: tfr_morlet() is a legacy function. New code should use .compute_tfr(method=\"morlet\").\n"
     ]
    },
    {
     "name": "stderr",
     "output_type": "stream",
     "text": [
      "[Parallel(n_jobs=10)]: Done 172 tasks      | elapsed:    0.0s\n",
      "[Parallel(n_jobs=10)]: Done 247 out of 247 | elapsed:    0.1s finished\n",
      "[Parallel(n_jobs=10)]: Using backend LokyBackend with 10 concurrent workers.\n",
      "[Parallel(n_jobs=10)]: Done   8 tasks      | elapsed:    0.0s\n",
      "[Parallel(n_jobs=10)]: Done 172 tasks      | elapsed:    0.0s\n",
      "[Parallel(n_jobs=10)]: Done 247 out of 247 | elapsed:    0.1s finished\n",
      "[Parallel(n_jobs=10)]: Using backend LokyBackend with 10 concurrent workers.\n",
      "[Parallel(n_jobs=10)]: Done   8 tasks      | elapsed:    0.0s\n"
     ]
    },
    {
     "name": "stdout",
     "output_type": "stream",
     "text": [
      "Applying baseline correction (mode: zscore)\n",
      "NOTE: tfr_morlet() is a legacy function. New code should use .compute_tfr(method=\"morlet\").\n",
      "Applying baseline correction (mode: zscore)\n",
      "NOTE: tfr_morlet() is a legacy function. New code should use .compute_tfr(method=\"morlet\").\n"
     ]
    },
    {
     "name": "stderr",
     "output_type": "stream",
     "text": [
      "[Parallel(n_jobs=10)]: Done 172 tasks      | elapsed:    0.0s\n",
      "[Parallel(n_jobs=10)]: Done 247 out of 247 | elapsed:    0.1s finished\n",
      "[Parallel(n_jobs=10)]: Using backend LokyBackend with 10 concurrent workers.\n",
      "[Parallel(n_jobs=10)]: Done   8 tasks      | elapsed:    0.0s\n",
      "[Parallel(n_jobs=10)]: Done 172 tasks      | elapsed:    0.0s\n",
      "[Parallel(n_jobs=10)]: Done 247 out of 247 | elapsed:    0.1s finished\n",
      "[Parallel(n_jobs=10)]: Using backend LokyBackend with 10 concurrent workers.\n",
      "[Parallel(n_jobs=10)]: Done   8 tasks      | elapsed:    0.0s\n"
     ]
    },
    {
     "name": "stdout",
     "output_type": "stream",
     "text": [
      "Applying baseline correction (mode: zscore)\n",
      "NOTE: tfr_morlet() is a legacy function. New code should use .compute_tfr(method=\"morlet\").\n",
      "Applying baseline correction (mode: zscore)\n",
      "NOTE: tfr_morlet() is a legacy function. New code should use .compute_tfr(method=\"morlet\").\n"
     ]
    },
    {
     "name": "stderr",
     "output_type": "stream",
     "text": [
      "[Parallel(n_jobs=10)]: Done 172 tasks      | elapsed:    0.0s\n",
      "[Parallel(n_jobs=10)]: Done 247 out of 247 | elapsed:    0.1s finished\n",
      "[Parallel(n_jobs=10)]: Using backend LokyBackend with 10 concurrent workers.\n",
      "[Parallel(n_jobs=10)]: Done   8 tasks      | elapsed:    0.0s\n",
      "[Parallel(n_jobs=10)]: Done 172 tasks      | elapsed:    0.0s\n",
      "[Parallel(n_jobs=10)]: Done 247 out of 247 | elapsed:    0.1s finished\n",
      "[Parallel(n_jobs=10)]: Using backend LokyBackend with 10 concurrent workers.\n",
      "[Parallel(n_jobs=10)]: Done   8 tasks      | elapsed:    0.0s\n"
     ]
    },
    {
     "name": "stdout",
     "output_type": "stream",
     "text": [
      "Applying baseline correction (mode: zscore)\n",
      "NOTE: tfr_morlet() is a legacy function. New code should use .compute_tfr(method=\"morlet\").\n",
      "Applying baseline correction (mode: zscore)\n",
      "NOTE: tfr_morlet() is a legacy function. New code should use .compute_tfr(method=\"morlet\").\n"
     ]
    },
    {
     "name": "stderr",
     "output_type": "stream",
     "text": [
      "[Parallel(n_jobs=10)]: Done 172 tasks      | elapsed:    0.0s\n",
      "[Parallel(n_jobs=10)]: Done 247 out of 247 | elapsed:    0.1s finished\n",
      "[Parallel(n_jobs=10)]: Using backend LokyBackend with 10 concurrent workers.\n",
      "[Parallel(n_jobs=10)]: Done   8 tasks      | elapsed:    0.0s\n",
      "[Parallel(n_jobs=10)]: Done 172 tasks      | elapsed:    0.0s\n",
      "[Parallel(n_jobs=10)]: Done 247 out of 247 | elapsed:    0.1s finished\n",
      "[Parallel(n_jobs=10)]: Using backend LokyBackend with 10 concurrent workers.\n",
      "[Parallel(n_jobs=10)]: Done   8 tasks      | elapsed:    0.0s\n"
     ]
    },
    {
     "name": "stdout",
     "output_type": "stream",
     "text": [
      "Applying baseline correction (mode: zscore)\n",
      "NOTE: tfr_morlet() is a legacy function. New code should use .compute_tfr(method=\"morlet\").\n",
      "Applying baseline correction (mode: zscore)\n",
      "NOTE: tfr_morlet() is a legacy function. New code should use .compute_tfr(method=\"morlet\").\n"
     ]
    },
    {
     "name": "stderr",
     "output_type": "stream",
     "text": [
      "[Parallel(n_jobs=10)]: Done 172 tasks      | elapsed:    0.0s\n",
      "[Parallel(n_jobs=10)]: Done 247 out of 247 | elapsed:    0.1s finished\n",
      "[Parallel(n_jobs=10)]: Using backend LokyBackend with 10 concurrent workers.\n",
      "[Parallel(n_jobs=10)]: Done   8 tasks      | elapsed:    0.0s\n",
      "[Parallel(n_jobs=10)]: Done 172 tasks      | elapsed:    0.0s\n",
      "[Parallel(n_jobs=10)]: Done 247 out of 247 | elapsed:    0.1s finished\n",
      "[Parallel(n_jobs=10)]: Using backend LokyBackend with 10 concurrent workers.\n",
      "[Parallel(n_jobs=10)]: Done   8 tasks      | elapsed:    0.0s\n"
     ]
    },
    {
     "name": "stdout",
     "output_type": "stream",
     "text": [
      "Applying baseline correction (mode: zscore)\n",
      "NOTE: tfr_morlet() is a legacy function. New code should use .compute_tfr(method=\"morlet\").\n",
      "Applying baseline correction (mode: zscore)\n",
      "NOTE: tfr_morlet() is a legacy function. New code should use .compute_tfr(method=\"morlet\").\n"
     ]
    },
    {
     "name": "stderr",
     "output_type": "stream",
     "text": [
      "[Parallel(n_jobs=10)]: Done 172 tasks      | elapsed:    0.1s\n",
      "[Parallel(n_jobs=10)]: Done 247 out of 247 | elapsed:    0.1s finished\n",
      "[Parallel(n_jobs=10)]: Using backend LokyBackend with 10 concurrent workers.\n",
      "[Parallel(n_jobs=10)]: Done   8 tasks      | elapsed:    0.0s\n",
      "[Parallel(n_jobs=10)]: Done 172 tasks      | elapsed:    0.1s\n",
      "[Parallel(n_jobs=10)]: Done 247 out of 247 | elapsed:    0.1s finished\n",
      "[Parallel(n_jobs=10)]: Using backend LokyBackend with 10 concurrent workers.\n",
      "[Parallel(n_jobs=10)]: Done   8 tasks      | elapsed:    0.0s\n"
     ]
    },
    {
     "name": "stdout",
     "output_type": "stream",
     "text": [
      "Applying baseline correction (mode: zscore)\n",
      "NOTE: tfr_morlet() is a legacy function. New code should use .compute_tfr(method=\"morlet\").\n",
      "Applying baseline correction (mode: zscore)\n",
      "NOTE: tfr_morlet() is a legacy function. New code should use .compute_tfr(method=\"morlet\").\n"
     ]
    },
    {
     "name": "stderr",
     "output_type": "stream",
     "text": [
      "[Parallel(n_jobs=10)]: Done 172 tasks      | elapsed:    0.0s\n",
      "[Parallel(n_jobs=10)]: Done 247 out of 247 | elapsed:    0.1s finished\n",
      "[Parallel(n_jobs=10)]: Using backend LokyBackend with 10 concurrent workers.\n",
      "[Parallel(n_jobs=10)]: Done   8 tasks      | elapsed:    0.0s\n",
      "[Parallel(n_jobs=10)]: Done 172 tasks      | elapsed:    0.0s\n",
      "[Parallel(n_jobs=10)]: Done 247 out of 247 | elapsed:    0.1s finished\n",
      "[Parallel(n_jobs=10)]: Using backend LokyBackend with 10 concurrent workers.\n",
      "[Parallel(n_jobs=10)]: Done   8 tasks      | elapsed:    0.0s\n"
     ]
    },
    {
     "name": "stdout",
     "output_type": "stream",
     "text": [
      "Applying baseline correction (mode: zscore)\n",
      "NOTE: tfr_morlet() is a legacy function. New code should use .compute_tfr(method=\"morlet\").\n",
      "Applying baseline correction (mode: zscore)\n",
      "NOTE: tfr_morlet() is a legacy function. New code should use .compute_tfr(method=\"morlet\").\n"
     ]
    },
    {
     "name": "stderr",
     "output_type": "stream",
     "text": [
      "[Parallel(n_jobs=10)]: Done 172 tasks      | elapsed:    0.0s\n",
      "[Parallel(n_jobs=10)]: Done 247 out of 247 | elapsed:    0.1s finished\n",
      "[Parallel(n_jobs=10)]: Using backend LokyBackend with 10 concurrent workers.\n",
      "[Parallel(n_jobs=10)]: Done   8 tasks      | elapsed:    0.0s\n",
      "[Parallel(n_jobs=10)]: Done 172 tasks      | elapsed:    0.0s\n",
      "[Parallel(n_jobs=10)]: Done 247 out of 247 | elapsed:    0.1s finished\n",
      "[Parallel(n_jobs=10)]: Using backend LokyBackend with 10 concurrent workers.\n",
      "[Parallel(n_jobs=10)]: Done   8 tasks      | elapsed:    0.0s\n"
     ]
    },
    {
     "name": "stdout",
     "output_type": "stream",
     "text": [
      "Applying baseline correction (mode: zscore)\n",
      "NOTE: tfr_morlet() is a legacy function. New code should use .compute_tfr(method=\"morlet\").\n",
      "Applying baseline correction (mode: zscore)\n",
      "NOTE: tfr_morlet() is a legacy function. New code should use .compute_tfr(method=\"morlet\").\n"
     ]
    },
    {
     "name": "stderr",
     "output_type": "stream",
     "text": [
      "[Parallel(n_jobs=10)]: Done 172 tasks      | elapsed:    0.0s\n",
      "[Parallel(n_jobs=10)]: Done 247 out of 247 | elapsed:    0.1s finished\n",
      "[Parallel(n_jobs=10)]: Using backend LokyBackend with 10 concurrent workers.\n",
      "[Parallel(n_jobs=10)]: Done   8 tasks      | elapsed:    0.0s\n",
      "[Parallel(n_jobs=10)]: Done 172 tasks      | elapsed:    0.0s\n",
      "[Parallel(n_jobs=10)]: Done 247 out of 247 | elapsed:    0.1s finished\n",
      "[Parallel(n_jobs=10)]: Using backend LokyBackend with 10 concurrent workers.\n",
      "[Parallel(n_jobs=10)]: Done   8 tasks      | elapsed:    0.0s\n"
     ]
    },
    {
     "name": "stdout",
     "output_type": "stream",
     "text": [
      "Applying baseline correction (mode: zscore)\n",
      "NOTE: tfr_morlet() is a legacy function. New code should use .compute_tfr(method=\"morlet\").\n",
      "Applying baseline correction (mode: zscore)\n",
      "NOTE: tfr_morlet() is a legacy function. New code should use .compute_tfr(method=\"morlet\").\n"
     ]
    },
    {
     "name": "stderr",
     "output_type": "stream",
     "text": [
      "[Parallel(n_jobs=10)]: Done 172 tasks      | elapsed:    0.0s\n",
      "[Parallel(n_jobs=10)]: Done 247 out of 247 | elapsed:    0.1s finished\n",
      "[Parallel(n_jobs=10)]: Using backend LokyBackend with 10 concurrent workers.\n",
      "[Parallel(n_jobs=10)]: Done   8 tasks      | elapsed:    0.0s\n",
      "[Parallel(n_jobs=10)]: Done 172 tasks      | elapsed:    0.0s\n",
      "[Parallel(n_jobs=10)]: Done 247 out of 247 | elapsed:    0.1s finished\n",
      "[Parallel(n_jobs=10)]: Using backend LokyBackend with 10 concurrent workers.\n",
      "[Parallel(n_jobs=10)]: Done   8 tasks      | elapsed:    0.0s\n"
     ]
    },
    {
     "name": "stdout",
     "output_type": "stream",
     "text": [
      "Applying baseline correction (mode: zscore)\n",
      "NOTE: tfr_morlet() is a legacy function. New code should use .compute_tfr(method=\"morlet\").\n",
      "Applying baseline correction (mode: zscore)\n",
      "NOTE: tfr_morlet() is a legacy function. New code should use .compute_tfr(method=\"morlet\").\n"
     ]
    },
    {
     "name": "stderr",
     "output_type": "stream",
     "text": [
      "[Parallel(n_jobs=10)]: Done 172 tasks      | elapsed:    0.0s\n",
      "[Parallel(n_jobs=10)]: Done 247 out of 247 | elapsed:    0.1s finished\n",
      "[Parallel(n_jobs=10)]: Using backend LokyBackend with 10 concurrent workers.\n",
      "[Parallel(n_jobs=10)]: Done   8 tasks      | elapsed:    0.0s\n",
      "[Parallel(n_jobs=10)]: Done 172 tasks      | elapsed:    0.0s\n",
      "[Parallel(n_jobs=10)]: Done 247 out of 247 | elapsed:    0.1s finished\n",
      "[Parallel(n_jobs=10)]: Using backend LokyBackend with 10 concurrent workers.\n",
      "[Parallel(n_jobs=10)]: Done   8 tasks      | elapsed:    0.0s\n"
     ]
    },
    {
     "name": "stdout",
     "output_type": "stream",
     "text": [
      "Applying baseline correction (mode: zscore)\n",
      "NOTE: tfr_morlet() is a legacy function. New code should use .compute_tfr(method=\"morlet\").\n",
      "Applying baseline correction (mode: zscore)\n",
      "NOTE: tfr_morlet() is a legacy function. New code should use .compute_tfr(method=\"morlet\").\n"
     ]
    },
    {
     "name": "stderr",
     "output_type": "stream",
     "text": [
      "[Parallel(n_jobs=10)]: Done 172 tasks      | elapsed:    0.0s\n",
      "[Parallel(n_jobs=10)]: Done 247 out of 247 | elapsed:    0.1s finished\n",
      "[Parallel(n_jobs=10)]: Using backend LokyBackend with 10 concurrent workers.\n",
      "[Parallel(n_jobs=10)]: Done   8 tasks      | elapsed:    0.0s\n",
      "[Parallel(n_jobs=10)]: Done 172 tasks      | elapsed:    0.0s\n",
      "[Parallel(n_jobs=10)]: Done 247 out of 247 | elapsed:    0.1s finished\n",
      "[Parallel(n_jobs=10)]: Using backend LokyBackend with 10 concurrent workers.\n",
      "[Parallel(n_jobs=10)]: Done   8 tasks      | elapsed:    0.0s\n"
     ]
    },
    {
     "name": "stdout",
     "output_type": "stream",
     "text": [
      "Applying baseline correction (mode: zscore)\n",
      "NOTE: tfr_morlet() is a legacy function. New code should use .compute_tfr(method=\"morlet\").\n",
      "Applying baseline correction (mode: zscore)\n",
      "NOTE: tfr_morlet() is a legacy function. New code should use .compute_tfr(method=\"morlet\").\n"
     ]
    },
    {
     "name": "stderr",
     "output_type": "stream",
     "text": [
      "[Parallel(n_jobs=10)]: Done 172 tasks      | elapsed:    0.1s\n",
      "[Parallel(n_jobs=10)]: Done 247 out of 247 | elapsed:    0.1s finished\n",
      "[Parallel(n_jobs=10)]: Using backend LokyBackend with 10 concurrent workers.\n",
      "[Parallel(n_jobs=10)]: Done   8 tasks      | elapsed:    0.0s\n",
      "[Parallel(n_jobs=10)]: Done 172 tasks      | elapsed:    0.0s\n",
      "[Parallel(n_jobs=10)]: Done 247 out of 247 | elapsed:    0.1s finished\n",
      "[Parallel(n_jobs=10)]: Using backend LokyBackend with 10 concurrent workers.\n",
      "[Parallel(n_jobs=10)]: Done   8 tasks      | elapsed:    0.0s\n"
     ]
    },
    {
     "name": "stdout",
     "output_type": "stream",
     "text": [
      "Applying baseline correction (mode: zscore)\n",
      "NOTE: tfr_morlet() is a legacy function. New code should use .compute_tfr(method=\"morlet\").\n",
      "Applying baseline correction (mode: zscore)\n",
      "NOTE: tfr_morlet() is a legacy function. New code should use .compute_tfr(method=\"morlet\").\n"
     ]
    },
    {
     "name": "stderr",
     "output_type": "stream",
     "text": [
      "[Parallel(n_jobs=10)]: Done 172 tasks      | elapsed:    0.0s\n",
      "[Parallel(n_jobs=10)]: Done 247 out of 247 | elapsed:    0.1s finished\n",
      "[Parallel(n_jobs=10)]: Using backend LokyBackend with 10 concurrent workers.\n",
      "[Parallel(n_jobs=10)]: Done   8 tasks      | elapsed:    0.0s\n",
      "[Parallel(n_jobs=10)]: Done 172 tasks      | elapsed:    0.1s\n",
      "[Parallel(n_jobs=10)]: Done 247 out of 247 | elapsed:    0.1s finished\n",
      "[Parallel(n_jobs=10)]: Using backend LokyBackend with 10 concurrent workers.\n",
      "[Parallel(n_jobs=10)]: Done   8 tasks      | elapsed:    0.0s\n"
     ]
    },
    {
     "name": "stdout",
     "output_type": "stream",
     "text": [
      "Applying baseline correction (mode: zscore)\n",
      "NOTE: tfr_morlet() is a legacy function. New code should use .compute_tfr(method=\"morlet\").\n",
      "Applying baseline correction (mode: zscore)\n",
      "NOTE: tfr_morlet() is a legacy function. New code should use .compute_tfr(method=\"morlet\").\n"
     ]
    },
    {
     "name": "stderr",
     "output_type": "stream",
     "text": [
      "[Parallel(n_jobs=10)]: Done 172 tasks      | elapsed:    0.1s\n",
      "[Parallel(n_jobs=10)]: Done 247 out of 247 | elapsed:    0.1s finished\n",
      "[Parallel(n_jobs=10)]: Using backend LokyBackend with 10 concurrent workers.\n",
      "[Parallel(n_jobs=10)]: Done   8 tasks      | elapsed:    0.0s\n",
      "[Parallel(n_jobs=10)]: Done 172 tasks      | elapsed:    0.1s\n",
      "[Parallel(n_jobs=10)]: Done 247 out of 247 | elapsed:    0.1s finished\n",
      "[Parallel(n_jobs=10)]: Using backend LokyBackend with 10 concurrent workers.\n",
      "[Parallel(n_jobs=10)]: Done   8 tasks      | elapsed:    0.0s\n"
     ]
    },
    {
     "name": "stdout",
     "output_type": "stream",
     "text": [
      "Applying baseline correction (mode: zscore)\n",
      "NOTE: tfr_morlet() is a legacy function. New code should use .compute_tfr(method=\"morlet\").\n",
      "Applying baseline correction (mode: zscore)\n",
      "NOTE: tfr_morlet() is a legacy function. New code should use .compute_tfr(method=\"morlet\").\n"
     ]
    },
    {
     "name": "stderr",
     "output_type": "stream",
     "text": [
      "[Parallel(n_jobs=10)]: Done 172 tasks      | elapsed:    0.1s\n",
      "[Parallel(n_jobs=10)]: Done 247 out of 247 | elapsed:    0.1s finished\n",
      "[Parallel(n_jobs=10)]: Using backend LokyBackend with 10 concurrent workers.\n",
      "[Parallel(n_jobs=10)]: Done   8 tasks      | elapsed:    0.0s\n",
      "[Parallel(n_jobs=10)]: Done 172 tasks      | elapsed:    0.0s\n",
      "[Parallel(n_jobs=10)]: Done 247 out of 247 | elapsed:    0.1s finished\n",
      "[Parallel(n_jobs=10)]: Using backend LokyBackend with 10 concurrent workers.\n",
      "[Parallel(n_jobs=10)]: Done   8 tasks      | elapsed:    0.0s\n"
     ]
    },
    {
     "name": "stdout",
     "output_type": "stream",
     "text": [
      "Applying baseline correction (mode: zscore)\n",
      "NOTE: tfr_morlet() is a legacy function. New code should use .compute_tfr(method=\"morlet\").\n",
      "Applying baseline correction (mode: zscore)\n",
      "NOTE: tfr_morlet() is a legacy function. New code should use .compute_tfr(method=\"morlet\").\n"
     ]
    },
    {
     "name": "stderr",
     "output_type": "stream",
     "text": [
      "[Parallel(n_jobs=10)]: Done 172 tasks      | elapsed:    0.1s\n",
      "[Parallel(n_jobs=10)]: Done 247 out of 247 | elapsed:    0.1s finished\n",
      "[Parallel(n_jobs=10)]: Using backend LokyBackend with 10 concurrent workers.\n",
      "[Parallel(n_jobs=10)]: Done   8 tasks      | elapsed:    0.0s\n",
      "[Parallel(n_jobs=10)]: Done 172 tasks      | elapsed:    0.0s\n",
      "[Parallel(n_jobs=10)]: Done 247 out of 247 | elapsed:    0.1s finished\n",
      "[Parallel(n_jobs=10)]: Using backend LokyBackend with 10 concurrent workers.\n",
      "[Parallel(n_jobs=10)]: Done   8 tasks      | elapsed:    0.0s\n"
     ]
    },
    {
     "name": "stdout",
     "output_type": "stream",
     "text": [
      "Applying baseline correction (mode: zscore)\n",
      "NOTE: tfr_morlet() is a legacy function. New code should use .compute_tfr(method=\"morlet\").\n",
      "Applying baseline correction (mode: zscore)\n",
      "NOTE: tfr_morlet() is a legacy function. New code should use .compute_tfr(method=\"morlet\").\n"
     ]
    },
    {
     "name": "stderr",
     "output_type": "stream",
     "text": [
      "[Parallel(n_jobs=10)]: Done 172 tasks      | elapsed:    0.1s\n",
      "[Parallel(n_jobs=10)]: Done 247 out of 247 | elapsed:    0.2s finished\n",
      "[Parallel(n_jobs=10)]: Using backend LokyBackend with 10 concurrent workers.\n",
      "[Parallel(n_jobs=10)]: Done   8 tasks      | elapsed:    0.0s\n",
      "[Parallel(n_jobs=10)]: Done 172 tasks      | elapsed:    0.0s\n",
      "[Parallel(n_jobs=10)]: Done 247 out of 247 | elapsed:    0.1s finished\n",
      "[Parallel(n_jobs=10)]: Using backend LokyBackend with 10 concurrent workers.\n",
      "[Parallel(n_jobs=10)]: Done   8 tasks      | elapsed:    0.0s\n"
     ]
    },
    {
     "name": "stdout",
     "output_type": "stream",
     "text": [
      "Applying baseline correction (mode: zscore)\n",
      "NOTE: tfr_morlet() is a legacy function. New code should use .compute_tfr(method=\"morlet\").\n",
      "Applying baseline correction (mode: zscore)\n",
      "NOTE: tfr_morlet() is a legacy function. New code should use .compute_tfr(method=\"morlet\").\n"
     ]
    },
    {
     "name": "stderr",
     "output_type": "stream",
     "text": [
      "[Parallel(n_jobs=10)]: Done 172 tasks      | elapsed:    0.0s\n",
      "[Parallel(n_jobs=10)]: Done 247 out of 247 | elapsed:    0.1s finished\n",
      "[Parallel(n_jobs=10)]: Using backend LokyBackend with 10 concurrent workers.\n",
      "[Parallel(n_jobs=10)]: Done   8 tasks      | elapsed:    0.0s\n",
      "[Parallel(n_jobs=10)]: Done 172 tasks      | elapsed:    0.0s\n",
      "[Parallel(n_jobs=10)]: Done 247 out of 247 | elapsed:    0.1s finished\n",
      "[Parallel(n_jobs=10)]: Using backend LokyBackend with 10 concurrent workers.\n",
      "[Parallel(n_jobs=10)]: Done   8 tasks      | elapsed:    0.0s\n"
     ]
    },
    {
     "name": "stdout",
     "output_type": "stream",
     "text": [
      "Applying baseline correction (mode: zscore)\n",
      "NOTE: tfr_morlet() is a legacy function. New code should use .compute_tfr(method=\"morlet\").\n",
      "Applying baseline correction (mode: zscore)\n",
      "NOTE: tfr_morlet() is a legacy function. New code should use .compute_tfr(method=\"morlet\").\n"
     ]
    },
    {
     "name": "stderr",
     "output_type": "stream",
     "text": [
      "[Parallel(n_jobs=10)]: Done 172 tasks      | elapsed:    0.0s\n",
      "[Parallel(n_jobs=10)]: Done 247 out of 247 | elapsed:    0.1s finished\n",
      "[Parallel(n_jobs=10)]: Using backend LokyBackend with 10 concurrent workers.\n",
      "[Parallel(n_jobs=10)]: Done   8 tasks      | elapsed:    0.0s\n",
      "[Parallel(n_jobs=10)]: Done 172 tasks      | elapsed:    0.0s\n",
      "[Parallel(n_jobs=10)]: Done 247 out of 247 | elapsed:    0.1s finished\n",
      "[Parallel(n_jobs=10)]: Using backend LokyBackend with 10 concurrent workers.\n",
      "[Parallel(n_jobs=10)]: Done   8 tasks      | elapsed:    0.0s\n"
     ]
    },
    {
     "name": "stdout",
     "output_type": "stream",
     "text": [
      "Applying baseline correction (mode: zscore)\n",
      "NOTE: tfr_morlet() is a legacy function. New code should use .compute_tfr(method=\"morlet\").\n",
      "Applying baseline correction (mode: zscore)\n",
      "NOTE: tfr_morlet() is a legacy function. New code should use .compute_tfr(method=\"morlet\").\n"
     ]
    },
    {
     "name": "stderr",
     "output_type": "stream",
     "text": [
      "[Parallel(n_jobs=10)]: Done 172 tasks      | elapsed:    0.0s\n",
      "[Parallel(n_jobs=10)]: Done 247 out of 247 | elapsed:    0.1s finished\n",
      "[Parallel(n_jobs=10)]: Using backend LokyBackend with 10 concurrent workers.\n",
      "[Parallel(n_jobs=10)]: Done   8 tasks      | elapsed:    0.0s\n",
      "[Parallel(n_jobs=10)]: Done 172 tasks      | elapsed:    0.0s\n",
      "[Parallel(n_jobs=10)]: Done 247 out of 247 | elapsed:    0.1s finished\n",
      "[Parallel(n_jobs=10)]: Using backend LokyBackend with 10 concurrent workers.\n",
      "[Parallel(n_jobs=10)]: Done   8 tasks      | elapsed:    0.0s\n"
     ]
    },
    {
     "name": "stdout",
     "output_type": "stream",
     "text": [
      "Applying baseline correction (mode: zscore)\n",
      "NOTE: tfr_morlet() is a legacy function. New code should use .compute_tfr(method=\"morlet\").\n",
      "Applying baseline correction (mode: zscore)\n",
      "NOTE: tfr_morlet() is a legacy function. New code should use .compute_tfr(method=\"morlet\").\n"
     ]
    },
    {
     "name": "stderr",
     "output_type": "stream",
     "text": [
      "[Parallel(n_jobs=10)]: Done 172 tasks      | elapsed:    0.0s\n",
      "[Parallel(n_jobs=10)]: Done 247 out of 247 | elapsed:    0.1s finished\n",
      "[Parallel(n_jobs=10)]: Using backend LokyBackend with 10 concurrent workers.\n",
      "[Parallel(n_jobs=10)]: Done   8 tasks      | elapsed:    0.0s\n",
      "[Parallel(n_jobs=10)]: Done 172 tasks      | elapsed:    0.1s\n",
      "[Parallel(n_jobs=10)]: Done 247 out of 247 | elapsed:    0.1s finished\n",
      "[Parallel(n_jobs=10)]: Using backend LokyBackend with 10 concurrent workers.\n",
      "[Parallel(n_jobs=10)]: Done   8 tasks      | elapsed:    0.0s\n"
     ]
    },
    {
     "name": "stdout",
     "output_type": "stream",
     "text": [
      "Applying baseline correction (mode: zscore)\n",
      "NOTE: tfr_morlet() is a legacy function. New code should use .compute_tfr(method=\"morlet\").\n",
      "Applying baseline correction (mode: zscore)\n",
      "NOTE: tfr_morlet() is a legacy function. New code should use .compute_tfr(method=\"morlet\").\n"
     ]
    },
    {
     "name": "stderr",
     "output_type": "stream",
     "text": [
      "[Parallel(n_jobs=10)]: Done 172 tasks      | elapsed:    0.1s\n",
      "[Parallel(n_jobs=10)]: Done 247 out of 247 | elapsed:    0.1s finished\n",
      "[Parallel(n_jobs=10)]: Using backend LokyBackend with 10 concurrent workers.\n",
      "[Parallel(n_jobs=10)]: Done   8 tasks      | elapsed:    0.0s\n",
      "[Parallel(n_jobs=10)]: Done 172 tasks      | elapsed:    0.0s\n",
      "[Parallel(n_jobs=10)]: Done 247 out of 247 | elapsed:    0.1s finished\n",
      "[Parallel(n_jobs=10)]: Using backend LokyBackend with 10 concurrent workers.\n",
      "[Parallel(n_jobs=10)]: Done   8 tasks      | elapsed:    0.0s\n"
     ]
    },
    {
     "name": "stdout",
     "output_type": "stream",
     "text": [
      "Applying baseline correction (mode: zscore)\n",
      "NOTE: tfr_morlet() is a legacy function. New code should use .compute_tfr(method=\"morlet\").\n",
      "Applying baseline correction (mode: zscore)\n",
      "NOTE: tfr_morlet() is a legacy function. New code should use .compute_tfr(method=\"morlet\").\n"
     ]
    },
    {
     "name": "stderr",
     "output_type": "stream",
     "text": [
      "[Parallel(n_jobs=10)]: Done 172 tasks      | elapsed:    0.1s\n",
      "[Parallel(n_jobs=10)]: Done 247 out of 247 | elapsed:    0.1s finished\n",
      "[Parallel(n_jobs=10)]: Using backend LokyBackend with 10 concurrent workers.\n",
      "[Parallel(n_jobs=10)]: Done   8 tasks      | elapsed:    0.0s\n",
      "[Parallel(n_jobs=10)]: Done 172 tasks      | elapsed:    0.0s\n",
      "[Parallel(n_jobs=10)]: Done 247 out of 247 | elapsed:    0.1s finished\n",
      "[Parallel(n_jobs=10)]: Using backend LokyBackend with 10 concurrent workers.\n",
      "[Parallel(n_jobs=10)]: Done   8 tasks      | elapsed:    0.0s\n"
     ]
    },
    {
     "name": "stdout",
     "output_type": "stream",
     "text": [
      "Applying baseline correction (mode: zscore)\n",
      "NOTE: tfr_morlet() is a legacy function. New code should use .compute_tfr(method=\"morlet\").\n",
      "Applying baseline correction (mode: zscore)\n",
      "NOTE: tfr_morlet() is a legacy function. New code should use .compute_tfr(method=\"morlet\").\n"
     ]
    },
    {
     "name": "stderr",
     "output_type": "stream",
     "text": [
      "[Parallel(n_jobs=10)]: Done 172 tasks      | elapsed:    0.0s\n",
      "[Parallel(n_jobs=10)]: Done 247 out of 247 | elapsed:    0.1s finished\n",
      "[Parallel(n_jobs=10)]: Using backend LokyBackend with 10 concurrent workers.\n",
      "[Parallel(n_jobs=10)]: Done   8 tasks      | elapsed:    0.0s\n",
      "[Parallel(n_jobs=10)]: Done 172 tasks      | elapsed:    0.0s\n",
      "[Parallel(n_jobs=10)]: Done 247 out of 247 | elapsed:    0.1s finished\n",
      "[Parallel(n_jobs=10)]: Using backend LokyBackend with 10 concurrent workers.\n",
      "[Parallel(n_jobs=10)]: Done   8 tasks      | elapsed:    0.0s\n"
     ]
    },
    {
     "name": "stdout",
     "output_type": "stream",
     "text": [
      "Applying baseline correction (mode: zscore)\n",
      "NOTE: tfr_morlet() is a legacy function. New code should use .compute_tfr(method=\"morlet\").\n",
      "Applying baseline correction (mode: zscore)\n",
      "NOTE: tfr_morlet() is a legacy function. New code should use .compute_tfr(method=\"morlet\").\n"
     ]
    },
    {
     "name": "stderr",
     "output_type": "stream",
     "text": [
      "[Parallel(n_jobs=10)]: Done 172 tasks      | elapsed:    0.0s\n",
      "[Parallel(n_jobs=10)]: Done 247 out of 247 | elapsed:    0.1s finished\n",
      "[Parallel(n_jobs=10)]: Using backend LokyBackend with 10 concurrent workers.\n",
      "[Parallel(n_jobs=10)]: Done   8 tasks      | elapsed:    0.0s\n",
      "[Parallel(n_jobs=10)]: Done 172 tasks      | elapsed:    0.0s\n",
      "[Parallel(n_jobs=10)]: Done 247 out of 247 | elapsed:    0.1s finished\n",
      "[Parallel(n_jobs=10)]: Using backend LokyBackend with 10 concurrent workers.\n",
      "[Parallel(n_jobs=10)]: Done   8 tasks      | elapsed:    0.0s\n"
     ]
    },
    {
     "name": "stdout",
     "output_type": "stream",
     "text": [
      "Applying baseline correction (mode: zscore)\n",
      "NOTE: tfr_morlet() is a legacy function. New code should use .compute_tfr(method=\"morlet\").\n",
      "Applying baseline correction (mode: zscore)\n",
      "NOTE: tfr_morlet() is a legacy function. New code should use .compute_tfr(method=\"morlet\").\n"
     ]
    },
    {
     "name": "stderr",
     "output_type": "stream",
     "text": [
      "[Parallel(n_jobs=10)]: Done 172 tasks      | elapsed:    0.1s\n",
      "[Parallel(n_jobs=10)]: Done 247 out of 247 | elapsed:    0.1s finished\n",
      "[Parallel(n_jobs=10)]: Using backend LokyBackend with 10 concurrent workers.\n",
      "[Parallel(n_jobs=10)]: Done   8 tasks      | elapsed:    0.0s\n",
      "[Parallel(n_jobs=10)]: Done 172 tasks      | elapsed:    0.0s\n",
      "[Parallel(n_jobs=10)]: Done 247 out of 247 | elapsed:    0.1s finished\n",
      "[Parallel(n_jobs=10)]: Using backend LokyBackend with 10 concurrent workers.\n",
      "[Parallel(n_jobs=10)]: Done   8 tasks      | elapsed:    0.0s\n"
     ]
    },
    {
     "name": "stdout",
     "output_type": "stream",
     "text": [
      "Applying baseline correction (mode: zscore)\n",
      "NOTE: tfr_morlet() is a legacy function. New code should use .compute_tfr(method=\"morlet\").\n",
      "Applying baseline correction (mode: zscore)\n",
      "NOTE: tfr_morlet() is a legacy function. New code should use .compute_tfr(method=\"morlet\").\n"
     ]
    },
    {
     "name": "stderr",
     "output_type": "stream",
     "text": [
      "[Parallel(n_jobs=10)]: Done 172 tasks      | elapsed:    0.0s\n",
      "[Parallel(n_jobs=10)]: Done 247 out of 247 | elapsed:    0.1s finished\n",
      "[Parallel(n_jobs=10)]: Using backend LokyBackend with 10 concurrent workers.\n",
      "[Parallel(n_jobs=10)]: Done   8 tasks      | elapsed:    0.0s\n",
      "[Parallel(n_jobs=10)]: Done 172 tasks      | elapsed:    0.0s\n",
      "[Parallel(n_jobs=10)]: Done 247 out of 247 | elapsed:    0.1s finished\n",
      "[Parallel(n_jobs=10)]: Using backend LokyBackend with 10 concurrent workers.\n",
      "[Parallel(n_jobs=10)]: Done   8 tasks      | elapsed:    0.0s\n"
     ]
    },
    {
     "name": "stdout",
     "output_type": "stream",
     "text": [
      "Applying baseline correction (mode: zscore)\n",
      "NOTE: tfr_morlet() is a legacy function. New code should use .compute_tfr(method=\"morlet\").\n",
      "Applying baseline correction (mode: zscore)\n",
      "NOTE: tfr_morlet() is a legacy function. New code should use .compute_tfr(method=\"morlet\").\n"
     ]
    },
    {
     "name": "stderr",
     "output_type": "stream",
     "text": [
      "[Parallel(n_jobs=10)]: Done 172 tasks      | elapsed:    0.0s\n",
      "[Parallel(n_jobs=10)]: Done 247 out of 247 | elapsed:    0.1s finished\n",
      "[Parallel(n_jobs=10)]: Using backend LokyBackend with 10 concurrent workers.\n",
      "[Parallel(n_jobs=10)]: Done   8 tasks      | elapsed:    0.0s\n",
      "[Parallel(n_jobs=10)]: Done 172 tasks      | elapsed:    0.0s\n",
      "[Parallel(n_jobs=10)]: Done 247 out of 247 | elapsed:    0.1s finished\n",
      "[Parallel(n_jobs=10)]: Using backend LokyBackend with 10 concurrent workers.\n",
      "[Parallel(n_jobs=10)]: Done   8 tasks      | elapsed:    0.0s\n"
     ]
    },
    {
     "name": "stdout",
     "output_type": "stream",
     "text": [
      "Applying baseline correction (mode: zscore)\n",
      "NOTE: tfr_morlet() is a legacy function. New code should use .compute_tfr(method=\"morlet\").\n",
      "Applying baseline correction (mode: zscore)\n",
      "NOTE: tfr_morlet() is a legacy function. New code should use .compute_tfr(method=\"morlet\").\n"
     ]
    },
    {
     "name": "stderr",
     "output_type": "stream",
     "text": [
      "[Parallel(n_jobs=10)]: Done 172 tasks      | elapsed:    0.1s\n",
      "[Parallel(n_jobs=10)]: Done 247 out of 247 | elapsed:    0.1s finished\n",
      "[Parallel(n_jobs=10)]: Using backend LokyBackend with 10 concurrent workers.\n",
      "[Parallel(n_jobs=10)]: Done   8 tasks      | elapsed:    0.0s\n",
      "[Parallel(n_jobs=10)]: Done 172 tasks      | elapsed:    0.0s\n",
      "[Parallel(n_jobs=10)]: Done 247 out of 247 | elapsed:    0.1s finished\n",
      "[Parallel(n_jobs=10)]: Using backend LokyBackend with 10 concurrent workers.\n",
      "[Parallel(n_jobs=10)]: Done   8 tasks      | elapsed:    0.0s\n"
     ]
    },
    {
     "name": "stdout",
     "output_type": "stream",
     "text": [
      "Applying baseline correction (mode: zscore)\n",
      "NOTE: tfr_morlet() is a legacy function. New code should use .compute_tfr(method=\"morlet\").\n",
      "Applying baseline correction (mode: zscore)\n",
      "NOTE: tfr_morlet() is a legacy function. New code should use .compute_tfr(method=\"morlet\").\n"
     ]
    },
    {
     "name": "stderr",
     "output_type": "stream",
     "text": [
      "[Parallel(n_jobs=10)]: Done 172 tasks      | elapsed:    0.0s\n",
      "[Parallel(n_jobs=10)]: Done 247 out of 247 | elapsed:    0.1s finished\n",
      "[Parallel(n_jobs=10)]: Using backend LokyBackend with 10 concurrent workers.\n",
      "[Parallel(n_jobs=10)]: Done   8 tasks      | elapsed:    0.0s\n",
      "[Parallel(n_jobs=10)]: Done 172 tasks      | elapsed:    0.0s\n",
      "[Parallel(n_jobs=10)]: Done 247 out of 247 | elapsed:    0.1s finished\n",
      "[Parallel(n_jobs=10)]: Using backend LokyBackend with 10 concurrent workers.\n",
      "[Parallel(n_jobs=10)]: Done   8 tasks      | elapsed:    0.0s\n"
     ]
    },
    {
     "name": "stdout",
     "output_type": "stream",
     "text": [
      "Applying baseline correction (mode: zscore)\n",
      "NOTE: tfr_morlet() is a legacy function. New code should use .compute_tfr(method=\"morlet\").\n",
      "Applying baseline correction (mode: zscore)\n",
      "NOTE: tfr_morlet() is a legacy function. New code should use .compute_tfr(method=\"morlet\").\n"
     ]
    },
    {
     "name": "stderr",
     "output_type": "stream",
     "text": [
      "[Parallel(n_jobs=10)]: Done 172 tasks      | elapsed:    0.0s\n",
      "[Parallel(n_jobs=10)]: Done 247 out of 247 | elapsed:    0.1s finished\n",
      "[Parallel(n_jobs=10)]: Using backend LokyBackend with 10 concurrent workers.\n",
      "[Parallel(n_jobs=10)]: Done   8 tasks      | elapsed:    0.0s\n",
      "[Parallel(n_jobs=10)]: Done 172 tasks      | elapsed:    0.0s\n",
      "[Parallel(n_jobs=10)]: Done 247 out of 247 | elapsed:    0.1s finished\n",
      "[Parallel(n_jobs=10)]: Using backend LokyBackend with 10 concurrent workers.\n",
      "[Parallel(n_jobs=10)]: Done   8 tasks      | elapsed:    0.0s\n"
     ]
    },
    {
     "name": "stdout",
     "output_type": "stream",
     "text": [
      "Applying baseline correction (mode: zscore)\n",
      "NOTE: tfr_morlet() is a legacy function. New code should use .compute_tfr(method=\"morlet\").\n",
      "Applying baseline correction (mode: zscore)\n",
      "NOTE: tfr_morlet() is a legacy function. New code should use .compute_tfr(method=\"morlet\").\n"
     ]
    },
    {
     "name": "stderr",
     "output_type": "stream",
     "text": [
      "[Parallel(n_jobs=10)]: Done 172 tasks      | elapsed:    0.0s\n",
      "[Parallel(n_jobs=10)]: Done 247 out of 247 | elapsed:    0.1s finished\n",
      "[Parallel(n_jobs=10)]: Using backend LokyBackend with 10 concurrent workers.\n",
      "[Parallel(n_jobs=10)]: Done   8 tasks      | elapsed:    0.0s\n",
      "[Parallel(n_jobs=10)]: Done 172 tasks      | elapsed:    0.1s\n",
      "[Parallel(n_jobs=10)]: Done 247 out of 247 | elapsed:    0.1s finished\n",
      "[Parallel(n_jobs=10)]: Using backend LokyBackend with 10 concurrent workers.\n",
      "[Parallel(n_jobs=10)]: Done   8 tasks      | elapsed:    0.0s\n"
     ]
    },
    {
     "name": "stdout",
     "output_type": "stream",
     "text": [
      "Applying baseline correction (mode: zscore)\n",
      "NOTE: tfr_morlet() is a legacy function. New code should use .compute_tfr(method=\"morlet\").\n",
      "Applying baseline correction (mode: zscore)\n",
      "NOTE: tfr_morlet() is a legacy function. New code should use .compute_tfr(method=\"morlet\").\n"
     ]
    },
    {
     "name": "stderr",
     "output_type": "stream",
     "text": [
      "[Parallel(n_jobs=10)]: Done 172 tasks      | elapsed:    0.0s\n",
      "[Parallel(n_jobs=10)]: Done 247 out of 247 | elapsed:    0.1s finished\n",
      "[Parallel(n_jobs=10)]: Using backend LokyBackend with 10 concurrent workers.\n",
      "[Parallel(n_jobs=10)]: Done   8 tasks      | elapsed:    0.0s\n",
      "[Parallel(n_jobs=10)]: Done 172 tasks      | elapsed:    0.0s\n",
      "[Parallel(n_jobs=10)]: Done 247 out of 247 | elapsed:    0.1s finished\n",
      "[Parallel(n_jobs=10)]: Using backend LokyBackend with 10 concurrent workers.\n",
      "[Parallel(n_jobs=10)]: Done   8 tasks      | elapsed:    0.0s\n"
     ]
    },
    {
     "name": "stdout",
     "output_type": "stream",
     "text": [
      "Applying baseline correction (mode: zscore)\n",
      "NOTE: tfr_morlet() is a legacy function. New code should use .compute_tfr(method=\"morlet\").\n",
      "Applying baseline correction (mode: zscore)\n",
      "NOTE: tfr_morlet() is a legacy function. New code should use .compute_tfr(method=\"morlet\").\n"
     ]
    },
    {
     "name": "stderr",
     "output_type": "stream",
     "text": [
      "[Parallel(n_jobs=10)]: Done 172 tasks      | elapsed:    0.0s\n",
      "[Parallel(n_jobs=10)]: Done 247 out of 247 | elapsed:    0.1s finished\n",
      "[Parallel(n_jobs=10)]: Using backend LokyBackend with 10 concurrent workers.\n",
      "[Parallel(n_jobs=10)]: Done   8 tasks      | elapsed:    0.0s\n",
      "[Parallel(n_jobs=10)]: Done 172 tasks      | elapsed:    0.0s\n",
      "[Parallel(n_jobs=10)]: Done 247 out of 247 | elapsed:    0.1s finished\n",
      "[Parallel(n_jobs=10)]: Using backend LokyBackend with 10 concurrent workers.\n",
      "[Parallel(n_jobs=10)]: Done   8 tasks      | elapsed:    0.0s\n"
     ]
    },
    {
     "name": "stdout",
     "output_type": "stream",
     "text": [
      "Applying baseline correction (mode: zscore)\n",
      "NOTE: tfr_morlet() is a legacy function. New code should use .compute_tfr(method=\"morlet\").\n",
      "Applying baseline correction (mode: zscore)\n",
      "NOTE: tfr_morlet() is a legacy function. New code should use .compute_tfr(method=\"morlet\").\n"
     ]
    },
    {
     "name": "stderr",
     "output_type": "stream",
     "text": [
      "[Parallel(n_jobs=10)]: Done 172 tasks      | elapsed:    0.0s\n",
      "[Parallel(n_jobs=10)]: Done 247 out of 247 | elapsed:    0.1s finished\n",
      "[Parallel(n_jobs=10)]: Using backend LokyBackend with 10 concurrent workers.\n",
      "[Parallel(n_jobs=10)]: Done   8 tasks      | elapsed:    0.0s\n",
      "[Parallel(n_jobs=10)]: Done 172 tasks      | elapsed:    0.0s\n",
      "[Parallel(n_jobs=10)]: Done 247 out of 247 | elapsed:    0.1s finished\n",
      "[Parallel(n_jobs=10)]: Using backend LokyBackend with 10 concurrent workers.\n",
      "[Parallel(n_jobs=10)]: Done   8 tasks      | elapsed:    0.0s\n"
     ]
    },
    {
     "name": "stdout",
     "output_type": "stream",
     "text": [
      "Applying baseline correction (mode: zscore)\n",
      "NOTE: tfr_morlet() is a legacy function. New code should use .compute_tfr(method=\"morlet\").\n",
      "Applying baseline correction (mode: zscore)\n",
      "NOTE: tfr_morlet() is a legacy function. New code should use .compute_tfr(method=\"morlet\").\n"
     ]
    },
    {
     "name": "stderr",
     "output_type": "stream",
     "text": [
      "[Parallel(n_jobs=10)]: Done 172 tasks      | elapsed:    0.0s\n",
      "[Parallel(n_jobs=10)]: Done 247 out of 247 | elapsed:    0.1s finished\n",
      "[Parallel(n_jobs=10)]: Using backend LokyBackend with 10 concurrent workers.\n",
      "[Parallel(n_jobs=10)]: Done   8 tasks      | elapsed:    0.0s\n",
      "[Parallel(n_jobs=10)]: Done 172 tasks      | elapsed:    0.1s\n",
      "[Parallel(n_jobs=10)]: Done 247 out of 247 | elapsed:    0.1s finished\n",
      "[Parallel(n_jobs=10)]: Using backend LokyBackend with 10 concurrent workers.\n",
      "[Parallel(n_jobs=10)]: Done   8 tasks      | elapsed:    0.0s\n"
     ]
    },
    {
     "name": "stdout",
     "output_type": "stream",
     "text": [
      "Applying baseline correction (mode: zscore)\n",
      "NOTE: tfr_morlet() is a legacy function. New code should use .compute_tfr(method=\"morlet\").\n",
      "Applying baseline correction (mode: zscore)\n",
      "NOTE: tfr_morlet() is a legacy function. New code should use .compute_tfr(method=\"morlet\").\n"
     ]
    },
    {
     "name": "stderr",
     "output_type": "stream",
     "text": [
      "[Parallel(n_jobs=10)]: Done 172 tasks      | elapsed:    0.0s\n",
      "[Parallel(n_jobs=10)]: Done 247 out of 247 | elapsed:    0.1s finished\n",
      "[Parallel(n_jobs=10)]: Using backend LokyBackend with 10 concurrent workers.\n",
      "[Parallel(n_jobs=10)]: Done   8 tasks      | elapsed:    0.0s\n",
      "[Parallel(n_jobs=10)]: Done 172 tasks      | elapsed:    0.0s\n",
      "[Parallel(n_jobs=10)]: Done 247 out of 247 | elapsed:    0.1s finished\n",
      "[Parallel(n_jobs=10)]: Using backend LokyBackend with 10 concurrent workers.\n",
      "[Parallel(n_jobs=10)]: Done   8 tasks      | elapsed:    0.0s\n"
     ]
    },
    {
     "name": "stdout",
     "output_type": "stream",
     "text": [
      "Applying baseline correction (mode: zscore)\n",
      "NOTE: tfr_morlet() is a legacy function. New code should use .compute_tfr(method=\"morlet\").\n",
      "Applying baseline correction (mode: zscore)\n",
      "NOTE: tfr_morlet() is a legacy function. New code should use .compute_tfr(method=\"morlet\").\n"
     ]
    },
    {
     "name": "stderr",
     "output_type": "stream",
     "text": [
      "[Parallel(n_jobs=10)]: Done 172 tasks      | elapsed:    0.1s\n",
      "[Parallel(n_jobs=10)]: Done 247 out of 247 | elapsed:    0.1s finished\n",
      "[Parallel(n_jobs=10)]: Using backend LokyBackend with 10 concurrent workers.\n",
      "[Parallel(n_jobs=10)]: Done   8 tasks      | elapsed:    0.0s\n",
      "[Parallel(n_jobs=10)]: Done 172 tasks      | elapsed:    0.0s\n",
      "[Parallel(n_jobs=10)]: Done 247 out of 247 | elapsed:    0.1s finished\n",
      "[Parallel(n_jobs=10)]: Using backend LokyBackend with 10 concurrent workers.\n",
      "[Parallel(n_jobs=10)]: Done   8 tasks      | elapsed:    0.0s\n"
     ]
    },
    {
     "name": "stdout",
     "output_type": "stream",
     "text": [
      "Applying baseline correction (mode: zscore)\n",
      "NOTE: tfr_morlet() is a legacy function. New code should use .compute_tfr(method=\"morlet\").\n",
      "Applying baseline correction (mode: zscore)\n",
      "NOTE: tfr_morlet() is a legacy function. New code should use .compute_tfr(method=\"morlet\").\n"
     ]
    },
    {
     "name": "stderr",
     "output_type": "stream",
     "text": [
      "[Parallel(n_jobs=10)]: Done 172 tasks      | elapsed:    0.0s\n",
      "[Parallel(n_jobs=10)]: Done 247 out of 247 | elapsed:    0.1s finished\n",
      "[Parallel(n_jobs=10)]: Using backend LokyBackend with 10 concurrent workers.\n",
      "[Parallel(n_jobs=10)]: Done   8 tasks      | elapsed:    0.0s\n",
      "[Parallel(n_jobs=10)]: Done 172 tasks      | elapsed:    0.0s\n",
      "[Parallel(n_jobs=10)]: Done 247 out of 247 | elapsed:    0.1s finished\n",
      "[Parallel(n_jobs=10)]: Using backend LokyBackend with 10 concurrent workers.\n",
      "[Parallel(n_jobs=10)]: Done   8 tasks      | elapsed:    0.0s\n"
     ]
    },
    {
     "name": "stdout",
     "output_type": "stream",
     "text": [
      "Applying baseline correction (mode: zscore)\n",
      "NOTE: tfr_morlet() is a legacy function. New code should use .compute_tfr(method=\"morlet\").\n",
      "Applying baseline correction (mode: zscore)\n",
      "NOTE: tfr_morlet() is a legacy function. New code should use .compute_tfr(method=\"morlet\").\n"
     ]
    },
    {
     "name": "stderr",
     "output_type": "stream",
     "text": [
      "[Parallel(n_jobs=10)]: Done 172 tasks      | elapsed:    0.0s\n",
      "[Parallel(n_jobs=10)]: Done 247 out of 247 | elapsed:    0.1s finished\n",
      "[Parallel(n_jobs=10)]: Using backend LokyBackend with 10 concurrent workers.\n",
      "[Parallel(n_jobs=10)]: Done   8 tasks      | elapsed:    0.0s\n",
      "[Parallel(n_jobs=10)]: Done 172 tasks      | elapsed:    0.0s\n",
      "[Parallel(n_jobs=10)]: Done 247 out of 247 | elapsed:    0.1s finished\n",
      "[Parallel(n_jobs=10)]: Using backend LokyBackend with 10 concurrent workers.\n",
      "[Parallel(n_jobs=10)]: Done   8 tasks      | elapsed:    0.0s\n"
     ]
    },
    {
     "name": "stdout",
     "output_type": "stream",
     "text": [
      "Applying baseline correction (mode: zscore)\n",
      "NOTE: tfr_morlet() is a legacy function. New code should use .compute_tfr(method=\"morlet\").\n",
      "Applying baseline correction (mode: zscore)\n",
      "NOTE: tfr_morlet() is a legacy function. New code should use .compute_tfr(method=\"morlet\").\n"
     ]
    },
    {
     "name": "stderr",
     "output_type": "stream",
     "text": [
      "[Parallel(n_jobs=10)]: Done 172 tasks      | elapsed:    0.0s\n",
      "[Parallel(n_jobs=10)]: Done 247 out of 247 | elapsed:    0.1s finished\n",
      "[Parallel(n_jobs=10)]: Using backend LokyBackend with 10 concurrent workers.\n",
      "[Parallel(n_jobs=10)]: Done   8 tasks      | elapsed:    0.0s\n",
      "[Parallel(n_jobs=10)]: Done 172 tasks      | elapsed:    0.0s\n",
      "[Parallel(n_jobs=10)]: Done 247 out of 247 | elapsed:    0.1s finished\n",
      "[Parallel(n_jobs=10)]: Using backend LokyBackend with 10 concurrent workers.\n",
      "[Parallel(n_jobs=10)]: Done   8 tasks      | elapsed:    0.0s\n"
     ]
    },
    {
     "name": "stdout",
     "output_type": "stream",
     "text": [
      "Applying baseline correction (mode: zscore)\n",
      "NOTE: tfr_morlet() is a legacy function. New code should use .compute_tfr(method=\"morlet\").\n",
      "Applying baseline correction (mode: zscore)\n",
      "NOTE: tfr_morlet() is a legacy function. New code should use .compute_tfr(method=\"morlet\").\n"
     ]
    },
    {
     "name": "stderr",
     "output_type": "stream",
     "text": [
      "[Parallel(n_jobs=10)]: Done 172 tasks      | elapsed:    0.0s\n",
      "[Parallel(n_jobs=10)]: Done 247 out of 247 | elapsed:    0.1s finished\n",
      "[Parallel(n_jobs=10)]: Using backend LokyBackend with 10 concurrent workers.\n",
      "[Parallel(n_jobs=10)]: Done   8 tasks      | elapsed:    0.0s\n",
      "[Parallel(n_jobs=10)]: Done 172 tasks      | elapsed:    0.0s\n",
      "[Parallel(n_jobs=10)]: Done 247 out of 247 | elapsed:    0.1s finished\n"
     ]
    },
    {
     "name": "stdout",
     "output_type": "stream",
     "text": [
      "Applying baseline correction (mode: zscore)\n",
      "NOTE: tfr_morlet() is a legacy function. New code should use .compute_tfr(method=\"morlet\").\n"
     ]
    },
    {
     "name": "stderr",
     "output_type": "stream",
     "text": [
      "[Parallel(n_jobs=10)]: Using backend LokyBackend with 10 concurrent workers.\n",
      "[Parallel(n_jobs=10)]: Done   8 tasks      | elapsed:    0.0s\n",
      "[Parallel(n_jobs=10)]: Done 172 tasks      | elapsed:    0.1s\n",
      "[Parallel(n_jobs=10)]: Done 247 out of 247 | elapsed:    0.1s finished\n",
      "[Parallel(n_jobs=10)]: Using backend LokyBackend with 10 concurrent workers.\n",
      "[Parallel(n_jobs=10)]: Done   8 tasks      | elapsed:    0.0s\n",
      "[Parallel(n_jobs=10)]: Done 172 tasks      | elapsed:    0.0s\n"
     ]
    },
    {
     "name": "stdout",
     "output_type": "stream",
     "text": [
      "Applying baseline correction (mode: zscore)\n",
      "NOTE: tfr_morlet() is a legacy function. New code should use .compute_tfr(method=\"morlet\").\n",
      "Applying baseline correction (mode: zscore)\n",
      "NOTE: tfr_morlet() is a legacy function. New code should use .compute_tfr(method=\"morlet\").\n"
     ]
    },
    {
     "name": "stderr",
     "output_type": "stream",
     "text": [
      "[Parallel(n_jobs=10)]: Done 247 out of 247 | elapsed:    0.1s finished\n",
      "[Parallel(n_jobs=10)]: Using backend LokyBackend with 10 concurrent workers.\n",
      "[Parallel(n_jobs=10)]: Done   8 tasks      | elapsed:    0.0s\n",
      "[Parallel(n_jobs=10)]: Done 172 tasks      | elapsed:    0.0s\n",
      "[Parallel(n_jobs=10)]: Done 247 out of 247 | elapsed:    0.1s finished\n",
      "[Parallel(n_jobs=10)]: Using backend LokyBackend with 10 concurrent workers.\n",
      "[Parallel(n_jobs=10)]: Done   8 tasks      | elapsed:    0.0s\n",
      "[Parallel(n_jobs=10)]: Done 172 tasks      | elapsed:    0.0s\n"
     ]
    },
    {
     "name": "stdout",
     "output_type": "stream",
     "text": [
      "Applying baseline correction (mode: zscore)\n",
      "NOTE: tfr_morlet() is a legacy function. New code should use .compute_tfr(method=\"morlet\").\n",
      "Applying baseline correction (mode: zscore)\n",
      "NOTE: tfr_morlet() is a legacy function. New code should use .compute_tfr(method=\"morlet\").\n"
     ]
    },
    {
     "name": "stderr",
     "output_type": "stream",
     "text": [
      "[Parallel(n_jobs=10)]: Done 247 out of 247 | elapsed:    0.1s finished\n",
      "[Parallel(n_jobs=10)]: Using backend LokyBackend with 10 concurrent workers.\n",
      "[Parallel(n_jobs=10)]: Done   8 tasks      | elapsed:    0.0s\n",
      "[Parallel(n_jobs=10)]: Done 172 tasks      | elapsed:    0.0s\n",
      "[Parallel(n_jobs=10)]: Done 247 out of 247 | elapsed:    0.1s finished\n",
      "[Parallel(n_jobs=10)]: Using backend LokyBackend with 10 concurrent workers.\n",
      "[Parallel(n_jobs=10)]: Done   8 tasks      | elapsed:    0.0s\n",
      "[Parallel(n_jobs=10)]: Done 172 tasks      | elapsed:    0.0s\n"
     ]
    },
    {
     "name": "stdout",
     "output_type": "stream",
     "text": [
      "Applying baseline correction (mode: zscore)\n",
      "NOTE: tfr_morlet() is a legacy function. New code should use .compute_tfr(method=\"morlet\").\n",
      "Applying baseline correction (mode: zscore)\n",
      "NOTE: tfr_morlet() is a legacy function. New code should use .compute_tfr(method=\"morlet\").\n"
     ]
    },
    {
     "name": "stderr",
     "output_type": "stream",
     "text": [
      "[Parallel(n_jobs=10)]: Done 247 out of 247 | elapsed:    0.1s finished\n",
      "[Parallel(n_jobs=10)]: Using backend LokyBackend with 10 concurrent workers.\n",
      "[Parallel(n_jobs=10)]: Done   8 tasks      | elapsed:    0.0s\n",
      "[Parallel(n_jobs=10)]: Done 172 tasks      | elapsed:    0.0s\n",
      "[Parallel(n_jobs=10)]: Done 247 out of 247 | elapsed:    0.1s finished\n",
      "[Parallel(n_jobs=10)]: Using backend LokyBackend with 10 concurrent workers.\n",
      "[Parallel(n_jobs=10)]: Done   8 tasks      | elapsed:    0.0s\n",
      "[Parallel(n_jobs=10)]: Done 172 tasks      | elapsed:    0.0s\n"
     ]
    },
    {
     "name": "stdout",
     "output_type": "stream",
     "text": [
      "Applying baseline correction (mode: zscore)\n",
      "NOTE: tfr_morlet() is a legacy function. New code should use .compute_tfr(method=\"morlet\").\n",
      "Applying baseline correction (mode: zscore)\n",
      "NOTE: tfr_morlet() is a legacy function. New code should use .compute_tfr(method=\"morlet\").\n"
     ]
    },
    {
     "name": "stderr",
     "output_type": "stream",
     "text": [
      "[Parallel(n_jobs=10)]: Done 247 out of 247 | elapsed:    0.1s finished\n",
      "[Parallel(n_jobs=10)]: Using backend LokyBackend with 10 concurrent workers.\n",
      "[Parallel(n_jobs=10)]: Done   8 tasks      | elapsed:    0.0s\n",
      "[Parallel(n_jobs=10)]: Done 172 tasks      | elapsed:    0.0s\n",
      "[Parallel(n_jobs=10)]: Done 247 out of 247 | elapsed:    0.1s finished\n",
      "[Parallel(n_jobs=10)]: Using backend LokyBackend with 10 concurrent workers.\n",
      "[Parallel(n_jobs=10)]: Done   8 tasks      | elapsed:    0.0s\n",
      "[Parallel(n_jobs=10)]: Done 172 tasks      | elapsed:    0.0s\n"
     ]
    },
    {
     "name": "stdout",
     "output_type": "stream",
     "text": [
      "Applying baseline correction (mode: zscore)\n",
      "NOTE: tfr_morlet() is a legacy function. New code should use .compute_tfr(method=\"morlet\").\n",
      "Applying baseline correction (mode: zscore)\n",
      "NOTE: tfr_morlet() is a legacy function. New code should use .compute_tfr(method=\"morlet\").\n"
     ]
    },
    {
     "name": "stderr",
     "output_type": "stream",
     "text": [
      "[Parallel(n_jobs=10)]: Done 247 out of 247 | elapsed:    0.1s finished\n",
      "[Parallel(n_jobs=10)]: Using backend LokyBackend with 10 concurrent workers.\n",
      "[Parallel(n_jobs=10)]: Done   8 tasks      | elapsed:    0.0s\n",
      "[Parallel(n_jobs=10)]: Done 172 tasks      | elapsed:    0.0s\n",
      "[Parallel(n_jobs=10)]: Done 247 out of 247 | elapsed:    0.1s finished\n",
      "[Parallel(n_jobs=10)]: Using backend LokyBackend with 10 concurrent workers.\n",
      "[Parallel(n_jobs=10)]: Done   8 tasks      | elapsed:    0.0s\n",
      "[Parallel(n_jobs=10)]: Done 172 tasks      | elapsed:    0.0s\n"
     ]
    },
    {
     "name": "stdout",
     "output_type": "stream",
     "text": [
      "Applying baseline correction (mode: zscore)\n",
      "NOTE: tfr_morlet() is a legacy function. New code should use .compute_tfr(method=\"morlet\").\n",
      "Applying baseline correction (mode: zscore)\n",
      "NOTE: tfr_morlet() is a legacy function. New code should use .compute_tfr(method=\"morlet\").\n"
     ]
    },
    {
     "name": "stderr",
     "output_type": "stream",
     "text": [
      "[Parallel(n_jobs=10)]: Done 247 out of 247 | elapsed:    0.1s finished\n",
      "[Parallel(n_jobs=10)]: Using backend LokyBackend with 10 concurrent workers.\n",
      "[Parallel(n_jobs=10)]: Done   8 tasks      | elapsed:    0.0s\n",
      "[Parallel(n_jobs=10)]: Done 172 tasks      | elapsed:    0.0s\n",
      "[Parallel(n_jobs=10)]: Done 247 out of 247 | elapsed:    0.1s finished\n",
      "[Parallel(n_jobs=10)]: Using backend LokyBackend with 10 concurrent workers.\n",
      "[Parallel(n_jobs=10)]: Done   8 tasks      | elapsed:    0.0s\n",
      "[Parallel(n_jobs=10)]: Done 172 tasks      | elapsed:    0.0s\n"
     ]
    },
    {
     "name": "stdout",
     "output_type": "stream",
     "text": [
      "Applying baseline correction (mode: zscore)\n",
      "NOTE: tfr_morlet() is a legacy function. New code should use .compute_tfr(method=\"morlet\").\n",
      "Applying baseline correction (mode: zscore)\n",
      "NOTE: tfr_morlet() is a legacy function. New code should use .compute_tfr(method=\"morlet\").\n"
     ]
    },
    {
     "name": "stderr",
     "output_type": "stream",
     "text": [
      "[Parallel(n_jobs=10)]: Done 247 out of 247 | elapsed:    0.1s finished\n",
      "[Parallel(n_jobs=10)]: Using backend LokyBackend with 10 concurrent workers.\n",
      "[Parallel(n_jobs=10)]: Done   8 tasks      | elapsed:    0.0s\n",
      "[Parallel(n_jobs=10)]: Done 172 tasks      | elapsed:    0.0s\n",
      "[Parallel(n_jobs=10)]: Done 247 out of 247 | elapsed:    0.1s finished\n",
      "[Parallel(n_jobs=10)]: Using backend LokyBackend with 10 concurrent workers.\n",
      "[Parallel(n_jobs=10)]: Done   8 tasks      | elapsed:    0.0s\n",
      "[Parallel(n_jobs=10)]: Done 172 tasks      | elapsed:    0.0s\n"
     ]
    },
    {
     "name": "stdout",
     "output_type": "stream",
     "text": [
      "Applying baseline correction (mode: zscore)\n",
      "NOTE: tfr_morlet() is a legacy function. New code should use .compute_tfr(method=\"morlet\").\n",
      "Applying baseline correction (mode: zscore)\n",
      "NOTE: tfr_morlet() is a legacy function. New code should use .compute_tfr(method=\"morlet\").\n"
     ]
    },
    {
     "name": "stderr",
     "output_type": "stream",
     "text": [
      "[Parallel(n_jobs=10)]: Done 247 out of 247 | elapsed:    0.1s finished\n",
      "[Parallel(n_jobs=10)]: Using backend LokyBackend with 10 concurrent workers.\n",
      "[Parallel(n_jobs=10)]: Done   8 tasks      | elapsed:    0.0s\n",
      "[Parallel(n_jobs=10)]: Done 172 tasks      | elapsed:    0.0s\n",
      "[Parallel(n_jobs=10)]: Done 247 out of 247 | elapsed:    0.1s finished\n",
      "[Parallel(n_jobs=10)]: Using backend LokyBackend with 10 concurrent workers.\n",
      "[Parallel(n_jobs=10)]: Done   8 tasks      | elapsed:    0.0s\n",
      "[Parallel(n_jobs=10)]: Done 172 tasks      | elapsed:    0.0s\n"
     ]
    },
    {
     "name": "stdout",
     "output_type": "stream",
     "text": [
      "Applying baseline correction (mode: zscore)\n",
      "NOTE: tfr_morlet() is a legacy function. New code should use .compute_tfr(method=\"morlet\").\n",
      "Applying baseline correction (mode: zscore)\n",
      "NOTE: tfr_morlet() is a legacy function. New code should use .compute_tfr(method=\"morlet\").\n"
     ]
    },
    {
     "name": "stderr",
     "output_type": "stream",
     "text": [
      "[Parallel(n_jobs=10)]: Done 247 out of 247 | elapsed:    0.1s finished\n",
      "[Parallel(n_jobs=10)]: Using backend LokyBackend with 10 concurrent workers.\n",
      "[Parallel(n_jobs=10)]: Done   8 tasks      | elapsed:    0.0s\n",
      "[Parallel(n_jobs=10)]: Done 172 tasks      | elapsed:    0.0s\n",
      "[Parallel(n_jobs=10)]: Done 247 out of 247 | elapsed:    0.1s finished\n",
      "[Parallel(n_jobs=10)]: Using backend LokyBackend with 10 concurrent workers.\n",
      "[Parallel(n_jobs=10)]: Done   8 tasks      | elapsed:    0.0s\n",
      "[Parallel(n_jobs=10)]: Done 172 tasks      | elapsed:    0.0s\n"
     ]
    },
    {
     "name": "stdout",
     "output_type": "stream",
     "text": [
      "Applying baseline correction (mode: zscore)\n",
      "NOTE: tfr_morlet() is a legacy function. New code should use .compute_tfr(method=\"morlet\").\n",
      "Applying baseline correction (mode: zscore)\n",
      "NOTE: tfr_morlet() is a legacy function. New code should use .compute_tfr(method=\"morlet\").\n"
     ]
    },
    {
     "name": "stderr",
     "output_type": "stream",
     "text": [
      "[Parallel(n_jobs=10)]: Done 247 out of 247 | elapsed:    0.1s finished\n",
      "[Parallel(n_jobs=10)]: Using backend LokyBackend with 10 concurrent workers.\n",
      "[Parallel(n_jobs=10)]: Done   8 tasks      | elapsed:    0.0s\n",
      "[Parallel(n_jobs=10)]: Done 172 tasks      | elapsed:    0.0s\n",
      "[Parallel(n_jobs=10)]: Done 247 out of 247 | elapsed:    0.1s finished\n",
      "[Parallel(n_jobs=10)]: Using backend LokyBackend with 10 concurrent workers.\n",
      "[Parallel(n_jobs=10)]: Done   8 tasks      | elapsed:    0.0s\n",
      "[Parallel(n_jobs=10)]: Done 172 tasks      | elapsed:    0.0s\n"
     ]
    },
    {
     "name": "stdout",
     "output_type": "stream",
     "text": [
      "Applying baseline correction (mode: zscore)\n",
      "NOTE: tfr_morlet() is a legacy function. New code should use .compute_tfr(method=\"morlet\").\n",
      "Applying baseline correction (mode: zscore)\n",
      "NOTE: tfr_morlet() is a legacy function. New code should use .compute_tfr(method=\"morlet\").\n"
     ]
    },
    {
     "name": "stderr",
     "output_type": "stream",
     "text": [
      "[Parallel(n_jobs=10)]: Done 247 out of 247 | elapsed:    0.1s finished\n",
      "[Parallel(n_jobs=10)]: Using backend LokyBackend with 10 concurrent workers.\n",
      "[Parallel(n_jobs=10)]: Done   8 tasks      | elapsed:    0.0s\n",
      "[Parallel(n_jobs=10)]: Done 172 tasks      | elapsed:    0.0s\n",
      "[Parallel(n_jobs=10)]: Done 247 out of 247 | elapsed:    0.1s finished\n",
      "[Parallel(n_jobs=10)]: Using backend LokyBackend with 10 concurrent workers.\n",
      "[Parallel(n_jobs=10)]: Done   8 tasks      | elapsed:    0.0s\n",
      "[Parallel(n_jobs=10)]: Done 172 tasks      | elapsed:    0.0s\n"
     ]
    },
    {
     "name": "stdout",
     "output_type": "stream",
     "text": [
      "Applying baseline correction (mode: zscore)\n",
      "NOTE: tfr_morlet() is a legacy function. New code should use .compute_tfr(method=\"morlet\").\n",
      "Applying baseline correction (mode: zscore)\n",
      "NOTE: tfr_morlet() is a legacy function. New code should use .compute_tfr(method=\"morlet\").\n"
     ]
    },
    {
     "name": "stderr",
     "output_type": "stream",
     "text": [
      "[Parallel(n_jobs=10)]: Done 247 out of 247 | elapsed:    0.1s finished\n",
      "[Parallel(n_jobs=10)]: Using backend LokyBackend with 10 concurrent workers.\n",
      "[Parallel(n_jobs=10)]: Done   8 tasks      | elapsed:    0.0s\n",
      "[Parallel(n_jobs=10)]: Done 172 tasks      | elapsed:    0.0s\n",
      "[Parallel(n_jobs=10)]: Done 247 out of 247 | elapsed:    0.1s finished\n",
      "[Parallel(n_jobs=10)]: Using backend LokyBackend with 10 concurrent workers.\n",
      "[Parallel(n_jobs=10)]: Done   8 tasks      | elapsed:    0.0s\n",
      "[Parallel(n_jobs=10)]: Done 172 tasks      | elapsed:    0.0s\n"
     ]
    },
    {
     "name": "stdout",
     "output_type": "stream",
     "text": [
      "Applying baseline correction (mode: zscore)\n",
      "NOTE: tfr_morlet() is a legacy function. New code should use .compute_tfr(method=\"morlet\").\n",
      "Applying baseline correction (mode: zscore)\n",
      "NOTE: tfr_morlet() is a legacy function. New code should use .compute_tfr(method=\"morlet\").\n"
     ]
    },
    {
     "name": "stderr",
     "output_type": "stream",
     "text": [
      "[Parallel(n_jobs=10)]: Done 247 out of 247 | elapsed:    0.1s finished\n",
      "[Parallel(n_jobs=10)]: Using backend LokyBackend with 10 concurrent workers.\n",
      "[Parallel(n_jobs=10)]: Done   8 tasks      | elapsed:    0.0s\n",
      "[Parallel(n_jobs=10)]: Done 172 tasks      | elapsed:    0.0s\n",
      "[Parallel(n_jobs=10)]: Done 247 out of 247 | elapsed:    0.1s finished\n",
      "[Parallel(n_jobs=10)]: Using backend LokyBackend with 10 concurrent workers.\n",
      "[Parallel(n_jobs=10)]: Done   8 tasks      | elapsed:    0.0s\n",
      "[Parallel(n_jobs=10)]: Done 172 tasks      | elapsed:    0.0s\n"
     ]
    },
    {
     "name": "stdout",
     "output_type": "stream",
     "text": [
      "Applying baseline correction (mode: zscore)\n",
      "NOTE: tfr_morlet() is a legacy function. New code should use .compute_tfr(method=\"morlet\").\n",
      "Applying baseline correction (mode: zscore)\n",
      "NOTE: tfr_morlet() is a legacy function. New code should use .compute_tfr(method=\"morlet\").\n"
     ]
    },
    {
     "name": "stderr",
     "output_type": "stream",
     "text": [
      "[Parallel(n_jobs=10)]: Done 247 out of 247 | elapsed:    0.1s finished\n",
      "[Parallel(n_jobs=10)]: Using backend LokyBackend with 10 concurrent workers.\n",
      "[Parallel(n_jobs=10)]: Done   8 tasks      | elapsed:    0.0s\n",
      "[Parallel(n_jobs=10)]: Done 172 tasks      | elapsed:    0.0s\n",
      "[Parallel(n_jobs=10)]: Done 247 out of 247 | elapsed:    0.1s finished\n",
      "[Parallel(n_jobs=10)]: Using backend LokyBackend with 10 concurrent workers.\n",
      "[Parallel(n_jobs=10)]: Done   8 tasks      | elapsed:    0.0s\n",
      "[Parallel(n_jobs=10)]: Done 172 tasks      | elapsed:    0.0s\n"
     ]
    },
    {
     "name": "stdout",
     "output_type": "stream",
     "text": [
      "Applying baseline correction (mode: zscore)\n",
      "NOTE: tfr_morlet() is a legacy function. New code should use .compute_tfr(method=\"morlet\").\n",
      "Applying baseline correction (mode: zscore)\n",
      "NOTE: tfr_morlet() is a legacy function. New code should use .compute_tfr(method=\"morlet\").\n"
     ]
    },
    {
     "name": "stderr",
     "output_type": "stream",
     "text": [
      "[Parallel(n_jobs=10)]: Done 247 out of 247 | elapsed:    0.1s finished\n",
      "[Parallel(n_jobs=10)]: Using backend LokyBackend with 10 concurrent workers.\n",
      "[Parallel(n_jobs=10)]: Done   8 tasks      | elapsed:    0.0s\n",
      "[Parallel(n_jobs=10)]: Done 172 tasks      | elapsed:    0.1s\n",
      "[Parallel(n_jobs=10)]: Done 247 out of 247 | elapsed:    0.1s finished\n",
      "[Parallel(n_jobs=10)]: Using backend LokyBackend with 10 concurrent workers.\n",
      "[Parallel(n_jobs=10)]: Done   8 tasks      | elapsed:    0.0s\n"
     ]
    },
    {
     "name": "stdout",
     "output_type": "stream",
     "text": [
      "Applying baseline correction (mode: zscore)\n",
      "NOTE: tfr_morlet() is a legacy function. New code should use .compute_tfr(method=\"morlet\").\n",
      "Applying baseline correction (mode: zscore)\n",
      "NOTE: tfr_morlet() is a legacy function. New code should use .compute_tfr(method=\"morlet\").\n"
     ]
    },
    {
     "name": "stderr",
     "output_type": "stream",
     "text": [
      "[Parallel(n_jobs=10)]: Done 172 tasks      | elapsed:    0.1s\n",
      "[Parallel(n_jobs=10)]: Done 247 out of 247 | elapsed:    0.1s finished\n",
      "[Parallel(n_jobs=10)]: Using backend LokyBackend with 10 concurrent workers.\n",
      "[Parallel(n_jobs=10)]: Done   8 tasks      | elapsed:    0.0s\n",
      "[Parallel(n_jobs=10)]: Done 172 tasks      | elapsed:    0.0s\n",
      "[Parallel(n_jobs=10)]: Done 247 out of 247 | elapsed:    0.1s finished\n",
      "[Parallel(n_jobs=10)]: Using backend LokyBackend with 10 concurrent workers.\n",
      "[Parallel(n_jobs=10)]: Done   8 tasks      | elapsed:    0.0s\n"
     ]
    },
    {
     "name": "stdout",
     "output_type": "stream",
     "text": [
      "Applying baseline correction (mode: zscore)\n",
      "NOTE: tfr_morlet() is a legacy function. New code should use .compute_tfr(method=\"morlet\").\n",
      "Applying baseline correction (mode: zscore)\n",
      "NOTE: tfr_morlet() is a legacy function. New code should use .compute_tfr(method=\"morlet\").\n"
     ]
    },
    {
     "name": "stderr",
     "output_type": "stream",
     "text": [
      "[Parallel(n_jobs=10)]: Done 172 tasks      | elapsed:    0.1s\n",
      "[Parallel(n_jobs=10)]: Done 247 out of 247 | elapsed:    0.1s finished\n",
      "[Parallel(n_jobs=10)]: Using backend LokyBackend with 10 concurrent workers.\n",
      "[Parallel(n_jobs=10)]: Done   8 tasks      | elapsed:    0.0s\n",
      "[Parallel(n_jobs=10)]: Done 172 tasks      | elapsed:    0.0s\n",
      "[Parallel(n_jobs=10)]: Done 247 out of 247 | elapsed:    0.1s finished\n",
      "[Parallel(n_jobs=10)]: Using backend LokyBackend with 10 concurrent workers.\n",
      "[Parallel(n_jobs=10)]: Done   8 tasks      | elapsed:    0.0s\n"
     ]
    },
    {
     "name": "stdout",
     "output_type": "stream",
     "text": [
      "Applying baseline correction (mode: zscore)\n",
      "NOTE: tfr_morlet() is a legacy function. New code should use .compute_tfr(method=\"morlet\").\n",
      "Applying baseline correction (mode: zscore)\n",
      "NOTE: tfr_morlet() is a legacy function. New code should use .compute_tfr(method=\"morlet\").\n"
     ]
    },
    {
     "name": "stderr",
     "output_type": "stream",
     "text": [
      "[Parallel(n_jobs=10)]: Done 172 tasks      | elapsed:    0.1s\n",
      "[Parallel(n_jobs=10)]: Done 247 out of 247 | elapsed:    0.1s finished\n",
      "[Parallel(n_jobs=10)]: Using backend LokyBackend with 10 concurrent workers.\n",
      "[Parallel(n_jobs=10)]: Done   8 tasks      | elapsed:    0.0s\n",
      "[Parallel(n_jobs=10)]: Done 172 tasks      | elapsed:    0.0s\n",
      "[Parallel(n_jobs=10)]: Done 247 out of 247 | elapsed:    0.1s finished\n",
      "[Parallel(n_jobs=10)]: Using backend LokyBackend with 10 concurrent workers.\n",
      "[Parallel(n_jobs=10)]: Done   8 tasks      | elapsed:    0.0s\n"
     ]
    },
    {
     "name": "stdout",
     "output_type": "stream",
     "text": [
      "Applying baseline correction (mode: zscore)\n",
      "NOTE: tfr_morlet() is a legacy function. New code should use .compute_tfr(method=\"morlet\").\n",
      "Applying baseline correction (mode: zscore)\n",
      "NOTE: tfr_morlet() is a legacy function. New code should use .compute_tfr(method=\"morlet\").\n"
     ]
    },
    {
     "name": "stderr",
     "output_type": "stream",
     "text": [
      "[Parallel(n_jobs=10)]: Done 172 tasks      | elapsed:    0.0s\n",
      "[Parallel(n_jobs=10)]: Done 247 out of 247 | elapsed:    0.1s finished\n",
      "[Parallel(n_jobs=10)]: Using backend LokyBackend with 10 concurrent workers.\n",
      "[Parallel(n_jobs=10)]: Done   8 tasks      | elapsed:    0.0s\n",
      "[Parallel(n_jobs=10)]: Done 172 tasks      | elapsed:    0.0s\n",
      "[Parallel(n_jobs=10)]: Done 247 out of 247 | elapsed:    0.1s finished\n",
      "[Parallel(n_jobs=10)]: Using backend LokyBackend with 10 concurrent workers.\n",
      "[Parallel(n_jobs=10)]: Done   8 tasks      | elapsed:    0.0s\n"
     ]
    },
    {
     "name": "stdout",
     "output_type": "stream",
     "text": [
      "Applying baseline correction (mode: zscore)\n",
      "NOTE: tfr_morlet() is a legacy function. New code should use .compute_tfr(method=\"morlet\").\n",
      "Applying baseline correction (mode: zscore)\n",
      "NOTE: tfr_morlet() is a legacy function. New code should use .compute_tfr(method=\"morlet\").\n"
     ]
    },
    {
     "name": "stderr",
     "output_type": "stream",
     "text": [
      "[Parallel(n_jobs=10)]: Done 172 tasks      | elapsed:    0.0s\n",
      "[Parallel(n_jobs=10)]: Done 247 out of 247 | elapsed:    0.1s finished\n",
      "[Parallel(n_jobs=10)]: Using backend LokyBackend with 10 concurrent workers.\n",
      "[Parallel(n_jobs=10)]: Done   8 tasks      | elapsed:    0.0s\n",
      "[Parallel(n_jobs=10)]: Done 172 tasks      | elapsed:    0.0s\n",
      "[Parallel(n_jobs=10)]: Done 247 out of 247 | elapsed:    0.1s finished\n",
      "[Parallel(n_jobs=10)]: Using backend LokyBackend with 10 concurrent workers.\n",
      "[Parallel(n_jobs=10)]: Done   8 tasks      | elapsed:    0.0s\n"
     ]
    },
    {
     "name": "stdout",
     "output_type": "stream",
     "text": [
      "Applying baseline correction (mode: zscore)\n",
      "NOTE: tfr_morlet() is a legacy function. New code should use .compute_tfr(method=\"morlet\").\n",
      "Applying baseline correction (mode: zscore)\n",
      "NOTE: tfr_morlet() is a legacy function. New code should use .compute_tfr(method=\"morlet\").\n"
     ]
    },
    {
     "name": "stderr",
     "output_type": "stream",
     "text": [
      "[Parallel(n_jobs=10)]: Done 172 tasks      | elapsed:    0.0s\n",
      "[Parallel(n_jobs=10)]: Done 247 out of 247 | elapsed:    0.1s finished\n",
      "[Parallel(n_jobs=10)]: Using backend LokyBackend with 10 concurrent workers.\n",
      "[Parallel(n_jobs=10)]: Done   8 tasks      | elapsed:    0.0s\n",
      "[Parallel(n_jobs=10)]: Done 172 tasks      | elapsed:    0.0s\n",
      "[Parallel(n_jobs=10)]: Done 247 out of 247 | elapsed:    0.1s finished\n",
      "[Parallel(n_jobs=10)]: Using backend LokyBackend with 10 concurrent workers.\n",
      "[Parallel(n_jobs=10)]: Done   8 tasks      | elapsed:    0.0s\n"
     ]
    },
    {
     "name": "stdout",
     "output_type": "stream",
     "text": [
      "Applying baseline correction (mode: zscore)\n",
      "NOTE: tfr_morlet() is a legacy function. New code should use .compute_tfr(method=\"morlet\").\n",
      "Applying baseline correction (mode: zscore)\n",
      "NOTE: tfr_morlet() is a legacy function. New code should use .compute_tfr(method=\"morlet\").\n"
     ]
    },
    {
     "name": "stderr",
     "output_type": "stream",
     "text": [
      "[Parallel(n_jobs=10)]: Done 172 tasks      | elapsed:    0.0s\n",
      "[Parallel(n_jobs=10)]: Done 247 out of 247 | elapsed:    0.1s finished\n",
      "[Parallel(n_jobs=10)]: Using backend LokyBackend with 10 concurrent workers.\n",
      "[Parallel(n_jobs=10)]: Done   8 tasks      | elapsed:    0.0s\n",
      "[Parallel(n_jobs=10)]: Done 172 tasks      | elapsed:    0.0s\n",
      "[Parallel(n_jobs=10)]: Done 247 out of 247 | elapsed:    0.1s finished\n",
      "[Parallel(n_jobs=10)]: Using backend LokyBackend with 10 concurrent workers.\n",
      "[Parallel(n_jobs=10)]: Done   8 tasks      | elapsed:    0.0s\n"
     ]
    },
    {
     "name": "stdout",
     "output_type": "stream",
     "text": [
      "Applying baseline correction (mode: zscore)\n",
      "NOTE: tfr_morlet() is a legacy function. New code should use .compute_tfr(method=\"morlet\").\n",
      "Applying baseline correction (mode: zscore)\n",
      "NOTE: tfr_morlet() is a legacy function. New code should use .compute_tfr(method=\"morlet\").\n"
     ]
    },
    {
     "name": "stderr",
     "output_type": "stream",
     "text": [
      "[Parallel(n_jobs=10)]: Done 172 tasks      | elapsed:    0.0s\n",
      "[Parallel(n_jobs=10)]: Done 247 out of 247 | elapsed:    0.1s finished\n",
      "[Parallel(n_jobs=10)]: Using backend LokyBackend with 10 concurrent workers.\n",
      "[Parallel(n_jobs=10)]: Done   8 tasks      | elapsed:    0.0s\n",
      "[Parallel(n_jobs=10)]: Done 172 tasks      | elapsed:    0.0s\n",
      "[Parallel(n_jobs=10)]: Done 247 out of 247 | elapsed:    0.1s finished\n",
      "[Parallel(n_jobs=10)]: Using backend LokyBackend with 10 concurrent workers.\n",
      "[Parallel(n_jobs=10)]: Done   8 tasks      | elapsed:    0.0s\n"
     ]
    },
    {
     "name": "stdout",
     "output_type": "stream",
     "text": [
      "Applying baseline correction (mode: zscore)\n",
      "NOTE: tfr_morlet() is a legacy function. New code should use .compute_tfr(method=\"morlet\").\n",
      "Applying baseline correction (mode: zscore)\n",
      "NOTE: tfr_morlet() is a legacy function. New code should use .compute_tfr(method=\"morlet\").\n"
     ]
    },
    {
     "name": "stderr",
     "output_type": "stream",
     "text": [
      "[Parallel(n_jobs=10)]: Done 172 tasks      | elapsed:    0.0s\n",
      "[Parallel(n_jobs=10)]: Done 247 out of 247 | elapsed:    0.1s finished\n",
      "[Parallel(n_jobs=10)]: Using backend LokyBackend with 10 concurrent workers.\n",
      "[Parallel(n_jobs=10)]: Done   8 tasks      | elapsed:    0.0s\n",
      "[Parallel(n_jobs=10)]: Done 172 tasks      | elapsed:    0.0s\n",
      "[Parallel(n_jobs=10)]: Done 247 out of 247 | elapsed:    0.1s finished\n",
      "[Parallel(n_jobs=10)]: Using backend LokyBackend with 10 concurrent workers.\n",
      "[Parallel(n_jobs=10)]: Done   8 tasks      | elapsed:    0.0s\n"
     ]
    },
    {
     "name": "stdout",
     "output_type": "stream",
     "text": [
      "Applying baseline correction (mode: zscore)\n",
      "NOTE: tfr_morlet() is a legacy function. New code should use .compute_tfr(method=\"morlet\").\n",
      "Applying baseline correction (mode: zscore)\n",
      "NOTE: tfr_morlet() is a legacy function. New code should use .compute_tfr(method=\"morlet\").\n"
     ]
    },
    {
     "name": "stderr",
     "output_type": "stream",
     "text": [
      "[Parallel(n_jobs=10)]: Done 172 tasks      | elapsed:    0.0s\n",
      "[Parallel(n_jobs=10)]: Done 247 out of 247 | elapsed:    0.1s finished\n",
      "[Parallel(n_jobs=10)]: Using backend LokyBackend with 10 concurrent workers.\n",
      "[Parallel(n_jobs=10)]: Done   8 tasks      | elapsed:    0.0s\n",
      "[Parallel(n_jobs=10)]: Done 172 tasks      | elapsed:    0.0s\n",
      "[Parallel(n_jobs=10)]: Done 247 out of 247 | elapsed:    0.1s finished\n"
     ]
    },
    {
     "name": "stdout",
     "output_type": "stream",
     "text": [
      "Applying baseline correction (mode: zscore)\n",
      "NOTE: tfr_morlet() is a legacy function. New code should use .compute_tfr(method=\"morlet\").\n"
     ]
    },
    {
     "name": "stderr",
     "output_type": "stream",
     "text": [
      "[Parallel(n_jobs=10)]: Using backend LokyBackend with 10 concurrent workers.\n",
      "[Parallel(n_jobs=10)]: Done   8 tasks      | elapsed:    0.0s\n",
      "[Parallel(n_jobs=10)]: Done 172 tasks      | elapsed:    0.1s\n",
      "[Parallel(n_jobs=10)]: Done 247 out of 247 | elapsed:    0.1s finished\n",
      "[Parallel(n_jobs=10)]: Using backend LokyBackend with 10 concurrent workers.\n",
      "[Parallel(n_jobs=10)]: Done   8 tasks      | elapsed:    0.0s\n",
      "[Parallel(n_jobs=10)]: Done 172 tasks      | elapsed:    0.0s\n"
     ]
    },
    {
     "name": "stdout",
     "output_type": "stream",
     "text": [
      "Applying baseline correction (mode: zscore)\n",
      "NOTE: tfr_morlet() is a legacy function. New code should use .compute_tfr(method=\"morlet\").\n",
      "Applying baseline correction (mode: zscore)\n",
      "NOTE: tfr_morlet() is a legacy function. New code should use .compute_tfr(method=\"morlet\").\n"
     ]
    },
    {
     "name": "stderr",
     "output_type": "stream",
     "text": [
      "[Parallel(n_jobs=10)]: Done 247 out of 247 | elapsed:    0.1s finished\n",
      "[Parallel(n_jobs=10)]: Using backend LokyBackend with 10 concurrent workers.\n",
      "[Parallel(n_jobs=10)]: Done   8 tasks      | elapsed:    0.0s\n",
      "[Parallel(n_jobs=10)]: Done 172 tasks      | elapsed:    0.0s\n",
      "[Parallel(n_jobs=10)]: Done 247 out of 247 | elapsed:    0.1s finished\n",
      "[Parallel(n_jobs=10)]: Using backend LokyBackend with 10 concurrent workers.\n",
      "[Parallel(n_jobs=10)]: Done   8 tasks      | elapsed:    0.0s\n",
      "[Parallel(n_jobs=10)]: Done 172 tasks      | elapsed:    0.1s\n"
     ]
    },
    {
     "name": "stdout",
     "output_type": "stream",
     "text": [
      "Applying baseline correction (mode: zscore)\n",
      "NOTE: tfr_morlet() is a legacy function. New code should use .compute_tfr(method=\"morlet\").\n",
      "Applying baseline correction (mode: zscore)\n",
      "NOTE: tfr_morlet() is a legacy function. New code should use .compute_tfr(method=\"morlet\").\n"
     ]
    },
    {
     "name": "stderr",
     "output_type": "stream",
     "text": [
      "[Parallel(n_jobs=10)]: Done 247 out of 247 | elapsed:    0.1s finished\n",
      "[Parallel(n_jobs=10)]: Using backend LokyBackend with 10 concurrent workers.\n",
      "[Parallel(n_jobs=10)]: Done   8 tasks      | elapsed:    0.0s\n",
      "[Parallel(n_jobs=10)]: Done 172 tasks      | elapsed:    0.0s\n",
      "[Parallel(n_jobs=10)]: Done 247 out of 247 | elapsed:    0.1s finished\n",
      "[Parallel(n_jobs=10)]: Using backend LokyBackend with 10 concurrent workers.\n",
      "[Parallel(n_jobs=10)]: Done   8 tasks      | elapsed:    0.0s\n",
      "[Parallel(n_jobs=10)]: Done 172 tasks      | elapsed:    0.0s\n"
     ]
    },
    {
     "name": "stdout",
     "output_type": "stream",
     "text": [
      "Applying baseline correction (mode: zscore)\n",
      "NOTE: tfr_morlet() is a legacy function. New code should use .compute_tfr(method=\"morlet\").\n",
      "Applying baseline correction (mode: zscore)\n",
      "NOTE: tfr_morlet() is a legacy function. New code should use .compute_tfr(method=\"morlet\").\n"
     ]
    },
    {
     "name": "stderr",
     "output_type": "stream",
     "text": [
      "[Parallel(n_jobs=10)]: Done 247 out of 247 | elapsed:    0.1s finished\n",
      "[Parallel(n_jobs=10)]: Using backend LokyBackend with 10 concurrent workers.\n",
      "[Parallel(n_jobs=10)]: Done   8 tasks      | elapsed:    0.0s\n",
      "[Parallel(n_jobs=10)]: Done 172 tasks      | elapsed:    0.0s\n",
      "[Parallel(n_jobs=10)]: Done 247 out of 247 | elapsed:    0.1s finished\n",
      "[Parallel(n_jobs=10)]: Using backend LokyBackend with 10 concurrent workers.\n",
      "[Parallel(n_jobs=10)]: Done   8 tasks      | elapsed:    0.0s\n",
      "[Parallel(n_jobs=10)]: Done 172 tasks      | elapsed:    0.0s\n"
     ]
    },
    {
     "name": "stdout",
     "output_type": "stream",
     "text": [
      "Applying baseline correction (mode: zscore)\n",
      "NOTE: tfr_morlet() is a legacy function. New code should use .compute_tfr(method=\"morlet\").\n",
      "Applying baseline correction (mode: zscore)\n",
      "NOTE: tfr_morlet() is a legacy function. New code should use .compute_tfr(method=\"morlet\").\n"
     ]
    },
    {
     "name": "stderr",
     "output_type": "stream",
     "text": [
      "[Parallel(n_jobs=10)]: Done 247 out of 247 | elapsed:    0.1s finished\n",
      "[Parallel(n_jobs=10)]: Using backend LokyBackend with 10 concurrent workers.\n",
      "[Parallel(n_jobs=10)]: Done   8 tasks      | elapsed:    0.0s\n",
      "[Parallel(n_jobs=10)]: Done 172 tasks      | elapsed:    0.1s\n",
      "[Parallel(n_jobs=10)]: Done 247 out of 247 | elapsed:    0.1s finished\n",
      "[Parallel(n_jobs=10)]: Using backend LokyBackend with 10 concurrent workers.\n",
      "[Parallel(n_jobs=10)]: Done   8 tasks      | elapsed:    0.0s\n",
      "[Parallel(n_jobs=10)]: Done 172 tasks      | elapsed:    0.0s\n"
     ]
    },
    {
     "name": "stdout",
     "output_type": "stream",
     "text": [
      "Applying baseline correction (mode: zscore)\n",
      "NOTE: tfr_morlet() is a legacy function. New code should use .compute_tfr(method=\"morlet\").\n",
      "Applying baseline correction (mode: zscore)\n",
      "NOTE: tfr_morlet() is a legacy function. New code should use .compute_tfr(method=\"morlet\").\n"
     ]
    },
    {
     "name": "stderr",
     "output_type": "stream",
     "text": [
      "[Parallel(n_jobs=10)]: Done 247 out of 247 | elapsed:    0.1s finished\n",
      "[Parallel(n_jobs=10)]: Using backend LokyBackend with 10 concurrent workers.\n",
      "[Parallel(n_jobs=10)]: Done   8 tasks      | elapsed:    0.0s\n",
      "[Parallel(n_jobs=10)]: Done 172 tasks      | elapsed:    0.0s\n",
      "[Parallel(n_jobs=10)]: Done 247 out of 247 | elapsed:    0.1s finished\n",
      "[Parallel(n_jobs=10)]: Using backend LokyBackend with 10 concurrent workers.\n",
      "[Parallel(n_jobs=10)]: Done   8 tasks      | elapsed:    0.0s\n",
      "[Parallel(n_jobs=10)]: Done 172 tasks      | elapsed:    0.0s\n"
     ]
    },
    {
     "name": "stdout",
     "output_type": "stream",
     "text": [
      "Applying baseline correction (mode: zscore)\n",
      "NOTE: tfr_morlet() is a legacy function. New code should use .compute_tfr(method=\"morlet\").\n",
      "Applying baseline correction (mode: zscore)\n",
      "NOTE: tfr_morlet() is a legacy function. New code should use .compute_tfr(method=\"morlet\").\n"
     ]
    },
    {
     "name": "stderr",
     "output_type": "stream",
     "text": [
      "[Parallel(n_jobs=10)]: Done 247 out of 247 | elapsed:    0.1s finished\n",
      "[Parallel(n_jobs=10)]: Using backend LokyBackend with 10 concurrent workers.\n",
      "[Parallel(n_jobs=10)]: Done   8 tasks      | elapsed:    0.0s\n",
      "[Parallel(n_jobs=10)]: Done 172 tasks      | elapsed:    0.0s\n",
      "[Parallel(n_jobs=10)]: Done 247 out of 247 | elapsed:    0.1s finished\n",
      "[Parallel(n_jobs=10)]: Using backend LokyBackend with 10 concurrent workers.\n",
      "[Parallel(n_jobs=10)]: Done   8 tasks      | elapsed:    0.0s\n"
     ]
    },
    {
     "name": "stdout",
     "output_type": "stream",
     "text": [
      "Applying baseline correction (mode: zscore)\n",
      "NOTE: tfr_morlet() is a legacy function. New code should use .compute_tfr(method=\"morlet\").\n",
      "Applying baseline correction (mode: zscore)\n",
      "NOTE: tfr_morlet() is a legacy function. New code should use .compute_tfr(method=\"morlet\").\n"
     ]
    },
    {
     "name": "stderr",
     "output_type": "stream",
     "text": [
      "[Parallel(n_jobs=10)]: Done 172 tasks      | elapsed:    0.1s\n",
      "[Parallel(n_jobs=10)]: Done 247 out of 247 | elapsed:    0.1s finished\n",
      "[Parallel(n_jobs=10)]: Using backend LokyBackend with 10 concurrent workers.\n",
      "[Parallel(n_jobs=10)]: Done   8 tasks      | elapsed:    0.0s\n",
      "[Parallel(n_jobs=10)]: Done 172 tasks      | elapsed:    0.0s\n",
      "[Parallel(n_jobs=10)]: Done 247 out of 247 | elapsed:    0.1s finished\n",
      "[Parallel(n_jobs=10)]: Using backend LokyBackend with 10 concurrent workers.\n",
      "[Parallel(n_jobs=10)]: Done   8 tasks      | elapsed:    0.0s\n"
     ]
    },
    {
     "name": "stdout",
     "output_type": "stream",
     "text": [
      "Applying baseline correction (mode: zscore)\n",
      "NOTE: tfr_morlet() is a legacy function. New code should use .compute_tfr(method=\"morlet\").\n",
      "Applying baseline correction (mode: zscore)\n",
      "NOTE: tfr_morlet() is a legacy function. New code should use .compute_tfr(method=\"morlet\").\n"
     ]
    },
    {
     "name": "stderr",
     "output_type": "stream",
     "text": [
      "[Parallel(n_jobs=10)]: Done 172 tasks      | elapsed:    0.1s\n",
      "[Parallel(n_jobs=10)]: Done 247 out of 247 | elapsed:    0.1s finished\n",
      "[Parallel(n_jobs=10)]: Using backend LokyBackend with 10 concurrent workers.\n",
      "[Parallel(n_jobs=10)]: Done   8 tasks      | elapsed:    0.0s\n",
      "[Parallel(n_jobs=10)]: Done 172 tasks      | elapsed:    0.0s\n",
      "[Parallel(n_jobs=10)]: Done 247 out of 247 | elapsed:    0.1s finished\n",
      "[Parallel(n_jobs=10)]: Using backend LokyBackend with 10 concurrent workers.\n",
      "[Parallel(n_jobs=10)]: Done   8 tasks      | elapsed:    0.0s\n"
     ]
    },
    {
     "name": "stdout",
     "output_type": "stream",
     "text": [
      "Applying baseline correction (mode: zscore)\n",
      "NOTE: tfr_morlet() is a legacy function. New code should use .compute_tfr(method=\"morlet\").\n",
      "Applying baseline correction (mode: zscore)\n",
      "NOTE: tfr_morlet() is a legacy function. New code should use .compute_tfr(method=\"morlet\").\n"
     ]
    },
    {
     "name": "stderr",
     "output_type": "stream",
     "text": [
      "[Parallel(n_jobs=10)]: Done 172 tasks      | elapsed:    0.1s\n",
      "[Parallel(n_jobs=10)]: Done 247 out of 247 | elapsed:    0.1s finished\n",
      "[Parallel(n_jobs=10)]: Using backend LokyBackend with 10 concurrent workers.\n",
      "[Parallel(n_jobs=10)]: Done   8 tasks      | elapsed:    0.0s\n",
      "[Parallel(n_jobs=10)]: Done 172 tasks      | elapsed:    0.0s\n",
      "[Parallel(n_jobs=10)]: Done 247 out of 247 | elapsed:    0.1s finished\n",
      "[Parallel(n_jobs=10)]: Using backend LokyBackend with 10 concurrent workers.\n",
      "[Parallel(n_jobs=10)]: Done   8 tasks      | elapsed:    0.0s\n"
     ]
    },
    {
     "name": "stdout",
     "output_type": "stream",
     "text": [
      "Applying baseline correction (mode: zscore)\n",
      "NOTE: tfr_morlet() is a legacy function. New code should use .compute_tfr(method=\"morlet\").\n",
      "Applying baseline correction (mode: zscore)\n",
      "NOTE: tfr_morlet() is a legacy function. New code should use .compute_tfr(method=\"morlet\").\n"
     ]
    },
    {
     "name": "stderr",
     "output_type": "stream",
     "text": [
      "[Parallel(n_jobs=10)]: Done 172 tasks      | elapsed:    0.0s\n",
      "[Parallel(n_jobs=10)]: Done 247 out of 247 | elapsed:    0.1s finished\n",
      "[Parallel(n_jobs=10)]: Using backend LokyBackend with 10 concurrent workers.\n",
      "[Parallel(n_jobs=10)]: Done   8 tasks      | elapsed:    0.0s\n",
      "[Parallel(n_jobs=10)]: Done 172 tasks      | elapsed:    0.0s\n",
      "[Parallel(n_jobs=10)]: Done 247 out of 247 | elapsed:    0.1s finished\n",
      "[Parallel(n_jobs=10)]: Using backend LokyBackend with 10 concurrent workers.\n",
      "[Parallel(n_jobs=10)]: Done   8 tasks      | elapsed:    0.0s\n"
     ]
    },
    {
     "name": "stdout",
     "output_type": "stream",
     "text": [
      "Applying baseline correction (mode: zscore)\n",
      "NOTE: tfr_morlet() is a legacy function. New code should use .compute_tfr(method=\"morlet\").\n",
      "Applying baseline correction (mode: zscore)\n",
      "NOTE: tfr_morlet() is a legacy function. New code should use .compute_tfr(method=\"morlet\").\n"
     ]
    },
    {
     "name": "stderr",
     "output_type": "stream",
     "text": [
      "[Parallel(n_jobs=10)]: Done 172 tasks      | elapsed:    0.0s\n",
      "[Parallel(n_jobs=10)]: Done 247 out of 247 | elapsed:    0.1s finished\n",
      "[Parallel(n_jobs=10)]: Using backend LokyBackend with 10 concurrent workers.\n",
      "[Parallel(n_jobs=10)]: Done   8 tasks      | elapsed:    0.0s\n",
      "[Parallel(n_jobs=10)]: Done 172 tasks      | elapsed:    0.0s\n",
      "[Parallel(n_jobs=10)]: Done 247 out of 247 | elapsed:    0.1s finished\n",
      "[Parallel(n_jobs=10)]: Using backend LokyBackend with 10 concurrent workers.\n",
      "[Parallel(n_jobs=10)]: Done   8 tasks      | elapsed:    0.0s\n"
     ]
    },
    {
     "name": "stdout",
     "output_type": "stream",
     "text": [
      "Applying baseline correction (mode: zscore)\n",
      "NOTE: tfr_morlet() is a legacy function. New code should use .compute_tfr(method=\"morlet\").\n",
      "Applying baseline correction (mode: zscore)\n",
      "NOTE: tfr_morlet() is a legacy function. New code should use .compute_tfr(method=\"morlet\").\n"
     ]
    },
    {
     "name": "stderr",
     "output_type": "stream",
     "text": [
      "[Parallel(n_jobs=10)]: Done 172 tasks      | elapsed:    0.0s\n",
      "[Parallel(n_jobs=10)]: Done 247 out of 247 | elapsed:    0.1s finished\n",
      "[Parallel(n_jobs=10)]: Using backend LokyBackend with 10 concurrent workers.\n",
      "[Parallel(n_jobs=10)]: Done   8 tasks      | elapsed:    0.0s\n",
      "[Parallel(n_jobs=10)]: Done 172 tasks      | elapsed:    0.0s\n",
      "[Parallel(n_jobs=10)]: Done 247 out of 247 | elapsed:    0.1s finished\n",
      "[Parallel(n_jobs=10)]: Using backend LokyBackend with 10 concurrent workers.\n",
      "[Parallel(n_jobs=10)]: Done   8 tasks      | elapsed:    0.0s\n"
     ]
    },
    {
     "name": "stdout",
     "output_type": "stream",
     "text": [
      "Applying baseline correction (mode: zscore)\n",
      "NOTE: tfr_morlet() is a legacy function. New code should use .compute_tfr(method=\"morlet\").\n",
      "Applying baseline correction (mode: zscore)\n",
      "NOTE: tfr_morlet() is a legacy function. New code should use .compute_tfr(method=\"morlet\").\n"
     ]
    },
    {
     "name": "stderr",
     "output_type": "stream",
     "text": [
      "[Parallel(n_jobs=10)]: Done 172 tasks      | elapsed:    0.0s\n",
      "[Parallel(n_jobs=10)]: Done 247 out of 247 | elapsed:    0.1s finished\n",
      "[Parallel(n_jobs=10)]: Using backend LokyBackend with 10 concurrent workers.\n",
      "[Parallel(n_jobs=10)]: Done   8 tasks      | elapsed:    0.0s\n",
      "[Parallel(n_jobs=10)]: Done 172 tasks      | elapsed:    0.1s\n",
      "[Parallel(n_jobs=10)]: Done 247 out of 247 | elapsed:    0.1s finished\n",
      "[Parallel(n_jobs=10)]: Using backend LokyBackend with 10 concurrent workers.\n",
      "[Parallel(n_jobs=10)]: Done   8 tasks      | elapsed:    0.0s\n"
     ]
    },
    {
     "name": "stdout",
     "output_type": "stream",
     "text": [
      "Applying baseline correction (mode: zscore)\n",
      "NOTE: tfr_morlet() is a legacy function. New code should use .compute_tfr(method=\"morlet\").\n",
      "Applying baseline correction (mode: zscore)\n",
      "NOTE: tfr_morlet() is a legacy function. New code should use .compute_tfr(method=\"morlet\").\n"
     ]
    },
    {
     "name": "stderr",
     "output_type": "stream",
     "text": [
      "[Parallel(n_jobs=10)]: Done 172 tasks      | elapsed:    0.1s\n",
      "[Parallel(n_jobs=10)]: Done 247 out of 247 | elapsed:    0.1s finished\n",
      "[Parallel(n_jobs=10)]: Using backend LokyBackend with 10 concurrent workers.\n",
      "[Parallel(n_jobs=10)]: Done   8 tasks      | elapsed:    0.0s\n",
      "[Parallel(n_jobs=10)]: Done 172 tasks      | elapsed:    0.0s\n",
      "[Parallel(n_jobs=10)]: Done 247 out of 247 | elapsed:    0.1s finished\n",
      "[Parallel(n_jobs=10)]: Using backend LokyBackend with 10 concurrent workers.\n",
      "[Parallel(n_jobs=10)]: Done   8 tasks      | elapsed:    0.0s\n"
     ]
    },
    {
     "name": "stdout",
     "output_type": "stream",
     "text": [
      "Applying baseline correction (mode: zscore)\n",
      "NOTE: tfr_morlet() is a legacy function. New code should use .compute_tfr(method=\"morlet\").\n",
      "Applying baseline correction (mode: zscore)\n",
      "NOTE: tfr_morlet() is a legacy function. New code should use .compute_tfr(method=\"morlet\").\n"
     ]
    },
    {
     "name": "stderr",
     "output_type": "stream",
     "text": [
      "[Parallel(n_jobs=10)]: Done 172 tasks      | elapsed:    0.1s\n",
      "[Parallel(n_jobs=10)]: Done 247 out of 247 | elapsed:    0.1s finished\n",
      "[Parallel(n_jobs=10)]: Using backend LokyBackend with 10 concurrent workers.\n",
      "[Parallel(n_jobs=10)]: Done   8 tasks      | elapsed:    0.0s\n",
      "[Parallel(n_jobs=10)]: Done 172 tasks      | elapsed:    0.1s\n",
      "[Parallel(n_jobs=10)]: Done 247 out of 247 | elapsed:    0.1s finished\n",
      "[Parallel(n_jobs=10)]: Using backend LokyBackend with 10 concurrent workers.\n",
      "[Parallel(n_jobs=10)]: Done   8 tasks      | elapsed:    0.0s\n"
     ]
    },
    {
     "name": "stdout",
     "output_type": "stream",
     "text": [
      "Applying baseline correction (mode: zscore)\n",
      "NOTE: tfr_morlet() is a legacy function. New code should use .compute_tfr(method=\"morlet\").\n",
      "Applying baseline correction (mode: zscore)\n",
      "NOTE: tfr_morlet() is a legacy function. New code should use .compute_tfr(method=\"morlet\").\n"
     ]
    },
    {
     "name": "stderr",
     "output_type": "stream",
     "text": [
      "[Parallel(n_jobs=10)]: Done 172 tasks      | elapsed:    0.0s\n",
      "[Parallel(n_jobs=10)]: Done 247 out of 247 | elapsed:    0.1s finished\n",
      "[Parallel(n_jobs=10)]: Using backend LokyBackend with 10 concurrent workers.\n",
      "[Parallel(n_jobs=10)]: Done   8 tasks      | elapsed:    0.0s\n",
      "[Parallel(n_jobs=10)]: Done 172 tasks      | elapsed:    0.0s\n",
      "[Parallel(n_jobs=10)]: Done 247 out of 247 | elapsed:    0.1s finished\n",
      "[Parallel(n_jobs=10)]: Using backend LokyBackend with 10 concurrent workers.\n",
      "[Parallel(n_jobs=10)]: Done   8 tasks      | elapsed:    0.0s\n"
     ]
    },
    {
     "name": "stdout",
     "output_type": "stream",
     "text": [
      "Applying baseline correction (mode: zscore)\n",
      "NOTE: tfr_morlet() is a legacy function. New code should use .compute_tfr(method=\"morlet\").\n",
      "Applying baseline correction (mode: zscore)\n",
      "NOTE: tfr_morlet() is a legacy function. New code should use .compute_tfr(method=\"morlet\").\n"
     ]
    },
    {
     "name": "stderr",
     "output_type": "stream",
     "text": [
      "[Parallel(n_jobs=10)]: Done 172 tasks      | elapsed:    0.0s\n",
      "[Parallel(n_jobs=10)]: Done 247 out of 247 | elapsed:    0.1s finished\n",
      "[Parallel(n_jobs=10)]: Using backend LokyBackend with 10 concurrent workers.\n",
      "[Parallel(n_jobs=10)]: Done   8 tasks      | elapsed:    0.0s\n",
      "[Parallel(n_jobs=10)]: Done 172 tasks      | elapsed:    0.0s\n",
      "[Parallel(n_jobs=10)]: Done 247 out of 247 | elapsed:    0.1s finished\n",
      "[Parallel(n_jobs=10)]: Using backend LokyBackend with 10 concurrent workers.\n",
      "[Parallel(n_jobs=10)]: Done   8 tasks      | elapsed:    0.0s\n"
     ]
    },
    {
     "name": "stdout",
     "output_type": "stream",
     "text": [
      "Applying baseline correction (mode: zscore)\n",
      "NOTE: tfr_morlet() is a legacy function. New code should use .compute_tfr(method=\"morlet\").\n",
      "Applying baseline correction (mode: zscore)\n",
      "NOTE: tfr_morlet() is a legacy function. New code should use .compute_tfr(method=\"morlet\").\n"
     ]
    },
    {
     "name": "stderr",
     "output_type": "stream",
     "text": [
      "[Parallel(n_jobs=10)]: Done 172 tasks      | elapsed:    0.0s\n",
      "[Parallel(n_jobs=10)]: Done 247 out of 247 | elapsed:    0.1s finished\n",
      "[Parallel(n_jobs=10)]: Using backend LokyBackend with 10 concurrent workers.\n",
      "[Parallel(n_jobs=10)]: Done   8 tasks      | elapsed:    0.0s\n",
      "[Parallel(n_jobs=10)]: Done 172 tasks      | elapsed:    0.0s\n",
      "[Parallel(n_jobs=10)]: Done 247 out of 247 | elapsed:    0.1s finished\n",
      "[Parallel(n_jobs=10)]: Using backend LokyBackend with 10 concurrent workers.\n",
      "[Parallel(n_jobs=10)]: Done   8 tasks      | elapsed:    0.0s\n"
     ]
    },
    {
     "name": "stdout",
     "output_type": "stream",
     "text": [
      "Applying baseline correction (mode: zscore)\n",
      "NOTE: tfr_morlet() is a legacy function. New code should use .compute_tfr(method=\"morlet\").\n",
      "Applying baseline correction (mode: zscore)\n",
      "NOTE: tfr_morlet() is a legacy function. New code should use .compute_tfr(method=\"morlet\").\n"
     ]
    },
    {
     "name": "stderr",
     "output_type": "stream",
     "text": [
      "[Parallel(n_jobs=10)]: Done 172 tasks      | elapsed:    0.0s\n",
      "[Parallel(n_jobs=10)]: Done 247 out of 247 | elapsed:    0.1s finished\n",
      "[Parallel(n_jobs=10)]: Using backend LokyBackend with 10 concurrent workers.\n",
      "[Parallel(n_jobs=10)]: Done   8 tasks      | elapsed:    0.0s\n",
      "[Parallel(n_jobs=10)]: Done 172 tasks      | elapsed:    0.0s\n",
      "[Parallel(n_jobs=10)]: Done 247 out of 247 | elapsed:    0.1s finished\n",
      "[Parallel(n_jobs=10)]: Using backend LokyBackend with 10 concurrent workers.\n",
      "[Parallel(n_jobs=10)]: Done   8 tasks      | elapsed:    0.0s\n"
     ]
    },
    {
     "name": "stdout",
     "output_type": "stream",
     "text": [
      "Applying baseline correction (mode: zscore)\n",
      "NOTE: tfr_morlet() is a legacy function. New code should use .compute_tfr(method=\"morlet\").\n",
      "Applying baseline correction (mode: zscore)\n",
      "NOTE: tfr_morlet() is a legacy function. New code should use .compute_tfr(method=\"morlet\").\n"
     ]
    },
    {
     "name": "stderr",
     "output_type": "stream",
     "text": [
      "[Parallel(n_jobs=10)]: Done 172 tasks      | elapsed:    0.1s\n",
      "[Parallel(n_jobs=10)]: Done 247 out of 247 | elapsed:    0.1s finished\n",
      "[Parallel(n_jobs=10)]: Using backend LokyBackend with 10 concurrent workers.\n",
      "[Parallel(n_jobs=10)]: Done   8 tasks      | elapsed:    0.0s\n",
      "[Parallel(n_jobs=10)]: Done 172 tasks      | elapsed:    0.0s\n",
      "[Parallel(n_jobs=10)]: Done 247 out of 247 | elapsed:    0.1s finished\n",
      "[Parallel(n_jobs=10)]: Using backend LokyBackend with 10 concurrent workers.\n",
      "[Parallel(n_jobs=10)]: Done   8 tasks      | elapsed:    0.0s\n"
     ]
    },
    {
     "name": "stdout",
     "output_type": "stream",
     "text": [
      "Applying baseline correction (mode: zscore)\n",
      "NOTE: tfr_morlet() is a legacy function. New code should use .compute_tfr(method=\"morlet\").\n",
      "Applying baseline correction (mode: zscore)\n",
      "NOTE: tfr_morlet() is a legacy function. New code should use .compute_tfr(method=\"morlet\").\n"
     ]
    },
    {
     "name": "stderr",
     "output_type": "stream",
     "text": [
      "[Parallel(n_jobs=10)]: Done 172 tasks      | elapsed:    0.0s\n",
      "[Parallel(n_jobs=10)]: Done 247 out of 247 | elapsed:    0.1s finished\n",
      "[Parallel(n_jobs=10)]: Using backend LokyBackend with 10 concurrent workers.\n",
      "[Parallel(n_jobs=10)]: Done   8 tasks      | elapsed:    0.0s\n",
      "[Parallel(n_jobs=10)]: Done 172 tasks      | elapsed:    0.0s\n",
      "[Parallel(n_jobs=10)]: Done 247 out of 247 | elapsed:    0.1s finished\n",
      "[Parallel(n_jobs=10)]: Using backend LokyBackend with 10 concurrent workers.\n",
      "[Parallel(n_jobs=10)]: Done   8 tasks      | elapsed:    0.0s\n"
     ]
    },
    {
     "name": "stdout",
     "output_type": "stream",
     "text": [
      "Applying baseline correction (mode: zscore)\n",
      "NOTE: tfr_morlet() is a legacy function. New code should use .compute_tfr(method=\"morlet\").\n",
      "Applying baseline correction (mode: zscore)\n",
      "NOTE: tfr_morlet() is a legacy function. New code should use .compute_tfr(method=\"morlet\").\n"
     ]
    },
    {
     "name": "stderr",
     "output_type": "stream",
     "text": [
      "[Parallel(n_jobs=10)]: Done 172 tasks      | elapsed:    0.0s\n",
      "[Parallel(n_jobs=10)]: Done 247 out of 247 | elapsed:    0.1s finished\n",
      "[Parallel(n_jobs=10)]: Using backend LokyBackend with 10 concurrent workers.\n",
      "[Parallel(n_jobs=10)]: Done   8 tasks      | elapsed:    0.0s\n",
      "[Parallel(n_jobs=10)]: Done 172 tasks      | elapsed:    0.0s\n",
      "[Parallel(n_jobs=10)]: Done 247 out of 247 | elapsed:    0.1s finished\n",
      "[Parallel(n_jobs=10)]: Using backend LokyBackend with 10 concurrent workers.\n",
      "[Parallel(n_jobs=10)]: Done   8 tasks      | elapsed:    0.0s\n"
     ]
    },
    {
     "name": "stdout",
     "output_type": "stream",
     "text": [
      "Applying baseline correction (mode: zscore)\n",
      "NOTE: tfr_morlet() is a legacy function. New code should use .compute_tfr(method=\"morlet\").\n",
      "Applying baseline correction (mode: zscore)\n",
      "NOTE: tfr_morlet() is a legacy function. New code should use .compute_tfr(method=\"morlet\").\n"
     ]
    },
    {
     "name": "stderr",
     "output_type": "stream",
     "text": [
      "[Parallel(n_jobs=10)]: Done 172 tasks      | elapsed:    0.1s\n",
      "[Parallel(n_jobs=10)]: Done 247 out of 247 | elapsed:    0.1s finished\n",
      "[Parallel(n_jobs=10)]: Using backend LokyBackend with 10 concurrent workers.\n",
      "[Parallel(n_jobs=10)]: Done   8 tasks      | elapsed:    0.0s\n",
      "[Parallel(n_jobs=10)]: Done 172 tasks      | elapsed:    0.0s\n",
      "[Parallel(n_jobs=10)]: Done 247 out of 247 | elapsed:    0.1s finished\n",
      "[Parallel(n_jobs=10)]: Using backend LokyBackend with 10 concurrent workers.\n",
      "[Parallel(n_jobs=10)]: Done   8 tasks      | elapsed:    0.0s\n"
     ]
    },
    {
     "name": "stdout",
     "output_type": "stream",
     "text": [
      "Applying baseline correction (mode: zscore)\n",
      "NOTE: tfr_morlet() is a legacy function. New code should use .compute_tfr(method=\"morlet\").\n",
      "Applying baseline correction (mode: zscore)\n",
      "NOTE: tfr_morlet() is a legacy function. New code should use .compute_tfr(method=\"morlet\").\n"
     ]
    },
    {
     "name": "stderr",
     "output_type": "stream",
     "text": [
      "[Parallel(n_jobs=10)]: Done 172 tasks      | elapsed:    0.1s\n",
      "[Parallel(n_jobs=10)]: Done 247 out of 247 | elapsed:    0.1s finished\n",
      "[Parallel(n_jobs=10)]: Using backend LokyBackend with 10 concurrent workers.\n",
      "[Parallel(n_jobs=10)]: Done   8 tasks      | elapsed:    0.0s\n",
      "[Parallel(n_jobs=10)]: Done 172 tasks      | elapsed:    0.0s\n",
      "[Parallel(n_jobs=10)]: Done 247 out of 247 | elapsed:    0.1s finished\n",
      "[Parallel(n_jobs=10)]: Using backend LokyBackend with 10 concurrent workers.\n",
      "[Parallel(n_jobs=10)]: Done   8 tasks      | elapsed:    0.0s\n"
     ]
    },
    {
     "name": "stdout",
     "output_type": "stream",
     "text": [
      "Applying baseline correction (mode: zscore)\n",
      "NOTE: tfr_morlet() is a legacy function. New code should use .compute_tfr(method=\"morlet\").\n",
      "Applying baseline correction (mode: zscore)\n",
      "NOTE: tfr_morlet() is a legacy function. New code should use .compute_tfr(method=\"morlet\").\n"
     ]
    },
    {
     "name": "stderr",
     "output_type": "stream",
     "text": [
      "[Parallel(n_jobs=10)]: Done 172 tasks      | elapsed:    0.1s\n",
      "[Parallel(n_jobs=10)]: Done 247 out of 247 | elapsed:    0.1s finished\n",
      "[Parallel(n_jobs=10)]: Using backend LokyBackend with 10 concurrent workers.\n",
      "[Parallel(n_jobs=10)]: Done   8 tasks      | elapsed:    0.0s\n",
      "[Parallel(n_jobs=10)]: Done 172 tasks      | elapsed:    0.0s\n",
      "[Parallel(n_jobs=10)]: Done 247 out of 247 | elapsed:    0.1s finished\n",
      "[Parallel(n_jobs=10)]: Using backend LokyBackend with 10 concurrent workers.\n",
      "[Parallel(n_jobs=10)]: Done   8 tasks      | elapsed:    0.0s\n"
     ]
    },
    {
     "name": "stdout",
     "output_type": "stream",
     "text": [
      "Applying baseline correction (mode: zscore)\n",
      "NOTE: tfr_morlet() is a legacy function. New code should use .compute_tfr(method=\"morlet\").\n",
      "Applying baseline correction (mode: zscore)\n",
      "NOTE: tfr_morlet() is a legacy function. New code should use .compute_tfr(method=\"morlet\").\n"
     ]
    },
    {
     "name": "stderr",
     "output_type": "stream",
     "text": [
      "[Parallel(n_jobs=10)]: Done 172 tasks      | elapsed:    0.0s\n",
      "[Parallel(n_jobs=10)]: Done 247 out of 247 | elapsed:    0.1s finished\n",
      "[Parallel(n_jobs=10)]: Using backend LokyBackend with 10 concurrent workers.\n",
      "[Parallel(n_jobs=10)]: Done   8 tasks      | elapsed:    0.0s\n",
      "[Parallel(n_jobs=10)]: Done 172 tasks      | elapsed:    0.0s\n",
      "[Parallel(n_jobs=10)]: Done 247 out of 247 | elapsed:    0.1s finished\n",
      "[Parallel(n_jobs=10)]: Using backend LokyBackend with 10 concurrent workers.\n",
      "[Parallel(n_jobs=10)]: Done   8 tasks      | elapsed:    0.0s\n"
     ]
    },
    {
     "name": "stdout",
     "output_type": "stream",
     "text": [
      "Applying baseline correction (mode: zscore)\n",
      "NOTE: tfr_morlet() is a legacy function. New code should use .compute_tfr(method=\"morlet\").\n",
      "Applying baseline correction (mode: zscore)\n",
      "NOTE: tfr_morlet() is a legacy function. New code should use .compute_tfr(method=\"morlet\").\n"
     ]
    },
    {
     "name": "stderr",
     "output_type": "stream",
     "text": [
      "[Parallel(n_jobs=10)]: Done 172 tasks      | elapsed:    0.1s\n",
      "[Parallel(n_jobs=10)]: Done 247 out of 247 | elapsed:    0.2s finished\n",
      "[Parallel(n_jobs=10)]: Using backend LokyBackend with 10 concurrent workers.\n",
      "[Parallel(n_jobs=10)]: Done   8 tasks      | elapsed:    0.0s\n",
      "[Parallel(n_jobs=10)]: Done 172 tasks      | elapsed:    0.0s\n",
      "[Parallel(n_jobs=10)]: Done 247 out of 247 | elapsed:    0.1s finished\n",
      "[Parallel(n_jobs=10)]: Using backend LokyBackend with 10 concurrent workers.\n",
      "[Parallel(n_jobs=10)]: Done   8 tasks      | elapsed:    0.0s\n"
     ]
    },
    {
     "name": "stdout",
     "output_type": "stream",
     "text": [
      "Applying baseline correction (mode: zscore)\n",
      "NOTE: tfr_morlet() is a legacy function. New code should use .compute_tfr(method=\"morlet\").\n",
      "Applying baseline correction (mode: zscore)\n",
      "NOTE: tfr_morlet() is a legacy function. New code should use .compute_tfr(method=\"morlet\").\n"
     ]
    },
    {
     "name": "stderr",
     "output_type": "stream",
     "text": [
      "[Parallel(n_jobs=10)]: Done 172 tasks      | elapsed:    0.0s\n",
      "[Parallel(n_jobs=10)]: Done 247 out of 247 | elapsed:    0.1s finished\n",
      "[Parallel(n_jobs=10)]: Using backend LokyBackend with 10 concurrent workers.\n",
      "[Parallel(n_jobs=10)]: Done   8 tasks      | elapsed:    0.0s\n",
      "[Parallel(n_jobs=10)]: Done 172 tasks      | elapsed:    0.0s\n",
      "[Parallel(n_jobs=10)]: Done 247 out of 247 | elapsed:    0.1s finished\n",
      "[Parallel(n_jobs=10)]: Using backend LokyBackend with 10 concurrent workers.\n",
      "[Parallel(n_jobs=10)]: Done   8 tasks      | elapsed:    0.0s\n"
     ]
    },
    {
     "name": "stdout",
     "output_type": "stream",
     "text": [
      "Applying baseline correction (mode: zscore)\n",
      "NOTE: tfr_morlet() is a legacy function. New code should use .compute_tfr(method=\"morlet\").\n",
      "Applying baseline correction (mode: zscore)\n",
      "NOTE: tfr_morlet() is a legacy function. New code should use .compute_tfr(method=\"morlet\").\n"
     ]
    },
    {
     "name": "stderr",
     "output_type": "stream",
     "text": [
      "[Parallel(n_jobs=10)]: Done 172 tasks      | elapsed:    0.1s\n",
      "[Parallel(n_jobs=10)]: Done 247 out of 247 | elapsed:    0.1s finished\n",
      "[Parallel(n_jobs=10)]: Using backend LokyBackend with 10 concurrent workers.\n",
      "[Parallel(n_jobs=10)]: Done   8 tasks      | elapsed:    0.0s\n",
      "[Parallel(n_jobs=10)]: Done 172 tasks      | elapsed:    0.0s\n",
      "[Parallel(n_jobs=10)]: Done 247 out of 247 | elapsed:    0.1s finished\n",
      "[Parallel(n_jobs=10)]: Using backend LokyBackend with 10 concurrent workers.\n",
      "[Parallel(n_jobs=10)]: Done   8 tasks      | elapsed:    0.0s\n"
     ]
    },
    {
     "name": "stdout",
     "output_type": "stream",
     "text": [
      "Applying baseline correction (mode: zscore)\n",
      "NOTE: tfr_morlet() is a legacy function. New code should use .compute_tfr(method=\"morlet\").\n",
      "Applying baseline correction (mode: zscore)\n",
      "NOTE: tfr_morlet() is a legacy function. New code should use .compute_tfr(method=\"morlet\").\n"
     ]
    },
    {
     "name": "stderr",
     "output_type": "stream",
     "text": [
      "[Parallel(n_jobs=10)]: Done 172 tasks      | elapsed:    0.0s\n",
      "[Parallel(n_jobs=10)]: Done 247 out of 247 | elapsed:    0.1s finished\n",
      "[Parallel(n_jobs=10)]: Using backend LokyBackend with 10 concurrent workers.\n",
      "[Parallel(n_jobs=10)]: Done   8 tasks      | elapsed:    0.0s\n",
      "[Parallel(n_jobs=10)]: Done 172 tasks      | elapsed:    0.0s\n",
      "[Parallel(n_jobs=10)]: Done 247 out of 247 | elapsed:    0.1s finished\n",
      "[Parallel(n_jobs=10)]: Using backend LokyBackend with 10 concurrent workers.\n",
      "[Parallel(n_jobs=10)]: Done   8 tasks      | elapsed:    0.0s\n"
     ]
    },
    {
     "name": "stdout",
     "output_type": "stream",
     "text": [
      "Applying baseline correction (mode: zscore)\n",
      "NOTE: tfr_morlet() is a legacy function. New code should use .compute_tfr(method=\"morlet\").\n",
      "Applying baseline correction (mode: zscore)\n",
      "NOTE: tfr_morlet() is a legacy function. New code should use .compute_tfr(method=\"morlet\").\n"
     ]
    },
    {
     "name": "stderr",
     "output_type": "stream",
     "text": [
      "[Parallel(n_jobs=10)]: Done 172 tasks      | elapsed:    0.0s\n",
      "[Parallel(n_jobs=10)]: Done 247 out of 247 | elapsed:    0.1s finished\n",
      "[Parallel(n_jobs=10)]: Using backend LokyBackend with 10 concurrent workers.\n",
      "[Parallel(n_jobs=10)]: Done   8 tasks      | elapsed:    0.0s\n",
      "[Parallel(n_jobs=10)]: Done 172 tasks      | elapsed:    0.1s\n",
      "[Parallel(n_jobs=10)]: Done 247 out of 247 | elapsed:    0.1s finished\n",
      "[Parallel(n_jobs=10)]: Using backend LokyBackend with 10 concurrent workers.\n",
      "[Parallel(n_jobs=10)]: Done   8 tasks      | elapsed:    0.0s\n"
     ]
    },
    {
     "name": "stdout",
     "output_type": "stream",
     "text": [
      "Applying baseline correction (mode: zscore)\n",
      "NOTE: tfr_morlet() is a legacy function. New code should use .compute_tfr(method=\"morlet\").\n",
      "Applying baseline correction (mode: zscore)\n",
      "NOTE: tfr_morlet() is a legacy function. New code should use .compute_tfr(method=\"morlet\").\n"
     ]
    },
    {
     "name": "stderr",
     "output_type": "stream",
     "text": [
      "[Parallel(n_jobs=10)]: Done 172 tasks      | elapsed:    0.0s\n",
      "[Parallel(n_jobs=10)]: Done 247 out of 247 | elapsed:    0.1s finished\n",
      "[Parallel(n_jobs=10)]: Using backend LokyBackend with 10 concurrent workers.\n",
      "[Parallel(n_jobs=10)]: Done   8 tasks      | elapsed:    0.0s\n",
      "[Parallel(n_jobs=10)]: Done 172 tasks      | elapsed:    0.0s\n",
      "[Parallel(n_jobs=10)]: Done 247 out of 247 | elapsed:    0.1s finished\n",
      "[Parallel(n_jobs=10)]: Using backend LokyBackend with 10 concurrent workers.\n",
      "[Parallel(n_jobs=10)]: Done   8 tasks      | elapsed:    0.0s\n"
     ]
    },
    {
     "name": "stdout",
     "output_type": "stream",
     "text": [
      "Applying baseline correction (mode: zscore)\n",
      "NOTE: tfr_morlet() is a legacy function. New code should use .compute_tfr(method=\"morlet\").\n",
      "Applying baseline correction (mode: zscore)\n",
      "NOTE: tfr_morlet() is a legacy function. New code should use .compute_tfr(method=\"morlet\").\n"
     ]
    },
    {
     "name": "stderr",
     "output_type": "stream",
     "text": [
      "[Parallel(n_jobs=10)]: Done 172 tasks      | elapsed:    0.0s\n",
      "[Parallel(n_jobs=10)]: Done 247 out of 247 | elapsed:    0.1s finished\n",
      "[Parallel(n_jobs=10)]: Using backend LokyBackend with 10 concurrent workers.\n",
      "[Parallel(n_jobs=10)]: Done   8 tasks      | elapsed:    0.0s\n",
      "[Parallel(n_jobs=10)]: Done 172 tasks      | elapsed:    0.1s\n",
      "[Parallel(n_jobs=10)]: Done 247 out of 247 | elapsed:    0.1s finished\n"
     ]
    },
    {
     "name": "stdout",
     "output_type": "stream",
     "text": [
      "Applying baseline correction (mode: zscore)\n",
      "NOTE: tfr_morlet() is a legacy function. New code should use .compute_tfr(method=\"morlet\").\n"
     ]
    },
    {
     "name": "stderr",
     "output_type": "stream",
     "text": [
      "[Parallel(n_jobs=10)]: Using backend LokyBackend with 10 concurrent workers.\n",
      "[Parallel(n_jobs=10)]: Done   8 tasks      | elapsed:    0.0s\n",
      "[Parallel(n_jobs=10)]: Done 172 tasks      | elapsed:    0.1s\n",
      "[Parallel(n_jobs=10)]: Done 247 out of 247 | elapsed:    0.1s finished\n",
      "[Parallel(n_jobs=10)]: Using backend LokyBackend with 10 concurrent workers.\n",
      "[Parallel(n_jobs=10)]: Done   8 tasks      | elapsed:    0.0s\n",
      "[Parallel(n_jobs=10)]: Done 172 tasks      | elapsed:    0.0s\n"
     ]
    },
    {
     "name": "stdout",
     "output_type": "stream",
     "text": [
      "Applying baseline correction (mode: zscore)\n",
      "NOTE: tfr_morlet() is a legacy function. New code should use .compute_tfr(method=\"morlet\").\n",
      "Applying baseline correction (mode: zscore)\n",
      "NOTE: tfr_morlet() is a legacy function. New code should use .compute_tfr(method=\"morlet\").\n"
     ]
    },
    {
     "name": "stderr",
     "output_type": "stream",
     "text": [
      "[Parallel(n_jobs=10)]: Done 247 out of 247 | elapsed:    0.1s finished\n",
      "[Parallel(n_jobs=10)]: Using backend LokyBackend with 10 concurrent workers.\n",
      "[Parallel(n_jobs=10)]: Done   8 tasks      | elapsed:    0.0s\n",
      "[Parallel(n_jobs=10)]: Done 172 tasks      | elapsed:    0.0s\n",
      "[Parallel(n_jobs=10)]: Done 247 out of 247 | elapsed:    0.1s finished\n",
      "[Parallel(n_jobs=10)]: Using backend LokyBackend with 10 concurrent workers.\n",
      "[Parallel(n_jobs=10)]: Done   8 tasks      | elapsed:    0.0s\n",
      "[Parallel(n_jobs=10)]: Done 172 tasks      | elapsed:    0.0s\n"
     ]
    },
    {
     "name": "stdout",
     "output_type": "stream",
     "text": [
      "Applying baseline correction (mode: zscore)\n",
      "NOTE: tfr_morlet() is a legacy function. New code should use .compute_tfr(method=\"morlet\").\n"
     ]
    },
    {
     "name": "stderr",
     "output_type": "stream",
     "text": [
      "[Parallel(n_jobs=10)]: Done 247 out of 247 | elapsed:    0.1s finished\n"
     ]
    },
    {
     "name": "stdout",
     "output_type": "stream",
     "text": [
      "Applying baseline correction (mode: zscore)\n",
      "NOTE: tfr_morlet() is a legacy function. New code should use .compute_tfr(method=\"morlet\").\n"
     ]
    },
    {
     "name": "stderr",
     "output_type": "stream",
     "text": [
      "[Parallel(n_jobs=10)]: Using backend LokyBackend with 10 concurrent workers.\n",
      "[Parallel(n_jobs=10)]: Done   8 tasks      | elapsed:    0.0s\n",
      "[Parallel(n_jobs=10)]: Done 172 tasks      | elapsed:    0.1s\n",
      "[Parallel(n_jobs=10)]: Done 247 out of 247 | elapsed:    0.1s finished\n",
      "[Parallel(n_jobs=10)]: Using backend LokyBackend with 10 concurrent workers.\n",
      "[Parallel(n_jobs=10)]: Done   8 tasks      | elapsed:    0.0s\n",
      "[Parallel(n_jobs=10)]: Done 172 tasks      | elapsed:    0.1s\n"
     ]
    },
    {
     "name": "stdout",
     "output_type": "stream",
     "text": [
      "Applying baseline correction (mode: zscore)\n",
      "NOTE: tfr_morlet() is a legacy function. New code should use .compute_tfr(method=\"morlet\").\n",
      "Applying baseline correction (mode: zscore)\n",
      "NOTE: tfr_morlet() is a legacy function. New code should use .compute_tfr(method=\"morlet\").\n"
     ]
    },
    {
     "name": "stderr",
     "output_type": "stream",
     "text": [
      "[Parallel(n_jobs=10)]: Done 247 out of 247 | elapsed:    0.1s finished\n",
      "[Parallel(n_jobs=10)]: Using backend LokyBackend with 10 concurrent workers.\n",
      "[Parallel(n_jobs=10)]: Done   8 tasks      | elapsed:    0.0s\n",
      "[Parallel(n_jobs=10)]: Done 172 tasks      | elapsed:    0.0s\n",
      "[Parallel(n_jobs=10)]: Done 247 out of 247 | elapsed:    0.1s finished\n",
      "[Parallel(n_jobs=10)]: Using backend LokyBackend with 10 concurrent workers.\n",
      "[Parallel(n_jobs=10)]: Done   8 tasks      | elapsed:    0.0s\n",
      "[Parallel(n_jobs=10)]: Done 172 tasks      | elapsed:    0.0s\n"
     ]
    },
    {
     "name": "stdout",
     "output_type": "stream",
     "text": [
      "Applying baseline correction (mode: zscore)\n",
      "NOTE: tfr_morlet() is a legacy function. New code should use .compute_tfr(method=\"morlet\").\n",
      "Applying baseline correction (mode: zscore)\n",
      "NOTE: tfr_morlet() is a legacy function. New code should use .compute_tfr(method=\"morlet\").\n"
     ]
    },
    {
     "name": "stderr",
     "output_type": "stream",
     "text": [
      "[Parallel(n_jobs=10)]: Done 247 out of 247 | elapsed:    0.1s finished\n",
      "[Parallel(n_jobs=10)]: Using backend LokyBackend with 10 concurrent workers.\n",
      "[Parallel(n_jobs=10)]: Done   8 tasks      | elapsed:    0.0s\n",
      "[Parallel(n_jobs=10)]: Done 172 tasks      | elapsed:    0.0s\n",
      "[Parallel(n_jobs=10)]: Done 247 out of 247 | elapsed:    0.1s finished\n",
      "[Parallel(n_jobs=10)]: Using backend LokyBackend with 10 concurrent workers.\n",
      "[Parallel(n_jobs=10)]: Done   8 tasks      | elapsed:    0.0s\n",
      "[Parallel(n_jobs=10)]: Done 172 tasks      | elapsed:    0.0s\n"
     ]
    },
    {
     "name": "stdout",
     "output_type": "stream",
     "text": [
      "Applying baseline correction (mode: zscore)\n",
      "NOTE: tfr_morlet() is a legacy function. New code should use .compute_tfr(method=\"morlet\").\n",
      "Applying baseline correction (mode: zscore)\n",
      "NOTE: tfr_morlet() is a legacy function. New code should use .compute_tfr(method=\"morlet\").\n"
     ]
    },
    {
     "name": "stderr",
     "output_type": "stream",
     "text": [
      "[Parallel(n_jobs=10)]: Done 247 out of 247 | elapsed:    0.1s finished\n",
      "[Parallel(n_jobs=10)]: Using backend LokyBackend with 10 concurrent workers.\n",
      "[Parallel(n_jobs=10)]: Done   8 tasks      | elapsed:    0.0s\n",
      "[Parallel(n_jobs=10)]: Done 172 tasks      | elapsed:    0.0s\n",
      "[Parallel(n_jobs=10)]: Done 247 out of 247 | elapsed:    0.1s finished\n",
      "[Parallel(n_jobs=10)]: Using backend LokyBackend with 10 concurrent workers.\n",
      "[Parallel(n_jobs=10)]: Done   8 tasks      | elapsed:    0.0s\n",
      "[Parallel(n_jobs=10)]: Done 172 tasks      | elapsed:    0.1s\n"
     ]
    },
    {
     "name": "stdout",
     "output_type": "stream",
     "text": [
      "Applying baseline correction (mode: zscore)\n",
      "NOTE: tfr_morlet() is a legacy function. New code should use .compute_tfr(method=\"morlet\").\n",
      "Applying baseline correction (mode: zscore)\n",
      "NOTE: tfr_morlet() is a legacy function. New code should use .compute_tfr(method=\"morlet\").\n"
     ]
    },
    {
     "name": "stderr",
     "output_type": "stream",
     "text": [
      "[Parallel(n_jobs=10)]: Done 247 out of 247 | elapsed:    0.1s finished\n",
      "[Parallel(n_jobs=10)]: Using backend LokyBackend with 10 concurrent workers.\n",
      "[Parallel(n_jobs=10)]: Done   8 tasks      | elapsed:    0.0s\n",
      "[Parallel(n_jobs=10)]: Done 172 tasks      | elapsed:    0.0s\n",
      "[Parallel(n_jobs=10)]: Done 247 out of 247 | elapsed:    0.1s finished\n",
      "[Parallel(n_jobs=10)]: Using backend LokyBackend with 10 concurrent workers.\n",
      "[Parallel(n_jobs=10)]: Done   8 tasks      | elapsed:    0.0s\n",
      "[Parallel(n_jobs=10)]: Done 172 tasks      | elapsed:    0.0s\n"
     ]
    },
    {
     "name": "stdout",
     "output_type": "stream",
     "text": [
      "Applying baseline correction (mode: zscore)\n",
      "NOTE: tfr_morlet() is a legacy function. New code should use .compute_tfr(method=\"morlet\").\n",
      "Applying baseline correction (mode: zscore)\n",
      "NOTE: tfr_morlet() is a legacy function. New code should use .compute_tfr(method=\"morlet\").\n"
     ]
    },
    {
     "name": "stderr",
     "output_type": "stream",
     "text": [
      "[Parallel(n_jobs=10)]: Done 247 out of 247 | elapsed:    0.1s finished\n",
      "[Parallel(n_jobs=10)]: Using backend LokyBackend with 10 concurrent workers.\n",
      "[Parallel(n_jobs=10)]: Done   8 tasks      | elapsed:    0.0s\n",
      "[Parallel(n_jobs=10)]: Done 172 tasks      | elapsed:    0.0s\n",
      "[Parallel(n_jobs=10)]: Done 247 out of 247 | elapsed:    0.1s finished\n",
      "[Parallel(n_jobs=10)]: Using backend LokyBackend with 10 concurrent workers.\n",
      "[Parallel(n_jobs=10)]: Done   8 tasks      | elapsed:    0.0s\n",
      "[Parallel(n_jobs=10)]: Done 172 tasks      | elapsed:    0.0s\n"
     ]
    },
    {
     "name": "stdout",
     "output_type": "stream",
     "text": [
      "Applying baseline correction (mode: zscore)\n",
      "NOTE: tfr_morlet() is a legacy function. New code should use .compute_tfr(method=\"morlet\").\n",
      "Applying baseline correction (mode: zscore)\n",
      "NOTE: tfr_morlet() is a legacy function. New code should use .compute_tfr(method=\"morlet\").\n"
     ]
    },
    {
     "name": "stderr",
     "output_type": "stream",
     "text": [
      "[Parallel(n_jobs=10)]: Done 247 out of 247 | elapsed:    0.1s finished\n",
      "[Parallel(n_jobs=10)]: Using backend LokyBackend with 10 concurrent workers.\n",
      "[Parallel(n_jobs=10)]: Done   8 tasks      | elapsed:    0.0s\n",
      "[Parallel(n_jobs=10)]: Done 172 tasks      | elapsed:    0.0s\n",
      "[Parallel(n_jobs=10)]: Done 247 out of 247 | elapsed:    0.1s finished\n",
      "[Parallel(n_jobs=10)]: Using backend LokyBackend with 10 concurrent workers.\n"
     ]
    },
    {
     "name": "stdout",
     "output_type": "stream",
     "text": [
      "Applying baseline correction (mode: zscore)\n",
      "NOTE: tfr_morlet() is a legacy function. New code should use .compute_tfr(method=\"morlet\").\n"
     ]
    },
    {
     "name": "stderr",
     "output_type": "stream",
     "text": [
      "[Parallel(n_jobs=10)]: Done   8 tasks      | elapsed:    0.1s\n",
      "[Parallel(n_jobs=10)]: Done 172 tasks      | elapsed:    0.1s\n",
      "[Parallel(n_jobs=10)]: Done 247 out of 247 | elapsed:    0.2s finished\n",
      "[Parallel(n_jobs=10)]: Using backend LokyBackend with 10 concurrent workers.\n",
      "[Parallel(n_jobs=10)]: Done   8 tasks      | elapsed:    0.0s\n",
      "[Parallel(n_jobs=10)]: Done 172 tasks      | elapsed:    0.0s\n",
      "[Parallel(n_jobs=10)]: Done 247 out of 247 | elapsed:    0.1s finished\n"
     ]
    },
    {
     "name": "stdout",
     "output_type": "stream",
     "text": [
      "Applying baseline correction (mode: zscore)\n",
      "NOTE: tfr_morlet() is a legacy function. New code should use .compute_tfr(method=\"morlet\").\n",
      "Applying baseline correction (mode: zscore)\n",
      "NOTE: tfr_morlet() is a legacy function. New code should use .compute_tfr(method=\"morlet\").\n"
     ]
    },
    {
     "name": "stderr",
     "output_type": "stream",
     "text": [
      "[Parallel(n_jobs=10)]: Using backend LokyBackend with 10 concurrent workers.\n",
      "[Parallel(n_jobs=10)]: Done   8 tasks      | elapsed:    0.0s\n",
      "[Parallel(n_jobs=10)]: Done 172 tasks      | elapsed:    0.0s\n",
      "[Parallel(n_jobs=10)]: Done 247 out of 247 | elapsed:    0.1s finished\n",
      "[Parallel(n_jobs=10)]: Using backend LokyBackend with 10 concurrent workers.\n",
      "[Parallel(n_jobs=10)]: Done   8 tasks      | elapsed:    0.0s\n",
      "[Parallel(n_jobs=10)]: Done 172 tasks      | elapsed:    0.0s\n"
     ]
    },
    {
     "name": "stdout",
     "output_type": "stream",
     "text": [
      "Applying baseline correction (mode: zscore)\n",
      "NOTE: tfr_morlet() is a legacy function. New code should use .compute_tfr(method=\"morlet\").\n",
      "Applying baseline correction (mode: zscore)\n",
      "NOTE: tfr_morlet() is a legacy function. New code should use .compute_tfr(method=\"morlet\").\n"
     ]
    },
    {
     "name": "stderr",
     "output_type": "stream",
     "text": [
      "[Parallel(n_jobs=10)]: Done 247 out of 247 | elapsed:    0.1s finished\n",
      "[Parallel(n_jobs=10)]: Using backend LokyBackend with 10 concurrent workers.\n",
      "[Parallel(n_jobs=10)]: Done   8 tasks      | elapsed:    0.0s\n",
      "[Parallel(n_jobs=10)]: Done 172 tasks      | elapsed:    0.0s\n",
      "[Parallel(n_jobs=10)]: Done 247 out of 247 | elapsed:    0.1s finished\n",
      "[Parallel(n_jobs=10)]: Using backend LokyBackend with 10 concurrent workers.\n",
      "[Parallel(n_jobs=10)]: Done   8 tasks      | elapsed:    0.0s\n",
      "[Parallel(n_jobs=10)]: Done 172 tasks      | elapsed:    0.0s\n"
     ]
    },
    {
     "name": "stdout",
     "output_type": "stream",
     "text": [
      "Applying baseline correction (mode: zscore)\n",
      "NOTE: tfr_morlet() is a legacy function. New code should use .compute_tfr(method=\"morlet\").\n",
      "Applying baseline correction (mode: zscore)\n",
      "NOTE: tfr_morlet() is a legacy function. New code should use .compute_tfr(method=\"morlet\").\n"
     ]
    },
    {
     "name": "stderr",
     "output_type": "stream",
     "text": [
      "[Parallel(n_jobs=10)]: Done 247 out of 247 | elapsed:    0.1s finished\n",
      "[Parallel(n_jobs=10)]: Using backend LokyBackend with 10 concurrent workers.\n",
      "[Parallel(n_jobs=10)]: Done   8 tasks      | elapsed:    0.0s\n",
      "[Parallel(n_jobs=10)]: Done 172 tasks      | elapsed:    0.1s\n",
      "[Parallel(n_jobs=10)]: Done 247 out of 247 | elapsed:    0.1s finished\n",
      "[Parallel(n_jobs=10)]: Using backend LokyBackend with 10 concurrent workers.\n",
      "[Parallel(n_jobs=10)]: Done   8 tasks      | elapsed:    0.0s\n",
      "[Parallel(n_jobs=10)]: Done 172 tasks      | elapsed:    0.0s\n"
     ]
    },
    {
     "name": "stdout",
     "output_type": "stream",
     "text": [
      "Applying baseline correction (mode: zscore)\n",
      "NOTE: tfr_morlet() is a legacy function. New code should use .compute_tfr(method=\"morlet\").\n",
      "Applying baseline correction (mode: zscore)\n",
      "NOTE: tfr_morlet() is a legacy function. New code should use .compute_tfr(method=\"morlet\").\n"
     ]
    },
    {
     "name": "stderr",
     "output_type": "stream",
     "text": [
      "[Parallel(n_jobs=10)]: Done 247 out of 247 | elapsed:    0.1s finished\n",
      "[Parallel(n_jobs=10)]: Using backend LokyBackend with 10 concurrent workers.\n",
      "[Parallel(n_jobs=10)]: Done   8 tasks      | elapsed:    0.0s\n",
      "[Parallel(n_jobs=10)]: Done 172 tasks      | elapsed:    0.0s\n",
      "[Parallel(n_jobs=10)]: Done 247 out of 247 | elapsed:    0.1s finished\n",
      "[Parallel(n_jobs=10)]: Using backend LokyBackend with 10 concurrent workers.\n",
      "[Parallel(n_jobs=10)]: Done   8 tasks      | elapsed:    0.0s\n",
      "[Parallel(n_jobs=10)]: Done 172 tasks      | elapsed:    0.0s\n"
     ]
    },
    {
     "name": "stdout",
     "output_type": "stream",
     "text": [
      "Applying baseline correction (mode: zscore)\n",
      "NOTE: tfr_morlet() is a legacy function. New code should use .compute_tfr(method=\"morlet\").\n",
      "Applying baseline correction (mode: zscore)\n",
      "NOTE: tfr_morlet() is a legacy function. New code should use .compute_tfr(method=\"morlet\").\n"
     ]
    },
    {
     "name": "stderr",
     "output_type": "stream",
     "text": [
      "[Parallel(n_jobs=10)]: Done 247 out of 247 | elapsed:    0.1s finished\n",
      "[Parallel(n_jobs=10)]: Using backend LokyBackend with 10 concurrent workers.\n",
      "[Parallel(n_jobs=10)]: Done   8 tasks      | elapsed:    0.0s\n",
      "[Parallel(n_jobs=10)]: Done 172 tasks      | elapsed:    0.0s\n",
      "[Parallel(n_jobs=10)]: Done 247 out of 247 | elapsed:    0.1s finished\n",
      "[Parallel(n_jobs=10)]: Using backend LokyBackend with 10 concurrent workers.\n",
      "[Parallel(n_jobs=10)]: Done   8 tasks      | elapsed:    0.0s\n",
      "[Parallel(n_jobs=10)]: Done 172 tasks      | elapsed:    0.0s\n"
     ]
    },
    {
     "name": "stdout",
     "output_type": "stream",
     "text": [
      "Applying baseline correction (mode: zscore)\n",
      "NOTE: tfr_morlet() is a legacy function. New code should use .compute_tfr(method=\"morlet\").\n",
      "Applying baseline correction (mode: zscore)\n",
      "NOTE: tfr_morlet() is a legacy function. New code should use .compute_tfr(method=\"morlet\").\n"
     ]
    },
    {
     "name": "stderr",
     "output_type": "stream",
     "text": [
      "[Parallel(n_jobs=10)]: Done 247 out of 247 | elapsed:    0.1s finished\n",
      "[Parallel(n_jobs=10)]: Using backend LokyBackend with 10 concurrent workers.\n",
      "[Parallel(n_jobs=10)]: Done   8 tasks      | elapsed:    0.0s\n",
      "[Parallel(n_jobs=10)]: Done 172 tasks      | elapsed:    0.0s\n",
      "[Parallel(n_jobs=10)]: Done 247 out of 247 | elapsed:    0.1s finished\n",
      "[Parallel(n_jobs=10)]: Using backend LokyBackend with 10 concurrent workers.\n",
      "[Parallel(n_jobs=10)]: Done   8 tasks      | elapsed:    0.0s\n",
      "[Parallel(n_jobs=10)]: Done 172 tasks      | elapsed:    0.0s\n"
     ]
    },
    {
     "name": "stdout",
     "output_type": "stream",
     "text": [
      "Applying baseline correction (mode: zscore)\n",
      "NOTE: tfr_morlet() is a legacy function. New code should use .compute_tfr(method=\"morlet\").\n",
      "Applying baseline correction (mode: zscore)\n",
      "NOTE: tfr_morlet() is a legacy function. New code should use .compute_tfr(method=\"morlet\").\n"
     ]
    },
    {
     "name": "stderr",
     "output_type": "stream",
     "text": [
      "[Parallel(n_jobs=10)]: Done 247 out of 247 | elapsed:    0.1s finished\n",
      "[Parallel(n_jobs=10)]: Using backend LokyBackend with 10 concurrent workers.\n",
      "[Parallel(n_jobs=10)]: Done   8 tasks      | elapsed:    0.0s\n",
      "[Parallel(n_jobs=10)]: Done 172 tasks      | elapsed:    0.0s\n",
      "[Parallel(n_jobs=10)]: Done 247 out of 247 | elapsed:    0.1s finished\n",
      "[Parallel(n_jobs=10)]: Using backend LokyBackend with 10 concurrent workers.\n",
      "[Parallel(n_jobs=10)]: Done   8 tasks      | elapsed:    0.0s\n",
      "[Parallel(n_jobs=10)]: Done 172 tasks      | elapsed:    0.0s\n"
     ]
    },
    {
     "name": "stdout",
     "output_type": "stream",
     "text": [
      "Applying baseline correction (mode: zscore)\n",
      "NOTE: tfr_morlet() is a legacy function. New code should use .compute_tfr(method=\"morlet\").\n",
      "Applying baseline correction (mode: zscore)\n",
      "NOTE: tfr_morlet() is a legacy function. New code should use .compute_tfr(method=\"morlet\").\n"
     ]
    },
    {
     "name": "stderr",
     "output_type": "stream",
     "text": [
      "[Parallel(n_jobs=10)]: Done 247 out of 247 | elapsed:    0.1s finished\n",
      "[Parallel(n_jobs=10)]: Using backend LokyBackend with 10 concurrent workers.\n",
      "[Parallel(n_jobs=10)]: Done   8 tasks      | elapsed:    0.0s\n",
      "[Parallel(n_jobs=10)]: Done 172 tasks      | elapsed:    0.0s\n",
      "[Parallel(n_jobs=10)]: Done 247 out of 247 | elapsed:    0.1s finished\n",
      "[Parallel(n_jobs=10)]: Using backend LokyBackend with 10 concurrent workers.\n",
      "[Parallel(n_jobs=10)]: Done   8 tasks      | elapsed:    0.0s\n"
     ]
    },
    {
     "name": "stdout",
     "output_type": "stream",
     "text": [
      "Applying baseline correction (mode: zscore)\n",
      "NOTE: tfr_morlet() is a legacy function. New code should use .compute_tfr(method=\"morlet\").\n",
      "Applying baseline correction (mode: zscore)\n",
      "NOTE: tfr_morlet() is a legacy function. New code should use .compute_tfr(method=\"morlet\").\n"
     ]
    },
    {
     "name": "stderr",
     "output_type": "stream",
     "text": [
      "[Parallel(n_jobs=10)]: Done 172 tasks      | elapsed:    0.1s\n",
      "[Parallel(n_jobs=10)]: Done 247 out of 247 | elapsed:    0.1s finished\n",
      "[Parallel(n_jobs=10)]: Using backend LokyBackend with 10 concurrent workers.\n",
      "[Parallel(n_jobs=10)]: Done   8 tasks      | elapsed:    0.0s\n",
      "[Parallel(n_jobs=10)]: Done 172 tasks      | elapsed:    0.0s\n",
      "[Parallel(n_jobs=10)]: Done 247 out of 247 | elapsed:    0.1s finished\n",
      "[Parallel(n_jobs=10)]: Using backend LokyBackend with 10 concurrent workers.\n",
      "[Parallel(n_jobs=10)]: Done   8 tasks      | elapsed:    0.0s\n"
     ]
    },
    {
     "name": "stdout",
     "output_type": "stream",
     "text": [
      "Applying baseline correction (mode: zscore)\n",
      "NOTE: tfr_morlet() is a legacy function. New code should use .compute_tfr(method=\"morlet\").\n",
      "Applying baseline correction (mode: zscore)\n",
      "NOTE: tfr_morlet() is a legacy function. New code should use .compute_tfr(method=\"morlet\").\n"
     ]
    },
    {
     "name": "stderr",
     "output_type": "stream",
     "text": [
      "[Parallel(n_jobs=10)]: Done 172 tasks      | elapsed:    0.1s\n",
      "[Parallel(n_jobs=10)]: Done 247 out of 247 | elapsed:    0.1s finished\n",
      "[Parallel(n_jobs=10)]: Using backend LokyBackend with 10 concurrent workers.\n",
      "[Parallel(n_jobs=10)]: Done   8 tasks      | elapsed:    0.0s\n",
      "[Parallel(n_jobs=10)]: Done 172 tasks      | elapsed:    0.0s\n",
      "[Parallel(n_jobs=10)]: Done 247 out of 247 | elapsed:    0.1s finished\n",
      "[Parallel(n_jobs=10)]: Using backend LokyBackend with 10 concurrent workers.\n",
      "[Parallel(n_jobs=10)]: Done   8 tasks      | elapsed:    0.0s\n"
     ]
    },
    {
     "name": "stdout",
     "output_type": "stream",
     "text": [
      "Applying baseline correction (mode: zscore)\n",
      "NOTE: tfr_morlet() is a legacy function. New code should use .compute_tfr(method=\"morlet\").\n",
      "Applying baseline correction (mode: zscore)\n",
      "NOTE: tfr_morlet() is a legacy function. New code should use .compute_tfr(method=\"morlet\").\n"
     ]
    },
    {
     "name": "stderr",
     "output_type": "stream",
     "text": [
      "[Parallel(n_jobs=10)]: Done 172 tasks      | elapsed:    0.1s\n",
      "[Parallel(n_jobs=10)]: Done 247 out of 247 | elapsed:    0.1s finished\n",
      "[Parallel(n_jobs=10)]: Using backend LokyBackend with 10 concurrent workers.\n",
      "[Parallel(n_jobs=10)]: Done   8 tasks      | elapsed:    0.0s\n",
      "[Parallel(n_jobs=10)]: Done 172 tasks      | elapsed:    0.1s\n",
      "[Parallel(n_jobs=10)]: Done 247 out of 247 | elapsed:    0.1s finished\n"
     ]
    },
    {
     "name": "stdout",
     "output_type": "stream",
     "text": [
      "Applying baseline correction (mode: zscore)\n",
      "NOTE: tfr_morlet() is a legacy function. New code should use .compute_tfr(method=\"morlet\").\n"
     ]
    },
    {
     "name": "stderr",
     "output_type": "stream",
     "text": [
      "[Parallel(n_jobs=10)]: Using backend LokyBackend with 10 concurrent workers.\n",
      "[Parallel(n_jobs=10)]: Done   8 tasks      | elapsed:    0.0s\n",
      "[Parallel(n_jobs=10)]: Done 172 tasks      | elapsed:    0.0s\n",
      "[Parallel(n_jobs=10)]: Done 247 out of 247 | elapsed:    0.1s finished\n",
      "[Parallel(n_jobs=10)]: Using backend LokyBackend with 10 concurrent workers.\n",
      "[Parallel(n_jobs=10)]: Done   8 tasks      | elapsed:    0.0s\n",
      "[Parallel(n_jobs=10)]: Done 172 tasks      | elapsed:    0.1s\n"
     ]
    },
    {
     "name": "stdout",
     "output_type": "stream",
     "text": [
      "Applying baseline correction (mode: zscore)\n",
      "NOTE: tfr_morlet() is a legacy function. New code should use .compute_tfr(method=\"morlet\").\n",
      "Applying baseline correction (mode: zscore)\n",
      "NOTE: tfr_morlet() is a legacy function. New code should use .compute_tfr(method=\"morlet\").\n"
     ]
    },
    {
     "name": "stderr",
     "output_type": "stream",
     "text": [
      "[Parallel(n_jobs=10)]: Done 247 out of 247 | elapsed:    0.1s finished\n",
      "[Parallel(n_jobs=10)]: Using backend LokyBackend with 10 concurrent workers.\n",
      "[Parallel(n_jobs=10)]: Done   8 tasks      | elapsed:    0.0s\n",
      "[Parallel(n_jobs=10)]: Done 172 tasks      | elapsed:    0.0s\n",
      "[Parallel(n_jobs=10)]: Done 247 out of 247 | elapsed:    0.1s finished\n",
      "[Parallel(n_jobs=10)]: Using backend LokyBackend with 10 concurrent workers.\n",
      "[Parallel(n_jobs=10)]: Done   8 tasks      | elapsed:    0.0s\n",
      "[Parallel(n_jobs=10)]: Done 172 tasks      | elapsed:    0.0s\n"
     ]
    },
    {
     "name": "stdout",
     "output_type": "stream",
     "text": [
      "Applying baseline correction (mode: zscore)\n",
      "NOTE: tfr_morlet() is a legacy function. New code should use .compute_tfr(method=\"morlet\").\n",
      "Applying baseline correction (mode: zscore)\n",
      "NOTE: tfr_morlet() is a legacy function. New code should use .compute_tfr(method=\"morlet\").\n"
     ]
    },
    {
     "name": "stderr",
     "output_type": "stream",
     "text": [
      "[Parallel(n_jobs=10)]: Done 247 out of 247 | elapsed:    0.1s finished\n",
      "[Parallel(n_jobs=10)]: Using backend LokyBackend with 10 concurrent workers.\n",
      "[Parallel(n_jobs=10)]: Done   8 tasks      | elapsed:    0.0s\n",
      "[Parallel(n_jobs=10)]: Done 172 tasks      | elapsed:    0.0s\n",
      "[Parallel(n_jobs=10)]: Done 247 out of 247 | elapsed:    0.1s finished\n",
      "[Parallel(n_jobs=10)]: Using backend LokyBackend with 10 concurrent workers.\n",
      "[Parallel(n_jobs=10)]: Done   8 tasks      | elapsed:    0.0s\n",
      "[Parallel(n_jobs=10)]: Done 172 tasks      | elapsed:    0.0s\n"
     ]
    },
    {
     "name": "stdout",
     "output_type": "stream",
     "text": [
      "Applying baseline correction (mode: zscore)\n",
      "NOTE: tfr_morlet() is a legacy function. New code should use .compute_tfr(method=\"morlet\").\n",
      "Applying baseline correction (mode: zscore)\n",
      "NOTE: tfr_morlet() is a legacy function. New code should use .compute_tfr(method=\"morlet\").\n"
     ]
    },
    {
     "name": "stderr",
     "output_type": "stream",
     "text": [
      "[Parallel(n_jobs=10)]: Done 247 out of 247 | elapsed:    0.1s finished\n",
      "[Parallel(n_jobs=10)]: Using backend LokyBackend with 10 concurrent workers.\n",
      "[Parallel(n_jobs=10)]: Done   8 tasks      | elapsed:    0.0s\n",
      "[Parallel(n_jobs=10)]: Done 172 tasks      | elapsed:    0.0s\n",
      "[Parallel(n_jobs=10)]: Done 247 out of 247 | elapsed:    0.1s finished\n",
      "[Parallel(n_jobs=10)]: Using backend LokyBackend with 10 concurrent workers.\n",
      "[Parallel(n_jobs=10)]: Done   8 tasks      | elapsed:    0.0s\n",
      "[Parallel(n_jobs=10)]: Done 172 tasks      | elapsed:    0.0s\n"
     ]
    },
    {
     "name": "stdout",
     "output_type": "stream",
     "text": [
      "Applying baseline correction (mode: zscore)\n",
      "NOTE: tfr_morlet() is a legacy function. New code should use .compute_tfr(method=\"morlet\").\n",
      "Applying baseline correction (mode: zscore)\n",
      "NOTE: tfr_morlet() is a legacy function. New code should use .compute_tfr(method=\"morlet\").\n"
     ]
    },
    {
     "name": "stderr",
     "output_type": "stream",
     "text": [
      "[Parallel(n_jobs=10)]: Done 247 out of 247 | elapsed:    0.1s finished\n",
      "[Parallel(n_jobs=10)]: Using backend LokyBackend with 10 concurrent workers.\n",
      "[Parallel(n_jobs=10)]: Done   8 tasks      | elapsed:    0.0s\n",
      "[Parallel(n_jobs=10)]: Done 172 tasks      | elapsed:    0.0s\n",
      "[Parallel(n_jobs=10)]: Done 247 out of 247 | elapsed:    0.1s finished\n",
      "[Parallel(n_jobs=10)]: Using backend LokyBackend with 10 concurrent workers.\n",
      "[Parallel(n_jobs=10)]: Done   8 tasks      | elapsed:    0.0s\n",
      "[Parallel(n_jobs=10)]: Done 172 tasks      | elapsed:    0.0s\n"
     ]
    },
    {
     "name": "stdout",
     "output_type": "stream",
     "text": [
      "Applying baseline correction (mode: zscore)\n",
      "NOTE: tfr_morlet() is a legacy function. New code should use .compute_tfr(method=\"morlet\").\n",
      "Applying baseline correction (mode: zscore)\n",
      "NOTE: tfr_morlet() is a legacy function. New code should use .compute_tfr(method=\"morlet\").\n"
     ]
    },
    {
     "name": "stderr",
     "output_type": "stream",
     "text": [
      "[Parallel(n_jobs=10)]: Done 247 out of 247 | elapsed:    0.1s finished\n",
      "[Parallel(n_jobs=10)]: Using backend LokyBackend with 10 concurrent workers.\n",
      "[Parallel(n_jobs=10)]: Done   8 tasks      | elapsed:    0.0s\n",
      "[Parallel(n_jobs=10)]: Done 172 tasks      | elapsed:    0.0s\n",
      "[Parallel(n_jobs=10)]: Done 247 out of 247 | elapsed:    0.1s finished\n",
      "[Parallel(n_jobs=10)]: Using backend LokyBackend with 10 concurrent workers.\n",
      "[Parallel(n_jobs=10)]: Done   8 tasks      | elapsed:    0.0s\n",
      "[Parallel(n_jobs=10)]: Done 172 tasks      | elapsed:    0.0s\n"
     ]
    },
    {
     "name": "stdout",
     "output_type": "stream",
     "text": [
      "Applying baseline correction (mode: zscore)\n",
      "NOTE: tfr_morlet() is a legacy function. New code should use .compute_tfr(method=\"morlet\").\n",
      "Applying baseline correction (mode: zscore)\n",
      "NOTE: tfr_morlet() is a legacy function. New code should use .compute_tfr(method=\"morlet\").\n"
     ]
    },
    {
     "name": "stderr",
     "output_type": "stream",
     "text": [
      "[Parallel(n_jobs=10)]: Done 247 out of 247 | elapsed:    0.1s finished\n",
      "[Parallel(n_jobs=10)]: Using backend LokyBackend with 10 concurrent workers.\n",
      "[Parallel(n_jobs=10)]: Done   8 tasks      | elapsed:    0.0s\n",
      "[Parallel(n_jobs=10)]: Done 172 tasks      | elapsed:    0.0s\n",
      "[Parallel(n_jobs=10)]: Done 247 out of 247 | elapsed:    0.1s finished\n",
      "[Parallel(n_jobs=10)]: Using backend LokyBackend with 10 concurrent workers.\n",
      "[Parallel(n_jobs=10)]: Done   8 tasks      | elapsed:    0.0s\n",
      "[Parallel(n_jobs=10)]: Done 172 tasks      | elapsed:    0.0s\n"
     ]
    },
    {
     "name": "stdout",
     "output_type": "stream",
     "text": [
      "Applying baseline correction (mode: zscore)\n",
      "NOTE: tfr_morlet() is a legacy function. New code should use .compute_tfr(method=\"morlet\").\n",
      "Applying baseline correction (mode: zscore)\n",
      "NOTE: tfr_morlet() is a legacy function. New code should use .compute_tfr(method=\"morlet\").\n"
     ]
    },
    {
     "name": "stderr",
     "output_type": "stream",
     "text": [
      "[Parallel(n_jobs=10)]: Done 247 out of 247 | elapsed:    0.1s finished\n",
      "[Parallel(n_jobs=10)]: Using backend LokyBackend with 10 concurrent workers.\n",
      "[Parallel(n_jobs=10)]: Done   8 tasks      | elapsed:    0.0s\n",
      "[Parallel(n_jobs=10)]: Done 172 tasks      | elapsed:    0.1s\n",
      "[Parallel(n_jobs=10)]: Done 247 out of 247 | elapsed:    0.1s finished\n",
      "[Parallel(n_jobs=10)]: Using backend LokyBackend with 10 concurrent workers.\n",
      "[Parallel(n_jobs=10)]: Done   8 tasks      | elapsed:    0.0s\n",
      "[Parallel(n_jobs=10)]: Done 172 tasks      | elapsed:    0.0s\n"
     ]
    },
    {
     "name": "stdout",
     "output_type": "stream",
     "text": [
      "Applying baseline correction (mode: zscore)\n",
      "NOTE: tfr_morlet() is a legacy function. New code should use .compute_tfr(method=\"morlet\").\n",
      "Applying baseline correction (mode: zscore)\n",
      "NOTE: tfr_morlet() is a legacy function. New code should use .compute_tfr(method=\"morlet\").\n"
     ]
    },
    {
     "name": "stderr",
     "output_type": "stream",
     "text": [
      "[Parallel(n_jobs=10)]: Done 247 out of 247 | elapsed:    0.1s finished\n",
      "[Parallel(n_jobs=10)]: Using backend LokyBackend with 10 concurrent workers.\n",
      "[Parallel(n_jobs=10)]: Done   8 tasks      | elapsed:    0.0s\n",
      "[Parallel(n_jobs=10)]: Done 172 tasks      | elapsed:    0.0s\n",
      "[Parallel(n_jobs=10)]: Done 247 out of 247 | elapsed:    0.1s finished\n",
      "[Parallel(n_jobs=10)]: Using backend LokyBackend with 10 concurrent workers.\n"
     ]
    },
    {
     "name": "stdout",
     "output_type": "stream",
     "text": [
      "Applying baseline correction (mode: zscore)\n",
      "NOTE: tfr_morlet() is a legacy function. New code should use .compute_tfr(method=\"morlet\").\n"
     ]
    },
    {
     "name": "stderr",
     "output_type": "stream",
     "text": [
      "[Parallel(n_jobs=10)]: Done   8 tasks      | elapsed:    0.1s\n",
      "[Parallel(n_jobs=10)]: Done 172 tasks      | elapsed:    0.1s\n",
      "[Parallel(n_jobs=10)]: Done 247 out of 247 | elapsed:    0.2s finished\n",
      "[Parallel(n_jobs=10)]: Using backend LokyBackend with 10 concurrent workers.\n",
      "[Parallel(n_jobs=10)]: Done   8 tasks      | elapsed:    0.0s\n",
      "[Parallel(n_jobs=10)]: Done 172 tasks      | elapsed:    0.0s\n"
     ]
    },
    {
     "name": "stdout",
     "output_type": "stream",
     "text": [
      "Applying baseline correction (mode: zscore)\n",
      "NOTE: tfr_morlet() is a legacy function. New code should use .compute_tfr(method=\"morlet\").\n",
      "Applying baseline correction (mode: zscore)\n",
      "NOTE: tfr_morlet() is a legacy function. New code should use .compute_tfr(method=\"morlet\").\n"
     ]
    },
    {
     "name": "stderr",
     "output_type": "stream",
     "text": [
      "[Parallel(n_jobs=10)]: Done 247 out of 247 | elapsed:    0.1s finished\n",
      "[Parallel(n_jobs=10)]: Using backend LokyBackend with 10 concurrent workers.\n",
      "[Parallel(n_jobs=10)]: Done   8 tasks      | elapsed:    0.0s\n",
      "[Parallel(n_jobs=10)]: Done 172 tasks      | elapsed:    0.1s\n",
      "[Parallel(n_jobs=10)]: Done 247 out of 247 | elapsed:    0.1s finished\n",
      "[Parallel(n_jobs=10)]: Using backend LokyBackend with 10 concurrent workers.\n",
      "[Parallel(n_jobs=10)]: Done   8 tasks      | elapsed:    0.0s\n",
      "[Parallel(n_jobs=10)]: Done 172 tasks      | elapsed:    0.0s\n"
     ]
    },
    {
     "name": "stdout",
     "output_type": "stream",
     "text": [
      "Applying baseline correction (mode: zscore)\n",
      "NOTE: tfr_morlet() is a legacy function. New code should use .compute_tfr(method=\"morlet\").\n",
      "Applying baseline correction (mode: zscore)\n",
      "NOTE: tfr_morlet() is a legacy function. New code should use .compute_tfr(method=\"morlet\").\n"
     ]
    },
    {
     "name": "stderr",
     "output_type": "stream",
     "text": [
      "[Parallel(n_jobs=10)]: Done 247 out of 247 | elapsed:    0.1s finished\n",
      "[Parallel(n_jobs=10)]: Using backend LokyBackend with 10 concurrent workers.\n",
      "[Parallel(n_jobs=10)]: Done   8 tasks      | elapsed:    0.0s\n",
      "[Parallel(n_jobs=10)]: Done 172 tasks      | elapsed:    0.0s\n",
      "[Parallel(n_jobs=10)]: Done 247 out of 247 | elapsed:    0.1s finished\n",
      "[Parallel(n_jobs=10)]: Using backend LokyBackend with 10 concurrent workers.\n",
      "[Parallel(n_jobs=10)]: Done   8 tasks      | elapsed:    0.0s\n",
      "[Parallel(n_jobs=10)]: Done 172 tasks      | elapsed:    0.0s\n"
     ]
    },
    {
     "name": "stdout",
     "output_type": "stream",
     "text": [
      "Applying baseline correction (mode: zscore)\n",
      "NOTE: tfr_morlet() is a legacy function. New code should use .compute_tfr(method=\"morlet\").\n",
      "Applying baseline correction (mode: zscore)\n",
      "NOTE: tfr_morlet() is a legacy function. New code should use .compute_tfr(method=\"morlet\").\n"
     ]
    },
    {
     "name": "stderr",
     "output_type": "stream",
     "text": [
      "[Parallel(n_jobs=10)]: Done 247 out of 247 | elapsed:    0.1s finished\n",
      "[Parallel(n_jobs=10)]: Using backend LokyBackend with 10 concurrent workers.\n",
      "[Parallel(n_jobs=10)]: Done   8 tasks      | elapsed:    0.0s\n",
      "[Parallel(n_jobs=10)]: Done 172 tasks      | elapsed:    0.0s\n",
      "[Parallel(n_jobs=10)]: Done 247 out of 247 | elapsed:    0.1s finished\n",
      "[Parallel(n_jobs=10)]: Using backend LokyBackend with 10 concurrent workers.\n",
      "[Parallel(n_jobs=10)]: Done   8 tasks      | elapsed:    0.0s\n",
      "[Parallel(n_jobs=10)]: Done 172 tasks      | elapsed:    0.0s\n"
     ]
    },
    {
     "name": "stdout",
     "output_type": "stream",
     "text": [
      "Applying baseline correction (mode: zscore)\n",
      "NOTE: tfr_morlet() is a legacy function. New code should use .compute_tfr(method=\"morlet\").\n",
      "Applying baseline correction (mode: zscore)\n",
      "NOTE: tfr_morlet() is a legacy function. New code should use .compute_tfr(method=\"morlet\").\n"
     ]
    },
    {
     "name": "stderr",
     "output_type": "stream",
     "text": [
      "[Parallel(n_jobs=10)]: Done 247 out of 247 | elapsed:    0.1s finished\n",
      "[Parallel(n_jobs=10)]: Using backend LokyBackend with 10 concurrent workers.\n",
      "[Parallel(n_jobs=10)]: Done   8 tasks      | elapsed:    0.0s\n",
      "[Parallel(n_jobs=10)]: Done 172 tasks      | elapsed:    0.0s\n",
      "[Parallel(n_jobs=10)]: Done 247 out of 247 | elapsed:    0.1s finished\n",
      "[Parallel(n_jobs=10)]: Using backend LokyBackend with 10 concurrent workers.\n",
      "[Parallel(n_jobs=10)]: Done   8 tasks      | elapsed:    0.0s\n",
      "[Parallel(n_jobs=10)]: Done 172 tasks      | elapsed:    0.0s\n"
     ]
    },
    {
     "name": "stdout",
     "output_type": "stream",
     "text": [
      "Applying baseline correction (mode: zscore)\n",
      "NOTE: tfr_morlet() is a legacy function. New code should use .compute_tfr(method=\"morlet\").\n",
      "Applying baseline correction (mode: zscore)\n",
      "NOTE: tfr_morlet() is a legacy function. New code should use .compute_tfr(method=\"morlet\").\n"
     ]
    },
    {
     "name": "stderr",
     "output_type": "stream",
     "text": [
      "[Parallel(n_jobs=10)]: Done 247 out of 247 | elapsed:    0.1s finished\n",
      "[Parallel(n_jobs=10)]: Using backend LokyBackend with 10 concurrent workers.\n",
      "[Parallel(n_jobs=10)]: Done   8 tasks      | elapsed:    0.0s\n",
      "[Parallel(n_jobs=10)]: Done 172 tasks      | elapsed:    0.0s\n",
      "[Parallel(n_jobs=10)]: Done 247 out of 247 | elapsed:    0.1s finished\n",
      "[Parallel(n_jobs=10)]: Using backend LokyBackend with 10 concurrent workers.\n",
      "[Parallel(n_jobs=10)]: Done   8 tasks      | elapsed:    0.0s\n",
      "[Parallel(n_jobs=10)]: Done 172 tasks      | elapsed:    0.0s\n"
     ]
    },
    {
     "name": "stdout",
     "output_type": "stream",
     "text": [
      "Applying baseline correction (mode: zscore)\n",
      "NOTE: tfr_morlet() is a legacy function. New code should use .compute_tfr(method=\"morlet\").\n",
      "Applying baseline correction (mode: zscore)\n",
      "NOTE: tfr_morlet() is a legacy function. New code should use .compute_tfr(method=\"morlet\").\n"
     ]
    },
    {
     "name": "stderr",
     "output_type": "stream",
     "text": [
      "[Parallel(n_jobs=10)]: Done 247 out of 247 | elapsed:    0.1s finished\n",
      "[Parallel(n_jobs=10)]: Using backend LokyBackend with 10 concurrent workers.\n",
      "[Parallel(n_jobs=10)]: Done   8 tasks      | elapsed:    0.0s\n",
      "[Parallel(n_jobs=10)]: Done 172 tasks      | elapsed:    0.0s\n",
      "[Parallel(n_jobs=10)]: Done 247 out of 247 | elapsed:    0.1s finished\n",
      "[Parallel(n_jobs=10)]: Using backend LokyBackend with 10 concurrent workers.\n",
      "[Parallel(n_jobs=10)]: Done   8 tasks      | elapsed:    0.0s\n",
      "[Parallel(n_jobs=10)]: Done 172 tasks      | elapsed:    0.0s\n"
     ]
    },
    {
     "name": "stdout",
     "output_type": "stream",
     "text": [
      "Applying baseline correction (mode: zscore)\n",
      "NOTE: tfr_morlet() is a legacy function. New code should use .compute_tfr(method=\"morlet\").\n",
      "Applying baseline correction (mode: zscore)\n",
      "NOTE: tfr_morlet() is a legacy function. New code should use .compute_tfr(method=\"morlet\").\n"
     ]
    },
    {
     "name": "stderr",
     "output_type": "stream",
     "text": [
      "[Parallel(n_jobs=10)]: Done 247 out of 247 | elapsed:    0.1s finished\n",
      "[Parallel(n_jobs=10)]: Using backend LokyBackend with 10 concurrent workers.\n",
      "[Parallel(n_jobs=10)]: Done   8 tasks      | elapsed:    0.0s\n",
      "[Parallel(n_jobs=10)]: Done 172 tasks      | elapsed:    0.1s\n",
      "[Parallel(n_jobs=10)]: Done 247 out of 247 | elapsed:    0.1s finished\n",
      "[Parallel(n_jobs=10)]: Using backend LokyBackend with 10 concurrent workers.\n",
      "[Parallel(n_jobs=10)]: Done   8 tasks      | elapsed:    0.0s\n",
      "[Parallel(n_jobs=10)]: Done 172 tasks      | elapsed:    0.0s\n"
     ]
    },
    {
     "name": "stdout",
     "output_type": "stream",
     "text": [
      "Applying baseline correction (mode: zscore)\n",
      "NOTE: tfr_morlet() is a legacy function. New code should use .compute_tfr(method=\"morlet\").\n",
      "Applying baseline correction (mode: zscore)\n",
      "NOTE: tfr_morlet() is a legacy function. New code should use .compute_tfr(method=\"morlet\").\n"
     ]
    },
    {
     "name": "stderr",
     "output_type": "stream",
     "text": [
      "[Parallel(n_jobs=10)]: Done 247 out of 247 | elapsed:    0.1s finished\n",
      "[Parallel(n_jobs=10)]: Using backend LokyBackend with 10 concurrent workers.\n",
      "[Parallel(n_jobs=10)]: Done   8 tasks      | elapsed:    0.0s\n",
      "[Parallel(n_jobs=10)]: Done 172 tasks      | elapsed:    0.1s\n",
      "[Parallel(n_jobs=10)]: Done 247 out of 247 | elapsed:    0.1s finished\n",
      "[Parallel(n_jobs=10)]: Using backend LokyBackend with 10 concurrent workers.\n",
      "[Parallel(n_jobs=10)]: Done   8 tasks      | elapsed:    0.0s\n",
      "[Parallel(n_jobs=10)]: Done 172 tasks      | elapsed:    0.0s\n"
     ]
    },
    {
     "name": "stdout",
     "output_type": "stream",
     "text": [
      "Applying baseline correction (mode: zscore)\n",
      "NOTE: tfr_morlet() is a legacy function. New code should use .compute_tfr(method=\"morlet\").\n",
      "Applying baseline correction (mode: zscore)\n",
      "NOTE: tfr_morlet() is a legacy function. New code should use .compute_tfr(method=\"morlet\").\n"
     ]
    },
    {
     "name": "stderr",
     "output_type": "stream",
     "text": [
      "[Parallel(n_jobs=10)]: Done 247 out of 247 | elapsed:    0.1s finished\n",
      "[Parallel(n_jobs=10)]: Using backend LokyBackend with 10 concurrent workers.\n",
      "[Parallel(n_jobs=10)]: Done   8 tasks      | elapsed:    0.0s\n",
      "[Parallel(n_jobs=10)]: Done 172 tasks      | elapsed:    0.0s\n",
      "[Parallel(n_jobs=10)]: Done 247 out of 247 | elapsed:    0.1s finished\n",
      "[Parallel(n_jobs=10)]: Using backend LokyBackend with 10 concurrent workers.\n",
      "[Parallel(n_jobs=10)]: Done   8 tasks      | elapsed:    0.0s\n",
      "[Parallel(n_jobs=10)]: Done 172 tasks      | elapsed:    0.0s\n"
     ]
    },
    {
     "name": "stdout",
     "output_type": "stream",
     "text": [
      "Applying baseline correction (mode: zscore)\n",
      "NOTE: tfr_morlet() is a legacy function. New code should use .compute_tfr(method=\"morlet\").\n",
      "Applying baseline correction (mode: zscore)\n",
      "NOTE: tfr_morlet() is a legacy function. New code should use .compute_tfr(method=\"morlet\").\n"
     ]
    },
    {
     "name": "stderr",
     "output_type": "stream",
     "text": [
      "[Parallel(n_jobs=10)]: Done 247 out of 247 | elapsed:    0.1s finished\n",
      "[Parallel(n_jobs=10)]: Using backend LokyBackend with 10 concurrent workers.\n",
      "[Parallel(n_jobs=10)]: Done   8 tasks      | elapsed:    0.0s\n",
      "[Parallel(n_jobs=10)]: Done 172 tasks      | elapsed:    0.0s\n",
      "[Parallel(n_jobs=10)]: Done 247 out of 247 | elapsed:    0.1s finished\n",
      "[Parallel(n_jobs=10)]: Using backend LokyBackend with 10 concurrent workers.\n",
      "[Parallel(n_jobs=10)]: Done   8 tasks      | elapsed:    0.0s\n",
      "[Parallel(n_jobs=10)]: Done 172 tasks      | elapsed:    0.1s\n"
     ]
    },
    {
     "name": "stdout",
     "output_type": "stream",
     "text": [
      "Applying baseline correction (mode: zscore)\n",
      "NOTE: tfr_morlet() is a legacy function. New code should use .compute_tfr(method=\"morlet\").\n",
      "Applying baseline correction (mode: zscore)\n",
      "NOTE: tfr_morlet() is a legacy function. New code should use .compute_tfr(method=\"morlet\").\n"
     ]
    },
    {
     "name": "stderr",
     "output_type": "stream",
     "text": [
      "[Parallel(n_jobs=10)]: Done 247 out of 247 | elapsed:    0.1s finished\n",
      "[Parallel(n_jobs=10)]: Using backend LokyBackend with 10 concurrent workers.\n",
      "[Parallel(n_jobs=10)]: Done   8 tasks      | elapsed:    0.0s\n",
      "[Parallel(n_jobs=10)]: Done 172 tasks      | elapsed:    0.0s\n",
      "[Parallel(n_jobs=10)]: Done 247 out of 247 | elapsed:    0.1s finished\n",
      "[Parallel(n_jobs=10)]: Using backend LokyBackend with 10 concurrent workers.\n",
      "[Parallel(n_jobs=10)]: Done   8 tasks      | elapsed:    0.0s\n",
      "[Parallel(n_jobs=10)]: Done 172 tasks      | elapsed:    0.0s\n"
     ]
    },
    {
     "name": "stdout",
     "output_type": "stream",
     "text": [
      "Applying baseline correction (mode: zscore)\n",
      "NOTE: tfr_morlet() is a legacy function. New code should use .compute_tfr(method=\"morlet\").\n",
      "Applying baseline correction (mode: zscore)\n",
      "NOTE: tfr_morlet() is a legacy function. New code should use .compute_tfr(method=\"morlet\").\n"
     ]
    },
    {
     "name": "stderr",
     "output_type": "stream",
     "text": [
      "[Parallel(n_jobs=10)]: Done 247 out of 247 | elapsed:    0.1s finished\n",
      "[Parallel(n_jobs=10)]: Using backend LokyBackend with 10 concurrent workers.\n",
      "[Parallel(n_jobs=10)]: Done   8 tasks      | elapsed:    0.0s\n",
      "[Parallel(n_jobs=10)]: Done 172 tasks      | elapsed:    0.0s\n",
      "[Parallel(n_jobs=10)]: Done 247 out of 247 | elapsed:    0.1s finished\n",
      "[Parallel(n_jobs=10)]: Using backend LokyBackend with 10 concurrent workers.\n",
      "[Parallel(n_jobs=10)]: Done   8 tasks      | elapsed:    0.0s\n",
      "[Parallel(n_jobs=10)]: Done 172 tasks      | elapsed:    0.1s\n"
     ]
    },
    {
     "name": "stdout",
     "output_type": "stream",
     "text": [
      "Applying baseline correction (mode: zscore)\n",
      "NOTE: tfr_morlet() is a legacy function. New code should use .compute_tfr(method=\"morlet\").\n",
      "Applying baseline correction (mode: zscore)\n",
      "NOTE: tfr_morlet() is a legacy function. New code should use .compute_tfr(method=\"morlet\").\n"
     ]
    },
    {
     "name": "stderr",
     "output_type": "stream",
     "text": [
      "[Parallel(n_jobs=10)]: Done 247 out of 247 | elapsed:    0.1s finished\n",
      "[Parallel(n_jobs=10)]: Using backend LokyBackend with 10 concurrent workers.\n",
      "[Parallel(n_jobs=10)]: Done   8 tasks      | elapsed:    0.0s\n",
      "[Parallel(n_jobs=10)]: Done 172 tasks      | elapsed:    0.0s\n",
      "[Parallel(n_jobs=10)]: Done 247 out of 247 | elapsed:    0.1s finished\n",
      "[Parallel(n_jobs=10)]: Using backend LokyBackend with 10 concurrent workers.\n",
      "[Parallel(n_jobs=10)]: Done   8 tasks      | elapsed:    0.0s\n",
      "[Parallel(n_jobs=10)]: Done 172 tasks      | elapsed:    0.0s\n"
     ]
    },
    {
     "name": "stdout",
     "output_type": "stream",
     "text": [
      "Applying baseline correction (mode: zscore)\n",
      "NOTE: tfr_morlet() is a legacy function. New code should use .compute_tfr(method=\"morlet\").\n",
      "Applying baseline correction (mode: zscore)\n",
      "NOTE: tfr_morlet() is a legacy function. New code should use .compute_tfr(method=\"morlet\").\n"
     ]
    },
    {
     "name": "stderr",
     "output_type": "stream",
     "text": [
      "[Parallel(n_jobs=10)]: Done 247 out of 247 | elapsed:    0.1s finished\n",
      "[Parallel(n_jobs=10)]: Using backend LokyBackend with 10 concurrent workers.\n",
      "[Parallel(n_jobs=10)]: Done   8 tasks      | elapsed:    0.0s\n",
      "[Parallel(n_jobs=10)]: Done 172 tasks      | elapsed:    0.0s\n",
      "[Parallel(n_jobs=10)]: Done 247 out of 247 | elapsed:    0.1s finished\n",
      "[Parallel(n_jobs=10)]: Using backend LokyBackend with 10 concurrent workers.\n",
      "[Parallel(n_jobs=10)]: Done   8 tasks      | elapsed:    0.0s\n",
      "[Parallel(n_jobs=10)]: Done 172 tasks      | elapsed:    0.0s\n"
     ]
    },
    {
     "name": "stdout",
     "output_type": "stream",
     "text": [
      "Applying baseline correction (mode: zscore)\n",
      "NOTE: tfr_morlet() is a legacy function. New code should use .compute_tfr(method=\"morlet\").\n",
      "Applying baseline correction (mode: zscore)\n",
      "NOTE: tfr_morlet() is a legacy function. New code should use .compute_tfr(method=\"morlet\").\n"
     ]
    },
    {
     "name": "stderr",
     "output_type": "stream",
     "text": [
      "[Parallel(n_jobs=10)]: Done 247 out of 247 | elapsed:    0.1s finished\n",
      "[Parallel(n_jobs=10)]: Using backend LokyBackend with 10 concurrent workers.\n",
      "[Parallel(n_jobs=10)]: Done   8 tasks      | elapsed:    0.0s\n",
      "[Parallel(n_jobs=10)]: Done 172 tasks      | elapsed:    0.0s\n",
      "[Parallel(n_jobs=10)]: Done 247 out of 247 | elapsed:    0.1s finished\n",
      "[Parallel(n_jobs=10)]: Using backend LokyBackend with 10 concurrent workers.\n",
      "[Parallel(n_jobs=10)]: Done   8 tasks      | elapsed:    0.0s\n",
      "[Parallel(n_jobs=10)]: Done 172 tasks      | elapsed:    0.0s\n"
     ]
    },
    {
     "name": "stdout",
     "output_type": "stream",
     "text": [
      "Applying baseline correction (mode: zscore)\n",
      "NOTE: tfr_morlet() is a legacy function. New code should use .compute_tfr(method=\"morlet\").\n",
      "Applying baseline correction (mode: zscore)\n",
      "NOTE: tfr_morlet() is a legacy function. New code should use .compute_tfr(method=\"morlet\").\n"
     ]
    },
    {
     "name": "stderr",
     "output_type": "stream",
     "text": [
      "[Parallel(n_jobs=10)]: Done 247 out of 247 | elapsed:    0.1s finished\n",
      "[Parallel(n_jobs=10)]: Using backend LokyBackend with 10 concurrent workers.\n",
      "[Parallel(n_jobs=10)]: Done   8 tasks      | elapsed:    0.0s\n",
      "[Parallel(n_jobs=10)]: Done 172 tasks      | elapsed:    0.0s\n",
      "[Parallel(n_jobs=10)]: Done 247 out of 247 | elapsed:    0.1s finished\n",
      "[Parallel(n_jobs=10)]: Using backend LokyBackend with 10 concurrent workers.\n",
      "[Parallel(n_jobs=10)]: Done   8 tasks      | elapsed:    0.0s\n",
      "[Parallel(n_jobs=10)]: Done 172 tasks      | elapsed:    0.0s\n"
     ]
    },
    {
     "name": "stdout",
     "output_type": "stream",
     "text": [
      "Applying baseline correction (mode: zscore)\n",
      "NOTE: tfr_morlet() is a legacy function. New code should use .compute_tfr(method=\"morlet\").\n",
      "Applying baseline correction (mode: zscore)\n",
      "NOTE: tfr_morlet() is a legacy function. New code should use .compute_tfr(method=\"morlet\").\n"
     ]
    },
    {
     "name": "stderr",
     "output_type": "stream",
     "text": [
      "[Parallel(n_jobs=10)]: Done 247 out of 247 | elapsed:    0.1s finished\n",
      "[Parallel(n_jobs=10)]: Using backend LokyBackend with 10 concurrent workers.\n",
      "[Parallel(n_jobs=10)]: Done   8 tasks      | elapsed:    0.0s\n",
      "[Parallel(n_jobs=10)]: Done 172 tasks      | elapsed:    0.0s\n",
      "[Parallel(n_jobs=10)]: Done 247 out of 247 | elapsed:    0.1s finished\n",
      "[Parallel(n_jobs=10)]: Using backend LokyBackend with 10 concurrent workers.\n",
      "[Parallel(n_jobs=10)]: Done   8 tasks      | elapsed:    0.0s\n",
      "[Parallel(n_jobs=10)]: Done 172 tasks      | elapsed:    0.0s\n"
     ]
    },
    {
     "name": "stdout",
     "output_type": "stream",
     "text": [
      "Applying baseline correction (mode: zscore)\n",
      "NOTE: tfr_morlet() is a legacy function. New code should use .compute_tfr(method=\"morlet\").\n",
      "Applying baseline correction (mode: zscore)\n",
      "NOTE: tfr_morlet() is a legacy function. New code should use .compute_tfr(method=\"morlet\").\n"
     ]
    },
    {
     "name": "stderr",
     "output_type": "stream",
     "text": [
      "[Parallel(n_jobs=10)]: Done 247 out of 247 | elapsed:    0.1s finished\n",
      "[Parallel(n_jobs=10)]: Using backend LokyBackend with 10 concurrent workers.\n",
      "[Parallel(n_jobs=10)]: Done   8 tasks      | elapsed:    0.0s\n",
      "[Parallel(n_jobs=10)]: Done 172 tasks      | elapsed:    0.0s\n",
      "[Parallel(n_jobs=10)]: Done 247 out of 247 | elapsed:    0.1s finished\n",
      "[Parallel(n_jobs=10)]: Using backend LokyBackend with 10 concurrent workers.\n",
      "[Parallel(n_jobs=10)]: Done   8 tasks      | elapsed:    0.0s\n",
      "[Parallel(n_jobs=10)]: Done 172 tasks      | elapsed:    0.0s\n"
     ]
    },
    {
     "name": "stdout",
     "output_type": "stream",
     "text": [
      "Applying baseline correction (mode: zscore)\n",
      "NOTE: tfr_morlet() is a legacy function. New code should use .compute_tfr(method=\"morlet\").\n",
      "Applying baseline correction (mode: zscore)\n",
      "NOTE: tfr_morlet() is a legacy function. New code should use .compute_tfr(method=\"morlet\").\n"
     ]
    },
    {
     "name": "stderr",
     "output_type": "stream",
     "text": [
      "[Parallel(n_jobs=10)]: Done 247 out of 247 | elapsed:    0.1s finished\n",
      "[Parallel(n_jobs=10)]: Using backend LokyBackend with 10 concurrent workers.\n",
      "[Parallel(n_jobs=10)]: Done   8 tasks      | elapsed:    0.0s\n",
      "[Parallel(n_jobs=10)]: Done 172 tasks      | elapsed:    0.0s\n",
      "[Parallel(n_jobs=10)]: Done 247 out of 247 | elapsed:    0.1s finished\n",
      "[Parallel(n_jobs=10)]: Using backend LokyBackend with 10 concurrent workers.\n",
      "[Parallel(n_jobs=10)]: Done   8 tasks      | elapsed:    0.0s\n"
     ]
    },
    {
     "name": "stdout",
     "output_type": "stream",
     "text": [
      "Applying baseline correction (mode: zscore)\n",
      "NOTE: tfr_morlet() is a legacy function. New code should use .compute_tfr(method=\"morlet\").\n",
      "Applying baseline correction (mode: zscore)\n",
      "NOTE: tfr_morlet() is a legacy function. New code should use .compute_tfr(method=\"morlet\").\n"
     ]
    },
    {
     "name": "stderr",
     "output_type": "stream",
     "text": [
      "[Parallel(n_jobs=10)]: Done 172 tasks      | elapsed:    0.1s\n",
      "[Parallel(n_jobs=10)]: Done 247 out of 247 | elapsed:    0.1s finished\n",
      "[Parallel(n_jobs=10)]: Using backend LokyBackend with 10 concurrent workers.\n",
      "[Parallel(n_jobs=10)]: Done   8 tasks      | elapsed:    0.0s\n",
      "[Parallel(n_jobs=10)]: Done 172 tasks      | elapsed:    0.0s\n",
      "[Parallel(n_jobs=10)]: Done 247 out of 247 | elapsed:    0.1s finished\n",
      "[Parallel(n_jobs=10)]: Using backend LokyBackend with 10 concurrent workers.\n",
      "[Parallel(n_jobs=10)]: Done   8 tasks      | elapsed:    0.0s\n"
     ]
    },
    {
     "name": "stdout",
     "output_type": "stream",
     "text": [
      "Applying baseline correction (mode: zscore)\n",
      "NOTE: tfr_morlet() is a legacy function. New code should use .compute_tfr(method=\"morlet\").\n",
      "Applying baseline correction (mode: zscore)\n",
      "NOTE: tfr_morlet() is a legacy function. New code should use .compute_tfr(method=\"morlet\").\n"
     ]
    },
    {
     "name": "stderr",
     "output_type": "stream",
     "text": [
      "[Parallel(n_jobs=10)]: Done 172 tasks      | elapsed:    0.0s\n",
      "[Parallel(n_jobs=10)]: Done 247 out of 247 | elapsed:    0.1s finished\n",
      "[Parallel(n_jobs=10)]: Using backend LokyBackend with 10 concurrent workers.\n",
      "[Parallel(n_jobs=10)]: Done   8 tasks      | elapsed:    0.0s\n",
      "[Parallel(n_jobs=10)]: Done 172 tasks      | elapsed:    0.0s\n",
      "[Parallel(n_jobs=10)]: Done 247 out of 247 | elapsed:    0.1s finished\n",
      "[Parallel(n_jobs=10)]: Using backend LokyBackend with 10 concurrent workers.\n",
      "[Parallel(n_jobs=10)]: Done   8 tasks      | elapsed:    0.0s\n"
     ]
    },
    {
     "name": "stdout",
     "output_type": "stream",
     "text": [
      "Applying baseline correction (mode: zscore)\n",
      "NOTE: tfr_morlet() is a legacy function. New code should use .compute_tfr(method=\"morlet\").\n",
      "Applying baseline correction (mode: zscore)\n",
      "NOTE: tfr_morlet() is a legacy function. New code should use .compute_tfr(method=\"morlet\").\n"
     ]
    },
    {
     "name": "stderr",
     "output_type": "stream",
     "text": [
      "[Parallel(n_jobs=10)]: Done 172 tasks      | elapsed:    0.0s\n",
      "[Parallel(n_jobs=10)]: Done 247 out of 247 | elapsed:    0.1s finished\n",
      "[Parallel(n_jobs=10)]: Using backend LokyBackend with 10 concurrent workers.\n",
      "[Parallel(n_jobs=10)]: Done   8 tasks      | elapsed:    0.0s\n",
      "[Parallel(n_jobs=10)]: Done 172 tasks      | elapsed:    0.0s\n",
      "[Parallel(n_jobs=10)]: Done 247 out of 247 | elapsed:    0.1s finished\n",
      "[Parallel(n_jobs=10)]: Using backend LokyBackend with 10 concurrent workers.\n",
      "[Parallel(n_jobs=10)]: Done   8 tasks      | elapsed:    0.0s\n"
     ]
    },
    {
     "name": "stdout",
     "output_type": "stream",
     "text": [
      "Applying baseline correction (mode: zscore)\n",
      "NOTE: tfr_morlet() is a legacy function. New code should use .compute_tfr(method=\"morlet\").\n",
      "Applying baseline correction (mode: zscore)\n",
      "NOTE: tfr_morlet() is a legacy function. New code should use .compute_tfr(method=\"morlet\").\n"
     ]
    },
    {
     "name": "stderr",
     "output_type": "stream",
     "text": [
      "[Parallel(n_jobs=10)]: Done 172 tasks      | elapsed:    0.0s\n",
      "[Parallel(n_jobs=10)]: Done 247 out of 247 | elapsed:    0.1s finished\n",
      "[Parallel(n_jobs=10)]: Using backend LokyBackend with 10 concurrent workers.\n",
      "[Parallel(n_jobs=10)]: Done   8 tasks      | elapsed:    0.0s\n",
      "[Parallel(n_jobs=10)]: Done 172 tasks      | elapsed:    0.0s\n",
      "[Parallel(n_jobs=10)]: Done 247 out of 247 | elapsed:    0.1s finished\n",
      "[Parallel(n_jobs=10)]: Using backend LokyBackend with 10 concurrent workers.\n",
      "[Parallel(n_jobs=10)]: Done   8 tasks      | elapsed:    0.0s\n"
     ]
    },
    {
     "name": "stdout",
     "output_type": "stream",
     "text": [
      "Applying baseline correction (mode: zscore)\n",
      "NOTE: tfr_morlet() is a legacy function. New code should use .compute_tfr(method=\"morlet\").\n",
      "Applying baseline correction (mode: zscore)\n",
      "NOTE: tfr_morlet() is a legacy function. New code should use .compute_tfr(method=\"morlet\").\n"
     ]
    },
    {
     "name": "stderr",
     "output_type": "stream",
     "text": [
      "[Parallel(n_jobs=10)]: Done 172 tasks      | elapsed:    0.1s\n",
      "[Parallel(n_jobs=10)]: Done 247 out of 247 | elapsed:    0.1s finished\n",
      "[Parallel(n_jobs=10)]: Using backend LokyBackend with 10 concurrent workers.\n",
      "[Parallel(n_jobs=10)]: Done   8 tasks      | elapsed:    0.0s\n",
      "[Parallel(n_jobs=10)]: Done 172 tasks      | elapsed:    0.0s\n",
      "[Parallel(n_jobs=10)]: Done 247 out of 247 | elapsed:    0.1s finished\n",
      "[Parallel(n_jobs=10)]: Using backend LokyBackend with 10 concurrent workers.\n",
      "[Parallel(n_jobs=10)]: Done   8 tasks      | elapsed:    0.0s\n"
     ]
    },
    {
     "name": "stdout",
     "output_type": "stream",
     "text": [
      "Applying baseline correction (mode: zscore)\n",
      "NOTE: tfr_morlet() is a legacy function. New code should use .compute_tfr(method=\"morlet\").\n",
      "Applying baseline correction (mode: zscore)\n",
      "NOTE: tfr_morlet() is a legacy function. New code should use .compute_tfr(method=\"morlet\").\n"
     ]
    },
    {
     "name": "stderr",
     "output_type": "stream",
     "text": [
      "[Parallel(n_jobs=10)]: Done 172 tasks      | elapsed:    0.0s\n",
      "[Parallel(n_jobs=10)]: Done 247 out of 247 | elapsed:    0.1s finished\n",
      "[Parallel(n_jobs=10)]: Using backend LokyBackend with 10 concurrent workers.\n",
      "[Parallel(n_jobs=10)]: Done   8 tasks      | elapsed:    0.0s\n",
      "[Parallel(n_jobs=10)]: Done 172 tasks      | elapsed:    0.0s\n",
      "[Parallel(n_jobs=10)]: Done 247 out of 247 | elapsed:    0.1s finished\n",
      "[Parallel(n_jobs=10)]: Using backend LokyBackend with 10 concurrent workers.\n",
      "[Parallel(n_jobs=10)]: Done   8 tasks      | elapsed:    0.0s\n"
     ]
    },
    {
     "name": "stdout",
     "output_type": "stream",
     "text": [
      "Applying baseline correction (mode: zscore)\n",
      "NOTE: tfr_morlet() is a legacy function. New code should use .compute_tfr(method=\"morlet\").\n",
      "Applying baseline correction (mode: zscore)\n",
      "NOTE: tfr_morlet() is a legacy function. New code should use .compute_tfr(method=\"morlet\").\n"
     ]
    },
    {
     "name": "stderr",
     "output_type": "stream",
     "text": [
      "[Parallel(n_jobs=10)]: Done 172 tasks      | elapsed:    0.1s\n",
      "[Parallel(n_jobs=10)]: Done 247 out of 247 | elapsed:    0.1s finished\n",
      "[Parallel(n_jobs=10)]: Using backend LokyBackend with 10 concurrent workers.\n",
      "[Parallel(n_jobs=10)]: Done   8 tasks      | elapsed:    0.0s\n",
      "[Parallel(n_jobs=10)]: Done 172 tasks      | elapsed:    0.0s\n",
      "[Parallel(n_jobs=10)]: Done 247 out of 247 | elapsed:    0.1s finished\n",
      "[Parallel(n_jobs=10)]: Using backend LokyBackend with 10 concurrent workers.\n",
      "[Parallel(n_jobs=10)]: Done   8 tasks      | elapsed:    0.0s\n"
     ]
    },
    {
     "name": "stdout",
     "output_type": "stream",
     "text": [
      "Applying baseline correction (mode: zscore)\n",
      "NOTE: tfr_morlet() is a legacy function. New code should use .compute_tfr(method=\"morlet\").\n",
      "Applying baseline correction (mode: zscore)\n",
      "NOTE: tfr_morlet() is a legacy function. New code should use .compute_tfr(method=\"morlet\").\n"
     ]
    },
    {
     "name": "stderr",
     "output_type": "stream",
     "text": [
      "[Parallel(n_jobs=10)]: Done 172 tasks      | elapsed:    0.0s\n",
      "[Parallel(n_jobs=10)]: Done 247 out of 247 | elapsed:    0.1s finished\n",
      "[Parallel(n_jobs=10)]: Using backend LokyBackend with 10 concurrent workers.\n",
      "[Parallel(n_jobs=10)]: Done   8 tasks      | elapsed:    0.0s\n",
      "[Parallel(n_jobs=10)]: Done 172 tasks      | elapsed:    0.0s\n",
      "[Parallel(n_jobs=10)]: Done 247 out of 247 | elapsed:    0.1s finished\n",
      "[Parallel(n_jobs=10)]: Using backend LokyBackend with 10 concurrent workers.\n",
      "[Parallel(n_jobs=10)]: Done   8 tasks      | elapsed:    0.0s\n"
     ]
    },
    {
     "name": "stdout",
     "output_type": "stream",
     "text": [
      "Applying baseline correction (mode: zscore)\n",
      "NOTE: tfr_morlet() is a legacy function. New code should use .compute_tfr(method=\"morlet\").\n",
      "Applying baseline correction (mode: zscore)\n",
      "NOTE: tfr_morlet() is a legacy function. New code should use .compute_tfr(method=\"morlet\").\n"
     ]
    },
    {
     "name": "stderr",
     "output_type": "stream",
     "text": [
      "[Parallel(n_jobs=10)]: Done 172 tasks      | elapsed:    0.1s\n",
      "[Parallel(n_jobs=10)]: Done 247 out of 247 | elapsed:    0.1s finished\n",
      "[Parallel(n_jobs=10)]: Using backend LokyBackend with 10 concurrent workers.\n",
      "[Parallel(n_jobs=10)]: Done   8 tasks      | elapsed:    0.0s\n",
      "[Parallel(n_jobs=10)]: Done 172 tasks      | elapsed:    0.0s\n",
      "[Parallel(n_jobs=10)]: Done 247 out of 247 | elapsed:    0.1s finished\n",
      "[Parallel(n_jobs=10)]: Using backend LokyBackend with 10 concurrent workers.\n",
      "[Parallel(n_jobs=10)]: Done   8 tasks      | elapsed:    0.0s\n"
     ]
    },
    {
     "name": "stdout",
     "output_type": "stream",
     "text": [
      "Applying baseline correction (mode: zscore)\n",
      "NOTE: tfr_morlet() is a legacy function. New code should use .compute_tfr(method=\"morlet\").\n",
      "Applying baseline correction (mode: zscore)\n",
      "NOTE: tfr_morlet() is a legacy function. New code should use .compute_tfr(method=\"morlet\").\n"
     ]
    },
    {
     "name": "stderr",
     "output_type": "stream",
     "text": [
      "[Parallel(n_jobs=10)]: Done 172 tasks      | elapsed:    0.0s\n",
      "[Parallel(n_jobs=10)]: Done 247 out of 247 | elapsed:    0.1s finished\n",
      "[Parallel(n_jobs=10)]: Using backend LokyBackend with 10 concurrent workers.\n",
      "[Parallel(n_jobs=10)]: Done   8 tasks      | elapsed:    0.0s\n",
      "[Parallel(n_jobs=10)]: Done 172 tasks      | elapsed:    0.1s\n",
      "[Parallel(n_jobs=10)]: Done 247 out of 247 | elapsed:    0.1s finished\n",
      "[Parallel(n_jobs=10)]: Using backend LokyBackend with 10 concurrent workers.\n",
      "[Parallel(n_jobs=10)]: Done   8 tasks      | elapsed:    0.0s\n"
     ]
    },
    {
     "name": "stdout",
     "output_type": "stream",
     "text": [
      "Applying baseline correction (mode: zscore)\n",
      "NOTE: tfr_morlet() is a legacy function. New code should use .compute_tfr(method=\"morlet\").\n",
      "Applying baseline correction (mode: zscore)\n",
      "NOTE: tfr_morlet() is a legacy function. New code should use .compute_tfr(method=\"morlet\").\n"
     ]
    },
    {
     "name": "stderr",
     "output_type": "stream",
     "text": [
      "[Parallel(n_jobs=10)]: Done 172 tasks      | elapsed:    0.1s\n",
      "[Parallel(n_jobs=10)]: Done 247 out of 247 | elapsed:    0.1s finished\n",
      "[Parallel(n_jobs=10)]: Using backend LokyBackend with 10 concurrent workers.\n",
      "[Parallel(n_jobs=10)]: Done   8 tasks      | elapsed:    0.0s\n",
      "[Parallel(n_jobs=10)]: Done 172 tasks      | elapsed:    0.0s\n",
      "[Parallel(n_jobs=10)]: Done 247 out of 247 | elapsed:    0.1s finished\n",
      "[Parallel(n_jobs=10)]: Using backend LokyBackend with 10 concurrent workers.\n",
      "[Parallel(n_jobs=10)]: Done   8 tasks      | elapsed:    0.0s\n"
     ]
    },
    {
     "name": "stdout",
     "output_type": "stream",
     "text": [
      "Applying baseline correction (mode: zscore)\n",
      "NOTE: tfr_morlet() is a legacy function. New code should use .compute_tfr(method=\"morlet\").\n",
      "Applying baseline correction (mode: zscore)\n",
      "NOTE: tfr_morlet() is a legacy function. New code should use .compute_tfr(method=\"morlet\").\n"
     ]
    },
    {
     "name": "stderr",
     "output_type": "stream",
     "text": [
      "[Parallel(n_jobs=10)]: Done 172 tasks      | elapsed:    0.0s\n",
      "[Parallel(n_jobs=10)]: Done 247 out of 247 | elapsed:    0.1s finished\n",
      "[Parallel(n_jobs=10)]: Using backend LokyBackend with 10 concurrent workers.\n",
      "[Parallel(n_jobs=10)]: Done   8 tasks      | elapsed:    0.0s\n",
      "[Parallel(n_jobs=10)]: Done 172 tasks      | elapsed:    0.0s\n",
      "[Parallel(n_jobs=10)]: Done 247 out of 247 | elapsed:    0.1s finished\n",
      "[Parallel(n_jobs=10)]: Using backend LokyBackend with 10 concurrent workers.\n",
      "[Parallel(n_jobs=10)]: Done   8 tasks      | elapsed:    0.0s\n"
     ]
    },
    {
     "name": "stdout",
     "output_type": "stream",
     "text": [
      "Applying baseline correction (mode: zscore)\n",
      "NOTE: tfr_morlet() is a legacy function. New code should use .compute_tfr(method=\"morlet\").\n",
      "Applying baseline correction (mode: zscore)\n",
      "NOTE: tfr_morlet() is a legacy function. New code should use .compute_tfr(method=\"morlet\").\n"
     ]
    },
    {
     "name": "stderr",
     "output_type": "stream",
     "text": [
      "[Parallel(n_jobs=10)]: Done 172 tasks      | elapsed:    0.1s\n",
      "[Parallel(n_jobs=10)]: Done 247 out of 247 | elapsed:    0.1s finished\n",
      "[Parallel(n_jobs=10)]: Using backend LokyBackend with 10 concurrent workers.\n",
      "[Parallel(n_jobs=10)]: Done   8 tasks      | elapsed:    0.0s\n",
      "[Parallel(n_jobs=10)]: Done 172 tasks      | elapsed:    0.0s\n",
      "[Parallel(n_jobs=10)]: Done 247 out of 247 | elapsed:    0.1s finished\n",
      "[Parallel(n_jobs=10)]: Using backend LokyBackend with 10 concurrent workers.\n",
      "[Parallel(n_jobs=10)]: Done   8 tasks      | elapsed:    0.0s\n"
     ]
    },
    {
     "name": "stdout",
     "output_type": "stream",
     "text": [
      "Applying baseline correction (mode: zscore)\n",
      "NOTE: tfr_morlet() is a legacy function. New code should use .compute_tfr(method=\"morlet\").\n",
      "Applying baseline correction (mode: zscore)\n",
      "NOTE: tfr_morlet() is a legacy function. New code should use .compute_tfr(method=\"morlet\").\n"
     ]
    },
    {
     "name": "stderr",
     "output_type": "stream",
     "text": [
      "[Parallel(n_jobs=10)]: Done 172 tasks      | elapsed:    0.0s\n",
      "[Parallel(n_jobs=10)]: Done 247 out of 247 | elapsed:    0.1s finished\n",
      "[Parallel(n_jobs=10)]: Using backend LokyBackend with 10 concurrent workers.\n",
      "[Parallel(n_jobs=10)]: Done   8 tasks      | elapsed:    0.0s\n",
      "[Parallel(n_jobs=10)]: Done 172 tasks      | elapsed:    0.0s\n",
      "[Parallel(n_jobs=10)]: Done 247 out of 247 | elapsed:    0.1s finished\n",
      "[Parallel(n_jobs=10)]: Using backend LokyBackend with 10 concurrent workers.\n",
      "[Parallel(n_jobs=10)]: Done   8 tasks      | elapsed:    0.0s\n"
     ]
    },
    {
     "name": "stdout",
     "output_type": "stream",
     "text": [
      "Applying baseline correction (mode: zscore)\n",
      "NOTE: tfr_morlet() is a legacy function. New code should use .compute_tfr(method=\"morlet\").\n",
      "Applying baseline correction (mode: zscore)\n",
      "NOTE: tfr_morlet() is a legacy function. New code should use .compute_tfr(method=\"morlet\").\n"
     ]
    },
    {
     "name": "stderr",
     "output_type": "stream",
     "text": [
      "[Parallel(n_jobs=10)]: Done 172 tasks      | elapsed:    0.1s\n",
      "[Parallel(n_jobs=10)]: Done 247 out of 247 | elapsed:    0.1s finished\n",
      "[Parallel(n_jobs=10)]: Using backend LokyBackend with 10 concurrent workers.\n",
      "[Parallel(n_jobs=10)]: Done   8 tasks      | elapsed:    0.0s\n",
      "[Parallel(n_jobs=10)]: Done 172 tasks      | elapsed:    0.1s\n",
      "[Parallel(n_jobs=10)]: Done 247 out of 247 | elapsed:    0.1s finished\n"
     ]
    },
    {
     "name": "stdout",
     "output_type": "stream",
     "text": [
      "Applying baseline correction (mode: zscore)\n",
      "NOTE: tfr_morlet() is a legacy function. New code should use .compute_tfr(method=\"morlet\").\n"
     ]
    },
    {
     "name": "stderr",
     "output_type": "stream",
     "text": [
      "[Parallel(n_jobs=10)]: Using backend LokyBackend with 10 concurrent workers.\n",
      "[Parallel(n_jobs=10)]: Done   8 tasks      | elapsed:    0.0s\n",
      "[Parallel(n_jobs=10)]: Done 172 tasks      | elapsed:    0.1s\n",
      "[Parallel(n_jobs=10)]: Done 247 out of 247 | elapsed:    0.1s finished\n",
      "[Parallel(n_jobs=10)]: Using backend LokyBackend with 10 concurrent workers.\n",
      "[Parallel(n_jobs=10)]: Done   8 tasks      | elapsed:    0.0s\n",
      "[Parallel(n_jobs=10)]: Done 172 tasks      | elapsed:    0.0s\n"
     ]
    },
    {
     "name": "stdout",
     "output_type": "stream",
     "text": [
      "Applying baseline correction (mode: zscore)\n",
      "NOTE: tfr_morlet() is a legacy function. New code should use .compute_tfr(method=\"morlet\").\n",
      "Applying baseline correction (mode: zscore)\n",
      "NOTE: tfr_morlet() is a legacy function. New code should use .compute_tfr(method=\"morlet\").\n"
     ]
    },
    {
     "name": "stderr",
     "output_type": "stream",
     "text": [
      "[Parallel(n_jobs=10)]: Done 247 out of 247 | elapsed:    0.1s finished\n",
      "[Parallel(n_jobs=10)]: Using backend LokyBackend with 10 concurrent workers.\n",
      "[Parallel(n_jobs=10)]: Done   8 tasks      | elapsed:    0.0s\n",
      "[Parallel(n_jobs=10)]: Done 172 tasks      | elapsed:    0.0s\n",
      "[Parallel(n_jobs=10)]: Done 247 out of 247 | elapsed:    0.1s finished\n",
      "[Parallel(n_jobs=10)]: Using backend LokyBackend with 10 concurrent workers.\n"
     ]
    },
    {
     "name": "stdout",
     "output_type": "stream",
     "text": [
      "Applying baseline correction (mode: zscore)\n",
      "NOTE: tfr_morlet() is a legacy function. New code should use .compute_tfr(method=\"morlet\").\n"
     ]
    },
    {
     "name": "stderr",
     "output_type": "stream",
     "text": [
      "[Parallel(n_jobs=10)]: Done   8 tasks      | elapsed:    0.1s\n",
      "[Parallel(n_jobs=10)]: Done 172 tasks      | elapsed:    0.1s\n",
      "[Parallel(n_jobs=10)]: Done 247 out of 247 | elapsed:    0.1s finished\n",
      "[Parallel(n_jobs=10)]: Using backend LokyBackend with 10 concurrent workers.\n",
      "[Parallel(n_jobs=10)]: Done   8 tasks      | elapsed:    0.0s\n",
      "[Parallel(n_jobs=10)]: Done 172 tasks      | elapsed:    0.1s\n"
     ]
    },
    {
     "name": "stdout",
     "output_type": "stream",
     "text": [
      "Applying baseline correction (mode: zscore)\n",
      "NOTE: tfr_morlet() is a legacy function. New code should use .compute_tfr(method=\"morlet\").\n",
      "Applying baseline correction (mode: zscore)\n",
      "NOTE: tfr_morlet() is a legacy function. New code should use .compute_tfr(method=\"morlet\").\n"
     ]
    },
    {
     "name": "stderr",
     "output_type": "stream",
     "text": [
      "[Parallel(n_jobs=10)]: Done 247 out of 247 | elapsed:    0.1s finished\n",
      "[Parallel(n_jobs=10)]: Using backend LokyBackend with 10 concurrent workers.\n",
      "[Parallel(n_jobs=10)]: Done   8 tasks      | elapsed:    0.0s\n",
      "[Parallel(n_jobs=10)]: Done 172 tasks      | elapsed:    0.0s\n",
      "[Parallel(n_jobs=10)]: Done 247 out of 247 | elapsed:    0.1s finished\n",
      "[Parallel(n_jobs=10)]: Using backend LokyBackend with 10 concurrent workers.\n",
      "[Parallel(n_jobs=10)]: Done   8 tasks      | elapsed:    0.0s\n",
      "[Parallel(n_jobs=10)]: Done 172 tasks      | elapsed:    0.1s\n"
     ]
    },
    {
     "name": "stdout",
     "output_type": "stream",
     "text": [
      "Applying baseline correction (mode: zscore)\n",
      "NOTE: tfr_morlet() is a legacy function. New code should use .compute_tfr(method=\"morlet\").\n",
      "Applying baseline correction (mode: zscore)\n",
      "NOTE: tfr_morlet() is a legacy function. New code should use .compute_tfr(method=\"morlet\").\n"
     ]
    },
    {
     "name": "stderr",
     "output_type": "stream",
     "text": [
      "[Parallel(n_jobs=10)]: Done 247 out of 247 | elapsed:    0.1s finished\n",
      "[Parallel(n_jobs=10)]: Using backend LokyBackend with 10 concurrent workers.\n",
      "[Parallel(n_jobs=10)]: Done   8 tasks      | elapsed:    0.0s\n",
      "[Parallel(n_jobs=10)]: Done 172 tasks      | elapsed:    0.0s\n",
      "[Parallel(n_jobs=10)]: Done 247 out of 247 | elapsed:    0.1s finished\n",
      "[Parallel(n_jobs=10)]: Using backend LokyBackend with 10 concurrent workers.\n",
      "[Parallel(n_jobs=10)]: Done   8 tasks      | elapsed:    0.0s\n",
      "[Parallel(n_jobs=10)]: Done 172 tasks      | elapsed:    0.0s\n"
     ]
    },
    {
     "name": "stdout",
     "output_type": "stream",
     "text": [
      "Applying baseline correction (mode: zscore)\n",
      "NOTE: tfr_morlet() is a legacy function. New code should use .compute_tfr(method=\"morlet\").\n",
      "Applying baseline correction (mode: zscore)\n",
      "NOTE: tfr_morlet() is a legacy function. New code should use .compute_tfr(method=\"morlet\").\n"
     ]
    },
    {
     "name": "stderr",
     "output_type": "stream",
     "text": [
      "[Parallel(n_jobs=10)]: Done 247 out of 247 | elapsed:    0.1s finished\n",
      "[Parallel(n_jobs=10)]: Using backend LokyBackend with 10 concurrent workers.\n",
      "[Parallel(n_jobs=10)]: Done   8 tasks      | elapsed:    0.0s\n",
      "[Parallel(n_jobs=10)]: Done 172 tasks      | elapsed:    0.0s\n",
      "[Parallel(n_jobs=10)]: Done 247 out of 247 | elapsed:    0.1s finished\n",
      "[Parallel(n_jobs=10)]: Using backend LokyBackend with 10 concurrent workers.\n",
      "[Parallel(n_jobs=10)]: Done   8 tasks      | elapsed:    0.0s\n",
      "[Parallel(n_jobs=10)]: Done 172 tasks      | elapsed:    0.0s\n"
     ]
    },
    {
     "name": "stdout",
     "output_type": "stream",
     "text": [
      "Applying baseline correction (mode: zscore)\n",
      "NOTE: tfr_morlet() is a legacy function. New code should use .compute_tfr(method=\"morlet\").\n",
      "Applying baseline correction (mode: zscore)\n",
      "NOTE: tfr_morlet() is a legacy function. New code should use .compute_tfr(method=\"morlet\").\n"
     ]
    },
    {
     "name": "stderr",
     "output_type": "stream",
     "text": [
      "[Parallel(n_jobs=10)]: Done 247 out of 247 | elapsed:    0.1s finished\n",
      "[Parallel(n_jobs=10)]: Using backend LokyBackend with 10 concurrent workers.\n",
      "[Parallel(n_jobs=10)]: Done   8 tasks      | elapsed:    0.0s\n",
      "[Parallel(n_jobs=10)]: Done 172 tasks      | elapsed:    0.0s\n",
      "[Parallel(n_jobs=10)]: Done 247 out of 247 | elapsed:    0.1s finished\n",
      "[Parallel(n_jobs=10)]: Using backend LokyBackend with 10 concurrent workers.\n",
      "[Parallel(n_jobs=10)]: Done   8 tasks      | elapsed:    0.0s\n",
      "[Parallel(n_jobs=10)]: Done 172 tasks      | elapsed:    0.0s\n"
     ]
    },
    {
     "name": "stdout",
     "output_type": "stream",
     "text": [
      "Applying baseline correction (mode: zscore)\n",
      "NOTE: tfr_morlet() is a legacy function. New code should use .compute_tfr(method=\"morlet\").\n",
      "Applying baseline correction (mode: zscore)\n",
      "NOTE: tfr_morlet() is a legacy function. New code should use .compute_tfr(method=\"morlet\").\n"
     ]
    },
    {
     "name": "stderr",
     "output_type": "stream",
     "text": [
      "[Parallel(n_jobs=10)]: Done 247 out of 247 | elapsed:    0.1s finished\n",
      "[Parallel(n_jobs=10)]: Using backend LokyBackend with 10 concurrent workers.\n",
      "[Parallel(n_jobs=10)]: Done   8 tasks      | elapsed:    0.0s\n",
      "[Parallel(n_jobs=10)]: Done 172 tasks      | elapsed:    0.0s\n",
      "[Parallel(n_jobs=10)]: Done 247 out of 247 | elapsed:    0.1s finished\n",
      "[Parallel(n_jobs=10)]: Using backend LokyBackend with 10 concurrent workers.\n",
      "[Parallel(n_jobs=10)]: Done   8 tasks      | elapsed:    0.0s\n",
      "[Parallel(n_jobs=10)]: Done 172 tasks      | elapsed:    0.1s\n"
     ]
    },
    {
     "name": "stdout",
     "output_type": "stream",
     "text": [
      "Applying baseline correction (mode: zscore)\n",
      "NOTE: tfr_morlet() is a legacy function. New code should use .compute_tfr(method=\"morlet\").\n",
      "Applying baseline correction (mode: zscore)\n",
      "NOTE: tfr_morlet() is a legacy function. New code should use .compute_tfr(method=\"morlet\").\n"
     ]
    },
    {
     "name": "stderr",
     "output_type": "stream",
     "text": [
      "[Parallel(n_jobs=10)]: Done 247 out of 247 | elapsed:    0.1s finished\n",
      "[Parallel(n_jobs=10)]: Using backend LokyBackend with 10 concurrent workers.\n",
      "[Parallel(n_jobs=10)]: Done   8 tasks      | elapsed:    0.0s\n",
      "[Parallel(n_jobs=10)]: Done 172 tasks      | elapsed:    0.0s\n",
      "[Parallel(n_jobs=10)]: Done 247 out of 247 | elapsed:    0.1s finished\n",
      "[Parallel(n_jobs=10)]: Using backend LokyBackend with 10 concurrent workers.\n",
      "[Parallel(n_jobs=10)]: Done   8 tasks      | elapsed:    0.0s\n",
      "[Parallel(n_jobs=10)]: Done 172 tasks      | elapsed:    0.0s\n"
     ]
    },
    {
     "name": "stdout",
     "output_type": "stream",
     "text": [
      "Applying baseline correction (mode: zscore)\n",
      "NOTE: tfr_morlet() is a legacy function. New code should use .compute_tfr(method=\"morlet\").\n",
      "Applying baseline correction (mode: zscore)\n",
      "NOTE: tfr_morlet() is a legacy function. New code should use .compute_tfr(method=\"morlet\").\n"
     ]
    },
    {
     "name": "stderr",
     "output_type": "stream",
     "text": [
      "[Parallel(n_jobs=10)]: Done 247 out of 247 | elapsed:    0.1s finished\n",
      "[Parallel(n_jobs=10)]: Using backend LokyBackend with 10 concurrent workers.\n",
      "[Parallel(n_jobs=10)]: Done   8 tasks      | elapsed:    0.0s\n",
      "[Parallel(n_jobs=10)]: Done 172 tasks      | elapsed:    0.0s\n",
      "[Parallel(n_jobs=10)]: Done 247 out of 247 | elapsed:    0.1s finished\n",
      "[Parallel(n_jobs=10)]: Using backend LokyBackend with 10 concurrent workers.\n",
      "[Parallel(n_jobs=10)]: Done   8 tasks      | elapsed:    0.0s\n",
      "[Parallel(n_jobs=10)]: Done 172 tasks      | elapsed:    0.0s\n"
     ]
    },
    {
     "name": "stdout",
     "output_type": "stream",
     "text": [
      "Applying baseline correction (mode: zscore)\n",
      "NOTE: tfr_morlet() is a legacy function. New code should use .compute_tfr(method=\"morlet\").\n",
      "Applying baseline correction (mode: zscore)\n",
      "NOTE: tfr_morlet() is a legacy function. New code should use .compute_tfr(method=\"morlet\").\n"
     ]
    },
    {
     "name": "stderr",
     "output_type": "stream",
     "text": [
      "[Parallel(n_jobs=10)]: Done 247 out of 247 | elapsed:    0.1s finished\n",
      "[Parallel(n_jobs=10)]: Using backend LokyBackend with 10 concurrent workers.\n",
      "[Parallel(n_jobs=10)]: Done   8 tasks      | elapsed:    0.0s\n",
      "[Parallel(n_jobs=10)]: Done 172 tasks      | elapsed:    0.0s\n",
      "[Parallel(n_jobs=10)]: Done 247 out of 247 | elapsed:    0.1s finished\n",
      "[Parallel(n_jobs=10)]: Using backend LokyBackend with 10 concurrent workers.\n",
      "[Parallel(n_jobs=10)]: Done   8 tasks      | elapsed:    0.0s\n",
      "[Parallel(n_jobs=10)]: Done 172 tasks      | elapsed:    0.0s\n"
     ]
    },
    {
     "name": "stdout",
     "output_type": "stream",
     "text": [
      "Applying baseline correction (mode: zscore)\n",
      "NOTE: tfr_morlet() is a legacy function. New code should use .compute_tfr(method=\"morlet\").\n",
      "Applying baseline correction (mode: zscore)\n",
      "NOTE: tfr_morlet() is a legacy function. New code should use .compute_tfr(method=\"morlet\").\n"
     ]
    },
    {
     "name": "stderr",
     "output_type": "stream",
     "text": [
      "[Parallel(n_jobs=10)]: Done 247 out of 247 | elapsed:    0.1s finished\n",
      "[Parallel(n_jobs=10)]: Using backend LokyBackend with 10 concurrent workers.\n",
      "[Parallel(n_jobs=10)]: Done   8 tasks      | elapsed:    0.0s\n",
      "[Parallel(n_jobs=10)]: Done 172 tasks      | elapsed:    0.0s\n",
      "[Parallel(n_jobs=10)]: Done 247 out of 247 | elapsed:    0.1s finished\n",
      "[Parallel(n_jobs=10)]: Using backend LokyBackend with 10 concurrent workers.\n",
      "[Parallel(n_jobs=10)]: Done   8 tasks      | elapsed:    0.0s\n",
      "[Parallel(n_jobs=10)]: Done 172 tasks      | elapsed:    0.0s\n"
     ]
    },
    {
     "name": "stdout",
     "output_type": "stream",
     "text": [
      "Applying baseline correction (mode: zscore)\n",
      "NOTE: tfr_morlet() is a legacy function. New code should use .compute_tfr(method=\"morlet\").\n",
      "Applying baseline correction (mode: zscore)\n",
      "NOTE: tfr_morlet() is a legacy function. New code should use .compute_tfr(method=\"morlet\").\n"
     ]
    },
    {
     "name": "stderr",
     "output_type": "stream",
     "text": [
      "[Parallel(n_jobs=10)]: Done 247 out of 247 | elapsed:    0.1s finished\n",
      "[Parallel(n_jobs=10)]: Using backend LokyBackend with 10 concurrent workers.\n",
      "[Parallel(n_jobs=10)]: Done   8 tasks      | elapsed:    0.0s\n",
      "[Parallel(n_jobs=10)]: Done 172 tasks      | elapsed:    0.1s\n",
      "[Parallel(n_jobs=10)]: Done 247 out of 247 | elapsed:    0.1s finished\n",
      "[Parallel(n_jobs=10)]: Using backend LokyBackend with 10 concurrent workers.\n",
      "[Parallel(n_jobs=10)]: Done   8 tasks      | elapsed:    0.0s\n",
      "[Parallel(n_jobs=10)]: Done 172 tasks      | elapsed:    0.0s\n"
     ]
    },
    {
     "name": "stdout",
     "output_type": "stream",
     "text": [
      "Applying baseline correction (mode: zscore)\n",
      "NOTE: tfr_morlet() is a legacy function. New code should use .compute_tfr(method=\"morlet\").\n",
      "Applying baseline correction (mode: zscore)\n",
      "NOTE: tfr_morlet() is a legacy function. New code should use .compute_tfr(method=\"morlet\").\n"
     ]
    },
    {
     "name": "stderr",
     "output_type": "stream",
     "text": [
      "[Parallel(n_jobs=10)]: Done 247 out of 247 | elapsed:    0.1s finished\n",
      "[Parallel(n_jobs=10)]: Using backend LokyBackend with 10 concurrent workers.\n",
      "[Parallel(n_jobs=10)]: Done   8 tasks      | elapsed:    0.0s\n",
      "[Parallel(n_jobs=10)]: Done 172 tasks      | elapsed:    0.0s\n",
      "[Parallel(n_jobs=10)]: Done 247 out of 247 | elapsed:    0.1s finished\n",
      "[Parallel(n_jobs=10)]: Using backend LokyBackend with 10 concurrent workers.\n",
      "[Parallel(n_jobs=10)]: Done   8 tasks      | elapsed:    0.0s\n",
      "[Parallel(n_jobs=10)]: Done 172 tasks      | elapsed:    0.0s\n"
     ]
    },
    {
     "name": "stdout",
     "output_type": "stream",
     "text": [
      "Applying baseline correction (mode: zscore)\n",
      "NOTE: tfr_morlet() is a legacy function. New code should use .compute_tfr(method=\"morlet\").\n",
      "Applying baseline correction (mode: zscore)\n",
      "NOTE: tfr_morlet() is a legacy function. New code should use .compute_tfr(method=\"morlet\").\n"
     ]
    },
    {
     "name": "stderr",
     "output_type": "stream",
     "text": [
      "[Parallel(n_jobs=10)]: Done 247 out of 247 | elapsed:    0.1s finished\n",
      "[Parallel(n_jobs=10)]: Using backend LokyBackend with 10 concurrent workers.\n",
      "[Parallel(n_jobs=10)]: Done   8 tasks      | elapsed:    0.0s\n",
      "[Parallel(n_jobs=10)]: Done 172 tasks      | elapsed:    0.0s\n",
      "[Parallel(n_jobs=10)]: Done 247 out of 247 | elapsed:    0.1s finished\n",
      "[Parallel(n_jobs=10)]: Using backend LokyBackend with 10 concurrent workers.\n",
      "[Parallel(n_jobs=10)]: Done   8 tasks      | elapsed:    0.0s\n",
      "[Parallel(n_jobs=10)]: Done 172 tasks      | elapsed:    0.0s\n"
     ]
    },
    {
     "name": "stdout",
     "output_type": "stream",
     "text": [
      "Applying baseline correction (mode: zscore)\n",
      "NOTE: tfr_morlet() is a legacy function. New code should use .compute_tfr(method=\"morlet\").\n",
      "Applying baseline correction (mode: zscore)\n",
      "NOTE: tfr_morlet() is a legacy function. New code should use .compute_tfr(method=\"morlet\").\n"
     ]
    },
    {
     "name": "stderr",
     "output_type": "stream",
     "text": [
      "[Parallel(n_jobs=10)]: Done 247 out of 247 | elapsed:    0.1s finished\n",
      "[Parallel(n_jobs=10)]: Using backend LokyBackend with 10 concurrent workers.\n",
      "[Parallel(n_jobs=10)]: Done   8 tasks      | elapsed:    0.0s\n",
      "[Parallel(n_jobs=10)]: Done 172 tasks      | elapsed:    0.0s\n",
      "[Parallel(n_jobs=10)]: Done 247 out of 247 | elapsed:    0.1s finished\n",
      "[Parallel(n_jobs=10)]: Using backend LokyBackend with 10 concurrent workers.\n",
      "[Parallel(n_jobs=10)]: Done   8 tasks      | elapsed:    0.0s\n",
      "[Parallel(n_jobs=10)]: Done 172 tasks      | elapsed:    0.0s\n"
     ]
    },
    {
     "name": "stdout",
     "output_type": "stream",
     "text": [
      "Applying baseline correction (mode: zscore)\n",
      "NOTE: tfr_morlet() is a legacy function. New code should use .compute_tfr(method=\"morlet\").\n",
      "Applying baseline correction (mode: zscore)\n",
      "NOTE: tfr_morlet() is a legacy function. New code should use .compute_tfr(method=\"morlet\").\n"
     ]
    },
    {
     "name": "stderr",
     "output_type": "stream",
     "text": [
      "[Parallel(n_jobs=10)]: Done 247 out of 247 | elapsed:    0.1s finished\n",
      "[Parallel(n_jobs=10)]: Using backend LokyBackend with 10 concurrent workers.\n",
      "[Parallel(n_jobs=10)]: Done   8 tasks      | elapsed:    0.0s\n",
      "[Parallel(n_jobs=10)]: Done 172 tasks      | elapsed:    0.0s\n",
      "[Parallel(n_jobs=10)]: Done 247 out of 247 | elapsed:    0.1s finished\n",
      "[Parallel(n_jobs=10)]: Using backend LokyBackend with 10 concurrent workers.\n",
      "[Parallel(n_jobs=10)]: Done   8 tasks      | elapsed:    0.0s\n",
      "[Parallel(n_jobs=10)]: Done 172 tasks      | elapsed:    0.0s\n"
     ]
    },
    {
     "name": "stdout",
     "output_type": "stream",
     "text": [
      "Applying baseline correction (mode: zscore)\n",
      "NOTE: tfr_morlet() is a legacy function. New code should use .compute_tfr(method=\"morlet\").\n",
      "Applying baseline correction (mode: zscore)\n",
      "NOTE: tfr_morlet() is a legacy function. New code should use .compute_tfr(method=\"morlet\").\n"
     ]
    },
    {
     "name": "stderr",
     "output_type": "stream",
     "text": [
      "[Parallel(n_jobs=10)]: Done 247 out of 247 | elapsed:    0.1s finished\n",
      "[Parallel(n_jobs=10)]: Using backend LokyBackend with 10 concurrent workers.\n",
      "[Parallel(n_jobs=10)]: Done   8 tasks      | elapsed:    0.0s\n",
      "[Parallel(n_jobs=10)]: Done 172 tasks      | elapsed:    0.0s\n",
      "[Parallel(n_jobs=10)]: Done 247 out of 247 | elapsed:    0.1s finished\n",
      "[Parallel(n_jobs=10)]: Using backend LokyBackend with 10 concurrent workers.\n",
      "[Parallel(n_jobs=10)]: Done   8 tasks      | elapsed:    0.0s\n",
      "[Parallel(n_jobs=10)]: Done 172 tasks      | elapsed:    0.0s\n"
     ]
    },
    {
     "name": "stdout",
     "output_type": "stream",
     "text": [
      "Applying baseline correction (mode: zscore)\n",
      "NOTE: tfr_morlet() is a legacy function. New code should use .compute_tfr(method=\"morlet\").\n",
      "Applying baseline correction (mode: zscore)\n",
      "NOTE: tfr_morlet() is a legacy function. New code should use .compute_tfr(method=\"morlet\").\n"
     ]
    },
    {
     "name": "stderr",
     "output_type": "stream",
     "text": [
      "[Parallel(n_jobs=10)]: Done 247 out of 247 | elapsed:    0.1s finished\n",
      "[Parallel(n_jobs=10)]: Using backend LokyBackend with 10 concurrent workers.\n",
      "[Parallel(n_jobs=10)]: Done   8 tasks      | elapsed:    0.0s\n",
      "[Parallel(n_jobs=10)]: Done 172 tasks      | elapsed:    0.0s\n",
      "[Parallel(n_jobs=10)]: Done 247 out of 247 | elapsed:    0.1s finished\n",
      "[Parallel(n_jobs=10)]: Using backend LokyBackend with 10 concurrent workers.\n",
      "[Parallel(n_jobs=10)]: Done   8 tasks      | elapsed:    0.0s\n",
      "[Parallel(n_jobs=10)]: Done 172 tasks      | elapsed:    0.0s\n"
     ]
    },
    {
     "name": "stdout",
     "output_type": "stream",
     "text": [
      "Applying baseline correction (mode: zscore)\n",
      "NOTE: tfr_morlet() is a legacy function. New code should use .compute_tfr(method=\"morlet\").\n",
      "Applying baseline correction (mode: zscore)\n",
      "NOTE: tfr_morlet() is a legacy function. New code should use .compute_tfr(method=\"morlet\").\n"
     ]
    },
    {
     "name": "stderr",
     "output_type": "stream",
     "text": [
      "[Parallel(n_jobs=10)]: Done 247 out of 247 | elapsed:    0.1s finished\n",
      "[Parallel(n_jobs=10)]: Using backend LokyBackend with 10 concurrent workers.\n",
      "[Parallel(n_jobs=10)]: Done   8 tasks      | elapsed:    0.0s\n",
      "[Parallel(n_jobs=10)]: Done 172 tasks      | elapsed:    0.0s\n",
      "[Parallel(n_jobs=10)]: Done 247 out of 247 | elapsed:    0.1s finished\n",
      "[Parallel(n_jobs=10)]: Using backend LokyBackend with 10 concurrent workers.\n",
      "[Parallel(n_jobs=10)]: Done   8 tasks      | elapsed:    0.0s\n",
      "[Parallel(n_jobs=10)]: Done 172 tasks      | elapsed:    0.0s\n"
     ]
    },
    {
     "name": "stdout",
     "output_type": "stream",
     "text": [
      "Applying baseline correction (mode: zscore)\n",
      "NOTE: tfr_morlet() is a legacy function. New code should use .compute_tfr(method=\"morlet\").\n",
      "Applying baseline correction (mode: zscore)\n",
      "NOTE: tfr_morlet() is a legacy function. New code should use .compute_tfr(method=\"morlet\").\n"
     ]
    },
    {
     "name": "stderr",
     "output_type": "stream",
     "text": [
      "[Parallel(n_jobs=10)]: Done 247 out of 247 | elapsed:    0.1s finished\n",
      "[Parallel(n_jobs=10)]: Using backend LokyBackend with 10 concurrent workers.\n",
      "[Parallel(n_jobs=10)]: Done   8 tasks      | elapsed:    0.0s\n",
      "[Parallel(n_jobs=10)]: Done 172 tasks      | elapsed:    0.0s\n",
      "[Parallel(n_jobs=10)]: Done 247 out of 247 | elapsed:    0.1s finished\n",
      "[Parallel(n_jobs=10)]: Using backend LokyBackend with 10 concurrent workers.\n",
      "[Parallel(n_jobs=10)]: Done   8 tasks      | elapsed:    0.0s\n",
      "[Parallel(n_jobs=10)]: Done 172 tasks      | elapsed:    0.0s\n"
     ]
    },
    {
     "name": "stdout",
     "output_type": "stream",
     "text": [
      "Applying baseline correction (mode: zscore)\n",
      "NOTE: tfr_morlet() is a legacy function. New code should use .compute_tfr(method=\"morlet\").\n",
      "Applying baseline correction (mode: zscore)\n",
      "NOTE: tfr_morlet() is a legacy function. New code should use .compute_tfr(method=\"morlet\").\n"
     ]
    },
    {
     "name": "stderr",
     "output_type": "stream",
     "text": [
      "[Parallel(n_jobs=10)]: Done 247 out of 247 | elapsed:    0.1s finished\n",
      "[Parallel(n_jobs=10)]: Using backend LokyBackend with 10 concurrent workers.\n",
      "[Parallel(n_jobs=10)]: Done   8 tasks      | elapsed:    0.0s\n",
      "[Parallel(n_jobs=10)]: Done 172 tasks      | elapsed:    0.0s\n",
      "[Parallel(n_jobs=10)]: Done 247 out of 247 | elapsed:    0.1s finished\n",
      "[Parallel(n_jobs=10)]: Using backend LokyBackend with 10 concurrent workers.\n",
      "[Parallel(n_jobs=10)]: Done   8 tasks      | elapsed:    0.0s\n",
      "[Parallel(n_jobs=10)]: Done 172 tasks      | elapsed:    0.1s\n"
     ]
    },
    {
     "name": "stdout",
     "output_type": "stream",
     "text": [
      "Applying baseline correction (mode: zscore)\n",
      "NOTE: tfr_morlet() is a legacy function. New code should use .compute_tfr(method=\"morlet\").\n",
      "Applying baseline correction (mode: zscore)\n",
      "NOTE: tfr_morlet() is a legacy function. New code should use .compute_tfr(method=\"morlet\").\n"
     ]
    },
    {
     "name": "stderr",
     "output_type": "stream",
     "text": [
      "[Parallel(n_jobs=10)]: Done 247 out of 247 | elapsed:    0.1s finished\n",
      "[Parallel(n_jobs=10)]: Using backend LokyBackend with 10 concurrent workers.\n",
      "[Parallel(n_jobs=10)]: Done   8 tasks      | elapsed:    0.0s\n",
      "[Parallel(n_jobs=10)]: Done 172 tasks      | elapsed:    0.1s\n",
      "[Parallel(n_jobs=10)]: Done 247 out of 247 | elapsed:    0.1s finished\n",
      "[Parallel(n_jobs=10)]: Using backend LokyBackend with 10 concurrent workers.\n",
      "[Parallel(n_jobs=10)]: Done   8 tasks      | elapsed:    0.0s\n",
      "[Parallel(n_jobs=10)]: Done 172 tasks      | elapsed:    0.0s\n"
     ]
    },
    {
     "name": "stdout",
     "output_type": "stream",
     "text": [
      "Applying baseline correction (mode: zscore)\n",
      "NOTE: tfr_morlet() is a legacy function. New code should use .compute_tfr(method=\"morlet\").\n"
     ]
    },
    {
     "name": "stderr",
     "output_type": "stream",
     "text": [
      "[Parallel(n_jobs=10)]: Done 247 out of 247 | elapsed:    0.1s finished\n",
      "[Parallel(n_jobs=10)]: Using backend LokyBackend with 10 concurrent workers.\n",
      "[Parallel(n_jobs=10)]: Done   8 tasks      | elapsed:    0.1s\n",
      "[Parallel(n_jobs=10)]: Done 172 tasks      | elapsed:    0.1s\n",
      "[Parallel(n_jobs=10)]: Done 247 out of 247 | elapsed:    0.2s finished\n"
     ]
    },
    {
     "name": "stdout",
     "output_type": "stream",
     "text": [
      "Applying baseline correction (mode: zscore)\n",
      "NOTE: tfr_morlet() is a legacy function. New code should use .compute_tfr(method=\"morlet\").\n",
      "Applying baseline correction (mode: zscore)\n",
      "NOTE: tfr_morlet() is a legacy function. New code should use .compute_tfr(method=\"morlet\").\n"
     ]
    },
    {
     "name": "stderr",
     "output_type": "stream",
     "text": [
      "[Parallel(n_jobs=10)]: Using backend LokyBackend with 10 concurrent workers.\n",
      "[Parallel(n_jobs=10)]: Done   8 tasks      | elapsed:    0.0s\n",
      "[Parallel(n_jobs=10)]: Done 172 tasks      | elapsed:    0.0s\n",
      "[Parallel(n_jobs=10)]: Done 247 out of 247 | elapsed:    0.1s finished\n",
      "[Parallel(n_jobs=10)]: Using backend LokyBackend with 10 concurrent workers.\n",
      "[Parallel(n_jobs=10)]: Done   8 tasks      | elapsed:    0.0s\n",
      "[Parallel(n_jobs=10)]: Done 172 tasks      | elapsed:    0.0s\n"
     ]
    },
    {
     "name": "stdout",
     "output_type": "stream",
     "text": [
      "Applying baseline correction (mode: zscore)\n",
      "NOTE: tfr_morlet() is a legacy function. New code should use .compute_tfr(method=\"morlet\").\n",
      "Applying baseline correction (mode: zscore)\n",
      "NOTE: tfr_morlet() is a legacy function. New code should use .compute_tfr(method=\"morlet\").\n"
     ]
    },
    {
     "name": "stderr",
     "output_type": "stream",
     "text": [
      "[Parallel(n_jobs=10)]: Done 247 out of 247 | elapsed:    0.1s finished\n",
      "[Parallel(n_jobs=10)]: Using backend LokyBackend with 10 concurrent workers.\n",
      "[Parallel(n_jobs=10)]: Done   8 tasks      | elapsed:    0.0s\n",
      "[Parallel(n_jobs=10)]: Done 172 tasks      | elapsed:    0.0s\n",
      "[Parallel(n_jobs=10)]: Done 247 out of 247 | elapsed:    0.1s finished\n",
      "[Parallel(n_jobs=10)]: Using backend LokyBackend with 10 concurrent workers.\n",
      "[Parallel(n_jobs=10)]: Done   8 tasks      | elapsed:    0.0s\n",
      "[Parallel(n_jobs=10)]: Done 172 tasks      | elapsed:    0.0s\n"
     ]
    },
    {
     "name": "stdout",
     "output_type": "stream",
     "text": [
      "Applying baseline correction (mode: zscore)\n",
      "NOTE: tfr_morlet() is a legacy function. New code should use .compute_tfr(method=\"morlet\").\n",
      "Applying baseline correction (mode: zscore)\n",
      "NOTE: tfr_morlet() is a legacy function. New code should use .compute_tfr(method=\"morlet\").\n"
     ]
    },
    {
     "name": "stderr",
     "output_type": "stream",
     "text": [
      "[Parallel(n_jobs=10)]: Done 247 out of 247 | elapsed:    0.1s finished\n",
      "[Parallel(n_jobs=10)]: Using backend LokyBackend with 10 concurrent workers.\n",
      "[Parallel(n_jobs=10)]: Done   8 tasks      | elapsed:    0.0s\n",
      "[Parallel(n_jobs=10)]: Done 172 tasks      | elapsed:    0.0s\n",
      "[Parallel(n_jobs=10)]: Done 247 out of 247 | elapsed:    0.1s finished\n",
      "[Parallel(n_jobs=10)]: Using backend LokyBackend with 10 concurrent workers.\n",
      "[Parallel(n_jobs=10)]: Done   8 tasks      | elapsed:    0.0s\n",
      "[Parallel(n_jobs=10)]: Done 172 tasks      | elapsed:    0.0s\n"
     ]
    },
    {
     "name": "stdout",
     "output_type": "stream",
     "text": [
      "Applying baseline correction (mode: zscore)\n",
      "NOTE: tfr_morlet() is a legacy function. New code should use .compute_tfr(method=\"morlet\").\n",
      "Applying baseline correction (mode: zscore)\n",
      "NOTE: tfr_morlet() is a legacy function. New code should use .compute_tfr(method=\"morlet\").\n"
     ]
    },
    {
     "name": "stderr",
     "output_type": "stream",
     "text": [
      "[Parallel(n_jobs=10)]: Done 247 out of 247 | elapsed:    0.1s finished\n",
      "[Parallel(n_jobs=10)]: Using backend LokyBackend with 10 concurrent workers.\n",
      "[Parallel(n_jobs=10)]: Done   8 tasks      | elapsed:    0.0s\n",
      "[Parallel(n_jobs=10)]: Done 172 tasks      | elapsed:    0.0s\n",
      "[Parallel(n_jobs=10)]: Done 247 out of 247 | elapsed:    0.1s finished\n",
      "[Parallel(n_jobs=10)]: Using backend LokyBackend with 10 concurrent workers.\n",
      "[Parallel(n_jobs=10)]: Done   8 tasks      | elapsed:    0.0s\n",
      "[Parallel(n_jobs=10)]: Done 172 tasks      | elapsed:    0.0s\n"
     ]
    },
    {
     "name": "stdout",
     "output_type": "stream",
     "text": [
      "Applying baseline correction (mode: zscore)\n",
      "NOTE: tfr_morlet() is a legacy function. New code should use .compute_tfr(method=\"morlet\").\n",
      "Applying baseline correction (mode: zscore)\n",
      "NOTE: tfr_morlet() is a legacy function. New code should use .compute_tfr(method=\"morlet\").\n"
     ]
    },
    {
     "name": "stderr",
     "output_type": "stream",
     "text": [
      "[Parallel(n_jobs=10)]: Done 247 out of 247 | elapsed:    0.1s finished\n",
      "[Parallel(n_jobs=10)]: Using backend LokyBackend with 10 concurrent workers.\n",
      "[Parallel(n_jobs=10)]: Done   8 tasks      | elapsed:    0.0s\n",
      "[Parallel(n_jobs=10)]: Done 172 tasks      | elapsed:    0.0s\n",
      "[Parallel(n_jobs=10)]: Done 247 out of 247 | elapsed:    0.1s finished\n",
      "[Parallel(n_jobs=10)]: Using backend LokyBackend with 10 concurrent workers.\n",
      "[Parallel(n_jobs=10)]: Done   8 tasks      | elapsed:    0.0s\n"
     ]
    },
    {
     "name": "stdout",
     "output_type": "stream",
     "text": [
      "Applying baseline correction (mode: zscore)\n",
      "NOTE: tfr_morlet() is a legacy function. New code should use .compute_tfr(method=\"morlet\").\n",
      "Applying baseline correction (mode: zscore)\n",
      "NOTE: tfr_morlet() is a legacy function. New code should use .compute_tfr(method=\"morlet\").\n"
     ]
    },
    {
     "name": "stderr",
     "output_type": "stream",
     "text": [
      "[Parallel(n_jobs=10)]: Done 172 tasks      | elapsed:    0.1s\n",
      "[Parallel(n_jobs=10)]: Done 247 out of 247 | elapsed:    0.1s finished\n",
      "[Parallel(n_jobs=10)]: Using backend LokyBackend with 10 concurrent workers.\n",
      "[Parallel(n_jobs=10)]: Done   8 tasks      | elapsed:    0.0s\n",
      "[Parallel(n_jobs=10)]: Done 172 tasks      | elapsed:    0.1s\n",
      "[Parallel(n_jobs=10)]: Done 247 out of 247 | elapsed:    0.1s finished\n",
      "[Parallel(n_jobs=10)]: Using backend LokyBackend with 10 concurrent workers.\n"
     ]
    },
    {
     "name": "stdout",
     "output_type": "stream",
     "text": [
      "Applying baseline correction (mode: zscore)\n",
      "NOTE: tfr_morlet() is a legacy function. New code should use .compute_tfr(method=\"morlet\").\n",
      "Applying baseline correction (mode: zscore)\n"
     ]
    },
    {
     "name": "stderr",
     "output_type": "stream",
     "text": [
      "[Parallel(n_jobs=10)]: Done   8 tasks      | elapsed:    0.0s\n",
      "[Parallel(n_jobs=10)]: Done 172 tasks      | elapsed:    0.1s\n",
      "[Parallel(n_jobs=10)]: Done 247 out of 247 | elapsed:    0.1s finished\n",
      "[Parallel(n_jobs=10)]: Using backend LokyBackend with 10 concurrent workers.\n",
      "[Parallel(n_jobs=10)]: Done   8 tasks      | elapsed:    0.0s\n",
      "[Parallel(n_jobs=10)]: Done 172 tasks      | elapsed:    0.0s\n",
      "[Parallel(n_jobs=10)]: Done 247 out of 247 | elapsed:    0.1s finished\n"
     ]
    },
    {
     "name": "stdout",
     "output_type": "stream",
     "text": [
      "NOTE: tfr_morlet() is a legacy function. New code should use .compute_tfr(method=\"morlet\").\n",
      "Applying baseline correction (mode: zscore)\n",
      "NOTE: tfr_morlet() is a legacy function. New code should use .compute_tfr(method=\"morlet\").\n"
     ]
    },
    {
     "name": "stderr",
     "output_type": "stream",
     "text": [
      "[Parallel(n_jobs=10)]: Using backend LokyBackend with 10 concurrent workers.\n",
      "[Parallel(n_jobs=10)]: Done   8 tasks      | elapsed:    0.0s\n",
      "[Parallel(n_jobs=10)]: Done 172 tasks      | elapsed:    0.0s\n",
      "[Parallel(n_jobs=10)]: Done 247 out of 247 | elapsed:    0.1s finished\n",
      "[Parallel(n_jobs=10)]: Using backend LokyBackend with 10 concurrent workers.\n",
      "[Parallel(n_jobs=10)]: Done   8 tasks      | elapsed:    0.0s\n"
     ]
    },
    {
     "name": "stdout",
     "output_type": "stream",
     "text": [
      "Applying baseline correction (mode: zscore)\n",
      "NOTE: tfr_morlet() is a legacy function. New code should use .compute_tfr(method=\"morlet\").\n",
      "Applying baseline correction (mode: zscore)\n",
      "NOTE: tfr_morlet() is a legacy function. New code should use .compute_tfr(method=\"morlet\").\n"
     ]
    },
    {
     "name": "stderr",
     "output_type": "stream",
     "text": [
      "[Parallel(n_jobs=10)]: Done 172 tasks      | elapsed:    0.1s\n",
      "[Parallel(n_jobs=10)]: Done 247 out of 247 | elapsed:    0.2s finished\n",
      "[Parallel(n_jobs=10)]: Using backend LokyBackend with 10 concurrent workers.\n",
      "[Parallel(n_jobs=10)]: Done   8 tasks      | elapsed:    0.0s\n",
      "[Parallel(n_jobs=10)]: Done 172 tasks      | elapsed:    0.1s\n",
      "[Parallel(n_jobs=10)]: Done 247 out of 247 | elapsed:    0.1s finished\n",
      "[Parallel(n_jobs=10)]: Using backend LokyBackend with 10 concurrent workers.\n"
     ]
    },
    {
     "name": "stdout",
     "output_type": "stream",
     "text": [
      "Applying baseline correction (mode: zscore)\n",
      "NOTE: tfr_morlet() is a legacy function. New code should use .compute_tfr(method=\"morlet\").\n"
     ]
    },
    {
     "name": "stderr",
     "output_type": "stream",
     "text": [
      "[Parallel(n_jobs=10)]: Done   8 tasks      | elapsed:    0.0s\n",
      "[Parallel(n_jobs=10)]: Done 172 tasks      | elapsed:    0.1s\n",
      "[Parallel(n_jobs=10)]: Done 247 out of 247 | elapsed:    0.1s finished\n",
      "[Parallel(n_jobs=10)]: Using backend LokyBackend with 10 concurrent workers.\n",
      "[Parallel(n_jobs=10)]: Done   8 tasks      | elapsed:    0.0s\n",
      "[Parallel(n_jobs=10)]: Done 172 tasks      | elapsed:    0.1s\n"
     ]
    },
    {
     "name": "stdout",
     "output_type": "stream",
     "text": [
      "Applying baseline correction (mode: zscore)\n",
      "NOTE: tfr_morlet() is a legacy function. New code should use .compute_tfr(method=\"morlet\").\n"
     ]
    },
    {
     "name": "stderr",
     "output_type": "stream",
     "text": [
      "[Parallel(n_jobs=10)]: Done 247 out of 247 | elapsed:    0.1s finished\n",
      "[Parallel(n_jobs=10)]: Using backend LokyBackend with 10 concurrent workers.\n"
     ]
    },
    {
     "name": "stdout",
     "output_type": "stream",
     "text": [
      "Applying baseline correction (mode: zscore)\n",
      "NOTE: tfr_morlet() is a legacy function. New code should use .compute_tfr(method=\"morlet\").\n",
      "Applying baseline correction (mode: zscore)\n"
     ]
    },
    {
     "name": "stderr",
     "output_type": "stream",
     "text": [
      "[Parallel(n_jobs=10)]: Done   8 tasks      | elapsed:    0.3s\n",
      "[Parallel(n_jobs=10)]: Done 172 tasks      | elapsed:    0.4s\n",
      "[Parallel(n_jobs=10)]: Done 247 out of 247 | elapsed:    0.4s finished\n",
      "[Parallel(n_jobs=10)]: Using backend LokyBackend with 10 concurrent workers.\n",
      "[Parallel(n_jobs=10)]: Done   8 tasks      | elapsed:    0.0s\n",
      "[Parallel(n_jobs=10)]: Done 172 tasks      | elapsed:    0.0s\n",
      "[Parallel(n_jobs=10)]: Done 247 out of 247 | elapsed:    0.1s finished\n"
     ]
    },
    {
     "name": "stdout",
     "output_type": "stream",
     "text": [
      "NOTE: tfr_morlet() is a legacy function. New code should use .compute_tfr(method=\"morlet\").\n",
      "Applying baseline correction (mode: zscore)\n",
      "NOTE: tfr_morlet() is a legacy function. New code should use .compute_tfr(method=\"morlet\").\n"
     ]
    },
    {
     "name": "stderr",
     "output_type": "stream",
     "text": [
      "[Parallel(n_jobs=10)]: Using backend LokyBackend with 10 concurrent workers.\n",
      "[Parallel(n_jobs=10)]: Done   8 tasks      | elapsed:    0.0s\n",
      "[Parallel(n_jobs=10)]: Done 172 tasks      | elapsed:    0.0s\n",
      "[Parallel(n_jobs=10)]: Done 247 out of 247 | elapsed:    0.1s finished\n",
      "[Parallel(n_jobs=10)]: Using backend LokyBackend with 10 concurrent workers.\n",
      "[Parallel(n_jobs=10)]: Done   8 tasks      | elapsed:    0.0s\n",
      "[Parallel(n_jobs=10)]: Done 172 tasks      | elapsed:    0.1s\n"
     ]
    },
    {
     "name": "stdout",
     "output_type": "stream",
     "text": [
      "Applying baseline correction (mode: zscore)\n",
      "NOTE: tfr_morlet() is a legacy function. New code should use .compute_tfr(method=\"morlet\").\n",
      "Applying baseline correction (mode: zscore)\n",
      "NOTE: tfr_morlet() is a legacy function. New code should use .compute_tfr(method=\"morlet\").\n"
     ]
    },
    {
     "name": "stderr",
     "output_type": "stream",
     "text": [
      "[Parallel(n_jobs=10)]: Done 247 out of 247 | elapsed:    0.1s finished\n",
      "[Parallel(n_jobs=10)]: Using backend LokyBackend with 10 concurrent workers.\n",
      "[Parallel(n_jobs=10)]: Done   8 tasks      | elapsed:    0.0s\n",
      "[Parallel(n_jobs=10)]: Done 172 tasks      | elapsed:    0.0s\n",
      "[Parallel(n_jobs=10)]: Done 247 out of 247 | elapsed:    0.1s finished\n",
      "[Parallel(n_jobs=10)]: Using backend LokyBackend with 10 concurrent workers.\n",
      "[Parallel(n_jobs=10)]: Done   8 tasks      | elapsed:    0.0s\n",
      "[Parallel(n_jobs=10)]: Done 172 tasks      | elapsed:    0.1s\n"
     ]
    },
    {
     "name": "stdout",
     "output_type": "stream",
     "text": [
      "Applying baseline correction (mode: zscore)\n",
      "NOTE: tfr_morlet() is a legacy function. New code should use .compute_tfr(method=\"morlet\").\n",
      "Applying baseline correction (mode: zscore)\n",
      "NOTE: tfr_morlet() is a legacy function. New code should use .compute_tfr(method=\"morlet\").\n"
     ]
    },
    {
     "name": "stderr",
     "output_type": "stream",
     "text": [
      "[Parallel(n_jobs=10)]: Done 247 out of 247 | elapsed:    0.1s finished\n",
      "[Parallel(n_jobs=10)]: Using backend LokyBackend with 10 concurrent workers.\n",
      "[Parallel(n_jobs=10)]: Done   8 tasks      | elapsed:    0.0s\n",
      "[Parallel(n_jobs=10)]: Done 172 tasks      | elapsed:    0.1s\n",
      "[Parallel(n_jobs=10)]: Done 247 out of 247 | elapsed:    0.1s finished\n",
      "[Parallel(n_jobs=10)]: Using backend LokyBackend with 10 concurrent workers.\n",
      "[Parallel(n_jobs=10)]: Done   8 tasks      | elapsed:    0.0s\n",
      "[Parallel(n_jobs=10)]: Done 172 tasks      | elapsed:    0.0s\n"
     ]
    },
    {
     "name": "stdout",
     "output_type": "stream",
     "text": [
      "Applying baseline correction (mode: zscore)\n",
      "NOTE: tfr_morlet() is a legacy function. New code should use .compute_tfr(method=\"morlet\").\n",
      "Applying baseline correction (mode: zscore)\n",
      "NOTE: tfr_morlet() is a legacy function. New code should use .compute_tfr(method=\"morlet\").\n"
     ]
    },
    {
     "name": "stderr",
     "output_type": "stream",
     "text": [
      "[Parallel(n_jobs=10)]: Done 247 out of 247 | elapsed:    0.1s finished\n",
      "[Parallel(n_jobs=10)]: Using backend LokyBackend with 10 concurrent workers.\n",
      "[Parallel(n_jobs=10)]: Done   8 tasks      | elapsed:    0.0s\n",
      "[Parallel(n_jobs=10)]: Done 172 tasks      | elapsed:    0.0s\n",
      "[Parallel(n_jobs=10)]: Done 247 out of 247 | elapsed:    0.1s finished\n",
      "[Parallel(n_jobs=10)]: Using backend LokyBackend with 10 concurrent workers.\n",
      "[Parallel(n_jobs=10)]: Done   8 tasks      | elapsed:    0.0s\n",
      "[Parallel(n_jobs=10)]: Done 172 tasks      | elapsed:    0.0s\n"
     ]
    },
    {
     "name": "stdout",
     "output_type": "stream",
     "text": [
      "Applying baseline correction (mode: zscore)\n",
      "NOTE: tfr_morlet() is a legacy function. New code should use .compute_tfr(method=\"morlet\").\n",
      "Applying baseline correction (mode: zscore)\n",
      "NOTE: tfr_morlet() is a legacy function. New code should use .compute_tfr(method=\"morlet\").\n"
     ]
    },
    {
     "name": "stderr",
     "output_type": "stream",
     "text": [
      "[Parallel(n_jobs=10)]: Done 247 out of 247 | elapsed:    0.1s finished\n",
      "[Parallel(n_jobs=10)]: Using backend LokyBackend with 10 concurrent workers.\n",
      "[Parallel(n_jobs=10)]: Done   8 tasks      | elapsed:    0.0s\n",
      "[Parallel(n_jobs=10)]: Done 172 tasks      | elapsed:    0.0s\n",
      "[Parallel(n_jobs=10)]: Done 247 out of 247 | elapsed:    0.1s finished\n",
      "[Parallel(n_jobs=10)]: Using backend LokyBackend with 10 concurrent workers.\n",
      "[Parallel(n_jobs=10)]: Done   8 tasks      | elapsed:    0.0s\n",
      "[Parallel(n_jobs=10)]: Done 172 tasks      | elapsed:    0.1s\n"
     ]
    },
    {
     "name": "stdout",
     "output_type": "stream",
     "text": [
      "Applying baseline correction (mode: zscore)\n",
      "NOTE: tfr_morlet() is a legacy function. New code should use .compute_tfr(method=\"morlet\").\n",
      "Applying baseline correction (mode: zscore)\n",
      "NOTE: tfr_morlet() is a legacy function. New code should use .compute_tfr(method=\"morlet\").\n"
     ]
    },
    {
     "name": "stderr",
     "output_type": "stream",
     "text": [
      "[Parallel(n_jobs=10)]: Done 247 out of 247 | elapsed:    0.1s finished\n",
      "[Parallel(n_jobs=10)]: Using backend LokyBackend with 10 concurrent workers.\n",
      "[Parallel(n_jobs=10)]: Done   8 tasks      | elapsed:    0.0s\n",
      "[Parallel(n_jobs=10)]: Done 172 tasks      | elapsed:    0.1s\n",
      "[Parallel(n_jobs=10)]: Done 247 out of 247 | elapsed:    0.1s finished\n",
      "[Parallel(n_jobs=10)]: Using backend LokyBackend with 10 concurrent workers.\n",
      "[Parallel(n_jobs=10)]: Done   8 tasks      | elapsed:    0.0s\n",
      "[Parallel(n_jobs=10)]: Done 172 tasks      | elapsed:    0.1s\n"
     ]
    },
    {
     "name": "stdout",
     "output_type": "stream",
     "text": [
      "Applying baseline correction (mode: zscore)\n",
      "NOTE: tfr_morlet() is a legacy function. New code should use .compute_tfr(method=\"morlet\").\n",
      "Applying baseline correction (mode: zscore)\n",
      "NOTE: tfr_morlet() is a legacy function. New code should use .compute_tfr(method=\"morlet\").\n"
     ]
    },
    {
     "name": "stderr",
     "output_type": "stream",
     "text": [
      "[Parallel(n_jobs=10)]: Done 247 out of 247 | elapsed:    0.1s finished\n",
      "[Parallel(n_jobs=10)]: Using backend LokyBackend with 10 concurrent workers.\n",
      "[Parallel(n_jobs=10)]: Done   8 tasks      | elapsed:    0.0s\n",
      "[Parallel(n_jobs=10)]: Done 172 tasks      | elapsed:    0.1s\n",
      "[Parallel(n_jobs=10)]: Done 247 out of 247 | elapsed:    0.1s finished\n",
      "[Parallel(n_jobs=10)]: Using backend LokyBackend with 10 concurrent workers.\n",
      "[Parallel(n_jobs=10)]: Done   8 tasks      | elapsed:    0.0s\n",
      "[Parallel(n_jobs=10)]: Done 172 tasks      | elapsed:    0.1s\n"
     ]
    },
    {
     "name": "stdout",
     "output_type": "stream",
     "text": [
      "Applying baseline correction (mode: zscore)\n",
      "NOTE: tfr_morlet() is a legacy function. New code should use .compute_tfr(method=\"morlet\").\n",
      "Applying baseline correction (mode: zscore)\n",
      "NOTE: tfr_morlet() is a legacy function. New code should use .compute_tfr(method=\"morlet\").\n"
     ]
    },
    {
     "name": "stderr",
     "output_type": "stream",
     "text": [
      "[Parallel(n_jobs=10)]: Done 247 out of 247 | elapsed:    0.2s finished\n",
      "[Parallel(n_jobs=10)]: Using backend LokyBackend with 10 concurrent workers.\n",
      "[Parallel(n_jobs=10)]: Done   8 tasks      | elapsed:    0.0s\n",
      "[Parallel(n_jobs=10)]: Done 172 tasks      | elapsed:    0.1s\n",
      "[Parallel(n_jobs=10)]: Done 247 out of 247 | elapsed:    0.1s finished\n",
      "[Parallel(n_jobs=10)]: Using backend LokyBackend with 10 concurrent workers.\n",
      "[Parallel(n_jobs=10)]: Done   8 tasks      | elapsed:    0.0s\n",
      "[Parallel(n_jobs=10)]: Done 172 tasks      | elapsed:    0.1s\n"
     ]
    },
    {
     "name": "stdout",
     "output_type": "stream",
     "text": [
      "Applying baseline correction (mode: zscore)\n",
      "NOTE: tfr_morlet() is a legacy function. New code should use .compute_tfr(method=\"morlet\").\n",
      "Applying baseline correction (mode: zscore)\n",
      "NOTE: tfr_morlet() is a legacy function. New code should use .compute_tfr(method=\"morlet\").\n"
     ]
    },
    {
     "name": "stderr",
     "output_type": "stream",
     "text": [
      "[Parallel(n_jobs=10)]: Done 247 out of 247 | elapsed:    0.1s finished\n",
      "[Parallel(n_jobs=10)]: Using backend LokyBackend with 10 concurrent workers.\n",
      "[Parallel(n_jobs=10)]: Done   8 tasks      | elapsed:    0.0s\n",
      "[Parallel(n_jobs=10)]: Done 172 tasks      | elapsed:    0.1s\n",
      "[Parallel(n_jobs=10)]: Done 247 out of 247 | elapsed:    0.1s finished\n",
      "[Parallel(n_jobs=10)]: Using backend LokyBackend with 10 concurrent workers.\n",
      "[Parallel(n_jobs=10)]: Done   8 tasks      | elapsed:    0.0s\n",
      "[Parallel(n_jobs=10)]: Done 172 tasks      | elapsed:    0.0s\n"
     ]
    },
    {
     "name": "stdout",
     "output_type": "stream",
     "text": [
      "Applying baseline correction (mode: zscore)\n",
      "NOTE: tfr_morlet() is a legacy function. New code should use .compute_tfr(method=\"morlet\").\n",
      "Applying baseline correction (mode: zscore)\n",
      "NOTE: tfr_morlet() is a legacy function. New code should use .compute_tfr(method=\"morlet\").\n"
     ]
    },
    {
     "name": "stderr",
     "output_type": "stream",
     "text": [
      "[Parallel(n_jobs=10)]: Done 247 out of 247 | elapsed:    0.1s finished\n",
      "[Parallel(n_jobs=10)]: Using backend LokyBackend with 10 concurrent workers.\n",
      "[Parallel(n_jobs=10)]: Done   8 tasks      | elapsed:    0.0s\n",
      "[Parallel(n_jobs=10)]: Done 172 tasks      | elapsed:    0.1s\n",
      "[Parallel(n_jobs=10)]: Done 247 out of 247 | elapsed:    0.1s finished\n",
      "[Parallel(n_jobs=10)]: Using backend LokyBackend with 10 concurrent workers.\n",
      "[Parallel(n_jobs=10)]: Done   8 tasks      | elapsed:    0.0s\n",
      "[Parallel(n_jobs=10)]: Done 172 tasks      | elapsed:    0.0s\n"
     ]
    },
    {
     "name": "stdout",
     "output_type": "stream",
     "text": [
      "Applying baseline correction (mode: zscore)\n",
      "NOTE: tfr_morlet() is a legacy function. New code should use .compute_tfr(method=\"morlet\").\n",
      "Applying baseline correction (mode: zscore)\n",
      "NOTE: tfr_morlet() is a legacy function. New code should use .compute_tfr(method=\"morlet\").\n"
     ]
    },
    {
     "name": "stderr",
     "output_type": "stream",
     "text": [
      "[Parallel(n_jobs=10)]: Done 247 out of 247 | elapsed:    0.1s finished\n",
      "[Parallel(n_jobs=10)]: Using backend LokyBackend with 10 concurrent workers.\n",
      "[Parallel(n_jobs=10)]: Done   8 tasks      | elapsed:    0.0s\n",
      "[Parallel(n_jobs=10)]: Done 172 tasks      | elapsed:    0.0s\n",
      "[Parallel(n_jobs=10)]: Done 247 out of 247 | elapsed:    0.1s finished\n",
      "[Parallel(n_jobs=10)]: Using backend LokyBackend with 10 concurrent workers.\n",
      "[Parallel(n_jobs=10)]: Done   8 tasks      | elapsed:    0.0s\n"
     ]
    },
    {
     "name": "stdout",
     "output_type": "stream",
     "text": [
      "Applying baseline correction (mode: zscore)\n",
      "NOTE: tfr_morlet() is a legacy function. New code should use .compute_tfr(method=\"morlet\").\n",
      "Applying baseline correction (mode: zscore)\n",
      "NOTE: tfr_morlet() is a legacy function. New code should use .compute_tfr(method=\"morlet\").\n"
     ]
    },
    {
     "name": "stderr",
     "output_type": "stream",
     "text": [
      "[Parallel(n_jobs=10)]: Done 172 tasks      | elapsed:    0.1s\n",
      "[Parallel(n_jobs=10)]: Done 247 out of 247 | elapsed:    0.1s finished\n",
      "[Parallel(n_jobs=10)]: Using backend LokyBackend with 10 concurrent workers.\n",
      "[Parallel(n_jobs=10)]: Done   8 tasks      | elapsed:    0.0s\n",
      "[Parallel(n_jobs=10)]: Done 172 tasks      | elapsed:    0.1s\n",
      "[Parallel(n_jobs=10)]: Done 247 out of 247 | elapsed:    0.1s finished\n"
     ]
    },
    {
     "name": "stdout",
     "output_type": "stream",
     "text": [
      "Applying baseline correction (mode: zscore)\n",
      "NOTE: tfr_morlet() is a legacy function. New code should use .compute_tfr(method=\"morlet\").\n"
     ]
    },
    {
     "name": "stderr",
     "output_type": "stream",
     "text": [
      "[Parallel(n_jobs=10)]: Using backend LokyBackend with 10 concurrent workers.\n",
      "[Parallel(n_jobs=10)]: Done   8 tasks      | elapsed:    0.0s\n",
      "[Parallel(n_jobs=10)]: Done 172 tasks      | elapsed:    0.1s\n",
      "[Parallel(n_jobs=10)]: Done 247 out of 247 | elapsed:    0.1s finished\n",
      "[Parallel(n_jobs=10)]: Using backend LokyBackend with 10 concurrent workers.\n",
      "[Parallel(n_jobs=10)]: Done   8 tasks      | elapsed:    0.0s\n",
      "[Parallel(n_jobs=10)]: Done 172 tasks      | elapsed:    0.1s\n"
     ]
    },
    {
     "name": "stdout",
     "output_type": "stream",
     "text": [
      "Applying baseline correction (mode: zscore)\n",
      "NOTE: tfr_morlet() is a legacy function. New code should use .compute_tfr(method=\"morlet\").\n",
      "Applying baseline correction (mode: zscore)\n",
      "NOTE: tfr_morlet() is a legacy function. New code should use .compute_tfr(method=\"morlet\").\n"
     ]
    },
    {
     "name": "stderr",
     "output_type": "stream",
     "text": [
      "[Parallel(n_jobs=10)]: Done 247 out of 247 | elapsed:    0.1s finished\n",
      "[Parallel(n_jobs=10)]: Using backend LokyBackend with 10 concurrent workers.\n",
      "[Parallel(n_jobs=10)]: Done   8 tasks      | elapsed:    0.0s\n",
      "[Parallel(n_jobs=10)]: Done 172 tasks      | elapsed:    0.1s\n",
      "[Parallel(n_jobs=10)]: Done 247 out of 247 | elapsed:    0.1s finished\n",
      "[Parallel(n_jobs=10)]: Using backend LokyBackend with 10 concurrent workers.\n",
      "[Parallel(n_jobs=10)]: Done   8 tasks      | elapsed:    0.0s\n"
     ]
    },
    {
     "name": "stdout",
     "output_type": "stream",
     "text": [
      "Applying baseline correction (mode: zscore)\n",
      "NOTE: tfr_morlet() is a legacy function. New code should use .compute_tfr(method=\"morlet\").\n"
     ]
    },
    {
     "name": "stderr",
     "output_type": "stream",
     "text": [
      "[Parallel(n_jobs=10)]: Done 172 tasks      | elapsed:    0.1s\n",
      "[Parallel(n_jobs=10)]: Done 247 out of 247 | elapsed:    0.1s finished\n",
      "[Parallel(n_jobs=10)]: Using backend LokyBackend with 10 concurrent workers.\n",
      "[Parallel(n_jobs=10)]: Done   8 tasks      | elapsed:    0.0s\n",
      "[Parallel(n_jobs=10)]: Done 172 tasks      | elapsed:    0.1s\n",
      "[Parallel(n_jobs=10)]: Done 247 out of 247 | elapsed:    0.1s finished\n"
     ]
    },
    {
     "name": "stdout",
     "output_type": "stream",
     "text": [
      "Applying baseline correction (mode: zscore)\n",
      "NOTE: tfr_morlet() is a legacy function. New code should use .compute_tfr(method=\"morlet\").\n",
      "Applying baseline correction (mode: zscore)\n",
      "NOTE: tfr_morlet() is a legacy function. New code should use .compute_tfr(method=\"morlet\").\n"
     ]
    },
    {
     "name": "stderr",
     "output_type": "stream",
     "text": [
      "[Parallel(n_jobs=10)]: Using backend LokyBackend with 10 concurrent workers.\n",
      "[Parallel(n_jobs=10)]: Done   8 tasks      | elapsed:    0.0s\n",
      "[Parallel(n_jobs=10)]: Done 172 tasks      | elapsed:    0.1s\n",
      "[Parallel(n_jobs=10)]: Done 247 out of 247 | elapsed:    0.1s finished\n",
      "[Parallel(n_jobs=10)]: Using backend LokyBackend with 10 concurrent workers.\n",
      "[Parallel(n_jobs=10)]: Done   8 tasks      | elapsed:    0.0s\n",
      "[Parallel(n_jobs=10)]: Done 172 tasks      | elapsed:    0.1s\n"
     ]
    },
    {
     "name": "stdout",
     "output_type": "stream",
     "text": [
      "Applying baseline correction (mode: zscore)\n",
      "NOTE: tfr_morlet() is a legacy function. New code should use .compute_tfr(method=\"morlet\").\n",
      "Applying baseline correction (mode: zscore)\n",
      "NOTE: tfr_morlet() is a legacy function. New code should use .compute_tfr(method=\"morlet\").\n"
     ]
    },
    {
     "name": "stderr",
     "output_type": "stream",
     "text": [
      "[Parallel(n_jobs=10)]: Done 247 out of 247 | elapsed:    0.1s finished\n",
      "[Parallel(n_jobs=10)]: Using backend LokyBackend with 10 concurrent workers.\n",
      "[Parallel(n_jobs=10)]: Done   8 tasks      | elapsed:    0.0s\n",
      "[Parallel(n_jobs=10)]: Done 172 tasks      | elapsed:    0.1s\n",
      "[Parallel(n_jobs=10)]: Done 247 out of 247 | elapsed:    0.1s finished\n",
      "[Parallel(n_jobs=10)]: Using backend LokyBackend with 10 concurrent workers.\n",
      "[Parallel(n_jobs=10)]: Done   8 tasks      | elapsed:    0.0s\n"
     ]
    },
    {
     "name": "stdout",
     "output_type": "stream",
     "text": [
      "Applying baseline correction (mode: zscore)\n",
      "NOTE: tfr_morlet() is a legacy function. New code should use .compute_tfr(method=\"morlet\").\n",
      "Applying baseline correction (mode: zscore)\n",
      "NOTE: tfr_morlet() is a legacy function. New code should use .compute_tfr(method=\"morlet\").\n"
     ]
    },
    {
     "name": "stderr",
     "output_type": "stream",
     "text": [
      "[Parallel(n_jobs=10)]: Done 172 tasks      | elapsed:    0.1s\n",
      "[Parallel(n_jobs=10)]: Done 247 out of 247 | elapsed:    0.1s finished\n",
      "[Parallel(n_jobs=10)]: Using backend LokyBackend with 10 concurrent workers.\n",
      "[Parallel(n_jobs=10)]: Done   8 tasks      | elapsed:    0.0s\n",
      "[Parallel(n_jobs=10)]: Done 172 tasks      | elapsed:    0.1s\n",
      "[Parallel(n_jobs=10)]: Done 247 out of 247 | elapsed:    0.1s finished\n",
      "[Parallel(n_jobs=10)]: Using backend LokyBackend with 10 concurrent workers.\n"
     ]
    },
    {
     "name": "stdout",
     "output_type": "stream",
     "text": [
      "Applying baseline correction (mode: zscore)\n",
      "NOTE: tfr_morlet() is a legacy function. New code should use .compute_tfr(method=\"morlet\").\n"
     ]
    },
    {
     "name": "stderr",
     "output_type": "stream",
     "text": [
      "[Parallel(n_jobs=10)]: Done   8 tasks      | elapsed:    0.0s\n",
      "[Parallel(n_jobs=10)]: Done 172 tasks      | elapsed:    0.1s\n",
      "[Parallel(n_jobs=10)]: Done 247 out of 247 | elapsed:    0.1s finished\n",
      "[Parallel(n_jobs=10)]: Using backend LokyBackend with 10 concurrent workers.\n",
      "[Parallel(n_jobs=10)]: Done   8 tasks      | elapsed:    0.0s\n",
      "[Parallel(n_jobs=10)]: Done 172 tasks      | elapsed:    0.1s\n"
     ]
    },
    {
     "name": "stdout",
     "output_type": "stream",
     "text": [
      "Applying baseline correction (mode: zscore)\n",
      "NOTE: tfr_morlet() is a legacy function. New code should use .compute_tfr(method=\"morlet\").\n",
      "Applying baseline correction (mode: zscore)\n",
      "NOTE: tfr_morlet() is a legacy function. New code should use .compute_tfr(method=\"morlet\").\n"
     ]
    },
    {
     "name": "stderr",
     "output_type": "stream",
     "text": [
      "[Parallel(n_jobs=10)]: Done 247 out of 247 | elapsed:    0.1s finished\n",
      "[Parallel(n_jobs=10)]: Using backend LokyBackend with 10 concurrent workers.\n",
      "[Parallel(n_jobs=10)]: Done   8 tasks      | elapsed:    0.0s\n",
      "[Parallel(n_jobs=10)]: Done 172 tasks      | elapsed:    0.1s\n",
      "[Parallel(n_jobs=10)]: Done 247 out of 247 | elapsed:    0.1s finished\n",
      "[Parallel(n_jobs=10)]: Using backend LokyBackend with 10 concurrent workers.\n",
      "[Parallel(n_jobs=10)]: Done   8 tasks      | elapsed:    0.0s\n"
     ]
    },
    {
     "name": "stdout",
     "output_type": "stream",
     "text": [
      "Applying baseline correction (mode: zscore)\n",
      "NOTE: tfr_morlet() is a legacy function. New code should use .compute_tfr(method=\"morlet\").\n",
      "Applying baseline correction (mode: zscore)\n",
      "NOTE: tfr_morlet() is a legacy function. New code should use .compute_tfr(method=\"morlet\").\n"
     ]
    },
    {
     "name": "stderr",
     "output_type": "stream",
     "text": [
      "[Parallel(n_jobs=10)]: Done 172 tasks      | elapsed:    0.1s\n",
      "[Parallel(n_jobs=10)]: Done 247 out of 247 | elapsed:    0.1s finished\n",
      "[Parallel(n_jobs=10)]: Using backend LokyBackend with 10 concurrent workers.\n",
      "[Parallel(n_jobs=10)]: Done   8 tasks      | elapsed:    0.0s\n",
      "[Parallel(n_jobs=10)]: Done 172 tasks      | elapsed:    0.1s\n",
      "[Parallel(n_jobs=10)]: Done 247 out of 247 | elapsed:    0.1s finished\n",
      "[Parallel(n_jobs=10)]: Using backend LokyBackend with 10 concurrent workers.\n"
     ]
    },
    {
     "name": "stdout",
     "output_type": "stream",
     "text": [
      "Applying baseline correction (mode: zscore)\n",
      "NOTE: tfr_morlet() is a legacy function. New code should use .compute_tfr(method=\"morlet\").\n"
     ]
    },
    {
     "name": "stderr",
     "output_type": "stream",
     "text": [
      "[Parallel(n_jobs=10)]: Done   8 tasks      | elapsed:    0.0s\n",
      "[Parallel(n_jobs=10)]: Done 172 tasks      | elapsed:    0.1s\n",
      "[Parallel(n_jobs=10)]: Done 247 out of 247 | elapsed:    0.1s finished\n",
      "[Parallel(n_jobs=10)]: Using backend LokyBackend with 10 concurrent workers.\n",
      "[Parallel(n_jobs=10)]: Done   8 tasks      | elapsed:    0.0s\n",
      "[Parallel(n_jobs=10)]: Done 172 tasks      | elapsed:    0.1s\n"
     ]
    },
    {
     "name": "stdout",
     "output_type": "stream",
     "text": [
      "Applying baseline correction (mode: zscore)\n",
      "NOTE: tfr_morlet() is a legacy function. New code should use .compute_tfr(method=\"morlet\").\n",
      "Applying baseline correction (mode: zscore)\n"
     ]
    },
    {
     "name": "stderr",
     "output_type": "stream",
     "text": [
      "[Parallel(n_jobs=10)]: Done 247 out of 247 | elapsed:    0.1s finished\n",
      "[Parallel(n_jobs=10)]: Using backend LokyBackend with 10 concurrent workers.\n",
      "[Parallel(n_jobs=10)]: Done   8 tasks      | elapsed:    0.1s\n",
      "[Parallel(n_jobs=10)]: Done 172 tasks      | elapsed:    0.1s\n",
      "[Parallel(n_jobs=10)]: Done 247 out of 247 | elapsed:    0.2s finished\n"
     ]
    },
    {
     "name": "stdout",
     "output_type": "stream",
     "text": [
      "NOTE: tfr_morlet() is a legacy function. New code should use .compute_tfr(method=\"morlet\").\n",
      "Applying baseline correction (mode: zscore)\n",
      "NOTE: tfr_morlet() is a legacy function. New code should use .compute_tfr(method=\"morlet\").\n"
     ]
    },
    {
     "name": "stderr",
     "output_type": "stream",
     "text": [
      "[Parallel(n_jobs=10)]: Using backend LokyBackend with 10 concurrent workers.\n",
      "[Parallel(n_jobs=10)]: Done   8 tasks      | elapsed:    0.0s\n",
      "[Parallel(n_jobs=10)]: Done 172 tasks      | elapsed:    0.1s\n",
      "[Parallel(n_jobs=10)]: Done 247 out of 247 | elapsed:    0.1s finished\n",
      "[Parallel(n_jobs=10)]: Using backend LokyBackend with 10 concurrent workers.\n",
      "[Parallel(n_jobs=10)]: Done   8 tasks      | elapsed:    0.0s\n",
      "[Parallel(n_jobs=10)]: Done 172 tasks      | elapsed:    0.1s\n"
     ]
    },
    {
     "name": "stdout",
     "output_type": "stream",
     "text": [
      "Applying baseline correction (mode: zscore)\n",
      "NOTE: tfr_morlet() is a legacy function. New code should use .compute_tfr(method=\"morlet\").\n",
      "Applying baseline correction (mode: zscore)\n",
      "NOTE: tfr_morlet() is a legacy function. New code should use .compute_tfr(method=\"morlet\").\n"
     ]
    },
    {
     "name": "stderr",
     "output_type": "stream",
     "text": [
      "[Parallel(n_jobs=10)]: Done 247 out of 247 | elapsed:    0.1s finished\n",
      "[Parallel(n_jobs=10)]: Using backend LokyBackend with 10 concurrent workers.\n",
      "[Parallel(n_jobs=10)]: Done   8 tasks      | elapsed:    0.0s\n",
      "[Parallel(n_jobs=10)]: Done 172 tasks      | elapsed:    0.1s\n",
      "[Parallel(n_jobs=10)]: Done 247 out of 247 | elapsed:    0.1s finished\n",
      "[Parallel(n_jobs=10)]: Using backend LokyBackend with 10 concurrent workers.\n",
      "[Parallel(n_jobs=10)]: Done   8 tasks      | elapsed:    0.0s\n",
      "[Parallel(n_jobs=10)]: Done 172 tasks      | elapsed:    0.1s\n"
     ]
    },
    {
     "name": "stdout",
     "output_type": "stream",
     "text": [
      "Applying baseline correction (mode: zscore)\n",
      "NOTE: tfr_morlet() is a legacy function. New code should use .compute_tfr(method=\"morlet\").\n",
      "Applying baseline correction (mode: zscore)\n",
      "NOTE: tfr_morlet() is a legacy function. New code should use .compute_tfr(method=\"morlet\").\n"
     ]
    },
    {
     "name": "stderr",
     "output_type": "stream",
     "text": [
      "[Parallel(n_jobs=10)]: Done 247 out of 247 | elapsed:    0.1s finished\n",
      "[Parallel(n_jobs=10)]: Using backend LokyBackend with 10 concurrent workers.\n",
      "[Parallel(n_jobs=10)]: Done   8 tasks      | elapsed:    0.0s\n",
      "[Parallel(n_jobs=10)]: Done 172 tasks      | elapsed:    0.1s\n",
      "[Parallel(n_jobs=10)]: Done 247 out of 247 | elapsed:    0.1s finished\n",
      "[Parallel(n_jobs=10)]: Using backend LokyBackend with 10 concurrent workers.\n",
      "[Parallel(n_jobs=10)]: Done   8 tasks      | elapsed:    0.0s\n"
     ]
    },
    {
     "name": "stdout",
     "output_type": "stream",
     "text": [
      "Applying baseline correction (mode: zscore)\n",
      "NOTE: tfr_morlet() is a legacy function. New code should use .compute_tfr(method=\"morlet\").\n",
      "Applying baseline correction (mode: zscore)\n",
      "NOTE: tfr_morlet() is a legacy function. New code should use .compute_tfr(method=\"morlet\").\n"
     ]
    },
    {
     "name": "stderr",
     "output_type": "stream",
     "text": [
      "[Parallel(n_jobs=10)]: Done 172 tasks      | elapsed:    0.1s\n",
      "[Parallel(n_jobs=10)]: Done 247 out of 247 | elapsed:    0.1s finished\n",
      "[Parallel(n_jobs=10)]: Using backend LokyBackend with 10 concurrent workers.\n",
      "[Parallel(n_jobs=10)]: Done   8 tasks      | elapsed:    0.0s\n",
      "[Parallel(n_jobs=10)]: Done 172 tasks      | elapsed:    0.1s\n",
      "[Parallel(n_jobs=10)]: Done 247 out of 247 | elapsed:    0.1s finished\n",
      "[Parallel(n_jobs=10)]: Using backend LokyBackend with 10 concurrent workers.\n",
      "[Parallel(n_jobs=10)]: Done   8 tasks      | elapsed:    0.0s\n"
     ]
    },
    {
     "name": "stdout",
     "output_type": "stream",
     "text": [
      "Applying baseline correction (mode: zscore)\n",
      "NOTE: tfr_morlet() is a legacy function. New code should use .compute_tfr(method=\"morlet\").\n",
      "Applying baseline correction (mode: zscore)\n",
      "NOTE: tfr_morlet() is a legacy function. New code should use .compute_tfr(method=\"morlet\").\n"
     ]
    },
    {
     "name": "stderr",
     "output_type": "stream",
     "text": [
      "[Parallel(n_jobs=10)]: Done 172 tasks      | elapsed:    0.1s\n",
      "[Parallel(n_jobs=10)]: Done 247 out of 247 | elapsed:    0.1s finished\n",
      "[Parallel(n_jobs=10)]: Using backend LokyBackend with 10 concurrent workers.\n",
      "[Parallel(n_jobs=10)]: Done   8 tasks      | elapsed:    0.0s\n",
      "[Parallel(n_jobs=10)]: Done 172 tasks      | elapsed:    0.1s\n",
      "[Parallel(n_jobs=10)]: Done 247 out of 247 | elapsed:    0.1s finished\n",
      "[Parallel(n_jobs=10)]: Using backend LokyBackend with 10 concurrent workers.\n",
      "[Parallel(n_jobs=10)]: Done   8 tasks      | elapsed:    0.0s\n"
     ]
    },
    {
     "name": "stdout",
     "output_type": "stream",
     "text": [
      "Applying baseline correction (mode: zscore)\n",
      "NOTE: tfr_morlet() is a legacy function. New code should use .compute_tfr(method=\"morlet\").\n",
      "Applying baseline correction (mode: zscore)\n",
      "NOTE: tfr_morlet() is a legacy function. New code should use .compute_tfr(method=\"morlet\").\n"
     ]
    },
    {
     "name": "stderr",
     "output_type": "stream",
     "text": [
      "[Parallel(n_jobs=10)]: Done 172 tasks      | elapsed:    0.1s\n",
      "[Parallel(n_jobs=10)]: Done 247 out of 247 | elapsed:    0.1s finished\n",
      "[Parallel(n_jobs=10)]: Using backend LokyBackend with 10 concurrent workers.\n",
      "[Parallel(n_jobs=10)]: Done   8 tasks      | elapsed:    0.0s\n",
      "[Parallel(n_jobs=10)]: Done 172 tasks      | elapsed:    0.1s\n",
      "[Parallel(n_jobs=10)]: Done 247 out of 247 | elapsed:    0.1s finished\n",
      "[Parallel(n_jobs=10)]: Using backend LokyBackend with 10 concurrent workers.\n",
      "[Parallel(n_jobs=10)]: Done   8 tasks      | elapsed:    0.0s\n"
     ]
    },
    {
     "name": "stdout",
     "output_type": "stream",
     "text": [
      "Applying baseline correction (mode: zscore)\n",
      "NOTE: tfr_morlet() is a legacy function. New code should use .compute_tfr(method=\"morlet\").\n",
      "Applying baseline correction (mode: zscore)\n",
      "NOTE: tfr_morlet() is a legacy function. New code should use .compute_tfr(method=\"morlet\").\n"
     ]
    },
    {
     "name": "stderr",
     "output_type": "stream",
     "text": [
      "[Parallel(n_jobs=10)]: Done 172 tasks      | elapsed:    0.1s\n",
      "[Parallel(n_jobs=10)]: Done 247 out of 247 | elapsed:    0.1s finished\n",
      "[Parallel(n_jobs=10)]: Using backend LokyBackend with 10 concurrent workers.\n",
      "[Parallel(n_jobs=10)]: Done   8 tasks      | elapsed:    0.0s\n",
      "[Parallel(n_jobs=10)]: Done 172 tasks      | elapsed:    0.1s\n",
      "[Parallel(n_jobs=10)]: Done 247 out of 247 | elapsed:    0.1s finished\n",
      "[Parallel(n_jobs=10)]: Using backend LokyBackend with 10 concurrent workers.\n",
      "[Parallel(n_jobs=10)]: Done   8 tasks      | elapsed:    0.0s\n"
     ]
    },
    {
     "name": "stdout",
     "output_type": "stream",
     "text": [
      "Applying baseline correction (mode: zscore)\n",
      "NOTE: tfr_morlet() is a legacy function. New code should use .compute_tfr(method=\"morlet\").\n",
      "Applying baseline correction (mode: zscore)\n",
      "NOTE: tfr_morlet() is a legacy function. New code should use .compute_tfr(method=\"morlet\").\n"
     ]
    },
    {
     "name": "stderr",
     "output_type": "stream",
     "text": [
      "[Parallel(n_jobs=10)]: Done 172 tasks      | elapsed:    0.1s\n",
      "[Parallel(n_jobs=10)]: Done 247 out of 247 | elapsed:    0.1s finished\n",
      "[Parallel(n_jobs=10)]: Using backend LokyBackend with 10 concurrent workers.\n",
      "[Parallel(n_jobs=10)]: Done   8 tasks      | elapsed:    0.0s\n",
      "[Parallel(n_jobs=10)]: Done 172 tasks      | elapsed:    0.1s\n",
      "[Parallel(n_jobs=10)]: Done 247 out of 247 | elapsed:    0.1s finished\n"
     ]
    },
    {
     "name": "stdout",
     "output_type": "stream",
     "text": [
      "Applying baseline correction (mode: zscore)\n",
      "NOTE: tfr_morlet() is a legacy function. New code should use .compute_tfr(method=\"morlet\").\n"
     ]
    },
    {
     "name": "stderr",
     "output_type": "stream",
     "text": [
      "[Parallel(n_jobs=10)]: Using backend LokyBackend with 10 concurrent workers.\n",
      "[Parallel(n_jobs=10)]: Done   8 tasks      | elapsed:    0.0s\n",
      "[Parallel(n_jobs=10)]: Done 172 tasks      | elapsed:    0.1s\n",
      "[Parallel(n_jobs=10)]: Done 247 out of 247 | elapsed:    0.1s finished\n",
      "[Parallel(n_jobs=10)]: Using backend LokyBackend with 10 concurrent workers.\n",
      "[Parallel(n_jobs=10)]: Done   8 tasks      | elapsed:    0.0s\n",
      "[Parallel(n_jobs=10)]: Done 172 tasks      | elapsed:    0.1s\n"
     ]
    },
    {
     "name": "stdout",
     "output_type": "stream",
     "text": [
      "Applying baseline correction (mode: zscore)\n",
      "NOTE: tfr_morlet() is a legacy function. New code should use .compute_tfr(method=\"morlet\").\n",
      "Applying baseline correction (mode: zscore)\n",
      "NOTE: tfr_morlet() is a legacy function. New code should use .compute_tfr(method=\"morlet\").\n"
     ]
    },
    {
     "name": "stderr",
     "output_type": "stream",
     "text": [
      "[Parallel(n_jobs=10)]: Done 247 out of 247 | elapsed:    0.1s finished\n",
      "[Parallel(n_jobs=10)]: Using backend LokyBackend with 10 concurrent workers.\n",
      "[Parallel(n_jobs=10)]: Done   8 tasks      | elapsed:    0.0s\n",
      "[Parallel(n_jobs=10)]: Done 172 tasks      | elapsed:    0.1s\n",
      "[Parallel(n_jobs=10)]: Done 247 out of 247 | elapsed:    0.1s finished\n",
      "[Parallel(n_jobs=10)]: Using backend LokyBackend with 10 concurrent workers.\n",
      "[Parallel(n_jobs=10)]: Done   8 tasks      | elapsed:    0.0s\n",
      "[Parallel(n_jobs=10)]: Done 172 tasks      | elapsed:    0.1s\n"
     ]
    },
    {
     "name": "stdout",
     "output_type": "stream",
     "text": [
      "Applying baseline correction (mode: zscore)\n",
      "NOTE: tfr_morlet() is a legacy function. New code should use .compute_tfr(method=\"morlet\").\n",
      "Applying baseline correction (mode: zscore)\n",
      "NOTE: tfr_morlet() is a legacy function. New code should use .compute_tfr(method=\"morlet\").\n"
     ]
    },
    {
     "name": "stderr",
     "output_type": "stream",
     "text": [
      "[Parallel(n_jobs=10)]: Done 247 out of 247 | elapsed:    0.1s finished\n",
      "[Parallel(n_jobs=10)]: Using backend LokyBackend with 10 concurrent workers.\n",
      "[Parallel(n_jobs=10)]: Done   8 tasks      | elapsed:    0.0s\n",
      "[Parallel(n_jobs=10)]: Done 172 tasks      | elapsed:    0.1s\n",
      "[Parallel(n_jobs=10)]: Done 247 out of 247 | elapsed:    0.1s finished\n",
      "[Parallel(n_jobs=10)]: Using backend LokyBackend with 10 concurrent workers.\n",
      "[Parallel(n_jobs=10)]: Done   8 tasks      | elapsed:    0.0s\n",
      "[Parallel(n_jobs=10)]: Done 172 tasks      | elapsed:    0.1s\n"
     ]
    },
    {
     "name": "stdout",
     "output_type": "stream",
     "text": [
      "Applying baseline correction (mode: zscore)\n",
      "NOTE: tfr_morlet() is a legacy function. New code should use .compute_tfr(method=\"morlet\").\n",
      "Applying baseline correction (mode: zscore)\n",
      "NOTE: tfr_morlet() is a legacy function. New code should use .compute_tfr(method=\"morlet\").\n"
     ]
    },
    {
     "name": "stderr",
     "output_type": "stream",
     "text": [
      "[Parallel(n_jobs=10)]: Done 247 out of 247 | elapsed:    0.1s finished\n",
      "[Parallel(n_jobs=10)]: Using backend LokyBackend with 10 concurrent workers.\n",
      "[Parallel(n_jobs=10)]: Done   8 tasks      | elapsed:    0.0s\n",
      "[Parallel(n_jobs=10)]: Done 172 tasks      | elapsed:    0.1s\n",
      "[Parallel(n_jobs=10)]: Done 247 out of 247 | elapsed:    0.1s finished\n",
      "[Parallel(n_jobs=10)]: Using backend LokyBackend with 10 concurrent workers.\n",
      "[Parallel(n_jobs=10)]: Done   8 tasks      | elapsed:    0.0s\n",
      "[Parallel(n_jobs=10)]: Done 172 tasks      | elapsed:    0.1s\n"
     ]
    },
    {
     "name": "stdout",
     "output_type": "stream",
     "text": [
      "Applying baseline correction (mode: zscore)\n",
      "NOTE: tfr_morlet() is a legacy function. New code should use .compute_tfr(method=\"morlet\").\n",
      "Applying baseline correction (mode: zscore)\n",
      "NOTE: tfr_morlet() is a legacy function. New code should use .compute_tfr(method=\"morlet\").\n"
     ]
    },
    {
     "name": "stderr",
     "output_type": "stream",
     "text": [
      "[Parallel(n_jobs=10)]: Done 247 out of 247 | elapsed:    0.1s finished\n",
      "[Parallel(n_jobs=10)]: Using backend LokyBackend with 10 concurrent workers.\n",
      "[Parallel(n_jobs=10)]: Done   8 tasks      | elapsed:    0.0s\n",
      "[Parallel(n_jobs=10)]: Done 172 tasks      | elapsed:    0.1s\n",
      "[Parallel(n_jobs=10)]: Done 247 out of 247 | elapsed:    0.1s finished\n",
      "[Parallel(n_jobs=10)]: Using backend LokyBackend with 10 concurrent workers.\n",
      "[Parallel(n_jobs=10)]: Done   8 tasks      | elapsed:    0.0s\n",
      "[Parallel(n_jobs=10)]: Done 172 tasks      | elapsed:    0.0s\n"
     ]
    },
    {
     "name": "stdout",
     "output_type": "stream",
     "text": [
      "Applying baseline correction (mode: zscore)\n",
      "NOTE: tfr_morlet() is a legacy function. New code should use .compute_tfr(method=\"morlet\").\n",
      "Applying baseline correction (mode: zscore)\n",
      "NOTE: tfr_morlet() is a legacy function. New code should use .compute_tfr(method=\"morlet\").\n"
     ]
    },
    {
     "name": "stderr",
     "output_type": "stream",
     "text": [
      "[Parallel(n_jobs=10)]: Done 247 out of 247 | elapsed:    0.1s finished\n",
      "[Parallel(n_jobs=10)]: Using backend LokyBackend with 10 concurrent workers.\n",
      "[Parallel(n_jobs=10)]: Done   8 tasks      | elapsed:    0.0s\n",
      "[Parallel(n_jobs=10)]: Done 172 tasks      | elapsed:    0.0s\n",
      "[Parallel(n_jobs=10)]: Done 247 out of 247 | elapsed:    0.1s finished\n",
      "[Parallel(n_jobs=10)]: Using backend LokyBackend with 10 concurrent workers.\n",
      "[Parallel(n_jobs=10)]: Done   8 tasks      | elapsed:    0.0s\n",
      "[Parallel(n_jobs=10)]: Done 172 tasks      | elapsed:    0.0s\n"
     ]
    },
    {
     "name": "stdout",
     "output_type": "stream",
     "text": [
      "Applying baseline correction (mode: zscore)\n",
      "NOTE: tfr_morlet() is a legacy function. New code should use .compute_tfr(method=\"morlet\").\n",
      "Applying baseline correction (mode: zscore)\n"
     ]
    },
    {
     "name": "stderr",
     "output_type": "stream",
     "text": [
      "[Parallel(n_jobs=10)]: Done 247 out of 247 | elapsed:    0.1s finished\n",
      "[Parallel(n_jobs=10)]: Using backend LokyBackend with 10 concurrent workers.\n",
      "[Parallel(n_jobs=10)]: Done   8 tasks      | elapsed:    0.0s\n",
      "[Parallel(n_jobs=10)]: Done 172 tasks      | elapsed:    0.1s\n",
      "[Parallel(n_jobs=10)]: Done 247 out of 247 | elapsed:    0.1s finished\n"
     ]
    },
    {
     "name": "stdout",
     "output_type": "stream",
     "text": [
      "NOTE: tfr_morlet() is a legacy function. New code should use .compute_tfr(method=\"morlet\").\n",
      "Applying baseline correction (mode: zscore)\n",
      "NOTE: tfr_morlet() is a legacy function. New code should use .compute_tfr(method=\"morlet\").\n"
     ]
    },
    {
     "name": "stderr",
     "output_type": "stream",
     "text": [
      "[Parallel(n_jobs=10)]: Using backend LokyBackend with 10 concurrent workers.\n",
      "[Parallel(n_jobs=10)]: Done   8 tasks      | elapsed:    0.0s\n",
      "[Parallel(n_jobs=10)]: Done 172 tasks      | elapsed:    0.0s\n",
      "[Parallel(n_jobs=10)]: Done 247 out of 247 | elapsed:    0.1s finished\n",
      "[Parallel(n_jobs=10)]: Using backend LokyBackend with 10 concurrent workers.\n",
      "[Parallel(n_jobs=10)]: Done   8 tasks      | elapsed:    0.0s\n",
      "[Parallel(n_jobs=10)]: Done 172 tasks      | elapsed:    0.1s\n"
     ]
    },
    {
     "name": "stdout",
     "output_type": "stream",
     "text": [
      "Applying baseline correction (mode: zscore)\n",
      "NOTE: tfr_morlet() is a legacy function. New code should use .compute_tfr(method=\"morlet\").\n",
      "Applying baseline correction (mode: zscore)\n",
      "NOTE: tfr_morlet() is a legacy function. New code should use .compute_tfr(method=\"morlet\").\n"
     ]
    },
    {
     "name": "stderr",
     "output_type": "stream",
     "text": [
      "[Parallel(n_jobs=10)]: Done 247 out of 247 | elapsed:    0.1s finished\n",
      "[Parallel(n_jobs=10)]: Using backend LokyBackend with 10 concurrent workers.\n",
      "[Parallel(n_jobs=10)]: Done   8 tasks      | elapsed:    0.0s\n",
      "[Parallel(n_jobs=10)]: Done 172 tasks      | elapsed:    0.0s\n",
      "[Parallel(n_jobs=10)]: Done 247 out of 247 | elapsed:    0.1s finished\n",
      "[Parallel(n_jobs=10)]: Using backend LokyBackend with 10 concurrent workers.\n",
      "[Parallel(n_jobs=10)]: Done   8 tasks      | elapsed:    0.0s\n",
      "[Parallel(n_jobs=10)]: Done 172 tasks      | elapsed:    0.0s\n"
     ]
    },
    {
     "name": "stdout",
     "output_type": "stream",
     "text": [
      "Applying baseline correction (mode: zscore)\n",
      "NOTE: tfr_morlet() is a legacy function. New code should use .compute_tfr(method=\"morlet\").\n",
      "Applying baseline correction (mode: zscore)\n",
      "NOTE: tfr_morlet() is a legacy function. New code should use .compute_tfr(method=\"morlet\").\n"
     ]
    },
    {
     "name": "stderr",
     "output_type": "stream",
     "text": [
      "[Parallel(n_jobs=10)]: Done 247 out of 247 | elapsed:    0.1s finished\n",
      "[Parallel(n_jobs=10)]: Using backend LokyBackend with 10 concurrent workers.\n",
      "[Parallel(n_jobs=10)]: Done   8 tasks      | elapsed:    0.0s\n",
      "[Parallel(n_jobs=10)]: Done 172 tasks      | elapsed:    0.1s\n",
      "[Parallel(n_jobs=10)]: Done 247 out of 247 | elapsed:    0.1s finished\n",
      "[Parallel(n_jobs=10)]: Using backend LokyBackend with 10 concurrent workers.\n",
      "[Parallel(n_jobs=10)]: Done   8 tasks      | elapsed:    0.0s\n",
      "[Parallel(n_jobs=10)]: Done 172 tasks      | elapsed:    0.1s\n"
     ]
    },
    {
     "name": "stdout",
     "output_type": "stream",
     "text": [
      "Applying baseline correction (mode: zscore)\n",
      "NOTE: tfr_morlet() is a legacy function. New code should use .compute_tfr(method=\"morlet\").\n",
      "Applying baseline correction (mode: zscore)\n",
      "NOTE: tfr_morlet() is a legacy function. New code should use .compute_tfr(method=\"morlet\").\n"
     ]
    },
    {
     "name": "stderr",
     "output_type": "stream",
     "text": [
      "[Parallel(n_jobs=10)]: Done 247 out of 247 | elapsed:    0.1s finished\n",
      "[Parallel(n_jobs=10)]: Using backend LokyBackend with 10 concurrent workers.\n",
      "[Parallel(n_jobs=10)]: Done   8 tasks      | elapsed:    0.0s\n",
      "[Parallel(n_jobs=10)]: Done 172 tasks      | elapsed:    0.1s\n",
      "[Parallel(n_jobs=10)]: Done 247 out of 247 | elapsed:    0.1s finished\n",
      "[Parallel(n_jobs=10)]: Using backend LokyBackend with 10 concurrent workers.\n",
      "[Parallel(n_jobs=10)]: Done   8 tasks      | elapsed:    0.0s\n",
      "[Parallel(n_jobs=10)]: Done 172 tasks      | elapsed:    0.1s\n"
     ]
    },
    {
     "name": "stdout",
     "output_type": "stream",
     "text": [
      "Applying baseline correction (mode: zscore)\n",
      "NOTE: tfr_morlet() is a legacy function. New code should use .compute_tfr(method=\"morlet\").\n",
      "Applying baseline correction (mode: zscore)\n",
      "NOTE: tfr_morlet() is a legacy function. New code should use .compute_tfr(method=\"morlet\").\n"
     ]
    },
    {
     "name": "stderr",
     "output_type": "stream",
     "text": [
      "[Parallel(n_jobs=10)]: Done 247 out of 247 | elapsed:    0.1s finished\n",
      "[Parallel(n_jobs=10)]: Using backend LokyBackend with 10 concurrent workers.\n",
      "[Parallel(n_jobs=10)]: Done   8 tasks      | elapsed:    0.0s\n",
      "[Parallel(n_jobs=10)]: Done 172 tasks      | elapsed:    0.1s\n",
      "[Parallel(n_jobs=10)]: Done 247 out of 247 | elapsed:    0.1s finished\n",
      "[Parallel(n_jobs=10)]: Using backend LokyBackend with 10 concurrent workers.\n",
      "[Parallel(n_jobs=10)]: Done   8 tasks      | elapsed:    0.0s\n"
     ]
    },
    {
     "name": "stdout",
     "output_type": "stream",
     "text": [
      "Applying baseline correction (mode: zscore)\n",
      "NOTE: tfr_morlet() is a legacy function. New code should use .compute_tfr(method=\"morlet\").\n",
      "Applying baseline correction (mode: zscore)\n",
      "NOTE: tfr_morlet() is a legacy function. New code should use .compute_tfr(method=\"morlet\").\n"
     ]
    },
    {
     "name": "stderr",
     "output_type": "stream",
     "text": [
      "[Parallel(n_jobs=10)]: Done 172 tasks      | elapsed:    0.1s\n",
      "[Parallel(n_jobs=10)]: Done 247 out of 247 | elapsed:    0.1s finished\n",
      "[Parallel(n_jobs=10)]: Using backend LokyBackend with 10 concurrent workers.\n",
      "[Parallel(n_jobs=10)]: Done   8 tasks      | elapsed:    0.0s\n",
      "[Parallel(n_jobs=10)]: Done 172 tasks      | elapsed:    0.1s\n",
      "[Parallel(n_jobs=10)]: Done 247 out of 247 | elapsed:    0.1s finished\n",
      "[Parallel(n_jobs=10)]: Using backend LokyBackend with 10 concurrent workers.\n",
      "[Parallel(n_jobs=10)]: Done   8 tasks      | elapsed:    0.0s\n"
     ]
    },
    {
     "name": "stdout",
     "output_type": "stream",
     "text": [
      "Applying baseline correction (mode: zscore)\n",
      "NOTE: tfr_morlet() is a legacy function. New code should use .compute_tfr(method=\"morlet\").\n",
      "Applying baseline correction (mode: zscore)\n",
      "NOTE: tfr_morlet() is a legacy function. New code should use .compute_tfr(method=\"morlet\").\n"
     ]
    },
    {
     "name": "stderr",
     "output_type": "stream",
     "text": [
      "[Parallel(n_jobs=10)]: Done 172 tasks      | elapsed:    0.1s\n",
      "[Parallel(n_jobs=10)]: Done 247 out of 247 | elapsed:    0.1s finished\n",
      "[Parallel(n_jobs=10)]: Using backend LokyBackend with 10 concurrent workers.\n",
      "[Parallel(n_jobs=10)]: Done   8 tasks      | elapsed:    0.0s\n",
      "[Parallel(n_jobs=10)]: Done 172 tasks      | elapsed:    0.1s\n",
      "[Parallel(n_jobs=10)]: Done 247 out of 247 | elapsed:    0.1s finished\n",
      "[Parallel(n_jobs=10)]: Using backend LokyBackend with 10 concurrent workers.\n",
      "[Parallel(n_jobs=10)]: Done   8 tasks      | elapsed:    0.0s\n"
     ]
    },
    {
     "name": "stdout",
     "output_type": "stream",
     "text": [
      "Applying baseline correction (mode: zscore)\n",
      "NOTE: tfr_morlet() is a legacy function. New code should use .compute_tfr(method=\"morlet\").\n",
      "Applying baseline correction (mode: zscore)\n",
      "NOTE: tfr_morlet() is a legacy function. New code should use .compute_tfr(method=\"morlet\").\n"
     ]
    },
    {
     "name": "stderr",
     "output_type": "stream",
     "text": [
      "[Parallel(n_jobs=10)]: Done 172 tasks      | elapsed:    0.1s\n",
      "[Parallel(n_jobs=10)]: Done 247 out of 247 | elapsed:    0.1s finished\n",
      "[Parallel(n_jobs=10)]: Using backend LokyBackend with 10 concurrent workers.\n",
      "[Parallel(n_jobs=10)]: Done   8 tasks      | elapsed:    0.0s\n",
      "[Parallel(n_jobs=10)]: Done 172 tasks      | elapsed:    0.1s\n",
      "[Parallel(n_jobs=10)]: Done 247 out of 247 | elapsed:    0.1s finished\n",
      "[Parallel(n_jobs=10)]: Using backend LokyBackend with 10 concurrent workers.\n",
      "[Parallel(n_jobs=10)]: Done   8 tasks      | elapsed:    0.0s\n"
     ]
    },
    {
     "name": "stdout",
     "output_type": "stream",
     "text": [
      "Applying baseline correction (mode: zscore)\n",
      "NOTE: tfr_morlet() is a legacy function. New code should use .compute_tfr(method=\"morlet\").\n",
      "Applying baseline correction (mode: zscore)\n",
      "NOTE: tfr_morlet() is a legacy function. New code should use .compute_tfr(method=\"morlet\").\n"
     ]
    },
    {
     "name": "stderr",
     "output_type": "stream",
     "text": [
      "[Parallel(n_jobs=10)]: Done 172 tasks      | elapsed:    0.1s\n",
      "[Parallel(n_jobs=10)]: Done 247 out of 247 | elapsed:    0.1s finished\n",
      "[Parallel(n_jobs=10)]: Using backend LokyBackend with 10 concurrent workers.\n",
      "[Parallel(n_jobs=10)]: Done   8 tasks      | elapsed:    0.0s\n",
      "[Parallel(n_jobs=10)]: Done 172 tasks      | elapsed:    0.1s\n",
      "[Parallel(n_jobs=10)]: Done 247 out of 247 | elapsed:    0.1s finished\n",
      "[Parallel(n_jobs=10)]: Using backend LokyBackend with 10 concurrent workers.\n",
      "[Parallel(n_jobs=10)]: Done   8 tasks      | elapsed:    0.0s\n"
     ]
    },
    {
     "name": "stdout",
     "output_type": "stream",
     "text": [
      "Applying baseline correction (mode: zscore)\n",
      "NOTE: tfr_morlet() is a legacy function. New code should use .compute_tfr(method=\"morlet\").\n"
     ]
    },
    {
     "name": "stderr",
     "output_type": "stream",
     "text": [
      "[Parallel(n_jobs=10)]: Done 172 tasks      | elapsed:    0.1s\n",
      "[Parallel(n_jobs=10)]: Done 247 out of 247 | elapsed:    0.1s finished\n",
      "[Parallel(n_jobs=10)]: Using backend LokyBackend with 10 concurrent workers.\n",
      "[Parallel(n_jobs=10)]: Done   8 tasks      | elapsed:    0.1s\n",
      "[Parallel(n_jobs=10)]: Done 172 tasks      | elapsed:    0.1s\n"
     ]
    },
    {
     "name": "stdout",
     "output_type": "stream",
     "text": [
      "Applying baseline correction (mode: zscore)\n",
      "NOTE: tfr_morlet() is a legacy function. New code should use .compute_tfr(method=\"morlet\").\n",
      "Applying baseline correction (mode: zscore)\n",
      "NOTE: tfr_morlet() is a legacy function. New code should use .compute_tfr(method=\"morlet\").\n"
     ]
    },
    {
     "name": "stderr",
     "output_type": "stream",
     "text": [
      "[Parallel(n_jobs=10)]: Done 247 out of 247 | elapsed:    0.2s finished\n",
      "[Parallel(n_jobs=10)]: Using backend LokyBackend with 10 concurrent workers.\n",
      "[Parallel(n_jobs=10)]: Done   8 tasks      | elapsed:    0.0s\n",
      "[Parallel(n_jobs=10)]: Done 172 tasks      | elapsed:    0.1s\n",
      "[Parallel(n_jobs=10)]: Done 247 out of 247 | elapsed:    0.1s finished\n",
      "[Parallel(n_jobs=10)]: Using backend LokyBackend with 10 concurrent workers.\n",
      "[Parallel(n_jobs=10)]: Done   8 tasks      | elapsed:    0.0s\n",
      "[Parallel(n_jobs=10)]: Done 172 tasks      | elapsed:    0.0s\n"
     ]
    },
    {
     "name": "stdout",
     "output_type": "stream",
     "text": [
      "Applying baseline correction (mode: zscore)\n",
      "NOTE: tfr_morlet() is a legacy function. New code should use .compute_tfr(method=\"morlet\").\n",
      "Applying baseline correction (mode: zscore)\n",
      "NOTE: tfr_morlet() is a legacy function. New code should use .compute_tfr(method=\"morlet\").\n"
     ]
    },
    {
     "name": "stderr",
     "output_type": "stream",
     "text": [
      "[Parallel(n_jobs=10)]: Done 247 out of 247 | elapsed:    0.1s finished\n",
      "[Parallel(n_jobs=10)]: Using backend LokyBackend with 10 concurrent workers.\n",
      "[Parallel(n_jobs=10)]: Done   8 tasks      | elapsed:    0.0s\n",
      "[Parallel(n_jobs=10)]: Done 172 tasks      | elapsed:    0.1s\n",
      "[Parallel(n_jobs=10)]: Done 247 out of 247 | elapsed:    0.1s finished\n",
      "[Parallel(n_jobs=10)]: Using backend LokyBackend with 10 concurrent workers.\n",
      "[Parallel(n_jobs=10)]: Done   8 tasks      | elapsed:    0.0s\n",
      "[Parallel(n_jobs=10)]: Done 172 tasks      | elapsed:    0.1s\n"
     ]
    },
    {
     "name": "stdout",
     "output_type": "stream",
     "text": [
      "Applying baseline correction (mode: zscore)\n",
      "NOTE: tfr_morlet() is a legacy function. New code should use .compute_tfr(method=\"morlet\").\n",
      "Applying baseline correction (mode: zscore)\n",
      "NOTE: tfr_morlet() is a legacy function. New code should use .compute_tfr(method=\"morlet\").\n"
     ]
    },
    {
     "name": "stderr",
     "output_type": "stream",
     "text": [
      "[Parallel(n_jobs=10)]: Done 247 out of 247 | elapsed:    0.1s finished\n",
      "[Parallel(n_jobs=10)]: Using backend LokyBackend with 10 concurrent workers.\n",
      "[Parallel(n_jobs=10)]: Done   8 tasks      | elapsed:    0.0s\n",
      "[Parallel(n_jobs=10)]: Done 172 tasks      | elapsed:    0.1s\n",
      "[Parallel(n_jobs=10)]: Done 247 out of 247 | elapsed:    0.1s finished\n",
      "[Parallel(n_jobs=10)]: Using backend LokyBackend with 10 concurrent workers.\n",
      "[Parallel(n_jobs=10)]: Done   8 tasks      | elapsed:    0.0s\n"
     ]
    },
    {
     "name": "stdout",
     "output_type": "stream",
     "text": [
      "Applying baseline correction (mode: zscore)\n",
      "NOTE: tfr_morlet() is a legacy function. New code should use .compute_tfr(method=\"morlet\").\n",
      "Applying baseline correction (mode: zscore)\n",
      "NOTE: tfr_morlet() is a legacy function. New code should use .compute_tfr(method=\"morlet\").\n"
     ]
    },
    {
     "name": "stderr",
     "output_type": "stream",
     "text": [
      "[Parallel(n_jobs=10)]: Done 172 tasks      | elapsed:    0.1s\n",
      "[Parallel(n_jobs=10)]: Done 247 out of 247 | elapsed:    0.1s finished\n",
      "[Parallel(n_jobs=10)]: Using backend LokyBackend with 10 concurrent workers.\n",
      "[Parallel(n_jobs=10)]: Done   8 tasks      | elapsed:    0.0s\n",
      "[Parallel(n_jobs=10)]: Done 172 tasks      | elapsed:    0.1s\n",
      "[Parallel(n_jobs=10)]: Done 247 out of 247 | elapsed:    0.1s finished\n",
      "[Parallel(n_jobs=10)]: Using backend LokyBackend with 10 concurrent workers.\n"
     ]
    },
    {
     "name": "stdout",
     "output_type": "stream",
     "text": [
      "Applying baseline correction (mode: zscore)\n",
      "NOTE: tfr_morlet() is a legacy function. New code should use .compute_tfr(method=\"morlet\").\n"
     ]
    },
    {
     "name": "stderr",
     "output_type": "stream",
     "text": [
      "[Parallel(n_jobs=10)]: Done   8 tasks      | elapsed:    0.0s\n",
      "[Parallel(n_jobs=10)]: Done 172 tasks      | elapsed:    0.1s\n",
      "[Parallel(n_jobs=10)]: Done 247 out of 247 | elapsed:    0.1s finished\n",
      "[Parallel(n_jobs=10)]: Using backend LokyBackend with 10 concurrent workers.\n",
      "[Parallel(n_jobs=10)]: Done   8 tasks      | elapsed:    0.0s\n",
      "[Parallel(n_jobs=10)]: Done 172 tasks      | elapsed:    0.1s\n"
     ]
    },
    {
     "name": "stdout",
     "output_type": "stream",
     "text": [
      "Applying baseline correction (mode: zscore)\n",
      "NOTE: tfr_morlet() is a legacy function. New code should use .compute_tfr(method=\"morlet\").\n",
      "Applying baseline correction (mode: zscore)\n",
      "NOTE: tfr_morlet() is a legacy function. New code should use .compute_tfr(method=\"morlet\").\n"
     ]
    },
    {
     "name": "stderr",
     "output_type": "stream",
     "text": [
      "[Parallel(n_jobs=10)]: Done 247 out of 247 | elapsed:    0.1s finished\n",
      "[Parallel(n_jobs=10)]: Using backend LokyBackend with 10 concurrent workers.\n",
      "[Parallel(n_jobs=10)]: Done   8 tasks      | elapsed:    0.0s\n",
      "[Parallel(n_jobs=10)]: Done 172 tasks      | elapsed:    0.1s\n",
      "[Parallel(n_jobs=10)]: Done 247 out of 247 | elapsed:    0.1s finished\n",
      "[Parallel(n_jobs=10)]: Using backend LokyBackend with 10 concurrent workers.\n",
      "[Parallel(n_jobs=10)]: Done   8 tasks      | elapsed:    0.0s\n",
      "[Parallel(n_jobs=10)]: Done 172 tasks      | elapsed:    0.1s\n"
     ]
    },
    {
     "name": "stdout",
     "output_type": "stream",
     "text": [
      "Applying baseline correction (mode: zscore)\n",
      "NOTE: tfr_morlet() is a legacy function. New code should use .compute_tfr(method=\"morlet\").\n",
      "Applying baseline correction (mode: zscore)\n",
      "NOTE: tfr_morlet() is a legacy function. New code should use .compute_tfr(method=\"morlet\").\n"
     ]
    },
    {
     "name": "stderr",
     "output_type": "stream",
     "text": [
      "[Parallel(n_jobs=10)]: Done 247 out of 247 | elapsed:    0.1s finished\n",
      "[Parallel(n_jobs=10)]: Using backend LokyBackend with 10 concurrent workers.\n",
      "[Parallel(n_jobs=10)]: Done   8 tasks      | elapsed:    0.0s\n",
      "[Parallel(n_jobs=10)]: Done 172 tasks      | elapsed:    0.1s\n",
      "[Parallel(n_jobs=10)]: Done 247 out of 247 | elapsed:    0.1s finished\n",
      "[Parallel(n_jobs=10)]: Using backend LokyBackend with 10 concurrent workers.\n",
      "[Parallel(n_jobs=10)]: Done   8 tasks      | elapsed:    0.0s\n",
      "[Parallel(n_jobs=10)]: Done 172 tasks      | elapsed:    0.1s\n"
     ]
    },
    {
     "name": "stdout",
     "output_type": "stream",
     "text": [
      "Applying baseline correction (mode: zscore)\n",
      "NOTE: tfr_morlet() is a legacy function. New code should use .compute_tfr(method=\"morlet\").\n",
      "Applying baseline correction (mode: zscore)\n",
      "NOTE: tfr_morlet() is a legacy function. New code should use .compute_tfr(method=\"morlet\").\n"
     ]
    },
    {
     "name": "stderr",
     "output_type": "stream",
     "text": [
      "[Parallel(n_jobs=10)]: Done 247 out of 247 | elapsed:    0.1s finished\n",
      "[Parallel(n_jobs=10)]: Using backend LokyBackend with 10 concurrent workers.\n",
      "[Parallel(n_jobs=10)]: Done   8 tasks      | elapsed:    0.0s\n",
      "[Parallel(n_jobs=10)]: Done 172 tasks      | elapsed:    0.0s\n",
      "[Parallel(n_jobs=10)]: Done 247 out of 247 | elapsed:    0.1s finished\n",
      "[Parallel(n_jobs=10)]: Using backend LokyBackend with 10 concurrent workers.\n",
      "[Parallel(n_jobs=10)]: Done   8 tasks      | elapsed:    0.0s\n",
      "[Parallel(n_jobs=10)]: Done 172 tasks      | elapsed:    0.1s\n"
     ]
    },
    {
     "name": "stdout",
     "output_type": "stream",
     "text": [
      "Applying baseline correction (mode: zscore)\n",
      "NOTE: tfr_morlet() is a legacy function. New code should use .compute_tfr(method=\"morlet\").\n",
      "Applying baseline correction (mode: zscore)\n",
      "NOTE: tfr_morlet() is a legacy function. New code should use .compute_tfr(method=\"morlet\").\n"
     ]
    },
    {
     "name": "stderr",
     "output_type": "stream",
     "text": [
      "[Parallel(n_jobs=10)]: Done 247 out of 247 | elapsed:    0.1s finished\n",
      "[Parallel(n_jobs=10)]: Using backend LokyBackend with 10 concurrent workers.\n",
      "[Parallel(n_jobs=10)]: Done   8 tasks      | elapsed:    0.0s\n",
      "[Parallel(n_jobs=10)]: Done 172 tasks      | elapsed:    0.1s\n",
      "[Parallel(n_jobs=10)]: Done 247 out of 247 | elapsed:    0.1s finished\n",
      "[Parallel(n_jobs=10)]: Using backend LokyBackend with 10 concurrent workers.\n",
      "[Parallel(n_jobs=10)]: Done   8 tasks      | elapsed:    0.0s\n",
      "[Parallel(n_jobs=10)]: Done 172 tasks      | elapsed:    0.1s\n"
     ]
    },
    {
     "name": "stdout",
     "output_type": "stream",
     "text": [
      "Applying baseline correction (mode: zscore)\n",
      "NOTE: tfr_morlet() is a legacy function. New code should use .compute_tfr(method=\"morlet\").\n",
      "Applying baseline correction (mode: zscore)\n",
      "NOTE: tfr_morlet() is a legacy function. New code should use .compute_tfr(method=\"morlet\").\n"
     ]
    },
    {
     "name": "stderr",
     "output_type": "stream",
     "text": [
      "[Parallel(n_jobs=10)]: Done 247 out of 247 | elapsed:    0.1s finished\n",
      "[Parallel(n_jobs=10)]: Using backend LokyBackend with 10 concurrent workers.\n",
      "[Parallel(n_jobs=10)]: Done   8 tasks      | elapsed:    0.0s\n",
      "[Parallel(n_jobs=10)]: Done 172 tasks      | elapsed:    0.1s\n",
      "[Parallel(n_jobs=10)]: Done 247 out of 247 | elapsed:    0.1s finished\n",
      "[Parallel(n_jobs=10)]: Using backend LokyBackend with 10 concurrent workers.\n",
      "[Parallel(n_jobs=10)]: Done   8 tasks      | elapsed:    0.0s\n"
     ]
    },
    {
     "name": "stdout",
     "output_type": "stream",
     "text": [
      "Applying baseline correction (mode: zscore)\n",
      "NOTE: tfr_morlet() is a legacy function. New code should use .compute_tfr(method=\"morlet\").\n",
      "Applying baseline correction (mode: zscore)\n",
      "NOTE: tfr_morlet() is a legacy function. New code should use .compute_tfr(method=\"morlet\").\n"
     ]
    },
    {
     "name": "stderr",
     "output_type": "stream",
     "text": [
      "[Parallel(n_jobs=10)]: Done 172 tasks      | elapsed:    0.1s\n",
      "[Parallel(n_jobs=10)]: Done 247 out of 247 | elapsed:    0.1s finished\n",
      "[Parallel(n_jobs=10)]: Using backend LokyBackend with 10 concurrent workers.\n",
      "[Parallel(n_jobs=10)]: Done   8 tasks      | elapsed:    0.0s\n",
      "[Parallel(n_jobs=10)]: Done 172 tasks      | elapsed:    0.1s\n",
      "[Parallel(n_jobs=10)]: Done 247 out of 247 | elapsed:    0.1s finished\n",
      "[Parallel(n_jobs=10)]: Using backend LokyBackend with 10 concurrent workers.\n",
      "[Parallel(n_jobs=10)]: Done   8 tasks      | elapsed:    0.0s\n"
     ]
    },
    {
     "name": "stdout",
     "output_type": "stream",
     "text": [
      "Applying baseline correction (mode: zscore)\n",
      "NOTE: tfr_morlet() is a legacy function. New code should use .compute_tfr(method=\"morlet\").\n",
      "Applying baseline correction (mode: zscore)\n",
      "NOTE: tfr_morlet() is a legacy function. New code should use .compute_tfr(method=\"morlet\").\n"
     ]
    },
    {
     "name": "stderr",
     "output_type": "stream",
     "text": [
      "[Parallel(n_jobs=10)]: Done 172 tasks      | elapsed:    0.1s\n",
      "[Parallel(n_jobs=10)]: Done 247 out of 247 | elapsed:    0.1s finished\n",
      "[Parallel(n_jobs=10)]: Using backend LokyBackend with 10 concurrent workers.\n",
      "[Parallel(n_jobs=10)]: Done   8 tasks      | elapsed:    0.0s\n",
      "[Parallel(n_jobs=10)]: Done 172 tasks      | elapsed:    0.1s\n",
      "[Parallel(n_jobs=10)]: Done 247 out of 247 | elapsed:    0.1s finished\n",
      "[Parallel(n_jobs=10)]: Using backend LokyBackend with 10 concurrent workers.\n",
      "[Parallel(n_jobs=10)]: Done   8 tasks      | elapsed:    0.0s\n"
     ]
    },
    {
     "name": "stdout",
     "output_type": "stream",
     "text": [
      "Applying baseline correction (mode: zscore)\n",
      "NOTE: tfr_morlet() is a legacy function. New code should use .compute_tfr(method=\"morlet\").\n",
      "Applying baseline correction (mode: zscore)\n",
      "NOTE: tfr_morlet() is a legacy function. New code should use .compute_tfr(method=\"morlet\").\n"
     ]
    },
    {
     "name": "stderr",
     "output_type": "stream",
     "text": [
      "[Parallel(n_jobs=10)]: Done 172 tasks      | elapsed:    0.1s\n",
      "[Parallel(n_jobs=10)]: Done 247 out of 247 | elapsed:    0.1s finished\n",
      "[Parallel(n_jobs=10)]: Using backend LokyBackend with 10 concurrent workers.\n",
      "[Parallel(n_jobs=10)]: Done   8 tasks      | elapsed:    0.0s\n",
      "[Parallel(n_jobs=10)]: Done 172 tasks      | elapsed:    0.1s\n",
      "[Parallel(n_jobs=10)]: Done 247 out of 247 | elapsed:    0.1s finished\n",
      "[Parallel(n_jobs=10)]: Using backend LokyBackend with 10 concurrent workers.\n",
      "[Parallel(n_jobs=10)]: Done   8 tasks      | elapsed:    0.0s\n"
     ]
    },
    {
     "name": "stdout",
     "output_type": "stream",
     "text": [
      "Applying baseline correction (mode: zscore)\n",
      "NOTE: tfr_morlet() is a legacy function. New code should use .compute_tfr(method=\"morlet\").\n",
      "Applying baseline correction (mode: zscore)\n",
      "NOTE: tfr_morlet() is a legacy function. New code should use .compute_tfr(method=\"morlet\").\n"
     ]
    },
    {
     "name": "stderr",
     "output_type": "stream",
     "text": [
      "[Parallel(n_jobs=10)]: Done 172 tasks      | elapsed:    0.1s\n",
      "[Parallel(n_jobs=10)]: Done 247 out of 247 | elapsed:    0.1s finished\n",
      "[Parallel(n_jobs=10)]: Using backend LokyBackend with 10 concurrent workers.\n",
      "[Parallel(n_jobs=10)]: Done   8 tasks      | elapsed:    0.0s\n",
      "[Parallel(n_jobs=10)]: Done 172 tasks      | elapsed:    0.0s\n",
      "[Parallel(n_jobs=10)]: Done 247 out of 247 | elapsed:    0.1s finished\n",
      "[Parallel(n_jobs=10)]: Using backend LokyBackend with 10 concurrent workers.\n",
      "[Parallel(n_jobs=10)]: Done   8 tasks      | elapsed:    0.0s\n"
     ]
    },
    {
     "name": "stdout",
     "output_type": "stream",
     "text": [
      "Applying baseline correction (mode: zscore)\n",
      "NOTE: tfr_morlet() is a legacy function. New code should use .compute_tfr(method=\"morlet\").\n",
      "Applying baseline correction (mode: zscore)\n",
      "NOTE: tfr_morlet() is a legacy function. New code should use .compute_tfr(method=\"morlet\").\n"
     ]
    },
    {
     "name": "stderr",
     "output_type": "stream",
     "text": [
      "[Parallel(n_jobs=10)]: Done 172 tasks      | elapsed:    0.1s\n",
      "[Parallel(n_jobs=10)]: Done 247 out of 247 | elapsed:    0.2s finished\n",
      "[Parallel(n_jobs=10)]: Using backend LokyBackend with 10 concurrent workers.\n",
      "[Parallel(n_jobs=10)]: Done   8 tasks      | elapsed:    0.0s\n",
      "[Parallel(n_jobs=10)]: Done 172 tasks      | elapsed:    0.1s\n",
      "[Parallel(n_jobs=10)]: Done 247 out of 247 | elapsed:    0.1s finished\n",
      "[Parallel(n_jobs=10)]: Using backend LokyBackend with 10 concurrent workers.\n",
      "[Parallel(n_jobs=10)]: Done   8 tasks      | elapsed:    0.0s\n"
     ]
    },
    {
     "name": "stdout",
     "output_type": "stream",
     "text": [
      "Applying baseline correction (mode: zscore)\n",
      "NOTE: tfr_morlet() is a legacy function. New code should use .compute_tfr(method=\"morlet\").\n",
      "Applying baseline correction (mode: zscore)\n",
      "NOTE: tfr_morlet() is a legacy function. New code should use .compute_tfr(method=\"morlet\").\n"
     ]
    },
    {
     "name": "stderr",
     "output_type": "stream",
     "text": [
      "[Parallel(n_jobs=10)]: Done 172 tasks      | elapsed:    0.1s\n",
      "[Parallel(n_jobs=10)]: Done 247 out of 247 | elapsed:    0.1s finished\n",
      "[Parallel(n_jobs=10)]: Using backend LokyBackend with 10 concurrent workers.\n",
      "[Parallel(n_jobs=10)]: Done   8 tasks      | elapsed:    0.0s\n",
      "[Parallel(n_jobs=10)]: Done 172 tasks      | elapsed:    0.1s\n",
      "[Parallel(n_jobs=10)]: Done 247 out of 247 | elapsed:    0.1s finished\n",
      "[Parallel(n_jobs=10)]: Using backend LokyBackend with 10 concurrent workers.\n",
      "[Parallel(n_jobs=10)]: Done   8 tasks      | elapsed:    0.0s\n"
     ]
    },
    {
     "name": "stdout",
     "output_type": "stream",
     "text": [
      "Applying baseline correction (mode: zscore)\n",
      "NOTE: tfr_morlet() is a legacy function. New code should use .compute_tfr(method=\"morlet\").\n",
      "Applying baseline correction (mode: zscore)\n",
      "NOTE: tfr_morlet() is a legacy function. New code should use .compute_tfr(method=\"morlet\").\n"
     ]
    },
    {
     "name": "stderr",
     "output_type": "stream",
     "text": [
      "[Parallel(n_jobs=10)]: Done 172 tasks      | elapsed:    0.1s\n",
      "[Parallel(n_jobs=10)]: Done 247 out of 247 | elapsed:    0.1s finished\n",
      "[Parallel(n_jobs=10)]: Using backend LokyBackend with 10 concurrent workers.\n",
      "[Parallel(n_jobs=10)]: Done   8 tasks      | elapsed:    0.0s\n",
      "[Parallel(n_jobs=10)]: Done 172 tasks      | elapsed:    0.1s\n",
      "[Parallel(n_jobs=10)]: Done 247 out of 247 | elapsed:    0.1s finished\n",
      "[Parallel(n_jobs=10)]: Using backend LokyBackend with 10 concurrent workers.\n"
     ]
    },
    {
     "name": "stdout",
     "output_type": "stream",
     "text": [
      "Applying baseline correction (mode: zscore)\n",
      "NOTE: tfr_morlet() is a legacy function. New code should use .compute_tfr(method=\"morlet\").\n"
     ]
    },
    {
     "name": "stderr",
     "output_type": "stream",
     "text": [
      "[Parallel(n_jobs=10)]: Done   8 tasks      | elapsed:    0.0s\n",
      "[Parallel(n_jobs=10)]: Done 172 tasks      | elapsed:    0.1s\n",
      "[Parallel(n_jobs=10)]: Done 247 out of 247 | elapsed:    0.1s finished\n",
      "[Parallel(n_jobs=10)]: Using backend LokyBackend with 10 concurrent workers.\n",
      "[Parallel(n_jobs=10)]: Done   8 tasks      | elapsed:    0.0s\n",
      "[Parallel(n_jobs=10)]: Done 172 tasks      | elapsed:    0.1s\n",
      "[Parallel(n_jobs=10)]: Done 247 out of 247 | elapsed:    0.1s finished\n"
     ]
    },
    {
     "name": "stdout",
     "output_type": "stream",
     "text": [
      "Applying baseline correction (mode: zscore)\n",
      "NOTE: tfr_morlet() is a legacy function. New code should use .compute_tfr(method=\"morlet\").\n",
      "Applying baseline correction (mode: zscore)\n",
      "NOTE: tfr_morlet() is a legacy function. New code should use .compute_tfr(method=\"morlet\").\n"
     ]
    },
    {
     "name": "stderr",
     "output_type": "stream",
     "text": [
      "[Parallel(n_jobs=10)]: Using backend LokyBackend with 10 concurrent workers.\n",
      "[Parallel(n_jobs=10)]: Done   8 tasks      | elapsed:    0.0s\n",
      "[Parallel(n_jobs=10)]: Done 172 tasks      | elapsed:    0.1s\n",
      "[Parallel(n_jobs=10)]: Done 247 out of 247 | elapsed:    0.1s finished\n",
      "[Parallel(n_jobs=10)]: Using backend LokyBackend with 10 concurrent workers.\n",
      "[Parallel(n_jobs=10)]: Done   8 tasks      | elapsed:    0.0s\n",
      "[Parallel(n_jobs=10)]: Done 172 tasks      | elapsed:    0.1s\n"
     ]
    },
    {
     "name": "stdout",
     "output_type": "stream",
     "text": [
      "Applying baseline correction (mode: zscore)\n",
      "NOTE: tfr_morlet() is a legacy function. New code should use .compute_tfr(method=\"morlet\").\n",
      "Applying baseline correction (mode: zscore)\n",
      "NOTE: tfr_morlet() is a legacy function. New code should use .compute_tfr(method=\"morlet\").\n"
     ]
    },
    {
     "name": "stderr",
     "output_type": "stream",
     "text": [
      "[Parallel(n_jobs=10)]: Done 247 out of 247 | elapsed:    0.1s finished\n",
      "[Parallel(n_jobs=10)]: Using backend LokyBackend with 10 concurrent workers.\n",
      "[Parallel(n_jobs=10)]: Done   8 tasks      | elapsed:    0.0s\n",
      "[Parallel(n_jobs=10)]: Done 172 tasks      | elapsed:    0.1s\n",
      "[Parallel(n_jobs=10)]: Done 247 out of 247 | elapsed:    0.1s finished\n",
      "[Parallel(n_jobs=10)]: Using backend LokyBackend with 10 concurrent workers.\n",
      "[Parallel(n_jobs=10)]: Done   8 tasks      | elapsed:    0.0s\n"
     ]
    },
    {
     "name": "stdout",
     "output_type": "stream",
     "text": [
      "Applying baseline correction (mode: zscore)\n",
      "NOTE: tfr_morlet() is a legacy function. New code should use .compute_tfr(method=\"morlet\").\n",
      "Applying baseline correction (mode: zscore)\n",
      "NOTE: tfr_morlet() is a legacy function. New code should use .compute_tfr(method=\"morlet\").\n"
     ]
    },
    {
     "name": "stderr",
     "output_type": "stream",
     "text": [
      "[Parallel(n_jobs=10)]: Done 172 tasks      | elapsed:    0.1s\n",
      "[Parallel(n_jobs=10)]: Done 247 out of 247 | elapsed:    0.1s finished\n",
      "[Parallel(n_jobs=10)]: Using backend LokyBackend with 10 concurrent workers.\n",
      "[Parallel(n_jobs=10)]: Done   8 tasks      | elapsed:    0.0s\n",
      "[Parallel(n_jobs=10)]: Done 172 tasks      | elapsed:    0.1s\n",
      "[Parallel(n_jobs=10)]: Done 247 out of 247 | elapsed:    0.1s finished\n",
      "[Parallel(n_jobs=10)]: Using backend LokyBackend with 10 concurrent workers.\n"
     ]
    },
    {
     "name": "stdout",
     "output_type": "stream",
     "text": [
      "Applying baseline correction (mode: zscore)\n",
      "NOTE: tfr_morlet() is a legacy function. New code should use .compute_tfr(method=\"morlet\").\n"
     ]
    },
    {
     "name": "stderr",
     "output_type": "stream",
     "text": [
      "[Parallel(n_jobs=10)]: Done   8 tasks      | elapsed:    0.0s\n",
      "[Parallel(n_jobs=10)]: Done 172 tasks      | elapsed:    0.1s\n",
      "[Parallel(n_jobs=10)]: Done 247 out of 247 | elapsed:    0.1s finished\n",
      "[Parallel(n_jobs=10)]: Using backend LokyBackend with 10 concurrent workers.\n",
      "[Parallel(n_jobs=10)]: Done   8 tasks      | elapsed:    0.0s\n",
      "[Parallel(n_jobs=10)]: Done 172 tasks      | elapsed:    0.1s\n"
     ]
    },
    {
     "name": "stdout",
     "output_type": "stream",
     "text": [
      "Applying baseline correction (mode: zscore)\n",
      "NOTE: tfr_morlet() is a legacy function. New code should use .compute_tfr(method=\"morlet\").\n",
      "Applying baseline correction (mode: zscore)\n",
      "NOTE: tfr_morlet() is a legacy function. New code should use .compute_tfr(method=\"morlet\").\n"
     ]
    },
    {
     "name": "stderr",
     "output_type": "stream",
     "text": [
      "[Parallel(n_jobs=10)]: Done 247 out of 247 | elapsed:    0.1s finished\n",
      "[Parallel(n_jobs=10)]: Using backend LokyBackend with 10 concurrent workers.\n",
      "[Parallel(n_jobs=10)]: Done   8 tasks      | elapsed:    0.0s\n",
      "[Parallel(n_jobs=10)]: Done 172 tasks      | elapsed:    0.1s\n",
      "[Parallel(n_jobs=10)]: Done 247 out of 247 | elapsed:    0.1s finished\n",
      "[Parallel(n_jobs=10)]: Using backend LokyBackend with 10 concurrent workers.\n",
      "[Parallel(n_jobs=10)]: Done   8 tasks      | elapsed:    0.0s\n",
      "[Parallel(n_jobs=10)]: Done 172 tasks      | elapsed:    0.1s\n"
     ]
    },
    {
     "name": "stdout",
     "output_type": "stream",
     "text": [
      "Applying baseline correction (mode: zscore)\n",
      "NOTE: tfr_morlet() is a legacy function. New code should use .compute_tfr(method=\"morlet\").\n",
      "Applying baseline correction (mode: zscore)\n",
      "NOTE: tfr_morlet() is a legacy function. New code should use .compute_tfr(method=\"morlet\").\n"
     ]
    },
    {
     "name": "stderr",
     "output_type": "stream",
     "text": [
      "[Parallel(n_jobs=10)]: Done 247 out of 247 | elapsed:    0.2s finished\n",
      "[Parallel(n_jobs=10)]: Using backend LokyBackend with 10 concurrent workers.\n",
      "[Parallel(n_jobs=10)]: Done   8 tasks      | elapsed:    0.0s\n",
      "[Parallel(n_jobs=10)]: Done 172 tasks      | elapsed:    0.1s\n",
      "[Parallel(n_jobs=10)]: Done 247 out of 247 | elapsed:    0.1s finished\n",
      "[Parallel(n_jobs=10)]: Using backend LokyBackend with 10 concurrent workers.\n",
      "[Parallel(n_jobs=10)]: Done   8 tasks      | elapsed:    0.0s\n"
     ]
    },
    {
     "name": "stdout",
     "output_type": "stream",
     "text": [
      "Applying baseline correction (mode: zscore)\n",
      "NOTE: tfr_morlet() is a legacy function. New code should use .compute_tfr(method=\"morlet\").\n",
      "Applying baseline correction (mode: zscore)\n",
      "NOTE: tfr_morlet() is a legacy function. New code should use .compute_tfr(method=\"morlet\").\n"
     ]
    },
    {
     "name": "stderr",
     "output_type": "stream",
     "text": [
      "[Parallel(n_jobs=10)]: Done 172 tasks      | elapsed:    0.1s\n",
      "[Parallel(n_jobs=10)]: Done 247 out of 247 | elapsed:    0.1s finished\n",
      "[Parallel(n_jobs=10)]: Using backend LokyBackend with 10 concurrent workers.\n",
      "[Parallel(n_jobs=10)]: Done   8 tasks      | elapsed:    0.0s\n",
      "[Parallel(n_jobs=10)]: Done 172 tasks      | elapsed:    0.1s\n",
      "[Parallel(n_jobs=10)]: Done 247 out of 247 | elapsed:    0.1s finished\n",
      "[Parallel(n_jobs=10)]: Using backend LokyBackend with 10 concurrent workers.\n",
      "[Parallel(n_jobs=10)]: Done   8 tasks      | elapsed:    0.0s\n"
     ]
    },
    {
     "name": "stdout",
     "output_type": "stream",
     "text": [
      "Applying baseline correction (mode: zscore)\n",
      "NOTE: tfr_morlet() is a legacy function. New code should use .compute_tfr(method=\"morlet\").\n",
      "Applying baseline correction (mode: zscore)\n",
      "NOTE: tfr_morlet() is a legacy function. New code should use .compute_tfr(method=\"morlet\").\n"
     ]
    },
    {
     "name": "stderr",
     "output_type": "stream",
     "text": [
      "[Parallel(n_jobs=10)]: Done 172 tasks      | elapsed:    0.1s\n",
      "[Parallel(n_jobs=10)]: Done 247 out of 247 | elapsed:    0.1s finished\n",
      "[Parallel(n_jobs=10)]: Using backend LokyBackend with 10 concurrent workers.\n",
      "[Parallel(n_jobs=10)]: Done   8 tasks      | elapsed:    0.0s\n",
      "[Parallel(n_jobs=10)]: Done 172 tasks      | elapsed:    0.1s\n",
      "[Parallel(n_jobs=10)]: Done 247 out of 247 | elapsed:    0.1s finished\n",
      "[Parallel(n_jobs=10)]: Using backend LokyBackend with 10 concurrent workers.\n",
      "[Parallel(n_jobs=10)]: Done   8 tasks      | elapsed:    0.0s\n"
     ]
    },
    {
     "name": "stdout",
     "output_type": "stream",
     "text": [
      "Applying baseline correction (mode: zscore)\n",
      "NOTE: tfr_morlet() is a legacy function. New code should use .compute_tfr(method=\"morlet\").\n",
      "Applying baseline correction (mode: zscore)\n",
      "NOTE: tfr_morlet() is a legacy function. New code should use .compute_tfr(method=\"morlet\").\n"
     ]
    },
    {
     "name": "stderr",
     "output_type": "stream",
     "text": [
      "[Parallel(n_jobs=10)]: Done 172 tasks      | elapsed:    0.1s\n",
      "[Parallel(n_jobs=10)]: Done 247 out of 247 | elapsed:    0.1s finished\n",
      "[Parallel(n_jobs=10)]: Using backend LokyBackend with 10 concurrent workers.\n",
      "[Parallel(n_jobs=10)]: Done   8 tasks      | elapsed:    0.0s\n",
      "[Parallel(n_jobs=10)]: Done 172 tasks      | elapsed:    0.1s\n",
      "[Parallel(n_jobs=10)]: Done 247 out of 247 | elapsed:    0.1s finished\n"
     ]
    },
    {
     "name": "stdout",
     "output_type": "stream",
     "text": [
      "Applying baseline correction (mode: zscore)\n",
      "NOTE: tfr_morlet() is a legacy function. New code should use .compute_tfr(method=\"morlet\").\n"
     ]
    },
    {
     "name": "stderr",
     "output_type": "stream",
     "text": [
      "[Parallel(n_jobs=10)]: Using backend LokyBackend with 10 concurrent workers.\n",
      "[Parallel(n_jobs=10)]: Done   8 tasks      | elapsed:    0.0s\n",
      "[Parallel(n_jobs=10)]: Done 172 tasks      | elapsed:    0.1s\n",
      "[Parallel(n_jobs=10)]: Done 247 out of 247 | elapsed:    0.1s finished\n",
      "[Parallel(n_jobs=10)]: Using backend LokyBackend with 10 concurrent workers.\n",
      "[Parallel(n_jobs=10)]: Done   8 tasks      | elapsed:    0.0s\n",
      "[Parallel(n_jobs=10)]: Done 172 tasks      | elapsed:    0.1s\n"
     ]
    },
    {
     "name": "stdout",
     "output_type": "stream",
     "text": [
      "Applying baseline correction (mode: zscore)\n",
      "NOTE: tfr_morlet() is a legacy function. New code should use .compute_tfr(method=\"morlet\").\n",
      "Applying baseline correction (mode: zscore)\n",
      "NOTE: tfr_morlet() is a legacy function. New code should use .compute_tfr(method=\"morlet\").\n"
     ]
    },
    {
     "name": "stderr",
     "output_type": "stream",
     "text": [
      "[Parallel(n_jobs=10)]: Done 247 out of 247 | elapsed:    0.1s finished\n",
      "[Parallel(n_jobs=10)]: Using backend LokyBackend with 10 concurrent workers.\n",
      "[Parallel(n_jobs=10)]: Done   8 tasks      | elapsed:    0.0s\n",
      "[Parallel(n_jobs=10)]: Done 172 tasks      | elapsed:    0.0s\n",
      "[Parallel(n_jobs=10)]: Done 247 out of 247 | elapsed:    0.1s finished\n",
      "[Parallel(n_jobs=10)]: Using backend LokyBackend with 10 concurrent workers.\n",
      "[Parallel(n_jobs=10)]: Done   8 tasks      | elapsed:    0.0s\n",
      "[Parallel(n_jobs=10)]: Done 172 tasks      | elapsed:    0.1s\n"
     ]
    },
    {
     "name": "stdout",
     "output_type": "stream",
     "text": [
      "Applying baseline correction (mode: zscore)\n",
      "NOTE: tfr_morlet() is a legacy function. New code should use .compute_tfr(method=\"morlet\").\n",
      "Applying baseline correction (mode: zscore)\n",
      "NOTE: tfr_morlet() is a legacy function. New code should use .compute_tfr(method=\"morlet\").\n"
     ]
    },
    {
     "name": "stderr",
     "output_type": "stream",
     "text": [
      "[Parallel(n_jobs=10)]: Done 247 out of 247 | elapsed:    0.1s finished\n",
      "[Parallel(n_jobs=10)]: Using backend LokyBackend with 10 concurrent workers.\n",
      "[Parallel(n_jobs=10)]: Done   8 tasks      | elapsed:    0.0s\n",
      "[Parallel(n_jobs=10)]: Done 172 tasks      | elapsed:    0.1s\n",
      "[Parallel(n_jobs=10)]: Done 247 out of 247 | elapsed:    0.1s finished\n",
      "[Parallel(n_jobs=10)]: Using backend LokyBackend with 10 concurrent workers.\n",
      "[Parallel(n_jobs=10)]: Done   8 tasks      | elapsed:    0.0s\n"
     ]
    },
    {
     "name": "stdout",
     "output_type": "stream",
     "text": [
      "Applying baseline correction (mode: zscore)\n",
      "NOTE: tfr_morlet() is a legacy function. New code should use .compute_tfr(method=\"morlet\").\n",
      "Applying baseline correction (mode: zscore)\n",
      "NOTE: tfr_morlet() is a legacy function. New code should use .compute_tfr(method=\"morlet\").\n"
     ]
    },
    {
     "name": "stderr",
     "output_type": "stream",
     "text": [
      "[Parallel(n_jobs=10)]: Done 172 tasks      | elapsed:    0.1s\n",
      "[Parallel(n_jobs=10)]: Done 247 out of 247 | elapsed:    0.1s finished\n",
      "[Parallel(n_jobs=10)]: Using backend LokyBackend with 10 concurrent workers.\n",
      "[Parallel(n_jobs=10)]: Done   8 tasks      | elapsed:    0.0s\n",
      "[Parallel(n_jobs=10)]: Done 172 tasks      | elapsed:    0.1s\n",
      "[Parallel(n_jobs=10)]: Done 247 out of 247 | elapsed:    0.1s finished\n",
      "[Parallel(n_jobs=10)]: Using backend LokyBackend with 10 concurrent workers.\n",
      "[Parallel(n_jobs=10)]: Done   8 tasks      | elapsed:    0.0s\n"
     ]
    },
    {
     "name": "stdout",
     "output_type": "stream",
     "text": [
      "Applying baseline correction (mode: zscore)\n",
      "NOTE: tfr_morlet() is a legacy function. New code should use .compute_tfr(method=\"morlet\").\n",
      "Applying baseline correction (mode: zscore)\n",
      "NOTE: tfr_morlet() is a legacy function. New code should use .compute_tfr(method=\"morlet\").\n"
     ]
    },
    {
     "name": "stderr",
     "output_type": "stream",
     "text": [
      "[Parallel(n_jobs=10)]: Done 172 tasks      | elapsed:    0.1s\n",
      "[Parallel(n_jobs=10)]: Done 247 out of 247 | elapsed:    0.1s finished\n",
      "[Parallel(n_jobs=10)]: Using backend LokyBackend with 10 concurrent workers.\n",
      "[Parallel(n_jobs=10)]: Done   8 tasks      | elapsed:    0.0s\n",
      "[Parallel(n_jobs=10)]: Done 172 tasks      | elapsed:    0.1s\n",
      "[Parallel(n_jobs=10)]: Done 247 out of 247 | elapsed:    0.1s finished\n",
      "[Parallel(n_jobs=10)]: Using backend LokyBackend with 10 concurrent workers.\n",
      "[Parallel(n_jobs=10)]: Done   8 tasks      | elapsed:    0.0s\n"
     ]
    },
    {
     "name": "stdout",
     "output_type": "stream",
     "text": [
      "Applying baseline correction (mode: zscore)\n",
      "NOTE: tfr_morlet() is a legacy function. New code should use .compute_tfr(method=\"morlet\").\n",
      "Applying baseline correction (mode: zscore)\n",
      "NOTE: tfr_morlet() is a legacy function. New code should use .compute_tfr(method=\"morlet\").\n"
     ]
    },
    {
     "name": "stderr",
     "output_type": "stream",
     "text": [
      "[Parallel(n_jobs=10)]: Done 172 tasks      | elapsed:    0.1s\n",
      "[Parallel(n_jobs=10)]: Done 247 out of 247 | elapsed:    0.1s finished\n",
      "[Parallel(n_jobs=10)]: Using backend LokyBackend with 10 concurrent workers.\n",
      "[Parallel(n_jobs=10)]: Done   8 tasks      | elapsed:    0.0s\n",
      "[Parallel(n_jobs=10)]: Done 172 tasks      | elapsed:    0.1s\n",
      "[Parallel(n_jobs=10)]: Done 247 out of 247 | elapsed:    0.1s finished\n",
      "[Parallel(n_jobs=10)]: Using backend LokyBackend with 10 concurrent workers.\n",
      "[Parallel(n_jobs=10)]: Done   8 tasks      | elapsed:    0.0s\n"
     ]
    },
    {
     "name": "stdout",
     "output_type": "stream",
     "text": [
      "Applying baseline correction (mode: zscore)\n",
      "NOTE: tfr_morlet() is a legacy function. New code should use .compute_tfr(method=\"morlet\").\n",
      "Applying baseline correction (mode: zscore)\n",
      "NOTE: tfr_morlet() is a legacy function. New code should use .compute_tfr(method=\"morlet\").\n"
     ]
    },
    {
     "name": "stderr",
     "output_type": "stream",
     "text": [
      "[Parallel(n_jobs=10)]: Done 172 tasks      | elapsed:    0.0s\n",
      "[Parallel(n_jobs=10)]: Done 247 out of 247 | elapsed:    0.1s finished\n",
      "[Parallel(n_jobs=10)]: Using backend LokyBackend with 10 concurrent workers.\n",
      "[Parallel(n_jobs=10)]: Done   8 tasks      | elapsed:    0.0s\n",
      "[Parallel(n_jobs=10)]: Done 172 tasks      | elapsed:    0.1s\n",
      "[Parallel(n_jobs=10)]: Done 247 out of 247 | elapsed:    0.1s finished\n",
      "[Parallel(n_jobs=10)]: Using backend LokyBackend with 10 concurrent workers.\n",
      "[Parallel(n_jobs=10)]: Done   8 tasks      | elapsed:    0.0s\n"
     ]
    },
    {
     "name": "stdout",
     "output_type": "stream",
     "text": [
      "Applying baseline correction (mode: zscore)\n",
      "NOTE: tfr_morlet() is a legacy function. New code should use .compute_tfr(method=\"morlet\").\n",
      "Applying baseline correction (mode: zscore)\n",
      "NOTE: tfr_morlet() is a legacy function. New code should use .compute_tfr(method=\"morlet\").\n"
     ]
    },
    {
     "name": "stderr",
     "output_type": "stream",
     "text": [
      "[Parallel(n_jobs=10)]: Done 172 tasks      | elapsed:    0.1s\n",
      "[Parallel(n_jobs=10)]: Done 247 out of 247 | elapsed:    0.1s finished\n",
      "[Parallel(n_jobs=10)]: Using backend LokyBackend with 10 concurrent workers.\n",
      "[Parallel(n_jobs=10)]: Done   8 tasks      | elapsed:    0.0s\n",
      "[Parallel(n_jobs=10)]: Done 172 tasks      | elapsed:    0.1s\n",
      "[Parallel(n_jobs=10)]: Done 247 out of 247 | elapsed:    0.1s finished\n",
      "[Parallel(n_jobs=10)]: Using backend LokyBackend with 10 concurrent workers.\n",
      "[Parallel(n_jobs=10)]: Done   8 tasks      | elapsed:    0.0s\n"
     ]
    },
    {
     "name": "stdout",
     "output_type": "stream",
     "text": [
      "Applying baseline correction (mode: zscore)\n",
      "NOTE: tfr_morlet() is a legacy function. New code should use .compute_tfr(method=\"morlet\").\n",
      "Applying baseline correction (mode: zscore)\n",
      "NOTE: tfr_morlet() is a legacy function. New code should use .compute_tfr(method=\"morlet\").\n"
     ]
    },
    {
     "name": "stderr",
     "output_type": "stream",
     "text": [
      "[Parallel(n_jobs=10)]: Done 172 tasks      | elapsed:    0.1s\n",
      "[Parallel(n_jobs=10)]: Done 247 out of 247 | elapsed:    0.1s finished\n",
      "[Parallel(n_jobs=10)]: Using backend LokyBackend with 10 concurrent workers.\n",
      "[Parallel(n_jobs=10)]: Done   8 tasks      | elapsed:    0.0s\n",
      "[Parallel(n_jobs=10)]: Done 172 tasks      | elapsed:    0.1s\n",
      "[Parallel(n_jobs=10)]: Done 247 out of 247 | elapsed:    0.1s finished\n",
      "[Parallel(n_jobs=10)]: Using backend LokyBackend with 10 concurrent workers.\n",
      "[Parallel(n_jobs=10)]: Done   8 tasks      | elapsed:    0.0s\n"
     ]
    },
    {
     "name": "stdout",
     "output_type": "stream",
     "text": [
      "Applying baseline correction (mode: zscore)\n",
      "NOTE: tfr_morlet() is a legacy function. New code should use .compute_tfr(method=\"morlet\").\n",
      "Applying baseline correction (mode: zscore)\n",
      "NOTE: tfr_morlet() is a legacy function. New code should use .compute_tfr(method=\"morlet\").\n"
     ]
    },
    {
     "name": "stderr",
     "output_type": "stream",
     "text": [
      "[Parallel(n_jobs=10)]: Done 172 tasks      | elapsed:    0.1s\n",
      "[Parallel(n_jobs=10)]: Done 247 out of 247 | elapsed:    0.1s finished\n",
      "[Parallel(n_jobs=10)]: Using backend LokyBackend with 10 concurrent workers.\n",
      "[Parallel(n_jobs=10)]: Done   8 tasks      | elapsed:    0.0s\n",
      "[Parallel(n_jobs=10)]: Done 172 tasks      | elapsed:    0.1s\n",
      "[Parallel(n_jobs=10)]: Done 247 out of 247 | elapsed:    0.1s finished\n",
      "[Parallel(n_jobs=10)]: Using backend LokyBackend with 10 concurrent workers.\n",
      "[Parallel(n_jobs=10)]: Done   8 tasks      | elapsed:    0.0s\n"
     ]
    },
    {
     "name": "stdout",
     "output_type": "stream",
     "text": [
      "Applying baseline correction (mode: zscore)\n",
      "NOTE: tfr_morlet() is a legacy function. New code should use .compute_tfr(method=\"morlet\").\n",
      "Applying baseline correction (mode: zscore)\n",
      "NOTE: tfr_morlet() is a legacy function. New code should use .compute_tfr(method=\"morlet\").\n"
     ]
    },
    {
     "name": "stderr",
     "output_type": "stream",
     "text": [
      "[Parallel(n_jobs=10)]: Done 172 tasks      | elapsed:    0.1s\n",
      "[Parallel(n_jobs=10)]: Done 247 out of 247 | elapsed:    0.1s finished\n",
      "[Parallel(n_jobs=10)]: Using backend LokyBackend with 10 concurrent workers.\n",
      "[Parallel(n_jobs=10)]: Done   8 tasks      | elapsed:    0.0s\n",
      "[Parallel(n_jobs=10)]: Done 172 tasks      | elapsed:    0.1s\n",
      "[Parallel(n_jobs=10)]: Done 247 out of 247 | elapsed:    0.1s finished\n",
      "[Parallel(n_jobs=10)]: Using backend LokyBackend with 10 concurrent workers.\n"
     ]
    },
    {
     "name": "stdout",
     "output_type": "stream",
     "text": [
      "Applying baseline correction (mode: zscore)\n",
      "NOTE: tfr_morlet() is a legacy function. New code should use .compute_tfr(method=\"morlet\").\n"
     ]
    },
    {
     "name": "stderr",
     "output_type": "stream",
     "text": [
      "[Parallel(n_jobs=10)]: Done   8 tasks      | elapsed:    0.0s\n",
      "[Parallel(n_jobs=10)]: Done 172 tasks      | elapsed:    0.1s\n",
      "[Parallel(n_jobs=10)]: Done 247 out of 247 | elapsed:    0.1s finished\n",
      "[Parallel(n_jobs=10)]: Using backend LokyBackend with 10 concurrent workers.\n",
      "[Parallel(n_jobs=10)]: Done   8 tasks      | elapsed:    0.0s\n",
      "[Parallel(n_jobs=10)]: Done 172 tasks      | elapsed:    0.1s\n"
     ]
    },
    {
     "name": "stdout",
     "output_type": "stream",
     "text": [
      "Applying baseline correction (mode: zscore)\n",
      "NOTE: tfr_morlet() is a legacy function. New code should use .compute_tfr(method=\"morlet\").\n"
     ]
    },
    {
     "name": "stderr",
     "output_type": "stream",
     "text": [
      "[Parallel(n_jobs=10)]: Done 247 out of 247 | elapsed:    0.1s finished\n",
      "[Parallel(n_jobs=10)]: Using backend LokyBackend with 10 concurrent workers.\n",
      "[Parallel(n_jobs=10)]: Done   8 tasks      | elapsed:    0.0s\n",
      "[Parallel(n_jobs=10)]: Done 172 tasks      | elapsed:    0.1s\n"
     ]
    },
    {
     "name": "stdout",
     "output_type": "stream",
     "text": [
      "Applying baseline correction (mode: zscore)\n",
      "NOTE: tfr_morlet() is a legacy function. New code should use .compute_tfr(method=\"morlet\").\n",
      "Applying baseline correction (mode: zscore)\n",
      "NOTE: tfr_morlet() is a legacy function. New code should use .compute_tfr(method=\"morlet\").\n"
     ]
    },
    {
     "name": "stderr",
     "output_type": "stream",
     "text": [
      "[Parallel(n_jobs=10)]: Done 247 out of 247 | elapsed:    0.2s finished\n",
      "[Parallel(n_jobs=10)]: Using backend LokyBackend with 10 concurrent workers.\n",
      "[Parallel(n_jobs=10)]: Done   8 tasks      | elapsed:    0.0s\n",
      "[Parallel(n_jobs=10)]: Done 172 tasks      | elapsed:    0.1s\n",
      "[Parallel(n_jobs=10)]: Done 247 out of 247 | elapsed:    0.1s finished\n",
      "[Parallel(n_jobs=10)]: Using backend LokyBackend with 10 concurrent workers.\n",
      "[Parallel(n_jobs=10)]: Done   8 tasks      | elapsed:    0.0s\n",
      "[Parallel(n_jobs=10)]: Done 172 tasks      | elapsed:    0.1s\n"
     ]
    },
    {
     "name": "stdout",
     "output_type": "stream",
     "text": [
      "Applying baseline correction (mode: zscore)\n",
      "NOTE: tfr_morlet() is a legacy function. New code should use .compute_tfr(method=\"morlet\").\n",
      "Applying baseline correction (mode: zscore)\n",
      "NOTE: tfr_morlet() is a legacy function. New code should use .compute_tfr(method=\"morlet\").\n"
     ]
    },
    {
     "name": "stderr",
     "output_type": "stream",
     "text": [
      "[Parallel(n_jobs=10)]: Done 247 out of 247 | elapsed:    0.1s finished\n",
      "[Parallel(n_jobs=10)]: Using backend LokyBackend with 10 concurrent workers.\n",
      "[Parallel(n_jobs=10)]: Done   8 tasks      | elapsed:    0.0s\n",
      "[Parallel(n_jobs=10)]: Done 172 tasks      | elapsed:    0.1s\n",
      "[Parallel(n_jobs=10)]: Done 247 out of 247 | elapsed:    0.1s finished\n",
      "[Parallel(n_jobs=10)]: Using backend LokyBackend with 10 concurrent workers.\n",
      "[Parallel(n_jobs=10)]: Done   8 tasks      | elapsed:    0.0s\n",
      "[Parallel(n_jobs=10)]: Done 172 tasks      | elapsed:    0.1s\n"
     ]
    },
    {
     "name": "stdout",
     "output_type": "stream",
     "text": [
      "Applying baseline correction (mode: zscore)\n",
      "NOTE: tfr_morlet() is a legacy function. New code should use .compute_tfr(method=\"morlet\").\n",
      "Applying baseline correction (mode: zscore)\n",
      "NOTE: tfr_morlet() is a legacy function. New code should use .compute_tfr(method=\"morlet\").\n"
     ]
    },
    {
     "name": "stderr",
     "output_type": "stream",
     "text": [
      "[Parallel(n_jobs=10)]: Done 247 out of 247 | elapsed:    0.1s finished\n",
      "[Parallel(n_jobs=10)]: Using backend LokyBackend with 10 concurrent workers.\n",
      "[Parallel(n_jobs=10)]: Done   8 tasks      | elapsed:    0.0s\n",
      "[Parallel(n_jobs=10)]: Done 172 tasks      | elapsed:    0.1s\n",
      "[Parallel(n_jobs=10)]: Done 247 out of 247 | elapsed:    0.1s finished\n",
      "[Parallel(n_jobs=10)]: Using backend LokyBackend with 10 concurrent workers.\n",
      "[Parallel(n_jobs=10)]: Done   8 tasks      | elapsed:    0.0s\n",
      "[Parallel(n_jobs=10)]: Done 172 tasks      | elapsed:    0.1s\n"
     ]
    },
    {
     "name": "stdout",
     "output_type": "stream",
     "text": [
      "Applying baseline correction (mode: zscore)\n",
      "NOTE: tfr_morlet() is a legacy function. New code should use .compute_tfr(method=\"morlet\").\n",
      "Applying baseline correction (mode: zscore)\n",
      "NOTE: tfr_morlet() is a legacy function. New code should use .compute_tfr(method=\"morlet\").\n"
     ]
    },
    {
     "name": "stderr",
     "output_type": "stream",
     "text": [
      "[Parallel(n_jobs=10)]: Done 247 out of 247 | elapsed:    0.1s finished\n",
      "[Parallel(n_jobs=10)]: Using backend LokyBackend with 10 concurrent workers.\n",
      "[Parallel(n_jobs=10)]: Done   8 tasks      | elapsed:    0.0s\n",
      "[Parallel(n_jobs=10)]: Done 172 tasks      | elapsed:    0.1s\n",
      "[Parallel(n_jobs=10)]: Done 247 out of 247 | elapsed:    0.1s finished\n",
      "[Parallel(n_jobs=10)]: Using backend LokyBackend with 10 concurrent workers.\n",
      "[Parallel(n_jobs=10)]: Done   8 tasks      | elapsed:    0.0s\n",
      "[Parallel(n_jobs=10)]: Done 172 tasks      | elapsed:    0.1s\n"
     ]
    },
    {
     "name": "stdout",
     "output_type": "stream",
     "text": [
      "Applying baseline correction (mode: zscore)\n",
      "NOTE: tfr_morlet() is a legacy function. New code should use .compute_tfr(method=\"morlet\").\n",
      "Applying baseline correction (mode: zscore)\n",
      "NOTE: tfr_morlet() is a legacy function. New code should use .compute_tfr(method=\"morlet\").\n"
     ]
    },
    {
     "name": "stderr",
     "output_type": "stream",
     "text": [
      "[Parallel(n_jobs=10)]: Done 247 out of 247 | elapsed:    0.1s finished\n",
      "[Parallel(n_jobs=10)]: Using backend LokyBackend with 10 concurrent workers.\n",
      "[Parallel(n_jobs=10)]: Done   8 tasks      | elapsed:    0.0s\n",
      "[Parallel(n_jobs=10)]: Done 172 tasks      | elapsed:    0.1s\n",
      "[Parallel(n_jobs=10)]: Done 247 out of 247 | elapsed:    0.1s finished\n",
      "[Parallel(n_jobs=10)]: Using backend LokyBackend with 10 concurrent workers.\n",
      "[Parallel(n_jobs=10)]: Done   8 tasks      | elapsed:    0.0s\n"
     ]
    },
    {
     "name": "stdout",
     "output_type": "stream",
     "text": [
      "Applying baseline correction (mode: zscore)\n",
      "NOTE: tfr_morlet() is a legacy function. New code should use .compute_tfr(method=\"morlet\").\n",
      "Applying baseline correction (mode: zscore)\n",
      "NOTE: tfr_morlet() is a legacy function. New code should use .compute_tfr(method=\"morlet\").\n"
     ]
    },
    {
     "name": "stderr",
     "output_type": "stream",
     "text": [
      "[Parallel(n_jobs=10)]: Done 172 tasks      | elapsed:    0.1s\n",
      "[Parallel(n_jobs=10)]: Done 247 out of 247 | elapsed:    0.1s finished\n",
      "[Parallel(n_jobs=10)]: Using backend LokyBackend with 10 concurrent workers.\n",
      "[Parallel(n_jobs=10)]: Done   8 tasks      | elapsed:    0.0s\n",
      "[Parallel(n_jobs=10)]: Done 172 tasks      | elapsed:    0.1s\n",
      "[Parallel(n_jobs=10)]: Done 247 out of 247 | elapsed:    0.1s finished\n",
      "[Parallel(n_jobs=10)]: Using backend LokyBackend with 10 concurrent workers.\n",
      "[Parallel(n_jobs=10)]: Done   8 tasks      | elapsed:    0.0s\n"
     ]
    },
    {
     "name": "stdout",
     "output_type": "stream",
     "text": [
      "Applying baseline correction (mode: zscore)\n",
      "NOTE: tfr_morlet() is a legacy function. New code should use .compute_tfr(method=\"morlet\").\n",
      "Applying baseline correction (mode: zscore)\n",
      "NOTE: tfr_morlet() is a legacy function. New code should use .compute_tfr(method=\"morlet\").\n"
     ]
    },
    {
     "name": "stderr",
     "output_type": "stream",
     "text": [
      "[Parallel(n_jobs=10)]: Done 172 tasks      | elapsed:    0.1s\n",
      "[Parallel(n_jobs=10)]: Done 247 out of 247 | elapsed:    0.1s finished\n",
      "[Parallel(n_jobs=10)]: Using backend LokyBackend with 10 concurrent workers.\n",
      "[Parallel(n_jobs=10)]: Done   8 tasks      | elapsed:    0.0s\n",
      "[Parallel(n_jobs=10)]: Done 172 tasks      | elapsed:    0.1s\n",
      "[Parallel(n_jobs=10)]: Done 247 out of 247 | elapsed:    0.1s finished\n",
      "[Parallel(n_jobs=10)]: Using backend LokyBackend with 10 concurrent workers.\n",
      "[Parallel(n_jobs=10)]: Done   8 tasks      | elapsed:    0.0s\n"
     ]
    },
    {
     "name": "stdout",
     "output_type": "stream",
     "text": [
      "Applying baseline correction (mode: zscore)\n",
      "NOTE: tfr_morlet() is a legacy function. New code should use .compute_tfr(method=\"morlet\").\n"
     ]
    },
    {
     "name": "stderr",
     "output_type": "stream",
     "text": [
      "[Parallel(n_jobs=10)]: Done 172 tasks      | elapsed:    0.1s\n",
      "[Parallel(n_jobs=10)]: Done 247 out of 247 | elapsed:    0.1s finished\n",
      "[Parallel(n_jobs=10)]: Using backend LokyBackend with 10 concurrent workers.\n",
      "[Parallel(n_jobs=10)]: Done   8 tasks      | elapsed:    0.1s\n"
     ]
    },
    {
     "name": "stdout",
     "output_type": "stream",
     "text": [
      "Applying baseline correction (mode: zscore)\n",
      "NOTE: tfr_morlet() is a legacy function. New code should use .compute_tfr(method=\"morlet\").\n",
      "Applying baseline correction (mode: zscore)\n",
      "NOTE: tfr_morlet() is a legacy function. New code should use .compute_tfr(method=\"morlet\").\n"
     ]
    },
    {
     "name": "stderr",
     "output_type": "stream",
     "text": [
      "[Parallel(n_jobs=10)]: Done 172 tasks      | elapsed:    0.2s\n",
      "[Parallel(n_jobs=10)]: Done 247 out of 247 | elapsed:    0.2s finished\n",
      "[Parallel(n_jobs=10)]: Using backend LokyBackend with 10 concurrent workers.\n",
      "[Parallel(n_jobs=10)]: Done   8 tasks      | elapsed:    0.0s\n",
      "[Parallel(n_jobs=10)]: Done 172 tasks      | elapsed:    0.1s\n",
      "[Parallel(n_jobs=10)]: Done 247 out of 247 | elapsed:    0.1s finished\n",
      "[Parallel(n_jobs=10)]: Using backend LokyBackend with 10 concurrent workers.\n",
      "[Parallel(n_jobs=10)]: Done   8 tasks      | elapsed:    0.0s\n"
     ]
    },
    {
     "name": "stdout",
     "output_type": "stream",
     "text": [
      "Applying baseline correction (mode: zscore)\n",
      "NOTE: tfr_morlet() is a legacy function. New code should use .compute_tfr(method=\"morlet\").\n",
      "Applying baseline correction (mode: zscore)\n",
      "NOTE: tfr_morlet() is a legacy function. New code should use .compute_tfr(method=\"morlet\").\n"
     ]
    },
    {
     "name": "stderr",
     "output_type": "stream",
     "text": [
      "[Parallel(n_jobs=10)]: Done 172 tasks      | elapsed:    0.4s\n",
      "[Parallel(n_jobs=10)]: Done 247 out of 247 | elapsed:    0.4s finished\n",
      "[Parallel(n_jobs=10)]: Using backend LokyBackend with 10 concurrent workers.\n",
      "[Parallel(n_jobs=10)]: Done   8 tasks      | elapsed:    0.0s\n",
      "[Parallel(n_jobs=10)]: Done 172 tasks      | elapsed:    0.0s\n",
      "[Parallel(n_jobs=10)]: Done 247 out of 247 | elapsed:    0.1s finished\n",
      "[Parallel(n_jobs=10)]: Using backend LokyBackend with 10 concurrent workers.\n",
      "[Parallel(n_jobs=10)]: Done   8 tasks      | elapsed:    0.0s\n"
     ]
    },
    {
     "name": "stdout",
     "output_type": "stream",
     "text": [
      "Applying baseline correction (mode: zscore)\n",
      "NOTE: tfr_morlet() is a legacy function. New code should use .compute_tfr(method=\"morlet\").\n",
      "Applying baseline correction (mode: zscore)\n",
      "NOTE: tfr_morlet() is a legacy function. New code should use .compute_tfr(method=\"morlet\").\n"
     ]
    },
    {
     "name": "stderr",
     "output_type": "stream",
     "text": [
      "[Parallel(n_jobs=10)]: Done 172 tasks      | elapsed:    0.1s\n",
      "[Parallel(n_jobs=10)]: Done 247 out of 247 | elapsed:    0.1s finished\n",
      "[Parallel(n_jobs=10)]: Using backend LokyBackend with 10 concurrent workers.\n",
      "[Parallel(n_jobs=10)]: Done   8 tasks      | elapsed:    0.0s\n",
      "[Parallel(n_jobs=10)]: Done 172 tasks      | elapsed:    0.1s\n",
      "[Parallel(n_jobs=10)]: Done 247 out of 247 | elapsed:    0.1s finished\n",
      "[Parallel(n_jobs=10)]: Using backend LokyBackend with 10 concurrent workers.\n",
      "[Parallel(n_jobs=10)]: Done   8 tasks      | elapsed:    0.0s\n"
     ]
    },
    {
     "name": "stdout",
     "output_type": "stream",
     "text": [
      "Applying baseline correction (mode: zscore)\n",
      "NOTE: tfr_morlet() is a legacy function. New code should use .compute_tfr(method=\"morlet\").\n",
      "Applying baseline correction (mode: zscore)\n",
      "NOTE: tfr_morlet() is a legacy function. New code should use .compute_tfr(method=\"morlet\").\n"
     ]
    },
    {
     "name": "stderr",
     "output_type": "stream",
     "text": [
      "[Parallel(n_jobs=10)]: Done 172 tasks      | elapsed:    0.1s\n",
      "[Parallel(n_jobs=10)]: Done 247 out of 247 | elapsed:    0.1s finished\n",
      "[Parallel(n_jobs=10)]: Using backend LokyBackend with 10 concurrent workers.\n",
      "[Parallel(n_jobs=10)]: Done   8 tasks      | elapsed:    0.0s\n",
      "[Parallel(n_jobs=10)]: Done 172 tasks      | elapsed:    0.1s\n",
      "[Parallel(n_jobs=10)]: Done 247 out of 247 | elapsed:    0.1s finished\n",
      "[Parallel(n_jobs=10)]: Using backend LokyBackend with 10 concurrent workers.\n"
     ]
    },
    {
     "name": "stdout",
     "output_type": "stream",
     "text": [
      "Applying baseline correction (mode: zscore)\n",
      "NOTE: tfr_morlet() is a legacy function. New code should use .compute_tfr(method=\"morlet\").\n"
     ]
    },
    {
     "name": "stderr",
     "output_type": "stream",
     "text": [
      "[Parallel(n_jobs=10)]: Done   8 tasks      | elapsed:    0.0s\n",
      "[Parallel(n_jobs=10)]: Done 172 tasks      | elapsed:    0.1s\n",
      "[Parallel(n_jobs=10)]: Done 247 out of 247 | elapsed:    0.1s finished\n",
      "[Parallel(n_jobs=10)]: Using backend LokyBackend with 10 concurrent workers.\n",
      "[Parallel(n_jobs=10)]: Done   8 tasks      | elapsed:    0.0s\n",
      "[Parallel(n_jobs=10)]: Done 172 tasks      | elapsed:    0.1s\n"
     ]
    },
    {
     "name": "stdout",
     "output_type": "stream",
     "text": [
      "Applying baseline correction (mode: zscore)\n",
      "NOTE: tfr_morlet() is a legacy function. New code should use .compute_tfr(method=\"morlet\").\n",
      "Applying baseline correction (mode: zscore)\n",
      "NOTE: tfr_morlet() is a legacy function. New code should use .compute_tfr(method=\"morlet\").\n"
     ]
    },
    {
     "name": "stderr",
     "output_type": "stream",
     "text": [
      "[Parallel(n_jobs=10)]: Done 247 out of 247 | elapsed:    0.1s finished\n",
      "[Parallel(n_jobs=10)]: Using backend LokyBackend with 10 concurrent workers.\n",
      "[Parallel(n_jobs=10)]: Done   8 tasks      | elapsed:    0.0s\n",
      "[Parallel(n_jobs=10)]: Done 172 tasks      | elapsed:    0.0s\n",
      "[Parallel(n_jobs=10)]: Done 247 out of 247 | elapsed:    0.1s finished\n",
      "[Parallel(n_jobs=10)]: Using backend LokyBackend with 10 concurrent workers.\n",
      "[Parallel(n_jobs=10)]: Done   8 tasks      | elapsed:    0.0s\n",
      "[Parallel(n_jobs=10)]: Done 172 tasks      | elapsed:    0.1s\n"
     ]
    },
    {
     "name": "stdout",
     "output_type": "stream",
     "text": [
      "Applying baseline correction (mode: zscore)\n",
      "NOTE: tfr_morlet() is a legacy function. New code should use .compute_tfr(method=\"morlet\").\n",
      "Applying baseline correction (mode: zscore)\n",
      "NOTE: tfr_morlet() is a legacy function. New code should use .compute_tfr(method=\"morlet\").\n"
     ]
    },
    {
     "name": "stderr",
     "output_type": "stream",
     "text": [
      "[Parallel(n_jobs=10)]: Done 247 out of 247 | elapsed:    0.1s finished\n",
      "[Parallel(n_jobs=10)]: Using backend LokyBackend with 10 concurrent workers.\n",
      "[Parallel(n_jobs=10)]: Done   8 tasks      | elapsed:    0.0s\n",
      "[Parallel(n_jobs=10)]: Done 172 tasks      | elapsed:    0.0s\n",
      "[Parallel(n_jobs=10)]: Done 247 out of 247 | elapsed:    0.1s finished\n",
      "[Parallel(n_jobs=10)]: Using backend LokyBackend with 10 concurrent workers.\n",
      "[Parallel(n_jobs=10)]: Done   8 tasks      | elapsed:    0.0s\n",
      "[Parallel(n_jobs=10)]: Done 172 tasks      | elapsed:    0.0s\n"
     ]
    },
    {
     "name": "stdout",
     "output_type": "stream",
     "text": [
      "Applying baseline correction (mode: zscore)\n",
      "NOTE: tfr_morlet() is a legacy function. New code should use .compute_tfr(method=\"morlet\").\n",
      "Applying baseline correction (mode: zscore)\n",
      "NOTE: tfr_morlet() is a legacy function. New code should use .compute_tfr(method=\"morlet\").\n"
     ]
    },
    {
     "name": "stderr",
     "output_type": "stream",
     "text": [
      "[Parallel(n_jobs=10)]: Done 247 out of 247 | elapsed:    0.1s finished\n",
      "[Parallel(n_jobs=10)]: Using backend LokyBackend with 10 concurrent workers.\n",
      "[Parallel(n_jobs=10)]: Done   8 tasks      | elapsed:    0.0s\n",
      "[Parallel(n_jobs=10)]: Done 172 tasks      | elapsed:    0.1s\n",
      "[Parallel(n_jobs=10)]: Done 247 out of 247 | elapsed:    0.1s finished\n",
      "[Parallel(n_jobs=10)]: Using backend LokyBackend with 10 concurrent workers.\n",
      "[Parallel(n_jobs=10)]: Done   8 tasks      | elapsed:    0.0s\n"
     ]
    },
    {
     "name": "stdout",
     "output_type": "stream",
     "text": [
      "Applying baseline correction (mode: zscore)\n",
      "NOTE: tfr_morlet() is a legacy function. New code should use .compute_tfr(method=\"morlet\").\n",
      "Applying baseline correction (mode: zscore)\n",
      "NOTE: tfr_morlet() is a legacy function. New code should use .compute_tfr(method=\"morlet\").\n"
     ]
    },
    {
     "name": "stderr",
     "output_type": "stream",
     "text": [
      "[Parallel(n_jobs=10)]: Done 172 tasks      | elapsed:    0.1s\n",
      "[Parallel(n_jobs=10)]: Done 247 out of 247 | elapsed:    0.1s finished\n",
      "[Parallel(n_jobs=10)]: Using backend LokyBackend with 10 concurrent workers.\n",
      "[Parallel(n_jobs=10)]: Done   8 tasks      | elapsed:    0.0s\n",
      "[Parallel(n_jobs=10)]: Done 172 tasks      | elapsed:    0.1s\n",
      "[Parallel(n_jobs=10)]: Done 247 out of 247 | elapsed:    0.1s finished\n",
      "[Parallel(n_jobs=10)]: Using backend LokyBackend with 10 concurrent workers.\n",
      "[Parallel(n_jobs=10)]: Done   8 tasks      | elapsed:    0.0s\n"
     ]
    },
    {
     "name": "stdout",
     "output_type": "stream",
     "text": [
      "Applying baseline correction (mode: zscore)\n",
      "NOTE: tfr_morlet() is a legacy function. New code should use .compute_tfr(method=\"morlet\").\n",
      "Applying baseline correction (mode: zscore)\n"
     ]
    },
    {
     "name": "stderr",
     "output_type": "stream",
     "text": [
      "[Parallel(n_jobs=10)]: Done 172 tasks      | elapsed:    0.1s\n",
      "[Parallel(n_jobs=10)]: Done 247 out of 247 | elapsed:    0.1s finished\n",
      "[Parallel(n_jobs=10)]: Using backend LokyBackend with 10 concurrent workers.\n",
      "[Parallel(n_jobs=10)]: Done   8 tasks      | elapsed:    0.0s\n",
      "[Parallel(n_jobs=10)]: Done 172 tasks      | elapsed:    0.1s\n",
      "[Parallel(n_jobs=10)]: Done 247 out of 247 | elapsed:    0.1s finished\n"
     ]
    }
   ],
   "source": [
    "transformed_data = data.get_spectrogram(frequencies=frequencies, \n",
    "                            baseline=baseline, \n",
    "                            cycle_divisor=divisor,\n",
    "                            mode='zscore',\n",
    "                            data_only=True)"
   ]
  },
  {
   "cell_type": "code",
   "execution_count": 300,
   "metadata": {},
   "outputs": [
    {
     "name": "stdout",
     "output_type": "stream",
     "text": [
      "No common samples found\n",
      "Batch 0\n",
      "Anchor: tensor([[[[-4.0976e-01, -6.1888e-01, -8.4325e-01,  ..., -7.5047e-01,\n",
      "           -1.1688e-01,  2.8911e-01],\n",
      "          [-5.1163e-01, -6.6995e-01, -8.5777e-01,  ..., -6.8469e-01,\n",
      "           -1.5786e-01,  1.4306e-01],\n",
      "          [-6.4411e-01, -7.2658e-01, -8.5613e-01,  ..., -5.8858e-01,\n",
      "           -2.2325e-01, -7.0596e-02],\n",
      "          ...,\n",
      "          [-8.8976e-01, -8.3159e-01, -8.3317e-01,  ..., -4.9514e-01,\n",
      "           -3.9532e-01, -4.6813e-01],\n",
      "          [-1.0048e+00, -9.1917e-01, -8.2689e-01,  ..., -3.2600e-01,\n",
      "           -2.9516e-01, -4.5569e-01],\n",
      "          [-1.1898e+00, -1.1021e+00, -9.3643e-01,  ..., -2.0541e-01,\n",
      "           -2.3626e-01, -4.8357e-01]],\n",
      "\n",
      "         [[-6.7489e-01, -8.6086e-01, -9.7357e-01,  ..., -6.6088e-01,\n",
      "            3.2841e-01,  8.0786e-01],\n",
      "          [-7.7901e-01, -9.2862e-01, -1.0201e+00,  ..., -5.7169e-01,\n",
      "            2.5926e-01,  6.0956e-01],\n",
      "          [-9.0408e-01, -9.9962e-01, -1.0577e+00,  ..., -4.4769e-01,\n",
      "            1.3960e-01,  3.0895e-01],\n",
      "          ...,\n",
      "          [-1.1482e-01, -1.1176e-01, -3.7783e-01,  ..., -4.0199e-01,\n",
      "           -4.4116e-01, -4.1053e-01],\n",
      "          [-9.0327e-02, -1.1199e-01, -3.6157e-01,  ..., -1.4304e-01,\n",
      "           -1.1584e-01, -1.2325e-01],\n",
      "          [-4.5161e-02, -1.0030e-01, -3.8343e-01,  ...,  4.0850e-02,\n",
      "            1.9718e-01,  1.9483e-01]],\n",
      "\n",
      "         [[-6.5494e-01, -8.0411e-01, -8.7795e-01,  ..., -1.0900e-01,\n",
      "            1.7410e+00,  2.5977e+00],\n",
      "          [-7.6044e-01, -8.8161e-01, -9.3770e-01,  ...,  8.2432e-02,\n",
      "            1.6810e+00,  2.3324e+00],\n",
      "          [-9.0167e-01, -9.8273e-01, -1.0132e+00,  ...,  3.2767e-01,\n",
      "            1.5282e+00,  1.8836e+00],\n",
      "          ...,\n",
      "          [-1.2007e+00, -9.7484e-01, -9.0941e-01,  ..., -6.3208e-01,\n",
      "           -7.4532e-01, -8.5996e-01],\n",
      "          [-1.1089e+00, -9.9618e-01, -1.0533e+00,  ..., -6.2496e-01,\n",
      "           -6.6814e-01, -7.5405e-01],\n",
      "          [-9.7053e-01, -9.0942e-01, -1.0081e+00,  ..., -6.7741e-01,\n",
      "           -6.3645e-01, -6.6251e-01]],\n",
      "\n",
      "         ...,\n",
      "\n",
      "         [[-7.1724e-01, -8.2394e-01, -7.3781e-01,  ...,  3.5995e-01,\n",
      "           -4.2342e-01, -8.1140e-01],\n",
      "          [-6.8810e-01, -7.8117e-01, -6.9529e-01,  ...,  4.4454e-01,\n",
      "           -3.3801e-01, -7.3534e-01],\n",
      "          [-6.3034e-01, -6.9957e-01, -6.1534e-01,  ...,  5.7390e-01,\n",
      "           -1.8951e-01, -5.9710e-01],\n",
      "          ...,\n",
      "          [-9.2742e-01, -6.2537e-01, -2.7978e-01,  ...,  5.2025e+00,\n",
      "            4.1912e+00,  2.6746e+00],\n",
      "          [-9.6156e-01, -6.7471e-01, -3.2873e-01,  ...,  5.3039e+00,\n",
      "            4.0755e+00,  2.4949e+00],\n",
      "          [-9.5660e-01, -7.3564e-01, -4.7264e-01,  ...,  4.8554e+00,\n",
      "            3.6092e+00,  2.1744e+00]],\n",
      "\n",
      "         [[-7.2949e-01, -8.6286e-01, -8.8784e-01,  ..., -2.9369e-01,\n",
      "           -7.4473e-01, -8.9084e-01],\n",
      "          [-7.2823e-01, -8.5634e-01, -8.7926e-01,  ..., -2.1917e-01,\n",
      "           -6.9471e-01, -8.5921e-01],\n",
      "          [-7.0722e-01, -8.2168e-01, -8.3998e-01,  ..., -6.7264e-02,\n",
      "           -5.7416e-01, -7.7178e-01],\n",
      "          ...,\n",
      "          [-5.1855e-01,  1.4814e-01,  7.3349e-01,  ...,  4.9486e+00,\n",
      "            4.8567e+00,  3.6546e+00],\n",
      "          [-4.2222e-01,  2.4730e-01,  8.1449e-01,  ...,  4.5802e+00,\n",
      "            4.3500e+00,  3.1932e+00],\n",
      "          [-2.9541e-01,  3.2761e-01,  7.7312e-01,  ...,  3.9744e+00,\n",
      "            3.7983e+00,  2.8276e+00]],\n",
      "\n",
      "         [[-7.1230e-01, -8.3063e-01, -8.8585e-01,  ..., -5.0663e-01,\n",
      "           -8.2216e-01, -8.4326e-01],\n",
      "          [-7.2789e-01, -8.4720e-01, -9.0497e-01,  ..., -4.5907e-01,\n",
      "           -7.9591e-01, -8.2792e-01],\n",
      "          [-7.4401e-01, -8.6177e-01, -9.2307e-01,  ..., -3.4489e-01,\n",
      "           -7.1649e-01, -7.7323e-01],\n",
      "          ...,\n",
      "          [ 6.6851e-01,  1.7252e+00,  2.4263e+00,  ...,  1.9810e+00,\n",
      "            2.4903e+00,  2.0639e+00],\n",
      "          [ 7.7037e-01,  1.8173e+00,  2.4861e+00,  ...,  1.8750e+00,\n",
      "            2.1554e+00,  1.6897e+00],\n",
      "          [ 9.0796e-01,  1.9355e+00,  2.5271e+00,  ...,  1.7244e+00,\n",
      "            1.9078e+00,  1.4604e+00]]],\n",
      "\n",
      "\n",
      "        [[[-5.1963e-01, -5.3557e-01, -8.6171e-01,  ...,  3.1330e+00,\n",
      "            1.5992e+00,  2.1898e-01],\n",
      "          [-6.1368e-01, -6.0736e-01, -9.2351e-01,  ...,  2.8713e+00,\n",
      "            1.2599e+00, -5.9949e-02],\n",
      "          [-7.4488e-01, -6.9904e-01, -9.9312e-01,  ...,  2.4288e+00,\n",
      "            7.3221e-01, -4.7639e-01],\n",
      "          ...,\n",
      "          [ 1.0912e-01,  5.1594e-02, -2.8822e-01,  ..., -6.7123e-01,\n",
      "           -6.2005e-01, -5.6885e-01],\n",
      "          [-6.7249e-02, -6.6703e-02, -3.3466e-01,  ..., -8.0558e-01,\n",
      "           -7.3769e-01, -6.8151e-01],\n",
      "          [-2.4526e-01, -1.7204e-01, -3.2475e-01,  ..., -9.1761e-01,\n",
      "           -8.4614e-01, -7.9512e-01]],\n",
      "\n",
      "         [[-4.3732e-01, -5.2936e-01, -9.5060e-01,  ...,  3.3300e+00,\n",
      "            2.2116e+00,  5.5573e-01],\n",
      "          [-5.5042e-01, -5.9736e-01, -9.8953e-01,  ...,  3.1881e+00,\n",
      "            1.9247e+00,  2.8486e-01],\n",
      "          [-7.2139e-01, -6.9046e-01, -1.0284e+00,  ...,  2.9166e+00,\n",
      "            1.4504e+00, -1.4281e-01],\n",
      "          ...,\n",
      "          [ 1.0036e-01,  3.5272e-01,  2.4809e-01,  ..., -5.8761e-01,\n",
      "           -6.4890e-01, -6.9599e-01],\n",
      "          [ 5.0350e-03,  2.4320e-01,  1.3326e-01,  ..., -6.0112e-01,\n",
      "           -6.3183e-01, -6.7859e-01],\n",
      "          [-1.1708e-01,  1.2942e-01,  6.6556e-02,  ..., -6.8496e-01,\n",
      "           -6.7564e-01, -7.1485e-01]],\n",
      "\n",
      "         [[-4.1057e-01, -5.2213e-01, -9.9804e-01,  ...,  2.0202e+00,\n",
      "            1.6633e+00,  4.8204e-01],\n",
      "          [-5.2653e-01, -5.8854e-01, -1.0352e+00,  ...,  1.9257e+00,\n",
      "            1.4318e+00,  2.3776e-01],\n",
      "          [-7.0086e-01, -6.7592e-01, -1.0624e+00,  ...,  1.7151e+00,\n",
      "            1.0227e+00, -1.6086e-01],\n",
      "          ...,\n",
      "          [-7.1944e-01, -7.3452e-01, -7.5345e-01,  ..., -9.3682e-01,\n",
      "           -8.5814e-01, -7.4312e-01],\n",
      "          [-7.6587e-01, -7.8474e-01, -7.8814e-01,  ..., -9.5177e-01,\n",
      "           -8.8391e-01, -7.7304e-01],\n",
      "          [-8.0196e-01, -8.3474e-01, -8.2852e-01,  ..., -9.3261e-01,\n",
      "           -8.6365e-01, -7.6010e-01]],\n",
      "\n",
      "         ...,\n",
      "\n",
      "         [[-4.4573e-01, -7.1671e-01, -7.6885e-01,  ..., -7.4639e-01,\n",
      "           -8.1232e-01, -7.7323e-01],\n",
      "          [-4.4269e-01, -6.8494e-01, -7.2998e-01,  ..., -7.4265e-01,\n",
      "           -8.1827e-01, -7.9195e-01],\n",
      "          [-4.3673e-01, -6.3127e-01, -6.6506e-01,  ..., -7.2196e-01,\n",
      "           -8.1693e-01, -8.1497e-01],\n",
      "          ...,\n",
      "          [ 2.7405e-01,  7.2323e-01,  9.3424e-01,  ..., -9.4575e-01,\n",
      "           -8.6432e-01, -7.5460e-01],\n",
      "          [ 3.4841e-01,  8.9650e-01,  1.1714e+00,  ..., -1.1568e+00,\n",
      "           -1.0722e+00, -9.5774e-01],\n",
      "          [ 3.0184e-01,  8.9667e-01,  1.1541e+00,  ..., -1.5850e+00,\n",
      "           -1.4631e+00, -1.3417e+00]],\n",
      "\n",
      "         [[-5.2229e-01, -6.9072e-01, -8.0577e-01,  ..., -4.1973e-01,\n",
      "           -6.3210e-01, -7.3753e-01],\n",
      "          [-5.3233e-01, -6.8143e-01, -7.8669e-01,  ..., -4.5065e-01,\n",
      "           -6.7823e-01, -7.7914e-01],\n",
      "          [-5.4660e-01, -6.6455e-01, -7.5460e-01,  ..., -4.9478e-01,\n",
      "           -7.4433e-01, -8.3735e-01],\n",
      "          ...,\n",
      "          [ 3.7119e-02,  4.9037e-01,  6.6262e-01,  ..., -9.7216e-01,\n",
      "           -9.2296e-01, -7.6668e-01],\n",
      "          [-4.1319e-03,  6.1393e-01,  8.8904e-01,  ..., -1.2140e+00,\n",
      "           -1.1401e+00, -9.9979e-01],\n",
      "          [-3.3859e-01,  3.8006e-01,  6.8121e-01,  ..., -1.6817e+00,\n",
      "           -1.4881e+00, -1.3931e+00]],\n",
      "\n",
      "         [[-6.1107e-01, -6.7512e-01, -7.9180e-01,  ...,  2.5350e-01,\n",
      "            2.3036e-01,  7.9410e-02],\n",
      "          [-6.3704e-01, -6.8924e-01, -7.9475e-01,  ...,  1.6900e-01,\n",
      "            1.0353e-01, -3.2902e-02],\n",
      "          [-6.7504e-01, -7.0886e-01, -7.9682e-01,  ...,  2.1203e-02,\n",
      "           -1.0209e-01, -2.0823e-01],\n",
      "          ...,\n",
      "          [-9.3238e-01, -8.6669e-01, -8.3727e-01,  ..., -7.7580e-01,\n",
      "           -6.4178e-01, -5.1215e-01],\n",
      "          [-1.0272e+00, -9.5542e-01, -9.0861e-01,  ..., -6.7641e-01,\n",
      "           -5.0502e-01, -4.0950e-01],\n",
      "          [-1.1376e+00, -1.0683e+00, -1.0160e+00,  ..., -6.0642e-01,\n",
      "           -3.5656e-01, -3.0311e-01]]],\n",
      "\n",
      "\n",
      "        [[[-9.3151e-02, -4.7023e-01, -7.2592e-01,  ...,  1.8455e-02,\n",
      "           -4.5165e-01, -7.1491e-01],\n",
      "          [-1.6959e-01, -5.0361e-01, -7.4552e-01,  ...,  5.1913e-02,\n",
      "           -4.3282e-01, -7.0091e-01],\n",
      "          [-2.8427e-01, -5.4789e-01, -7.6246e-01,  ...,  1.2233e-01,\n",
      "           -3.8639e-01, -6.6944e-01],\n",
      "          ...,\n",
      "          [-3.9108e-01, -2.4795e-01, -5.4248e-01,  ...,  8.6778e-01,\n",
      "           -8.4257e-02, -7.0092e-01],\n",
      "          [-3.4978e-01, -3.4278e-02, -1.3714e-01,  ...,  1.4830e+00,\n",
      "            4.1915e-01, -4.3661e-01],\n",
      "          [-4.4851e-01,  1.7136e-01,  3.7178e-01,  ...,  2.3983e+00,\n",
      "            1.0269e+00, -2.5584e-01]],\n",
      "\n",
      "         [[ 5.4400e-01,  2.4066e-01, -5.3863e-01,  ..., -1.8035e-01,\n",
      "           -5.0607e-01, -8.7093e-01],\n",
      "          [ 4.2744e-01,  1.9462e-01, -5.1729e-01,  ..., -6.7113e-02,\n",
      "           -4.6350e-01, -8.4366e-01],\n",
      "          [ 2.3442e-01,  1.1399e-01, -4.7396e-01,  ...,  1.4481e-01,\n",
      "           -3.6040e-01, -7.6920e-01],\n",
      "          ...,\n",
      "          [-6.5815e-01, -6.7830e-01, -6.2582e-01,  ...,  3.0025e+00,\n",
      "            1.0585e+00, -1.8956e-01],\n",
      "          [-6.3354e-01, -7.5688e-01, -7.8557e-01,  ...,  4.0254e+00,\n",
      "            2.0584e+00,  4.9816e-01],\n",
      "          [-6.0605e-01, -7.6409e-01, -8.1561e-01,  ...,  5.1839e+00,\n",
      "            3.2089e+00,  1.2732e+00]],\n",
      "\n",
      "         [[ 7.6764e-02,  4.6909e-01, -7.8562e-02,  ..., -1.7586e-02,\n",
      "           -1.1688e-01, -8.0839e-01],\n",
      "          [-3.2930e-02,  4.2321e-01, -3.6654e-02,  ...,  1.5149e-01,\n",
      "           -9.5853e-02, -8.3544e-01],\n",
      "          [-2.0657e-01,  3.2850e-01,  3.0241e-02,  ...,  4.2532e-01,\n",
      "           -4.9505e-02, -8.3624e-01],\n",
      "          ...,\n",
      "          [-1.1755e+00, -1.1310e+00, -1.1066e+00,  ..., -1.2044e-01,\n",
      "           -6.4398e-01, -8.9877e-01],\n",
      "          [-1.2866e+00, -1.2492e+00, -1.2490e+00,  ...,  6.0947e-02,\n",
      "           -4.7085e-01, -8.3290e-01],\n",
      "          [-1.4110e+00, -1.3804e+00, -1.4078e+00,  ...,  2.4252e-01,\n",
      "           -2.7685e-01, -7.4964e-01]],\n",
      "\n",
      "         ...,\n",
      "\n",
      "         [[-3.0191e-01, -4.6114e-01, -6.1624e-01,  ..., -8.9372e-01,\n",
      "           -8.9889e-01, -8.7829e-01],\n",
      "          [-2.9465e-01, -4.8315e-01, -6.5653e-01,  ..., -9.1373e-01,\n",
      "           -9.1796e-01, -8.9501e-01],\n",
      "          [-2.7393e-01, -5.2059e-01, -7.3189e-01,  ..., -9.4684e-01,\n",
      "           -9.4900e-01, -9.2184e-01],\n",
      "          ...,\n",
      "          [ 6.8795e-02,  2.2498e-01, -3.7708e-03,  ...,  2.2432e-01,\n",
      "           -3.5741e-01, -8.1311e-01],\n",
      "          [-1.1671e-01,  1.6912e-01,  1.3725e-01,  ...,  2.4246e-01,\n",
      "           -4.0442e-01, -9.6798e-01],\n",
      "          [-6.1099e-01, -2.6248e-01, -9.0718e-02,  ..., -9.5811e-02,\n",
      "           -6.4322e-01, -1.2268e+00]],\n",
      "\n",
      "         [[-3.2167e-01, -4.2429e-01, -5.8207e-01,  ..., -8.9170e-01,\n",
      "           -8.2530e-01, -7.5359e-01],\n",
      "          [-3.1615e-01, -4.3797e-01, -6.0866e-01,  ..., -9.1351e-01,\n",
      "           -8.4063e-01, -7.6112e-01],\n",
      "          [-3.0000e-01, -4.6048e-01, -6.5776e-01,  ..., -9.4971e-01,\n",
      "           -8.6375e-01, -7.6918e-01],\n",
      "          ...,\n",
      "          [-5.2664e-01, -6.6676e-01, -9.3653e-01,  ..., -6.6297e-03,\n",
      "           -7.1748e-01, -1.0581e+00],\n",
      "          [-7.4496e-01, -8.3460e-01, -1.0273e+00,  ..., -1.7358e-03,\n",
      "           -7.6558e-01, -1.1831e+00],\n",
      "          [-1.1549e+00, -1.1790e+00, -1.2532e+00,  ..., -2.0342e-01,\n",
      "           -8.7036e-01, -1.3344e+00]],\n",
      "\n",
      "         [[-2.8145e-01, -3.9000e-01, -5.8294e-01,  ..., -6.8801e-01,\n",
      "           -5.4305e-01, -4.7025e-01],\n",
      "          [-2.7181e-01, -3.9505e-01, -6.0029e-01,  ..., -7.0377e-01,\n",
      "           -5.4845e-01, -4.6655e-01],\n",
      "          [-2.4859e-01, -4.0099e-01, -6.3056e-01,  ..., -7.2973e-01,\n",
      "           -5.5382e-01, -4.5422e-01],\n",
      "          ...,\n",
      "          [-1.1491e+00, -1.2473e+00, -1.1382e+00,  ..., -8.4673e-01,\n",
      "           -1.2190e+00, -1.1917e+00],\n",
      "          [-1.2191e+00, -1.3051e+00, -1.2176e+00,  ..., -7.9565e-01,\n",
      "           -1.1693e+00, -1.1679e+00],\n",
      "          [-1.2960e+00, -1.3528e+00, -1.3026e+00,  ..., -7.2947e-01,\n",
      "           -1.0350e+00, -1.0884e+00]]],\n",
      "\n",
      "\n",
      "        ...,\n",
      "\n",
      "\n",
      "        [[[-7.7215e-01, -7.6588e-01, -6.1089e-01,  ...,  6.4936e-02,\n",
      "           -4.2590e-01, -6.7680e-01],\n",
      "          [-8.4595e-01, -8.3595e-01, -6.7972e-01,  ..., -2.4203e-02,\n",
      "           -5.2284e-01, -7.6189e-01],\n",
      "          [-9.5140e-01, -9.3469e-01, -7.7423e-01,  ..., -1.6194e-01,\n",
      "           -6.6706e-01, -8.8497e-01],\n",
      "          ...,\n",
      "          [-3.0882e-01,  5.7637e-01,  1.2947e+00,  ..., -1.2214e+00,\n",
      "           -1.3677e+00, -1.4371e+00],\n",
      "          [-4.3076e-01,  2.5760e-01,  7.6617e-01,  ..., -1.3398e+00,\n",
      "           -1.4783e+00, -1.5169e+00],\n",
      "          [-5.4995e-01, -4.4675e-02,  2.5244e-01,  ..., -1.4532e+00,\n",
      "           -1.5863e+00, -1.5981e+00]],\n",
      "\n",
      "         [[-5.8661e-01, -5.9688e-01, -5.0770e-01,  ...,  8.3633e-01,\n",
      "            5.9148e-01,  1.2656e-01],\n",
      "          [-6.4792e-01, -6.7502e-01, -6.0333e-01,  ...,  7.2891e-01,\n",
      "            4.5398e-01,  1.6799e-02],\n",
      "          [-7.3409e-01, -7.8301e-01, -7.3492e-01,  ...,  5.3360e-01,\n",
      "            2.3048e-01, -1.5222e-01],\n",
      "          ...,\n",
      "          [-7.5165e-01, -7.2844e-01, -6.7687e-01,  ..., -6.1783e-01,\n",
      "           -4.4692e-01, -4.8250e-01],\n",
      "          [-6.7429e-01, -5.9302e-01, -5.1774e-01,  ..., -6.5644e-01,\n",
      "           -4.6978e-01, -4.7087e-01],\n",
      "          [-6.4090e-01, -5.1070e-01, -4.0820e-01,  ..., -6.6430e-01,\n",
      "           -4.7414e-01, -4.6197e-01]],\n",
      "\n",
      "         [[-5.7273e-01, -6.9860e-01, -7.0830e-01,  ...,  2.4152e-01,\n",
      "            6.7385e-01,  7.4668e-01],\n",
      "          [-6.4211e-01, -7.8429e-01, -8.1012e-01,  ...,  7.4768e-02,\n",
      "            4.7776e-01,  5.6833e-01],\n",
      "          [-7.2935e-01, -8.8481e-01, -9.2680e-01,  ..., -1.9121e-01,\n",
      "            1.8507e-01,  3.0621e-01],\n",
      "          ...,\n",
      "          [-7.9022e-01, -6.3647e-01, -3.7584e-01,  ..., -1.6572e-01,\n",
      "            4.2499e-01,  2.8269e-01],\n",
      "          [-6.9027e-01, -4.1153e-01, -1.0268e-01,  ..., -3.7261e-01,\n",
      "            2.1957e-02, -1.0885e-01],\n",
      "          [-7.0856e-01, -3.3979e-01,  1.4561e-02,  ..., -5.1539e-01,\n",
      "           -2.3038e-01, -3.6800e-01]],\n",
      "\n",
      "         ...,\n",
      "\n",
      "         [[-9.7631e-01, -8.4757e-01, -4.4303e-01,  ..., -1.0026e+00,\n",
      "           -9.6535e-01, -8.8643e-01],\n",
      "          [-9.4331e-01, -8.0216e-01, -3.8747e-01,  ..., -1.0336e+00,\n",
      "           -9.9533e-01, -9.1290e-01],\n",
      "          [-8.7124e-01, -7.0560e-01, -2.7583e-01,  ..., -1.0836e+00,\n",
      "           -1.0416e+00, -9.5216e-01],\n",
      "          ...,\n",
      "          [-1.1105e+00, -1.1345e+00, -1.1279e+00,  ..., -4.2305e-01,\n",
      "           -3.9095e-01, -7.7319e-01],\n",
      "          [-1.2235e+00, -1.3577e+00, -1.4131e+00,  ...,  4.1616e-02,\n",
      "           -2.0649e-01, -7.6684e-01],\n",
      "          [-1.1915e+00, -1.4271e+00, -1.5270e+00,  ...,  6.9237e-01,\n",
      "            8.4014e-02, -6.5434e-01]],\n",
      "\n",
      "         [[-8.5334e-01, -9.4971e-01, -8.1959e-01,  ..., -8.2061e-01,\n",
      "           -7.2751e-01, -6.5211e-01],\n",
      "          [-8.2915e-01, -9.2680e-01, -7.9878e-01,  ..., -8.5340e-01,\n",
      "           -7.6119e-01, -6.7813e-01],\n",
      "          [-7.7123e-01, -8.6756e-01, -7.4439e-01,  ..., -9.0904e-01,\n",
      "           -8.1640e-01, -7.1803e-01],\n",
      "          ...,\n",
      "          [-7.0007e-01, -6.3257e-01, -5.1290e-01,  ..., -3.1440e-02,\n",
      "            1.6157e-02, -2.9583e-01],\n",
      "          [-8.3545e-01, -8.5800e-01, -7.9891e-01,  ...,  3.7512e-01,\n",
      "            1.9342e-01, -3.1769e-01],\n",
      "          [-9.2926e-01, -1.0784e+00, -1.0874e+00,  ...,  1.0307e+00,\n",
      "            4.7834e-01, -2.8303e-01]],\n",
      "\n",
      "         [[-7.1911e-01, -9.3779e-01, -9.4347e-01,  ..., -6.0065e-01,\n",
      "           -4.8579e-01, -4.3210e-01],\n",
      "          [-6.9424e-01, -9.2351e-01, -9.3873e-01,  ..., -6.3911e-01,\n",
      "           -5.2332e-01, -4.5716e-01],\n",
      "          [-6.3440e-01, -8.7912e-01, -9.1275e-01,  ..., -7.0620e-01,\n",
      "           -5.8651e-01, -4.9581e-01],\n",
      "          ...,\n",
      "          [-9.8186e-01, -9.1380e-01, -7.2628e-01,  ..., -7.4461e-02,\n",
      "           -7.5270e-02, -4.0468e-01],\n",
      "          [-1.1374e+00, -1.1577e+00, -1.0266e+00,  ...,  2.9301e-01,\n",
      "            5.9067e-02, -4.6840e-01],\n",
      "          [-1.1884e+00, -1.3132e+00, -1.2308e+00,  ...,  8.2192e-01,\n",
      "            2.5707e-01, -4.7998e-01]]],\n",
      "\n",
      "\n",
      "        [[[-7.1243e-01, -6.0134e-01, -8.6777e-01,  ..., -9.4275e-01,\n",
      "           -1.1205e+00, -8.4873e-01],\n",
      "          [-9.5712e-01, -8.0799e-01, -9.8994e-01,  ..., -1.0997e+00,\n",
      "           -1.2619e+00, -1.0072e+00],\n",
      "          [-1.3186e+00, -1.1206e+00, -1.1717e+00,  ..., -1.3060e+00,\n",
      "           -1.4411e+00, -1.2229e+00],\n",
      "          ...,\n",
      "          [-7.8065e-01, -3.7851e-01,  2.1525e-02,  ...,  2.2312e+00,\n",
      "            1.7132e-01, -9.3238e-01],\n",
      "          [-6.9376e-01, -6.2057e-02,  6.3166e-01,  ...,  2.2057e+00,\n",
      "            1.4025e-01, -9.9597e-01],\n",
      "          [-5.1685e-01,  1.6907e-01,  9.7804e-01,  ...,  1.6612e+00,\n",
      "            6.1938e-02, -8.5521e-01]],\n",
      "\n",
      "         [[-3.6737e-01, -2.5537e-01, -6.2536e-01,  ..., -7.0171e-01,\n",
      "           -9.9481e-01, -7.3672e-01],\n",
      "          [-5.7372e-01, -4.1504e-01, -6.9552e-01,  ..., -7.9770e-01,\n",
      "           -1.0798e+00, -8.4349e-01],\n",
      "          [-9.0905e-01, -6.8401e-01, -8.2407e-01,  ..., -9.3498e-01,\n",
      "           -1.1973e+00, -1.0033e+00],\n",
      "          ...,\n",
      "          [-1.0720e+00, -1.2226e+00, -1.4366e+00,  ...,  6.7188e+00,\n",
      "            4.0557e+00,  1.5694e+00],\n",
      "          [-1.1413e+00, -1.1076e+00, -1.1373e+00,  ...,  4.7122e+00,\n",
      "            2.5044e+00,  5.4611e-01],\n",
      "          [-1.0433e+00, -8.4641e-01, -6.7939e-01,  ...,  2.7095e+00,\n",
      "            1.1801e+00, -1.6504e-01]],\n",
      "\n",
      "         [[-6.9282e-01, -7.3078e-01, -9.1808e-01,  ..., -7.0457e-01,\n",
      "           -9.3854e-01, -6.5302e-01],\n",
      "          [-8.4326e-01, -8.5523e-01, -1.0079e+00,  ..., -7.6593e-01,\n",
      "           -9.9079e-01, -7.2577e-01],\n",
      "          [-1.0791e+00, -1.0524e+00, -1.1504e+00,  ..., -8.4226e-01,\n",
      "           -1.0501e+00, -8.2753e-01],\n",
      "          ...,\n",
      "          [-1.0684e+00, -1.1781e+00, -1.0818e+00,  ..., -1.4062e-01,\n",
      "            2.6648e-01,  1.5661e-01],\n",
      "          [-1.1700e+00, -1.1624e+00, -9.4416e-01,  ..., -4.3064e-01,\n",
      "           -1.2553e-01, -2.9101e-01],\n",
      "          [-1.0663e+00, -9.0830e-01, -5.4413e-01,  ..., -6.0249e-01,\n",
      "           -3.9071e-01, -5.7178e-01]],\n",
      "\n",
      "         ...,\n",
      "\n",
      "         [[-6.3985e-01, -7.7556e-01, -8.8834e-01,  ..., -8.6082e-01,\n",
      "           -7.8974e-01, -7.1463e-01],\n",
      "          [-6.4464e-01, -7.6994e-01, -8.7507e-01,  ..., -8.9141e-01,\n",
      "           -8.1820e-01, -7.3796e-01],\n",
      "          [-6.4775e-01, -7.5469e-01, -8.4781e-01,  ..., -9.4102e-01,\n",
      "           -8.6292e-01, -7.7218e-01],\n",
      "          ...,\n",
      "          [-2.4791e-01,  2.6145e-01,  2.4436e-01,  ...,  1.9167e+00,\n",
      "            1.1300e+00,  1.9368e-01],\n",
      "          [-7.7193e-02,  5.6478e-01,  6.0475e-01,  ...,  2.5494e+00,\n",
      "            1.4369e+00,  2.7045e-01],\n",
      "          [ 1.5788e-01,  1.0311e+00,  1.2424e+00,  ...,  3.1224e+00,\n",
      "            1.6753e+00,  2.9667e-01]],\n",
      "\n",
      "         [[-3.4526e-01, -6.3039e-01, -8.9084e-01,  ..., -6.7666e-01,\n",
      "           -5.7130e-01, -5.0534e-01],\n",
      "          [-3.2250e-01, -5.9571e-01, -8.4942e-01,  ..., -7.2010e-01,\n",
      "           -6.0830e-01, -5.3067e-01],\n",
      "          [-2.7456e-01, -5.2727e-01, -7.7216e-01,  ..., -7.9257e-01,\n",
      "           -6.6860e-01, -5.6802e-01],\n",
      "          ...,\n",
      "          [-5.9081e-02,  2.7890e-02, -2.0375e-01,  ...,  2.0135e+00,\n",
      "            1.5050e+00,  7.6092e-01],\n",
      "          [ 2.6178e-02,  1.6648e-01, -8.0998e-02,  ...,  2.2686e+00,\n",
      "            1.5768e+00,  7.2401e-01],\n",
      "          [ 1.6901e-01,  4.6069e-01,  2.5560e-01,  ...,  2.6549e+00,\n",
      "            1.7083e+00,  6.8993e-01]],\n",
      "\n",
      "         [[-2.0249e-01, -5.4793e-01, -8.7409e-01,  ..., -3.9385e-01,\n",
      "           -2.1033e-01, -1.3646e-01],\n",
      "          [-1.6847e-01, -5.0239e-01, -8.2287e-01,  ..., -4.4050e-01,\n",
      "           -2.4451e-01, -1.5359e-01],\n",
      "          [-9.9515e-02, -4.1425e-01, -7.2868e-01,  ..., -5.1857e-01,\n",
      "           -2.9994e-01, -1.7583e-01],\n",
      "          ...,\n",
      "          [-1.1321e-01, -1.2079e-01, -3.4174e-01,  ...,  2.4102e+00,\n",
      "            2.1873e+00,  1.5049e+00],\n",
      "          [-9.2796e-02, -6.7823e-02, -2.8441e-01,  ...,  2.3640e+00,\n",
      "            2.0779e+00,  1.3733e+00],\n",
      "          [-6.1756e-02,  4.1045e-02, -1.2735e-01,  ...,  2.2991e+00,\n",
      "            2.0282e+00,  1.3235e+00]]],\n",
      "\n",
      "\n",
      "        [[[-6.3895e-01, -5.0877e-01, -3.8974e-01,  ..., -6.9558e-01,\n",
      "           -7.2779e-01, -1.9369e-01],\n",
      "          [-7.3455e-01, -6.1227e-01, -4.8243e-01,  ..., -6.6500e-01,\n",
      "           -6.9070e-01, -2.0404e-01],\n",
      "          [-8.7017e-01, -7.6237e-01, -6.2038e-01,  ..., -6.2205e-01,\n",
      "           -6.3333e-01, -2.1971e-01],\n",
      "          ...,\n",
      "          [-1.0676e+00, -7.9441e-01, -5.8579e-01,  ...,  1.8121e-01,\n",
      "            1.8793e+00,  3.2038e+00],\n",
      "          [-9.5379e-01, -6.0925e-01, -3.4913e-01,  ...,  8.8692e-02,\n",
      "            2.3187e+00,  4.2311e+00],\n",
      "          [-8.3792e-01, -4.2172e-01, -1.0634e-01,  ...,  1.2054e-01,\n",
      "            2.9461e+00,  5.4918e+00]],\n",
      "\n",
      "         [[-6.8521e-01, -6.4228e-01, -5.6821e-01,  ..., -6.9869e-01,\n",
      "           -5.2491e-01, -2.3724e-01],\n",
      "          [-7.5258e-01, -7.1202e-01, -6.3483e-01,  ..., -7.0970e-01,\n",
      "           -5.4962e-01, -2.8913e-01],\n",
      "          [-8.5143e-01, -8.1491e-01, -7.3412e-01,  ..., -7.2982e-01,\n",
      "           -5.8934e-01, -3.7026e-01],\n",
      "          ...,\n",
      "          [-1.2067e+00, -8.1447e-01, -3.0249e-01,  ..., -2.7827e-01,\n",
      "            7.8897e-01,  1.4205e+00],\n",
      "          [-1.0676e+00, -5.7461e-01,  5.3069e-02,  ...,  2.0843e-01,\n",
      "            1.4942e+00,  2.2213e+00],\n",
      "          [-9.4768e-01, -3.3031e-01,  4.5783e-01,  ...,  8.4264e-01,\n",
      "            2.3943e+00,  3.2639e+00]],\n",
      "\n",
      "         [[-6.5196e-01, -6.1377e-01, -5.4886e-01,  ..., -6.2914e-01,\n",
      "           -5.1625e-01, -4.3980e-01],\n",
      "          [-7.1338e-01, -6.7675e-01, -6.0936e-01,  ..., -6.7277e-01,\n",
      "           -5.6878e-01, -5.0121e-01],\n",
      "          [-8.0615e-01, -7.7221e-01, -7.0190e-01,  ..., -7.4092e-01,\n",
      "           -6.5026e-01, -5.9630e-01],\n",
      "          ...,\n",
      "          [-7.4912e-01, -4.2210e-03,  9.4827e-01,  ..., -4.7152e-01,\n",
      "           -2.3889e-01, -2.4762e-01],\n",
      "          [-6.0533e-01,  2.2622e-01,  1.2622e+00,  ..., -2.3076e-01,\n",
      "            9.7749e-04, -2.9424e-02],\n",
      "          [-5.2555e-01,  4.0050e-01,  1.5517e+00,  ..., -6.3569e-02,\n",
      "            1.6342e-01,  1.3807e-01]],\n",
      "\n",
      "         ...,\n",
      "\n",
      "         [[-7.4775e-02, -2.9399e-01, -8.1545e-01,  ..., -3.5167e-02,\n",
      "            1.0419e+00,  1.9530e+00],\n",
      "          [-1.3182e-01, -3.0049e-01, -7.5838e-01,  ..., -1.8336e-01,\n",
      "            9.5413e-01,  1.9155e+00],\n",
      "          [-2.2866e-01, -3.1844e-01, -6.6504e-01,  ..., -3.9713e-01,\n",
      "            8.2343e-01,  1.8513e+00],\n",
      "          ...,\n",
      "          [-3.8618e-01, -2.9619e-01, -3.5170e-01,  ..., -5.8154e-01,\n",
      "           -4.8449e-01, -4.9126e-01],\n",
      "          [-3.3719e-01, -2.1459e-01, -2.3635e-01,  ..., -5.7392e-01,\n",
      "           -4.7227e-01, -4.7315e-01],\n",
      "          [-2.8340e-01, -1.3465e-01, -1.4284e-01,  ..., -5.4942e-01,\n",
      "           -4.5001e-01, -4.5416e-01]],\n",
      "\n",
      "         [[-7.6009e-01, -8.5032e-01, -9.8562e-01,  ...,  2.0774e+00,\n",
      "            2.8411e+00,  2.9343e+00],\n",
      "          [-8.2519e-01, -8.9245e-01, -9.9567e-01,  ...,  1.7270e+00,\n",
      "            2.5636e+00,  2.7419e+00],\n",
      "          [-9.2041e-01, -9.5559e-01, -1.0089e+00,  ...,  1.1787e+00,\n",
      "            2.1198e+00,  2.4299e+00],\n",
      "          ...,\n",
      "          [-1.6211e-01, -4.9177e-02, -2.5248e-01,  ..., -5.2164e-01,\n",
      "           -6.5236e-01, -7.8473e-01],\n",
      "          [-4.1203e-02,  1.4717e-01,  2.8339e-02,  ..., -5.9111e-01,\n",
      "           -6.5994e-01, -7.4596e-01],\n",
      "          [ 8.8880e-02,  3.2830e-01,  2.5898e-01,  ..., -6.3886e-01,\n",
      "           -6.3709e-01, -6.7586e-01]],\n",
      "\n",
      "         [[-1.0381e+00, -1.0294e+00, -9.4692e-01,  ...,  1.1864e+00,\n",
      "            1.8742e+00,  2.2594e+00],\n",
      "          [-1.1129e+00, -1.1045e+00, -1.0276e+00,  ...,  8.3723e-01,\n",
      "            1.6147e+00,  2.0912e+00],\n",
      "          [-1.2172e+00, -1.2096e+00, -1.1422e+00,  ...,  3.1083e-01,\n",
      "            1.2151e+00,  1.8257e+00],\n",
      "          ...,\n",
      "          [-2.8466e-02,  2.2140e-01,  1.1899e-01,  ...,  1.4782e-01,\n",
      "           -3.0097e-01, -6.4542e-01],\n",
      "          [ 5.3110e-02,  4.1904e-01,  4.4465e-01,  ...,  5.0066e-02,\n",
      "           -3.7545e-01, -6.9605e-01],\n",
      "          [ 8.4824e-02,  5.0666e-01,  6.2074e-01,  ..., -1.9175e-01,\n",
      "           -4.9422e-01, -7.2773e-01]]]], dtype=torch.float64)\n",
      "Positive: tensor([[[[-5.9569e-01, -1.1062e+00, -9.0011e-01,  ..., -1.0596e+00,\n",
      "           -1.0962e+00, -1.1833e+00],\n",
      "          [-5.9793e-01, -1.0388e+00, -8.1301e-01,  ..., -1.1442e+00,\n",
      "           -1.1893e+00, -1.2783e+00],\n",
      "          [-5.7955e-01, -8.8499e-01, -6.3589e-01,  ..., -1.2186e+00,\n",
      "           -1.2724e+00, -1.3590e+00],\n",
      "          ...,\n",
      "          [ 9.5439e-01,  1.7271e+00,  1.9320e+00,  ...,  4.2242e+00,\n",
      "            2.8040e+00,  1.1457e+00],\n",
      "          [ 5.7394e-01,  1.4030e+00,  1.8348e+00,  ...,  3.8304e+00,\n",
      "            2.2847e+00,  6.3877e-01],\n",
      "          [-1.8674e-01,  4.4229e-01,  9.8964e-01,  ...,  2.3353e+00,\n",
      "            9.9146e-01, -2.5119e-01]],\n",
      "\n",
      "         [[-7.9370e-01, -8.1008e-01, -8.9116e-01,  ..., -7.8521e-01,\n",
      "           -8.9061e-01, -9.3047e-01],\n",
      "          [-8.6944e-01, -8.7624e-01, -9.4365e-01,  ..., -8.5347e-01,\n",
      "           -9.5887e-01, -9.9873e-01],\n",
      "          [-9.6068e-01, -9.5380e-01, -1.0008e+00,  ..., -9.3344e-01,\n",
      "           -1.0354e+00, -1.0743e+00],\n",
      "          ...,\n",
      "          [ 4.5501e-01,  1.2570e+00,  1.6897e+00,  ..., -2.6583e-01,\n",
      "           -4.5769e-01, -7.0307e-01],\n",
      "          [ 4.1721e-01,  1.2093e+00,  1.6979e+00,  ..., -3.2761e-01,\n",
      "           -4.8144e-01, -6.9384e-01],\n",
      "          [ 2.9453e-01,  1.0316e+00,  1.5744e+00,  ..., -4.6237e-01,\n",
      "           -5.6252e-01, -7.2553e-01]],\n",
      "\n",
      "         [[-8.9503e-01, -8.1386e-01, -2.3471e-01,  ..., -7.5351e-01,\n",
      "           -7.9522e-01, -8.5998e-01],\n",
      "          [-9.2760e-01, -8.3190e-01, -2.6333e-01,  ..., -8.4974e-01,\n",
      "           -8.9820e-01, -9.6191e-01],\n",
      "          [-9.5898e-01, -8.4020e-01, -3.0028e-01,  ..., -9.8169e-01,\n",
      "           -1.0377e+00, -1.0979e+00],\n",
      "          ...,\n",
      "          [ 4.8706e-02,  1.2186e+00,  1.8076e+00,  ..., -8.8840e-01,\n",
      "           -9.5942e-01, -1.0925e+00],\n",
      "          [-5.4337e-02,  1.1989e+00,  1.9316e+00,  ..., -6.5772e-01,\n",
      "           -8.4680e-01, -1.0877e+00],\n",
      "          [-1.8333e-01,  1.1073e+00,  2.0308e+00,  ..., -4.4481e-01,\n",
      "           -7.1954e-01, -1.0508e+00]],\n",
      "\n",
      "         ...,\n",
      "\n",
      "         [[ 1.9474e+00, -1.0198e-01, -5.9174e-01,  ..., -5.7255e-01,\n",
      "           -8.5536e-01, -6.4049e-01],\n",
      "          [ 2.0443e+00,  2.1416e-01, -2.3006e-01,  ..., -5.7172e-01,\n",
      "           -8.2854e-01, -6.3370e-01],\n",
      "          [ 2.1383e+00,  6.6989e-01,  3.0109e-01,  ..., -5.5155e-01,\n",
      "           -7.6253e-01, -6.0190e-01],\n",
      "          ...,\n",
      "          [ 1.1359e-01, -1.8697e-01, -7.7653e-01,  ..., -5.9081e-01,\n",
      "           -5.1064e-01, -4.8662e-01],\n",
      "          [ 4.5793e-02, -1.9788e-01, -7.2081e-01,  ..., -5.8688e-01,\n",
      "           -7.0920e-01, -6.7445e-01],\n",
      "          [-1.7560e-02, -1.8492e-01, -6.3373e-01,  ..., -7.4426e-01,\n",
      "           -9.9762e-01, -8.9785e-01]],\n",
      "\n",
      "         [[ 4.6401e-01, -7.4806e-01, -5.4714e-01,  ..., -8.7105e-01,\n",
      "           -1.0175e+00, -9.7684e-01],\n",
      "          [ 5.3143e-01, -5.5952e-01, -3.4324e-01,  ..., -9.7972e-01,\n",
      "           -1.1166e+00, -1.0797e+00],\n",
      "          [ 6.2937e-01, -2.4239e-01, -4.2524e-04,  ..., -1.1203e+00,\n",
      "           -1.2383e+00, -1.2085e+00],\n",
      "          ...,\n",
      "          [ 3.1395e-01,  6.1316e-02, -4.0776e-01,  ...,  7.6917e-01,\n",
      "            4.2376e-01,  1.7944e-02],\n",
      "          [-3.4102e-02, -3.7390e-01, -8.7096e-01,  ...,  4.6252e-01,\n",
      "           -2.2663e-01, -5.1067e-01],\n",
      "          [-3.6763e-01, -7.1748e-01, -1.2072e+00,  ...,  3.3305e-02,\n",
      "           -8.6567e-01, -1.0107e+00]],\n",
      "\n",
      "         [[-5.5508e-01, -9.8325e-01, -4.9409e-01,  ..., -9.0559e-01,\n",
      "           -9.3344e-01, -1.0067e+00],\n",
      "          [-5.8088e-01, -9.5494e-01, -4.5199e-01,  ..., -1.0484e+00,\n",
      "           -1.0778e+00, -1.1539e+00],\n",
      "          [-6.0616e-01, -8.7906e-01, -3.5450e-01,  ..., -1.2549e+00,\n",
      "           -1.2875e+00, -1.3677e+00],\n",
      "          ...,\n",
      "          [ 1.3931e-01,  5.6233e-01,  1.0297e+00,  ...,  6.9157e-01,\n",
      "            1.3273e-01, -4.0991e-01],\n",
      "          [-2.0373e-01,  1.1697e-02,  3.6967e-01,  ...,  5.4471e-01,\n",
      "           -2.4431e-01, -7.1024e-01],\n",
      "          [-5.8984e-01, -5.8614e-01, -4.1596e-01,  ...,  2.4438e-01,\n",
      "           -6.5487e-01, -1.0091e+00]]],\n",
      "\n",
      "\n",
      "        [[[-1.6354e-01, -1.4225e-01, -4.1517e-01,  ...,  8.1663e+00,\n",
      "            1.9518e+00, -4.1285e-01],\n",
      "          [-2.8493e-01, -2.3212e-01, -4.3157e-01,  ...,  8.3552e+00,\n",
      "            2.5682e+00,  2.6391e-01],\n",
      "          [-4.5808e-01, -3.6758e-01, -4.6237e-01,  ...,  8.5236e+00,\n",
      "            3.4107e+00,  1.1964e+00],\n",
      "          ...,\n",
      "          [-9.5083e-01, -1.0076e+00, -7.0193e-01,  ...,  2.2511e+00,\n",
      "            7.4805e+00,  1.0883e+01],\n",
      "          [-5.3105e-01, -3.9755e-01, -3.2465e-02,  ...,  4.1748e+00,\n",
      "            9.7195e+00,  1.2960e+01],\n",
      "          [ 6.0782e-02,  4.2150e-01,  7.2932e-01,  ...,  6.5868e+00,\n",
      "            1.2024e+01,  1.4632e+01]],\n",
      "\n",
      "         [[ 5.1879e-02,  7.0580e-02, -2.1892e-01,  ...,  4.4389e+00,\n",
      "            8.1636e-01, -5.4591e-01],\n",
      "          [-8.3180e-02, -4.6268e-02, -2.7962e-01,  ...,  4.5873e+00,\n",
      "            1.1775e+00, -1.6778e-01],\n",
      "          [-2.7715e-01, -2.1998e-01, -3.7163e-01,  ...,  4.7350e+00,\n",
      "            1.6851e+00,  3.7072e-01],\n",
      "          ...,\n",
      "          [ 3.9750e-02, -1.1713e-01, -7.3521e-01,  ...,  4.1060e-01,\n",
      "            3.6625e+00,  6.4276e+00],\n",
      "          [ 3.0225e-01, -6.1504e-03, -8.7535e-01,  ..., -3.5481e-01,\n",
      "            3.6174e+00,  7.2851e+00],\n",
      "          [ 5.4082e-01,  1.9632e-01, -7.3223e-01,  ..., -6.3606e-02,\n",
      "            4.1041e+00,  7.9651e+00]],\n",
      "\n",
      "         [[ 1.2656e-01, -1.0187e-02, -3.8428e-01,  ...,  1.8454e+00,\n",
      "           -3.2243e-01, -7.1743e-01],\n",
      "          [-6.2168e-02, -1.8362e-01, -5.1302e-01,  ...,  1.9230e+00,\n",
      "           -8.8119e-02, -5.0490e-01],\n",
      "          [-3.1717e-01, -4.1659e-01, -6.7601e-01,  ...,  1.9959e+00,\n",
      "            2.5484e-01, -1.9324e-01],\n",
      "          ...,\n",
      "          [-7.4646e-01, -6.5227e-01, -5.8821e-01,  ..., -7.6568e-01,\n",
      "           -6.2049e-01, -2.9513e-02],\n",
      "          [-8.9206e-01, -8.2133e-01, -6.9570e-01,  ..., -1.0197e-01,\n",
      "           -1.6810e-01,  1.1008e-01],\n",
      "          [-1.0289e+00, -9.9699e-01, -8.3653e-01,  ...,  7.7218e-01,\n",
      "            4.3275e-01,  3.3014e-01]],\n",
      "\n",
      "         ...,\n",
      "\n",
      "         [[ 9.9055e-02,  1.0089e+00,  1.2262e+00,  ..., -8.1010e-01,\n",
      "           -2.9233e-01,  2.6732e-02],\n",
      "          [ 4.6770e-02,  9.6757e-01,  1.1877e+00,  ..., -8.1644e-01,\n",
      "           -2.9576e-01, -3.0729e-03],\n",
      "          [-2.4809e-02,  9.0706e-01,  1.1180e+00,  ..., -7.9817e-01,\n",
      "           -2.7953e-01, -3.9382e-02],\n",
      "          ...,\n",
      "          [ 1.7391e+00,  1.0795e+00, -1.9366e-01,  ..., -2.9799e-01,\n",
      "            1.0119e-01,  1.9709e-01],\n",
      "          [ 2.2295e+00,  1.7217e+00,  3.1013e-01,  ..., -3.6923e-02,\n",
      "            2.5962e-01,  2.2083e-01],\n",
      "          [ 2.1042e+00,  1.9622e+00,  9.2229e-01,  ..., -2.3332e-02,\n",
      "            9.8271e-02, -1.4231e-02]],\n",
      "\n",
      "         [[ 4.9620e-01,  1.4236e+00,  1.5125e+00,  ..., -9.0504e-01,\n",
      "           -4.8955e-01, -9.4118e-02],\n",
      "          [ 4.5514e-01,  1.3916e+00,  1.4818e+00,  ..., -8.7650e-01,\n",
      "           -4.6027e-01, -9.2563e-02],\n",
      "          [ 4.0026e-01,  1.3471e+00,  1.4246e+00,  ..., -8.0257e-01,\n",
      "           -3.9030e-01, -7.7443e-02],\n",
      "          ...,\n",
      "          [ 1.6217e+00,  6.6609e-01, -2.2863e-01,  ..., -6.1210e-01,\n",
      "            1.8605e-01,  5.6521e-01],\n",
      "          [ 2.1934e+00,  1.7841e+00,  1.0314e+00,  ..., -5.8042e-01,\n",
      "            1.0544e-02,  2.3385e-01],\n",
      "          [ 1.8045e+00,  1.9771e+00,  1.7189e+00,  ..., -5.3122e-01,\n",
      "           -2.6377e-01, -1.8801e-01]],\n",
      "\n",
      "         [[ 5.7228e-01,  1.0456e+00,  8.7005e-01,  ..., -7.6532e-01,\n",
      "           -7.2277e-01, -4.3553e-01],\n",
      "          [ 5.2597e-01,  1.0022e+00,  8.3437e-01,  ..., -7.2900e-01,\n",
      "           -6.8859e-01, -4.2065e-01],\n",
      "          [ 4.5725e-01,  9.3511e-01,  7.6878e-01,  ..., -6.5413e-01,\n",
      "           -6.1958e-01, -3.8832e-01],\n",
      "          ...,\n",
      "          [-9.9595e-01,  1.0776e-01,  1.4022e+00,  ..., -2.0061e+00,\n",
      "           -1.9350e+00, -1.8234e+00],\n",
      "          [-3.7333e-01,  1.0815e+00,  2.5450e+00,  ..., -1.8598e+00,\n",
      "           -1.8292e+00, -1.7843e+00],\n",
      "          [ 1.3608e-01,  1.3687e+00,  2.5123e+00,  ..., -1.1822e+00,\n",
      "           -1.1781e+00, -1.1905e+00]]],\n",
      "\n",
      "\n",
      "        [[[-7.8829e-01, -7.7105e-01, -7.4529e-01,  ..., -3.5242e-01,\n",
      "           -6.1980e-01, -7.7713e-01],\n",
      "          [-8.4306e-01, -8.2844e-01, -8.0630e-01,  ..., -4.0877e-01,\n",
      "           -6.6405e-01, -8.1531e-01],\n",
      "          [-9.0580e-01, -8.9546e-01, -8.7971e-01,  ..., -4.7840e-01,\n",
      "           -7.1298e-01, -8.5464e-01],\n",
      "          ...,\n",
      "          [-2.9228e-01,  4.3308e-02,  4.7156e-01,  ..., -4.9959e-01,\n",
      "           -4.7899e-01, -6.0591e-01],\n",
      "          [-5.2872e-01, -3.8391e-01, -1.6528e-01,  ..., -7.9458e-01,\n",
      "           -7.0599e-01, -7.5301e-01],\n",
      "          [-7.3564e-01, -7.4182e-01, -7.0544e-01,  ..., -9.5269e-01,\n",
      "           -8.5204e-01, -8.5748e-01]],\n",
      "\n",
      "         [[-7.8494e-01, -7.9868e-01, -8.1424e-01,  ..., -4.5155e-01,\n",
      "           -6.7470e-01, -8.1379e-01],\n",
      "          [-8.4623e-01, -8.6197e-01, -8.8073e-01,  ..., -5.0059e-01,\n",
      "           -7.1471e-01, -8.4903e-01],\n",
      "          [-9.1672e-01, -9.3423e-01, -9.5751e-01,  ..., -5.5796e-01,\n",
      "           -7.5637e-01, -8.8366e-01],\n",
      "          ...,\n",
      "          [-1.4303e-01,  1.4348e-01,  5.6067e-01,  ..., -1.2270e-01,\n",
      "           -6.2762e-01, -8.8280e-01],\n",
      "          [-2.2218e-01, -1.8679e-01,  5.5574e-03,  ..., -2.7546e-01,\n",
      "           -6.8136e-01, -8.5199e-01],\n",
      "          [-3.2235e-01, -4.8738e-01, -4.9345e-01,  ..., -4.1916e-01,\n",
      "           -7.1116e-01, -8.1067e-01]],\n",
      "\n",
      "         [[-7.7432e-01, -6.7288e-01, -5.9144e-01,  ..., -5.3252e-01,\n",
      "           -8.5330e-01, -7.6850e-01],\n",
      "          [-8.9285e-01, -8.0877e-01, -7.4540e-01,  ..., -5.8933e-01,\n",
      "           -8.8888e-01, -8.2037e-01],\n",
      "          [-1.0453e+00, -9.8809e-01, -9.5567e-01,  ..., -6.5503e-01,\n",
      "           -9.2024e-01, -8.7966e-01],\n",
      "          ...,\n",
      "          [-9.9811e-01, -7.4916e-01, -2.8602e-01,  ..., -2.4914e-01,\n",
      "           -7.0918e-01, -1.0662e+00],\n",
      "          [-1.2756e+00, -1.1331e+00, -7.3392e-01,  ..., -6.1711e-01,\n",
      "           -1.0384e+00, -1.3085e+00],\n",
      "          [-1.4903e+00, -1.4439e+00, -1.1447e+00,  ..., -9.7240e-01,\n",
      "           -1.3131e+00, -1.4952e+00]],\n",
      "\n",
      "         ...,\n",
      "\n",
      "         [[-8.5227e-01, -4.9583e-01, -5.0465e-02,  ..., -9.6862e-02,\n",
      "           -3.9400e-01, -7.6287e-01],\n",
      "          [-8.9716e-01, -5.6166e-01, -1.4700e-01,  ..., -1.6932e-01,\n",
      "           -4.7383e-01, -8.3257e-01],\n",
      "          [-9.3050e-01, -6.3460e-01, -2.7944e-01,  ..., -2.6051e-01,\n",
      "           -5.6671e-01, -9.0213e-01],\n",
      "          ...,\n",
      "          [-3.3220e-01,  2.4441e-01,  8.5093e-01,  ...,  9.9594e-01,\n",
      "            1.1731e+00,  7.4321e-01],\n",
      "          [-5.4861e-03,  7.1254e-01,  1.3522e+00,  ...,  3.0207e-01,\n",
      "            5.4898e-01,  3.4193e-01],\n",
      "          [ 3.1332e-01,  1.1895e+00,  1.8442e+00,  ..., -1.6977e-01,\n",
      "            1.1458e-01,  5.7450e-02]],\n",
      "\n",
      "         [[-8.4482e-01, -3.9629e-01,  1.4182e-01,  ..., -1.1799e-02,\n",
      "           -2.9258e-01, -7.1927e-01],\n",
      "          [-8.8043e-01, -4.6223e-01,  3.7532e-02,  ..., -7.1132e-02,\n",
      "           -3.7408e-01, -7.9017e-01],\n",
      "          [-8.9542e-01, -5.3430e-01, -1.0923e-01,  ..., -1.4514e-01,\n",
      "           -4.6813e-01, -8.5601e-01],\n",
      "          ...,\n",
      "          [-6.6996e-01, -2.4379e-01,  4.4216e-01,  ...,  8.6002e-01,\n",
      "            1.1116e+00,  7.4391e-01],\n",
      "          [-4.5826e-01,  7.4969e-02,  7.7230e-01,  ...,  3.6767e-01,\n",
      "            6.3118e-01,  3.9961e-01],\n",
      "          [-2.5832e-01,  4.2320e-01,  1.1361e+00,  ...,  6.2003e-03,\n",
      "            2.8370e-01,  1.4645e-01]],\n",
      "\n",
      "         [[-8.3649e-01, -5.0799e-01, -1.7998e-02,  ..., -1.4796e-01,\n",
      "           -3.0981e-01, -6.5638e-01],\n",
      "          [-8.5962e-01, -5.5611e-01, -1.0609e-01,  ..., -1.9001e-01,\n",
      "           -3.8504e-01, -7.2519e-01],\n",
      "          [-8.6203e-01, -6.0237e-01, -2.2328e-01,  ..., -2.3615e-01,\n",
      "           -4.7040e-01, -7.9178e-01],\n",
      "          ...,\n",
      "          [-7.9477e-01, -5.0184e-01,  1.1204e-01,  ...,  4.6329e-01,\n",
      "            5.1864e-01,  1.8454e-01],\n",
      "          [-6.9084e-01, -3.1946e-01,  2.7878e-01,  ...,  2.1609e-01,\n",
      "            2.3074e-01, -5.2379e-02],\n",
      "          [-5.9943e-01, -1.5456e-01,  3.7948e-01,  ..., -6.0536e-02,\n",
      "           -8.6701e-02, -3.1200e-01]]],\n",
      "\n",
      "\n",
      "        ...,\n",
      "\n",
      "\n",
      "        [[[ 3.6900e-01, -7.7831e-01,  1.2403e-02,  ..., -7.5242e-01,\n",
      "           -6.5273e-01, -7.3485e-01],\n",
      "          [ 4.3586e-01, -5.3411e-01,  2.1549e-01,  ..., -8.3255e-01,\n",
      "           -7.7291e-01, -8.6733e-01],\n",
      "          [ 5.0765e-01, -1.8259e-01,  4.9450e-01,  ..., -9.2116e-01,\n",
      "           -9.1844e-01, -1.0251e+00],\n",
      "          ...,\n",
      "          [ 2.9191e+00,  2.9896e+00,  1.7828e+00,  ...,  7.7892e-01,\n",
      "            1.6171e-01, -2.7638e-01],\n",
      "          [ 2.9546e+00,  3.0513e+00,  1.9389e+00,  ...,  3.7214e-01,\n",
      "           -7.3441e-02, -3.5647e-01],\n",
      "          [ 2.8970e+00,  3.0594e+00,  2.1553e+00,  ..., -1.5287e-01,\n",
      "           -4.2165e-01, -5.2935e-01]],\n",
      "\n",
      "         [[ 3.7548e-01, -7.4635e-01,  1.1961e-01,  ..., -7.3512e-01,\n",
      "           -5.4964e-01, -5.4121e-01],\n",
      "          [ 4.3740e-01, -4.9848e-01,  3.0913e-01,  ..., -8.1634e-01,\n",
      "           -6.7324e-01, -6.8288e-01],\n",
      "          [ 5.0214e-01, -1.5335e-01,  5.5960e-01,  ..., -9.1044e-01,\n",
      "           -8.2664e-01, -8.5733e-01],\n",
      "          ...,\n",
      "          [ 7.3103e-01,  6.7751e-01,  5.1473e-02,  ...,  2.2520e+00,\n",
      "            1.2057e+00,  1.7400e-01],\n",
      "          [ 5.5187e-01,  5.9465e-01,  3.0283e-01,  ...,  1.5983e+00,\n",
      "            8.1575e-01,  3.1047e-02],\n",
      "          [ 1.9907e-01,  2.7793e-01,  3.2522e-01,  ...,  7.2287e-01,\n",
      "            2.1331e-01, -2.9241e-01]],\n",
      "\n",
      "         [[ 1.6149e-01, -8.6186e-01, -3.3325e-01,  ..., -8.9948e-01,\n",
      "           -7.0063e-01, -6.4879e-01],\n",
      "          [ 1.4892e-01, -7.0543e-01, -1.9393e-01,  ..., -1.0221e+00,\n",
      "           -8.5531e-01, -8.2012e-01],\n",
      "          [ 1.1468e-01, -4.7881e-01,  2.0592e-03,  ..., -1.1703e+00,\n",
      "           -1.0500e+00, -1.0360e+00],\n",
      "          ...,\n",
      "          [ 7.4445e-02,  2.9892e-01,  1.9888e-01,  ...,  5.3246e+00,\n",
      "            2.6494e+00,  4.7360e-01],\n",
      "          [ 2.0159e-02,  1.9035e-01,  9.0456e-02,  ...,  4.4323e+00,\n",
      "            2.2009e+00,  3.5095e-01],\n",
      "          [-7.6239e-02, -1.7455e-02, -1.7287e-01,  ...,  3.0261e+00,\n",
      "            1.4594e+00,  1.3743e-01]],\n",
      "\n",
      "         ...,\n",
      "\n",
      "         [[-8.6037e-01, -7.1807e-01,  1.3269e-01,  ...,  2.0711e+00,\n",
      "            5.7603e-01, -2.3088e-01],\n",
      "          [-8.9477e-01, -7.3559e-01,  9.7346e-02,  ...,  1.7265e+00,\n",
      "            3.0039e-01, -4.2316e-01],\n",
      "          [-9.2964e-01, -7.4407e-01,  5.2035e-02,  ...,  1.1966e+00,\n",
      "           -1.0407e-01, -6.9340e-01],\n",
      "          ...,\n",
      "          [-1.0463e+00, -9.1878e-01, -7.7896e-01,  ...,  5.0070e-01,\n",
      "            6.0305e-01,  3.0053e-01],\n",
      "          [-1.1184e+00, -9.5236e-01, -7.1702e-01,  ...,  8.6750e-01,\n",
      "            9.7787e-01,  5.7513e-01],\n",
      "          [-1.0999e+00, -8.8419e-01, -5.4076e-01,  ...,  1.1594e+00,\n",
      "            1.2781e+00,  8.1578e-01]],\n",
      "\n",
      "         [[-8.6680e-01, -8.4690e-01,  3.0723e-01,  ...,  1.5659e+00,\n",
      "            3.7525e-01, -2.4857e-01],\n",
      "          [-8.7767e-01, -8.1673e-01,  3.3088e-01,  ...,  1.2288e+00,\n",
      "            6.0876e-02, -4.8743e-01],\n",
      "          [-8.7615e-01, -7.4462e-01,  3.7974e-01,  ...,  6.9173e-01,\n",
      "           -4.1832e-01, -8.3942e-01],\n",
      "          ...,\n",
      "          [-7.1053e-01, -6.8841e-01, -6.8444e-01,  ...,  1.2682e+00,\n",
      "            1.1545e+00,  6.8677e-01],\n",
      "          [-5.9301e-01, -5.5806e-01, -5.7378e-01,  ...,  1.9254e+00,\n",
      "            1.7165e+00,  1.0625e+00],\n",
      "          [-4.4458e-01, -3.5521e-01, -3.6693e-01,  ...,  2.7794e+00,\n",
      "            2.4632e+00,  1.5625e+00]],\n",
      "\n",
      "         [[-6.3004e-01, -9.7355e-01,  3.1834e-01,  ...,  5.6563e-01,\n",
      "           -1.4182e-01, -4.6050e-01],\n",
      "          [-5.8416e-01, -8.5839e-01,  4.3992e-01,  ...,  2.6682e-01,\n",
      "           -4.4889e-01, -7.0999e-01],\n",
      "          [-4.9039e-01, -6.3397e-01,  6.5630e-01,  ..., -2.1197e-01,\n",
      "           -9.2005e-01, -1.0812e+00],\n",
      "          ...,\n",
      "          [-6.3458e-01, -5.4996e-01, -6.1249e-01,  ...,  2.0347e+00,\n",
      "            1.6472e+00,  8.9891e-01],\n",
      "          [-3.2529e-01, -2.2394e-01, -3.7390e-01,  ...,  3.2324e+00,\n",
      "            2.6191e+00,  1.5272e+00],\n",
      "          [ 1.3934e-01,  3.2150e-01,  8.8895e-02,  ...,  5.0140e+00,\n",
      "            4.0879e+00,  2.4803e+00]]],\n",
      "\n",
      "\n",
      "        [[[-8.5504e-01, -8.0383e-01, -7.4927e-01,  ..., -1.0893e-01,\n",
      "           -5.4728e-01, -8.1503e-01],\n",
      "          [-9.2011e-01, -8.6826e-01, -8.1747e-01,  ..., -1.4559e-01,\n",
      "           -5.9721e-01, -8.6968e-01],\n",
      "          [-1.0038e+00, -9.5143e-01, -9.0783e-01,  ..., -1.9768e-01,\n",
      "           -6.6210e-01, -9.3789e-01],\n",
      "          ...,\n",
      "          [ 1.1861e+00,  1.4205e+00,  7.7046e-01,  ...,  9.8524e-02,\n",
      "            1.8036e-01, -1.1969e-01],\n",
      "          [ 1.5550e+00,  1.8555e+00,  1.0188e+00,  ..., -2.0673e-01,\n",
      "           -1.5923e-02, -2.9452e-01],\n",
      "          [ 1.8242e+00,  2.2146e+00,  1.3320e+00,  ..., -5.0414e-01,\n",
      "           -2.5766e-01, -5.0395e-01]],\n",
      "\n",
      "         [[-9.5688e-01, -9.7609e-01, -9.4615e-01,  ..., -6.2852e-02,\n",
      "           -6.3845e-01, -9.4460e-01],\n",
      "          [-1.0264e+00, -1.0464e+00, -1.0215e+00,  ..., -1.0539e-01,\n",
      "           -6.8796e-01, -9.9690e-01],\n",
      "          [-1.0981e+00, -1.1191e+00, -1.1035e+00,  ..., -1.6082e-01,\n",
      "           -7.3801e-01, -1.0438e+00],\n",
      "          ...,\n",
      "          [ 2.5137e+00,  2.9525e+00,  2.1733e+00,  ...,  5.7561e-02,\n",
      "           -2.1398e-01, -5.1170e-01],\n",
      "          [ 2.5839e+00,  3.0093e+00,  2.2006e+00,  ..., -2.0671e-01,\n",
      "           -4.2317e-01, -6.2744e-01],\n",
      "          [ 2.6226e+00,  3.0550e+00,  2.2758e+00,  ..., -4.2680e-01,\n",
      "           -5.9737e-01, -7.3378e-01]],\n",
      "\n",
      "         [[-8.0903e-01, -8.3227e-01, -6.9559e-01,  ..., -7.0353e-01,\n",
      "           -8.3920e-01, -8.4179e-01],\n",
      "          [-8.1523e-01, -8.3678e-01, -7.2007e-01,  ..., -7.2488e-01,\n",
      "           -8.5722e-01, -8.6474e-01],\n",
      "          [-7.9510e-01, -8.1491e-01, -7.3232e-01,  ..., -7.2979e-01,\n",
      "           -8.5484e-01, -8.6984e-01],\n",
      "          ...,\n",
      "          [ 2.4409e+00,  2.5994e+00,  1.6946e+00,  ..., -9.9771e-01,\n",
      "           -9.0265e-01, -8.8558e-01],\n",
      "          [ 2.4742e+00,  2.4657e+00,  1.3154e+00,  ..., -8.2152e-01,\n",
      "           -7.8429e-01, -8.0906e-01],\n",
      "          [ 2.4947e+00,  2.3821e+00,  1.1288e+00,  ..., -6.1774e-01,\n",
      "           -6.7069e-01, -7.5045e-01]],\n",
      "\n",
      "         ...,\n",
      "\n",
      "         [[ 3.8903e-01,  1.6473e-01, -3.8048e-01,  ..., -2.1667e-01,\n",
      "           -3.5478e-01, -5.8269e-01],\n",
      "          [ 3.0467e-01,  1.1049e-01, -3.9951e-01,  ..., -2.9534e-01,\n",
      "           -4.2240e-01, -6.4338e-01],\n",
      "          [ 1.7702e-01,  2.9205e-02, -4.2474e-01,  ..., -4.0618e-01,\n",
      "           -5.1463e-01, -7.2315e-01],\n",
      "          ...,\n",
      "          [-1.1358e+00, -8.7054e-01, -3.6601e-01,  ..., -1.2007e+00,\n",
      "           -1.0984e+00, -1.0383e+00],\n",
      "          [-1.0636e+00, -7.7164e-01, -2.3364e-01,  ..., -1.0519e+00,\n",
      "           -9.7822e-01, -9.4037e-01],\n",
      "          [-1.0745e+00, -7.3037e-01, -1.2421e-01,  ..., -9.6375e-01,\n",
      "           -9.1038e-01, -8.9774e-01]],\n",
      "\n",
      "         [[ 6.4186e-01,  4.5659e-01, -2.0156e-01,  ..., -8.9147e-02,\n",
      "           -3.0815e-01, -6.2384e-01],\n",
      "          [ 5.4440e-01,  3.8763e-01, -2.3667e-01,  ..., -1.7288e-01,\n",
      "           -3.7611e-01, -6.8500e-01],\n",
      "          [ 3.9291e-01,  2.8052e-01, -2.8965e-01,  ..., -2.9543e-01,\n",
      "           -4.7037e-01, -7.6590e-01],\n",
      "          ...,\n",
      "          [-1.2665e+00, -9.1564e-01, -2.6476e-01,  ..., -1.3045e+00,\n",
      "           -1.1680e+00, -1.0967e+00],\n",
      "          [-1.1921e+00, -8.0997e-01, -9.8355e-02,  ..., -1.2831e+00,\n",
      "           -1.1355e+00, -1.0384e+00],\n",
      "          [-1.1289e+00, -6.9386e-01,  8.5648e-02,  ..., -1.2347e+00,\n",
      "           -1.0940e+00, -9.8779e-01]],\n",
      "\n",
      "         [[ 1.1022e+00,  9.5390e-01,  7.0031e-02,  ..., -5.0485e-02,\n",
      "           -3.9398e-01, -8.0559e-01],\n",
      "          [ 9.7110e-01,  8.5374e-01,  8.3006e-03,  ..., -1.4467e-01,\n",
      "           -4.6694e-01, -8.7382e-01],\n",
      "          [ 7.5432e-01,  6.8518e-01, -9.3732e-02,  ..., -2.8382e-01,\n",
      "           -5.6364e-01, -9.5613e-01],\n",
      "          ...,\n",
      "          [-1.3634e+00, -8.2512e-01,  9.0790e-03,  ..., -9.0351e-01,\n",
      "           -6.9551e-01, -7.3989e-01],\n",
      "          [-1.2593e+00, -7.1011e-01,  1.4947e-01,  ..., -1.0080e+00,\n",
      "           -7.5575e-01, -7.3538e-01],\n",
      "          [-1.0615e+00, -5.1606e-01,  3.0089e-01,  ..., -9.5817e-01,\n",
      "           -7.0995e-01, -6.5490e-01]]],\n",
      "\n",
      "\n",
      "        [[[-8.6347e-01, -8.9938e-01, -9.0771e-01,  ..., -9.5122e-01,\n",
      "           -9.2686e-01, -8.1890e-01],\n",
      "          [-9.2577e-01, -9.3938e-01, -9.2609e-01,  ..., -1.0208e+00,\n",
      "           -9.9320e-01, -8.8743e-01],\n",
      "          [-9.8001e-01, -9.6082e-01, -9.1472e-01,  ..., -1.0771e+00,\n",
      "           -1.0470e+00, -9.5000e-01],\n",
      "          ...,\n",
      "          [-3.8877e-01, -3.9692e-01, -5.9550e-01,  ..., -6.0814e-01,\n",
      "           -6.7896e-01, -5.4701e-01],\n",
      "          [-6.0697e-01, -6.0226e-01, -6.3344e-01,  ..., -8.7085e-01,\n",
      "           -9.7246e-01, -7.1106e-01],\n",
      "          [-7.9215e-01, -7.9245e-01, -6.6952e-01,  ..., -1.0010e+00,\n",
      "           -1.1186e+00, -7.6053e-01]],\n",
      "\n",
      "         [[-8.8575e-01, -9.4355e-01, -9.6780e-01,  ..., -9.6682e-01,\n",
      "           -1.0068e+00, -9.8209e-01],\n",
      "          [-9.4889e-01, -9.7807e-01, -9.7545e-01,  ..., -1.0273e+00,\n",
      "           -1.0653e+00, -1.0415e+00],\n",
      "          [-9.9530e-01, -9.8093e-01, -9.3646e-01,  ..., -1.0609e+00,\n",
      "           -1.0962e+00, -1.0770e+00],\n",
      "          ...,\n",
      "          [ 1.8481e+00,  2.9330e+00,  2.8481e+00,  ...,  8.5356e-01,\n",
      "            5.7189e-01,  2.8186e-01],\n",
      "          [ 1.3384e+00,  2.5091e+00,  2.8115e+00,  ...,  3.1525e-01,\n",
      "            1.6095e-02, -1.3475e-01],\n",
      "          [ 8.3233e-01,  2.0268e+00,  2.6547e+00,  ..., -2.2552e-01,\n",
      "           -5.0240e-01, -5.0983e-01]],\n",
      "\n",
      "         [[-9.2630e-01, -9.3616e-01, -8.7632e-01,  ..., -3.0188e-01,\n",
      "           -5.1923e-01, -8.4035e-01],\n",
      "          [-1.0087e+00, -1.0084e+00, -9.3378e-01,  ..., -3.4238e-01,\n",
      "           -5.7248e-01, -9.0286e-01],\n",
      "          [-1.1052e+00, -1.0862e+00, -9.8727e-01,  ..., -3.8864e-01,\n",
      "           -6.3383e-01, -9.7078e-01],\n",
      "          ...,\n",
      "          [-5.0172e-02,  9.0186e-02,  2.9665e-02,  ..., -6.8876e-01,\n",
      "           -5.7680e-01, -6.4025e-01],\n",
      "          [-3.6295e-01, -3.5230e-01, -4.5836e-01,  ..., -6.4885e-01,\n",
      "           -5.8064e-01, -6.4781e-01],\n",
      "          [-5.8807e-01, -6.4226e-01, -7.4135e-01,  ..., -6.2952e-01,\n",
      "           -6.0966e-01, -6.7373e-01]],\n",
      "\n",
      "         ...,\n",
      "\n",
      "         [[-8.0530e-01, -2.4879e-01,  8.0391e-01,  ..., -8.0718e-01,\n",
      "           -9.0409e-02,  1.0196e+00],\n",
      "          [-8.2143e-01, -2.1719e-01,  8.7560e-01,  ..., -6.5599e-01,\n",
      "            9.2362e-02,  1.2237e+00],\n",
      "          [-8.4630e-01, -1.5180e-01,  1.0041e+00,  ..., -3.5748e-01,\n",
      "            4.4908e-01,  1.6123e+00],\n",
      "          ...,\n",
      "          [ 5.9953e-01,  5.3293e-01, -3.7083e-01,  ...,  5.9731e-01,\n",
      "           -8.9808e-01, -9.7842e-01],\n",
      "          [ 3.0465e-01,  2.6344e-01, -5.7637e-01,  ...,  1.0119e+00,\n",
      "           -5.6067e-01, -8.8242e-01],\n",
      "          [ 2.8347e-02,  1.1821e-01, -5.1980e-01,  ...,  1.3591e+00,\n",
      "           -1.9498e-01, -7.6351e-01]],\n",
      "\n",
      "         [[-7.0332e-01, -7.0498e-01, -1.4797e-01,  ..., -7.1740e-01,\n",
      "           -7.2168e-01, -4.4646e-01],\n",
      "          [-6.7544e-01, -6.6143e-01, -9.0095e-02,  ..., -6.9664e-01,\n",
      "           -7.0120e-01, -4.2554e-01],\n",
      "          [-6.1189e-01, -5.6859e-01,  2.0918e-02,  ..., -6.4597e-01,\n",
      "           -6.4987e-01, -3.7709e-01],\n",
      "          ...,\n",
      "          [ 1.4125e+00,  1.6871e+00,  6.7735e-01,  ..., -1.7757e-01,\n",
      "           -1.0184e+00, -8.6032e-01],\n",
      "          [ 9.5598e-01,  1.3491e+00,  6.1327e-01,  ..., -1.0307e-01,\n",
      "           -9.2155e-01, -8.8799e-01],\n",
      "          [ 4.9056e-01,  1.0319e+00,  6.5035e-01,  ...,  1.2117e-01,\n",
      "           -7.2894e-01, -8.9343e-01]],\n",
      "\n",
      "         [[-6.9302e-01, -7.5913e-01, -2.8319e-01,  ..., -6.8119e-01,\n",
      "           -7.8865e-01, -5.7210e-01],\n",
      "          [-6.6312e-01, -7.1777e-01, -2.4176e-01,  ..., -6.6141e-01,\n",
      "           -7.7450e-01, -5.6646e-01],\n",
      "          [-5.9040e-01, -6.2395e-01, -1.6246e-01,  ..., -6.0604e-01,\n",
      "           -7.2703e-01, -5.4156e-01],\n",
      "          ...,\n",
      "          [ 2.2938e+00,  2.9778e+00,  2.1310e+00,  ..., -8.4487e-01,\n",
      "           -4.6566e-01, -1.7141e-01],\n",
      "          [ 1.9053e+00,  2.7522e+00,  2.2045e+00,  ..., -9.2331e-01,\n",
      "           -5.8952e-01, -3.3306e-01],\n",
      "          [ 1.4002e+00,  2.4214e+00,  2.2560e+00,  ..., -6.7724e-01,\n",
      "           -5.7539e-01, -5.0053e-01]]]], dtype=torch.float64)\n",
      "Negative: tensor([[[[ 1.3238e-01, -1.5842e-01, -7.3880e-01,  ..., -6.2897e-01,\n",
      "           -7.1064e-01, -8.2471e-01],\n",
      "          [ 9.1998e-02, -1.3196e-01, -6.3403e-01,  ..., -6.5020e-01,\n",
      "           -7.3792e-01, -8.4736e-01],\n",
      "          [ 3.2020e-02, -9.7119e-02, -4.8347e-01,  ..., -6.7182e-01,\n",
      "           -7.6735e-01, -8.6841e-01],\n",
      "          ...,\n",
      "          [ 8.7601e-02,  1.2440e+00,  2.4297e+00,  ...,  5.5756e-01,\n",
      "            4.0052e-01,  2.3345e-01],\n",
      "          [-1.8098e-02,  1.0690e+00,  2.2404e+00,  ..., -2.1846e-02,\n",
      "           -1.4278e-01, -9.8664e-02],\n",
      "          [-2.2067e-01,  7.8569e-01,  1.9208e+00,  ..., -6.1267e-01,\n",
      "           -7.0701e-01, -4.5855e-01]],\n",
      "\n",
      "         [[ 3.2670e-01, -5.5312e-02, -7.3616e-01,  ..., -9.1038e-01,\n",
      "           -9.9138e-01, -1.0195e+00],\n",
      "          [ 2.8260e-01, -3.7783e-02, -6.4249e-01,  ..., -9.1344e-01,\n",
      "           -9.9487e-01, -1.0229e+00],\n",
      "          [ 2.1748e-01, -1.4920e-02, -5.0631e-01,  ..., -8.9929e-01,\n",
      "           -9.8115e-01, -1.0094e+00],\n",
      "          ...,\n",
      "          [-9.9442e-01, -1.7488e-02,  9.5811e-01,  ...,  7.8962e-01,\n",
      "            1.7105e+00,  1.5361e+00],\n",
      "          [-8.5640e-01,  3.0513e-02,  8.8689e-01,  ...,  8.3157e-01,\n",
      "            1.5334e+00,  1.3114e+00],\n",
      "          [-7.4346e-01,  5.5170e-03,  6.7037e-01,  ...,  6.9765e-01,\n",
      "            1.1817e+00,  9.5550e-01]],\n",
      "\n",
      "         [[ 1.4121e-01, -1.4357e-01, -7.7617e-01,  ..., -1.2298e+00,\n",
      "           -1.2587e+00, -1.1401e+00],\n",
      "          [ 1.0463e-01, -1.5186e-01, -7.3442e-01,  ..., -1.2002e+00,\n",
      "           -1.2366e+00, -1.1359e+00],\n",
      "          [ 5.1182e-02, -1.6232e-01, -6.5954e-01,  ..., -1.1108e+00,\n",
      "           -1.1598e+00, -1.0912e+00],\n",
      "          ...,\n",
      "          [ 9.0466e-02,  8.1962e-01,  1.8732e+00,  ...,  3.1637e+00,\n",
      "            3.5069e+00,  2.7749e+00],\n",
      "          [ 4.7498e-01,  1.2612e+00,  2.1345e+00,  ...,  2.4246e+00,\n",
      "            2.6066e+00,  2.0428e+00],\n",
      "          [ 7.4178e-01,  1.5686e+00,  2.2776e+00,  ...,  1.7194e+00,\n",
      "            1.8634e+00,  1.4782e+00]],\n",
      "\n",
      "         ...,\n",
      "\n",
      "         [[ 2.7564e+00,  1.0603e+00, -6.0985e-01,  ...,  1.2508e+00,\n",
      "            1.6372e+00,  1.4863e+00],\n",
      "          [ 2.7605e+00,  1.1703e+00, -4.2293e-01,  ...,  1.0031e+00,\n",
      "            1.4283e+00,  1.3136e+00],\n",
      "          [ 2.6382e+00,  1.2694e+00, -1.4677e-01,  ...,  5.8810e-01,\n",
      "            1.0493e+00,  9.9076e-01],\n",
      "          ...,\n",
      "          [ 4.1813e-01,  5.7673e-01,  5.9034e-01,  ..., -9.3902e-01,\n",
      "           -1.0645e+00, -9.5319e-01],\n",
      "          [-1.0869e-01, -1.8980e-01, -2.6085e-01,  ..., -1.2590e+00,\n",
      "           -1.2971e+00, -1.0645e+00],\n",
      "          [-4.6896e-01, -6.9577e-01, -8.2752e-01,  ..., -1.2776e+00,\n",
      "           -1.2897e+00, -1.0377e+00]],\n",
      "\n",
      "         [[ 3.4413e+00,  1.6179e+00, -3.3464e-01,  ...,  2.4783e+00,\n",
      "            2.5281e+00,  1.8898e+00],\n",
      "          [ 3.4563e+00,  1.7325e+00, -1.4527e-01,  ...,  2.2005e+00,\n",
      "            2.2994e+00,  1.7093e+00],\n",
      "          [ 3.3720e+00,  1.8455e+00,  1.2867e-01,  ...,  1.7111e+00,\n",
      "            1.8793e+00,  1.3777e+00],\n",
      "          ...,\n",
      "          [ 1.7419e+00,  1.9576e+00,  1.5940e+00,  ..., -7.0656e-01,\n",
      "           -7.2485e-01, -7.0037e-01],\n",
      "          [ 1.4406e+00,  1.4535e+00,  9.7089e-01,  ..., -1.1323e+00,\n",
      "           -1.1096e+00, -9.4756e-01],\n",
      "          [ 9.7010e-01,  7.3866e-01,  1.2567e-01,  ..., -1.4413e+00,\n",
      "           -1.3995e+00, -1.1304e+00]],\n",
      "\n",
      "         [[ 3.9605e+00,  1.9838e+00, -1.3957e-01,  ...,  3.0549e+00,\n",
      "            3.1324e+00,  2.4073e+00],\n",
      "          [ 3.9732e+00,  2.0978e+00,  5.3061e-02,  ...,  2.7572e+00,\n",
      "            2.8827e+00,  2.2131e+00],\n",
      "          [ 3.9166e+00,  2.2243e+00,  3.2743e-01,  ...,  2.2496e+00,\n",
      "            2.4430e+00,  1.8690e+00],\n",
      "          ...,\n",
      "          [ 2.1702e+00,  2.3266e+00,  1.7263e+00,  ...,  2.0704e-02,\n",
      "            1.3766e-01,  3.0223e-02],\n",
      "          [ 2.0701e+00,  2.0815e+00,  1.3634e+00,  ..., -2.4168e-01,\n",
      "           -8.7370e-02, -7.4932e-02],\n",
      "          [ 1.9319e+00,  1.7599e+00,  9.0344e-01,  ..., -5.5116e-01,\n",
      "           -3.4140e-01, -1.9005e-01]]],\n",
      "\n",
      "\n",
      "        [[[-8.5662e-01, -9.1472e-01, -5.3360e-01,  ..., -9.4290e-01,\n",
      "           -9.4111e-01, -9.0225e-01],\n",
      "          [-9.6421e-01, -9.9637e-01, -6.0580e-01,  ..., -1.0878e+00,\n",
      "           -1.0849e+00, -1.0408e+00],\n",
      "          [-1.1306e+00, -1.1170e+00, -7.0802e-01,  ..., -1.2964e+00,\n",
      "           -1.2954e+00, -1.2476e+00],\n",
      "          ...,\n",
      "          [-7.2064e-01, -1.2373e-02,  8.7090e-01,  ..., -5.4932e-01,\n",
      "           -5.8109e-01, -7.1209e-01],\n",
      "          [-6.2731e-01,  1.4985e-01,  1.0215e+00,  ..., -5.9685e-01,\n",
      "           -5.6969e-01, -6.6554e-01],\n",
      "          [-5.2151e-01,  2.7117e-01,  1.0548e+00,  ..., -7.4969e-01,\n",
      "           -5.9827e-01, -6.0964e-01]],\n",
      "\n",
      "         [[-9.0061e-01, -8.4919e-01, -4.0699e-01,  ..., -7.2173e-01,\n",
      "           -8.0298e-01, -8.1968e-01],\n",
      "          [-1.0120e+00, -9.4558e-01, -4.8955e-01,  ..., -8.9405e-01,\n",
      "           -9.6167e-01, -9.6318e-01],\n",
      "          [-1.1844e+00, -1.0901e+00, -6.1028e-01,  ..., -1.1588e+00,\n",
      "           -1.2049e+00, -1.1837e+00],\n",
      "          ...,\n",
      "          [-8.7972e-01, -4.5191e-01,  1.5035e-01,  ..., -8.4082e-01,\n",
      "           -7.7544e-01, -7.6511e-01],\n",
      "          [-8.1662e-01, -3.0486e-01,  3.9600e-01,  ..., -7.6199e-01,\n",
      "           -7.6196e-01, -7.6469e-01],\n",
      "          [-7.3182e-01, -1.3583e-01,  6.6609e-01,  ..., -7.4395e-01,\n",
      "           -7.8408e-01, -7.6271e-01]],\n",
      "\n",
      "         [[-6.8827e-01, -3.6144e-01,  1.5081e-01,  ..., -2.4104e-01,\n",
      "           -4.9865e-01, -6.7476e-01],\n",
      "          [-8.0029e-01, -4.9218e-01,  2.5882e-02,  ..., -3.8874e-01,\n",
      "           -6.2936e-01, -7.7863e-01],\n",
      "          [-9.5788e-01, -6.8456e-01, -1.6851e-01,  ..., -6.1193e-01,\n",
      "           -8.1964e-01, -9.2392e-01],\n",
      "          ...,\n",
      "          [-9.4835e-01, -1.8272e-01,  4.0876e-01,  ..., -1.2366e+00,\n",
      "           -9.2096e-01, -6.2934e-01],\n",
      "          [-7.8913e-01, -3.0725e-02,  4.6560e-01,  ..., -5.4840e-01,\n",
      "           -3.5547e-01, -2.6009e-01],\n",
      "          [-5.9835e-01,  5.3844e-02,  4.2982e-01,  ...,  1.1602e-01,\n",
      "            1.9801e-01,  9.0920e-02]],\n",
      "\n",
      "         ...,\n",
      "\n",
      "         [[-4.7606e-01, -6.5626e-01, -8.2576e-01,  ..., -8.5172e-01,\n",
      "           -8.5002e-01, -8.5478e-01],\n",
      "          [-5.4917e-01, -7.1142e-01, -8.6696e-01,  ..., -9.2383e-01,\n",
      "           -9.2272e-01, -9.2762e-01],\n",
      "          [-6.4309e-01, -7.7619e-01, -9.0775e-01,  ..., -1.0057e+00,\n",
      "           -1.0055e+00, -1.0107e+00],\n",
      "          ...,\n",
      "          [-9.9413e-01, -4.2480e-01,  2.5971e-01,  ..., -4.7853e-01,\n",
      "           -8.8446e-01, -1.1825e+00],\n",
      "          [-8.6553e-01, -2.6443e-01,  3.0160e-01,  ..., -5.9201e-01,\n",
      "           -9.8312e-01, -1.2750e+00],\n",
      "          [-6.6322e-01, -9.7346e-02,  3.2002e-01,  ..., -7.0851e-01,\n",
      "           -1.0041e+00, -1.2265e+00]],\n",
      "\n",
      "         [[-2.3345e-01, -5.9829e-01, -9.0715e-01,  ..., -9.4424e-01,\n",
      "           -9.2511e-01, -9.2898e-01],\n",
      "          [-3.0625e-01, -6.3579e-01, -9.2064e-01,  ..., -1.0197e+00,\n",
      "           -1.0062e+00, -1.0144e+00],\n",
      "          [-4.0468e-01, -6.7340e-01, -9.1448e-01,  ..., -1.0963e+00,\n",
      "           -1.0925e+00, -1.1078e+00],\n",
      "          ...,\n",
      "          [-1.2068e+00, -6.0972e-01,  2.3984e-01,  ..., -5.8458e-01,\n",
      "           -9.0040e-01, -1.0980e+00],\n",
      "          [-1.2755e+00, -6.2425e-01,  1.6630e-01,  ..., -6.5029e-01,\n",
      "           -1.0317e+00, -1.3027e+00],\n",
      "          [-1.2244e+00, -5.4173e-01,  1.5571e-01,  ..., -7.9479e-01,\n",
      "           -1.1629e+00, -1.4409e+00]],\n",
      "\n",
      "         [[-1.7692e-01, -6.2777e-01, -9.2166e-01,  ..., -8.8396e-01,\n",
      "           -9.4618e-01, -9.2472e-01],\n",
      "          [-2.2856e-01, -6.3503e-01, -9.0456e-01,  ..., -9.3422e-01,\n",
      "           -1.0075e+00, -9.9776e-01],\n",
      "          [-2.9660e-01, -6.2711e-01, -8.5380e-01,  ..., -9.7227e-01,\n",
      "           -1.0630e+00, -1.0734e+00],\n",
      "          ...,\n",
      "          [-8.2272e-01, -4.9421e-01, -7.4930e-02,  ..., -3.3570e-01,\n",
      "           -3.8844e-01, -5.0562e-01],\n",
      "          [-8.2910e-01, -4.8662e-01, -9.5430e-02,  ..., -2.9904e-01,\n",
      "           -4.2560e-01, -5.9209e-01],\n",
      "          [-8.6555e-01, -4.6753e-01, -6.4030e-02,  ..., -3.5417e-01,\n",
      "           -5.3037e-01, -7.2997e-01]]],\n",
      "\n",
      "\n",
      "        [[[-8.3900e-01,  2.7968e-01,  2.3205e+00,  ..., -9.0562e-01,\n",
      "           -7.7704e-01, -4.4701e-01],\n",
      "          [-6.4853e-01,  4.7811e-01,  2.4374e+00,  ..., -9.2202e-01,\n",
      "           -7.9202e-01, -4.8555e-01],\n",
      "          [-3.0785e-01,  8.0805e-01,  2.5780e+00,  ..., -9.0386e-01,\n",
      "           -7.7621e-01, -5.2035e-01],\n",
      "          ...,\n",
      "          [-4.1034e-01, -1.5393e-01, -3.0640e-02,  ..., -1.0158e+00,\n",
      "           -1.1311e+00, -1.1962e+00],\n",
      "          [-5.5300e-01, -4.6660e-01, -5.0484e-01,  ..., -9.1927e-01,\n",
      "           -1.0764e+00, -1.1160e+00],\n",
      "          [-6.3872e-01, -6.6089e-01, -8.1076e-01,  ..., -8.8848e-01,\n",
      "           -1.0692e+00, -1.0693e+00]],\n",
      "\n",
      "         [[-8.9149e-01, -3.7647e-01,  1.5631e+00,  ..., -9.9122e-01,\n",
      "           -8.0155e-01, -6.5922e-01],\n",
      "          [-7.2125e-01, -1.7343e-01,  1.7080e+00,  ..., -1.0785e+00,\n",
      "           -8.8819e-01, -7.5364e-01],\n",
      "          [-3.9299e-01,  1.9841e-01,  1.9207e+00,  ..., -1.1782e+00,\n",
      "           -9.8885e-01, -8.7164e-01],\n",
      "          ...,\n",
      "          [ 4.3380e-02,  8.2602e-02, -1.2562e-01,  ..., -6.9993e-01,\n",
      "           -6.3262e-01, -6.1707e-01],\n",
      "          [-2.1088e-01, -2.2099e-01, -4.0499e-01,  ..., -7.0143e-01,\n",
      "           -6.5927e-01, -6.3755e-01],\n",
      "          [-4.0366e-01, -4.3264e-01, -5.7996e-01,  ..., -7.5612e-01,\n",
      "           -7.1704e-01, -6.8521e-01]],\n",
      "\n",
      "         [[-1.3079e-01, -9.6725e-01,  7.0711e-01,  ..., -1.0849e+00,\n",
      "           -8.6637e-01, -7.1220e-01],\n",
      "          [ 1.9512e-01, -6.3332e-01,  1.0416e+00,  ..., -1.2579e+00,\n",
      "           -1.0256e+00, -8.6671e-01],\n",
      "          [ 8.2339e-01,  5.3934e-02,  1.6093e+00,  ..., -1.5010e+00,\n",
      "           -1.2499e+00, -1.0908e+00],\n",
      "          ...,\n",
      "          [-1.0602e+00, -7.7841e-01, -4.4945e-01,  ...,  4.0301e-01,\n",
      "            1.6727e-01, -6.0795e-01],\n",
      "          [-1.5581e+00, -1.3804e+00, -1.0101e+00,  ...,  1.3233e+00,\n",
      "            7.8938e-01, -3.1559e-01],\n",
      "          [-1.6170e+00, -1.5567e+00, -1.2145e+00,  ...,  2.3074e+00,\n",
      "            1.4755e+00,  1.9620e-01]],\n",
      "\n",
      "         ...,\n",
      "\n",
      "         [[ 1.4337e-01,  1.2255e+00,  1.8696e+00,  ...,  1.0999e+00,\n",
      "            2.7714e+00,  2.5423e+00],\n",
      "          [ 1.0150e-01,  1.2169e+00,  1.9141e+00,  ...,  1.3757e+00,\n",
      "            2.9746e+00,  2.5927e+00],\n",
      "          [ 3.3787e-02,  1.2046e+00,  1.9881e+00,  ...,  1.9020e+00,\n",
      "            3.3406e+00,  2.6760e+00],\n",
      "          ...,\n",
      "          [-1.0317e+00, -9.9445e-01, -1.1086e+00,  ..., -2.3423e-01,\n",
      "           -1.0995e+00, -1.3736e+00],\n",
      "          [-9.0057e-01, -8.7506e-01, -1.0200e+00,  ..., -1.1688e-01,\n",
      "           -1.0050e+00, -1.2590e+00],\n",
      "          [-8.8638e-01, -8.4847e-01, -9.8436e-01,  ...,  9.4044e-02,\n",
      "           -9.0022e-01, -1.2096e+00]],\n",
      "\n",
      "         [[ 3.0922e-01,  1.0817e+00,  1.3541e+00,  ...,  4.3363e-01,\n",
      "            1.9477e+00,  2.2071e+00],\n",
      "          [ 2.8352e-01,  1.0877e+00,  1.4006e+00,  ...,  6.6129e-01,\n",
      "            2.1468e+00,  2.2995e+00],\n",
      "          [ 2.3918e-01,  1.0982e+00,  1.4800e+00,  ...,  1.0990e+00,\n",
      "            2.5095e+00,  2.4590e+00],\n",
      "          ...,\n",
      "          [-8.5945e-01, -1.0099e+00, -1.2417e+00,  ...,  2.5487e-01,\n",
      "           -9.7459e-01, -1.3758e+00],\n",
      "          [-7.2843e-01, -8.8415e-01, -1.1266e+00,  ...,  5.2634e-01,\n",
      "           -5.9013e-01, -1.0187e+00],\n",
      "          [-6.7824e-01, -8.0906e-01, -1.0282e+00,  ...,  9.1940e-01,\n",
      "           -2.0845e-01, -7.5368e-01]],\n",
      "\n",
      "         [[ 1.5078e-01,  7.8063e-01,  9.8197e-01,  ...,  2.7219e-01,\n",
      "            1.7074e+00,  2.0602e+00],\n",
      "          [ 1.3362e-01,  7.9163e-01,  1.0272e+00,  ...,  4.9346e-01,\n",
      "            1.9008e+00,  2.1607e+00],\n",
      "          [ 1.0307e-01,  8.1012e-01,  1.1045e+00,  ...,  9.0973e-01,\n",
      "            2.2485e+00,  2.3332e+00],\n",
      "          ...,\n",
      "          [-6.4421e-01, -7.7460e-01, -7.2254e-01,  ...,  1.7339e-01,\n",
      "           -5.3976e-01, -7.6483e-01],\n",
      "          [-7.0193e-01, -8.9951e-01, -9.1304e-01,  ...,  6.1874e-01,\n",
      "           -4.4689e-02, -3.9240e-01],\n",
      "          [-7.0592e-01, -9.1187e-01, -9.3942e-01,  ...,  1.1160e+00,\n",
      "            4.8282e-01, -1.1489e-02]]],\n",
      "\n",
      "\n",
      "        ...,\n",
      "\n",
      "\n",
      "        [[[-1.0095e+00, -9.6176e-01, -9.5147e-01,  ..., -6.1881e-01,\n",
      "           -5.7210e-01, -6.6890e-01],\n",
      "          [-1.1798e+00, -1.1330e+00, -1.1357e+00,  ..., -8.3196e-01,\n",
      "           -7.4801e-01, -8.3800e-01],\n",
      "          [-1.4362e+00, -1.3900e+00, -1.4131e+00,  ..., -1.1569e+00,\n",
      "           -1.0134e+00, -1.0964e+00],\n",
      "          ...,\n",
      "          [-1.2674e+00, -1.2320e+00, -1.1193e+00,  ...,  1.7056e+00,\n",
      "            1.4916e+00,  7.5482e-01],\n",
      "          [-1.3556e+00, -1.3299e+00, -1.2477e+00,  ...,  1.5787e+00,\n",
      "            1.4708e+00,  8.0141e-01],\n",
      "          [-1.3905e+00, -1.3700e+00, -1.3250e+00,  ...,  8.8263e-01,\n",
      "            9.6783e-01,  5.1764e-01]],\n",
      "\n",
      "         [[-6.9973e-01, -7.7697e-01, -9.3292e-01,  ...,  1.6000e-01,\n",
      "           -4.0952e-01, -8.4159e-01],\n",
      "          [-8.2020e-01, -8.9141e-01, -1.0605e+00,  ..., -2.5213e-02,\n",
      "           -5.3772e-01, -9.5606e-01],\n",
      "          [-9.8805e-01, -1.0411e+00, -1.2206e+00,  ..., -3.1811e-01,\n",
      "           -7.2266e-01, -1.1108e+00],\n",
      "          ...,\n",
      "          [-1.3514e+00, -1.1484e+00, -5.4294e-01,  ..., -8.0960e-01,\n",
      "           -1.0645e+00, -1.2773e+00],\n",
      "          [-1.3460e+00, -1.1510e+00, -5.6584e-01,  ..., -7.5372e-01,\n",
      "           -9.7125e-01, -1.2098e+00],\n",
      "          [-1.2744e+00, -1.0715e+00, -5.5668e-01,  ..., -6.8408e-01,\n",
      "           -8.4099e-01, -1.1043e+00]],\n",
      "\n",
      "         [[-4.4606e-01, -5.6749e-01, -7.5310e-01,  ..., -6.1171e-02,\n",
      "           -7.2681e-01, -6.5679e-01],\n",
      "          [-4.8956e-01, -6.0191e-01, -7.9841e-01,  ..., -5.4261e-02,\n",
      "           -6.7461e-01, -6.2631e-01],\n",
      "          [-5.5042e-01, -6.3896e-01, -8.4317e-01,  ..., -6.6049e-02,\n",
      "           -5.9504e-01, -5.7571e-01],\n",
      "          ...,\n",
      "          [ 2.2430e-01,  3.0046e-01,  2.2759e-01,  ...,  4.4531e-01,\n",
      "            7.8806e-03, -3.4815e-01],\n",
      "          [-2.2313e-02, -1.0022e-01, -2.3606e-01,  ...,  3.6929e-01,\n",
      "           -5.7794e-02, -3.4906e-01],\n",
      "          [-2.2715e-01, -3.8736e-01, -5.5343e-01,  ...,  1.5623e-01,\n",
      "           -2.3123e-01, -4.4448e-01]],\n",
      "\n",
      "         ...,\n",
      "\n",
      "         [[-1.0255e+00, -1.0333e+00, -8.7256e-01,  ...,  2.8928e+00,\n",
      "            2.0361e+00,  3.4790e-01],\n",
      "          [-1.0566e+00, -1.0539e+00, -8.7728e-01,  ...,  3.0582e+00,\n",
      "            2.1349e+00,  3.5901e-01],\n",
      "          [-1.0927e+00, -1.0692e+00, -8.6373e-01,  ...,  3.3476e+00,\n",
      "            2.3042e+00,  3.8716e-01],\n",
      "          ...,\n",
      "          [-5.0380e-01, -4.9779e-01, -4.6286e-01,  ..., -3.1957e-01,\n",
      "           -4.0747e-01, -4.8624e-01],\n",
      "          [-4.9844e-01, -5.0115e-01, -4.5779e-01,  ..., -1.6503e-01,\n",
      "           -2.9604e-01, -4.0620e-01],\n",
      "          [-4.9520e-01, -5.0340e-01, -4.4982e-01,  ...,  4.5520e-02,\n",
      "           -1.5887e-01, -3.2063e-01]],\n",
      "\n",
      "         [[-1.0836e+00, -1.0048e+00, -7.1647e-01,  ...,  1.6984e+00,\n",
      "            1.1102e+00, -2.0714e-01],\n",
      "          [-1.1067e+00, -1.0306e+00, -7.3396e-01,  ...,  1.8717e+00,\n",
      "            1.2331e+00, -1.5701e-01],\n",
      "          [-1.1276e+00, -1.0552e+00, -7.4535e-01,  ...,  2.1838e+00,\n",
      "            1.4529e+00, -5.4831e-02],\n",
      "          ...,\n",
      "          [-5.0853e-01, -4.6970e-01, -4.3020e-01,  ..., -5.2125e-01,\n",
      "           -5.2113e-01, -5.3643e-01],\n",
      "          [-5.4704e-01, -5.1794e-01, -4.5476e-01,  ..., -3.8665e-01,\n",
      "           -4.1433e-01, -4.6152e-01],\n",
      "          [-5.9984e-01, -5.8109e-01, -4.8313e-01,  ..., -1.7364e-01,\n",
      "           -2.6204e-01, -3.6332e-01]],\n",
      "\n",
      "         [[-9.0292e-01, -7.1277e-01, -3.3848e-01,  ...,  4.3945e-01,\n",
      "            1.3981e-01, -6.9867e-01],\n",
      "          [-9.2770e-01, -7.5127e-01, -3.7562e-01,  ...,  6.0010e-01,\n",
      "            2.6149e-01, -6.2740e-01],\n",
      "          [-9.5269e-01, -8.0047e-01, -4.2554e-01,  ...,  8.9630e-01,\n",
      "            4.8610e-01, -4.8454e-01],\n",
      "          ...,\n",
      "          [-7.3002e-01, -6.0495e-01, -4.8490e-01,  ..., -8.9479e-01,\n",
      "           -8.6639e-01, -7.7317e-01],\n",
      "          [-9.0357e-01, -7.4673e-01, -5.5102e-01,  ..., -8.9409e-01,\n",
      "           -8.8574e-01, -8.0761e-01],\n",
      "          [-1.1726e+00, -9.6055e-01, -6.2183e-01,  ..., -7.6284e-01,\n",
      "           -8.0818e-01, -7.8377e-01]]],\n",
      "\n",
      "\n",
      "        [[[-8.8588e-01, -8.9991e-01, -4.9980e-01,  ..., -8.2276e-01,\n",
      "           -5.4244e-01, -4.5707e-01],\n",
      "          [-9.6127e-01, -9.5600e-01, -5.6499e-01,  ..., -9.0094e-01,\n",
      "           -6.5608e-01, -5.9865e-01],\n",
      "          [-1.0414e+00, -1.0028e+00, -6.2834e-01,  ..., -9.9137e-01,\n",
      "           -8.0157e-01, -7.8446e-01],\n",
      "          ...,\n",
      "          [-1.0420e+00, -9.8831e-01, -1.0100e+00,  ..., -8.5256e-01,\n",
      "           -1.0236e+00, -1.1861e+00],\n",
      "          [-8.9393e-01, -8.4562e-01, -8.5965e-01,  ..., -6.6608e-01,\n",
      "           -8.3516e-01, -9.9090e-01],\n",
      "          [-8.4067e-01, -7.9269e-01, -7.9724e-01,  ..., -5.1916e-01,\n",
      "           -7.0262e-01, -8.7591e-01]],\n",
      "\n",
      "         [[-7.6473e-01, -8.8985e-01, -4.7939e-01,  ..., -7.3623e-01,\n",
      "           -4.4137e-01, -3.8017e-01],\n",
      "          [-8.3402e-01, -9.2415e-01, -5.2714e-01,  ..., -8.2675e-01,\n",
      "           -5.7049e-01, -5.3490e-01],\n",
      "          [-9.0853e-01, -9.4109e-01, -5.6568e-01,  ..., -9.3658e-01,\n",
      "           -7.3859e-01, -7.3860e-01],\n",
      "          ...,\n",
      "          [-9.6354e-01, -8.9983e-01, -9.3373e-01,  ..., -1.1152e+00,\n",
      "           -9.2197e-01, -1.0158e+00],\n",
      "          [-8.7194e-01, -8.0858e-01, -7.9885e-01,  ..., -9.2420e-01,\n",
      "           -7.7809e-01, -8.7199e-01],\n",
      "          [-7.7480e-01, -7.2900e-01, -6.8160e-01,  ..., -6.4379e-01,\n",
      "           -5.9002e-01, -7.0860e-01]],\n",
      "\n",
      "         [[-8.2279e-01, -9.3390e-01, -4.6226e-01,  ..., -6.7370e-01,\n",
      "           -4.1256e-01, -4.3121e-01],\n",
      "          [-8.9926e-01, -9.7175e-01, -5.1688e-01,  ..., -7.9453e-01,\n",
      "           -5.7062e-01, -6.0473e-01],\n",
      "          [-9.7793e-01, -9.8820e-01, -5.6200e-01,  ..., -9.4309e-01,\n",
      "           -7.7442e-01, -8.2774e-01],\n",
      "          ...,\n",
      "          [-2.2159e-01, -3.3269e-01, -5.5396e-01,  ..., -8.8598e-01,\n",
      "           -7.6893e-01, -6.0477e-01],\n",
      "          [-3.6430e-01, -4.6266e-01, -5.8291e-01,  ..., -8.8780e-01,\n",
      "           -7.5628e-01, -5.7621e-01],\n",
      "          [-5.0207e-01, -5.9833e-01, -6.3090e-01,  ..., -7.7201e-01,\n",
      "           -6.8339e-01, -5.4786e-01]],\n",
      "\n",
      "         ...,\n",
      "\n",
      "         [[-2.2173e-01, -7.8377e-01, -1.0832e+00,  ..., -9.9824e-01,\n",
      "           -6.6811e-01,  1.3834e-02],\n",
      "          [-1.7491e-01, -7.1561e-01, -1.0202e+00,  ..., -7.8341e-01,\n",
      "           -4.9451e-01,  1.0853e-01],\n",
      "          [-8.9149e-02, -5.7762e-01, -8.8310e-01,  ..., -3.9209e-01,\n",
      "           -1.8240e-01,  2.6881e-01],\n",
      "          ...,\n",
      "          [-4.9760e-01, -1.0564e+00, -7.3321e-01,  ..., -3.5151e-01,\n",
      "           -2.5550e-01, -3.3263e-01],\n",
      "          [-2.9141e-01, -5.7119e-01, -1.7254e-01,  ..., -4.9354e-01,\n",
      "           -3.6843e-01, -4.0808e-01],\n",
      "          [ 8.8137e-02,  1.9295e-01,  7.2427e-01,  ..., -7.9525e-01,\n",
      "           -5.6677e-01, -5.2231e-01]],\n",
      "\n",
      "         [[ 7.1350e-01, -2.9239e-01, -1.1786e+00,  ..., -1.2887e+00,\n",
      "           -1.0335e+00, -7.1791e-01],\n",
      "          [ 8.4464e-01, -1.6142e-01, -1.0831e+00,  ..., -1.1886e+00,\n",
      "           -9.5436e-01, -6.7875e-01],\n",
      "          [ 1.0680e+00,  9.0616e-02, -8.7485e-01,  ..., -9.7072e-01,\n",
      "           -7.8278e-01, -5.9075e-01],\n",
      "          ...,\n",
      "          [ 1.3193e+00,  1.2780e-01, -5.5913e-01,  ..., -7.4593e-01,\n",
      "           -3.8588e-01, -2.8347e-01],\n",
      "          [ 1.3549e+00,  7.6873e-01,  3.2472e-01,  ..., -7.6234e-01,\n",
      "           -5.4613e-01, -5.0846e-01],\n",
      "          [ 1.4205e+00,  1.3453e+00,  1.0730e+00,  ..., -8.5265e-01,\n",
      "           -7.1110e-01, -6.8758e-01]],\n",
      "\n",
      "         [[ 1.4686e+00,  1.9721e-01, -1.0956e+00,  ..., -1.4117e+00,\n",
      "           -1.2517e+00, -1.1138e+00],\n",
      "          [ 1.6414e+00,  3.6907e-01, -9.6719e-01,  ..., -1.3717e+00,\n",
      "           -1.2241e+00, -1.1109e+00],\n",
      "          [ 1.9123e+00,  6.7707e-01, -7.0384e-01,  ..., -1.2518e+00,\n",
      "           -1.1333e+00, -1.0717e+00],\n",
      "          ...,\n",
      "          [ 2.9024e+00,  2.0345e+00,  7.0021e-01,  ..., -9.3083e-01,\n",
      "           -2.5808e-01,  4.0245e-02],\n",
      "          [ 2.3845e+00,  2.0938e+00,  1.2643e+00,  ..., -6.8035e-01,\n",
      "           -2.8577e-01, -1.4992e-01],\n",
      "          [ 1.9084e+00,  1.9508e+00,  1.4187e+00,  ..., -5.0748e-01,\n",
      "           -3.1414e-01, -2.9015e-01]]],\n",
      "\n",
      "\n",
      "        [[[-2.8444e-01,  1.0210e-02, -3.2390e-01,  ..., -7.6396e-01,\n",
      "           -8.6929e-01, -9.2201e-01],\n",
      "          [-3.5192e-01, -2.0524e-02, -2.7660e-01,  ..., -8.4386e-01,\n",
      "           -9.4241e-01, -9.9444e-01],\n",
      "          [-4.4444e-01, -6.3292e-02, -1.9892e-01,  ..., -9.5355e-01,\n",
      "           -1.0397e+00, -1.0900e+00],\n",
      "          ...,\n",
      "          [-3.7090e-02, -3.4158e-01, -5.2749e-01,  ..., -1.2110e+00,\n",
      "           -1.3353e+00, -1.2245e+00],\n",
      "          [-1.3369e-01, -8.7594e-01, -1.2725e+00,  ..., -1.3497e+00,\n",
      "           -1.5704e+00, -1.4587e+00],\n",
      "          [-6.9458e-02, -1.1740e+00, -1.7843e+00,  ..., -9.7706e-01,\n",
      "           -1.3674e+00, -1.3826e+00]],\n",
      "\n",
      "         [[ 1.1624e-01,  3.1956e-01, -1.9117e-01,  ..., -6.9990e-01,\n",
      "           -7.4400e-01, -7.4856e-01],\n",
      "          [ 8.0743e-02,  3.2909e-01, -8.5093e-02,  ..., -7.3463e-01,\n",
      "           -7.7491e-01, -7.7996e-01],\n",
      "          [ 2.8795e-02,  3.3690e-01,  6.7601e-02,  ..., -7.8072e-01,\n",
      "           -8.1439e-01, -8.1981e-01],\n",
      "          ...,\n",
      "          [-1.4947e-01, -3.4319e-01, -7.3308e-01,  ..., -9.0965e-01,\n",
      "           -8.6045e-01, -7.9065e-01],\n",
      "          [ 3.4840e-02, -2.1080e-01, -7.6798e-01,  ..., -1.1130e+00,\n",
      "           -1.0557e+00, -9.6530e-01],\n",
      "          [ 4.7420e-01,  2.5932e-01, -4.7003e-01,  ..., -1.4101e+00,\n",
      "           -1.3513e+00, -1.2469e+00]],\n",
      "\n",
      "         [[ 1.4667e-01, -3.9170e-01, -8.0625e-01,  ..., -8.2856e-01,\n",
      "           -7.8378e-01, -8.0766e-01],\n",
      "          [ 9.1024e-02, -3.6604e-01, -7.1798e-01,  ..., -9.0958e-01,\n",
      "           -8.6364e-01, -8.8970e-01],\n",
      "          [-6.8521e-03, -3.5154e-01, -6.2103e-01,  ..., -1.0346e+00,\n",
      "           -9.8813e-01, -1.0189e+00],\n",
      "          ...,\n",
      "          [-8.5611e-01, -5.4909e-01, -2.1881e-01,  ..., -8.8930e-01,\n",
      "           -8.3887e-01, -8.3244e-01],\n",
      "          [-1.0155e+00, -7.9595e-01, -4.2869e-01,  ..., -8.2082e-01,\n",
      "           -7.9829e-01, -8.2030e-01],\n",
      "          [-1.1070e+00, -9.6373e-01, -6.0723e-01,  ..., -8.3665e-01,\n",
      "           -8.0319e-01, -8.1954e-01]],\n",
      "\n",
      "         ...,\n",
      "\n",
      "         [[ 4.3693e-01,  6.3220e-01,  2.9234e-01,  ..., -8.9803e-01,\n",
      "           -7.4893e-01, -7.9355e-01],\n",
      "          [ 3.5000e-01,  5.3016e-01,  1.8953e-01,  ..., -9.1603e-01,\n",
      "           -7.9628e-01, -8.6299e-01],\n",
      "          [ 2.1494e-01,  3.6101e-01,  7.5724e-03,  ..., -9.2793e-01,\n",
      "           -8.5867e-01, -9.6088e-01],\n",
      "          ...,\n",
      "          [-3.2059e-01, -2.9146e-01, -6.7633e-01,  ..., -2.8628e-01,\n",
      "           -8.0719e-01, -1.1041e+00],\n",
      "          [-2.4161e-01, -3.0602e-01, -8.3791e-01,  ...,  2.6140e-01,\n",
      "           -4.6526e-01, -9.3811e-01],\n",
      "          [-8.9059e-02, -1.9964e-01, -8.3572e-01,  ...,  8.9908e-01,\n",
      "           -8.1217e-02, -7.6853e-01]],\n",
      "\n",
      "         [[ 3.0076e-01,  5.9625e-01,  4.5842e-01,  ..., -9.9038e-01,\n",
      "           -9.2107e-01, -9.6851e-01],\n",
      "          [ 1.8612e-01,  4.6522e-01,  3.3007e-01,  ..., -1.0421e+00,\n",
      "           -1.0004e+00, -1.0659e+00],\n",
      "          [-4.9493e-03,  2.3401e-01,  9.0153e-02,  ..., -1.1007e+00,\n",
      "           -1.1112e+00, -1.2109e+00],\n",
      "          ...,\n",
      "          [-9.3826e-02, -8.6110e-02, -5.8599e-01,  ...,  4.8408e-01,\n",
      "           -2.5148e-01, -7.9998e-01],\n",
      "          [ 6.0958e-03, -5.8633e-02, -6.9823e-01,  ...,  9.7476e-01,\n",
      "            1.1643e-03, -7.1223e-01],\n",
      "          [ 1.9986e-01,  1.3130e-01, -5.9798e-01,  ...,  1.4800e+00,\n",
      "            2.3354e-01, -6.6504e-01]],\n",
      "\n",
      "         [[-1.1015e-01,  3.5933e-01,  6.5427e-01,  ..., -9.6769e-01,\n",
      "           -1.0348e+00, -9.9202e-01],\n",
      "          [-2.6496e-01,  1.9122e-01,  5.0626e-01,  ..., -1.1034e+00,\n",
      "           -1.1817e+00, -1.1238e+00],\n",
      "          [-5.3335e-01, -1.1251e-01,  2.2522e-01,  ..., -1.2978e+00,\n",
      "           -1.4031e+00, -1.3271e+00],\n",
      "          ...,\n",
      "          [-5.9776e-02, -5.3848e-02, -5.6083e-01,  ...,  9.2358e-01,\n",
      "            3.8231e-01, -2.1186e-01],\n",
      "          [ 3.3795e-02,  1.6611e-02, -5.9007e-01,  ...,  9.3142e-01,\n",
      "            2.8241e-01, -3.4033e-01],\n",
      "          [ 2.2427e-01,  2.5951e-01, -3.7277e-01,  ...,  7.7805e-01,\n",
      "            8.6530e-02, -5.0659e-01]]]], dtype=torch.float64)\n",
      "Batch: 0\n",
      "Input: tensor([[[[-0.8803, -0.2691,  1.6426,  ..., -0.7735, -0.4424, -0.3354],\n",
      "          [-0.8334, -0.2309,  1.5594,  ..., -0.8444, -0.5741, -0.4995],\n",
      "          [-0.7461, -0.1642,  1.4129,  ..., -0.9232, -0.7344, -0.6994],\n",
      "          ...,\n",
      "          [-0.5398, -0.6173, -0.8012,  ..., -0.3217, -0.7560, -1.1536],\n",
      "          [-0.6501, -0.7724, -0.9015,  ..., -0.5727, -0.7616, -0.9714],\n",
      "          [-0.6752, -0.8265, -0.9433,  ..., -0.7019, -0.7647, -0.8689]],\n",
      "\n",
      "         [[-0.8772, -0.2490,  1.6068,  ..., -0.7895, -0.5447, -0.4418],\n",
      "          [-0.8363, -0.2152,  1.5397,  ..., -0.8691, -0.6600, -0.5776],\n",
      "          [-0.7579, -0.1560,  1.4141,  ..., -0.9609, -0.8018, -0.7463],\n",
      "          ...,\n",
      "          [-1.0010, -0.9808, -0.9952,  ..., -0.2366, -0.0684, -0.2267],\n",
      "          [-1.0905, -1.0650, -1.0464,  ..., -0.5013, -0.2802, -0.3714],\n",
      "          [-1.1417, -1.1159, -1.0716,  ..., -0.6559, -0.4275, -0.4814]],\n",
      "\n",
      "         [[-0.9320, -0.2580,  1.2339,  ..., -0.8086, -0.6899, -0.7056],\n",
      "          [-0.9277, -0.2601,  1.1889,  ..., -0.8845, -0.7868, -0.8079],\n",
      "          [-0.9032, -0.2552,  1.0984,  ..., -0.9882, -0.9191, -0.9447],\n",
      "          ...,\n",
      "          [ 0.6635,  0.9331,  0.5968,  ...,  0.2452, -0.2918, -0.5560],\n",
      "          [ 0.0493,  0.1927, -0.0768,  ...,  0.2439, -0.1495, -0.4603],\n",
      "          [-0.3646, -0.2902, -0.4751,  ...,  0.1352, -0.1269, -0.4285]],\n",
      "\n",
      "         ...,\n",
      "\n",
      "         [[-0.5755, -0.5093, -0.7202,  ..., -0.7441, -0.7684, -0.5747],\n",
      "          [-0.6532, -0.5584, -0.7212,  ..., -0.7478, -0.7873, -0.6329],\n",
      "          [-0.7488, -0.6124, -0.7008,  ..., -0.7363, -0.7987, -0.7041],\n",
      "          ...,\n",
      "          [-0.1101, -0.0427, -0.2513,  ..., -0.5891, -0.6014, -0.5077],\n",
      "          [ 0.0637,  0.1612, -0.0639,  ..., -0.8082, -0.7484, -0.5861],\n",
      "          [ 0.2832,  0.4221,  0.1889,  ..., -0.8134, -0.7539, -0.5970]],\n",
      "\n",
      "         [[-0.6547, -0.6609, -0.7973,  ..., -0.6754, -0.8146, -0.7458],\n",
      "          [-0.7244, -0.6996, -0.7914,  ..., -0.7167, -0.8561, -0.8072],\n",
      "          [-0.8052, -0.7356, -0.7602,  ..., -0.7578, -0.8965, -0.8775],\n",
      "          ...,\n",
      "          [-0.6790, -0.6880, -0.8094,  ..., -0.6074, -0.6197, -0.6005],\n",
      "          [-0.5704, -0.5755, -0.7279,  ..., -0.8921, -0.7938, -0.6710],\n",
      "          [-0.3682, -0.3577, -0.5352,  ..., -0.9220, -0.7839, -0.6290]],\n",
      "\n",
      "         [[-0.7429, -0.8001, -0.8426,  ..., -0.8128, -0.8894, -0.8540],\n",
      "          [-0.8146, -0.8358, -0.8403,  ..., -0.8759, -0.9540, -0.9297],\n",
      "          [-0.8971, -0.8646, -0.8112,  ..., -0.9444, -1.0238, -1.0164],\n",
      "          ...,\n",
      "          [-1.0329, -1.0252, -1.0303,  ..., -0.6678, -0.4562, -0.4807],\n",
      "          [-0.9203, -0.9044, -0.9055,  ..., -0.7358, -0.4927, -0.4685],\n",
      "          [-0.7489, -0.7238, -0.7178,  ..., -0.6443, -0.4319, -0.4021]]]],\n",
      "       dtype=torch.float64)\n",
      "Label: tensor([5])\n"
     ]
    }
   ],
   "source": [
    "dataset = MEGDataset_Conv(transformed_data, label_map='multi_class_covert')\n",
    "train_indices, test_indices = train_test_split(\n",
    "    list(range(len(dataset))), \n",
    "    test_size=0.2, \n",
    "    random_state=42, \n",
    "    stratify=dataset.labels)\n",
    "\n",
    "train_dataset = TripletMEGDataset(transformed_data, label_map='multi_class_covert', indices=train_indices)\n",
    "test_dataset = Subset((MEGDataset_Conv(transformed_data, label_map='multi_class_covert', normalize=False)), test_indices)\n",
    "\n",
    "# Check for common samples\n",
    "common_samples = set(train_indices).intersection(test_indices)\n",
    "if common_samples:\n",
    "    print(f\"Common samples found: {common_samples}\")\n",
    "else:\n",
    "    print(\"No common samples found\")\n",
    "\n",
    "\n",
    "train_loader = DataLoader(train_dataset, batch_size=13, shuffle=True)\n",
    "for i, (anchor, positive, negative) in enumerate(train_loader):\n",
    "    print(f\"Batch {i}\")\n",
    "    print(\"Anchor:\", anchor)\n",
    "    print(\"Positive:\", positive)\n",
    "    print(\"Negative:\", negative)\n",
    "    break\n",
    "\n",
    "test_loader = DataLoader(test_dataset, batch_size=1, shuffle=False)\n",
    "for i, (input,label) in enumerate(test_loader):\n",
    "    print(f\"Batch: {i}\")\n",
    "    print(f\"Input: {input}\")\n",
    "    print(f\"Label: {label}\")\n",
    "    break"
   ]
  },
  {
   "cell_type": "code",
   "execution_count": 301,
   "metadata": {},
   "outputs": [
    {
     "name": "stdout",
     "output_type": "stream",
     "text": [
      "Epoch [1 / 50], Step [10/37], Loss: 4.912605\n",
      "Epoch [1 / 50], Step [20/37], Loss: 4.945699\n",
      "Epoch [1 / 50], Step [30/37], Loss: 5.077535\n",
      "Epoch [2 / 50], Step [10/37], Loss: 5.044442\n",
      "Epoch [2 / 50], Step [20/37], Loss: 5.197276\n",
      "Epoch [2 / 50], Step [30/37], Loss: 4.451379\n",
      "Epoch [3 / 50], Step [10/37], Loss: 4.925182\n",
      "Epoch [3 / 50], Step [20/37], Loss: 4.674291\n",
      "Epoch [3 / 50], Step [30/37], Loss: 4.801548\n",
      "Epoch [4 / 50], Step [10/37], Loss: 5.197573\n",
      "Epoch [4 / 50], Step [20/37], Loss: 4.913606\n",
      "Epoch [4 / 50], Step [30/37], Loss: 4.632119\n",
      "Epoch [5 / 50], Step [10/37], Loss: 4.416289\n",
      "Epoch [5 / 50], Step [20/37], Loss: 5.038930\n",
      "Epoch [5 / 50], Step [30/37], Loss: 4.686452\n",
      "Epoch [6 / 50], Step [10/37], Loss: 4.815492\n",
      "Epoch [6 / 50], Step [20/37], Loss: 4.500638\n",
      "Epoch [6 / 50], Step [30/37], Loss: 4.698275\n",
      "Epoch [7 / 50], Step [10/37], Loss: 4.455251\n",
      "Epoch [7 / 50], Step [20/37], Loss: 4.169274\n",
      "Epoch [7 / 50], Step [30/37], Loss: 3.423892\n",
      "Epoch [8 / 50], Step [10/37], Loss: 2.992732\n",
      "Epoch [8 / 50], Step [20/37], Loss: 4.745608\n",
      "Epoch [8 / 50], Step [30/37], Loss: 3.138896\n",
      "Epoch [9 / 50], Step [10/37], Loss: 4.197803\n",
      "Epoch [9 / 50], Step [20/37], Loss: 4.343146\n",
      "Epoch [9 / 50], Step [30/37], Loss: 4.397768\n",
      "Epoch [10 / 50], Step [10/37], Loss: 2.602041\n",
      "Epoch [10 / 50], Step [20/37], Loss: 3.633525\n",
      "Epoch [10 / 50], Step [30/37], Loss: 5.204515\n",
      "Epoch [11 / 50], Step [10/37], Loss: 1.309969\n",
      "Epoch [11 / 50], Step [20/37], Loss: 2.634624\n",
      "Epoch [11 / 50], Step [30/37], Loss: 3.112520\n",
      "Epoch [12 / 50], Step [10/37], Loss: 3.221760\n",
      "Epoch [12 / 50], Step [20/37], Loss: 2.164475\n",
      "Epoch [12 / 50], Step [30/37], Loss: 2.569689\n",
      "Epoch [13 / 50], Step [10/37], Loss: 1.521617\n",
      "Epoch [13 / 50], Step [20/37], Loss: 1.891974\n",
      "Epoch [13 / 50], Step [30/37], Loss: 1.909790\n",
      "Epoch [14 / 50], Step [10/37], Loss: 1.147705\n",
      "Epoch [14 / 50], Step [20/37], Loss: 0.911474\n",
      "Epoch [14 / 50], Step [30/37], Loss: 2.164523\n",
      "Epoch [15 / 50], Step [10/37], Loss: 1.129014\n",
      "Epoch [15 / 50], Step [20/37], Loss: 1.965770\n",
      "Epoch [15 / 50], Step [30/37], Loss: 2.043153\n",
      "Epoch [16 / 50], Step [10/37], Loss: 2.767895\n",
      "Epoch [16 / 50], Step [20/37], Loss: 1.193996\n",
      "Epoch [16 / 50], Step [30/37], Loss: 3.718342\n",
      "Epoch [17 / 50], Step [10/37], Loss: 1.280377\n",
      "Epoch [17 / 50], Step [20/37], Loss: 1.439270\n",
      "Epoch [17 / 50], Step [30/37], Loss: 2.238971\n",
      "Epoch [18 / 50], Step [10/37], Loss: 0.856658\n",
      "Epoch [18 / 50], Step [20/37], Loss: 1.516943\n",
      "Epoch [18 / 50], Step [30/37], Loss: 1.000084\n",
      "Epoch [19 / 50], Step [10/37], Loss: 0.337506\n",
      "Epoch [19 / 50], Step [20/37], Loss: 0.586157\n",
      "Epoch [19 / 50], Step [30/37], Loss: 0.892946\n",
      "Epoch [20 / 50], Step [10/37], Loss: 0.706177\n",
      "Epoch [20 / 50], Step [20/37], Loss: 0.186251\n",
      "Epoch [20 / 50], Step [30/37], Loss: 0.041462\n",
      "Epoch [21 / 50], Step [10/37], Loss: 2.005309\n",
      "Epoch [21 / 50], Step [20/37], Loss: 0.469920\n",
      "Epoch [21 / 50], Step [30/37], Loss: 0.542223\n",
      "Epoch [22 / 50], Step [10/37], Loss: 0.458881\n",
      "Epoch [22 / 50], Step [20/37], Loss: 1.220204\n",
      "Epoch [22 / 50], Step [30/37], Loss: 1.419402\n",
      "Epoch [23 / 50], Step [10/37], Loss: 0.000000\n",
      "Epoch [23 / 50], Step [20/37], Loss: 0.991674\n",
      "Epoch [23 / 50], Step [30/37], Loss: 0.420529\n",
      "Epoch [24 / 50], Step [10/37], Loss: 0.550873\n",
      "Epoch [24 / 50], Step [20/37], Loss: 0.425648\n",
      "Epoch [24 / 50], Step [30/37], Loss: 0.618738\n",
      "Epoch [25 / 50], Step [10/37], Loss: 0.489528\n",
      "Epoch [25 / 50], Step [20/37], Loss: 1.008156\n",
      "Epoch [25 / 50], Step [30/37], Loss: 0.000000\n",
      "Epoch [26 / 50], Step [10/37], Loss: 0.640087\n",
      "Epoch [26 / 50], Step [20/37], Loss: 0.050032\n",
      "Epoch [26 / 50], Step [30/37], Loss: 0.418618\n",
      "Epoch [27 / 50], Step [10/37], Loss: 0.998801\n",
      "Epoch [27 / 50], Step [20/37], Loss: 0.291458\n",
      "Epoch [27 / 50], Step [30/37], Loss: 1.730790\n",
      "Epoch [28 / 50], Step [10/37], Loss: 0.000000\n",
      "Epoch [28 / 50], Step [20/37], Loss: 0.683351\n",
      "Epoch [28 / 50], Step [30/37], Loss: 0.656177\n",
      "Epoch [29 / 50], Step [10/37], Loss: 0.000000\n",
      "Epoch [29 / 50], Step [20/37], Loss: 0.792440\n",
      "Epoch [29 / 50], Step [30/37], Loss: 0.622744\n",
      "Epoch [30 / 50], Step [10/37], Loss: 0.545157\n",
      "Epoch [30 / 50], Step [20/37], Loss: 0.106572\n",
      "Epoch [30 / 50], Step [30/37], Loss: 0.000000\n",
      "Epoch [31 / 50], Step [10/37], Loss: 0.722132\n",
      "Epoch [31 / 50], Step [20/37], Loss: 0.780699\n",
      "Epoch [31 / 50], Step [30/37], Loss: 0.311770\n",
      "Epoch [32 / 50], Step [10/37], Loss: 0.594301\n",
      "Epoch [32 / 50], Step [20/37], Loss: 1.342466\n",
      "Epoch [32 / 50], Step [30/37], Loss: 0.403334\n",
      "Epoch [33 / 50], Step [10/37], Loss: 0.000000\n",
      "Epoch [33 / 50], Step [20/37], Loss: 0.791960\n",
      "Epoch [33 / 50], Step [30/37], Loss: 0.531802\n",
      "Epoch [34 / 50], Step [10/37], Loss: 1.134032\n",
      "Epoch [34 / 50], Step [20/37], Loss: 0.356202\n",
      "Epoch [34 / 50], Step [30/37], Loss: 0.127089\n",
      "Epoch [35 / 50], Step [10/37], Loss: 0.367962\n",
      "Epoch [35 / 50], Step [20/37], Loss: 0.296508\n",
      "Epoch [35 / 50], Step [30/37], Loss: 0.000000\n",
      "Epoch [36 / 50], Step [10/37], Loss: 0.480760\n",
      "Epoch [36 / 50], Step [20/37], Loss: 0.517507\n",
      "Epoch [36 / 50], Step [30/37], Loss: 0.472208\n",
      "Epoch [37 / 50], Step [10/37], Loss: 0.000000\n",
      "Epoch [37 / 50], Step [20/37], Loss: 0.000000\n",
      "Epoch [37 / 50], Step [30/37], Loss: 0.210736\n",
      "Epoch [38 / 50], Step [10/37], Loss: 0.000000\n",
      "Epoch [38 / 50], Step [20/37], Loss: 0.301967\n",
      "Epoch [38 / 50], Step [30/37], Loss: 0.764248\n",
      "Epoch [39 / 50], Step [10/37], Loss: 0.250005\n",
      "Epoch [39 / 50], Step [20/37], Loss: 0.043992\n",
      "Epoch [39 / 50], Step [30/37], Loss: 0.778861\n",
      "Epoch [40 / 50], Step [10/37], Loss: 0.422005\n",
      "Epoch [40 / 50], Step [20/37], Loss: 0.000000\n",
      "Epoch [40 / 50], Step [30/37], Loss: 0.000000\n",
      "Epoch [41 / 50], Step [10/37], Loss: 1.248938\n",
      "Epoch [41 / 50], Step [20/37], Loss: 0.470387\n",
      "Epoch [41 / 50], Step [30/37], Loss: 0.000000\n",
      "Epoch [42 / 50], Step [10/37], Loss: 0.000000\n",
      "Epoch [42 / 50], Step [20/37], Loss: 0.517857\n",
      "Epoch [42 / 50], Step [30/37], Loss: 0.000000\n",
      "Epoch [43 / 50], Step [10/37], Loss: 0.119205\n",
      "Epoch [43 / 50], Step [20/37], Loss: 0.000000\n",
      "Epoch [43 / 50], Step [30/37], Loss: 0.000000\n",
      "Epoch [44 / 50], Step [10/37], Loss: 0.727463\n",
      "Epoch [44 / 50], Step [20/37], Loss: 0.000000\n",
      "Epoch [44 / 50], Step [30/37], Loss: 0.060596\n",
      "Epoch [45 / 50], Step [10/37], Loss: 0.242264\n",
      "Epoch [45 / 50], Step [20/37], Loss: 0.000000\n",
      "Epoch [45 / 50], Step [30/37], Loss: 0.000000\n",
      "Epoch [46 / 50], Step [10/37], Loss: 0.000000\n",
      "Epoch [46 / 50], Step [20/37], Loss: 0.132951\n",
      "Epoch [46 / 50], Step [30/37], Loss: 0.195047\n",
      "Epoch [47 / 50], Step [10/37], Loss: 0.000000\n",
      "Epoch [47 / 50], Step [20/37], Loss: 0.210529\n",
      "Epoch [47 / 50], Step [30/37], Loss: 0.460655\n",
      "Epoch [48 / 50], Step [10/37], Loss: 0.732557\n",
      "Epoch [48 / 50], Step [20/37], Loss: 0.000000\n",
      "Epoch [48 / 50], Step [30/37], Loss: 0.710387\n",
      "Epoch [49 / 50], Step [10/37], Loss: 0.000000\n",
      "Epoch [49 / 50], Step [20/37], Loss: 0.000000\n",
      "Epoch [49 / 50], Step [30/37], Loss: 0.646243\n",
      "Epoch [50 / 50], Step [10/37], Loss: 0.295032\n",
      "Epoch [50 / 50], Step [20/37], Loss: 0.210699\n",
      "Epoch [50 / 50], Step [30/37], Loss: 0.275232\n",
      "Training Finished\n"
     ]
    }
   ],
   "source": [
    "from sklearn.preprocessing import normalize\n",
    "torch.manual_seed(0)\n",
    "model = BigTripletNet()\n",
    "device = 'mps'\n",
    "model = model.to(device=device)\n",
    "criterion = nn.TripletMarginLoss(margin=5.0, p=2, eps=1e-6) #profile 1 (20 sensors): 5.0, 2, 1e-7  #profile 2 (20 sensors): 2.0, 2, 1e-7\n",
    "optimizer = optim.Adam(model.parameters(), lr=0.0001)\n",
    "epochs = 50 #profile 1: 25 #profile 2: 25\n",
    "total_steps = len(train_loader)\n",
    "\n",
    "loss_values = []\n",
    "model.train()\n",
    "for epoch in range(epochs):\n",
    "    for i, (anchor, positive, negative) in enumerate(train_loader):\n",
    "    \n",
    "        anchor, positive, negative = anchor.to(device, dtype=torch.float32),positive.to(device, dtype=torch.float32), negative.to(device, dtype=torch.float32)\n",
    "        \n",
    "        optimizer.zero_grad()\n",
    "        anchor_embedding = model(anchor)\n",
    "        positive_embedding = model(positive)\n",
    "        negative_embedding = model(negative)\n",
    "\n",
    "        loss = criterion(anchor_embedding, positive_embedding, negative_embedding)\n",
    "\n",
    "        \n",
    "        loss.backward()\n",
    "        optimizer.step()\n",
    "        \n",
    "\n",
    "        loss_values.append(loss.item())\n",
    "\n",
    "        if (i+1) % 10 == 0:  # Adjusted the condition to a smaller number\n",
    "            print(f'Epoch [{epoch + 1} / {epochs}], Step [{i + 1}/{total_steps}], Loss: {loss.item():.6f}')\n",
    "print('Training Finished')\n"
   ]
  },
  {
   "cell_type": "code",
   "execution_count": null,
   "metadata": {},
   "outputs": [],
   "source": [
    "#Compute embeddings for KNN\n",
    "train_clustering = Subset(MEGDataset_Conv(transformed_data, label_map='multi_class_covert'), train_indices)\n",
    "clustering_loader = DataLoader(train_clustering, batch_size=1)\n",
    "\n",
    "clustering_embeddings = []\n",
    "clustering_labels = []\n",
    "\n",
    "model.eval()\n",
    "\n",
    "with torch.no_grad():\n",
    "    for i, (inputs, label) in enumerate(clustering_loader):\n",
    "        inputs = inputs.to(device, dtype=torch.float32)\n",
    "        embeddings = model(inputs)\n",
    "        clustering_embeddings.append(embeddings.cpu().numpy())\n",
    "        clustering_labels.append(label.cpu().numpy())\n",
    "\n",
    "clustering_embeddings = normalize(np.concatenate(clustering_embeddings, axis=0))\n",
    "clustering_labels = np.concatenate(clustering_labels, axis=0)\n",
    "\n",
    "test_embeddings = []\n",
    "test_labels = []\n",
    "with torch.no_grad():\n",
    "    true_labels = []\n",
    "    for i, (inputs, label) in enumerate(test_loader):\n",
    "        inputs = inputs.to(device, dtype=torch.float32)\n",
    "        embeddings = model(inputs)\n",
    "        test_embeddings.append(embeddings.cpu().numpy())\n",
    "        test_labels.append(label.cpu().numpy())\n",
    "\n",
    "test_embeddings = normalize(np.concatenate(test_embeddings, axis=0))\n",
    "test_labels = np.concatenate(test_labels, axis=0)"
   ]
  },
  {
   "cell_type": "code",
   "execution_count": null,
   "metadata": {},
   "outputs": [
    {
     "name": "stdout",
     "output_type": "stream",
     "text": [
      "KNN Accuracy: 9.92%\n",
      "KNN F1 Score: 8.90\n"
     ]
    }
   ],
   "source": [
    "from sklearn.neighbors import KNeighborsClassifier\n",
    "k = 6 #profile 1: 1 #profile 2: 10\n",
    "knn = KNeighborsClassifier(n_neighbors=k, metric='euclidean')  # Euclidean distance in embedding space\n",
    "\n",
    "# Train KNN on training embeddings\n",
    "knn.fit(clustering_embeddings, clustering_labels)\n",
    "\n",
    "# Convert test embeddings to numpy array\n",
    "test_embeddings = test_embeddings\n",
    "\n",
    "# Predict labels for test embeddings\n",
    "predicted_labels = knn.predict(test_embeddings)\n",
    "\n",
    "# Evaluate accuracy\n",
    "from sklearn.metrics import accuracy_score, f1_score\n",
    "\n",
    "accuracy = accuracy_score(test_labels, predicted_labels)\n",
    "f1 = f1_score(test_labels, predicted_labels, average='weighted')\n",
    "\n",
    "print(f\"KNN Accuracy: {accuracy * 100:.2f}%\")\n",
    "print(f\"KNN F1 Score: {f1 * 100:.2f}\")"
   ]
  },
  {
   "cell_type": "code",
   "execution_count": 324,
   "metadata": {},
   "outputs": [
    {
     "data": {
      "image/png": "[encoded data removed]",
      "text/plain": [
       "<Figure size 1000x800 with 2 Axes>"
      ]
     },
     "metadata": {},
     "output_type": "display_data"
    }
   ],
   "source": [
    "# Combine clustering and test embeddings for visualization\n",
    "from sklearn.manifold import TSNE\n",
    "\n",
    "# Combine embeddings and labels\n",
    "all_embeddings = np.concatenate((clustering_embeddings, test_embeddings), axis=0)\n",
    "all_labels = np.concatenate((clustering_labels, test_labels), axis=0)\n",
    "\n",
    "# Fit t-SNE\n",
    "tsne = TSNE(n_components=2, random_state=42)\n",
    "tsne_results = tsne.fit_transform(all_embeddings)\n",
    "\n",
    "# Split t-SNE results for clustering and test embeddings\n",
    "clustering_tsne = tsne_results[:len(clustering_embeddings)]\n",
    "test_tsne = tsne_results[len(clustering_embeddings):]\n",
    "\n",
    "# Plot the results\n",
    "plt.figure(figsize=(10, 8))\n",
    "\n",
    "# Plot clustering embeddings\n",
    "scatter_clustering = plt.scatter(\n",
    "    clustering_tsne[:, 0], clustering_tsne[:, 1],\n",
    "    c=clustering_labels, cmap='viridis', alpha=0.6, marker='o', label='Clustering Embeddings'\n",
    ")\n",
    "\n",
    "# Plot test embeddings\n",
    "scatter_test = plt.scatter(\n",
    "    test_tsne[:, 0], test_tsne[:, 1],\n",
    "    c=test_labels, cmap='viridis', alpha=0.6, marker='D', label='Test Embeddings'\n",
    ")\n",
    "\n",
    "# Add legend and colorbar\n",
    "plt.colorbar(scatter_clustering, label='Labels')\n",
    "plt.legend(loc='best')\n",
    "plt.title('t-SNE visualization of embeddings')\n",
    "plt.xlabel('t-SNE component 1')\n",
    "plt.ylabel('t-SNE component 2')\n",
    "plt.show()"
   ]
  }
 ],
 "metadata": {
  "kernelspec": {
   "display_name": "mne",
   "language": "python",
   "name": "python3"
  },
  "language_info": {
   "codemirror_mode": {
    "name": "ipython",
    "version": 3
   },
   "file_extension": ".py",
   "mimetype": "text/x-python",
   "name": "python",
   "nbconvert_exporter": "python",
   "pygments_lexer": "ipython3",
   "version": "3.12.6"
  }
 },
 "nbformat": 4,
 "nbformat_minor": 2
}
