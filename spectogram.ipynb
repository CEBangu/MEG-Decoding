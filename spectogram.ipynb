{
 "cells": [
  {
   "cell_type": "code",
   "execution_count": 1,
   "metadata": {},
   "outputs": [],
   "source": [
    "from BcomMEG import *\n",
    "from TripletMEGDataset import *\n",
    "from MEGDataset_Conv import *\n",
    "import mne\n",
    "import numpy as np\n",
    "import matplotlib.pyplot as plt\n",
    "import os\n",
    "from torch.utils.data import DataLoader, Subset\n",
    "import torch\n",
    "import torch.optim as optim\n",
    "from sklearn.model_selection import train_test_split"
   ]
  },
  {
   "cell_type": "code",
   "execution_count": 2,
   "metadata": {},
   "outputs": [],
   "source": [
    "import torch.nn as nn\n",
    "class BigTripletNet(nn.Module): #this one is designed to take in all the sensors as one big tensor\n",
    "    def __init__(self):\n",
    "        super(BigTripletNet, self).__init__()\n",
    "        \n",
    "        #Conv Blocks\n",
    "        self.conv1 = nn.Conv2d(in_channels=247, out_channels=16, kernel_size=3, padding=1)\n",
    "        self.bn1 = nn.BatchNorm2d(16)\n",
    "        self.act1 = nn.ReLU()\n",
    "        self.pool1 = nn.MaxPool2d(kernel_size=2, stride=2) #(16, 24, 40)\n",
    "\n",
    "        self.conv2 = nn.Conv2d(in_channels=16, out_channels=32, kernel_size=3, padding=1) \n",
    "        self.bn2 = nn.BatchNorm2d(32)\n",
    "        self.act2 = nn.ReLU()\n",
    "        self.pool2 = nn.MaxPool2d(kernel_size=2, stride=2) #(32, 12, 20)\n",
    "\n",
    "        self.conv3 = nn.Conv2d(in_channels=32, out_channels=64, kernel_size=3, padding=1)\n",
    "        self.bn3 = nn.BatchNorm2d(64)\n",
    "        self.act3 = nn.ReLU()\n",
    "        self.pool3 = nn.MaxPool2d(kernel_size=2, stride=2) #64, 6, 10\n",
    "\n",
    "        self.conv4 = nn.Conv2d(in_channels=64, out_channels=128, kernel_size=3, padding=1)\n",
    "        self.bn4 = nn.BatchNorm2d(128)\n",
    "        self.act4 = nn.ReLU()\n",
    "        self.pool4 = nn.MaxPool2d(kernel_size=2, stride=2) #128, 3, 5\n",
    "\n",
    "        #FC layers\n",
    "        self.fc1 = nn.Linear(1920, 512)\n",
    "        self.fc2 = nn.Linear(512, 128)\n",
    "\n",
    "\n",
    "    def forward(self, x):\n",
    "        x = self.pool1(self.act1(self.bn1(self.conv1(x))))\n",
    "        x = self.pool2(self.act2(self.bn2(self.conv2(x))))\n",
    "        x = self.pool3(self.act3(self.bn3(self.conv3(x))))\n",
    "        x = self.pool4(self.act4(self.bn4(self.conv4(x))))\n",
    "\n",
    "\n",
    "        x = x.view(x.size(0), -1)\n",
    "        x = self.fc1(x)\n",
    "        x = self.fc2(x)\n",
    "\n",
    "        return x\n",
    "    \n",
    "model = BigTripletNet()"
   ]
  },
  {
   "cell_type": "code",
   "execution_count": 3,
   "metadata": {},
   "outputs": [],
   "source": [
    "from torch.utils.data import Dataset\n",
    "import random\n",
    "import numpy as np\n",
    "import json\n",
    "import os\n",
    "\n",
    "class TripletMEGDataset(Dataset):\n",
    "    def __init__(self, BcomMEG_object, label_map, indices, normalize=False):\n",
    "        self.data_dict = BcomMEG_object \n",
    "        self.label_map = self.get_label_map(label_map)\n",
    "        self.labels = self.get_labels(self.data_dict, self.label_map)\n",
    "\n",
    "        self.data = self.data_dict.data_to_tensor(normalize)\n",
    "\n",
    "        #ONLY TRAINING SAMPLES\n",
    "        self.indices = indices\n",
    "        self.data = self.data[self.indices]\n",
    "        self.labels = [self.labels[i] for i in self.indices]\n",
    "\n",
    "       # Build an index mapping from labels to indices for efficient sampling\n",
    "        self.label_to_indices = {}\n",
    "        for idx, label in enumerate(self.labels):\n",
    "            if label not in self.label_to_indices:\n",
    "                self.label_to_indices[label] = []\n",
    "            self.label_to_indices[label].append(idx)\n",
    "\n",
    "    def get_label_map(self, map_name)->dict:\n",
    "        \n",
    "        '''This method is used by the class to populate its label_map attribute. \n",
    "        If a dictionary is passed as the map_name, then this method returns that dictionary.\n",
    "        If a string is passed, then this method searches the directory for the label_maps.json, and recovers the corresponding\n",
    "        label map if it is found in the file'''\n",
    "\n",
    "        if type(map_name) == dict:\n",
    "            label_map = map_name\n",
    "        else:\n",
    "            dir = os.getcwd()\n",
    "            with open(os.path.join(dir, 'label_maps.json'), 'r') as f:\n",
    "                label_maps = json.load(f)\n",
    "                if map_name not in label_maps:\n",
    "                    legal_names = list(label_maps.keys())\n",
    "                    raise ValueError(f\"map_name '{map_name}' not found in label_maps.json. Legal names are: {legal_names}\")\n",
    "                label_map = label_maps.get(map_name)\n",
    "        \n",
    "        return label_map\n",
    "    \n",
    "\n",
    "    def get_labels(self, data_dict, label_map) -> list:\n",
    "        '''This method is used by the class to populate its labels attribute.\n",
    "        It returns a list which matches the data at each index to its label'''\n",
    "        labels = []\n",
    "        syllable_counts = data_dict.get_syllable_counts()\n",
    "        for subject in syllable_counts:\n",
    "            for syllable in syllable_counts[subject]:\n",
    "                labels.extend([label_map[syllable]] * syllable_counts[subject][syllable])\n",
    "        return labels\n",
    "    \n",
    "\n",
    "\n",
    "\n",
    "    def __len__(self):\n",
    "        return len(self.data)\n",
    "    \n",
    "    def __getitem__(self, idx):\n",
    "        anchor = self.data[idx]\n",
    "        anchor_label = self.labels[idx]\n",
    "        \n",
    "        # Positive samples from the same class, excluding the current idx\n",
    "        positive_indices = self.label_to_indices[anchor_label]\n",
    "        positive_indices = [i for i in positive_indices if i != idx]\n",
    "        random_positive_index = random.choice(positive_indices)\n",
    "        positive = self.data[random_positive_index]\n",
    "\n",
    "        # Negative samples from different classes\n",
    "        negative_label = random.choice([label for label in self.label_to_indices if label != anchor_label])\n",
    "        negative_index = random.choice(self.label_to_indices[negative_label])\n",
    "        negative = self.data[negative_index]\n",
    "\n",
    "        return anchor, positive, negative"
   ]
  },
  {
   "cell_type": "code",
   "execution_count": 4,
   "metadata": {},
   "outputs": [
    {
     "name": "stdout",
     "output_type": "stream",
     "text": [
      "Reading /Volumes/@neurospeech/PROJECTS/BCI/BCOM/DATA_ANALYZED/EVOKED/DATA/WITHOUT_BADS/COVERT/BCOM_18_2_re_144-epo.fif ...\n",
      "    Found the data of interest:\n",
      "        t =    -300.00 ...     500.00 ms\n",
      "        0 CTF compensation matrices available\n",
      "Not setting metadata\n",
      "8 matching events found\n",
      "No baseline correction applied\n",
      "0 projection items activated\n",
      "Reading /Volumes/@neurospeech/PROJECTS/BCI/BCOM/DATA_ANALYZED/EVOKED/DATA/WITHOUT_BADS/COVERT/BCOM_18_2_i_116-epo.fif ...\n",
      "    Found the data of interest:\n",
      "        t =    -300.00 ...     500.00 ms\n",
      "        0 CTF compensation matrices available\n",
      "Not setting metadata\n",
      "12 matching events found\n",
      "No baseline correction applied\n",
      "0 projection items activated\n",
      "Reading /Volumes/@neurospeech/PROJECTS/BCI/BCOM/DATA_ANALYZED/EVOKED/DATA/WITHOUT_BADS/COVERT/BCOM_18_2_a_112-epo.fif ...\n",
      "    Found the data of interest:\n",
      "        t =    -300.00 ...     500.00 ms\n",
      "        0 CTF compensation matrices available\n",
      "Not setting metadata\n",
      "16 matching events found\n",
      "No baseline correction applied\n",
      "0 projection items activated\n",
      "Reading /Volumes/@neurospeech/PROJECTS/BCI/BCOM/DATA_ANALYZED/EVOKED/DATA/WITHOUT_BADS/COVERT/BCOM_18_2_ri_146-epo.fif ...\n",
      "    Found the data of interest:\n",
      "        t =    -300.00 ...     500.00 ms\n",
      "        0 CTF compensation matrices available\n",
      "Not setting metadata\n",
      "13 matching events found\n",
      "No baseline correction applied\n",
      "0 projection items activated\n",
      "Reading /Volumes/@neurospeech/PROJECTS/BCI/BCOM/DATA_ANALYZED/EVOKED/DATA/WITHOUT_BADS/COVERT/BCOM_18_2_sa_152-epo.fif ...\n",
      "    Found the data of interest:\n",
      "        t =    -300.00 ...     500.00 ms\n",
      "        0 CTF compensation matrices available\n",
      "Not setting metadata\n",
      "13 matching events found\n",
      "No baseline correction applied\n",
      "0 projection items activated\n",
      "Reading /Volumes/@neurospeech/PROJECTS/BCI/BCOM/DATA_ANALYZED/EVOKED/DATA/WITHOUT_BADS/COVERT/BCOM_18_2_ma_132-epo.fif ...\n",
      "    Found the data of interest:\n",
      "        t =    -300.00 ...     500.00 ms\n",
      "        0 CTF compensation matrices available\n",
      "Not setting metadata\n",
      "18 matching events found\n",
      "No baseline correction applied\n",
      "0 projection items activated\n",
      "Reading /Volumes/@neurospeech/PROJECTS/BCI/BCOM/DATA_ANALYZED/EVOKED/DATA/WITHOUT_BADS/COVERT/BCOM_18_2_ra_142-epo.fif ...\n",
      "    Found the data of interest:\n",
      "        t =    -300.00 ...     500.00 ms\n",
      "        0 CTF compensation matrices available\n",
      "Not setting metadata\n",
      "14 matching events found\n",
      "No baseline correction applied\n",
      "0 projection items activated\n",
      "Reading /Volumes/@neurospeech/PROJECTS/BCI/BCOM/DATA_ANALYZED/EVOKED/DATA/WITHOUT_BADS/COVERT/BCOM_18_2_te_164-epo.fif ...\n",
      "    Found the data of interest:\n",
      "        t =    -300.00 ...     500.00 ms\n",
      "        0 CTF compensation matrices available\n",
      "Not setting metadata\n",
      "10 matching events found\n",
      "No baseline correction applied\n",
      "0 projection items activated\n",
      "Reading /Volumes/@neurospeech/PROJECTS/BCI/BCOM/DATA_ANALYZED/EVOKED/DATA/WITHOUT_BADS/COVERT/BCOM_18_2_si_156-epo.fif ...\n",
      "    Found the data of interest:\n",
      "        t =    -300.00 ...     500.00 ms\n",
      "        0 CTF compensation matrices available\n",
      "Not setting metadata\n",
      "6 matching events found\n",
      "No baseline correction applied\n",
      "0 projection items activated\n",
      "Reading /Volumes/@neurospeech/PROJECTS/BCI/BCOM/DATA_ANALYZED/EVOKED/DATA/WITHOUT_BADS/COVERT/BCOM_18_2_li_126-epo.fif ...\n",
      "    Found the data of interest:\n",
      "        t =    -300.00 ...     500.00 ms\n",
      "        0 CTF compensation matrices available\n",
      "Not setting metadata\n",
      "14 matching events found\n",
      "No baseline correction applied\n",
      "0 projection items activated\n",
      "Reading /Volumes/@neurospeech/PROJECTS/BCI/BCOM/DATA_ANALYZED/EVOKED/DATA/WITHOUT_BADS/COVERT/BCOM_18_2_ta_162-epo.fif ...\n",
      "    Found the data of interest:\n",
      "        t =    -300.00 ...     500.00 ms\n",
      "        0 CTF compensation matrices available\n",
      "Not setting metadata\n",
      "13 matching events found\n",
      "No baseline correction applied\n",
      "0 projection items activated\n",
      "Reading /Volumes/@neurospeech/PROJECTS/BCI/BCOM/DATA_ANALYZED/EVOKED/DATA/WITHOUT_BADS/COVERT/BCOM_18_2_ti_166-epo.fif ...\n",
      "    Found the data of interest:\n",
      "        t =    -300.00 ...     500.00 ms\n",
      "        0 CTF compensation matrices available\n",
      "Not setting metadata\n",
      "6 matching events found\n",
      "No baseline correction applied\n",
      "0 projection items activated\n",
      "Reading /Volumes/@neurospeech/PROJECTS/BCI/BCOM/DATA_ANALYZED/EVOKED/DATA/WITHOUT_BADS/COVERT/BCOM_18_2_e_114-epo.fif ...\n",
      "    Found the data of interest:\n",
      "        t =    -300.00 ...     500.00 ms\n",
      "        0 CTF compensation matrices available\n",
      "Not setting metadata\n",
      "12 matching events found\n",
      "No baseline correction applied\n",
      "0 projection items activated\n",
      "Reading /Volumes/@neurospeech/PROJECTS/BCI/BCOM/DATA_ANALYZED/EVOKED/DATA/WITHOUT_BADS/COVERT/BCOM_18_2_mi_136-epo.fif ...\n",
      "    Found the data of interest:\n",
      "        t =    -300.00 ...     500.00 ms\n",
      "        0 CTF compensation matrices available\n",
      "Not setting metadata\n",
      "11 matching events found\n",
      "No baseline correction applied\n",
      "0 projection items activated\n",
      "Reading /Volumes/@neurospeech/PROJECTS/BCI/BCOM/DATA_ANALYZED/EVOKED/DATA/WITHOUT_BADS/COVERT/BCOM_18_2_se_154-epo.fif ...\n",
      "    Found the data of interest:\n",
      "        t =    -300.00 ...     500.00 ms\n",
      "        0 CTF compensation matrices available\n",
      "Not setting metadata\n",
      "5 matching events found\n",
      "No baseline correction applied\n",
      "0 projection items activated\n",
      "Reading /Volumes/@neurospeech/PROJECTS/BCI/BCOM/DATA_ANALYZED/EVOKED/DATA/WITHOUT_BADS/COVERT/BCOM_18_2_la_122-epo.fif ...\n",
      "    Found the data of interest:\n",
      "        t =    -300.00 ...     500.00 ms\n",
      "        0 CTF compensation matrices available\n",
      "Not setting metadata\n",
      "16 matching events found\n",
      "No baseline correction applied\n",
      "0 projection items activated\n",
      "Reading /Volumes/@neurospeech/PROJECTS/BCI/BCOM/DATA_ANALYZED/EVOKED/DATA/WITHOUT_BADS/COVERT/BCOM_18_2_me_134-epo.fif ...\n",
      "    Found the data of interest:\n",
      "        t =    -300.00 ...     500.00 ms\n",
      "        0 CTF compensation matrices available\n",
      "Not setting metadata\n",
      "12 matching events found\n",
      "No baseline correction applied\n",
      "0 projection items activated\n",
      "Reading /Volumes/@neurospeech/PROJECTS/BCI/BCOM/DATA_ANALYZED/EVOKED/DATA/WITHOUT_BADS/COVERT/BCOM_18_2_le_124-epo.fif ...\n",
      "    Found the data of interest:\n",
      "        t =    -300.00 ...     500.00 ms\n",
      "        0 CTF compensation matrices available\n",
      "Not setting metadata\n",
      "7 matching events found\n",
      "No baseline correction applied\n",
      "0 projection items activated\n",
      "Reading /Volumes/@neurospeech/PROJECTS/BCI/BCOM/DATA_ANALYZED/EVOKED/DATA/WITHOUT_BADS/COVERT/BCOM_18_3_ma_132-epo.fif ...\n",
      "    Found the data of interest:\n",
      "        t =    -300.00 ...     500.00 ms\n",
      "        0 CTF compensation matrices available\n",
      "Not setting metadata\n",
      "14 matching events found\n",
      "No baseline correction applied\n",
      "0 projection items activated\n",
      "Reading /Volumes/@neurospeech/PROJECTS/BCI/BCOM/DATA_ANALYZED/EVOKED/DATA/WITHOUT_BADS/COVERT/BCOM_18_3_sa_152-epo.fif ...\n",
      "    Found the data of interest:\n",
      "        t =    -300.00 ...     500.00 ms\n",
      "        0 CTF compensation matrices available\n",
      "Not setting metadata\n",
      "7 matching events found\n",
      "No baseline correction applied\n",
      "0 projection items activated\n",
      "Reading /Volumes/@neurospeech/PROJECTS/BCI/BCOM/DATA_ANALYZED/EVOKED/DATA/WITHOUT_BADS/COVERT/BCOM_18_3_mi_136-epo.fif ...\n",
      "    Found the data of interest:\n",
      "        t =    -300.00 ...     500.00 ms\n",
      "        0 CTF compensation matrices available\n",
      "Not setting metadata\n",
      "10 matching events found\n",
      "No baseline correction applied\n",
      "0 projection items activated\n",
      "Reading /Volumes/@neurospeech/PROJECTS/BCI/BCOM/DATA_ANALYZED/EVOKED/DATA/WITHOUT_BADS/COVERT/BCOM_18_3_me_134-epo.fif ...\n",
      "    Found the data of interest:\n",
      "        t =    -300.00 ...     500.00 ms\n",
      "        0 CTF compensation matrices available\n",
      "Not setting metadata\n",
      "11 matching events found\n",
      "No baseline correction applied\n",
      "0 projection items activated\n",
      "Reading /Volumes/@neurospeech/PROJECTS/BCI/BCOM/DATA_ANALYZED/EVOKED/DATA/WITHOUT_BADS/COVERT/BCOM_18_3_li_126-epo.fif ...\n",
      "    Found the data of interest:\n",
      "        t =    -300.00 ...     500.00 ms\n",
      "        0 CTF compensation matrices available\n",
      "Not setting metadata\n",
      "13 matching events found\n",
      "No baseline correction applied\n",
      "0 projection items activated\n",
      "Reading /Volumes/@neurospeech/PROJECTS/BCI/BCOM/DATA_ANALYZED/EVOKED/DATA/WITHOUT_BADS/COVERT/BCOM_18_3_se_154-epo.fif ...\n",
      "    Found the data of interest:\n",
      "        t =    -300.00 ...     500.00 ms\n",
      "        0 CTF compensation matrices available\n",
      "Not setting metadata\n",
      "11 matching events found\n",
      "No baseline correction applied\n",
      "0 projection items activated\n",
      "Reading /Volumes/@neurospeech/PROJECTS/BCI/BCOM/DATA_ANALYZED/EVOKED/DATA/WITHOUT_BADS/COVERT/BCOM_18_3_ra_142-epo.fif ...\n",
      "    Found the data of interest:\n",
      "        t =    -300.00 ...     500.00 ms\n",
      "        0 CTF compensation matrices available\n",
      "Not setting metadata\n",
      "11 matching events found\n",
      "No baseline correction applied\n",
      "0 projection items activated\n",
      "Reading /Volumes/@neurospeech/PROJECTS/BCI/BCOM/DATA_ANALYZED/EVOKED/DATA/WITHOUT_BADS/COVERT/BCOM_18_3_le_124-epo.fif ...\n",
      "    Found the data of interest:\n",
      "        t =    -300.00 ...     500.00 ms\n",
      "        0 CTF compensation matrices available\n",
      "Not setting metadata\n",
      "7 matching events found\n",
      "No baseline correction applied\n",
      "0 projection items activated\n",
      "Reading /Volumes/@neurospeech/PROJECTS/BCI/BCOM/DATA_ANALYZED/EVOKED/DATA/WITHOUT_BADS/COVERT/BCOM_18_3_e_114-epo.fif ...\n",
      "    Found the data of interest:\n",
      "        t =    -300.00 ...     500.00 ms\n",
      "        0 CTF compensation matrices available\n",
      "Not setting metadata\n",
      "9 matching events found\n",
      "No baseline correction applied\n",
      "0 projection items activated\n",
      "Reading /Volumes/@neurospeech/PROJECTS/BCI/BCOM/DATA_ANALYZED/EVOKED/DATA/WITHOUT_BADS/COVERT/BCOM_18_3_ri_146-epo.fif ...\n",
      "    Found the data of interest:\n",
      "        t =    -300.00 ...     500.00 ms\n",
      "        0 CTF compensation matrices available\n",
      "Not setting metadata\n",
      "12 matching events found\n",
      "No baseline correction applied\n",
      "0 projection items activated\n",
      "Reading /Volumes/@neurospeech/PROJECTS/BCI/BCOM/DATA_ANALYZED/EVOKED/DATA/WITHOUT_BADS/COVERT/BCOM_18_3_te_164-epo.fif ...\n",
      "    Found the data of interest:\n",
      "        t =    -300.00 ...     500.00 ms\n",
      "        0 CTF compensation matrices available\n",
      "Not setting metadata\n",
      "13 matching events found\n",
      "No baseline correction applied\n",
      "0 projection items activated\n",
      "Reading /Volumes/@neurospeech/PROJECTS/BCI/BCOM/DATA_ANALYZED/EVOKED/DATA/WITHOUT_BADS/COVERT/BCOM_18_3_a_112-epo.fif ...\n",
      "    Found the data of interest:\n",
      "        t =    -300.00 ...     500.00 ms\n",
      "        0 CTF compensation matrices available\n",
      "Not setting metadata\n",
      "16 matching events found\n",
      "No baseline correction applied\n",
      "0 projection items activated\n",
      "Reading /Volumes/@neurospeech/PROJECTS/BCI/BCOM/DATA_ANALYZED/EVOKED/DATA/WITHOUT_BADS/COVERT/BCOM_18_3_la_122-epo.fif ...\n",
      "    Found the data of interest:\n",
      "        t =    -300.00 ...     500.00 ms\n",
      "        0 CTF compensation matrices available\n",
      "Not setting metadata\n",
      "14 matching events found\n",
      "No baseline correction applied\n",
      "0 projection items activated\n",
      "Reading /Volumes/@neurospeech/PROJECTS/BCI/BCOM/DATA_ANALYZED/EVOKED/DATA/WITHOUT_BADS/COVERT/BCOM_18_3_ta_162-epo.fif ...\n",
      "    Found the data of interest:\n",
      "        t =    -300.00 ...     500.00 ms\n",
      "        0 CTF compensation matrices available\n",
      "Not setting metadata\n",
      "8 matching events found\n",
      "No baseline correction applied\n",
      "0 projection items activated\n",
      "Reading /Volumes/@neurospeech/PROJECTS/BCI/BCOM/DATA_ANALYZED/EVOKED/DATA/WITHOUT_BADS/COVERT/BCOM_18_3_si_156-epo.fif ...\n",
      "    Found the data of interest:\n",
      "        t =    -300.00 ...     500.00 ms\n",
      "        0 CTF compensation matrices available\n",
      "Not setting metadata\n",
      "10 matching events found\n",
      "No baseline correction applied\n",
      "0 projection items activated\n",
      "Reading /Volumes/@neurospeech/PROJECTS/BCI/BCOM/DATA_ANALYZED/EVOKED/DATA/WITHOUT_BADS/COVERT/BCOM_18_3_re_144-epo.fif ...\n",
      "    Found the data of interest:\n",
      "        t =    -300.00 ...     500.00 ms\n",
      "        0 CTF compensation matrices available\n",
      "Not setting metadata\n",
      "12 matching events found\n",
      "No baseline correction applied\n",
      "0 projection items activated\n",
      "Reading /Volumes/@neurospeech/PROJECTS/BCI/BCOM/DATA_ANALYZED/EVOKED/DATA/WITHOUT_BADS/COVERT/BCOM_18_3_i_116-epo.fif ...\n",
      "    Found the data of interest:\n",
      "        t =    -300.00 ...     500.00 ms\n",
      "        0 CTF compensation matrices available\n",
      "Not setting metadata\n",
      "13 matching events found\n",
      "No baseline correction applied\n",
      "0 projection items activated\n",
      "Reading /Volumes/@neurospeech/PROJECTS/BCI/BCOM/DATA_ANALYZED/EVOKED/DATA/WITHOUT_BADS/COVERT/BCOM_18_3_ti_166-epo.fif ...\n",
      "    Found the data of interest:\n",
      "        t =    -300.00 ...     500.00 ms\n",
      "        0 CTF compensation matrices available\n",
      "Not setting metadata\n",
      "14 matching events found\n",
      "No baseline correction applied\n",
      "0 projection items activated\n",
      "Reading /Volumes/@neurospeech/PROJECTS/BCI/BCOM/DATA_ANALYZED/EVOKED/DATA/WITHOUT_BADS/COVERT/BCOM_18_4_a_112-epo.fif ...\n",
      "    Found the data of interest:\n",
      "        t =    -300.00 ...     500.00 ms\n",
      "        0 CTF compensation matrices available\n",
      "Not setting metadata\n",
      "5 matching events found\n",
      "No baseline correction applied\n",
      "0 projection items activated\n",
      "Reading /Volumes/@neurospeech/PROJECTS/BCI/BCOM/DATA_ANALYZED/EVOKED/DATA/WITHOUT_BADS/COVERT/BCOM_18_4_me_134-epo.fif ...\n",
      "    Found the data of interest:\n",
      "        t =    -300.00 ...     500.00 ms\n",
      "        0 CTF compensation matrices available\n",
      "Not setting metadata\n",
      "13 matching events found\n",
      "No baseline correction applied\n",
      "0 projection items activated\n",
      "Reading /Volumes/@neurospeech/PROJECTS/BCI/BCOM/DATA_ANALYZED/EVOKED/DATA/WITHOUT_BADS/COVERT/BCOM_18_4_sa_152-epo.fif ...\n",
      "    Found the data of interest:\n",
      "        t =    -300.00 ...     500.00 ms\n",
      "        0 CTF compensation matrices available\n",
      "Not setting metadata\n",
      "4 matching events found\n",
      "No baseline correction applied\n",
      "0 projection items activated\n",
      "Reading /Volumes/@neurospeech/PROJECTS/BCI/BCOM/DATA_ANALYZED/EVOKED/DATA/WITHOUT_BADS/COVERT/BCOM_18_4_ri_146-epo.fif ...\n",
      "    Found the data of interest:\n",
      "        t =    -300.00 ...     500.00 ms\n",
      "        0 CTF compensation matrices available\n",
      "Not setting metadata\n",
      "13 matching events found\n",
      "No baseline correction applied\n",
      "0 projection items activated\n",
      "Reading /Volumes/@neurospeech/PROJECTS/BCI/BCOM/DATA_ANALYZED/EVOKED/DATA/WITHOUT_BADS/COVERT/BCOM_18_4_i_116-epo.fif ...\n",
      "    Found the data of interest:\n",
      "        t =    -300.00 ...     500.00 ms\n",
      "        0 CTF compensation matrices available\n",
      "Not setting metadata\n",
      "11 matching events found\n",
      "No baseline correction applied\n",
      "0 projection items activated\n",
      "Reading /Volumes/@neurospeech/PROJECTS/BCI/BCOM/DATA_ANALYZED/EVOKED/DATA/WITHOUT_BADS/COVERT/BCOM_18_4_ra_142-epo.fif ...\n",
      "    Found the data of interest:\n",
      "        t =    -300.00 ...     500.00 ms\n",
      "        0 CTF compensation matrices available\n",
      "Not setting metadata\n",
      "13 matching events found\n",
      "No baseline correction applied\n",
      "0 projection items activated\n",
      "Reading /Volumes/@neurospeech/PROJECTS/BCI/BCOM/DATA_ANALYZED/EVOKED/DATA/WITHOUT_BADS/COVERT/BCOM_18_4_te_164-epo.fif ...\n",
      "    Found the data of interest:\n",
      "        t =    -300.00 ...     500.00 ms\n",
      "        0 CTF compensation matrices available\n",
      "Not setting metadata\n",
      "11 matching events found\n",
      "No baseline correction applied\n",
      "0 projection items activated\n",
      "Reading /Volumes/@neurospeech/PROJECTS/BCI/BCOM/DATA_ANALYZED/EVOKED/DATA/WITHOUT_BADS/COVERT/BCOM_18_4_mi_136-epo.fif ...\n",
      "    Found the data of interest:\n",
      "        t =    -300.00 ...     500.00 ms\n",
      "        0 CTF compensation matrices available\n",
      "Not setting metadata\n",
      "18 matching events found\n",
      "No baseline correction applied\n",
      "0 projection items activated\n",
      "Reading /Volumes/@neurospeech/PROJECTS/BCI/BCOM/DATA_ANALYZED/EVOKED/DATA/WITHOUT_BADS/COVERT/BCOM_18_4_le_124-epo.fif ...\n",
      "    Found the data of interest:\n",
      "        t =    -300.00 ...     500.00 ms\n",
      "        0 CTF compensation matrices available\n",
      "Not setting metadata\n",
      "3 matching events found\n",
      "No baseline correction applied\n",
      "0 projection items activated\n",
      "Reading /Volumes/@neurospeech/PROJECTS/BCI/BCOM/DATA_ANALYZED/EVOKED/DATA/WITHOUT_BADS/COVERT/BCOM_18_4_si_156-epo.fif ...\n",
      "    Found the data of interest:\n",
      "        t =    -300.00 ...     500.00 ms\n",
      "        0 CTF compensation matrices available\n",
      "Not setting metadata\n",
      "16 matching events found\n",
      "No baseline correction applied\n",
      "0 projection items activated\n",
      "Reading /Volumes/@neurospeech/PROJECTS/BCI/BCOM/DATA_ANALYZED/EVOKED/DATA/WITHOUT_BADS/COVERT/BCOM_18_4_ma_132-epo.fif ...\n",
      "    Found the data of interest:\n",
      "        t =    -300.00 ...     500.00 ms\n",
      "        0 CTF compensation matrices available\n",
      "Not setting metadata\n",
      "13 matching events found\n",
      "No baseline correction applied\n",
      "0 projection items activated\n",
      "Reading /Volumes/@neurospeech/PROJECTS/BCI/BCOM/DATA_ANALYZED/EVOKED/DATA/WITHOUT_BADS/COVERT/BCOM_18_4_e_114-epo.fif ...\n",
      "    Found the data of interest:\n",
      "        t =    -300.00 ...     500.00 ms\n",
      "        0 CTF compensation matrices available\n",
      "Not setting metadata\n",
      "10 matching events found\n",
      "No baseline correction applied\n",
      "0 projection items activated\n",
      "Reading /Volumes/@neurospeech/PROJECTS/BCI/BCOM/DATA_ANALYZED/EVOKED/DATA/WITHOUT_BADS/COVERT/BCOM_18_4_ta_162-epo.fif ...\n",
      "    Found the data of interest:\n",
      "        t =    -300.00 ...     500.00 ms\n",
      "        0 CTF compensation matrices available\n",
      "Not setting metadata\n",
      "13 matching events found\n",
      "No baseline correction applied\n",
      "0 projection items activated\n",
      "Reading /Volumes/@neurospeech/PROJECTS/BCI/BCOM/DATA_ANALYZED/EVOKED/DATA/WITHOUT_BADS/COVERT/BCOM_18_4_la_122-epo.fif ...\n",
      "    Found the data of interest:\n",
      "        t =    -300.00 ...     500.00 ms\n",
      "        0 CTF compensation matrices available\n",
      "Not setting metadata\n",
      "10 matching events found\n",
      "No baseline correction applied\n",
      "0 projection items activated\n",
      "Reading /Volumes/@neurospeech/PROJECTS/BCI/BCOM/DATA_ANALYZED/EVOKED/DATA/WITHOUT_BADS/COVERT/BCOM_18_4_re_144-epo.fif ...\n",
      "    Found the data of interest:\n",
      "        t =    -300.00 ...     500.00 ms\n",
      "        0 CTF compensation matrices available\n",
      "Not setting metadata\n",
      "12 matching events found\n",
      "No baseline correction applied\n",
      "0 projection items activated\n",
      "Reading /Volumes/@neurospeech/PROJECTS/BCI/BCOM/DATA_ANALYZED/EVOKED/DATA/WITHOUT_BADS/COVERT/BCOM_18_4_ti_166-epo.fif ...\n",
      "    Found the data of interest:\n",
      "        t =    -300.00 ...     500.00 ms\n",
      "        0 CTF compensation matrices available\n",
      "Not setting metadata\n",
      "10 matching events found\n",
      "No baseline correction applied\n",
      "0 projection items activated\n",
      "Reading /Volumes/@neurospeech/PROJECTS/BCI/BCOM/DATA_ANALYZED/EVOKED/DATA/WITHOUT_BADS/COVERT/BCOM_18_4_se_154-epo.fif ...\n",
      "    Found the data of interest:\n",
      "        t =    -300.00 ...     500.00 ms\n",
      "        0 CTF compensation matrices available\n",
      "Not setting metadata\n",
      "7 matching events found\n",
      "No baseline correction applied\n",
      "0 projection items activated\n",
      "Reading /Volumes/@neurospeech/PROJECTS/BCI/BCOM/DATA_ANALYZED/EVOKED/DATA/WITHOUT_BADS/COVERT/BCOM_18_4_li_126-epo.fif ...\n",
      "    Found the data of interest:\n",
      "        t =    -300.00 ...     500.00 ms\n",
      "        0 CTF compensation matrices available\n",
      "Not setting metadata\n",
      "9 matching events found\n",
      "No baseline correction applied\n",
      "0 projection items activated\n"
     ]
    }
   ],
   "source": [
    "dir = '/Volumes/@neurospeech/PROJECTS/BCI/BCOM/DATA_ANALYZED/EVOKED/DATA/WITHOUT_BADS/COVERT'\n",
    "subject = ['BCOM_18_2', 'BCOM_18_3', 'BCOM_18_4']\n",
    "avoid_reading=True\n",
    "picks=None\n",
    "frequencies = np.array(range(2, 100, 2))\n",
    "divisor = 7\n",
    "baseline = (None, 0)\n",
    "\n",
    "data = BcomMEG(subjects=subject, \n",
    "               dir=dir, \n",
    "               picks=picks, \n",
    "               avoid_reading=True)"
   ]
  },
  {
   "cell_type": "code",
   "execution_count": 5,
   "metadata": {},
   "outputs": [
    {
     "name": "stdout",
     "output_type": "stream",
     "text": [
      "NB! Data_only is set to true. To get accurate plots, the extent will have to be set manually, and channels \n",
      "will have to be specified as indexes, not names\n",
      "NOTE: tfr_morlet() is a legacy function. New code should use .compute_tfr(method=\"morlet\").\n"
     ]
    },
    {
     "name": "stderr",
     "output_type": "stream",
     "text": [
      "[Parallel(n_jobs=10)]: Using backend LokyBackend with 10 concurrent workers.\n"
     ]
    },
    {
     "name": "stdout",
     "output_type": "stream",
     "text": [
      "Applying baseline correction (mode: zscore)\n"
     ]
    },
    {
     "name": "stderr",
     "output_type": "stream",
     "text": [
      "[Parallel(n_jobs=10)]: Done   8 tasks      | elapsed:    1.9s\n",
      "[Parallel(n_jobs=10)]: Done 172 tasks      | elapsed:    2.1s\n",
      "[Parallel(n_jobs=10)]: Done 247 out of 247 | elapsed:    2.1s finished\n"
     ]
    },
    {
     "name": "stdout",
     "output_type": "stream",
     "text": [
      "NOTE: tfr_morlet() is a legacy function. New code should use .compute_tfr(method=\"morlet\").\n",
      "Applying baseline correction (mode: zscore)\n",
      "NOTE: tfr_morlet() is a legacy function. New code should use .compute_tfr(method=\"morlet\").\n"
     ]
    },
    {
     "name": "stderr",
     "output_type": "stream",
     "text": [
      "[Parallel(n_jobs=10)]: Using backend LokyBackend with 10 concurrent workers.\n",
      "[Parallel(n_jobs=10)]: Done   8 tasks      | elapsed:    0.0s\n",
      "[Parallel(n_jobs=10)]: Done 172 tasks      | elapsed:    0.0s\n",
      "[Parallel(n_jobs=10)]: Done 247 out of 247 | elapsed:    0.1s finished\n",
      "[Parallel(n_jobs=10)]: Using backend LokyBackend with 10 concurrent workers.\n",
      "[Parallel(n_jobs=10)]: Done   8 tasks      | elapsed:    0.0s\n",
      "[Parallel(n_jobs=10)]: Done 172 tasks      | elapsed:    0.0s\n"
     ]
    },
    {
     "name": "stdout",
     "output_type": "stream",
     "text": [
      "Applying baseline correction (mode: zscore)\n",
      "NOTE: tfr_morlet() is a legacy function. New code should use .compute_tfr(method=\"morlet\").\n",
      "Applying baseline correction (mode: zscore)\n",
      "NOTE: tfr_morlet() is a legacy function. New code should use .compute_tfr(method=\"morlet\").\n"
     ]
    },
    {
     "name": "stderr",
     "output_type": "stream",
     "text": [
      "[Parallel(n_jobs=10)]: Done 247 out of 247 | elapsed:    0.1s finished\n",
      "[Parallel(n_jobs=10)]: Using backend LokyBackend with 10 concurrent workers.\n",
      "[Parallel(n_jobs=10)]: Done   8 tasks      | elapsed:    0.0s\n",
      "[Parallel(n_jobs=10)]: Done 172 tasks      | elapsed:    0.0s\n",
      "[Parallel(n_jobs=10)]: Done 247 out of 247 | elapsed:    0.1s finished\n",
      "[Parallel(n_jobs=10)]: Using backend LokyBackend with 10 concurrent workers.\n",
      "[Parallel(n_jobs=10)]: Done   8 tasks      | elapsed:    0.0s\n",
      "[Parallel(n_jobs=10)]: Done 172 tasks      | elapsed:    0.0s\n"
     ]
    },
    {
     "name": "stdout",
     "output_type": "stream",
     "text": [
      "Applying baseline correction (mode: zscore)\n",
      "NOTE: tfr_morlet() is a legacy function. New code should use .compute_tfr(method=\"morlet\").\n",
      "Applying baseline correction (mode: zscore)\n",
      "NOTE: tfr_morlet() is a legacy function. New code should use .compute_tfr(method=\"morlet\").\n"
     ]
    },
    {
     "name": "stderr",
     "output_type": "stream",
     "text": [
      "[Parallel(n_jobs=10)]: Done 247 out of 247 | elapsed:    0.1s finished\n",
      "[Parallel(n_jobs=10)]: Using backend LokyBackend with 10 concurrent workers.\n",
      "[Parallel(n_jobs=10)]: Done   8 tasks      | elapsed:    0.0s\n",
      "[Parallel(n_jobs=10)]: Done 172 tasks      | elapsed:    0.0s\n",
      "[Parallel(n_jobs=10)]: Done 247 out of 247 | elapsed:    0.1s finished\n",
      "[Parallel(n_jobs=10)]: Using backend LokyBackend with 10 concurrent workers.\n",
      "[Parallel(n_jobs=10)]: Done   8 tasks      | elapsed:    0.0s\n",
      "[Parallel(n_jobs=10)]: Done 172 tasks      | elapsed:    0.1s\n"
     ]
    },
    {
     "name": "stdout",
     "output_type": "stream",
     "text": [
      "Applying baseline correction (mode: zscore)\n",
      "NOTE: tfr_morlet() is a legacy function. New code should use .compute_tfr(method=\"morlet\").\n",
      "Applying baseline correction (mode: zscore)\n",
      "NOTE: tfr_morlet() is a legacy function. New code should use .compute_tfr(method=\"morlet\").\n"
     ]
    },
    {
     "name": "stderr",
     "output_type": "stream",
     "text": [
      "[Parallel(n_jobs=10)]: Done 247 out of 247 | elapsed:    0.1s finished\n",
      "[Parallel(n_jobs=10)]: Using backend LokyBackend with 10 concurrent workers.\n",
      "[Parallel(n_jobs=10)]: Done   8 tasks      | elapsed:    0.0s\n",
      "[Parallel(n_jobs=10)]: Done 172 tasks      | elapsed:    0.0s\n",
      "[Parallel(n_jobs=10)]: Done 247 out of 247 | elapsed:    0.1s finished\n",
      "[Parallel(n_jobs=10)]: Using backend LokyBackend with 10 concurrent workers.\n",
      "[Parallel(n_jobs=10)]: Done   8 tasks      | elapsed:    0.0s\n",
      "[Parallel(n_jobs=10)]: Done 172 tasks      | elapsed:    0.0s\n"
     ]
    },
    {
     "name": "stdout",
     "output_type": "stream",
     "text": [
      "Applying baseline correction (mode: zscore)\n",
      "NOTE: tfr_morlet() is a legacy function. New code should use .compute_tfr(method=\"morlet\").\n",
      "Applying baseline correction (mode: zscore)\n",
      "NOTE: tfr_morlet() is a legacy function. New code should use .compute_tfr(method=\"morlet\").\n"
     ]
    },
    {
     "name": "stderr",
     "output_type": "stream",
     "text": [
      "[Parallel(n_jobs=10)]: Done 247 out of 247 | elapsed:    0.1s finished\n",
      "[Parallel(n_jobs=10)]: Using backend LokyBackend with 10 concurrent workers.\n",
      "[Parallel(n_jobs=10)]: Done   8 tasks      | elapsed:    0.0s\n",
      "[Parallel(n_jobs=10)]: Done 172 tasks      | elapsed:    0.0s\n",
      "[Parallel(n_jobs=10)]: Done 247 out of 247 | elapsed:    0.1s finished\n",
      "[Parallel(n_jobs=10)]: Using backend LokyBackend with 10 concurrent workers.\n",
      "[Parallel(n_jobs=10)]: Done   8 tasks      | elapsed:    0.0s\n",
      "[Parallel(n_jobs=10)]: Done 172 tasks      | elapsed:    0.0s\n"
     ]
    },
    {
     "name": "stdout",
     "output_type": "stream",
     "text": [
      "Applying baseline correction (mode: zscore)\n",
      "NOTE: tfr_morlet() is a legacy function. New code should use .compute_tfr(method=\"morlet\").\n",
      "Applying baseline correction (mode: zscore)\n",
      "NOTE: tfr_morlet() is a legacy function. New code should use .compute_tfr(method=\"morlet\").\n"
     ]
    },
    {
     "name": "stderr",
     "output_type": "stream",
     "text": [
      "[Parallel(n_jobs=10)]: Done 247 out of 247 | elapsed:    0.1s finished\n",
      "[Parallel(n_jobs=10)]: Using backend LokyBackend with 10 concurrent workers.\n",
      "[Parallel(n_jobs=10)]: Done   8 tasks      | elapsed:    0.0s\n",
      "[Parallel(n_jobs=10)]: Done 172 tasks      | elapsed:    0.0s\n",
      "[Parallel(n_jobs=10)]: Done 247 out of 247 | elapsed:    0.1s finished\n",
      "[Parallel(n_jobs=10)]: Using backend LokyBackend with 10 concurrent workers.\n",
      "[Parallel(n_jobs=10)]: Done   8 tasks      | elapsed:    0.0s\n",
      "[Parallel(n_jobs=10)]: Done 172 tasks      | elapsed:    0.0s\n"
     ]
    },
    {
     "name": "stdout",
     "output_type": "stream",
     "text": [
      "Applying baseline correction (mode: zscore)\n",
      "NOTE: tfr_morlet() is a legacy function. New code should use .compute_tfr(method=\"morlet\").\n",
      "Applying baseline correction (mode: zscore)\n",
      "NOTE: tfr_morlet() is a legacy function. New code should use .compute_tfr(method=\"morlet\").\n"
     ]
    },
    {
     "name": "stderr",
     "output_type": "stream",
     "text": [
      "[Parallel(n_jobs=10)]: Done 247 out of 247 | elapsed:    0.1s finished\n",
      "[Parallel(n_jobs=10)]: Using backend LokyBackend with 10 concurrent workers.\n",
      "[Parallel(n_jobs=10)]: Done   8 tasks      | elapsed:    0.0s\n",
      "[Parallel(n_jobs=10)]: Done 172 tasks      | elapsed:    0.0s\n",
      "[Parallel(n_jobs=10)]: Done 247 out of 247 | elapsed:    0.1s finished\n",
      "[Parallel(n_jobs=10)]: Using backend LokyBackend with 10 concurrent workers.\n",
      "[Parallel(n_jobs=10)]: Done   8 tasks      | elapsed:    0.0s\n",
      "[Parallel(n_jobs=10)]: Done 172 tasks      | elapsed:    0.0s\n"
     ]
    },
    {
     "name": "stdout",
     "output_type": "stream",
     "text": [
      "Applying baseline correction (mode: zscore)\n",
      "NOTE: tfr_morlet() is a legacy function. New code should use .compute_tfr(method=\"morlet\").\n",
      "Applying baseline correction (mode: zscore)\n",
      "NOTE: tfr_morlet() is a legacy function. New code should use .compute_tfr(method=\"morlet\").\n"
     ]
    },
    {
     "name": "stderr",
     "output_type": "stream",
     "text": [
      "[Parallel(n_jobs=10)]: Done 247 out of 247 | elapsed:    0.1s finished\n",
      "[Parallel(n_jobs=10)]: Using backend LokyBackend with 10 concurrent workers.\n",
      "[Parallel(n_jobs=10)]: Done   8 tasks      | elapsed:    0.0s\n",
      "[Parallel(n_jobs=10)]: Done 172 tasks      | elapsed:    0.0s\n",
      "[Parallel(n_jobs=10)]: Done 247 out of 247 | elapsed:    0.1s finished\n",
      "[Parallel(n_jobs=10)]: Using backend LokyBackend with 10 concurrent workers.\n",
      "[Parallel(n_jobs=10)]: Done   8 tasks      | elapsed:    0.0s\n",
      "[Parallel(n_jobs=10)]: Done 172 tasks      | elapsed:    0.1s\n"
     ]
    },
    {
     "name": "stdout",
     "output_type": "stream",
     "text": [
      "Applying baseline correction (mode: zscore)\n",
      "NOTE: tfr_morlet() is a legacy function. New code should use .compute_tfr(method=\"morlet\").\n",
      "Applying baseline correction (mode: zscore)\n",
      "NOTE: tfr_morlet() is a legacy function. New code should use .compute_tfr(method=\"morlet\").\n"
     ]
    },
    {
     "name": "stderr",
     "output_type": "stream",
     "text": [
      "[Parallel(n_jobs=10)]: Done 247 out of 247 | elapsed:    0.1s finished\n",
      "[Parallel(n_jobs=10)]: Using backend LokyBackend with 10 concurrent workers.\n",
      "[Parallel(n_jobs=10)]: Done   8 tasks      | elapsed:    0.0s\n",
      "[Parallel(n_jobs=10)]: Done 172 tasks      | elapsed:    0.0s\n",
      "[Parallel(n_jobs=10)]: Done 247 out of 247 | elapsed:    0.1s finished\n",
      "[Parallel(n_jobs=10)]: Using backend LokyBackend with 10 concurrent workers.\n",
      "[Parallel(n_jobs=10)]: Done   8 tasks      | elapsed:    0.0s\n",
      "[Parallel(n_jobs=10)]: Done 172 tasks      | elapsed:    0.0s\n"
     ]
    },
    {
     "name": "stdout",
     "output_type": "stream",
     "text": [
      "Applying baseline correction (mode: zscore)\n",
      "NOTE: tfr_morlet() is a legacy function. New code should use .compute_tfr(method=\"morlet\").\n",
      "Applying baseline correction (mode: zscore)\n",
      "NOTE: tfr_morlet() is a legacy function. New code should use .compute_tfr(method=\"morlet\").\n"
     ]
    },
    {
     "name": "stderr",
     "output_type": "stream",
     "text": [
      "[Parallel(n_jobs=10)]: Done 247 out of 247 | elapsed:    0.1s finished\n",
      "[Parallel(n_jobs=10)]: Using backend LokyBackend with 10 concurrent workers.\n",
      "[Parallel(n_jobs=10)]: Done   8 tasks      | elapsed:    0.0s\n",
      "[Parallel(n_jobs=10)]: Done 172 tasks      | elapsed:    0.1s\n",
      "[Parallel(n_jobs=10)]: Done 247 out of 247 | elapsed:    0.1s finished\n",
      "[Parallel(n_jobs=10)]: Using backend LokyBackend with 10 concurrent workers.\n",
      "[Parallel(n_jobs=10)]: Done   8 tasks      | elapsed:    0.0s\n"
     ]
    },
    {
     "name": "stdout",
     "output_type": "stream",
     "text": [
      "Applying baseline correction (mode: zscore)\n",
      "NOTE: tfr_morlet() is a legacy function. New code should use .compute_tfr(method=\"morlet\").\n",
      "Applying baseline correction (mode: zscore)\n"
     ]
    },
    {
     "name": "stderr",
     "output_type": "stream",
     "text": [
      "[Parallel(n_jobs=10)]: Done 172 tasks      | elapsed:    0.0s\n",
      "[Parallel(n_jobs=10)]: Done 247 out of 247 | elapsed:    0.1s finished\n",
      "[Parallel(n_jobs=10)]: Using backend LokyBackend with 10 concurrent workers.\n",
      "[Parallel(n_jobs=10)]: Done   8 tasks      | elapsed:    0.0s\n",
      "[Parallel(n_jobs=10)]: Done 172 tasks      | elapsed:    0.0s\n",
      "[Parallel(n_jobs=10)]: Done 247 out of 247 | elapsed:    0.1s finished\n"
     ]
    },
    {
     "name": "stdout",
     "output_type": "stream",
     "text": [
      "NOTE: tfr_morlet() is a legacy function. New code should use .compute_tfr(method=\"morlet\").\n",
      "Applying baseline correction (mode: zscore)\n",
      "NOTE: tfr_morlet() is a legacy function. New code should use .compute_tfr(method=\"morlet\").\n"
     ]
    },
    {
     "name": "stderr",
     "output_type": "stream",
     "text": [
      "[Parallel(n_jobs=10)]: Using backend LokyBackend with 10 concurrent workers.\n",
      "[Parallel(n_jobs=10)]: Done   8 tasks      | elapsed:    0.0s\n",
      "[Parallel(n_jobs=10)]: Done 172 tasks      | elapsed:    0.1s\n",
      "[Parallel(n_jobs=10)]: Done 247 out of 247 | elapsed:    0.1s finished\n",
      "[Parallel(n_jobs=10)]: Using backend LokyBackend with 10 concurrent workers.\n",
      "[Parallel(n_jobs=10)]: Done   8 tasks      | elapsed:    0.0s\n",
      "[Parallel(n_jobs=10)]: Done 172 tasks      | elapsed:    0.1s\n"
     ]
    },
    {
     "name": "stdout",
     "output_type": "stream",
     "text": [
      "Applying baseline correction (mode: zscore)\n",
      "NOTE: tfr_morlet() is a legacy function. New code should use .compute_tfr(method=\"morlet\").\n",
      "Applying baseline correction (mode: zscore)\n",
      "NOTE: tfr_morlet() is a legacy function. New code should use .compute_tfr(method=\"morlet\").\n"
     ]
    },
    {
     "name": "stderr",
     "output_type": "stream",
     "text": [
      "[Parallel(n_jobs=10)]: Done 247 out of 247 | elapsed:    0.1s finished\n",
      "[Parallel(n_jobs=10)]: Using backend LokyBackend with 10 concurrent workers.\n",
      "[Parallel(n_jobs=10)]: Done   8 tasks      | elapsed:    0.0s\n",
      "[Parallel(n_jobs=10)]: Done 172 tasks      | elapsed:    0.0s\n",
      "[Parallel(n_jobs=10)]: Done 247 out of 247 | elapsed:    0.1s finished\n",
      "[Parallel(n_jobs=10)]: Using backend LokyBackend with 10 concurrent workers.\n",
      "[Parallel(n_jobs=10)]: Done   8 tasks      | elapsed:    0.0s\n",
      "[Parallel(n_jobs=10)]: Done 172 tasks      | elapsed:    0.0s\n"
     ]
    },
    {
     "name": "stdout",
     "output_type": "stream",
     "text": [
      "Applying baseline correction (mode: zscore)\n",
      "NOTE: tfr_morlet() is a legacy function. New code should use .compute_tfr(method=\"morlet\").\n",
      "Applying baseline correction (mode: zscore)\n",
      "NOTE: tfr_morlet() is a legacy function. New code should use .compute_tfr(method=\"morlet\").\n"
     ]
    },
    {
     "name": "stderr",
     "output_type": "stream",
     "text": [
      "[Parallel(n_jobs=10)]: Done 247 out of 247 | elapsed:    0.1s finished\n",
      "[Parallel(n_jobs=10)]: Using backend LokyBackend with 10 concurrent workers.\n",
      "[Parallel(n_jobs=10)]: Done   8 tasks      | elapsed:    0.0s\n",
      "[Parallel(n_jobs=10)]: Done 172 tasks      | elapsed:    0.0s\n",
      "[Parallel(n_jobs=10)]: Done 247 out of 247 | elapsed:    0.1s finished\n",
      "[Parallel(n_jobs=10)]: Using backend LokyBackend with 10 concurrent workers.\n",
      "[Parallel(n_jobs=10)]: Done   8 tasks      | elapsed:    0.0s\n",
      "[Parallel(n_jobs=10)]: Done 172 tasks      | elapsed:    0.0s\n"
     ]
    },
    {
     "name": "stdout",
     "output_type": "stream",
     "text": [
      "Applying baseline correction (mode: zscore)\n",
      "NOTE: tfr_morlet() is a legacy function. New code should use .compute_tfr(method=\"morlet\").\n",
      "Applying baseline correction (mode: zscore)\n",
      "NOTE: tfr_morlet() is a legacy function. New code should use .compute_tfr(method=\"morlet\").\n"
     ]
    },
    {
     "name": "stderr",
     "output_type": "stream",
     "text": [
      "[Parallel(n_jobs=10)]: Done 247 out of 247 | elapsed:    0.1s finished\n",
      "[Parallel(n_jobs=10)]: Using backend LokyBackend with 10 concurrent workers.\n",
      "[Parallel(n_jobs=10)]: Done   8 tasks      | elapsed:    0.0s\n",
      "[Parallel(n_jobs=10)]: Done 172 tasks      | elapsed:    0.0s\n",
      "[Parallel(n_jobs=10)]: Done 247 out of 247 | elapsed:    0.1s finished\n",
      "[Parallel(n_jobs=10)]: Using backend LokyBackend with 10 concurrent workers.\n",
      "[Parallel(n_jobs=10)]: Done   8 tasks      | elapsed:    0.0s\n",
      "[Parallel(n_jobs=10)]: Done 172 tasks      | elapsed:    0.0s\n"
     ]
    },
    {
     "name": "stdout",
     "output_type": "stream",
     "text": [
      "Applying baseline correction (mode: zscore)\n",
      "NOTE: tfr_morlet() is a legacy function. New code should use .compute_tfr(method=\"morlet\").\n",
      "Applying baseline correction (mode: zscore)\n",
      "NOTE: tfr_morlet() is a legacy function. New code should use .compute_tfr(method=\"morlet\").\n"
     ]
    },
    {
     "name": "stderr",
     "output_type": "stream",
     "text": [
      "[Parallel(n_jobs=10)]: Done 247 out of 247 | elapsed:    0.1s finished\n",
      "[Parallel(n_jobs=10)]: Using backend LokyBackend with 10 concurrent workers.\n",
      "[Parallel(n_jobs=10)]: Done   8 tasks      | elapsed:    0.0s\n",
      "[Parallel(n_jobs=10)]: Done 172 tasks      | elapsed:    0.0s\n",
      "[Parallel(n_jobs=10)]: Done 247 out of 247 | elapsed:    0.1s finished\n",
      "[Parallel(n_jobs=10)]: Using backend LokyBackend with 10 concurrent workers.\n",
      "[Parallel(n_jobs=10)]: Done   8 tasks      | elapsed:    0.0s\n",
      "[Parallel(n_jobs=10)]: Done 172 tasks      | elapsed:    0.0s\n"
     ]
    },
    {
     "name": "stdout",
     "output_type": "stream",
     "text": [
      "Applying baseline correction (mode: zscore)\n",
      "NOTE: tfr_morlet() is a legacy function. New code should use .compute_tfr(method=\"morlet\").\n",
      "Applying baseline correction (mode: zscore)\n",
      "NOTE: tfr_morlet() is a legacy function. New code should use .compute_tfr(method=\"morlet\").\n"
     ]
    },
    {
     "name": "stderr",
     "output_type": "stream",
     "text": [
      "[Parallel(n_jobs=10)]: Done 247 out of 247 | elapsed:    0.1s finished\n",
      "[Parallel(n_jobs=10)]: Using backend LokyBackend with 10 concurrent workers.\n",
      "[Parallel(n_jobs=10)]: Done   8 tasks      | elapsed:    0.0s\n",
      "[Parallel(n_jobs=10)]: Done 172 tasks      | elapsed:    0.0s\n",
      "[Parallel(n_jobs=10)]: Done 247 out of 247 | elapsed:    0.1s finished\n",
      "[Parallel(n_jobs=10)]: Using backend LokyBackend with 10 concurrent workers.\n",
      "[Parallel(n_jobs=10)]: Done   8 tasks      | elapsed:    0.0s\n",
      "[Parallel(n_jobs=10)]: Done 172 tasks      | elapsed:    0.0s\n"
     ]
    },
    {
     "name": "stdout",
     "output_type": "stream",
     "text": [
      "Applying baseline correction (mode: zscore)\n",
      "NOTE: tfr_morlet() is a legacy function. New code should use .compute_tfr(method=\"morlet\").\n",
      "Applying baseline correction (mode: zscore)\n",
      "NOTE: tfr_morlet() is a legacy function. New code should use .compute_tfr(method=\"morlet\").\n"
     ]
    },
    {
     "name": "stderr",
     "output_type": "stream",
     "text": [
      "[Parallel(n_jobs=10)]: Done 247 out of 247 | elapsed:    0.1s finished\n",
      "[Parallel(n_jobs=10)]: Using backend LokyBackend with 10 concurrent workers.\n",
      "[Parallel(n_jobs=10)]: Done   8 tasks      | elapsed:    0.0s\n",
      "[Parallel(n_jobs=10)]: Done 172 tasks      | elapsed:    0.0s\n",
      "[Parallel(n_jobs=10)]: Done 247 out of 247 | elapsed:    0.1s finished\n",
      "[Parallel(n_jobs=10)]: Using backend LokyBackend with 10 concurrent workers.\n",
      "[Parallel(n_jobs=10)]: Done   8 tasks      | elapsed:    0.0s\n",
      "[Parallel(n_jobs=10)]: Done 172 tasks      | elapsed:    0.0s\n"
     ]
    },
    {
     "name": "stdout",
     "output_type": "stream",
     "text": [
      "Applying baseline correction (mode: zscore)\n",
      "NOTE: tfr_morlet() is a legacy function. New code should use .compute_tfr(method=\"morlet\").\n",
      "Applying baseline correction (mode: zscore)\n",
      "NOTE: tfr_morlet() is a legacy function. New code should use .compute_tfr(method=\"morlet\").\n"
     ]
    },
    {
     "name": "stderr",
     "output_type": "stream",
     "text": [
      "[Parallel(n_jobs=10)]: Done 247 out of 247 | elapsed:    0.1s finished\n",
      "[Parallel(n_jobs=10)]: Using backend LokyBackend with 10 concurrent workers.\n",
      "[Parallel(n_jobs=10)]: Done   8 tasks      | elapsed:    0.0s\n",
      "[Parallel(n_jobs=10)]: Done 172 tasks      | elapsed:    0.0s\n",
      "[Parallel(n_jobs=10)]: Done 247 out of 247 | elapsed:    0.1s finished\n",
      "[Parallel(n_jobs=10)]: Using backend LokyBackend with 10 concurrent workers.\n",
      "[Parallel(n_jobs=10)]: Done   8 tasks      | elapsed:    0.0s\n",
      "[Parallel(n_jobs=10)]: Done 172 tasks      | elapsed:    0.0s\n"
     ]
    },
    {
     "name": "stdout",
     "output_type": "stream",
     "text": [
      "Applying baseline correction (mode: zscore)\n",
      "NOTE: tfr_morlet() is a legacy function. New code should use .compute_tfr(method=\"morlet\").\n",
      "Applying baseline correction (mode: zscore)\n",
      "NOTE: tfr_morlet() is a legacy function. New code should use .compute_tfr(method=\"morlet\").\n"
     ]
    },
    {
     "name": "stderr",
     "output_type": "stream",
     "text": [
      "[Parallel(n_jobs=10)]: Done 247 out of 247 | elapsed:    0.1s finished\n",
      "[Parallel(n_jobs=10)]: Using backend LokyBackend with 10 concurrent workers.\n",
      "[Parallel(n_jobs=10)]: Done   8 tasks      | elapsed:    0.0s\n",
      "[Parallel(n_jobs=10)]: Done 172 tasks      | elapsed:    0.0s\n",
      "[Parallel(n_jobs=10)]: Done 247 out of 247 | elapsed:    0.1s finished\n",
      "[Parallel(n_jobs=10)]: Using backend LokyBackend with 10 concurrent workers.\n",
      "[Parallel(n_jobs=10)]: Done   8 tasks      | elapsed:    0.0s\n",
      "[Parallel(n_jobs=10)]: Done 172 tasks      | elapsed:    0.0s\n"
     ]
    },
    {
     "name": "stdout",
     "output_type": "stream",
     "text": [
      "Applying baseline correction (mode: zscore)\n",
      "NOTE: tfr_morlet() is a legacy function. New code should use .compute_tfr(method=\"morlet\").\n",
      "Applying baseline correction (mode: zscore)\n",
      "NOTE: tfr_morlet() is a legacy function. New code should use .compute_tfr(method=\"morlet\").\n"
     ]
    },
    {
     "name": "stderr",
     "output_type": "stream",
     "text": [
      "[Parallel(n_jobs=10)]: Done 247 out of 247 | elapsed:    0.1s finished\n",
      "[Parallel(n_jobs=10)]: Using backend LokyBackend with 10 concurrent workers.\n",
      "[Parallel(n_jobs=10)]: Done   8 tasks      | elapsed:    0.0s\n",
      "[Parallel(n_jobs=10)]: Done 172 tasks      | elapsed:    0.1s\n",
      "[Parallel(n_jobs=10)]: Done 247 out of 247 | elapsed:    0.1s finished\n",
      "[Parallel(n_jobs=10)]: Using backend LokyBackend with 10 concurrent workers.\n",
      "[Parallel(n_jobs=10)]: Done   8 tasks      | elapsed:    0.0s\n",
      "[Parallel(n_jobs=10)]: Done 172 tasks      | elapsed:    0.0s\n"
     ]
    },
    {
     "name": "stdout",
     "output_type": "stream",
     "text": [
      "Applying baseline correction (mode: zscore)\n",
      "NOTE: tfr_morlet() is a legacy function. New code should use .compute_tfr(method=\"morlet\").\n",
      "Applying baseline correction (mode: zscore)\n",
      "NOTE: tfr_morlet() is a legacy function. New code should use .compute_tfr(method=\"morlet\").\n"
     ]
    },
    {
     "name": "stderr",
     "output_type": "stream",
     "text": [
      "[Parallel(n_jobs=10)]: Done 247 out of 247 | elapsed:    0.1s finished\n",
      "[Parallel(n_jobs=10)]: Using backend LokyBackend with 10 concurrent workers.\n",
      "[Parallel(n_jobs=10)]: Done   8 tasks      | elapsed:    0.0s\n",
      "[Parallel(n_jobs=10)]: Done 172 tasks      | elapsed:    0.0s\n",
      "[Parallel(n_jobs=10)]: Done 247 out of 247 | elapsed:    0.1s finished\n",
      "[Parallel(n_jobs=10)]: Using backend LokyBackend with 10 concurrent workers.\n",
      "[Parallel(n_jobs=10)]: Done   8 tasks      | elapsed:    0.0s\n",
      "[Parallel(n_jobs=10)]: Done 172 tasks      | elapsed:    0.0s\n"
     ]
    },
    {
     "name": "stdout",
     "output_type": "stream",
     "text": [
      "Applying baseline correction (mode: zscore)\n",
      "NOTE: tfr_morlet() is a legacy function. New code should use .compute_tfr(method=\"morlet\").\n",
      "Applying baseline correction (mode: zscore)\n",
      "NOTE: tfr_morlet() is a legacy function. New code should use .compute_tfr(method=\"morlet\").\n"
     ]
    },
    {
     "name": "stderr",
     "output_type": "stream",
     "text": [
      "[Parallel(n_jobs=10)]: Done 247 out of 247 | elapsed:    0.1s finished\n",
      "[Parallel(n_jobs=10)]: Using backend LokyBackend with 10 concurrent workers.\n",
      "[Parallel(n_jobs=10)]: Done   8 tasks      | elapsed:    0.0s\n",
      "[Parallel(n_jobs=10)]: Done 172 tasks      | elapsed:    0.0s\n",
      "[Parallel(n_jobs=10)]: Done 247 out of 247 | elapsed:    0.1s finished\n",
      "[Parallel(n_jobs=10)]: Using backend LokyBackend with 10 concurrent workers.\n",
      "[Parallel(n_jobs=10)]: Done   8 tasks      | elapsed:    0.0s\n",
      "[Parallel(n_jobs=10)]: Done 172 tasks      | elapsed:    0.0s\n"
     ]
    },
    {
     "name": "stdout",
     "output_type": "stream",
     "text": [
      "Applying baseline correction (mode: zscore)\n",
      "NOTE: tfr_morlet() is a legacy function. New code should use .compute_tfr(method=\"morlet\").\n",
      "Applying baseline correction (mode: zscore)\n",
      "NOTE: tfr_morlet() is a legacy function. New code should use .compute_tfr(method=\"morlet\").\n"
     ]
    },
    {
     "name": "stderr",
     "output_type": "stream",
     "text": [
      "[Parallel(n_jobs=10)]: Done 247 out of 247 | elapsed:    0.1s finished\n",
      "[Parallel(n_jobs=10)]: Using backend LokyBackend with 10 concurrent workers.\n",
      "[Parallel(n_jobs=10)]: Done   8 tasks      | elapsed:    0.0s\n",
      "[Parallel(n_jobs=10)]: Done 172 tasks      | elapsed:    0.1s\n",
      "[Parallel(n_jobs=10)]: Done 247 out of 247 | elapsed:    0.1s finished\n",
      "[Parallel(n_jobs=10)]: Using backend LokyBackend with 10 concurrent workers.\n",
      "[Parallel(n_jobs=10)]: Done   8 tasks      | elapsed:    0.0s\n",
      "[Parallel(n_jobs=10)]: Done 172 tasks      | elapsed:    0.0s\n"
     ]
    },
    {
     "name": "stdout",
     "output_type": "stream",
     "text": [
      "Applying baseline correction (mode: zscore)\n",
      "NOTE: tfr_morlet() is a legacy function. New code should use .compute_tfr(method=\"morlet\").\n",
      "Applying baseline correction (mode: zscore)\n",
      "NOTE: tfr_morlet() is a legacy function. New code should use .compute_tfr(method=\"morlet\").\n"
     ]
    },
    {
     "name": "stderr",
     "output_type": "stream",
     "text": [
      "[Parallel(n_jobs=10)]: Done 247 out of 247 | elapsed:    0.1s finished\n",
      "[Parallel(n_jobs=10)]: Using backend LokyBackend with 10 concurrent workers.\n",
      "[Parallel(n_jobs=10)]: Done   8 tasks      | elapsed:    0.0s\n",
      "[Parallel(n_jobs=10)]: Done 172 tasks      | elapsed:    0.0s\n",
      "[Parallel(n_jobs=10)]: Done 247 out of 247 | elapsed:    0.1s finished\n",
      "[Parallel(n_jobs=10)]: Using backend LokyBackend with 10 concurrent workers.\n",
      "[Parallel(n_jobs=10)]: Done   8 tasks      | elapsed:    0.0s\n",
      "[Parallel(n_jobs=10)]: Done 172 tasks      | elapsed:    0.0s\n"
     ]
    },
    {
     "name": "stdout",
     "output_type": "stream",
     "text": [
      "Applying baseline correction (mode: zscore)\n",
      "NOTE: tfr_morlet() is a legacy function. New code should use .compute_tfr(method=\"morlet\").\n",
      "Applying baseline correction (mode: zscore)\n",
      "NOTE: tfr_morlet() is a legacy function. New code should use .compute_tfr(method=\"morlet\").\n"
     ]
    },
    {
     "name": "stderr",
     "output_type": "stream",
     "text": [
      "[Parallel(n_jobs=10)]: Done 247 out of 247 | elapsed:    0.1s finished\n",
      "[Parallel(n_jobs=10)]: Using backend LokyBackend with 10 concurrent workers.\n",
      "[Parallel(n_jobs=10)]: Done   8 tasks      | elapsed:    0.0s\n",
      "[Parallel(n_jobs=10)]: Done 172 tasks      | elapsed:    0.0s\n",
      "[Parallel(n_jobs=10)]: Done 247 out of 247 | elapsed:    0.1s finished\n",
      "[Parallel(n_jobs=10)]: Using backend LokyBackend with 10 concurrent workers.\n",
      "[Parallel(n_jobs=10)]: Done   8 tasks      | elapsed:    0.0s\n",
      "[Parallel(n_jobs=10)]: Done 172 tasks      | elapsed:    0.0s\n"
     ]
    },
    {
     "name": "stdout",
     "output_type": "stream",
     "text": [
      "Applying baseline correction (mode: zscore)\n",
      "NOTE: tfr_morlet() is a legacy function. New code should use .compute_tfr(method=\"morlet\").\n",
      "Applying baseline correction (mode: zscore)\n",
      "NOTE: tfr_morlet() is a legacy function. New code should use .compute_tfr(method=\"morlet\").\n"
     ]
    },
    {
     "name": "stderr",
     "output_type": "stream",
     "text": [
      "[Parallel(n_jobs=10)]: Done 247 out of 247 | elapsed:    0.1s finished\n",
      "[Parallel(n_jobs=10)]: Using backend LokyBackend with 10 concurrent workers.\n",
      "[Parallel(n_jobs=10)]: Done   8 tasks      | elapsed:    0.0s\n",
      "[Parallel(n_jobs=10)]: Done 172 tasks      | elapsed:    0.0s\n",
      "[Parallel(n_jobs=10)]: Done 247 out of 247 | elapsed:    0.1s finished\n",
      "[Parallel(n_jobs=10)]: Using backend LokyBackend with 10 concurrent workers.\n",
      "[Parallel(n_jobs=10)]: Done   8 tasks      | elapsed:    0.0s\n",
      "[Parallel(n_jobs=10)]: Done 172 tasks      | elapsed:    0.0s\n"
     ]
    },
    {
     "name": "stdout",
     "output_type": "stream",
     "text": [
      "Applying baseline correction (mode: zscore)\n",
      "NOTE: tfr_morlet() is a legacy function. New code should use .compute_tfr(method=\"morlet\").\n",
      "Applying baseline correction (mode: zscore)\n",
      "NOTE: tfr_morlet() is a legacy function. New code should use .compute_tfr(method=\"morlet\").\n"
     ]
    },
    {
     "name": "stderr",
     "output_type": "stream",
     "text": [
      "[Parallel(n_jobs=10)]: Done 247 out of 247 | elapsed:    0.1s finished\n",
      "[Parallel(n_jobs=10)]: Using backend LokyBackend with 10 concurrent workers.\n",
      "[Parallel(n_jobs=10)]: Done   8 tasks      | elapsed:    0.0s\n",
      "[Parallel(n_jobs=10)]: Done 172 tasks      | elapsed:    0.1s\n",
      "[Parallel(n_jobs=10)]: Done 247 out of 247 | elapsed:    0.1s finished\n",
      "[Parallel(n_jobs=10)]: Using backend LokyBackend with 10 concurrent workers.\n",
      "[Parallel(n_jobs=10)]: Done   8 tasks      | elapsed:    0.0s\n"
     ]
    },
    {
     "name": "stdout",
     "output_type": "stream",
     "text": [
      "Applying baseline correction (mode: zscore)\n",
      "NOTE: tfr_morlet() is a legacy function. New code should use .compute_tfr(method=\"morlet\").\n",
      "Applying baseline correction (mode: zscore)\n",
      "NOTE: tfr_morlet() is a legacy function. New code should use .compute_tfr(method=\"morlet\").\n"
     ]
    },
    {
     "name": "stderr",
     "output_type": "stream",
     "text": [
      "[Parallel(n_jobs=10)]: Done 172 tasks      | elapsed:    0.0s\n",
      "[Parallel(n_jobs=10)]: Done 247 out of 247 | elapsed:    0.1s finished\n",
      "[Parallel(n_jobs=10)]: Using backend LokyBackend with 10 concurrent workers.\n",
      "[Parallel(n_jobs=10)]: Done   8 tasks      | elapsed:    0.0s\n",
      "[Parallel(n_jobs=10)]: Done 172 tasks      | elapsed:    0.0s\n",
      "[Parallel(n_jobs=10)]: Done 247 out of 247 | elapsed:    0.1s finished\n",
      "[Parallel(n_jobs=10)]: Using backend LokyBackend with 10 concurrent workers.\n",
      "[Parallel(n_jobs=10)]: Done   8 tasks      | elapsed:    0.0s\n"
     ]
    },
    {
     "name": "stdout",
     "output_type": "stream",
     "text": [
      "Applying baseline correction (mode: zscore)\n",
      "NOTE: tfr_morlet() is a legacy function. New code should use .compute_tfr(method=\"morlet\").\n",
      "Applying baseline correction (mode: zscore)\n",
      "NOTE: tfr_morlet() is a legacy function. New code should use .compute_tfr(method=\"morlet\").\n"
     ]
    },
    {
     "name": "stderr",
     "output_type": "stream",
     "text": [
      "[Parallel(n_jobs=10)]: Done 172 tasks      | elapsed:    0.0s\n",
      "[Parallel(n_jobs=10)]: Done 247 out of 247 | elapsed:    0.1s finished\n",
      "[Parallel(n_jobs=10)]: Using backend LokyBackend with 10 concurrent workers.\n",
      "[Parallel(n_jobs=10)]: Done   8 tasks      | elapsed:    0.0s\n",
      "[Parallel(n_jobs=10)]: Done 172 tasks      | elapsed:    0.0s\n",
      "[Parallel(n_jobs=10)]: Done 247 out of 247 | elapsed:    0.1s finished\n",
      "[Parallel(n_jobs=10)]: Using backend LokyBackend with 10 concurrent workers.\n",
      "[Parallel(n_jobs=10)]: Done   8 tasks      | elapsed:    0.0s\n"
     ]
    },
    {
     "name": "stdout",
     "output_type": "stream",
     "text": [
      "Applying baseline correction (mode: zscore)\n",
      "NOTE: tfr_morlet() is a legacy function. New code should use .compute_tfr(method=\"morlet\").\n",
      "Applying baseline correction (mode: zscore)\n",
      "NOTE: tfr_morlet() is a legacy function. New code should use .compute_tfr(method=\"morlet\").\n"
     ]
    },
    {
     "name": "stderr",
     "output_type": "stream",
     "text": [
      "[Parallel(n_jobs=10)]: Done 172 tasks      | elapsed:    0.0s\n",
      "[Parallel(n_jobs=10)]: Done 247 out of 247 | elapsed:    0.1s finished\n",
      "[Parallel(n_jobs=10)]: Using backend LokyBackend with 10 concurrent workers.\n",
      "[Parallel(n_jobs=10)]: Done   8 tasks      | elapsed:    0.0s\n",
      "[Parallel(n_jobs=10)]: Done 172 tasks      | elapsed:    0.0s\n",
      "[Parallel(n_jobs=10)]: Done 247 out of 247 | elapsed:    0.1s finished\n",
      "[Parallel(n_jobs=10)]: Using backend LokyBackend with 10 concurrent workers.\n",
      "[Parallel(n_jobs=10)]: Done   8 tasks      | elapsed:    0.0s\n"
     ]
    },
    {
     "name": "stdout",
     "output_type": "stream",
     "text": [
      "Applying baseline correction (mode: zscore)\n",
      "NOTE: tfr_morlet() is a legacy function. New code should use .compute_tfr(method=\"morlet\").\n",
      "Applying baseline correction (mode: zscore)\n",
      "NOTE: tfr_morlet() is a legacy function. New code should use .compute_tfr(method=\"morlet\").\n"
     ]
    },
    {
     "name": "stderr",
     "output_type": "stream",
     "text": [
      "[Parallel(n_jobs=10)]: Done 172 tasks      | elapsed:    0.0s\n",
      "[Parallel(n_jobs=10)]: Done 247 out of 247 | elapsed:    0.1s finished\n",
      "[Parallel(n_jobs=10)]: Using backend LokyBackend with 10 concurrent workers.\n",
      "[Parallel(n_jobs=10)]: Done   8 tasks      | elapsed:    0.0s\n",
      "[Parallel(n_jobs=10)]: Done 172 tasks      | elapsed:    0.0s\n",
      "[Parallel(n_jobs=10)]: Done 247 out of 247 | elapsed:    0.1s finished\n",
      "[Parallel(n_jobs=10)]: Using backend LokyBackend with 10 concurrent workers.\n",
      "[Parallel(n_jobs=10)]: Done   8 tasks      | elapsed:    0.0s\n"
     ]
    },
    {
     "name": "stdout",
     "output_type": "stream",
     "text": [
      "Applying baseline correction (mode: zscore)\n",
      "NOTE: tfr_morlet() is a legacy function. New code should use .compute_tfr(method=\"morlet\").\n",
      "Applying baseline correction (mode: zscore)\n",
      "NOTE: tfr_morlet() is a legacy function. New code should use .compute_tfr(method=\"morlet\").\n"
     ]
    },
    {
     "name": "stderr",
     "output_type": "stream",
     "text": [
      "[Parallel(n_jobs=10)]: Done 172 tasks      | elapsed:    0.0s\n",
      "[Parallel(n_jobs=10)]: Done 247 out of 247 | elapsed:    0.1s finished\n",
      "[Parallel(n_jobs=10)]: Using backend LokyBackend with 10 concurrent workers.\n",
      "[Parallel(n_jobs=10)]: Done   8 tasks      | elapsed:    0.0s\n",
      "[Parallel(n_jobs=10)]: Done 172 tasks      | elapsed:    0.0s\n",
      "[Parallel(n_jobs=10)]: Done 247 out of 247 | elapsed:    0.1s finished\n",
      "[Parallel(n_jobs=10)]: Using backend LokyBackend with 10 concurrent workers.\n",
      "[Parallel(n_jobs=10)]: Done   8 tasks      | elapsed:    0.0s\n"
     ]
    },
    {
     "name": "stdout",
     "output_type": "stream",
     "text": [
      "Applying baseline correction (mode: zscore)\n",
      "NOTE: tfr_morlet() is a legacy function. New code should use .compute_tfr(method=\"morlet\").\n",
      "Applying baseline correction (mode: zscore)\n",
      "NOTE: tfr_morlet() is a legacy function. New code should use .compute_tfr(method=\"morlet\").\n"
     ]
    },
    {
     "name": "stderr",
     "output_type": "stream",
     "text": [
      "[Parallel(n_jobs=10)]: Done 172 tasks      | elapsed:    0.1s\n",
      "[Parallel(n_jobs=10)]: Done 247 out of 247 | elapsed:    0.1s finished\n",
      "[Parallel(n_jobs=10)]: Using backend LokyBackend with 10 concurrent workers.\n",
      "[Parallel(n_jobs=10)]: Done   8 tasks      | elapsed:    0.0s\n",
      "[Parallel(n_jobs=10)]: Done 172 tasks      | elapsed:    0.0s\n",
      "[Parallel(n_jobs=10)]: Done 247 out of 247 | elapsed:    0.1s finished\n",
      "[Parallel(n_jobs=10)]: Using backend LokyBackend with 10 concurrent workers.\n",
      "[Parallel(n_jobs=10)]: Done   8 tasks      | elapsed:    0.0s\n"
     ]
    },
    {
     "name": "stdout",
     "output_type": "stream",
     "text": [
      "Applying baseline correction (mode: zscore)\n",
      "NOTE: tfr_morlet() is a legacy function. New code should use .compute_tfr(method=\"morlet\").\n",
      "Applying baseline correction (mode: zscore)\n",
      "NOTE: tfr_morlet() is a legacy function. New code should use .compute_tfr(method=\"morlet\").\n"
     ]
    },
    {
     "name": "stderr",
     "output_type": "stream",
     "text": [
      "[Parallel(n_jobs=10)]: Done 172 tasks      | elapsed:    0.0s\n",
      "[Parallel(n_jobs=10)]: Done 247 out of 247 | elapsed:    0.1s finished\n",
      "[Parallel(n_jobs=10)]: Using backend LokyBackend with 10 concurrent workers.\n",
      "[Parallel(n_jobs=10)]: Done   8 tasks      | elapsed:    0.0s\n",
      "[Parallel(n_jobs=10)]: Done 172 tasks      | elapsed:    0.0s\n",
      "[Parallel(n_jobs=10)]: Done 247 out of 247 | elapsed:    0.1s finished\n",
      "[Parallel(n_jobs=10)]: Using backend LokyBackend with 10 concurrent workers.\n",
      "[Parallel(n_jobs=10)]: Done   8 tasks      | elapsed:    0.0s\n"
     ]
    },
    {
     "name": "stdout",
     "output_type": "stream",
     "text": [
      "Applying baseline correction (mode: zscore)\n",
      "NOTE: tfr_morlet() is a legacy function. New code should use .compute_tfr(method=\"morlet\").\n",
      "Applying baseline correction (mode: zscore)\n",
      "NOTE: tfr_morlet() is a legacy function. New code should use .compute_tfr(method=\"morlet\").\n"
     ]
    },
    {
     "name": "stderr",
     "output_type": "stream",
     "text": [
      "[Parallel(n_jobs=10)]: Done 172 tasks      | elapsed:    0.1s\n",
      "[Parallel(n_jobs=10)]: Done 247 out of 247 | elapsed:    0.1s finished\n",
      "[Parallel(n_jobs=10)]: Using backend LokyBackend with 10 concurrent workers.\n",
      "[Parallel(n_jobs=10)]: Done   8 tasks      | elapsed:    0.0s\n",
      "[Parallel(n_jobs=10)]: Done 172 tasks      | elapsed:    0.0s\n",
      "[Parallel(n_jobs=10)]: Done 247 out of 247 | elapsed:    0.1s finished\n",
      "[Parallel(n_jobs=10)]: Using backend LokyBackend with 10 concurrent workers.\n",
      "[Parallel(n_jobs=10)]: Done   8 tasks      | elapsed:    0.0s\n"
     ]
    },
    {
     "name": "stdout",
     "output_type": "stream",
     "text": [
      "Applying baseline correction (mode: zscore)\n",
      "NOTE: tfr_morlet() is a legacy function. New code should use .compute_tfr(method=\"morlet\").\n",
      "Applying baseline correction (mode: zscore)\n",
      "NOTE: tfr_morlet() is a legacy function. New code should use .compute_tfr(method=\"morlet\").\n"
     ]
    },
    {
     "name": "stderr",
     "output_type": "stream",
     "text": [
      "[Parallel(n_jobs=10)]: Done 172 tasks      | elapsed:    0.0s\n",
      "[Parallel(n_jobs=10)]: Done 247 out of 247 | elapsed:    0.1s finished\n",
      "[Parallel(n_jobs=10)]: Using backend LokyBackend with 10 concurrent workers.\n",
      "[Parallel(n_jobs=10)]: Done   8 tasks      | elapsed:    0.0s\n",
      "[Parallel(n_jobs=10)]: Done 172 tasks      | elapsed:    0.1s\n",
      "[Parallel(n_jobs=10)]: Done 247 out of 247 | elapsed:    0.1s finished\n",
      "[Parallel(n_jobs=10)]: Using backend LokyBackend with 10 concurrent workers.\n",
      "[Parallel(n_jobs=10)]: Done   8 tasks      | elapsed:    0.0s\n"
     ]
    },
    {
     "name": "stdout",
     "output_type": "stream",
     "text": [
      "Applying baseline correction (mode: zscore)\n",
      "NOTE: tfr_morlet() is a legacy function. New code should use .compute_tfr(method=\"morlet\").\n",
      "Applying baseline correction (mode: zscore)\n",
      "NOTE: tfr_morlet() is a legacy function. New code should use .compute_tfr(method=\"morlet\").\n"
     ]
    },
    {
     "name": "stderr",
     "output_type": "stream",
     "text": [
      "[Parallel(n_jobs=10)]: Done 172 tasks      | elapsed:    0.0s\n",
      "[Parallel(n_jobs=10)]: Done 247 out of 247 | elapsed:    0.1s finished\n",
      "[Parallel(n_jobs=10)]: Using backend LokyBackend with 10 concurrent workers.\n",
      "[Parallel(n_jobs=10)]: Done   8 tasks      | elapsed:    0.0s\n",
      "[Parallel(n_jobs=10)]: Done 172 tasks      | elapsed:    0.0s\n",
      "[Parallel(n_jobs=10)]: Done 247 out of 247 | elapsed:    0.1s finished\n",
      "[Parallel(n_jobs=10)]: Using backend LokyBackend with 10 concurrent workers.\n",
      "[Parallel(n_jobs=10)]: Done   8 tasks      | elapsed:    0.0s\n"
     ]
    },
    {
     "name": "stdout",
     "output_type": "stream",
     "text": [
      "Applying baseline correction (mode: zscore)\n",
      "NOTE: tfr_morlet() is a legacy function. New code should use .compute_tfr(method=\"morlet\").\n",
      "Applying baseline correction (mode: zscore)\n",
      "NOTE: tfr_morlet() is a legacy function. New code should use .compute_tfr(method=\"morlet\").\n"
     ]
    },
    {
     "name": "stderr",
     "output_type": "stream",
     "text": [
      "[Parallel(n_jobs=10)]: Done 172 tasks      | elapsed:    0.0s\n",
      "[Parallel(n_jobs=10)]: Done 247 out of 247 | elapsed:    0.1s finished\n",
      "[Parallel(n_jobs=10)]: Using backend LokyBackend with 10 concurrent workers.\n",
      "[Parallel(n_jobs=10)]: Done   8 tasks      | elapsed:    0.0s\n",
      "[Parallel(n_jobs=10)]: Done 172 tasks      | elapsed:    0.0s\n",
      "[Parallel(n_jobs=10)]: Done 247 out of 247 | elapsed:    0.1s finished\n",
      "[Parallel(n_jobs=10)]: Using backend LokyBackend with 10 concurrent workers.\n",
      "[Parallel(n_jobs=10)]: Done   8 tasks      | elapsed:    0.0s\n"
     ]
    },
    {
     "name": "stdout",
     "output_type": "stream",
     "text": [
      "Applying baseline correction (mode: zscore)\n",
      "NOTE: tfr_morlet() is a legacy function. New code should use .compute_tfr(method=\"morlet\").\n",
      "Applying baseline correction (mode: zscore)\n",
      "NOTE: tfr_morlet() is a legacy function. New code should use .compute_tfr(method=\"morlet\").\n"
     ]
    },
    {
     "name": "stderr",
     "output_type": "stream",
     "text": [
      "[Parallel(n_jobs=10)]: Done 172 tasks      | elapsed:    0.0s\n",
      "[Parallel(n_jobs=10)]: Done 247 out of 247 | elapsed:    0.1s finished\n",
      "[Parallel(n_jobs=10)]: Using backend LokyBackend with 10 concurrent workers.\n",
      "[Parallel(n_jobs=10)]: Done   8 tasks      | elapsed:    0.0s\n",
      "[Parallel(n_jobs=10)]: Done 172 tasks      | elapsed:    0.0s\n",
      "[Parallel(n_jobs=10)]: Done 247 out of 247 | elapsed:    0.1s finished\n",
      "[Parallel(n_jobs=10)]: Using backend LokyBackend with 10 concurrent workers.\n",
      "[Parallel(n_jobs=10)]: Done   8 tasks      | elapsed:    0.0s\n"
     ]
    },
    {
     "name": "stdout",
     "output_type": "stream",
     "text": [
      "Applying baseline correction (mode: zscore)\n",
      "NOTE: tfr_morlet() is a legacy function. New code should use .compute_tfr(method=\"morlet\").\n",
      "Applying baseline correction (mode: zscore)\n",
      "NOTE: tfr_morlet() is a legacy function. New code should use .compute_tfr(method=\"morlet\").\n"
     ]
    },
    {
     "name": "stderr",
     "output_type": "stream",
     "text": [
      "[Parallel(n_jobs=10)]: Done 172 tasks      | elapsed:    0.0s\n",
      "[Parallel(n_jobs=10)]: Done 247 out of 247 | elapsed:    0.1s finished\n",
      "[Parallel(n_jobs=10)]: Using backend LokyBackend with 10 concurrent workers.\n",
      "[Parallel(n_jobs=10)]: Done   8 tasks      | elapsed:    0.0s\n",
      "[Parallel(n_jobs=10)]: Done 172 tasks      | elapsed:    0.0s\n",
      "[Parallel(n_jobs=10)]: Done 247 out of 247 | elapsed:    0.1s finished\n",
      "[Parallel(n_jobs=10)]: Using backend LokyBackend with 10 concurrent workers.\n",
      "[Parallel(n_jobs=10)]: Done   8 tasks      | elapsed:    0.0s\n"
     ]
    },
    {
     "name": "stdout",
     "output_type": "stream",
     "text": [
      "Applying baseline correction (mode: zscore)\n",
      "NOTE: tfr_morlet() is a legacy function. New code should use .compute_tfr(method=\"morlet\").\n",
      "Applying baseline correction (mode: zscore)\n",
      "NOTE: tfr_morlet() is a legacy function. New code should use .compute_tfr(method=\"morlet\").\n"
     ]
    },
    {
     "name": "stderr",
     "output_type": "stream",
     "text": [
      "[Parallel(n_jobs=10)]: Done 172 tasks      | elapsed:    0.0s\n",
      "[Parallel(n_jobs=10)]: Done 247 out of 247 | elapsed:    0.1s finished\n",
      "[Parallel(n_jobs=10)]: Using backend LokyBackend with 10 concurrent workers.\n",
      "[Parallel(n_jobs=10)]: Done   8 tasks      | elapsed:    0.0s\n",
      "[Parallel(n_jobs=10)]: Done 172 tasks      | elapsed:    0.0s\n",
      "[Parallel(n_jobs=10)]: Done 247 out of 247 | elapsed:    0.1s finished\n",
      "[Parallel(n_jobs=10)]: Using backend LokyBackend with 10 concurrent workers.\n",
      "[Parallel(n_jobs=10)]: Done   8 tasks      | elapsed:    0.0s\n"
     ]
    },
    {
     "name": "stdout",
     "output_type": "stream",
     "text": [
      "Applying baseline correction (mode: zscore)\n",
      "NOTE: tfr_morlet() is a legacy function. New code should use .compute_tfr(method=\"morlet\").\n",
      "Applying baseline correction (mode: zscore)\n",
      "NOTE: tfr_morlet() is a legacy function. New code should use .compute_tfr(method=\"morlet\").\n"
     ]
    },
    {
     "name": "stderr",
     "output_type": "stream",
     "text": [
      "[Parallel(n_jobs=10)]: Done 172 tasks      | elapsed:    0.1s\n",
      "[Parallel(n_jobs=10)]: Done 247 out of 247 | elapsed:    0.1s finished\n",
      "[Parallel(n_jobs=10)]: Using backend LokyBackend with 10 concurrent workers.\n",
      "[Parallel(n_jobs=10)]: Done   8 tasks      | elapsed:    0.0s\n",
      "[Parallel(n_jobs=10)]: Done 172 tasks      | elapsed:    0.0s\n",
      "[Parallel(n_jobs=10)]: Done 247 out of 247 | elapsed:    0.1s finished\n",
      "[Parallel(n_jobs=10)]: Using backend LokyBackend with 10 concurrent workers.\n"
     ]
    },
    {
     "name": "stdout",
     "output_type": "stream",
     "text": [
      "Applying baseline correction (mode: zscore)\n",
      "NOTE: tfr_morlet() is a legacy function. New code should use .compute_tfr(method=\"morlet\").\n",
      "Applying baseline correction (mode: zscore)\n"
     ]
    },
    {
     "name": "stderr",
     "output_type": "stream",
     "text": [
      "[Parallel(n_jobs=10)]: Done   8 tasks      | elapsed:    0.0s\n",
      "[Parallel(n_jobs=10)]: Done 172 tasks      | elapsed:    0.1s\n",
      "[Parallel(n_jobs=10)]: Done 247 out of 247 | elapsed:    0.1s finished\n",
      "[Parallel(n_jobs=10)]: Using backend LokyBackend with 10 concurrent workers.\n",
      "[Parallel(n_jobs=10)]: Done   8 tasks      | elapsed:    0.0s\n",
      "[Parallel(n_jobs=10)]: Done 172 tasks      | elapsed:    0.0s\n",
      "[Parallel(n_jobs=10)]: Done 247 out of 247 | elapsed:    0.1s finished\n"
     ]
    },
    {
     "name": "stdout",
     "output_type": "stream",
     "text": [
      "NOTE: tfr_morlet() is a legacy function. New code should use .compute_tfr(method=\"morlet\").\n",
      "Applying baseline correction (mode: zscore)\n",
      "NOTE: tfr_morlet() is a legacy function. New code should use .compute_tfr(method=\"morlet\").\n"
     ]
    },
    {
     "name": "stderr",
     "output_type": "stream",
     "text": [
      "[Parallel(n_jobs=10)]: Using backend LokyBackend with 10 concurrent workers.\n",
      "[Parallel(n_jobs=10)]: Done   8 tasks      | elapsed:    0.0s\n",
      "[Parallel(n_jobs=10)]: Done 172 tasks      | elapsed:    0.0s\n",
      "[Parallel(n_jobs=10)]: Done 247 out of 247 | elapsed:    0.1s finished\n",
      "[Parallel(n_jobs=10)]: Using backend LokyBackend with 10 concurrent workers.\n",
      "[Parallel(n_jobs=10)]: Done   8 tasks      | elapsed:    0.0s\n",
      "[Parallel(n_jobs=10)]: Done 172 tasks      | elapsed:    0.0s\n"
     ]
    },
    {
     "name": "stdout",
     "output_type": "stream",
     "text": [
      "Applying baseline correction (mode: zscore)\n",
      "NOTE: tfr_morlet() is a legacy function. New code should use .compute_tfr(method=\"morlet\").\n",
      "Applying baseline correction (mode: zscore)\n",
      "NOTE: tfr_morlet() is a legacy function. New code should use .compute_tfr(method=\"morlet\").\n"
     ]
    },
    {
     "name": "stderr",
     "output_type": "stream",
     "text": [
      "[Parallel(n_jobs=10)]: Done 247 out of 247 | elapsed:    0.1s finished\n",
      "[Parallel(n_jobs=10)]: Using backend LokyBackend with 10 concurrent workers.\n",
      "[Parallel(n_jobs=10)]: Done   8 tasks      | elapsed:    0.0s\n",
      "[Parallel(n_jobs=10)]: Done 172 tasks      | elapsed:    0.0s\n",
      "[Parallel(n_jobs=10)]: Done 247 out of 247 | elapsed:    0.1s finished\n",
      "[Parallel(n_jobs=10)]: Using backend LokyBackend with 10 concurrent workers.\n",
      "[Parallel(n_jobs=10)]: Done   8 tasks      | elapsed:    0.0s\n",
      "[Parallel(n_jobs=10)]: Done 172 tasks      | elapsed:    0.0s\n"
     ]
    },
    {
     "name": "stdout",
     "output_type": "stream",
     "text": [
      "Applying baseline correction (mode: zscore)\n",
      "NOTE: tfr_morlet() is a legacy function. New code should use .compute_tfr(method=\"morlet\").\n",
      "Applying baseline correction (mode: zscore)\n",
      "NOTE: tfr_morlet() is a legacy function. New code should use .compute_tfr(method=\"morlet\").\n"
     ]
    },
    {
     "name": "stderr",
     "output_type": "stream",
     "text": [
      "[Parallel(n_jobs=10)]: Done 247 out of 247 | elapsed:    0.1s finished\n",
      "[Parallel(n_jobs=10)]: Using backend LokyBackend with 10 concurrent workers.\n",
      "[Parallel(n_jobs=10)]: Done   8 tasks      | elapsed:    0.0s\n",
      "[Parallel(n_jobs=10)]: Done 172 tasks      | elapsed:    0.0s\n",
      "[Parallel(n_jobs=10)]: Done 247 out of 247 | elapsed:    0.1s finished\n",
      "[Parallel(n_jobs=10)]: Using backend LokyBackend with 10 concurrent workers.\n",
      "[Parallel(n_jobs=10)]: Done   8 tasks      | elapsed:    0.0s\n",
      "[Parallel(n_jobs=10)]: Done 172 tasks      | elapsed:    0.0s\n"
     ]
    },
    {
     "name": "stdout",
     "output_type": "stream",
     "text": [
      "Applying baseline correction (mode: zscore)\n",
      "NOTE: tfr_morlet() is a legacy function. New code should use .compute_tfr(method=\"morlet\").\n",
      "Applying baseline correction (mode: zscore)\n",
      "NOTE: tfr_morlet() is a legacy function. New code should use .compute_tfr(method=\"morlet\").\n"
     ]
    },
    {
     "name": "stderr",
     "output_type": "stream",
     "text": [
      "[Parallel(n_jobs=10)]: Done 247 out of 247 | elapsed:    0.1s finished\n",
      "[Parallel(n_jobs=10)]: Using backend LokyBackend with 10 concurrent workers.\n",
      "[Parallel(n_jobs=10)]: Done   8 tasks      | elapsed:    0.0s\n",
      "[Parallel(n_jobs=10)]: Done 172 tasks      | elapsed:    0.0s\n",
      "[Parallel(n_jobs=10)]: Done 247 out of 247 | elapsed:    0.1s finished\n",
      "[Parallel(n_jobs=10)]: Using backend LokyBackend with 10 concurrent workers.\n",
      "[Parallel(n_jobs=10)]: Done   8 tasks      | elapsed:    0.0s\n",
      "[Parallel(n_jobs=10)]: Done 172 tasks      | elapsed:    0.0s\n"
     ]
    },
    {
     "name": "stdout",
     "output_type": "stream",
     "text": [
      "Applying baseline correction (mode: zscore)\n",
      "NOTE: tfr_morlet() is a legacy function. New code should use .compute_tfr(method=\"morlet\").\n",
      "Applying baseline correction (mode: zscore)\n",
      "NOTE: tfr_morlet() is a legacy function. New code should use .compute_tfr(method=\"morlet\").\n"
     ]
    },
    {
     "name": "stderr",
     "output_type": "stream",
     "text": [
      "[Parallel(n_jobs=10)]: Done 247 out of 247 | elapsed:    0.1s finished\n",
      "[Parallel(n_jobs=10)]: Using backend LokyBackend with 10 concurrent workers.\n",
      "[Parallel(n_jobs=10)]: Done   8 tasks      | elapsed:    0.0s\n",
      "[Parallel(n_jobs=10)]: Done 172 tasks      | elapsed:    0.0s\n",
      "[Parallel(n_jobs=10)]: Done 247 out of 247 | elapsed:    0.1s finished\n",
      "[Parallel(n_jobs=10)]: Using backend LokyBackend with 10 concurrent workers.\n",
      "[Parallel(n_jobs=10)]: Done   8 tasks      | elapsed:    0.0s\n",
      "[Parallel(n_jobs=10)]: Done 172 tasks      | elapsed:    0.0s\n"
     ]
    },
    {
     "name": "stdout",
     "output_type": "stream",
     "text": [
      "Applying baseline correction (mode: zscore)\n",
      "NOTE: tfr_morlet() is a legacy function. New code should use .compute_tfr(method=\"morlet\").\n",
      "Applying baseline correction (mode: zscore)\n",
      "NOTE: tfr_morlet() is a legacy function. New code should use .compute_tfr(method=\"morlet\").\n"
     ]
    },
    {
     "name": "stderr",
     "output_type": "stream",
     "text": [
      "[Parallel(n_jobs=10)]: Done 247 out of 247 | elapsed:    0.1s finished\n",
      "[Parallel(n_jobs=10)]: Using backend LokyBackend with 10 concurrent workers.\n",
      "[Parallel(n_jobs=10)]: Done   8 tasks      | elapsed:    0.0s\n",
      "[Parallel(n_jobs=10)]: Done 172 tasks      | elapsed:    0.0s\n",
      "[Parallel(n_jobs=10)]: Done 247 out of 247 | elapsed:    0.1s finished\n",
      "[Parallel(n_jobs=10)]: Using backend LokyBackend with 10 concurrent workers.\n",
      "[Parallel(n_jobs=10)]: Done   8 tasks      | elapsed:    0.0s\n",
      "[Parallel(n_jobs=10)]: Done 172 tasks      | elapsed:    0.0s\n"
     ]
    },
    {
     "name": "stdout",
     "output_type": "stream",
     "text": [
      "Applying baseline correction (mode: zscore)\n",
      "NOTE: tfr_morlet() is a legacy function. New code should use .compute_tfr(method=\"morlet\").\n",
      "Applying baseline correction (mode: zscore)\n",
      "NOTE: tfr_morlet() is a legacy function. New code should use .compute_tfr(method=\"morlet\").\n"
     ]
    },
    {
     "name": "stderr",
     "output_type": "stream",
     "text": [
      "[Parallel(n_jobs=10)]: Done 247 out of 247 | elapsed:    0.1s finished\n",
      "[Parallel(n_jobs=10)]: Using backend LokyBackend with 10 concurrent workers.\n",
      "[Parallel(n_jobs=10)]: Done   8 tasks      | elapsed:    0.0s\n",
      "[Parallel(n_jobs=10)]: Done 172 tasks      | elapsed:    0.0s\n",
      "[Parallel(n_jobs=10)]: Done 247 out of 247 | elapsed:    0.1s finished\n",
      "[Parallel(n_jobs=10)]: Using backend LokyBackend with 10 concurrent workers.\n",
      "[Parallel(n_jobs=10)]: Done   8 tasks      | elapsed:    0.0s\n",
      "[Parallel(n_jobs=10)]: Done 172 tasks      | elapsed:    0.0s\n"
     ]
    },
    {
     "name": "stdout",
     "output_type": "stream",
     "text": [
      "Applying baseline correction (mode: zscore)\n",
      "NOTE: tfr_morlet() is a legacy function. New code should use .compute_tfr(method=\"morlet\").\n",
      "Applying baseline correction (mode: zscore)\n",
      "NOTE: tfr_morlet() is a legacy function. New code should use .compute_tfr(method=\"morlet\").\n"
     ]
    },
    {
     "name": "stderr",
     "output_type": "stream",
     "text": [
      "[Parallel(n_jobs=10)]: Done 247 out of 247 | elapsed:    0.1s finished\n",
      "[Parallel(n_jobs=10)]: Using backend LokyBackend with 10 concurrent workers.\n",
      "[Parallel(n_jobs=10)]: Done   8 tasks      | elapsed:    0.0s\n",
      "[Parallel(n_jobs=10)]: Done 172 tasks      | elapsed:    0.1s\n",
      "[Parallel(n_jobs=10)]: Done 247 out of 247 | elapsed:    0.1s finished\n",
      "[Parallel(n_jobs=10)]: Using backend LokyBackend with 10 concurrent workers.\n",
      "[Parallel(n_jobs=10)]: Done   8 tasks      | elapsed:    0.0s\n",
      "[Parallel(n_jobs=10)]: Done 172 tasks      | elapsed:    0.0s\n"
     ]
    },
    {
     "name": "stdout",
     "output_type": "stream",
     "text": [
      "Applying baseline correction (mode: zscore)\n",
      "NOTE: tfr_morlet() is a legacy function. New code should use .compute_tfr(method=\"morlet\").\n",
      "Applying baseline correction (mode: zscore)\n",
      "NOTE: tfr_morlet() is a legacy function. New code should use .compute_tfr(method=\"morlet\").\n"
     ]
    },
    {
     "name": "stderr",
     "output_type": "stream",
     "text": [
      "[Parallel(n_jobs=10)]: Done 247 out of 247 | elapsed:    0.1s finished\n",
      "[Parallel(n_jobs=10)]: Using backend LokyBackend with 10 concurrent workers.\n",
      "[Parallel(n_jobs=10)]: Done   8 tasks      | elapsed:    0.0s\n",
      "[Parallel(n_jobs=10)]: Done 172 tasks      | elapsed:    0.0s\n",
      "[Parallel(n_jobs=10)]: Done 247 out of 247 | elapsed:    0.1s finished\n",
      "[Parallel(n_jobs=10)]: Using backend LokyBackend with 10 concurrent workers.\n",
      "[Parallel(n_jobs=10)]: Done   8 tasks      | elapsed:    0.0s\n",
      "[Parallel(n_jobs=10)]: Done 172 tasks      | elapsed:    0.0s\n"
     ]
    },
    {
     "name": "stdout",
     "output_type": "stream",
     "text": [
      "Applying baseline correction (mode: zscore)\n",
      "NOTE: tfr_morlet() is a legacy function. New code should use .compute_tfr(method=\"morlet\").\n",
      "Applying baseline correction (mode: zscore)\n",
      "NOTE: tfr_morlet() is a legacy function. New code should use .compute_tfr(method=\"morlet\").\n"
     ]
    },
    {
     "name": "stderr",
     "output_type": "stream",
     "text": [
      "[Parallel(n_jobs=10)]: Done 247 out of 247 | elapsed:    0.1s finished\n",
      "[Parallel(n_jobs=10)]: Using backend LokyBackend with 10 concurrent workers.\n",
      "[Parallel(n_jobs=10)]: Done   8 tasks      | elapsed:    0.0s\n",
      "[Parallel(n_jobs=10)]: Done 172 tasks      | elapsed:    0.0s\n",
      "[Parallel(n_jobs=10)]: Done 247 out of 247 | elapsed:    0.1s finished\n",
      "[Parallel(n_jobs=10)]: Using backend LokyBackend with 10 concurrent workers.\n",
      "[Parallel(n_jobs=10)]: Done   8 tasks      | elapsed:    0.0s\n",
      "[Parallel(n_jobs=10)]: Done 172 tasks      | elapsed:    0.0s\n"
     ]
    },
    {
     "name": "stdout",
     "output_type": "stream",
     "text": [
      "Applying baseline correction (mode: zscore)\n",
      "NOTE: tfr_morlet() is a legacy function. New code should use .compute_tfr(method=\"morlet\").\n",
      "Applying baseline correction (mode: zscore)\n",
      "NOTE: tfr_morlet() is a legacy function. New code should use .compute_tfr(method=\"morlet\").\n"
     ]
    },
    {
     "name": "stderr",
     "output_type": "stream",
     "text": [
      "[Parallel(n_jobs=10)]: Done 247 out of 247 | elapsed:    0.1s finished\n",
      "[Parallel(n_jobs=10)]: Using backend LokyBackend with 10 concurrent workers.\n",
      "[Parallel(n_jobs=10)]: Done   8 tasks      | elapsed:    0.0s\n",
      "[Parallel(n_jobs=10)]: Done 172 tasks      | elapsed:    0.0s\n",
      "[Parallel(n_jobs=10)]: Done 247 out of 247 | elapsed:    0.1s finished\n",
      "[Parallel(n_jobs=10)]: Using backend LokyBackend with 10 concurrent workers.\n",
      "[Parallel(n_jobs=10)]: Done   8 tasks      | elapsed:    0.0s\n",
      "[Parallel(n_jobs=10)]: Done 172 tasks      | elapsed:    0.0s\n"
     ]
    },
    {
     "name": "stdout",
     "output_type": "stream",
     "text": [
      "Applying baseline correction (mode: zscore)\n",
      "NOTE: tfr_morlet() is a legacy function. New code should use .compute_tfr(method=\"morlet\").\n",
      "Applying baseline correction (mode: zscore)\n",
      "NOTE: tfr_morlet() is a legacy function. New code should use .compute_tfr(method=\"morlet\").\n"
     ]
    },
    {
     "name": "stderr",
     "output_type": "stream",
     "text": [
      "[Parallel(n_jobs=10)]: Done 247 out of 247 | elapsed:    0.1s finished\n",
      "[Parallel(n_jobs=10)]: Using backend LokyBackend with 10 concurrent workers.\n",
      "[Parallel(n_jobs=10)]: Done   8 tasks      | elapsed:    0.0s\n",
      "[Parallel(n_jobs=10)]: Done 172 tasks      | elapsed:    0.0s\n",
      "[Parallel(n_jobs=10)]: Done 247 out of 247 | elapsed:    0.1s finished\n",
      "[Parallel(n_jobs=10)]: Using backend LokyBackend with 10 concurrent workers.\n",
      "[Parallel(n_jobs=10)]: Done   8 tasks      | elapsed:    0.0s\n",
      "[Parallel(n_jobs=10)]: Done 172 tasks      | elapsed:    0.0s\n"
     ]
    },
    {
     "name": "stdout",
     "output_type": "stream",
     "text": [
      "Applying baseline correction (mode: zscore)\n",
      "NOTE: tfr_morlet() is a legacy function. New code should use .compute_tfr(method=\"morlet\").\n",
      "Applying baseline correction (mode: zscore)\n",
      "NOTE: tfr_morlet() is a legacy function. New code should use .compute_tfr(method=\"morlet\").\n"
     ]
    },
    {
     "name": "stderr",
     "output_type": "stream",
     "text": [
      "[Parallel(n_jobs=10)]: Done 247 out of 247 | elapsed:    0.1s finished\n",
      "[Parallel(n_jobs=10)]: Using backend LokyBackend with 10 concurrent workers.\n",
      "[Parallel(n_jobs=10)]: Done   8 tasks      | elapsed:    0.0s\n",
      "[Parallel(n_jobs=10)]: Done 172 tasks      | elapsed:    0.0s\n",
      "[Parallel(n_jobs=10)]: Done 247 out of 247 | elapsed:    0.1s finished\n",
      "[Parallel(n_jobs=10)]: Using backend LokyBackend with 10 concurrent workers.\n",
      "[Parallel(n_jobs=10)]: Done   8 tasks      | elapsed:    0.0s\n",
      "[Parallel(n_jobs=10)]: Done 172 tasks      | elapsed:    0.0s\n"
     ]
    },
    {
     "name": "stdout",
     "output_type": "stream",
     "text": [
      "Applying baseline correction (mode: zscore)\n",
      "NOTE: tfr_morlet() is a legacy function. New code should use .compute_tfr(method=\"morlet\").\n",
      "Applying baseline correction (mode: zscore)\n",
      "NOTE: tfr_morlet() is a legacy function. New code should use .compute_tfr(method=\"morlet\").\n"
     ]
    },
    {
     "name": "stderr",
     "output_type": "stream",
     "text": [
      "[Parallel(n_jobs=10)]: Done 247 out of 247 | elapsed:    0.1s finished\n",
      "[Parallel(n_jobs=10)]: Using backend LokyBackend with 10 concurrent workers.\n",
      "[Parallel(n_jobs=10)]: Done   8 tasks      | elapsed:    0.0s\n",
      "[Parallel(n_jobs=10)]: Done 172 tasks      | elapsed:    0.0s\n",
      "[Parallel(n_jobs=10)]: Done 247 out of 247 | elapsed:    0.1s finished\n",
      "[Parallel(n_jobs=10)]: Using backend LokyBackend with 10 concurrent workers.\n",
      "[Parallel(n_jobs=10)]: Done   8 tasks      | elapsed:    0.0s\n",
      "[Parallel(n_jobs=10)]: Done 172 tasks      | elapsed:    0.0s\n"
     ]
    },
    {
     "name": "stdout",
     "output_type": "stream",
     "text": [
      "Applying baseline correction (mode: zscore)\n",
      "NOTE: tfr_morlet() is a legacy function. New code should use .compute_tfr(method=\"morlet\").\n",
      "Applying baseline correction (mode: zscore)\n",
      "NOTE: tfr_morlet() is a legacy function. New code should use .compute_tfr(method=\"morlet\").\n"
     ]
    },
    {
     "name": "stderr",
     "output_type": "stream",
     "text": [
      "[Parallel(n_jobs=10)]: Done 247 out of 247 | elapsed:    0.1s finished\n",
      "[Parallel(n_jobs=10)]: Using backend LokyBackend with 10 concurrent workers.\n",
      "[Parallel(n_jobs=10)]: Done   8 tasks      | elapsed:    0.0s\n",
      "[Parallel(n_jobs=10)]: Done 172 tasks      | elapsed:    0.0s\n",
      "[Parallel(n_jobs=10)]: Done 247 out of 247 | elapsed:    0.1s finished\n",
      "[Parallel(n_jobs=10)]: Using backend LokyBackend with 10 concurrent workers.\n",
      "[Parallel(n_jobs=10)]: Done   8 tasks      | elapsed:    0.0s\n",
      "[Parallel(n_jobs=10)]: Done 172 tasks      | elapsed:    0.0s\n"
     ]
    },
    {
     "name": "stdout",
     "output_type": "stream",
     "text": [
      "Applying baseline correction (mode: zscore)\n",
      "NOTE: tfr_morlet() is a legacy function. New code should use .compute_tfr(method=\"morlet\").\n",
      "Applying baseline correction (mode: zscore)\n",
      "NOTE: tfr_morlet() is a legacy function. New code should use .compute_tfr(method=\"morlet\").\n"
     ]
    },
    {
     "name": "stderr",
     "output_type": "stream",
     "text": [
      "[Parallel(n_jobs=10)]: Done 247 out of 247 | elapsed:    0.1s finished\n",
      "[Parallel(n_jobs=10)]: Using backend LokyBackend with 10 concurrent workers.\n",
      "[Parallel(n_jobs=10)]: Done   8 tasks      | elapsed:    0.0s\n",
      "[Parallel(n_jobs=10)]: Done 172 tasks      | elapsed:    0.1s\n",
      "[Parallel(n_jobs=10)]: Done 247 out of 247 | elapsed:    0.1s finished\n",
      "[Parallel(n_jobs=10)]: Using backend LokyBackend with 10 concurrent workers.\n",
      "[Parallel(n_jobs=10)]: Done   8 tasks      | elapsed:    0.0s\n",
      "[Parallel(n_jobs=10)]: Done 172 tasks      | elapsed:    0.0s\n"
     ]
    },
    {
     "name": "stdout",
     "output_type": "stream",
     "text": [
      "Applying baseline correction (mode: zscore)\n",
      "NOTE: tfr_morlet() is a legacy function. New code should use .compute_tfr(method=\"morlet\").\n",
      "Applying baseline correction (mode: zscore)\n",
      "NOTE: tfr_morlet() is a legacy function. New code should use .compute_tfr(method=\"morlet\").\n"
     ]
    },
    {
     "name": "stderr",
     "output_type": "stream",
     "text": [
      "[Parallel(n_jobs=10)]: Done 247 out of 247 | elapsed:    0.1s finished\n",
      "[Parallel(n_jobs=10)]: Using backend LokyBackend with 10 concurrent workers.\n",
      "[Parallel(n_jobs=10)]: Done   8 tasks      | elapsed:    0.0s\n",
      "[Parallel(n_jobs=10)]: Done 172 tasks      | elapsed:    0.0s\n",
      "[Parallel(n_jobs=10)]: Done 247 out of 247 | elapsed:    0.1s finished\n",
      "[Parallel(n_jobs=10)]: Using backend LokyBackend with 10 concurrent workers.\n",
      "[Parallel(n_jobs=10)]: Done   8 tasks      | elapsed:    0.0s\n",
      "[Parallel(n_jobs=10)]: Done 172 tasks      | elapsed:    0.0s\n"
     ]
    },
    {
     "name": "stdout",
     "output_type": "stream",
     "text": [
      "Applying baseline correction (mode: zscore)\n",
      "NOTE: tfr_morlet() is a legacy function. New code should use .compute_tfr(method=\"morlet\").\n",
      "Applying baseline correction (mode: zscore)\n",
      "NOTE: tfr_morlet() is a legacy function. New code should use .compute_tfr(method=\"morlet\").\n"
     ]
    },
    {
     "name": "stderr",
     "output_type": "stream",
     "text": [
      "[Parallel(n_jobs=10)]: Done 247 out of 247 | elapsed:    0.1s finished\n",
      "[Parallel(n_jobs=10)]: Using backend LokyBackend with 10 concurrent workers.\n",
      "[Parallel(n_jobs=10)]: Done   8 tasks      | elapsed:    0.0s\n",
      "[Parallel(n_jobs=10)]: Done 172 tasks      | elapsed:    0.0s\n",
      "[Parallel(n_jobs=10)]: Done 247 out of 247 | elapsed:    0.1s finished\n",
      "[Parallel(n_jobs=10)]: Using backend LokyBackend with 10 concurrent workers.\n",
      "[Parallel(n_jobs=10)]: Done   8 tasks      | elapsed:    0.0s\n",
      "[Parallel(n_jobs=10)]: Done 172 tasks      | elapsed:    0.0s\n"
     ]
    },
    {
     "name": "stdout",
     "output_type": "stream",
     "text": [
      "Applying baseline correction (mode: zscore)\n",
      "NOTE: tfr_morlet() is a legacy function. New code should use .compute_tfr(method=\"morlet\").\n",
      "Applying baseline correction (mode: zscore)\n",
      "NOTE: tfr_morlet() is a legacy function. New code should use .compute_tfr(method=\"morlet\").\n"
     ]
    },
    {
     "name": "stderr",
     "output_type": "stream",
     "text": [
      "[Parallel(n_jobs=10)]: Done 247 out of 247 | elapsed:    0.1s finished\n",
      "[Parallel(n_jobs=10)]: Using backend LokyBackend with 10 concurrent workers.\n",
      "[Parallel(n_jobs=10)]: Done   8 tasks      | elapsed:    0.0s\n",
      "[Parallel(n_jobs=10)]: Done 172 tasks      | elapsed:    0.0s\n",
      "[Parallel(n_jobs=10)]: Done 247 out of 247 | elapsed:    0.1s finished\n",
      "[Parallel(n_jobs=10)]: Using backend LokyBackend with 10 concurrent workers.\n",
      "[Parallel(n_jobs=10)]: Done   8 tasks      | elapsed:    0.0s\n",
      "[Parallel(n_jobs=10)]: Done 172 tasks      | elapsed:    0.0s\n"
     ]
    },
    {
     "name": "stdout",
     "output_type": "stream",
     "text": [
      "Applying baseline correction (mode: zscore)\n",
      "NOTE: tfr_morlet() is a legacy function. New code should use .compute_tfr(method=\"morlet\").\n",
      "Applying baseline correction (mode: zscore)\n",
      "NOTE: tfr_morlet() is a legacy function. New code should use .compute_tfr(method=\"morlet\").\n"
     ]
    },
    {
     "name": "stderr",
     "output_type": "stream",
     "text": [
      "[Parallel(n_jobs=10)]: Done 247 out of 247 | elapsed:    0.1s finished\n",
      "[Parallel(n_jobs=10)]: Using backend LokyBackend with 10 concurrent workers.\n",
      "[Parallel(n_jobs=10)]: Done   8 tasks      | elapsed:    0.0s\n",
      "[Parallel(n_jobs=10)]: Done 172 tasks      | elapsed:    0.0s\n",
      "[Parallel(n_jobs=10)]: Done 247 out of 247 | elapsed:    0.1s finished\n",
      "[Parallel(n_jobs=10)]: Using backend LokyBackend with 10 concurrent workers.\n",
      "[Parallel(n_jobs=10)]: Done   8 tasks      | elapsed:    0.0s\n",
      "[Parallel(n_jobs=10)]: Done 172 tasks      | elapsed:    0.0s\n"
     ]
    },
    {
     "name": "stdout",
     "output_type": "stream",
     "text": [
      "Applying baseline correction (mode: zscore)\n",
      "NOTE: tfr_morlet() is a legacy function. New code should use .compute_tfr(method=\"morlet\").\n",
      "Applying baseline correction (mode: zscore)\n",
      "NOTE: tfr_morlet() is a legacy function. New code should use .compute_tfr(method=\"morlet\").\n"
     ]
    },
    {
     "name": "stderr",
     "output_type": "stream",
     "text": [
      "[Parallel(n_jobs=10)]: Done 247 out of 247 | elapsed:    0.1s finished\n",
      "[Parallel(n_jobs=10)]: Using backend LokyBackend with 10 concurrent workers.\n",
      "[Parallel(n_jobs=10)]: Done   8 tasks      | elapsed:    0.0s\n",
      "[Parallel(n_jobs=10)]: Done 172 tasks      | elapsed:    0.0s\n",
      "[Parallel(n_jobs=10)]: Done 247 out of 247 | elapsed:    0.1s finished\n",
      "[Parallel(n_jobs=10)]: Using backend LokyBackend with 10 concurrent workers.\n",
      "[Parallel(n_jobs=10)]: Done   8 tasks      | elapsed:    0.0s\n",
      "[Parallel(n_jobs=10)]: Done 172 tasks      | elapsed:    0.0s\n"
     ]
    },
    {
     "name": "stdout",
     "output_type": "stream",
     "text": [
      "Applying baseline correction (mode: zscore)\n",
      "NOTE: tfr_morlet() is a legacy function. New code should use .compute_tfr(method=\"morlet\").\n",
      "Applying baseline correction (mode: zscore)\n",
      "NOTE: tfr_morlet() is a legacy function. New code should use .compute_tfr(method=\"morlet\").\n"
     ]
    },
    {
     "name": "stderr",
     "output_type": "stream",
     "text": [
      "[Parallel(n_jobs=10)]: Done 247 out of 247 | elapsed:    0.1s finished\n",
      "[Parallel(n_jobs=10)]: Using backend LokyBackend with 10 concurrent workers.\n",
      "[Parallel(n_jobs=10)]: Done   8 tasks      | elapsed:    0.0s\n",
      "[Parallel(n_jobs=10)]: Done 172 tasks      | elapsed:    0.0s\n",
      "[Parallel(n_jobs=10)]: Done 247 out of 247 | elapsed:    0.1s finished\n",
      "[Parallel(n_jobs=10)]: Using backend LokyBackend with 10 concurrent workers.\n",
      "[Parallel(n_jobs=10)]: Done   8 tasks      | elapsed:    0.0s\n",
      "[Parallel(n_jobs=10)]: Done 172 tasks      | elapsed:    0.0s\n"
     ]
    },
    {
     "name": "stdout",
     "output_type": "stream",
     "text": [
      "Applying baseline correction (mode: zscore)\n",
      "NOTE: tfr_morlet() is a legacy function. New code should use .compute_tfr(method=\"morlet\").\n",
      "Applying baseline correction (mode: zscore)\n",
      "NOTE: tfr_morlet() is a legacy function. New code should use .compute_tfr(method=\"morlet\").\n"
     ]
    },
    {
     "name": "stderr",
     "output_type": "stream",
     "text": [
      "[Parallel(n_jobs=10)]: Done 247 out of 247 | elapsed:    0.1s finished\n",
      "[Parallel(n_jobs=10)]: Using backend LokyBackend with 10 concurrent workers.\n",
      "[Parallel(n_jobs=10)]: Done   8 tasks      | elapsed:    0.0s\n",
      "[Parallel(n_jobs=10)]: Done 172 tasks      | elapsed:    0.0s\n",
      "[Parallel(n_jobs=10)]: Done 247 out of 247 | elapsed:    0.1s finished\n",
      "[Parallel(n_jobs=10)]: Using backend LokyBackend with 10 concurrent workers.\n",
      "[Parallel(n_jobs=10)]: Done   8 tasks      | elapsed:    0.0s\n",
      "[Parallel(n_jobs=10)]: Done 172 tasks      | elapsed:    0.0s\n"
     ]
    },
    {
     "name": "stdout",
     "output_type": "stream",
     "text": [
      "Applying baseline correction (mode: zscore)\n",
      "NOTE: tfr_morlet() is a legacy function. New code should use .compute_tfr(method=\"morlet\").\n",
      "Applying baseline correction (mode: zscore)\n",
      "NOTE: tfr_morlet() is a legacy function. New code should use .compute_tfr(method=\"morlet\").\n"
     ]
    },
    {
     "name": "stderr",
     "output_type": "stream",
     "text": [
      "[Parallel(n_jobs=10)]: Done 247 out of 247 | elapsed:    0.1s finished\n",
      "[Parallel(n_jobs=10)]: Using backend LokyBackend with 10 concurrent workers.\n",
      "[Parallel(n_jobs=10)]: Done   8 tasks      | elapsed:    0.0s\n",
      "[Parallel(n_jobs=10)]: Done 172 tasks      | elapsed:    0.0s\n",
      "[Parallel(n_jobs=10)]: Done 247 out of 247 | elapsed:    0.1s finished\n",
      "[Parallel(n_jobs=10)]: Using backend LokyBackend with 10 concurrent workers.\n",
      "[Parallel(n_jobs=10)]: Done   8 tasks      | elapsed:    0.0s\n",
      "[Parallel(n_jobs=10)]: Done 172 tasks      | elapsed:    0.0s\n"
     ]
    },
    {
     "name": "stdout",
     "output_type": "stream",
     "text": [
      "Applying baseline correction (mode: zscore)\n",
      "NOTE: tfr_morlet() is a legacy function. New code should use .compute_tfr(method=\"morlet\").\n",
      "Applying baseline correction (mode: zscore)\n",
      "NOTE: tfr_morlet() is a legacy function. New code should use .compute_tfr(method=\"morlet\").\n"
     ]
    },
    {
     "name": "stderr",
     "output_type": "stream",
     "text": [
      "[Parallel(n_jobs=10)]: Done 247 out of 247 | elapsed:    0.1s finished\n",
      "[Parallel(n_jobs=10)]: Using backend LokyBackend with 10 concurrent workers.\n",
      "[Parallel(n_jobs=10)]: Done   8 tasks      | elapsed:    0.0s\n",
      "[Parallel(n_jobs=10)]: Done 172 tasks      | elapsed:    0.0s\n",
      "[Parallel(n_jobs=10)]: Done 247 out of 247 | elapsed:    0.1s finished\n",
      "[Parallel(n_jobs=10)]: Using backend LokyBackend with 10 concurrent workers.\n",
      "[Parallel(n_jobs=10)]: Done   8 tasks      | elapsed:    0.0s\n",
      "[Parallel(n_jobs=10)]: Done 172 tasks      | elapsed:    0.0s\n"
     ]
    },
    {
     "name": "stdout",
     "output_type": "stream",
     "text": [
      "Applying baseline correction (mode: zscore)\n",
      "NOTE: tfr_morlet() is a legacy function. New code should use .compute_tfr(method=\"morlet\").\n",
      "Applying baseline correction (mode: zscore)\n",
      "NOTE: tfr_morlet() is a legacy function. New code should use .compute_tfr(method=\"morlet\").\n"
     ]
    },
    {
     "name": "stderr",
     "output_type": "stream",
     "text": [
      "[Parallel(n_jobs=10)]: Done 247 out of 247 | elapsed:    0.1s finished\n",
      "[Parallel(n_jobs=10)]: Using backend LokyBackend with 10 concurrent workers.\n",
      "[Parallel(n_jobs=10)]: Done   8 tasks      | elapsed:    0.0s\n",
      "[Parallel(n_jobs=10)]: Done 172 tasks      | elapsed:    0.0s\n",
      "[Parallel(n_jobs=10)]: Done 247 out of 247 | elapsed:    0.1s finished\n",
      "[Parallel(n_jobs=10)]: Using backend LokyBackend with 10 concurrent workers.\n",
      "[Parallel(n_jobs=10)]: Done   8 tasks      | elapsed:    0.0s\n",
      "[Parallel(n_jobs=10)]: Done 172 tasks      | elapsed:    0.0s\n"
     ]
    },
    {
     "name": "stdout",
     "output_type": "stream",
     "text": [
      "Applying baseline correction (mode: zscore)\n",
      "NOTE: tfr_morlet() is a legacy function. New code should use .compute_tfr(method=\"morlet\").\n",
      "Applying baseline correction (mode: zscore)\n",
      "NOTE: tfr_morlet() is a legacy function. New code should use .compute_tfr(method=\"morlet\").\n"
     ]
    },
    {
     "name": "stderr",
     "output_type": "stream",
     "text": [
      "[Parallel(n_jobs=10)]: Done 247 out of 247 | elapsed:    0.1s finished\n",
      "[Parallel(n_jobs=10)]: Using backend LokyBackend with 10 concurrent workers.\n",
      "[Parallel(n_jobs=10)]: Done   8 tasks      | elapsed:    0.0s\n",
      "[Parallel(n_jobs=10)]: Done 172 tasks      | elapsed:    0.0s\n",
      "[Parallel(n_jobs=10)]: Done 247 out of 247 | elapsed:    0.1s finished\n",
      "[Parallel(n_jobs=10)]: Using backend LokyBackend with 10 concurrent workers.\n",
      "[Parallel(n_jobs=10)]: Done   8 tasks      | elapsed:    0.0s\n",
      "[Parallel(n_jobs=10)]: Done 172 tasks      | elapsed:    0.0s\n"
     ]
    },
    {
     "name": "stdout",
     "output_type": "stream",
     "text": [
      "Applying baseline correction (mode: zscore)\n",
      "NOTE: tfr_morlet() is a legacy function. New code should use .compute_tfr(method=\"morlet\").\n",
      "Applying baseline correction (mode: zscore)\n",
      "NOTE: tfr_morlet() is a legacy function. New code should use .compute_tfr(method=\"morlet\").\n"
     ]
    },
    {
     "name": "stderr",
     "output_type": "stream",
     "text": [
      "[Parallel(n_jobs=10)]: Done 247 out of 247 | elapsed:    0.1s finished\n",
      "[Parallel(n_jobs=10)]: Using backend LokyBackend with 10 concurrent workers.\n",
      "[Parallel(n_jobs=10)]: Done   8 tasks      | elapsed:    0.0s\n",
      "[Parallel(n_jobs=10)]: Done 172 tasks      | elapsed:    0.0s\n",
      "[Parallel(n_jobs=10)]: Done 247 out of 247 | elapsed:    0.1s finished\n",
      "[Parallel(n_jobs=10)]: Using backend LokyBackend with 10 concurrent workers.\n",
      "[Parallel(n_jobs=10)]: Done   8 tasks      | elapsed:    0.0s\n",
      "[Parallel(n_jobs=10)]: Done 172 tasks      | elapsed:    0.0s\n"
     ]
    },
    {
     "name": "stdout",
     "output_type": "stream",
     "text": [
      "Applying baseline correction (mode: zscore)\n",
      "NOTE: tfr_morlet() is a legacy function. New code should use .compute_tfr(method=\"morlet\").\n",
      "Applying baseline correction (mode: zscore)\n",
      "NOTE: tfr_morlet() is a legacy function. New code should use .compute_tfr(method=\"morlet\").\n"
     ]
    },
    {
     "name": "stderr",
     "output_type": "stream",
     "text": [
      "[Parallel(n_jobs=10)]: Done 247 out of 247 | elapsed:    0.1s finished\n",
      "[Parallel(n_jobs=10)]: Using backend LokyBackend with 10 concurrent workers.\n",
      "[Parallel(n_jobs=10)]: Done   8 tasks      | elapsed:    0.0s\n",
      "[Parallel(n_jobs=10)]: Done 172 tasks      | elapsed:    0.0s\n",
      "[Parallel(n_jobs=10)]: Done 247 out of 247 | elapsed:    0.1s finished\n",
      "[Parallel(n_jobs=10)]: Using backend LokyBackend with 10 concurrent workers.\n",
      "[Parallel(n_jobs=10)]: Done   8 tasks      | elapsed:    0.0s\n",
      "[Parallel(n_jobs=10)]: Done 172 tasks      | elapsed:    0.0s\n"
     ]
    },
    {
     "name": "stdout",
     "output_type": "stream",
     "text": [
      "Applying baseline correction (mode: zscore)\n",
      "NOTE: tfr_morlet() is a legacy function. New code should use .compute_tfr(method=\"morlet\").\n",
      "Applying baseline correction (mode: zscore)\n",
      "NOTE: tfr_morlet() is a legacy function. New code should use .compute_tfr(method=\"morlet\").\n"
     ]
    },
    {
     "name": "stderr",
     "output_type": "stream",
     "text": [
      "[Parallel(n_jobs=10)]: Done 247 out of 247 | elapsed:    0.1s finished\n",
      "[Parallel(n_jobs=10)]: Using backend LokyBackend with 10 concurrent workers.\n",
      "[Parallel(n_jobs=10)]: Done   8 tasks      | elapsed:    0.0s\n",
      "[Parallel(n_jobs=10)]: Done 172 tasks      | elapsed:    0.1s\n",
      "[Parallel(n_jobs=10)]: Done 247 out of 247 | elapsed:    0.1s finished\n",
      "[Parallel(n_jobs=10)]: Using backend LokyBackend with 10 concurrent workers.\n",
      "[Parallel(n_jobs=10)]: Done   8 tasks      | elapsed:    0.0s\n"
     ]
    },
    {
     "name": "stdout",
     "output_type": "stream",
     "text": [
      "Applying baseline correction (mode: zscore)\n",
      "NOTE: tfr_morlet() is a legacy function. New code should use .compute_tfr(method=\"morlet\").\n",
      "Applying baseline correction (mode: zscore)\n",
      "NOTE: tfr_morlet() is a legacy function. New code should use .compute_tfr(method=\"morlet\").\n"
     ]
    },
    {
     "name": "stderr",
     "output_type": "stream",
     "text": [
      "[Parallel(n_jobs=10)]: Done 172 tasks      | elapsed:    0.0s\n",
      "[Parallel(n_jobs=10)]: Done 247 out of 247 | elapsed:    0.1s finished\n",
      "[Parallel(n_jobs=10)]: Using backend LokyBackend with 10 concurrent workers.\n",
      "[Parallel(n_jobs=10)]: Done   8 tasks      | elapsed:    0.0s\n",
      "[Parallel(n_jobs=10)]: Done 172 tasks      | elapsed:    0.0s\n",
      "[Parallel(n_jobs=10)]: Done 247 out of 247 | elapsed:    0.1s finished\n",
      "[Parallel(n_jobs=10)]: Using backend LokyBackend with 10 concurrent workers.\n",
      "[Parallel(n_jobs=10)]: Done   8 tasks      | elapsed:    0.0s\n"
     ]
    },
    {
     "name": "stdout",
     "output_type": "stream",
     "text": [
      "Applying baseline correction (mode: zscore)\n",
      "NOTE: tfr_morlet() is a legacy function. New code should use .compute_tfr(method=\"morlet\").\n",
      "Applying baseline correction (mode: zscore)\n",
      "NOTE: tfr_morlet() is a legacy function. New code should use .compute_tfr(method=\"morlet\").\n"
     ]
    },
    {
     "name": "stderr",
     "output_type": "stream",
     "text": [
      "[Parallel(n_jobs=10)]: Done 172 tasks      | elapsed:    0.0s\n",
      "[Parallel(n_jobs=10)]: Done 247 out of 247 | elapsed:    0.1s finished\n",
      "[Parallel(n_jobs=10)]: Using backend LokyBackend with 10 concurrent workers.\n",
      "[Parallel(n_jobs=10)]: Done   8 tasks      | elapsed:    0.0s\n",
      "[Parallel(n_jobs=10)]: Done 172 tasks      | elapsed:    0.0s\n",
      "[Parallel(n_jobs=10)]: Done 247 out of 247 | elapsed:    0.1s finished\n",
      "[Parallel(n_jobs=10)]: Using backend LokyBackend with 10 concurrent workers.\n",
      "[Parallel(n_jobs=10)]: Done   8 tasks      | elapsed:    0.0s\n"
     ]
    },
    {
     "name": "stdout",
     "output_type": "stream",
     "text": [
      "Applying baseline correction (mode: zscore)\n",
      "NOTE: tfr_morlet() is a legacy function. New code should use .compute_tfr(method=\"morlet\").\n",
      "Applying baseline correction (mode: zscore)\n",
      "NOTE: tfr_morlet() is a legacy function. New code should use .compute_tfr(method=\"morlet\").\n"
     ]
    },
    {
     "name": "stderr",
     "output_type": "stream",
     "text": [
      "[Parallel(n_jobs=10)]: Done 172 tasks      | elapsed:    0.1s\n",
      "[Parallel(n_jobs=10)]: Done 247 out of 247 | elapsed:    0.1s finished\n",
      "[Parallel(n_jobs=10)]: Using backend LokyBackend with 10 concurrent workers.\n",
      "[Parallel(n_jobs=10)]: Done   8 tasks      | elapsed:    0.0s\n",
      "[Parallel(n_jobs=10)]: Done 172 tasks      | elapsed:    0.0s\n",
      "[Parallel(n_jobs=10)]: Done 247 out of 247 | elapsed:    0.1s finished\n",
      "[Parallel(n_jobs=10)]: Using backend LokyBackend with 10 concurrent workers.\n",
      "[Parallel(n_jobs=10)]: Done   8 tasks      | elapsed:    0.0s\n"
     ]
    },
    {
     "name": "stdout",
     "output_type": "stream",
     "text": [
      "Applying baseline correction (mode: zscore)\n",
      "NOTE: tfr_morlet() is a legacy function. New code should use .compute_tfr(method=\"morlet\").\n",
      "Applying baseline correction (mode: zscore)\n",
      "NOTE: tfr_morlet() is a legacy function. New code should use .compute_tfr(method=\"morlet\").\n"
     ]
    },
    {
     "name": "stderr",
     "output_type": "stream",
     "text": [
      "[Parallel(n_jobs=10)]: Done 172 tasks      | elapsed:    0.0s\n",
      "[Parallel(n_jobs=10)]: Done 247 out of 247 | elapsed:    0.1s finished\n",
      "[Parallel(n_jobs=10)]: Using backend LokyBackend with 10 concurrent workers.\n",
      "[Parallel(n_jobs=10)]: Done   8 tasks      | elapsed:    0.0s\n",
      "[Parallel(n_jobs=10)]: Done 172 tasks      | elapsed:    0.0s\n",
      "[Parallel(n_jobs=10)]: Done 247 out of 247 | elapsed:    0.1s finished\n",
      "[Parallel(n_jobs=10)]: Using backend LokyBackend with 10 concurrent workers.\n",
      "[Parallel(n_jobs=10)]: Done   8 tasks      | elapsed:    0.0s\n"
     ]
    },
    {
     "name": "stdout",
     "output_type": "stream",
     "text": [
      "Applying baseline correction (mode: zscore)\n",
      "NOTE: tfr_morlet() is a legacy function. New code should use .compute_tfr(method=\"morlet\").\n",
      "Applying baseline correction (mode: zscore)\n",
      "NOTE: tfr_morlet() is a legacy function. New code should use .compute_tfr(method=\"morlet\").\n"
     ]
    },
    {
     "name": "stderr",
     "output_type": "stream",
     "text": [
      "[Parallel(n_jobs=10)]: Done 172 tasks      | elapsed:    0.0s\n",
      "[Parallel(n_jobs=10)]: Done 247 out of 247 | elapsed:    0.1s finished\n",
      "[Parallel(n_jobs=10)]: Using backend LokyBackend with 10 concurrent workers.\n",
      "[Parallel(n_jobs=10)]: Done   8 tasks      | elapsed:    0.0s\n",
      "[Parallel(n_jobs=10)]: Done 172 tasks      | elapsed:    0.0s\n",
      "[Parallel(n_jobs=10)]: Done 247 out of 247 | elapsed:    0.1s finished\n",
      "[Parallel(n_jobs=10)]: Using backend LokyBackend with 10 concurrent workers.\n",
      "[Parallel(n_jobs=10)]: Done   8 tasks      | elapsed:    0.0s\n"
     ]
    },
    {
     "name": "stdout",
     "output_type": "stream",
     "text": [
      "Applying baseline correction (mode: zscore)\n",
      "NOTE: tfr_morlet() is a legacy function. New code should use .compute_tfr(method=\"morlet\").\n",
      "Applying baseline correction (mode: zscore)\n",
      "NOTE: tfr_morlet() is a legacy function. New code should use .compute_tfr(method=\"morlet\").\n"
     ]
    },
    {
     "name": "stderr",
     "output_type": "stream",
     "text": [
      "[Parallel(n_jobs=10)]: Done 172 tasks      | elapsed:    0.0s\n",
      "[Parallel(n_jobs=10)]: Done 247 out of 247 | elapsed:    0.1s finished\n",
      "[Parallel(n_jobs=10)]: Using backend LokyBackend with 10 concurrent workers.\n",
      "[Parallel(n_jobs=10)]: Done   8 tasks      | elapsed:    0.0s\n",
      "[Parallel(n_jobs=10)]: Done 172 tasks      | elapsed:    0.0s\n",
      "[Parallel(n_jobs=10)]: Done 247 out of 247 | elapsed:    0.1s finished\n",
      "[Parallel(n_jobs=10)]: Using backend LokyBackend with 10 concurrent workers.\n",
      "[Parallel(n_jobs=10)]: Done   8 tasks      | elapsed:    0.0s\n"
     ]
    },
    {
     "name": "stdout",
     "output_type": "stream",
     "text": [
      "Applying baseline correction (mode: zscore)\n",
      "NOTE: tfr_morlet() is a legacy function. New code should use .compute_tfr(method=\"morlet\").\n",
      "Applying baseline correction (mode: zscore)\n",
      "NOTE: tfr_morlet() is a legacy function. New code should use .compute_tfr(method=\"morlet\").\n"
     ]
    },
    {
     "name": "stderr",
     "output_type": "stream",
     "text": [
      "[Parallel(n_jobs=10)]: Done 172 tasks      | elapsed:    0.0s\n",
      "[Parallel(n_jobs=10)]: Done 247 out of 247 | elapsed:    0.1s finished\n",
      "[Parallel(n_jobs=10)]: Using backend LokyBackend with 10 concurrent workers.\n",
      "[Parallel(n_jobs=10)]: Done   8 tasks      | elapsed:    0.0s\n",
      "[Parallel(n_jobs=10)]: Done 172 tasks      | elapsed:    0.0s\n",
      "[Parallel(n_jobs=10)]: Done 247 out of 247 | elapsed:    0.1s finished\n",
      "[Parallel(n_jobs=10)]: Using backend LokyBackend with 10 concurrent workers.\n",
      "[Parallel(n_jobs=10)]: Done   8 tasks      | elapsed:    0.0s\n"
     ]
    },
    {
     "name": "stdout",
     "output_type": "stream",
     "text": [
      "Applying baseline correction (mode: zscore)\n",
      "NOTE: tfr_morlet() is a legacy function. New code should use .compute_tfr(method=\"morlet\").\n",
      "Applying baseline correction (mode: zscore)\n",
      "NOTE: tfr_morlet() is a legacy function. New code should use .compute_tfr(method=\"morlet\").\n"
     ]
    },
    {
     "name": "stderr",
     "output_type": "stream",
     "text": [
      "[Parallel(n_jobs=10)]: Done 172 tasks      | elapsed:    0.0s\n",
      "[Parallel(n_jobs=10)]: Done 247 out of 247 | elapsed:    0.1s finished\n",
      "[Parallel(n_jobs=10)]: Using backend LokyBackend with 10 concurrent workers.\n",
      "[Parallel(n_jobs=10)]: Done   8 tasks      | elapsed:    0.0s\n",
      "[Parallel(n_jobs=10)]: Done 172 tasks      | elapsed:    0.0s\n",
      "[Parallel(n_jobs=10)]: Done 247 out of 247 | elapsed:    0.1s finished\n",
      "[Parallel(n_jobs=10)]: Using backend LokyBackend with 10 concurrent workers.\n",
      "[Parallel(n_jobs=10)]: Done   8 tasks      | elapsed:    0.0s\n"
     ]
    },
    {
     "name": "stdout",
     "output_type": "stream",
     "text": [
      "Applying baseline correction (mode: zscore)\n",
      "NOTE: tfr_morlet() is a legacy function. New code should use .compute_tfr(method=\"morlet\").\n",
      "Applying baseline correction (mode: zscore)\n",
      "NOTE: tfr_morlet() is a legacy function. New code should use .compute_tfr(method=\"morlet\").\n"
     ]
    },
    {
     "name": "stderr",
     "output_type": "stream",
     "text": [
      "[Parallel(n_jobs=10)]: Done 172 tasks      | elapsed:    0.0s\n",
      "[Parallel(n_jobs=10)]: Done 247 out of 247 | elapsed:    0.1s finished\n",
      "[Parallel(n_jobs=10)]: Using backend LokyBackend with 10 concurrent workers.\n",
      "[Parallel(n_jobs=10)]: Done   8 tasks      | elapsed:    0.0s\n",
      "[Parallel(n_jobs=10)]: Done 172 tasks      | elapsed:    0.0s\n",
      "[Parallel(n_jobs=10)]: Done 247 out of 247 | elapsed:    0.1s finished\n",
      "[Parallel(n_jobs=10)]: Using backend LokyBackend with 10 concurrent workers.\n",
      "[Parallel(n_jobs=10)]: Done   8 tasks      | elapsed:    0.0s\n"
     ]
    },
    {
     "name": "stdout",
     "output_type": "stream",
     "text": [
      "Applying baseline correction (mode: zscore)\n",
      "NOTE: tfr_morlet() is a legacy function. New code should use .compute_tfr(method=\"morlet\").\n",
      "Applying baseline correction (mode: zscore)\n",
      "NOTE: tfr_morlet() is a legacy function. New code should use .compute_tfr(method=\"morlet\").\n"
     ]
    },
    {
     "name": "stderr",
     "output_type": "stream",
     "text": [
      "[Parallel(n_jobs=10)]: Done 172 tasks      | elapsed:    0.0s\n",
      "[Parallel(n_jobs=10)]: Done 247 out of 247 | elapsed:    0.1s finished\n",
      "[Parallel(n_jobs=10)]: Using backend LokyBackend with 10 concurrent workers.\n",
      "[Parallel(n_jobs=10)]: Done   8 tasks      | elapsed:    0.0s\n",
      "[Parallel(n_jobs=10)]: Done 172 tasks      | elapsed:    0.0s\n",
      "[Parallel(n_jobs=10)]: Done 247 out of 247 | elapsed:    0.1s finished\n",
      "[Parallel(n_jobs=10)]: Using backend LokyBackend with 10 concurrent workers.\n",
      "[Parallel(n_jobs=10)]: Done   8 tasks      | elapsed:    0.0s\n"
     ]
    },
    {
     "name": "stdout",
     "output_type": "stream",
     "text": [
      "Applying baseline correction (mode: zscore)\n",
      "NOTE: tfr_morlet() is a legacy function. New code should use .compute_tfr(method=\"morlet\").\n",
      "Applying baseline correction (mode: zscore)\n",
      "NOTE: tfr_morlet() is a legacy function. New code should use .compute_tfr(method=\"morlet\").\n"
     ]
    },
    {
     "name": "stderr",
     "output_type": "stream",
     "text": [
      "[Parallel(n_jobs=10)]: Done 172 tasks      | elapsed:    0.0s\n",
      "[Parallel(n_jobs=10)]: Done 247 out of 247 | elapsed:    0.1s finished\n",
      "[Parallel(n_jobs=10)]: Using backend LokyBackend with 10 concurrent workers.\n",
      "[Parallel(n_jobs=10)]: Done   8 tasks      | elapsed:    0.0s\n",
      "[Parallel(n_jobs=10)]: Done 172 tasks      | elapsed:    0.0s\n",
      "[Parallel(n_jobs=10)]: Done 247 out of 247 | elapsed:    0.1s finished\n",
      "[Parallel(n_jobs=10)]: Using backend LokyBackend with 10 concurrent workers.\n",
      "[Parallel(n_jobs=10)]: Done   8 tasks      | elapsed:    0.0s\n"
     ]
    },
    {
     "name": "stdout",
     "output_type": "stream",
     "text": [
      "Applying baseline correction (mode: zscore)\n",
      "NOTE: tfr_morlet() is a legacy function. New code should use .compute_tfr(method=\"morlet\").\n",
      "Applying baseline correction (mode: zscore)\n",
      "NOTE: tfr_morlet() is a legacy function. New code should use .compute_tfr(method=\"morlet\").\n"
     ]
    },
    {
     "name": "stderr",
     "output_type": "stream",
     "text": [
      "[Parallel(n_jobs=10)]: Done 172 tasks      | elapsed:    0.0s\n",
      "[Parallel(n_jobs=10)]: Done 247 out of 247 | elapsed:    0.1s finished\n",
      "[Parallel(n_jobs=10)]: Using backend LokyBackend with 10 concurrent workers.\n",
      "[Parallel(n_jobs=10)]: Done   8 tasks      | elapsed:    0.0s\n",
      "[Parallel(n_jobs=10)]: Done 172 tasks      | elapsed:    0.0s\n",
      "[Parallel(n_jobs=10)]: Done 247 out of 247 | elapsed:    0.1s finished\n",
      "[Parallel(n_jobs=10)]: Using backend LokyBackend with 10 concurrent workers.\n",
      "[Parallel(n_jobs=10)]: Done   8 tasks      | elapsed:    0.0s\n"
     ]
    },
    {
     "name": "stdout",
     "output_type": "stream",
     "text": [
      "Applying baseline correction (mode: zscore)\n",
      "NOTE: tfr_morlet() is a legacy function. New code should use .compute_tfr(method=\"morlet\").\n",
      "Applying baseline correction (mode: zscore)\n",
      "NOTE: tfr_morlet() is a legacy function. New code should use .compute_tfr(method=\"morlet\").\n"
     ]
    },
    {
     "name": "stderr",
     "output_type": "stream",
     "text": [
      "[Parallel(n_jobs=10)]: Done 172 tasks      | elapsed:    0.0s\n",
      "[Parallel(n_jobs=10)]: Done 247 out of 247 | elapsed:    0.1s finished\n",
      "[Parallel(n_jobs=10)]: Using backend LokyBackend with 10 concurrent workers.\n",
      "[Parallel(n_jobs=10)]: Done   8 tasks      | elapsed:    0.0s\n",
      "[Parallel(n_jobs=10)]: Done 172 tasks      | elapsed:    0.0s\n",
      "[Parallel(n_jobs=10)]: Done 247 out of 247 | elapsed:    0.1s finished\n",
      "[Parallel(n_jobs=10)]: Using backend LokyBackend with 10 concurrent workers.\n",
      "[Parallel(n_jobs=10)]: Done   8 tasks      | elapsed:    0.0s\n"
     ]
    },
    {
     "name": "stdout",
     "output_type": "stream",
     "text": [
      "Applying baseline correction (mode: zscore)\n",
      "NOTE: tfr_morlet() is a legacy function. New code should use .compute_tfr(method=\"morlet\").\n",
      "Applying baseline correction (mode: zscore)\n",
      "NOTE: tfr_morlet() is a legacy function. New code should use .compute_tfr(method=\"morlet\").\n"
     ]
    },
    {
     "name": "stderr",
     "output_type": "stream",
     "text": [
      "[Parallel(n_jobs=10)]: Done 172 tasks      | elapsed:    0.0s\n",
      "[Parallel(n_jobs=10)]: Done 247 out of 247 | elapsed:    0.1s finished\n",
      "[Parallel(n_jobs=10)]: Using backend LokyBackend with 10 concurrent workers.\n",
      "[Parallel(n_jobs=10)]: Done   8 tasks      | elapsed:    0.0s\n",
      "[Parallel(n_jobs=10)]: Done 172 tasks      | elapsed:    0.0s\n",
      "[Parallel(n_jobs=10)]: Done 247 out of 247 | elapsed:    0.1s finished\n",
      "[Parallel(n_jobs=10)]: Using backend LokyBackend with 10 concurrent workers.\n",
      "[Parallel(n_jobs=10)]: Done   8 tasks      | elapsed:    0.0s\n"
     ]
    },
    {
     "name": "stdout",
     "output_type": "stream",
     "text": [
      "Applying baseline correction (mode: zscore)\n",
      "NOTE: tfr_morlet() is a legacy function. New code should use .compute_tfr(method=\"morlet\").\n"
     ]
    },
    {
     "name": "stderr",
     "output_type": "stream",
     "text": [
      "[Parallel(n_jobs=10)]: Done 172 tasks      | elapsed:    0.0s\n",
      "[Parallel(n_jobs=10)]: Done 247 out of 247 | elapsed:    0.1s finished\n",
      "[Parallel(n_jobs=10)]: Using backend LokyBackend with 10 concurrent workers.\n"
     ]
    },
    {
     "name": "stdout",
     "output_type": "stream",
     "text": [
      "Applying baseline correction (mode: zscore)\n",
      "NOTE: tfr_morlet() is a legacy function. New code should use .compute_tfr(method=\"morlet\").\n",
      "Applying baseline correction (mode: zscore)\n"
     ]
    },
    {
     "name": "stderr",
     "output_type": "stream",
     "text": [
      "[Parallel(n_jobs=10)]: Done   8 tasks      | elapsed:    0.0s\n",
      "[Parallel(n_jobs=10)]: Done 172 tasks      | elapsed:    0.0s\n",
      "[Parallel(n_jobs=10)]: Done 247 out of 247 | elapsed:    0.1s finished\n",
      "[Parallel(n_jobs=10)]: Using backend LokyBackend with 10 concurrent workers.\n",
      "[Parallel(n_jobs=10)]: Done   8 tasks      | elapsed:    0.0s\n",
      "[Parallel(n_jobs=10)]: Done 172 tasks      | elapsed:    0.0s\n",
      "[Parallel(n_jobs=10)]: Done 247 out of 247 | elapsed:    0.1s finished\n"
     ]
    },
    {
     "name": "stdout",
     "output_type": "stream",
     "text": [
      "NOTE: tfr_morlet() is a legacy function. New code should use .compute_tfr(method=\"morlet\").\n",
      "Applying baseline correction (mode: zscore)\n",
      "NOTE: tfr_morlet() is a legacy function. New code should use .compute_tfr(method=\"morlet\").\n"
     ]
    },
    {
     "name": "stderr",
     "output_type": "stream",
     "text": [
      "[Parallel(n_jobs=10)]: Using backend LokyBackend with 10 concurrent workers.\n",
      "[Parallel(n_jobs=10)]: Done   8 tasks      | elapsed:    0.0s\n",
      "[Parallel(n_jobs=10)]: Done 172 tasks      | elapsed:    0.0s\n",
      "[Parallel(n_jobs=10)]: Done 247 out of 247 | elapsed:    0.1s finished\n",
      "[Parallel(n_jobs=10)]: Using backend LokyBackend with 10 concurrent workers.\n",
      "[Parallel(n_jobs=10)]: Done   8 tasks      | elapsed:    0.0s\n",
      "[Parallel(n_jobs=10)]: Done 172 tasks      | elapsed:    0.0s\n"
     ]
    },
    {
     "name": "stdout",
     "output_type": "stream",
     "text": [
      "Applying baseline correction (mode: zscore)\n",
      "NOTE: tfr_morlet() is a legacy function. New code should use .compute_tfr(method=\"morlet\").\n",
      "Applying baseline correction (mode: zscore)\n",
      "NOTE: tfr_morlet() is a legacy function. New code should use .compute_tfr(method=\"morlet\").\n"
     ]
    },
    {
     "name": "stderr",
     "output_type": "stream",
     "text": [
      "[Parallel(n_jobs=10)]: Done 247 out of 247 | elapsed:    0.1s finished\n",
      "[Parallel(n_jobs=10)]: Using backend LokyBackend with 10 concurrent workers.\n",
      "[Parallel(n_jobs=10)]: Done   8 tasks      | elapsed:    0.0s\n",
      "[Parallel(n_jobs=10)]: Done 172 tasks      | elapsed:    0.0s\n",
      "[Parallel(n_jobs=10)]: Done 247 out of 247 | elapsed:    0.1s finished\n",
      "[Parallel(n_jobs=10)]: Using backend LokyBackend with 10 concurrent workers.\n",
      "[Parallel(n_jobs=10)]: Done   8 tasks      | elapsed:    0.0s\n",
      "[Parallel(n_jobs=10)]: Done 172 tasks      | elapsed:    0.0s\n"
     ]
    },
    {
     "name": "stdout",
     "output_type": "stream",
     "text": [
      "Applying baseline correction (mode: zscore)\n",
      "NOTE: tfr_morlet() is a legacy function. New code should use .compute_tfr(method=\"morlet\").\n",
      "Applying baseline correction (mode: zscore)\n",
      "NOTE: tfr_morlet() is a legacy function. New code should use .compute_tfr(method=\"morlet\").\n"
     ]
    },
    {
     "name": "stderr",
     "output_type": "stream",
     "text": [
      "[Parallel(n_jobs=10)]: Done 247 out of 247 | elapsed:    0.1s finished\n",
      "[Parallel(n_jobs=10)]: Using backend LokyBackend with 10 concurrent workers.\n",
      "[Parallel(n_jobs=10)]: Done   8 tasks      | elapsed:    0.0s\n",
      "[Parallel(n_jobs=10)]: Done 172 tasks      | elapsed:    0.1s\n",
      "[Parallel(n_jobs=10)]: Done 247 out of 247 | elapsed:    0.1s finished\n",
      "[Parallel(n_jobs=10)]: Using backend LokyBackend with 10 concurrent workers.\n",
      "[Parallel(n_jobs=10)]: Done   8 tasks      | elapsed:    0.0s\n",
      "[Parallel(n_jobs=10)]: Done 172 tasks      | elapsed:    0.0s\n"
     ]
    },
    {
     "name": "stdout",
     "output_type": "stream",
     "text": [
      "Applying baseline correction (mode: zscore)\n",
      "NOTE: tfr_morlet() is a legacy function. New code should use .compute_tfr(method=\"morlet\").\n",
      "Applying baseline correction (mode: zscore)\n",
      "NOTE: tfr_morlet() is a legacy function. New code should use .compute_tfr(method=\"morlet\").\n"
     ]
    },
    {
     "name": "stderr",
     "output_type": "stream",
     "text": [
      "[Parallel(n_jobs=10)]: Done 247 out of 247 | elapsed:    0.1s finished\n",
      "[Parallel(n_jobs=10)]: Using backend LokyBackend with 10 concurrent workers.\n",
      "[Parallel(n_jobs=10)]: Done   8 tasks      | elapsed:    0.0s\n",
      "[Parallel(n_jobs=10)]: Done 172 tasks      | elapsed:    0.0s\n",
      "[Parallel(n_jobs=10)]: Done 247 out of 247 | elapsed:    0.1s finished\n",
      "[Parallel(n_jobs=10)]: Using backend LokyBackend with 10 concurrent workers.\n",
      "[Parallel(n_jobs=10)]: Done   8 tasks      | elapsed:    0.0s\n",
      "[Parallel(n_jobs=10)]: Done 172 tasks      | elapsed:    0.1s\n"
     ]
    },
    {
     "name": "stdout",
     "output_type": "stream",
     "text": [
      "Applying baseline correction (mode: zscore)\n",
      "NOTE: tfr_morlet() is a legacy function. New code should use .compute_tfr(method=\"morlet\").\n",
      "Applying baseline correction (mode: zscore)\n",
      "NOTE: tfr_morlet() is a legacy function. New code should use .compute_tfr(method=\"morlet\").\n"
     ]
    },
    {
     "name": "stderr",
     "output_type": "stream",
     "text": [
      "[Parallel(n_jobs=10)]: Done 247 out of 247 | elapsed:    0.1s finished\n",
      "[Parallel(n_jobs=10)]: Using backend LokyBackend with 10 concurrent workers.\n",
      "[Parallel(n_jobs=10)]: Done   8 tasks      | elapsed:    0.0s\n",
      "[Parallel(n_jobs=10)]: Done 172 tasks      | elapsed:    0.0s\n",
      "[Parallel(n_jobs=10)]: Done 247 out of 247 | elapsed:    0.1s finished\n",
      "[Parallel(n_jobs=10)]: Using backend LokyBackend with 10 concurrent workers.\n",
      "[Parallel(n_jobs=10)]: Done   8 tasks      | elapsed:    0.0s\n",
      "[Parallel(n_jobs=10)]: Done 172 tasks      | elapsed:    0.0s\n"
     ]
    },
    {
     "name": "stdout",
     "output_type": "stream",
     "text": [
      "Applying baseline correction (mode: zscore)\n",
      "NOTE: tfr_morlet() is a legacy function. New code should use .compute_tfr(method=\"morlet\").\n",
      "Applying baseline correction (mode: zscore)\n",
      "NOTE: tfr_morlet() is a legacy function. New code should use .compute_tfr(method=\"morlet\").\n"
     ]
    },
    {
     "name": "stderr",
     "output_type": "stream",
     "text": [
      "[Parallel(n_jobs=10)]: Done 247 out of 247 | elapsed:    0.1s finished\n",
      "[Parallel(n_jobs=10)]: Using backend LokyBackend with 10 concurrent workers.\n",
      "[Parallel(n_jobs=10)]: Done   8 tasks      | elapsed:    0.0s\n",
      "[Parallel(n_jobs=10)]: Done 172 tasks      | elapsed:    0.0s\n",
      "[Parallel(n_jobs=10)]: Done 247 out of 247 | elapsed:    0.1s finished\n",
      "[Parallel(n_jobs=10)]: Using backend LokyBackend with 10 concurrent workers.\n",
      "[Parallel(n_jobs=10)]: Done   8 tasks      | elapsed:    0.0s\n",
      "[Parallel(n_jobs=10)]: Done 172 tasks      | elapsed:    0.0s\n"
     ]
    },
    {
     "name": "stdout",
     "output_type": "stream",
     "text": [
      "Applying baseline correction (mode: zscore)\n",
      "NOTE: tfr_morlet() is a legacy function. New code should use .compute_tfr(method=\"morlet\").\n",
      "Applying baseline correction (mode: zscore)\n",
      "NOTE: tfr_morlet() is a legacy function. New code should use .compute_tfr(method=\"morlet\").\n"
     ]
    },
    {
     "name": "stderr",
     "output_type": "stream",
     "text": [
      "[Parallel(n_jobs=10)]: Done 247 out of 247 | elapsed:    0.1s finished\n",
      "[Parallel(n_jobs=10)]: Using backend LokyBackend with 10 concurrent workers.\n",
      "[Parallel(n_jobs=10)]: Done   8 tasks      | elapsed:    0.0s\n",
      "[Parallel(n_jobs=10)]: Done 172 tasks      | elapsed:    0.0s\n",
      "[Parallel(n_jobs=10)]: Done 247 out of 247 | elapsed:    0.1s finished\n",
      "[Parallel(n_jobs=10)]: Using backend LokyBackend with 10 concurrent workers.\n",
      "[Parallel(n_jobs=10)]: Done   8 tasks      | elapsed:    0.0s\n",
      "[Parallel(n_jobs=10)]: Done 172 tasks      | elapsed:    0.0s\n"
     ]
    },
    {
     "name": "stdout",
     "output_type": "stream",
     "text": [
      "Applying baseline correction (mode: zscore)\n",
      "NOTE: tfr_morlet() is a legacy function. New code should use .compute_tfr(method=\"morlet\").\n",
      "Applying baseline correction (mode: zscore)\n",
      "NOTE: tfr_morlet() is a legacy function. New code should use .compute_tfr(method=\"morlet\").\n"
     ]
    },
    {
     "name": "stderr",
     "output_type": "stream",
     "text": [
      "[Parallel(n_jobs=10)]: Done 247 out of 247 | elapsed:    0.1s finished\n",
      "[Parallel(n_jobs=10)]: Using backend LokyBackend with 10 concurrent workers.\n",
      "[Parallel(n_jobs=10)]: Done   8 tasks      | elapsed:    0.0s\n",
      "[Parallel(n_jobs=10)]: Done 172 tasks      | elapsed:    0.0s\n",
      "[Parallel(n_jobs=10)]: Done 247 out of 247 | elapsed:    0.1s finished\n",
      "[Parallel(n_jobs=10)]: Using backend LokyBackend with 10 concurrent workers.\n",
      "[Parallel(n_jobs=10)]: Done   8 tasks      | elapsed:    0.0s\n",
      "[Parallel(n_jobs=10)]: Done 172 tasks      | elapsed:    0.0s\n"
     ]
    },
    {
     "name": "stdout",
     "output_type": "stream",
     "text": [
      "Applying baseline correction (mode: zscore)\n",
      "NOTE: tfr_morlet() is a legacy function. New code should use .compute_tfr(method=\"morlet\").\n",
      "Applying baseline correction (mode: zscore)\n",
      "NOTE: tfr_morlet() is a legacy function. New code should use .compute_tfr(method=\"morlet\").\n"
     ]
    },
    {
     "name": "stderr",
     "output_type": "stream",
     "text": [
      "[Parallel(n_jobs=10)]: Done 247 out of 247 | elapsed:    0.1s finished\n",
      "[Parallel(n_jobs=10)]: Using backend LokyBackend with 10 concurrent workers.\n",
      "[Parallel(n_jobs=10)]: Done   8 tasks      | elapsed:    0.0s\n",
      "[Parallel(n_jobs=10)]: Done 172 tasks      | elapsed:    0.0s\n",
      "[Parallel(n_jobs=10)]: Done 247 out of 247 | elapsed:    0.1s finished\n",
      "[Parallel(n_jobs=10)]: Using backend LokyBackend with 10 concurrent workers.\n",
      "[Parallel(n_jobs=10)]: Done   8 tasks      | elapsed:    0.0s\n",
      "[Parallel(n_jobs=10)]: Done 172 tasks      | elapsed:    0.0s\n"
     ]
    },
    {
     "name": "stdout",
     "output_type": "stream",
     "text": [
      "Applying baseline correction (mode: zscore)\n",
      "NOTE: tfr_morlet() is a legacy function. New code should use .compute_tfr(method=\"morlet\").\n",
      "Applying baseline correction (mode: zscore)\n",
      "NOTE: tfr_morlet() is a legacy function. New code should use .compute_tfr(method=\"morlet\").\n"
     ]
    },
    {
     "name": "stderr",
     "output_type": "stream",
     "text": [
      "[Parallel(n_jobs=10)]: Done 247 out of 247 | elapsed:    0.1s finished\n",
      "[Parallel(n_jobs=10)]: Using backend LokyBackend with 10 concurrent workers.\n",
      "[Parallel(n_jobs=10)]: Done   8 tasks      | elapsed:    0.0s\n",
      "[Parallel(n_jobs=10)]: Done 172 tasks      | elapsed:    0.0s\n",
      "[Parallel(n_jobs=10)]: Done 247 out of 247 | elapsed:    0.1s finished\n",
      "[Parallel(n_jobs=10)]: Using backend LokyBackend with 10 concurrent workers.\n",
      "[Parallel(n_jobs=10)]: Done   8 tasks      | elapsed:    0.0s\n",
      "[Parallel(n_jobs=10)]: Done 172 tasks      | elapsed:    0.0s\n"
     ]
    },
    {
     "name": "stdout",
     "output_type": "stream",
     "text": [
      "Applying baseline correction (mode: zscore)\n",
      "NOTE: tfr_morlet() is a legacy function. New code should use .compute_tfr(method=\"morlet\").\n",
      "Applying baseline correction (mode: zscore)\n",
      "NOTE: tfr_morlet() is a legacy function. New code should use .compute_tfr(method=\"morlet\").\n"
     ]
    },
    {
     "name": "stderr",
     "output_type": "stream",
     "text": [
      "[Parallel(n_jobs=10)]: Done 247 out of 247 | elapsed:    0.1s finished\n",
      "[Parallel(n_jobs=10)]: Using backend LokyBackend with 10 concurrent workers.\n",
      "[Parallel(n_jobs=10)]: Done   8 tasks      | elapsed:    0.0s\n",
      "[Parallel(n_jobs=10)]: Done 172 tasks      | elapsed:    0.0s\n",
      "[Parallel(n_jobs=10)]: Done 247 out of 247 | elapsed:    0.1s finished\n",
      "[Parallel(n_jobs=10)]: Using backend LokyBackend with 10 concurrent workers.\n",
      "[Parallel(n_jobs=10)]: Done   8 tasks      | elapsed:    0.0s\n",
      "[Parallel(n_jobs=10)]: Done 172 tasks      | elapsed:    0.0s\n"
     ]
    },
    {
     "name": "stdout",
     "output_type": "stream",
     "text": [
      "Applying baseline correction (mode: zscore)\n",
      "NOTE: tfr_morlet() is a legacy function. New code should use .compute_tfr(method=\"morlet\").\n",
      "Applying baseline correction (mode: zscore)\n",
      "NOTE: tfr_morlet() is a legacy function. New code should use .compute_tfr(method=\"morlet\").\n"
     ]
    },
    {
     "name": "stderr",
     "output_type": "stream",
     "text": [
      "[Parallel(n_jobs=10)]: Done 247 out of 247 | elapsed:    0.1s finished\n",
      "[Parallel(n_jobs=10)]: Using backend LokyBackend with 10 concurrent workers.\n",
      "[Parallel(n_jobs=10)]: Done   8 tasks      | elapsed:    0.0s\n",
      "[Parallel(n_jobs=10)]: Done 172 tasks      | elapsed:    0.0s\n",
      "[Parallel(n_jobs=10)]: Done 247 out of 247 | elapsed:    0.1s finished\n",
      "[Parallel(n_jobs=10)]: Using backend LokyBackend with 10 concurrent workers.\n",
      "[Parallel(n_jobs=10)]: Done   8 tasks      | elapsed:    0.0s\n",
      "[Parallel(n_jobs=10)]: Done 172 tasks      | elapsed:    0.0s\n"
     ]
    },
    {
     "name": "stdout",
     "output_type": "stream",
     "text": [
      "Applying baseline correction (mode: zscore)\n",
      "NOTE: tfr_morlet() is a legacy function. New code should use .compute_tfr(method=\"morlet\").\n",
      "Applying baseline correction (mode: zscore)\n",
      "NOTE: tfr_morlet() is a legacy function. New code should use .compute_tfr(method=\"morlet\").\n"
     ]
    },
    {
     "name": "stderr",
     "output_type": "stream",
     "text": [
      "[Parallel(n_jobs=10)]: Done 247 out of 247 | elapsed:    0.1s finished\n",
      "[Parallel(n_jobs=10)]: Using backend LokyBackend with 10 concurrent workers.\n",
      "[Parallel(n_jobs=10)]: Done   8 tasks      | elapsed:    0.0s\n",
      "[Parallel(n_jobs=10)]: Done 172 tasks      | elapsed:    0.0s\n",
      "[Parallel(n_jobs=10)]: Done 247 out of 247 | elapsed:    0.1s finished\n",
      "[Parallel(n_jobs=10)]: Using backend LokyBackend with 10 concurrent workers.\n",
      "[Parallel(n_jobs=10)]: Done   8 tasks      | elapsed:    0.0s\n",
      "[Parallel(n_jobs=10)]: Done 172 tasks      | elapsed:    0.0s\n"
     ]
    },
    {
     "name": "stdout",
     "output_type": "stream",
     "text": [
      "Applying baseline correction (mode: zscore)\n",
      "NOTE: tfr_morlet() is a legacy function. New code should use .compute_tfr(method=\"morlet\").\n",
      "Applying baseline correction (mode: zscore)\n",
      "NOTE: tfr_morlet() is a legacy function. New code should use .compute_tfr(method=\"morlet\").\n"
     ]
    },
    {
     "name": "stderr",
     "output_type": "stream",
     "text": [
      "[Parallel(n_jobs=10)]: Done 247 out of 247 | elapsed:    0.1s finished\n",
      "[Parallel(n_jobs=10)]: Using backend LokyBackend with 10 concurrent workers.\n",
      "[Parallel(n_jobs=10)]: Done   8 tasks      | elapsed:    0.0s\n",
      "[Parallel(n_jobs=10)]: Done 172 tasks      | elapsed:    0.1s\n",
      "[Parallel(n_jobs=10)]: Done 247 out of 247 | elapsed:    0.1s finished\n",
      "[Parallel(n_jobs=10)]: Using backend LokyBackend with 10 concurrent workers.\n",
      "[Parallel(n_jobs=10)]: Done   8 tasks      | elapsed:    0.0s\n"
     ]
    },
    {
     "name": "stdout",
     "output_type": "stream",
     "text": [
      "Applying baseline correction (mode: zscore)\n",
      "NOTE: tfr_morlet() is a legacy function. New code should use .compute_tfr(method=\"morlet\").\n",
      "Applying baseline correction (mode: zscore)\n",
      "NOTE: tfr_morlet() is a legacy function. New code should use .compute_tfr(method=\"morlet\").\n"
     ]
    },
    {
     "name": "stderr",
     "output_type": "stream",
     "text": [
      "[Parallel(n_jobs=10)]: Done 172 tasks      | elapsed:    0.0s\n",
      "[Parallel(n_jobs=10)]: Done 247 out of 247 | elapsed:    0.1s finished\n",
      "[Parallel(n_jobs=10)]: Using backend LokyBackend with 10 concurrent workers.\n",
      "[Parallel(n_jobs=10)]: Done   8 tasks      | elapsed:    0.0s\n",
      "[Parallel(n_jobs=10)]: Done 172 tasks      | elapsed:    0.0s\n",
      "[Parallel(n_jobs=10)]: Done 247 out of 247 | elapsed:    0.1s finished\n",
      "[Parallel(n_jobs=10)]: Using backend LokyBackend with 10 concurrent workers.\n",
      "[Parallel(n_jobs=10)]: Done   8 tasks      | elapsed:    0.0s\n"
     ]
    },
    {
     "name": "stdout",
     "output_type": "stream",
     "text": [
      "Applying baseline correction (mode: zscore)\n",
      "NOTE: tfr_morlet() is a legacy function. New code should use .compute_tfr(method=\"morlet\").\n",
      "Applying baseline correction (mode: zscore)\n",
      "NOTE: tfr_morlet() is a legacy function. New code should use .compute_tfr(method=\"morlet\").\n"
     ]
    },
    {
     "name": "stderr",
     "output_type": "stream",
     "text": [
      "[Parallel(n_jobs=10)]: Done 172 tasks      | elapsed:    0.0s\n",
      "[Parallel(n_jobs=10)]: Done 247 out of 247 | elapsed:    0.1s finished\n",
      "[Parallel(n_jobs=10)]: Using backend LokyBackend with 10 concurrent workers.\n",
      "[Parallel(n_jobs=10)]: Done   8 tasks      | elapsed:    0.0s\n",
      "[Parallel(n_jobs=10)]: Done 172 tasks      | elapsed:    0.0s\n",
      "[Parallel(n_jobs=10)]: Done 247 out of 247 | elapsed:    0.1s finished\n",
      "[Parallel(n_jobs=10)]: Using backend LokyBackend with 10 concurrent workers.\n",
      "[Parallel(n_jobs=10)]: Done   8 tasks      | elapsed:    0.0s\n"
     ]
    },
    {
     "name": "stdout",
     "output_type": "stream",
     "text": [
      "Applying baseline correction (mode: zscore)\n",
      "NOTE: tfr_morlet() is a legacy function. New code should use .compute_tfr(method=\"morlet\").\n",
      "Applying baseline correction (mode: zscore)\n",
      "NOTE: tfr_morlet() is a legacy function. New code should use .compute_tfr(method=\"morlet\").\n"
     ]
    },
    {
     "name": "stderr",
     "output_type": "stream",
     "text": [
      "[Parallel(n_jobs=10)]: Done 172 tasks      | elapsed:    0.0s\n",
      "[Parallel(n_jobs=10)]: Done 247 out of 247 | elapsed:    0.1s finished\n",
      "[Parallel(n_jobs=10)]: Using backend LokyBackend with 10 concurrent workers.\n",
      "[Parallel(n_jobs=10)]: Done   8 tasks      | elapsed:    0.0s\n",
      "[Parallel(n_jobs=10)]: Done 172 tasks      | elapsed:    0.0s\n",
      "[Parallel(n_jobs=10)]: Done 247 out of 247 | elapsed:    0.1s finished\n",
      "[Parallel(n_jobs=10)]: Using backend LokyBackend with 10 concurrent workers.\n",
      "[Parallel(n_jobs=10)]: Done   8 tasks      | elapsed:    0.0s\n"
     ]
    },
    {
     "name": "stdout",
     "output_type": "stream",
     "text": [
      "Applying baseline correction (mode: zscore)\n",
      "NOTE: tfr_morlet() is a legacy function. New code should use .compute_tfr(method=\"morlet\").\n",
      "Applying baseline correction (mode: zscore)\n",
      "NOTE: tfr_morlet() is a legacy function. New code should use .compute_tfr(method=\"morlet\").\n"
     ]
    },
    {
     "name": "stderr",
     "output_type": "stream",
     "text": [
      "[Parallel(n_jobs=10)]: Done 172 tasks      | elapsed:    0.0s\n",
      "[Parallel(n_jobs=10)]: Done 247 out of 247 | elapsed:    0.1s finished\n",
      "[Parallel(n_jobs=10)]: Using backend LokyBackend with 10 concurrent workers.\n",
      "[Parallel(n_jobs=10)]: Done   8 tasks      | elapsed:    0.0s\n",
      "[Parallel(n_jobs=10)]: Done 172 tasks      | elapsed:    0.0s\n",
      "[Parallel(n_jobs=10)]: Done 247 out of 247 | elapsed:    0.1s finished\n",
      "[Parallel(n_jobs=10)]: Using backend LokyBackend with 10 concurrent workers.\n",
      "[Parallel(n_jobs=10)]: Done   8 tasks      | elapsed:    0.0s\n"
     ]
    },
    {
     "name": "stdout",
     "output_type": "stream",
     "text": [
      "Applying baseline correction (mode: zscore)\n",
      "NOTE: tfr_morlet() is a legacy function. New code should use .compute_tfr(method=\"morlet\").\n",
      "Applying baseline correction (mode: zscore)\n",
      "NOTE: tfr_morlet() is a legacy function. New code should use .compute_tfr(method=\"morlet\").\n"
     ]
    },
    {
     "name": "stderr",
     "output_type": "stream",
     "text": [
      "[Parallel(n_jobs=10)]: Done 172 tasks      | elapsed:    0.0s\n",
      "[Parallel(n_jobs=10)]: Done 247 out of 247 | elapsed:    0.1s finished\n",
      "[Parallel(n_jobs=10)]: Using backend LokyBackend with 10 concurrent workers.\n",
      "[Parallel(n_jobs=10)]: Done   8 tasks      | elapsed:    0.0s\n",
      "[Parallel(n_jobs=10)]: Done 172 tasks      | elapsed:    0.0s\n",
      "[Parallel(n_jobs=10)]: Done 247 out of 247 | elapsed:    0.1s finished\n",
      "[Parallel(n_jobs=10)]: Using backend LokyBackend with 10 concurrent workers.\n",
      "[Parallel(n_jobs=10)]: Done   8 tasks      | elapsed:    0.0s\n"
     ]
    },
    {
     "name": "stdout",
     "output_type": "stream",
     "text": [
      "Applying baseline correction (mode: zscore)\n",
      "NOTE: tfr_morlet() is a legacy function. New code should use .compute_tfr(method=\"morlet\").\n",
      "Applying baseline correction (mode: zscore)\n",
      "NOTE: tfr_morlet() is a legacy function. New code should use .compute_tfr(method=\"morlet\").\n"
     ]
    },
    {
     "name": "stderr",
     "output_type": "stream",
     "text": [
      "[Parallel(n_jobs=10)]: Done 172 tasks      | elapsed:    0.0s\n",
      "[Parallel(n_jobs=10)]: Done 247 out of 247 | elapsed:    0.1s finished\n",
      "[Parallel(n_jobs=10)]: Using backend LokyBackend with 10 concurrent workers.\n",
      "[Parallel(n_jobs=10)]: Done   8 tasks      | elapsed:    0.0s\n",
      "[Parallel(n_jobs=10)]: Done 172 tasks      | elapsed:    0.0s\n",
      "[Parallel(n_jobs=10)]: Done 247 out of 247 | elapsed:    0.1s finished\n",
      "[Parallel(n_jobs=10)]: Using backend LokyBackend with 10 concurrent workers.\n",
      "[Parallel(n_jobs=10)]: Done   8 tasks      | elapsed:    0.0s\n"
     ]
    },
    {
     "name": "stdout",
     "output_type": "stream",
     "text": [
      "Applying baseline correction (mode: zscore)\n",
      "NOTE: tfr_morlet() is a legacy function. New code should use .compute_tfr(method=\"morlet\").\n",
      "Applying baseline correction (mode: zscore)\n",
      "NOTE: tfr_morlet() is a legacy function. New code should use .compute_tfr(method=\"morlet\").\n"
     ]
    },
    {
     "name": "stderr",
     "output_type": "stream",
     "text": [
      "[Parallel(n_jobs=10)]: Done 172 tasks      | elapsed:    0.1s\n",
      "[Parallel(n_jobs=10)]: Done 247 out of 247 | elapsed:    0.1s finished\n",
      "[Parallel(n_jobs=10)]: Using backend LokyBackend with 10 concurrent workers.\n",
      "[Parallel(n_jobs=10)]: Done   8 tasks      | elapsed:    0.0s\n",
      "[Parallel(n_jobs=10)]: Done 172 tasks      | elapsed:    0.0s\n",
      "[Parallel(n_jobs=10)]: Done 247 out of 247 | elapsed:    0.1s finished\n",
      "[Parallel(n_jobs=10)]: Using backend LokyBackend with 10 concurrent workers.\n",
      "[Parallel(n_jobs=10)]: Done   8 tasks      | elapsed:    0.0s\n"
     ]
    },
    {
     "name": "stdout",
     "output_type": "stream",
     "text": [
      "Applying baseline correction (mode: zscore)\n",
      "NOTE: tfr_morlet() is a legacy function. New code should use .compute_tfr(method=\"morlet\").\n",
      "Applying baseline correction (mode: zscore)\n",
      "NOTE: tfr_morlet() is a legacy function. New code should use .compute_tfr(method=\"morlet\").\n"
     ]
    },
    {
     "name": "stderr",
     "output_type": "stream",
     "text": [
      "[Parallel(n_jobs=10)]: Done 172 tasks      | elapsed:    0.1s\n",
      "[Parallel(n_jobs=10)]: Done 247 out of 247 | elapsed:    0.1s finished\n",
      "[Parallel(n_jobs=10)]: Using backend LokyBackend with 10 concurrent workers.\n",
      "[Parallel(n_jobs=10)]: Done   8 tasks      | elapsed:    0.0s\n",
      "[Parallel(n_jobs=10)]: Done 172 tasks      | elapsed:    0.0s\n",
      "[Parallel(n_jobs=10)]: Done 247 out of 247 | elapsed:    0.1s finished\n",
      "[Parallel(n_jobs=10)]: Using backend LokyBackend with 10 concurrent workers.\n",
      "[Parallel(n_jobs=10)]: Done   8 tasks      | elapsed:    0.0s\n"
     ]
    },
    {
     "name": "stdout",
     "output_type": "stream",
     "text": [
      "Applying baseline correction (mode: zscore)\n",
      "NOTE: tfr_morlet() is a legacy function. New code should use .compute_tfr(method=\"morlet\").\n",
      "Applying baseline correction (mode: zscore)\n",
      "NOTE: tfr_morlet() is a legacy function. New code should use .compute_tfr(method=\"morlet\").\n"
     ]
    },
    {
     "name": "stderr",
     "output_type": "stream",
     "text": [
      "[Parallel(n_jobs=10)]: Done 172 tasks      | elapsed:    0.0s\n",
      "[Parallel(n_jobs=10)]: Done 247 out of 247 | elapsed:    0.1s finished\n",
      "[Parallel(n_jobs=10)]: Using backend LokyBackend with 10 concurrent workers.\n",
      "[Parallel(n_jobs=10)]: Done   8 tasks      | elapsed:    0.0s\n",
      "[Parallel(n_jobs=10)]: Done 172 tasks      | elapsed:    0.1s\n",
      "[Parallel(n_jobs=10)]: Done 247 out of 247 | elapsed:    0.1s finished\n",
      "[Parallel(n_jobs=10)]: Using backend LokyBackend with 10 concurrent workers.\n",
      "[Parallel(n_jobs=10)]: Done   8 tasks      | elapsed:    0.0s\n"
     ]
    },
    {
     "name": "stdout",
     "output_type": "stream",
     "text": [
      "Applying baseline correction (mode: zscore)\n",
      "NOTE: tfr_morlet() is a legacy function. New code should use .compute_tfr(method=\"morlet\").\n",
      "Applying baseline correction (mode: zscore)\n",
      "NOTE: tfr_morlet() is a legacy function. New code should use .compute_tfr(method=\"morlet\").\n"
     ]
    },
    {
     "name": "stderr",
     "output_type": "stream",
     "text": [
      "[Parallel(n_jobs=10)]: Done 172 tasks      | elapsed:    0.0s\n",
      "[Parallel(n_jobs=10)]: Done 247 out of 247 | elapsed:    0.1s finished\n",
      "[Parallel(n_jobs=10)]: Using backend LokyBackend with 10 concurrent workers.\n",
      "[Parallel(n_jobs=10)]: Done   8 tasks      | elapsed:    0.0s\n",
      "[Parallel(n_jobs=10)]: Done 172 tasks      | elapsed:    0.0s\n",
      "[Parallel(n_jobs=10)]: Done 247 out of 247 | elapsed:    0.1s finished\n",
      "[Parallel(n_jobs=10)]: Using backend LokyBackend with 10 concurrent workers.\n",
      "[Parallel(n_jobs=10)]: Done   8 tasks      | elapsed:    0.0s\n"
     ]
    },
    {
     "name": "stdout",
     "output_type": "stream",
     "text": [
      "Applying baseline correction (mode: zscore)\n",
      "NOTE: tfr_morlet() is a legacy function. New code should use .compute_tfr(method=\"morlet\").\n",
      "Applying baseline correction (mode: zscore)\n",
      "NOTE: tfr_morlet() is a legacy function. New code should use .compute_tfr(method=\"morlet\").\n"
     ]
    },
    {
     "name": "stderr",
     "output_type": "stream",
     "text": [
      "[Parallel(n_jobs=10)]: Done 172 tasks      | elapsed:    0.0s\n",
      "[Parallel(n_jobs=10)]: Done 247 out of 247 | elapsed:    0.1s finished\n",
      "[Parallel(n_jobs=10)]: Using backend LokyBackend with 10 concurrent workers.\n",
      "[Parallel(n_jobs=10)]: Done   8 tasks      | elapsed:    0.0s\n",
      "[Parallel(n_jobs=10)]: Done 172 tasks      | elapsed:    0.0s\n",
      "[Parallel(n_jobs=10)]: Done 247 out of 247 | elapsed:    0.1s finished\n",
      "[Parallel(n_jobs=10)]: Using backend LokyBackend with 10 concurrent workers.\n",
      "[Parallel(n_jobs=10)]: Done   8 tasks      | elapsed:    0.0s\n"
     ]
    },
    {
     "name": "stdout",
     "output_type": "stream",
     "text": [
      "Applying baseline correction (mode: zscore)\n",
      "NOTE: tfr_morlet() is a legacy function. New code should use .compute_tfr(method=\"morlet\").\n",
      "Applying baseline correction (mode: zscore)\n",
      "NOTE: tfr_morlet() is a legacy function. New code should use .compute_tfr(method=\"morlet\").\n"
     ]
    },
    {
     "name": "stderr",
     "output_type": "stream",
     "text": [
      "[Parallel(n_jobs=10)]: Done 172 tasks      | elapsed:    0.0s\n",
      "[Parallel(n_jobs=10)]: Done 247 out of 247 | elapsed:    0.1s finished\n",
      "[Parallel(n_jobs=10)]: Using backend LokyBackend with 10 concurrent workers.\n",
      "[Parallel(n_jobs=10)]: Done   8 tasks      | elapsed:    0.0s\n",
      "[Parallel(n_jobs=10)]: Done 172 tasks      | elapsed:    0.0s\n",
      "[Parallel(n_jobs=10)]: Done 247 out of 247 | elapsed:    0.1s finished\n",
      "[Parallel(n_jobs=10)]: Using backend LokyBackend with 10 concurrent workers.\n",
      "[Parallel(n_jobs=10)]: Done   8 tasks      | elapsed:    0.0s\n"
     ]
    },
    {
     "name": "stdout",
     "output_type": "stream",
     "text": [
      "Applying baseline correction (mode: zscore)\n",
      "NOTE: tfr_morlet() is a legacy function. New code should use .compute_tfr(method=\"morlet\").\n"
     ]
    },
    {
     "name": "stderr",
     "output_type": "stream",
     "text": [
      "[Parallel(n_jobs=10)]: Done 172 tasks      | elapsed:    0.0s\n",
      "[Parallel(n_jobs=10)]: Done 247 out of 247 | elapsed:    0.1s finished\n",
      "[Parallel(n_jobs=10)]: Using backend LokyBackend with 10 concurrent workers.\n",
      "[Parallel(n_jobs=10)]: Done   8 tasks      | elapsed:    0.0s\n",
      "[Parallel(n_jobs=10)]: Done 172 tasks      | elapsed:    0.1s\n",
      "[Parallel(n_jobs=10)]: Done 247 out of 247 | elapsed:    0.1s finished\n"
     ]
    },
    {
     "name": "stdout",
     "output_type": "stream",
     "text": [
      "Applying baseline correction (mode: zscore)\n",
      "NOTE: tfr_morlet() is a legacy function. New code should use .compute_tfr(method=\"morlet\").\n",
      "Applying baseline correction (mode: zscore)\n",
      "NOTE: tfr_morlet() is a legacy function. New code should use .compute_tfr(method=\"morlet\").\n",
      "Applying baseline correction (mode: zscore)\n"
     ]
    },
    {
     "name": "stderr",
     "output_type": "stream",
     "text": [
      "[Parallel(n_jobs=10)]: Using backend LokyBackend with 10 concurrent workers.\n",
      "[Parallel(n_jobs=10)]: Done   8 tasks      | elapsed:    0.0s\n",
      "[Parallel(n_jobs=10)]: Done 172 tasks      | elapsed:    0.0s\n",
      "[Parallel(n_jobs=10)]: Done 247 out of 247 | elapsed:    0.1s finished\n",
      "[Parallel(n_jobs=10)]: Using backend LokyBackend with 10 concurrent workers.\n",
      "[Parallel(n_jobs=10)]: Done   8 tasks      | elapsed:    0.0s\n",
      "[Parallel(n_jobs=10)]: Done 172 tasks      | elapsed:    0.0s\n",
      "[Parallel(n_jobs=10)]: Done 247 out of 247 | elapsed:    0.1s finished\n"
     ]
    },
    {
     "name": "stdout",
     "output_type": "stream",
     "text": [
      "NOTE: tfr_morlet() is a legacy function. New code should use .compute_tfr(method=\"morlet\").\n",
      "Applying baseline correction (mode: zscore)\n",
      "NOTE: tfr_morlet() is a legacy function. New code should use .compute_tfr(method=\"morlet\").\n"
     ]
    },
    {
     "name": "stderr",
     "output_type": "stream",
     "text": [
      "[Parallel(n_jobs=10)]: Using backend LokyBackend with 10 concurrent workers.\n",
      "[Parallel(n_jobs=10)]: Done   8 tasks      | elapsed:    0.0s\n",
      "[Parallel(n_jobs=10)]: Done 172 tasks      | elapsed:    0.0s\n",
      "[Parallel(n_jobs=10)]: Done 247 out of 247 | elapsed:    0.1s finished\n",
      "[Parallel(n_jobs=10)]: Using backend LokyBackend with 10 concurrent workers.\n",
      "[Parallel(n_jobs=10)]: Done   8 tasks      | elapsed:    0.0s\n",
      "[Parallel(n_jobs=10)]: Done 172 tasks      | elapsed:    0.0s\n",
      "[Parallel(n_jobs=10)]: Done 247 out of 247 | elapsed:    0.1s finished\n"
     ]
    },
    {
     "name": "stdout",
     "output_type": "stream",
     "text": [
      "Applying baseline correction (mode: zscore)\n",
      "NOTE: tfr_morlet() is a legacy function. New code should use .compute_tfr(method=\"morlet\").\n",
      "Applying baseline correction (mode: zscore)\n",
      "NOTE: tfr_morlet() is a legacy function. New code should use .compute_tfr(method=\"morlet\").\n"
     ]
    },
    {
     "name": "stderr",
     "output_type": "stream",
     "text": [
      "[Parallel(n_jobs=10)]: Using backend LokyBackend with 10 concurrent workers.\n",
      "[Parallel(n_jobs=10)]: Done   8 tasks      | elapsed:    0.0s\n",
      "[Parallel(n_jobs=10)]: Done 172 tasks      | elapsed:    0.0s\n",
      "[Parallel(n_jobs=10)]: Done 247 out of 247 | elapsed:    0.1s finished\n",
      "[Parallel(n_jobs=10)]: Using backend LokyBackend with 10 concurrent workers.\n",
      "[Parallel(n_jobs=10)]: Done   8 tasks      | elapsed:    0.0s\n",
      "[Parallel(n_jobs=10)]: Done 172 tasks      | elapsed:    0.0s\n",
      "[Parallel(n_jobs=10)]: Done 247 out of 247 | elapsed:    0.1s finished\n"
     ]
    },
    {
     "name": "stdout",
     "output_type": "stream",
     "text": [
      "Applying baseline correction (mode: zscore)\n",
      "NOTE: tfr_morlet() is a legacy function. New code should use .compute_tfr(method=\"morlet\").\n",
      "Applying baseline correction (mode: zscore)\n",
      "NOTE: tfr_morlet() is a legacy function. New code should use .compute_tfr(method=\"morlet\").\n"
     ]
    },
    {
     "name": "stderr",
     "output_type": "stream",
     "text": [
      "[Parallel(n_jobs=10)]: Using backend LokyBackend with 10 concurrent workers.\n",
      "[Parallel(n_jobs=10)]: Done   8 tasks      | elapsed:    0.0s\n",
      "[Parallel(n_jobs=10)]: Done 172 tasks      | elapsed:    0.0s\n",
      "[Parallel(n_jobs=10)]: Done 247 out of 247 | elapsed:    0.1s finished\n",
      "[Parallel(n_jobs=10)]: Using backend LokyBackend with 10 concurrent workers.\n",
      "[Parallel(n_jobs=10)]: Done   8 tasks      | elapsed:    0.0s\n",
      "[Parallel(n_jobs=10)]: Done 172 tasks      | elapsed:    0.0s\n",
      "[Parallel(n_jobs=10)]: Done 247 out of 247 | elapsed:    0.1s finished\n"
     ]
    },
    {
     "name": "stdout",
     "output_type": "stream",
     "text": [
      "Applying baseline correction (mode: zscore)\n",
      "NOTE: tfr_morlet() is a legacy function. New code should use .compute_tfr(method=\"morlet\").\n",
      "Applying baseline correction (mode: zscore)\n",
      "NOTE: tfr_morlet() is a legacy function. New code should use .compute_tfr(method=\"morlet\").\n",
      "Applying baseline correction (mode: zscore)\n"
     ]
    },
    {
     "name": "stderr",
     "output_type": "stream",
     "text": [
      "[Parallel(n_jobs=10)]: Using backend LokyBackend with 10 concurrent workers.\n",
      "[Parallel(n_jobs=10)]: Done   8 tasks      | elapsed:    0.0s\n",
      "[Parallel(n_jobs=10)]: Done 172 tasks      | elapsed:    0.0s\n",
      "[Parallel(n_jobs=10)]: Done 247 out of 247 | elapsed:    0.1s finished\n",
      "[Parallel(n_jobs=10)]: Using backend LokyBackend with 10 concurrent workers.\n",
      "[Parallel(n_jobs=10)]: Done   8 tasks      | elapsed:    0.0s\n",
      "[Parallel(n_jobs=10)]: Done 172 tasks      | elapsed:    0.0s\n",
      "[Parallel(n_jobs=10)]: Done 247 out of 247 | elapsed:    0.1s finished\n"
     ]
    },
    {
     "name": "stdout",
     "output_type": "stream",
     "text": [
      "NOTE: tfr_morlet() is a legacy function. New code should use .compute_tfr(method=\"morlet\").\n",
      "Applying baseline correction (mode: zscore)\n",
      "NOTE: tfr_morlet() is a legacy function. New code should use .compute_tfr(method=\"morlet\").\n",
      "Applying baseline correction (mode: zscore)\n"
     ]
    },
    {
     "name": "stderr",
     "output_type": "stream",
     "text": [
      "[Parallel(n_jobs=10)]: Using backend LokyBackend with 10 concurrent workers.\n",
      "[Parallel(n_jobs=10)]: Done   8 tasks      | elapsed:    0.0s\n",
      "[Parallel(n_jobs=10)]: Done 172 tasks      | elapsed:    0.0s\n",
      "[Parallel(n_jobs=10)]: Done 247 out of 247 | elapsed:    0.1s finished\n",
      "[Parallel(n_jobs=10)]: Using backend LokyBackend with 10 concurrent workers.\n",
      "[Parallel(n_jobs=10)]: Done   8 tasks      | elapsed:    0.0s\n",
      "[Parallel(n_jobs=10)]: Done 172 tasks      | elapsed:    0.0s\n",
      "[Parallel(n_jobs=10)]: Done 247 out of 247 | elapsed:    0.1s finished\n"
     ]
    },
    {
     "name": "stdout",
     "output_type": "stream",
     "text": [
      "NOTE: tfr_morlet() is a legacy function. New code should use .compute_tfr(method=\"morlet\").\n",
      "Applying baseline correction (mode: zscore)\n",
      "NOTE: tfr_morlet() is a legacy function. New code should use .compute_tfr(method=\"morlet\").\n",
      "Applying baseline correction (mode: zscore)\n"
     ]
    },
    {
     "name": "stderr",
     "output_type": "stream",
     "text": [
      "[Parallel(n_jobs=10)]: Using backend LokyBackend with 10 concurrent workers.\n",
      "[Parallel(n_jobs=10)]: Done   8 tasks      | elapsed:    0.0s\n",
      "[Parallel(n_jobs=10)]: Done 172 tasks      | elapsed:    0.0s\n",
      "[Parallel(n_jobs=10)]: Done 247 out of 247 | elapsed:    0.1s finished\n",
      "[Parallel(n_jobs=10)]: Using backend LokyBackend with 10 concurrent workers.\n",
      "[Parallel(n_jobs=10)]: Done   8 tasks      | elapsed:    0.0s\n",
      "[Parallel(n_jobs=10)]: Done 172 tasks      | elapsed:    0.0s\n",
      "[Parallel(n_jobs=10)]: Done 247 out of 247 | elapsed:    0.1s finished\n"
     ]
    },
    {
     "name": "stdout",
     "output_type": "stream",
     "text": [
      "NOTE: tfr_morlet() is a legacy function. New code should use .compute_tfr(method=\"morlet\").\n",
      "Applying baseline correction (mode: zscore)\n",
      "NOTE: tfr_morlet() is a legacy function. New code should use .compute_tfr(method=\"morlet\").\n"
     ]
    },
    {
     "name": "stderr",
     "output_type": "stream",
     "text": [
      "[Parallel(n_jobs=10)]: Using backend LokyBackend with 10 concurrent workers.\n",
      "[Parallel(n_jobs=10)]: Done   8 tasks      | elapsed:    0.0s\n",
      "[Parallel(n_jobs=10)]: Done 172 tasks      | elapsed:    0.0s\n",
      "[Parallel(n_jobs=10)]: Done 247 out of 247 | elapsed:    0.1s finished\n",
      "[Parallel(n_jobs=10)]: Using backend LokyBackend with 10 concurrent workers.\n",
      "[Parallel(n_jobs=10)]: Done   8 tasks      | elapsed:    0.0s\n",
      "[Parallel(n_jobs=10)]: Done 172 tasks      | elapsed:    0.0s\n"
     ]
    },
    {
     "name": "stdout",
     "output_type": "stream",
     "text": [
      "Applying baseline correction (mode: zscore)\n",
      "NOTE: tfr_morlet() is a legacy function. New code should use .compute_tfr(method=\"morlet\").\n",
      "Applying baseline correction (mode: zscore)\n",
      "NOTE: tfr_morlet() is a legacy function. New code should use .compute_tfr(method=\"morlet\").\n"
     ]
    },
    {
     "name": "stderr",
     "output_type": "stream",
     "text": [
      "[Parallel(n_jobs=10)]: Done 247 out of 247 | elapsed:    0.1s finished\n",
      "[Parallel(n_jobs=10)]: Using backend LokyBackend with 10 concurrent workers.\n",
      "[Parallel(n_jobs=10)]: Done   8 tasks      | elapsed:    0.0s\n",
      "[Parallel(n_jobs=10)]: Done 172 tasks      | elapsed:    0.0s\n",
      "[Parallel(n_jobs=10)]: Done 247 out of 247 | elapsed:    0.1s finished\n",
      "[Parallel(n_jobs=10)]: Using backend LokyBackend with 10 concurrent workers.\n",
      "[Parallel(n_jobs=10)]: Done   8 tasks      | elapsed:    0.0s\n",
      "[Parallel(n_jobs=10)]: Done 172 tasks      | elapsed:    0.0s\n"
     ]
    },
    {
     "name": "stdout",
     "output_type": "stream",
     "text": [
      "Applying baseline correction (mode: zscore)\n",
      "NOTE: tfr_morlet() is a legacy function. New code should use .compute_tfr(method=\"morlet\").\n",
      "Applying baseline correction (mode: zscore)\n",
      "NOTE: tfr_morlet() is a legacy function. New code should use .compute_tfr(method=\"morlet\").\n"
     ]
    },
    {
     "name": "stderr",
     "output_type": "stream",
     "text": [
      "[Parallel(n_jobs=10)]: Done 247 out of 247 | elapsed:    0.1s finished\n",
      "[Parallel(n_jobs=10)]: Using backend LokyBackend with 10 concurrent workers.\n",
      "[Parallel(n_jobs=10)]: Done   8 tasks      | elapsed:    0.0s\n",
      "[Parallel(n_jobs=10)]: Done 172 tasks      | elapsed:    0.0s\n",
      "[Parallel(n_jobs=10)]: Done 247 out of 247 | elapsed:    0.1s finished\n",
      "[Parallel(n_jobs=10)]: Using backend LokyBackend with 10 concurrent workers.\n",
      "[Parallel(n_jobs=10)]: Done   8 tasks      | elapsed:    0.0s\n",
      "[Parallel(n_jobs=10)]: Done 172 tasks      | elapsed:    0.0s\n"
     ]
    },
    {
     "name": "stdout",
     "output_type": "stream",
     "text": [
      "Applying baseline correction (mode: zscore)\n",
      "NOTE: tfr_morlet() is a legacy function. New code should use .compute_tfr(method=\"morlet\").\n",
      "Applying baseline correction (mode: zscore)\n",
      "NOTE: tfr_morlet() is a legacy function. New code should use .compute_tfr(method=\"morlet\").\n"
     ]
    },
    {
     "name": "stderr",
     "output_type": "stream",
     "text": [
      "[Parallel(n_jobs=10)]: Done 247 out of 247 | elapsed:    0.1s finished\n",
      "[Parallel(n_jobs=10)]: Using backend LokyBackend with 10 concurrent workers.\n",
      "[Parallel(n_jobs=10)]: Done   8 tasks      | elapsed:    0.0s\n",
      "[Parallel(n_jobs=10)]: Done 172 tasks      | elapsed:    0.0s\n",
      "[Parallel(n_jobs=10)]: Done 247 out of 247 | elapsed:    0.1s finished\n",
      "[Parallel(n_jobs=10)]: Using backend LokyBackend with 10 concurrent workers.\n",
      "[Parallel(n_jobs=10)]: Done   8 tasks      | elapsed:    0.0s\n",
      "[Parallel(n_jobs=10)]: Done 172 tasks      | elapsed:    0.0s\n"
     ]
    },
    {
     "name": "stdout",
     "output_type": "stream",
     "text": [
      "Applying baseline correction (mode: zscore)\n",
      "NOTE: tfr_morlet() is a legacy function. New code should use .compute_tfr(method=\"morlet\").\n",
      "Applying baseline correction (mode: zscore)\n",
      "NOTE: tfr_morlet() is a legacy function. New code should use .compute_tfr(method=\"morlet\").\n"
     ]
    },
    {
     "name": "stderr",
     "output_type": "stream",
     "text": [
      "[Parallel(n_jobs=10)]: Done 247 out of 247 | elapsed:    0.1s finished\n",
      "[Parallel(n_jobs=10)]: Using backend LokyBackend with 10 concurrent workers.\n",
      "[Parallel(n_jobs=10)]: Done   8 tasks      | elapsed:    0.0s\n",
      "[Parallel(n_jobs=10)]: Done 172 tasks      | elapsed:    0.0s\n",
      "[Parallel(n_jobs=10)]: Done 247 out of 247 | elapsed:    0.1s finished\n",
      "[Parallel(n_jobs=10)]: Using backend LokyBackend with 10 concurrent workers.\n",
      "[Parallel(n_jobs=10)]: Done   8 tasks      | elapsed:    0.0s\n",
      "[Parallel(n_jobs=10)]: Done 172 tasks      | elapsed:    0.0s\n"
     ]
    },
    {
     "name": "stdout",
     "output_type": "stream",
     "text": [
      "Applying baseline correction (mode: zscore)\n",
      "NOTE: tfr_morlet() is a legacy function. New code should use .compute_tfr(method=\"morlet\").\n",
      "Applying baseline correction (mode: zscore)\n",
      "NOTE: tfr_morlet() is a legacy function. New code should use .compute_tfr(method=\"morlet\").\n"
     ]
    },
    {
     "name": "stderr",
     "output_type": "stream",
     "text": [
      "[Parallel(n_jobs=10)]: Done 247 out of 247 | elapsed:    0.1s finished\n",
      "[Parallel(n_jobs=10)]: Using backend LokyBackend with 10 concurrent workers.\n",
      "[Parallel(n_jobs=10)]: Done   8 tasks      | elapsed:    0.0s\n",
      "[Parallel(n_jobs=10)]: Done 172 tasks      | elapsed:    0.0s\n",
      "[Parallel(n_jobs=10)]: Done 247 out of 247 | elapsed:    0.1s finished\n",
      "[Parallel(n_jobs=10)]: Using backend LokyBackend with 10 concurrent workers.\n",
      "[Parallel(n_jobs=10)]: Done   8 tasks      | elapsed:    0.0s\n",
      "[Parallel(n_jobs=10)]: Done 172 tasks      | elapsed:    0.0s\n"
     ]
    },
    {
     "name": "stdout",
     "output_type": "stream",
     "text": [
      "Applying baseline correction (mode: zscore)\n",
      "NOTE: tfr_morlet() is a legacy function. New code should use .compute_tfr(method=\"morlet\").\n",
      "Applying baseline correction (mode: zscore)\n",
      "NOTE: tfr_morlet() is a legacy function. New code should use .compute_tfr(method=\"morlet\").\n"
     ]
    },
    {
     "name": "stderr",
     "output_type": "stream",
     "text": [
      "[Parallel(n_jobs=10)]: Done 247 out of 247 | elapsed:    0.1s finished\n",
      "[Parallel(n_jobs=10)]: Using backend LokyBackend with 10 concurrent workers.\n",
      "[Parallel(n_jobs=10)]: Done   8 tasks      | elapsed:    0.0s\n",
      "[Parallel(n_jobs=10)]: Done 172 tasks      | elapsed:    0.0s\n",
      "[Parallel(n_jobs=10)]: Done 247 out of 247 | elapsed:    0.1s finished\n",
      "[Parallel(n_jobs=10)]: Using backend LokyBackend with 10 concurrent workers.\n",
      "[Parallel(n_jobs=10)]: Done   8 tasks      | elapsed:    0.0s\n",
      "[Parallel(n_jobs=10)]: Done 172 tasks      | elapsed:    0.0s\n"
     ]
    },
    {
     "name": "stdout",
     "output_type": "stream",
     "text": [
      "Applying baseline correction (mode: zscore)\n",
      "NOTE: tfr_morlet() is a legacy function. New code should use .compute_tfr(method=\"morlet\").\n",
      "Applying baseline correction (mode: zscore)\n",
      "NOTE: tfr_morlet() is a legacy function. New code should use .compute_tfr(method=\"morlet\").\n"
     ]
    },
    {
     "name": "stderr",
     "output_type": "stream",
     "text": [
      "[Parallel(n_jobs=10)]: Done 247 out of 247 | elapsed:    0.1s finished\n",
      "[Parallel(n_jobs=10)]: Using backend LokyBackend with 10 concurrent workers.\n",
      "[Parallel(n_jobs=10)]: Done   8 tasks      | elapsed:    0.0s\n",
      "[Parallel(n_jobs=10)]: Done 172 tasks      | elapsed:    0.0s\n",
      "[Parallel(n_jobs=10)]: Done 247 out of 247 | elapsed:    0.1s finished\n",
      "[Parallel(n_jobs=10)]: Using backend LokyBackend with 10 concurrent workers.\n",
      "[Parallel(n_jobs=10)]: Done   8 tasks      | elapsed:    0.0s\n",
      "[Parallel(n_jobs=10)]: Done 172 tasks      | elapsed:    0.0s\n"
     ]
    },
    {
     "name": "stdout",
     "output_type": "stream",
     "text": [
      "Applying baseline correction (mode: zscore)\n",
      "NOTE: tfr_morlet() is a legacy function. New code should use .compute_tfr(method=\"morlet\").\n",
      "Applying baseline correction (mode: zscore)\n",
      "NOTE: tfr_morlet() is a legacy function. New code should use .compute_tfr(method=\"morlet\").\n"
     ]
    },
    {
     "name": "stderr",
     "output_type": "stream",
     "text": [
      "[Parallel(n_jobs=10)]: Done 247 out of 247 | elapsed:    0.1s finished\n",
      "[Parallel(n_jobs=10)]: Using backend LokyBackend with 10 concurrent workers.\n",
      "[Parallel(n_jobs=10)]: Done   8 tasks      | elapsed:    0.0s\n",
      "[Parallel(n_jobs=10)]: Done 172 tasks      | elapsed:    0.0s\n",
      "[Parallel(n_jobs=10)]: Done 247 out of 247 | elapsed:    0.1s finished\n",
      "[Parallel(n_jobs=10)]: Using backend LokyBackend with 10 concurrent workers.\n",
      "[Parallel(n_jobs=10)]: Done   8 tasks      | elapsed:    0.0s\n"
     ]
    },
    {
     "name": "stdout",
     "output_type": "stream",
     "text": [
      "Applying baseline correction (mode: zscore)\n",
      "NOTE: tfr_morlet() is a legacy function. New code should use .compute_tfr(method=\"morlet\").\n",
      "Applying baseline correction (mode: zscore)\n",
      "NOTE: tfr_morlet() is a legacy function. New code should use .compute_tfr(method=\"morlet\").\n"
     ]
    },
    {
     "name": "stderr",
     "output_type": "stream",
     "text": [
      "[Parallel(n_jobs=10)]: Done 172 tasks      | elapsed:    0.1s\n",
      "[Parallel(n_jobs=10)]: Done 247 out of 247 | elapsed:    0.2s finished\n",
      "[Parallel(n_jobs=10)]: Using backend LokyBackend with 10 concurrent workers.\n",
      "[Parallel(n_jobs=10)]: Done   8 tasks      | elapsed:    0.0s\n",
      "[Parallel(n_jobs=10)]: Done 172 tasks      | elapsed:    0.0s\n",
      "[Parallel(n_jobs=10)]: Done 247 out of 247 | elapsed:    0.1s finished\n",
      "[Parallel(n_jobs=10)]: Using backend LokyBackend with 10 concurrent workers.\n",
      "[Parallel(n_jobs=10)]: Done   8 tasks      | elapsed:    0.0s\n"
     ]
    },
    {
     "name": "stdout",
     "output_type": "stream",
     "text": [
      "Applying baseline correction (mode: zscore)\n",
      "NOTE: tfr_morlet() is a legacy function. New code should use .compute_tfr(method=\"morlet\").\n",
      "Applying baseline correction (mode: zscore)\n",
      "NOTE: tfr_morlet() is a legacy function. New code should use .compute_tfr(method=\"morlet\").\n"
     ]
    },
    {
     "name": "stderr",
     "output_type": "stream",
     "text": [
      "[Parallel(n_jobs=10)]: Done 172 tasks      | elapsed:    0.0s\n",
      "[Parallel(n_jobs=10)]: Done 247 out of 247 | elapsed:    0.1s finished\n",
      "[Parallel(n_jobs=10)]: Using backend LokyBackend with 10 concurrent workers.\n",
      "[Parallel(n_jobs=10)]: Done   8 tasks      | elapsed:    0.0s\n",
      "[Parallel(n_jobs=10)]: Done 172 tasks      | elapsed:    0.0s\n",
      "[Parallel(n_jobs=10)]: Done 247 out of 247 | elapsed:    0.1s finished\n",
      "[Parallel(n_jobs=10)]: Using backend LokyBackend with 10 concurrent workers.\n",
      "[Parallel(n_jobs=10)]: Done   8 tasks      | elapsed:    0.0s\n"
     ]
    },
    {
     "name": "stdout",
     "output_type": "stream",
     "text": [
      "Applying baseline correction (mode: zscore)\n",
      "NOTE: tfr_morlet() is a legacy function. New code should use .compute_tfr(method=\"morlet\").\n",
      "Applying baseline correction (mode: zscore)\n",
      "NOTE: tfr_morlet() is a legacy function. New code should use .compute_tfr(method=\"morlet\").\n"
     ]
    },
    {
     "name": "stderr",
     "output_type": "stream",
     "text": [
      "[Parallel(n_jobs=10)]: Done 172 tasks      | elapsed:    0.0s\n",
      "[Parallel(n_jobs=10)]: Done 247 out of 247 | elapsed:    0.1s finished\n",
      "[Parallel(n_jobs=10)]: Using backend LokyBackend with 10 concurrent workers.\n",
      "[Parallel(n_jobs=10)]: Done   8 tasks      | elapsed:    0.0s\n",
      "[Parallel(n_jobs=10)]: Done 172 tasks      | elapsed:    0.0s\n",
      "[Parallel(n_jobs=10)]: Done 247 out of 247 | elapsed:    0.1s finished\n",
      "[Parallel(n_jobs=10)]: Using backend LokyBackend with 10 concurrent workers.\n",
      "[Parallel(n_jobs=10)]: Done   8 tasks      | elapsed:    0.0s\n"
     ]
    },
    {
     "name": "stdout",
     "output_type": "stream",
     "text": [
      "Applying baseline correction (mode: zscore)\n",
      "NOTE: tfr_morlet() is a legacy function. New code should use .compute_tfr(method=\"morlet\").\n",
      "Applying baseline correction (mode: zscore)\n",
      "NOTE: tfr_morlet() is a legacy function. New code should use .compute_tfr(method=\"morlet\").\n"
     ]
    },
    {
     "name": "stderr",
     "output_type": "stream",
     "text": [
      "[Parallel(n_jobs=10)]: Done 172 tasks      | elapsed:    0.0s\n",
      "[Parallel(n_jobs=10)]: Done 247 out of 247 | elapsed:    0.1s finished\n",
      "[Parallel(n_jobs=10)]: Using backend LokyBackend with 10 concurrent workers.\n",
      "[Parallel(n_jobs=10)]: Done   8 tasks      | elapsed:    0.0s\n",
      "[Parallel(n_jobs=10)]: Done 172 tasks      | elapsed:    0.0s\n",
      "[Parallel(n_jobs=10)]: Done 247 out of 247 | elapsed:    0.1s finished\n",
      "[Parallel(n_jobs=10)]: Using backend LokyBackend with 10 concurrent workers.\n",
      "[Parallel(n_jobs=10)]: Done   8 tasks      | elapsed:    0.0s\n"
     ]
    },
    {
     "name": "stdout",
     "output_type": "stream",
     "text": [
      "Applying baseline correction (mode: zscore)\n",
      "NOTE: tfr_morlet() is a legacy function. New code should use .compute_tfr(method=\"morlet\").\n",
      "Applying baseline correction (mode: zscore)\n",
      "NOTE: tfr_morlet() is a legacy function. New code should use .compute_tfr(method=\"morlet\").\n"
     ]
    },
    {
     "name": "stderr",
     "output_type": "stream",
     "text": [
      "[Parallel(n_jobs=10)]: Done 172 tasks      | elapsed:    0.0s\n",
      "[Parallel(n_jobs=10)]: Done 247 out of 247 | elapsed:    0.1s finished\n",
      "[Parallel(n_jobs=10)]: Using backend LokyBackend with 10 concurrent workers.\n",
      "[Parallel(n_jobs=10)]: Done   8 tasks      | elapsed:    0.0s\n",
      "[Parallel(n_jobs=10)]: Done 172 tasks      | elapsed:    0.0s\n",
      "[Parallel(n_jobs=10)]: Done 247 out of 247 | elapsed:    0.1s finished\n",
      "[Parallel(n_jobs=10)]: Using backend LokyBackend with 10 concurrent workers.\n",
      "[Parallel(n_jobs=10)]: Done   8 tasks      | elapsed:    0.0s\n"
     ]
    },
    {
     "name": "stdout",
     "output_type": "stream",
     "text": [
      "Applying baseline correction (mode: zscore)\n",
      "NOTE: tfr_morlet() is a legacy function. New code should use .compute_tfr(method=\"morlet\").\n",
      "Applying baseline correction (mode: zscore)\n",
      "NOTE: tfr_morlet() is a legacy function. New code should use .compute_tfr(method=\"morlet\").\n"
     ]
    },
    {
     "name": "stderr",
     "output_type": "stream",
     "text": [
      "[Parallel(n_jobs=10)]: Done 172 tasks      | elapsed:    0.0s\n",
      "[Parallel(n_jobs=10)]: Done 247 out of 247 | elapsed:    0.1s finished\n",
      "[Parallel(n_jobs=10)]: Using backend LokyBackend with 10 concurrent workers.\n",
      "[Parallel(n_jobs=10)]: Done   8 tasks      | elapsed:    0.0s\n",
      "[Parallel(n_jobs=10)]: Done 172 tasks      | elapsed:    0.0s\n",
      "[Parallel(n_jobs=10)]: Done 247 out of 247 | elapsed:    0.1s finished\n",
      "[Parallel(n_jobs=10)]: Using backend LokyBackend with 10 concurrent workers.\n",
      "[Parallel(n_jobs=10)]: Done   8 tasks      | elapsed:    0.0s\n"
     ]
    },
    {
     "name": "stdout",
     "output_type": "stream",
     "text": [
      "Applying baseline correction (mode: zscore)\n",
      "NOTE: tfr_morlet() is a legacy function. New code should use .compute_tfr(method=\"morlet\").\n",
      "Applying baseline correction (mode: zscore)\n",
      "NOTE: tfr_morlet() is a legacy function. New code should use .compute_tfr(method=\"morlet\").\n"
     ]
    },
    {
     "name": "stderr",
     "output_type": "stream",
     "text": [
      "[Parallel(n_jobs=10)]: Done 172 tasks      | elapsed:    0.0s\n",
      "[Parallel(n_jobs=10)]: Done 247 out of 247 | elapsed:    0.1s finished\n",
      "[Parallel(n_jobs=10)]: Using backend LokyBackend with 10 concurrent workers.\n",
      "[Parallel(n_jobs=10)]: Done   8 tasks      | elapsed:    0.0s\n",
      "[Parallel(n_jobs=10)]: Done 172 tasks      | elapsed:    0.1s\n",
      "[Parallel(n_jobs=10)]: Done 247 out of 247 | elapsed:    0.1s finished\n",
      "[Parallel(n_jobs=10)]: Using backend LokyBackend with 10 concurrent workers.\n",
      "[Parallel(n_jobs=10)]: Done   8 tasks      | elapsed:    0.0s\n"
     ]
    },
    {
     "name": "stdout",
     "output_type": "stream",
     "text": [
      "Applying baseline correction (mode: zscore)\n",
      "NOTE: tfr_morlet() is a legacy function. New code should use .compute_tfr(method=\"morlet\").\n",
      "Applying baseline correction (mode: zscore)\n",
      "NOTE: tfr_morlet() is a legacy function. New code should use .compute_tfr(method=\"morlet\").\n"
     ]
    },
    {
     "name": "stderr",
     "output_type": "stream",
     "text": [
      "[Parallel(n_jobs=10)]: Done 172 tasks      | elapsed:    0.0s\n",
      "[Parallel(n_jobs=10)]: Done 247 out of 247 | elapsed:    0.1s finished\n",
      "[Parallel(n_jobs=10)]: Using backend LokyBackend with 10 concurrent workers.\n",
      "[Parallel(n_jobs=10)]: Done   8 tasks      | elapsed:    0.0s\n",
      "[Parallel(n_jobs=10)]: Done 172 tasks      | elapsed:    0.0s\n",
      "[Parallel(n_jobs=10)]: Done 247 out of 247 | elapsed:    0.1s finished\n",
      "[Parallel(n_jobs=10)]: Using backend LokyBackend with 10 concurrent workers.\n",
      "[Parallel(n_jobs=10)]: Done   8 tasks      | elapsed:    0.0s\n"
     ]
    },
    {
     "name": "stdout",
     "output_type": "stream",
     "text": [
      "Applying baseline correction (mode: zscore)\n",
      "NOTE: tfr_morlet() is a legacy function. New code should use .compute_tfr(method=\"morlet\").\n",
      "Applying baseline correction (mode: zscore)\n",
      "NOTE: tfr_morlet() is a legacy function. New code should use .compute_tfr(method=\"morlet\").\n"
     ]
    },
    {
     "name": "stderr",
     "output_type": "stream",
     "text": [
      "[Parallel(n_jobs=10)]: Done 172 tasks      | elapsed:    0.0s\n",
      "[Parallel(n_jobs=10)]: Done 247 out of 247 | elapsed:    0.1s finished\n",
      "[Parallel(n_jobs=10)]: Using backend LokyBackend with 10 concurrent workers.\n",
      "[Parallel(n_jobs=10)]: Done   8 tasks      | elapsed:    0.0s\n",
      "[Parallel(n_jobs=10)]: Done 172 tasks      | elapsed:    0.0s\n",
      "[Parallel(n_jobs=10)]: Done 247 out of 247 | elapsed:    0.1s finished\n",
      "[Parallel(n_jobs=10)]: Using backend LokyBackend with 10 concurrent workers.\n",
      "[Parallel(n_jobs=10)]: Done   8 tasks      | elapsed:    0.0s\n"
     ]
    },
    {
     "name": "stdout",
     "output_type": "stream",
     "text": [
      "Applying baseline correction (mode: zscore)\n",
      "NOTE: tfr_morlet() is a legacy function. New code should use .compute_tfr(method=\"morlet\").\n",
      "Applying baseline correction (mode: zscore)\n",
      "NOTE: tfr_morlet() is a legacy function. New code should use .compute_tfr(method=\"morlet\").\n"
     ]
    },
    {
     "name": "stderr",
     "output_type": "stream",
     "text": [
      "[Parallel(n_jobs=10)]: Done 172 tasks      | elapsed:    0.0s\n",
      "[Parallel(n_jobs=10)]: Done 247 out of 247 | elapsed:    0.1s finished\n",
      "[Parallel(n_jobs=10)]: Using backend LokyBackend with 10 concurrent workers.\n",
      "[Parallel(n_jobs=10)]: Done   8 tasks      | elapsed:    0.0s\n",
      "[Parallel(n_jobs=10)]: Done 172 tasks      | elapsed:    0.0s\n",
      "[Parallel(n_jobs=10)]: Done 247 out of 247 | elapsed:    0.1s finished\n",
      "[Parallel(n_jobs=10)]: Using backend LokyBackend with 10 concurrent workers.\n",
      "[Parallel(n_jobs=10)]: Done   8 tasks      | elapsed:    0.0s\n"
     ]
    },
    {
     "name": "stdout",
     "output_type": "stream",
     "text": [
      "Applying baseline correction (mode: zscore)\n",
      "NOTE: tfr_morlet() is a legacy function. New code should use .compute_tfr(method=\"morlet\").\n"
     ]
    },
    {
     "name": "stderr",
     "output_type": "stream",
     "text": [
      "[Parallel(n_jobs=10)]: Done 172 tasks      | elapsed:    0.1s\n",
      "[Parallel(n_jobs=10)]: Done 247 out of 247 | elapsed:    0.1s finished\n",
      "[Parallel(n_jobs=10)]: Using backend LokyBackend with 10 concurrent workers.\n",
      "[Parallel(n_jobs=10)]: Done   8 tasks      | elapsed:    0.1s\n",
      "[Parallel(n_jobs=10)]: Done 172 tasks      | elapsed:    0.1s\n"
     ]
    },
    {
     "name": "stdout",
     "output_type": "stream",
     "text": [
      "Applying baseline correction (mode: zscore)\n",
      "NOTE: tfr_morlet() is a legacy function. New code should use .compute_tfr(method=\"morlet\").\n",
      "Applying baseline correction (mode: zscore)\n",
      "NOTE: tfr_morlet() is a legacy function. New code should use .compute_tfr(method=\"morlet\").\n"
     ]
    },
    {
     "name": "stderr",
     "output_type": "stream",
     "text": [
      "[Parallel(n_jobs=10)]: Done 247 out of 247 | elapsed:    0.1s finished\n",
      "[Parallel(n_jobs=10)]: Using backend LokyBackend with 10 concurrent workers.\n",
      "[Parallel(n_jobs=10)]: Done   8 tasks      | elapsed:    0.0s\n",
      "[Parallel(n_jobs=10)]: Done 172 tasks      | elapsed:    0.0s\n",
      "[Parallel(n_jobs=10)]: Done 247 out of 247 | elapsed:    0.1s finished\n",
      "[Parallel(n_jobs=10)]: Using backend LokyBackend with 10 concurrent workers.\n",
      "[Parallel(n_jobs=10)]: Done   8 tasks      | elapsed:    0.0s\n",
      "[Parallel(n_jobs=10)]: Done 172 tasks      | elapsed:    0.1s\n"
     ]
    },
    {
     "name": "stdout",
     "output_type": "stream",
     "text": [
      "Applying baseline correction (mode: zscore)\n",
      "NOTE: tfr_morlet() is a legacy function. New code should use .compute_tfr(method=\"morlet\").\n",
      "Applying baseline correction (mode: zscore)\n",
      "NOTE: tfr_morlet() is a legacy function. New code should use .compute_tfr(method=\"morlet\").\n"
     ]
    },
    {
     "name": "stderr",
     "output_type": "stream",
     "text": [
      "[Parallel(n_jobs=10)]: Done 247 out of 247 | elapsed:    0.1s finished\n",
      "[Parallel(n_jobs=10)]: Using backend LokyBackend with 10 concurrent workers.\n",
      "[Parallel(n_jobs=10)]: Done   8 tasks      | elapsed:    0.0s\n",
      "[Parallel(n_jobs=10)]: Done 172 tasks      | elapsed:    0.1s\n",
      "[Parallel(n_jobs=10)]: Done 247 out of 247 | elapsed:    0.1s finished\n",
      "[Parallel(n_jobs=10)]: Using backend LokyBackend with 10 concurrent workers.\n",
      "[Parallel(n_jobs=10)]: Done   8 tasks      | elapsed:    0.0s\n",
      "[Parallel(n_jobs=10)]: Done 172 tasks      | elapsed:    0.0s\n"
     ]
    },
    {
     "name": "stdout",
     "output_type": "stream",
     "text": [
      "Applying baseline correction (mode: zscore)\n",
      "NOTE: tfr_morlet() is a legacy function. New code should use .compute_tfr(method=\"morlet\").\n",
      "Applying baseline correction (mode: zscore)\n",
      "NOTE: tfr_morlet() is a legacy function. New code should use .compute_tfr(method=\"morlet\").\n"
     ]
    },
    {
     "name": "stderr",
     "output_type": "stream",
     "text": [
      "[Parallel(n_jobs=10)]: Done 247 out of 247 | elapsed:    0.1s finished\n",
      "[Parallel(n_jobs=10)]: Using backend LokyBackend with 10 concurrent workers.\n",
      "[Parallel(n_jobs=10)]: Done   8 tasks      | elapsed:    0.0s\n",
      "[Parallel(n_jobs=10)]: Done 172 tasks      | elapsed:    0.0s\n",
      "[Parallel(n_jobs=10)]: Done 247 out of 247 | elapsed:    0.1s finished\n",
      "[Parallel(n_jobs=10)]: Using backend LokyBackend with 10 concurrent workers.\n",
      "[Parallel(n_jobs=10)]: Done   8 tasks      | elapsed:    0.0s\n",
      "[Parallel(n_jobs=10)]: Done 172 tasks      | elapsed:    0.0s\n"
     ]
    },
    {
     "name": "stdout",
     "output_type": "stream",
     "text": [
      "Applying baseline correction (mode: zscore)\n",
      "NOTE: tfr_morlet() is a legacy function. New code should use .compute_tfr(method=\"morlet\").\n",
      "Applying baseline correction (mode: zscore)\n",
      "NOTE: tfr_morlet() is a legacy function. New code should use .compute_tfr(method=\"morlet\").\n"
     ]
    },
    {
     "name": "stderr",
     "output_type": "stream",
     "text": [
      "[Parallel(n_jobs=10)]: Done 247 out of 247 | elapsed:    0.1s finished\n",
      "[Parallel(n_jobs=10)]: Using backend LokyBackend with 10 concurrent workers.\n",
      "[Parallel(n_jobs=10)]: Done   8 tasks      | elapsed:    0.0s\n",
      "[Parallel(n_jobs=10)]: Done 172 tasks      | elapsed:    0.0s\n",
      "[Parallel(n_jobs=10)]: Done 247 out of 247 | elapsed:    0.1s finished\n",
      "[Parallel(n_jobs=10)]: Using backend LokyBackend with 10 concurrent workers.\n",
      "[Parallel(n_jobs=10)]: Done   8 tasks      | elapsed:    0.0s\n",
      "[Parallel(n_jobs=10)]: Done 172 tasks      | elapsed:    0.0s\n"
     ]
    },
    {
     "name": "stdout",
     "output_type": "stream",
     "text": [
      "Applying baseline correction (mode: zscore)\n",
      "NOTE: tfr_morlet() is a legacy function. New code should use .compute_tfr(method=\"morlet\").\n",
      "Applying baseline correction (mode: zscore)\n",
      "NOTE: tfr_morlet() is a legacy function. New code should use .compute_tfr(method=\"morlet\").\n"
     ]
    },
    {
     "name": "stderr",
     "output_type": "stream",
     "text": [
      "[Parallel(n_jobs=10)]: Done 247 out of 247 | elapsed:    0.1s finished\n",
      "[Parallel(n_jobs=10)]: Using backend LokyBackend with 10 concurrent workers.\n",
      "[Parallel(n_jobs=10)]: Done   8 tasks      | elapsed:    0.0s\n",
      "[Parallel(n_jobs=10)]: Done 172 tasks      | elapsed:    0.0s\n",
      "[Parallel(n_jobs=10)]: Done 247 out of 247 | elapsed:    0.1s finished\n",
      "[Parallel(n_jobs=10)]: Using backend LokyBackend with 10 concurrent workers.\n",
      "[Parallel(n_jobs=10)]: Done   8 tasks      | elapsed:    0.0s\n",
      "[Parallel(n_jobs=10)]: Done 172 tasks      | elapsed:    0.0s\n"
     ]
    },
    {
     "name": "stdout",
     "output_type": "stream",
     "text": [
      "Applying baseline correction (mode: zscore)\n",
      "NOTE: tfr_morlet() is a legacy function. New code should use .compute_tfr(method=\"morlet\").\n",
      "Applying baseline correction (mode: zscore)\n",
      "NOTE: tfr_morlet() is a legacy function. New code should use .compute_tfr(method=\"morlet\").\n"
     ]
    },
    {
     "name": "stderr",
     "output_type": "stream",
     "text": [
      "[Parallel(n_jobs=10)]: Done 247 out of 247 | elapsed:    0.1s finished\n",
      "[Parallel(n_jobs=10)]: Using backend LokyBackend with 10 concurrent workers.\n",
      "[Parallel(n_jobs=10)]: Done   8 tasks      | elapsed:    0.0s\n",
      "[Parallel(n_jobs=10)]: Done 172 tasks      | elapsed:    0.0s\n",
      "[Parallel(n_jobs=10)]: Done 247 out of 247 | elapsed:    0.1s finished\n",
      "[Parallel(n_jobs=10)]: Using backend LokyBackend with 10 concurrent workers.\n",
      "[Parallel(n_jobs=10)]: Done   8 tasks      | elapsed:    0.0s\n",
      "[Parallel(n_jobs=10)]: Done 172 tasks      | elapsed:    0.0s\n"
     ]
    },
    {
     "name": "stdout",
     "output_type": "stream",
     "text": [
      "Applying baseline correction (mode: zscore)\n",
      "NOTE: tfr_morlet() is a legacy function. New code should use .compute_tfr(method=\"morlet\").\n"
     ]
    },
    {
     "name": "stderr",
     "output_type": "stream",
     "text": [
      "[Parallel(n_jobs=10)]: Done 247 out of 247 | elapsed:    0.1s finished\n",
      "[Parallel(n_jobs=10)]: Using backend LokyBackend with 10 concurrent workers.\n",
      "[Parallel(n_jobs=10)]: Done   8 tasks      | elapsed:    0.1s\n",
      "[Parallel(n_jobs=10)]: Done 172 tasks      | elapsed:    0.1s\n",
      "[Parallel(n_jobs=10)]: Done 247 out of 247 | elapsed:    0.2s finished\n"
     ]
    },
    {
     "name": "stdout",
     "output_type": "stream",
     "text": [
      "Applying baseline correction (mode: zscore)\n",
      "NOTE: tfr_morlet() is a legacy function. New code should use .compute_tfr(method=\"morlet\").\n",
      "Applying baseline correction (mode: zscore)\n",
      "NOTE: tfr_morlet() is a legacy function. New code should use .compute_tfr(method=\"morlet\").\n"
     ]
    },
    {
     "name": "stderr",
     "output_type": "stream",
     "text": [
      "[Parallel(n_jobs=10)]: Using backend LokyBackend with 10 concurrent workers.\n",
      "[Parallel(n_jobs=10)]: Done   8 tasks      | elapsed:    0.0s\n",
      "[Parallel(n_jobs=10)]: Done 172 tasks      | elapsed:    0.0s\n",
      "[Parallel(n_jobs=10)]: Done 247 out of 247 | elapsed:    0.1s finished\n",
      "[Parallel(n_jobs=10)]: Using backend LokyBackend with 10 concurrent workers.\n",
      "[Parallel(n_jobs=10)]: Done   8 tasks      | elapsed:    0.0s\n",
      "[Parallel(n_jobs=10)]: Done 172 tasks      | elapsed:    0.0s\n",
      "[Parallel(n_jobs=10)]: Done 247 out of 247 | elapsed:    0.1s finished\n"
     ]
    },
    {
     "name": "stdout",
     "output_type": "stream",
     "text": [
      "Applying baseline correction (mode: zscore)\n",
      "NOTE: tfr_morlet() is a legacy function. New code should use .compute_tfr(method=\"morlet\").\n",
      "Applying baseline correction (mode: zscore)\n",
      "NOTE: tfr_morlet() is a legacy function. New code should use .compute_tfr(method=\"morlet\").\n"
     ]
    },
    {
     "name": "stderr",
     "output_type": "stream",
     "text": [
      "[Parallel(n_jobs=10)]: Using backend LokyBackend with 10 concurrent workers.\n",
      "[Parallel(n_jobs=10)]: Done   8 tasks      | elapsed:    0.0s\n",
      "[Parallel(n_jobs=10)]: Done 172 tasks      | elapsed:    0.1s\n",
      "[Parallel(n_jobs=10)]: Done 247 out of 247 | elapsed:    0.1s finished\n",
      "[Parallel(n_jobs=10)]: Using backend LokyBackend with 10 concurrent workers.\n",
      "[Parallel(n_jobs=10)]: Done   8 tasks      | elapsed:    0.0s\n",
      "[Parallel(n_jobs=10)]: Done 172 tasks      | elapsed:    0.0s\n",
      "[Parallel(n_jobs=10)]: Done 247 out of 247 | elapsed:    0.1s finished\n"
     ]
    },
    {
     "name": "stdout",
     "output_type": "stream",
     "text": [
      "Applying baseline correction (mode: zscore)\n",
      "NOTE: tfr_morlet() is a legacy function. New code should use .compute_tfr(method=\"morlet\").\n",
      "Applying baseline correction (mode: zscore)\n",
      "NOTE: tfr_morlet() is a legacy function. New code should use .compute_tfr(method=\"morlet\").\n"
     ]
    },
    {
     "name": "stderr",
     "output_type": "stream",
     "text": [
      "[Parallel(n_jobs=10)]: Using backend LokyBackend with 10 concurrent workers.\n",
      "[Parallel(n_jobs=10)]: Done   8 tasks      | elapsed:    0.0s\n",
      "[Parallel(n_jobs=10)]: Done 172 tasks      | elapsed:    0.1s\n",
      "[Parallel(n_jobs=10)]: Done 247 out of 247 | elapsed:    0.1s finished\n",
      "[Parallel(n_jobs=10)]: Using backend LokyBackend with 10 concurrent workers.\n",
      "[Parallel(n_jobs=10)]: Done   8 tasks      | elapsed:    0.0s\n",
      "[Parallel(n_jobs=10)]: Done 172 tasks      | elapsed:    0.0s\n",
      "[Parallel(n_jobs=10)]: Done 247 out of 247 | elapsed:    0.1s finished\n"
     ]
    },
    {
     "name": "stdout",
     "output_type": "stream",
     "text": [
      "Applying baseline correction (mode: zscore)\n",
      "NOTE: tfr_morlet() is a legacy function. New code should use .compute_tfr(method=\"morlet\").\n",
      "Applying baseline correction (mode: zscore)\n",
      "NOTE: tfr_morlet() is a legacy function. New code should use .compute_tfr(method=\"morlet\").\n"
     ]
    },
    {
     "name": "stderr",
     "output_type": "stream",
     "text": [
      "[Parallel(n_jobs=10)]: Using backend LokyBackend with 10 concurrent workers.\n",
      "[Parallel(n_jobs=10)]: Done   8 tasks      | elapsed:    0.0s\n",
      "[Parallel(n_jobs=10)]: Done 172 tasks      | elapsed:    0.0s\n",
      "[Parallel(n_jobs=10)]: Done 247 out of 247 | elapsed:    0.1s finished\n",
      "[Parallel(n_jobs=10)]: Using backend LokyBackend with 10 concurrent workers.\n",
      "[Parallel(n_jobs=10)]: Done   8 tasks      | elapsed:    0.0s\n",
      "[Parallel(n_jobs=10)]: Done 172 tasks      | elapsed:    0.0s\n"
     ]
    },
    {
     "name": "stdout",
     "output_type": "stream",
     "text": [
      "Applying baseline correction (mode: zscore)\n",
      "NOTE: tfr_morlet() is a legacy function. New code should use .compute_tfr(method=\"morlet\").\n",
      "Applying baseline correction (mode: zscore)\n",
      "NOTE: tfr_morlet() is a legacy function. New code should use .compute_tfr(method=\"morlet\").\n"
     ]
    },
    {
     "name": "stderr",
     "output_type": "stream",
     "text": [
      "[Parallel(n_jobs=10)]: Done 247 out of 247 | elapsed:    0.1s finished\n",
      "[Parallel(n_jobs=10)]: Using backend LokyBackend with 10 concurrent workers.\n",
      "[Parallel(n_jobs=10)]: Done   8 tasks      | elapsed:    0.0s\n",
      "[Parallel(n_jobs=10)]: Done 172 tasks      | elapsed:    0.0s\n",
      "[Parallel(n_jobs=10)]: Done 247 out of 247 | elapsed:    0.1s finished\n",
      "[Parallel(n_jobs=10)]: Using backend LokyBackend with 10 concurrent workers.\n",
      "[Parallel(n_jobs=10)]: Done   8 tasks      | elapsed:    0.0s\n",
      "[Parallel(n_jobs=10)]: Done 172 tasks      | elapsed:    0.0s\n"
     ]
    },
    {
     "name": "stdout",
     "output_type": "stream",
     "text": [
      "Applying baseline correction (mode: zscore)\n",
      "NOTE: tfr_morlet() is a legacy function. New code should use .compute_tfr(method=\"morlet\").\n",
      "Applying baseline correction (mode: zscore)\n",
      "NOTE: tfr_morlet() is a legacy function. New code should use .compute_tfr(method=\"morlet\").\n"
     ]
    },
    {
     "name": "stderr",
     "output_type": "stream",
     "text": [
      "[Parallel(n_jobs=10)]: Done 247 out of 247 | elapsed:    0.1s finished\n",
      "[Parallel(n_jobs=10)]: Using backend LokyBackend with 10 concurrent workers.\n",
      "[Parallel(n_jobs=10)]: Done   8 tasks      | elapsed:    0.0s\n",
      "[Parallel(n_jobs=10)]: Done 172 tasks      | elapsed:    0.0s\n",
      "[Parallel(n_jobs=10)]: Done 247 out of 247 | elapsed:    0.1s finished\n",
      "[Parallel(n_jobs=10)]: Using backend LokyBackend with 10 concurrent workers.\n",
      "[Parallel(n_jobs=10)]: Done   8 tasks      | elapsed:    0.0s\n",
      "[Parallel(n_jobs=10)]: Done 172 tasks      | elapsed:    0.0s\n"
     ]
    },
    {
     "name": "stdout",
     "output_type": "stream",
     "text": [
      "Applying baseline correction (mode: zscore)\n",
      "NOTE: tfr_morlet() is a legacy function. New code should use .compute_tfr(method=\"morlet\").\n",
      "Applying baseline correction (mode: zscore)\n",
      "NOTE: tfr_morlet() is a legacy function. New code should use .compute_tfr(method=\"morlet\").\n"
     ]
    },
    {
     "name": "stderr",
     "output_type": "stream",
     "text": [
      "[Parallel(n_jobs=10)]: Done 247 out of 247 | elapsed:    0.1s finished\n",
      "[Parallel(n_jobs=10)]: Using backend LokyBackend with 10 concurrent workers.\n",
      "[Parallel(n_jobs=10)]: Done   8 tasks      | elapsed:    0.0s\n",
      "[Parallel(n_jobs=10)]: Done 172 tasks      | elapsed:    0.0s\n",
      "[Parallel(n_jobs=10)]: Done 247 out of 247 | elapsed:    0.1s finished\n",
      "[Parallel(n_jobs=10)]: Using backend LokyBackend with 10 concurrent workers.\n",
      "[Parallel(n_jobs=10)]: Done   8 tasks      | elapsed:    0.0s\n",
      "[Parallel(n_jobs=10)]: Done 172 tasks      | elapsed:    0.0s\n"
     ]
    },
    {
     "name": "stdout",
     "output_type": "stream",
     "text": [
      "Applying baseline correction (mode: zscore)\n",
      "NOTE: tfr_morlet() is a legacy function. New code should use .compute_tfr(method=\"morlet\").\n",
      "Applying baseline correction (mode: zscore)\n",
      "NOTE: tfr_morlet() is a legacy function. New code should use .compute_tfr(method=\"morlet\").\n"
     ]
    },
    {
     "name": "stderr",
     "output_type": "stream",
     "text": [
      "[Parallel(n_jobs=10)]: Done 247 out of 247 | elapsed:    0.1s finished\n",
      "[Parallel(n_jobs=10)]: Using backend LokyBackend with 10 concurrent workers.\n",
      "[Parallel(n_jobs=10)]: Done   8 tasks      | elapsed:    0.0s\n",
      "[Parallel(n_jobs=10)]: Done 172 tasks      | elapsed:    0.1s\n",
      "[Parallel(n_jobs=10)]: Done 247 out of 247 | elapsed:    0.1s finished\n",
      "[Parallel(n_jobs=10)]: Using backend LokyBackend with 10 concurrent workers.\n",
      "[Parallel(n_jobs=10)]: Done   8 tasks      | elapsed:    0.0s\n",
      "[Parallel(n_jobs=10)]: Done 172 tasks      | elapsed:    0.1s\n"
     ]
    },
    {
     "name": "stdout",
     "output_type": "stream",
     "text": [
      "Applying baseline correction (mode: zscore)\n",
      "NOTE: tfr_morlet() is a legacy function. New code should use .compute_tfr(method=\"morlet\").\n",
      "Applying baseline correction (mode: zscore)\n",
      "NOTE: tfr_morlet() is a legacy function. New code should use .compute_tfr(method=\"morlet\").\n"
     ]
    },
    {
     "name": "stderr",
     "output_type": "stream",
     "text": [
      "[Parallel(n_jobs=10)]: Done 247 out of 247 | elapsed:    0.1s finished\n",
      "[Parallel(n_jobs=10)]: Using backend LokyBackend with 10 concurrent workers.\n",
      "[Parallel(n_jobs=10)]: Done   8 tasks      | elapsed:    0.0s\n",
      "[Parallel(n_jobs=10)]: Done 172 tasks      | elapsed:    0.0s\n",
      "[Parallel(n_jobs=10)]: Done 247 out of 247 | elapsed:    0.1s finished\n",
      "[Parallel(n_jobs=10)]: Using backend LokyBackend with 10 concurrent workers.\n",
      "[Parallel(n_jobs=10)]: Done   8 tasks      | elapsed:    0.0s\n",
      "[Parallel(n_jobs=10)]: Done 172 tasks      | elapsed:    0.0s\n"
     ]
    },
    {
     "name": "stdout",
     "output_type": "stream",
     "text": [
      "Applying baseline correction (mode: zscore)\n",
      "NOTE: tfr_morlet() is a legacy function. New code should use .compute_tfr(method=\"morlet\").\n",
      "Applying baseline correction (mode: zscore)\n",
      "NOTE: tfr_morlet() is a legacy function. New code should use .compute_tfr(method=\"morlet\").\n"
     ]
    },
    {
     "name": "stderr",
     "output_type": "stream",
     "text": [
      "[Parallel(n_jobs=10)]: Done 247 out of 247 | elapsed:    0.1s finished\n",
      "[Parallel(n_jobs=10)]: Using backend LokyBackend with 10 concurrent workers.\n",
      "[Parallel(n_jobs=10)]: Done   8 tasks      | elapsed:    0.0s\n",
      "[Parallel(n_jobs=10)]: Done 172 tasks      | elapsed:    0.0s\n",
      "[Parallel(n_jobs=10)]: Done 247 out of 247 | elapsed:    0.1s finished\n",
      "[Parallel(n_jobs=10)]: Using backend LokyBackend with 10 concurrent workers.\n",
      "[Parallel(n_jobs=10)]: Done   8 tasks      | elapsed:    0.0s\n",
      "[Parallel(n_jobs=10)]: Done 172 tasks      | elapsed:    0.0s\n"
     ]
    },
    {
     "name": "stdout",
     "output_type": "stream",
     "text": [
      "Applying baseline correction (mode: zscore)\n",
      "NOTE: tfr_morlet() is a legacy function. New code should use .compute_tfr(method=\"morlet\").\n",
      "Applying baseline correction (mode: zscore)\n",
      "NOTE: tfr_morlet() is a legacy function. New code should use .compute_tfr(method=\"morlet\").\n"
     ]
    },
    {
     "name": "stderr",
     "output_type": "stream",
     "text": [
      "[Parallel(n_jobs=10)]: Done 247 out of 247 | elapsed:    0.1s finished\n",
      "[Parallel(n_jobs=10)]: Using backend LokyBackend with 10 concurrent workers.\n",
      "[Parallel(n_jobs=10)]: Done   8 tasks      | elapsed:    0.0s\n",
      "[Parallel(n_jobs=10)]: Done 172 tasks      | elapsed:    0.1s\n",
      "[Parallel(n_jobs=10)]: Done 247 out of 247 | elapsed:    0.1s finished\n",
      "[Parallel(n_jobs=10)]: Using backend LokyBackend with 10 concurrent workers.\n",
      "[Parallel(n_jobs=10)]: Done   8 tasks      | elapsed:    0.0s\n",
      "[Parallel(n_jobs=10)]: Done 172 tasks      | elapsed:    0.0s\n"
     ]
    },
    {
     "name": "stdout",
     "output_type": "stream",
     "text": [
      "Applying baseline correction (mode: zscore)\n",
      "NOTE: tfr_morlet() is a legacy function. New code should use .compute_tfr(method=\"morlet\").\n",
      "Applying baseline correction (mode: zscore)\n",
      "NOTE: tfr_morlet() is a legacy function. New code should use .compute_tfr(method=\"morlet\").\n"
     ]
    },
    {
     "name": "stderr",
     "output_type": "stream",
     "text": [
      "[Parallel(n_jobs=10)]: Done 247 out of 247 | elapsed:    0.1s finished\n",
      "[Parallel(n_jobs=10)]: Using backend LokyBackend with 10 concurrent workers.\n",
      "[Parallel(n_jobs=10)]: Done   8 tasks      | elapsed:    0.0s\n",
      "[Parallel(n_jobs=10)]: Done 172 tasks      | elapsed:    0.0s\n",
      "[Parallel(n_jobs=10)]: Done 247 out of 247 | elapsed:    0.1s finished\n",
      "[Parallel(n_jobs=10)]: Using backend LokyBackend with 10 concurrent workers.\n",
      "[Parallel(n_jobs=10)]: Done   8 tasks      | elapsed:    0.0s\n",
      "[Parallel(n_jobs=10)]: Done 172 tasks      | elapsed:    0.0s\n"
     ]
    },
    {
     "name": "stdout",
     "output_type": "stream",
     "text": [
      "Applying baseline correction (mode: zscore)\n",
      "NOTE: tfr_morlet() is a legacy function. New code should use .compute_tfr(method=\"morlet\").\n",
      "Applying baseline correction (mode: zscore)\n",
      "NOTE: tfr_morlet() is a legacy function. New code should use .compute_tfr(method=\"morlet\").\n"
     ]
    },
    {
     "name": "stderr",
     "output_type": "stream",
     "text": [
      "[Parallel(n_jobs=10)]: Done 247 out of 247 | elapsed:    0.1s finished\n",
      "[Parallel(n_jobs=10)]: Using backend LokyBackend with 10 concurrent workers.\n",
      "[Parallel(n_jobs=10)]: Done   8 tasks      | elapsed:    0.0s\n",
      "[Parallel(n_jobs=10)]: Done 172 tasks      | elapsed:    0.0s\n",
      "[Parallel(n_jobs=10)]: Done 247 out of 247 | elapsed:    0.1s finished\n",
      "[Parallel(n_jobs=10)]: Using backend LokyBackend with 10 concurrent workers.\n",
      "[Parallel(n_jobs=10)]: Done   8 tasks      | elapsed:    0.0s\n",
      "[Parallel(n_jobs=10)]: Done 172 tasks      | elapsed:    0.0s\n"
     ]
    },
    {
     "name": "stdout",
     "output_type": "stream",
     "text": [
      "Applying baseline correction (mode: zscore)\n",
      "NOTE: tfr_morlet() is a legacy function. New code should use .compute_tfr(method=\"morlet\").\n",
      "Applying baseline correction (mode: zscore)\n",
      "NOTE: tfr_morlet() is a legacy function. New code should use .compute_tfr(method=\"morlet\").\n"
     ]
    },
    {
     "name": "stderr",
     "output_type": "stream",
     "text": [
      "[Parallel(n_jobs=10)]: Done 247 out of 247 | elapsed:    0.1s finished\n",
      "[Parallel(n_jobs=10)]: Using backend LokyBackend with 10 concurrent workers.\n",
      "[Parallel(n_jobs=10)]: Done   8 tasks      | elapsed:    0.0s\n",
      "[Parallel(n_jobs=10)]: Done 172 tasks      | elapsed:    0.0s\n",
      "[Parallel(n_jobs=10)]: Done 247 out of 247 | elapsed:    0.1s finished\n",
      "[Parallel(n_jobs=10)]: Using backend LokyBackend with 10 concurrent workers.\n",
      "[Parallel(n_jobs=10)]: Done   8 tasks      | elapsed:    0.0s\n",
      "[Parallel(n_jobs=10)]: Done 172 tasks      | elapsed:    0.0s\n"
     ]
    },
    {
     "name": "stdout",
     "output_type": "stream",
     "text": [
      "Applying baseline correction (mode: zscore)\n",
      "NOTE: tfr_morlet() is a legacy function. New code should use .compute_tfr(method=\"morlet\").\n",
      "Applying baseline correction (mode: zscore)\n",
      "NOTE: tfr_morlet() is a legacy function. New code should use .compute_tfr(method=\"morlet\").\n"
     ]
    },
    {
     "name": "stderr",
     "output_type": "stream",
     "text": [
      "[Parallel(n_jobs=10)]: Done 247 out of 247 | elapsed:    0.1s finished\n",
      "[Parallel(n_jobs=10)]: Using backend LokyBackend with 10 concurrent workers.\n",
      "[Parallel(n_jobs=10)]: Done   8 tasks      | elapsed:    0.0s\n",
      "[Parallel(n_jobs=10)]: Done 172 tasks      | elapsed:    0.0s\n",
      "[Parallel(n_jobs=10)]: Done 247 out of 247 | elapsed:    0.1s finished\n",
      "[Parallel(n_jobs=10)]: Using backend LokyBackend with 10 concurrent workers.\n",
      "[Parallel(n_jobs=10)]: Done   8 tasks      | elapsed:    0.0s\n",
      "[Parallel(n_jobs=10)]: Done 172 tasks      | elapsed:    0.1s\n"
     ]
    },
    {
     "name": "stdout",
     "output_type": "stream",
     "text": [
      "Applying baseline correction (mode: zscore)\n",
      "NOTE: tfr_morlet() is a legacy function. New code should use .compute_tfr(method=\"morlet\").\n",
      "Applying baseline correction (mode: zscore)\n",
      "NOTE: tfr_morlet() is a legacy function. New code should use .compute_tfr(method=\"morlet\").\n"
     ]
    },
    {
     "name": "stderr",
     "output_type": "stream",
     "text": [
      "[Parallel(n_jobs=10)]: Done 247 out of 247 | elapsed:    0.1s finished\n",
      "[Parallel(n_jobs=10)]: Using backend LokyBackend with 10 concurrent workers.\n",
      "[Parallel(n_jobs=10)]: Done   8 tasks      | elapsed:    0.0s\n",
      "[Parallel(n_jobs=10)]: Done 172 tasks      | elapsed:    0.0s\n",
      "[Parallel(n_jobs=10)]: Done 247 out of 247 | elapsed:    0.1s finished\n",
      "[Parallel(n_jobs=10)]: Using backend LokyBackend with 10 concurrent workers.\n",
      "[Parallel(n_jobs=10)]: Done   8 tasks      | elapsed:    0.0s\n",
      "[Parallel(n_jobs=10)]: Done 172 tasks      | elapsed:    0.0s\n"
     ]
    },
    {
     "name": "stdout",
     "output_type": "stream",
     "text": [
      "Applying baseline correction (mode: zscore)\n",
      "NOTE: tfr_morlet() is a legacy function. New code should use .compute_tfr(method=\"morlet\").\n",
      "Applying baseline correction (mode: zscore)\n",
      "NOTE: tfr_morlet() is a legacy function. New code should use .compute_tfr(method=\"morlet\").\n"
     ]
    },
    {
     "name": "stderr",
     "output_type": "stream",
     "text": [
      "[Parallel(n_jobs=10)]: Done 247 out of 247 | elapsed:    0.1s finished\n",
      "[Parallel(n_jobs=10)]: Using backend LokyBackend with 10 concurrent workers.\n",
      "[Parallel(n_jobs=10)]: Done   8 tasks      | elapsed:    0.0s\n",
      "[Parallel(n_jobs=10)]: Done 172 tasks      | elapsed:    0.0s\n",
      "[Parallel(n_jobs=10)]: Done 247 out of 247 | elapsed:    0.1s finished\n",
      "[Parallel(n_jobs=10)]: Using backend LokyBackend with 10 concurrent workers.\n",
      "[Parallel(n_jobs=10)]: Done   8 tasks      | elapsed:    0.0s\n",
      "[Parallel(n_jobs=10)]: Done 172 tasks      | elapsed:    0.0s\n"
     ]
    },
    {
     "name": "stdout",
     "output_type": "stream",
     "text": [
      "Applying baseline correction (mode: zscore)\n",
      "NOTE: tfr_morlet() is a legacy function. New code should use .compute_tfr(method=\"morlet\").\n",
      "Applying baseline correction (mode: zscore)\n",
      "NOTE: tfr_morlet() is a legacy function. New code should use .compute_tfr(method=\"morlet\").\n"
     ]
    },
    {
     "name": "stderr",
     "output_type": "stream",
     "text": [
      "[Parallel(n_jobs=10)]: Done 247 out of 247 | elapsed:    0.1s finished\n",
      "[Parallel(n_jobs=10)]: Using backend LokyBackend with 10 concurrent workers.\n",
      "[Parallel(n_jobs=10)]: Done   8 tasks      | elapsed:    0.0s\n",
      "[Parallel(n_jobs=10)]: Done 172 tasks      | elapsed:    0.0s\n",
      "[Parallel(n_jobs=10)]: Done 247 out of 247 | elapsed:    0.1s finished\n",
      "[Parallel(n_jobs=10)]: Using backend LokyBackend with 10 concurrent workers.\n",
      "[Parallel(n_jobs=10)]: Done   8 tasks      | elapsed:    0.0s\n",
      "[Parallel(n_jobs=10)]: Done 172 tasks      | elapsed:    0.0s\n"
     ]
    },
    {
     "name": "stdout",
     "output_type": "stream",
     "text": [
      "Applying baseline correction (mode: zscore)\n",
      "NOTE: tfr_morlet() is a legacy function. New code should use .compute_tfr(method=\"morlet\").\n",
      "Applying baseline correction (mode: zscore)\n",
      "NOTE: tfr_morlet() is a legacy function. New code should use .compute_tfr(method=\"morlet\").\n"
     ]
    },
    {
     "name": "stderr",
     "output_type": "stream",
     "text": [
      "[Parallel(n_jobs=10)]: Done 247 out of 247 | elapsed:    0.1s finished\n",
      "[Parallel(n_jobs=10)]: Using backend LokyBackend with 10 concurrent workers.\n",
      "[Parallel(n_jobs=10)]: Done   8 tasks      | elapsed:    0.0s\n",
      "[Parallel(n_jobs=10)]: Done 172 tasks      | elapsed:    0.0s\n",
      "[Parallel(n_jobs=10)]: Done 247 out of 247 | elapsed:    0.1s finished\n",
      "[Parallel(n_jobs=10)]: Using backend LokyBackend with 10 concurrent workers.\n",
      "[Parallel(n_jobs=10)]: Done   8 tasks      | elapsed:    0.0s\n",
      "[Parallel(n_jobs=10)]: Done 172 tasks      | elapsed:    0.0s\n"
     ]
    },
    {
     "name": "stdout",
     "output_type": "stream",
     "text": [
      "Applying baseline correction (mode: zscore)\n",
      "NOTE: tfr_morlet() is a legacy function. New code should use .compute_tfr(method=\"morlet\").\n",
      "Applying baseline correction (mode: zscore)\n",
      "NOTE: tfr_morlet() is a legacy function. New code should use .compute_tfr(method=\"morlet\").\n"
     ]
    },
    {
     "name": "stderr",
     "output_type": "stream",
     "text": [
      "[Parallel(n_jobs=10)]: Done 247 out of 247 | elapsed:    0.1s finished\n",
      "[Parallel(n_jobs=10)]: Using backend LokyBackend with 10 concurrent workers.\n",
      "[Parallel(n_jobs=10)]: Done   8 tasks      | elapsed:    0.0s\n",
      "[Parallel(n_jobs=10)]: Done 172 tasks      | elapsed:    0.1s\n",
      "[Parallel(n_jobs=10)]: Done 247 out of 247 | elapsed:    0.1s finished\n",
      "[Parallel(n_jobs=10)]: Using backend LokyBackend with 10 concurrent workers.\n",
      "[Parallel(n_jobs=10)]: Done   8 tasks      | elapsed:    0.0s\n",
      "[Parallel(n_jobs=10)]: Done 172 tasks      | elapsed:    0.0s\n"
     ]
    },
    {
     "name": "stdout",
     "output_type": "stream",
     "text": [
      "Applying baseline correction (mode: zscore)\n",
      "NOTE: tfr_morlet() is a legacy function. New code should use .compute_tfr(method=\"morlet\").\n",
      "Applying baseline correction (mode: zscore)\n",
      "NOTE: tfr_morlet() is a legacy function. New code should use .compute_tfr(method=\"morlet\").\n"
     ]
    },
    {
     "name": "stderr",
     "output_type": "stream",
     "text": [
      "[Parallel(n_jobs=10)]: Done 247 out of 247 | elapsed:    0.1s finished\n",
      "[Parallel(n_jobs=10)]: Using backend LokyBackend with 10 concurrent workers.\n",
      "[Parallel(n_jobs=10)]: Done   8 tasks      | elapsed:    0.1s\n",
      "[Parallel(n_jobs=10)]: Done 172 tasks      | elapsed:    0.1s\n",
      "[Parallel(n_jobs=10)]: Done 247 out of 247 | elapsed:    0.2s finished\n"
     ]
    },
    {
     "name": "stdout",
     "output_type": "stream",
     "text": [
      "Applying baseline correction (mode: zscore)\n",
      "NOTE: tfr_morlet() is a legacy function. New code should use .compute_tfr(method=\"morlet\").\n"
     ]
    },
    {
     "name": "stderr",
     "output_type": "stream",
     "text": [
      "[Parallel(n_jobs=10)]: Using backend LokyBackend with 10 concurrent workers.\n",
      "[Parallel(n_jobs=10)]: Done   8 tasks      | elapsed:    0.0s\n",
      "[Parallel(n_jobs=10)]: Done 172 tasks      | elapsed:    0.1s\n",
      "[Parallel(n_jobs=10)]: Done 247 out of 247 | elapsed:    0.1s finished\n",
      "[Parallel(n_jobs=10)]: Using backend LokyBackend with 10 concurrent workers.\n",
      "[Parallel(n_jobs=10)]: Done   8 tasks      | elapsed:    0.0s\n",
      "[Parallel(n_jobs=10)]: Done 172 tasks      | elapsed:    0.0s\n",
      "[Parallel(n_jobs=10)]: Done 247 out of 247 | elapsed:    0.1s finished\n"
     ]
    },
    {
     "name": "stdout",
     "output_type": "stream",
     "text": [
      "Applying baseline correction (mode: zscore)\n",
      "NOTE: tfr_morlet() is a legacy function. New code should use .compute_tfr(method=\"morlet\").\n",
      "Applying baseline correction (mode: zscore)\n",
      "NOTE: tfr_morlet() is a legacy function. New code should use .compute_tfr(method=\"morlet\").\n"
     ]
    },
    {
     "name": "stderr",
     "output_type": "stream",
     "text": [
      "[Parallel(n_jobs=10)]: Using backend LokyBackend with 10 concurrent workers.\n",
      "[Parallel(n_jobs=10)]: Done   8 tasks      | elapsed:    0.0s\n",
      "[Parallel(n_jobs=10)]: Done 172 tasks      | elapsed:    0.0s\n",
      "[Parallel(n_jobs=10)]: Done 247 out of 247 | elapsed:    0.1s finished\n",
      "[Parallel(n_jobs=10)]: Using backend LokyBackend with 10 concurrent workers.\n",
      "[Parallel(n_jobs=10)]: Done   8 tasks      | elapsed:    0.0s\n",
      "[Parallel(n_jobs=10)]: Done 172 tasks      | elapsed:    0.0s\n"
     ]
    },
    {
     "name": "stdout",
     "output_type": "stream",
     "text": [
      "Applying baseline correction (mode: zscore)\n",
      "NOTE: tfr_morlet() is a legacy function. New code should use .compute_tfr(method=\"morlet\").\n",
      "Applying baseline correction (mode: zscore)\n",
      "NOTE: tfr_morlet() is a legacy function. New code should use .compute_tfr(method=\"morlet\").\n"
     ]
    },
    {
     "name": "stderr",
     "output_type": "stream",
     "text": [
      "[Parallel(n_jobs=10)]: Done 247 out of 247 | elapsed:    0.1s finished\n",
      "[Parallel(n_jobs=10)]: Using backend LokyBackend with 10 concurrent workers.\n",
      "[Parallel(n_jobs=10)]: Done   8 tasks      | elapsed:    0.0s\n",
      "[Parallel(n_jobs=10)]: Done 172 tasks      | elapsed:    0.0s\n",
      "[Parallel(n_jobs=10)]: Done 247 out of 247 | elapsed:    0.1s finished\n",
      "[Parallel(n_jobs=10)]: Using backend LokyBackend with 10 concurrent workers.\n",
      "[Parallel(n_jobs=10)]: Done   8 tasks      | elapsed:    0.0s\n",
      "[Parallel(n_jobs=10)]: Done 172 tasks      | elapsed:    0.0s\n"
     ]
    },
    {
     "name": "stdout",
     "output_type": "stream",
     "text": [
      "Applying baseline correction (mode: zscore)\n",
      "NOTE: tfr_morlet() is a legacy function. New code should use .compute_tfr(method=\"morlet\").\n",
      "Applying baseline correction (mode: zscore)\n",
      "NOTE: tfr_morlet() is a legacy function. New code should use .compute_tfr(method=\"morlet\").\n"
     ]
    },
    {
     "name": "stderr",
     "output_type": "stream",
     "text": [
      "[Parallel(n_jobs=10)]: Done 247 out of 247 | elapsed:    0.1s finished\n",
      "[Parallel(n_jobs=10)]: Using backend LokyBackend with 10 concurrent workers.\n",
      "[Parallel(n_jobs=10)]: Done   8 tasks      | elapsed:    0.0s\n",
      "[Parallel(n_jobs=10)]: Done 172 tasks      | elapsed:    0.0s\n",
      "[Parallel(n_jobs=10)]: Done 247 out of 247 | elapsed:    0.1s finished\n",
      "[Parallel(n_jobs=10)]: Using backend LokyBackend with 10 concurrent workers.\n",
      "[Parallel(n_jobs=10)]: Done   8 tasks      | elapsed:    0.0s\n",
      "[Parallel(n_jobs=10)]: Done 172 tasks      | elapsed:    0.0s\n"
     ]
    },
    {
     "name": "stdout",
     "output_type": "stream",
     "text": [
      "Applying baseline correction (mode: zscore)\n",
      "NOTE: tfr_morlet() is a legacy function. New code should use .compute_tfr(method=\"morlet\").\n",
      "Applying baseline correction (mode: zscore)\n",
      "NOTE: tfr_morlet() is a legacy function. New code should use .compute_tfr(method=\"morlet\").\n"
     ]
    },
    {
     "name": "stderr",
     "output_type": "stream",
     "text": [
      "[Parallel(n_jobs=10)]: Done 247 out of 247 | elapsed:    0.1s finished\n",
      "[Parallel(n_jobs=10)]: Using backend LokyBackend with 10 concurrent workers.\n",
      "[Parallel(n_jobs=10)]: Done   8 tasks      | elapsed:    0.0s\n",
      "[Parallel(n_jobs=10)]: Done 172 tasks      | elapsed:    0.0s\n",
      "[Parallel(n_jobs=10)]: Done 247 out of 247 | elapsed:    0.1s finished\n",
      "[Parallel(n_jobs=10)]: Using backend LokyBackend with 10 concurrent workers.\n",
      "[Parallel(n_jobs=10)]: Done   8 tasks      | elapsed:    0.0s\n",
      "[Parallel(n_jobs=10)]: Done 172 tasks      | elapsed:    0.0s\n"
     ]
    },
    {
     "name": "stdout",
     "output_type": "stream",
     "text": [
      "Applying baseline correction (mode: zscore)\n",
      "NOTE: tfr_morlet() is a legacy function. New code should use .compute_tfr(method=\"morlet\").\n",
      "Applying baseline correction (mode: zscore)\n",
      "NOTE: tfr_morlet() is a legacy function. New code should use .compute_tfr(method=\"morlet\").\n"
     ]
    },
    {
     "name": "stderr",
     "output_type": "stream",
     "text": [
      "[Parallel(n_jobs=10)]: Done 247 out of 247 | elapsed:    0.1s finished\n",
      "[Parallel(n_jobs=10)]: Using backend LokyBackend with 10 concurrent workers.\n",
      "[Parallel(n_jobs=10)]: Done   8 tasks      | elapsed:    0.0s\n",
      "[Parallel(n_jobs=10)]: Done 172 tasks      | elapsed:    0.0s\n",
      "[Parallel(n_jobs=10)]: Done 247 out of 247 | elapsed:    0.1s finished\n",
      "[Parallel(n_jobs=10)]: Using backend LokyBackend with 10 concurrent workers.\n",
      "[Parallel(n_jobs=10)]: Done   8 tasks      | elapsed:    0.0s\n",
      "[Parallel(n_jobs=10)]: Done 172 tasks      | elapsed:    0.0s\n"
     ]
    },
    {
     "name": "stdout",
     "output_type": "stream",
     "text": [
      "Applying baseline correction (mode: zscore)\n",
      "NOTE: tfr_morlet() is a legacy function. New code should use .compute_tfr(method=\"morlet\").\n",
      "Applying baseline correction (mode: zscore)\n",
      "NOTE: tfr_morlet() is a legacy function. New code should use .compute_tfr(method=\"morlet\").\n"
     ]
    },
    {
     "name": "stderr",
     "output_type": "stream",
     "text": [
      "[Parallel(n_jobs=10)]: Done 247 out of 247 | elapsed:    0.1s finished\n",
      "[Parallel(n_jobs=10)]: Using backend LokyBackend with 10 concurrent workers.\n",
      "[Parallel(n_jobs=10)]: Done   8 tasks      | elapsed:    0.0s\n",
      "[Parallel(n_jobs=10)]: Done 172 tasks      | elapsed:    0.0s\n",
      "[Parallel(n_jobs=10)]: Done 247 out of 247 | elapsed:    0.1s finished\n",
      "[Parallel(n_jobs=10)]: Using backend LokyBackend with 10 concurrent workers.\n",
      "[Parallel(n_jobs=10)]: Done   8 tasks      | elapsed:    0.0s\n",
      "[Parallel(n_jobs=10)]: Done 172 tasks      | elapsed:    0.0s\n"
     ]
    },
    {
     "name": "stdout",
     "output_type": "stream",
     "text": [
      "Applying baseline correction (mode: zscore)\n",
      "NOTE: tfr_morlet() is a legacy function. New code should use .compute_tfr(method=\"morlet\").\n",
      "Applying baseline correction (mode: zscore)\n",
      "NOTE: tfr_morlet() is a legacy function. New code should use .compute_tfr(method=\"morlet\").\n"
     ]
    },
    {
     "name": "stderr",
     "output_type": "stream",
     "text": [
      "[Parallel(n_jobs=10)]: Done 247 out of 247 | elapsed:    0.1s finished\n",
      "[Parallel(n_jobs=10)]: Using backend LokyBackend with 10 concurrent workers.\n",
      "[Parallel(n_jobs=10)]: Done   8 tasks      | elapsed:    0.0s\n",
      "[Parallel(n_jobs=10)]: Done 172 tasks      | elapsed:    0.0s\n",
      "[Parallel(n_jobs=10)]: Done 247 out of 247 | elapsed:    0.1s finished\n",
      "[Parallel(n_jobs=10)]: Using backend LokyBackend with 10 concurrent workers.\n",
      "[Parallel(n_jobs=10)]: Done   8 tasks      | elapsed:    0.0s\n",
      "[Parallel(n_jobs=10)]: Done 172 tasks      | elapsed:    0.1s\n"
     ]
    },
    {
     "name": "stdout",
     "output_type": "stream",
     "text": [
      "Applying baseline correction (mode: zscore)\n",
      "NOTE: tfr_morlet() is a legacy function. New code should use .compute_tfr(method=\"morlet\").\n",
      "Applying baseline correction (mode: zscore)\n",
      "NOTE: tfr_morlet() is a legacy function. New code should use .compute_tfr(method=\"morlet\").\n"
     ]
    },
    {
     "name": "stderr",
     "output_type": "stream",
     "text": [
      "[Parallel(n_jobs=10)]: Done 247 out of 247 | elapsed:    0.1s finished\n",
      "[Parallel(n_jobs=10)]: Using backend LokyBackend with 10 concurrent workers.\n",
      "[Parallel(n_jobs=10)]: Done   8 tasks      | elapsed:    0.0s\n",
      "[Parallel(n_jobs=10)]: Done 172 tasks      | elapsed:    0.0s\n",
      "[Parallel(n_jobs=10)]: Done 247 out of 247 | elapsed:    0.1s finished\n",
      "[Parallel(n_jobs=10)]: Using backend LokyBackend with 10 concurrent workers.\n",
      "[Parallel(n_jobs=10)]: Done   8 tasks      | elapsed:    0.0s\n",
      "[Parallel(n_jobs=10)]: Done 172 tasks      | elapsed:    0.0s\n"
     ]
    },
    {
     "name": "stdout",
     "output_type": "stream",
     "text": [
      "Applying baseline correction (mode: zscore)\n",
      "NOTE: tfr_morlet() is a legacy function. New code should use .compute_tfr(method=\"morlet\").\n",
      "Applying baseline correction (mode: zscore)\n",
      "NOTE: tfr_morlet() is a legacy function. New code should use .compute_tfr(method=\"morlet\").\n"
     ]
    },
    {
     "name": "stderr",
     "output_type": "stream",
     "text": [
      "[Parallel(n_jobs=10)]: Done 247 out of 247 | elapsed:    0.1s finished\n",
      "[Parallel(n_jobs=10)]: Using backend LokyBackend with 10 concurrent workers.\n",
      "[Parallel(n_jobs=10)]: Done   8 tasks      | elapsed:    0.0s\n",
      "[Parallel(n_jobs=10)]: Done 172 tasks      | elapsed:    0.0s\n",
      "[Parallel(n_jobs=10)]: Done 247 out of 247 | elapsed:    0.1s finished\n",
      "[Parallel(n_jobs=10)]: Using backend LokyBackend with 10 concurrent workers.\n",
      "[Parallel(n_jobs=10)]: Done   8 tasks      | elapsed:    0.0s\n",
      "[Parallel(n_jobs=10)]: Done 172 tasks      | elapsed:    0.0s\n"
     ]
    },
    {
     "name": "stdout",
     "output_type": "stream",
     "text": [
      "Applying baseline correction (mode: zscore)\n",
      "NOTE: tfr_morlet() is a legacy function. New code should use .compute_tfr(method=\"morlet\").\n",
      "Applying baseline correction (mode: zscore)\n",
      "NOTE: tfr_morlet() is a legacy function. New code should use .compute_tfr(method=\"morlet\").\n"
     ]
    },
    {
     "name": "stderr",
     "output_type": "stream",
     "text": [
      "[Parallel(n_jobs=10)]: Done 247 out of 247 | elapsed:    0.1s finished\n",
      "[Parallel(n_jobs=10)]: Using backend LokyBackend with 10 concurrent workers.\n",
      "[Parallel(n_jobs=10)]: Done   8 tasks      | elapsed:    0.0s\n",
      "[Parallel(n_jobs=10)]: Done 172 tasks      | elapsed:    0.0s\n",
      "[Parallel(n_jobs=10)]: Done 247 out of 247 | elapsed:    0.1s finished\n",
      "[Parallel(n_jobs=10)]: Using backend LokyBackend with 10 concurrent workers.\n",
      "[Parallel(n_jobs=10)]: Done   8 tasks      | elapsed:    0.0s\n",
      "[Parallel(n_jobs=10)]: Done 172 tasks      | elapsed:    0.0s\n"
     ]
    },
    {
     "name": "stdout",
     "output_type": "stream",
     "text": [
      "Applying baseline correction (mode: zscore)\n",
      "NOTE: tfr_morlet() is a legacy function. New code should use .compute_tfr(method=\"morlet\").\n",
      "Applying baseline correction (mode: zscore)\n",
      "NOTE: tfr_morlet() is a legacy function. New code should use .compute_tfr(method=\"morlet\").\n"
     ]
    },
    {
     "name": "stderr",
     "output_type": "stream",
     "text": [
      "[Parallel(n_jobs=10)]: Done 247 out of 247 | elapsed:    0.1s finished\n",
      "[Parallel(n_jobs=10)]: Using backend LokyBackend with 10 concurrent workers.\n",
      "[Parallel(n_jobs=10)]: Done   8 tasks      | elapsed:    0.0s\n",
      "[Parallel(n_jobs=10)]: Done 172 tasks      | elapsed:    0.0s\n",
      "[Parallel(n_jobs=10)]: Done 247 out of 247 | elapsed:    0.1s finished\n",
      "[Parallel(n_jobs=10)]: Using backend LokyBackend with 10 concurrent workers.\n",
      "[Parallel(n_jobs=10)]: Done   8 tasks      | elapsed:    0.0s\n",
      "[Parallel(n_jobs=10)]: Done 172 tasks      | elapsed:    0.0s\n"
     ]
    },
    {
     "name": "stdout",
     "output_type": "stream",
     "text": [
      "Applying baseline correction (mode: zscore)\n",
      "NOTE: tfr_morlet() is a legacy function. New code should use .compute_tfr(method=\"morlet\").\n",
      "Applying baseline correction (mode: zscore)\n",
      "NOTE: tfr_morlet() is a legacy function. New code should use .compute_tfr(method=\"morlet\").\n"
     ]
    },
    {
     "name": "stderr",
     "output_type": "stream",
     "text": [
      "[Parallel(n_jobs=10)]: Done 247 out of 247 | elapsed:    0.1s finished\n",
      "[Parallel(n_jobs=10)]: Using backend LokyBackend with 10 concurrent workers.\n",
      "[Parallel(n_jobs=10)]: Done   8 tasks      | elapsed:    0.0s\n",
      "[Parallel(n_jobs=10)]: Done 172 tasks      | elapsed:    0.0s\n",
      "[Parallel(n_jobs=10)]: Done 247 out of 247 | elapsed:    0.1s finished\n",
      "[Parallel(n_jobs=10)]: Using backend LokyBackend with 10 concurrent workers.\n",
      "[Parallel(n_jobs=10)]: Done   8 tasks      | elapsed:    0.0s\n"
     ]
    },
    {
     "name": "stdout",
     "output_type": "stream",
     "text": [
      "Applying baseline correction (mode: zscore)\n",
      "NOTE: tfr_morlet() is a legacy function. New code should use .compute_tfr(method=\"morlet\").\n",
      "Applying baseline correction (mode: zscore)\n",
      "NOTE: tfr_morlet() is a legacy function. New code should use .compute_tfr(method=\"morlet\").\n"
     ]
    },
    {
     "name": "stderr",
     "output_type": "stream",
     "text": [
      "[Parallel(n_jobs=10)]: Done 172 tasks      | elapsed:    0.1s\n",
      "[Parallel(n_jobs=10)]: Done 247 out of 247 | elapsed:    0.1s finished\n",
      "[Parallel(n_jobs=10)]: Using backend LokyBackend with 10 concurrent workers.\n",
      "[Parallel(n_jobs=10)]: Done   8 tasks      | elapsed:    0.0s\n",
      "[Parallel(n_jobs=10)]: Done 172 tasks      | elapsed:    0.0s\n",
      "[Parallel(n_jobs=10)]: Done 247 out of 247 | elapsed:    0.1s finished\n",
      "[Parallel(n_jobs=10)]: Using backend LokyBackend with 10 concurrent workers.\n",
      "[Parallel(n_jobs=10)]: Done   8 tasks      | elapsed:    0.0s\n"
     ]
    },
    {
     "name": "stdout",
     "output_type": "stream",
     "text": [
      "Applying baseline correction (mode: zscore)\n",
      "NOTE: tfr_morlet() is a legacy function. New code should use .compute_tfr(method=\"morlet\").\n",
      "Applying baseline correction (mode: zscore)\n",
      "NOTE: tfr_morlet() is a legacy function. New code should use .compute_tfr(method=\"morlet\").\n"
     ]
    },
    {
     "name": "stderr",
     "output_type": "stream",
     "text": [
      "[Parallel(n_jobs=10)]: Done 172 tasks      | elapsed:    0.0s\n",
      "[Parallel(n_jobs=10)]: Done 247 out of 247 | elapsed:    0.1s finished\n",
      "[Parallel(n_jobs=10)]: Using backend LokyBackend with 10 concurrent workers.\n",
      "[Parallel(n_jobs=10)]: Done   8 tasks      | elapsed:    0.0s\n",
      "[Parallel(n_jobs=10)]: Done 172 tasks      | elapsed:    0.0s\n",
      "[Parallel(n_jobs=10)]: Done 247 out of 247 | elapsed:    0.1s finished\n",
      "[Parallel(n_jobs=10)]: Using backend LokyBackend with 10 concurrent workers.\n",
      "[Parallel(n_jobs=10)]: Done   8 tasks      | elapsed:    0.0s\n"
     ]
    },
    {
     "name": "stdout",
     "output_type": "stream",
     "text": [
      "Applying baseline correction (mode: zscore)\n",
      "NOTE: tfr_morlet() is a legacy function. New code should use .compute_tfr(method=\"morlet\").\n",
      "Applying baseline correction (mode: zscore)\n",
      "NOTE: tfr_morlet() is a legacy function. New code should use .compute_tfr(method=\"morlet\").\n"
     ]
    },
    {
     "name": "stderr",
     "output_type": "stream",
     "text": [
      "[Parallel(n_jobs=10)]: Done 172 tasks      | elapsed:    0.0s\n",
      "[Parallel(n_jobs=10)]: Done 247 out of 247 | elapsed:    0.1s finished\n",
      "[Parallel(n_jobs=10)]: Using backend LokyBackend with 10 concurrent workers.\n",
      "[Parallel(n_jobs=10)]: Done   8 tasks      | elapsed:    0.0s\n",
      "[Parallel(n_jobs=10)]: Done 172 tasks      | elapsed:    0.0s\n",
      "[Parallel(n_jobs=10)]: Done 247 out of 247 | elapsed:    0.1s finished\n",
      "[Parallel(n_jobs=10)]: Using backend LokyBackend with 10 concurrent workers.\n",
      "[Parallel(n_jobs=10)]: Done   8 tasks      | elapsed:    0.0s\n"
     ]
    },
    {
     "name": "stdout",
     "output_type": "stream",
     "text": [
      "Applying baseline correction (mode: zscore)\n",
      "NOTE: tfr_morlet() is a legacy function. New code should use .compute_tfr(method=\"morlet\").\n",
      "Applying baseline correction (mode: zscore)\n",
      "NOTE: tfr_morlet() is a legacy function. New code should use .compute_tfr(method=\"morlet\").\n"
     ]
    },
    {
     "name": "stderr",
     "output_type": "stream",
     "text": [
      "[Parallel(n_jobs=10)]: Done 172 tasks      | elapsed:    0.0s\n",
      "[Parallel(n_jobs=10)]: Done 247 out of 247 | elapsed:    0.1s finished\n",
      "[Parallel(n_jobs=10)]: Using backend LokyBackend with 10 concurrent workers.\n",
      "[Parallel(n_jobs=10)]: Done   8 tasks      | elapsed:    0.0s\n",
      "[Parallel(n_jobs=10)]: Done 172 tasks      | elapsed:    0.0s\n",
      "[Parallel(n_jobs=10)]: Done 247 out of 247 | elapsed:    0.1s finished\n",
      "[Parallel(n_jobs=10)]: Using backend LokyBackend with 10 concurrent workers.\n",
      "[Parallel(n_jobs=10)]: Done   8 tasks      | elapsed:    0.0s\n"
     ]
    },
    {
     "name": "stdout",
     "output_type": "stream",
     "text": [
      "Applying baseline correction (mode: zscore)\n",
      "NOTE: tfr_morlet() is a legacy function. New code should use .compute_tfr(method=\"morlet\").\n",
      "Applying baseline correction (mode: zscore)\n",
      "NOTE: tfr_morlet() is a legacy function. New code should use .compute_tfr(method=\"morlet\").\n"
     ]
    },
    {
     "name": "stderr",
     "output_type": "stream",
     "text": [
      "[Parallel(n_jobs=10)]: Done 172 tasks      | elapsed:    0.1s\n",
      "[Parallel(n_jobs=10)]: Done 247 out of 247 | elapsed:    0.1s finished\n",
      "[Parallel(n_jobs=10)]: Using backend LokyBackend with 10 concurrent workers.\n",
      "[Parallel(n_jobs=10)]: Done   8 tasks      | elapsed:    0.0s\n",
      "[Parallel(n_jobs=10)]: Done 172 tasks      | elapsed:    0.0s\n",
      "[Parallel(n_jobs=10)]: Done 247 out of 247 | elapsed:    0.1s finished\n",
      "[Parallel(n_jobs=10)]: Using backend LokyBackend with 10 concurrent workers.\n",
      "[Parallel(n_jobs=10)]: Done   8 tasks      | elapsed:    0.0s\n"
     ]
    },
    {
     "name": "stdout",
     "output_type": "stream",
     "text": [
      "Applying baseline correction (mode: zscore)\n",
      "NOTE: tfr_morlet() is a legacy function. New code should use .compute_tfr(method=\"morlet\").\n",
      "Applying baseline correction (mode: zscore)\n",
      "NOTE: tfr_morlet() is a legacy function. New code should use .compute_tfr(method=\"morlet\").\n"
     ]
    },
    {
     "name": "stderr",
     "output_type": "stream",
     "text": [
      "[Parallel(n_jobs=10)]: Done 172 tasks      | elapsed:    0.1s\n",
      "[Parallel(n_jobs=10)]: Done 247 out of 247 | elapsed:    0.1s finished\n",
      "[Parallel(n_jobs=10)]: Using backend LokyBackend with 10 concurrent workers.\n",
      "[Parallel(n_jobs=10)]: Done   8 tasks      | elapsed:    0.0s\n",
      "[Parallel(n_jobs=10)]: Done 172 tasks      | elapsed:    0.1s\n",
      "[Parallel(n_jobs=10)]: Done 247 out of 247 | elapsed:    0.1s finished\n",
      "[Parallel(n_jobs=10)]: Using backend LokyBackend with 10 concurrent workers.\n",
      "[Parallel(n_jobs=10)]: Done   8 tasks      | elapsed:    0.0s\n"
     ]
    },
    {
     "name": "stdout",
     "output_type": "stream",
     "text": [
      "Applying baseline correction (mode: zscore)\n",
      "NOTE: tfr_morlet() is a legacy function. New code should use .compute_tfr(method=\"morlet\").\n",
      "Applying baseline correction (mode: zscore)\n",
      "NOTE: tfr_morlet() is a legacy function. New code should use .compute_tfr(method=\"morlet\").\n"
     ]
    },
    {
     "name": "stderr",
     "output_type": "stream",
     "text": [
      "[Parallel(n_jobs=10)]: Done 172 tasks      | elapsed:    0.0s\n",
      "[Parallel(n_jobs=10)]: Done 247 out of 247 | elapsed:    0.1s finished\n",
      "[Parallel(n_jobs=10)]: Using backend LokyBackend with 10 concurrent workers.\n",
      "[Parallel(n_jobs=10)]: Done   8 tasks      | elapsed:    0.0s\n",
      "[Parallel(n_jobs=10)]: Done 172 tasks      | elapsed:    0.0s\n",
      "[Parallel(n_jobs=10)]: Done 247 out of 247 | elapsed:    0.1s finished\n",
      "[Parallel(n_jobs=10)]: Using backend LokyBackend with 10 concurrent workers.\n",
      "[Parallel(n_jobs=10)]: Done   8 tasks      | elapsed:    0.0s\n"
     ]
    },
    {
     "name": "stdout",
     "output_type": "stream",
     "text": [
      "Applying baseline correction (mode: zscore)\n",
      "NOTE: tfr_morlet() is a legacy function. New code should use .compute_tfr(method=\"morlet\").\n",
      "Applying baseline correction (mode: zscore)\n",
      "NOTE: tfr_morlet() is a legacy function. New code should use .compute_tfr(method=\"morlet\").\n"
     ]
    },
    {
     "name": "stderr",
     "output_type": "stream",
     "text": [
      "[Parallel(n_jobs=10)]: Done 172 tasks      | elapsed:    0.0s\n",
      "[Parallel(n_jobs=10)]: Done 247 out of 247 | elapsed:    0.1s finished\n",
      "[Parallel(n_jobs=10)]: Using backend LokyBackend with 10 concurrent workers.\n",
      "[Parallel(n_jobs=10)]: Done   8 tasks      | elapsed:    0.0s\n",
      "[Parallel(n_jobs=10)]: Done 172 tasks      | elapsed:    0.0s\n",
      "[Parallel(n_jobs=10)]: Done 247 out of 247 | elapsed:    0.1s finished\n",
      "[Parallel(n_jobs=10)]: Using backend LokyBackend with 10 concurrent workers.\n",
      "[Parallel(n_jobs=10)]: Done   8 tasks      | elapsed:    0.0s\n"
     ]
    },
    {
     "name": "stdout",
     "output_type": "stream",
     "text": [
      "Applying baseline correction (mode: zscore)\n",
      "NOTE: tfr_morlet() is a legacy function. New code should use .compute_tfr(method=\"morlet\").\n",
      "Applying baseline correction (mode: zscore)\n",
      "NOTE: tfr_morlet() is a legacy function. New code should use .compute_tfr(method=\"morlet\").\n"
     ]
    },
    {
     "name": "stderr",
     "output_type": "stream",
     "text": [
      "[Parallel(n_jobs=10)]: Done 172 tasks      | elapsed:    0.0s\n",
      "[Parallel(n_jobs=10)]: Done 247 out of 247 | elapsed:    0.1s finished\n",
      "[Parallel(n_jobs=10)]: Using backend LokyBackend with 10 concurrent workers.\n",
      "[Parallel(n_jobs=10)]: Done   8 tasks      | elapsed:    0.0s\n",
      "[Parallel(n_jobs=10)]: Done 172 tasks      | elapsed:    0.0s\n",
      "[Parallel(n_jobs=10)]: Done 247 out of 247 | elapsed:    0.1s finished\n",
      "[Parallel(n_jobs=10)]: Using backend LokyBackend with 10 concurrent workers.\n",
      "[Parallel(n_jobs=10)]: Done   8 tasks      | elapsed:    0.0s\n"
     ]
    },
    {
     "name": "stdout",
     "output_type": "stream",
     "text": [
      "Applying baseline correction (mode: zscore)\n",
      "NOTE: tfr_morlet() is a legacy function. New code should use .compute_tfr(method=\"morlet\").\n",
      "Applying baseline correction (mode: zscore)\n",
      "NOTE: tfr_morlet() is a legacy function. New code should use .compute_tfr(method=\"morlet\").\n"
     ]
    },
    {
     "name": "stderr",
     "output_type": "stream",
     "text": [
      "[Parallel(n_jobs=10)]: Done 172 tasks      | elapsed:    0.0s\n",
      "[Parallel(n_jobs=10)]: Done 247 out of 247 | elapsed:    0.1s finished\n",
      "[Parallel(n_jobs=10)]: Using backend LokyBackend with 10 concurrent workers.\n",
      "[Parallel(n_jobs=10)]: Done   8 tasks      | elapsed:    0.0s\n",
      "[Parallel(n_jobs=10)]: Done 172 tasks      | elapsed:    0.0s\n",
      "[Parallel(n_jobs=10)]: Done 247 out of 247 | elapsed:    0.1s finished\n",
      "[Parallel(n_jobs=10)]: Using backend LokyBackend with 10 concurrent workers.\n",
      "[Parallel(n_jobs=10)]: Done   8 tasks      | elapsed:    0.0s\n"
     ]
    },
    {
     "name": "stdout",
     "output_type": "stream",
     "text": [
      "Applying baseline correction (mode: zscore)\n",
      "NOTE: tfr_morlet() is a legacy function. New code should use .compute_tfr(method=\"morlet\").\n",
      "Applying baseline correction (mode: zscore)\n",
      "NOTE: tfr_morlet() is a legacy function. New code should use .compute_tfr(method=\"morlet\").\n"
     ]
    },
    {
     "name": "stderr",
     "output_type": "stream",
     "text": [
      "[Parallel(n_jobs=10)]: Done 172 tasks      | elapsed:    0.1s\n",
      "[Parallel(n_jobs=10)]: Done 247 out of 247 | elapsed:    0.1s finished\n",
      "[Parallel(n_jobs=10)]: Using backend LokyBackend with 10 concurrent workers.\n",
      "[Parallel(n_jobs=10)]: Done   8 tasks      | elapsed:    0.0s\n",
      "[Parallel(n_jobs=10)]: Done 172 tasks      | elapsed:    0.1s\n",
      "[Parallel(n_jobs=10)]: Done 247 out of 247 | elapsed:    0.1s finished\n",
      "[Parallel(n_jobs=10)]: Using backend LokyBackend with 10 concurrent workers.\n",
      "[Parallel(n_jobs=10)]: Done   8 tasks      | elapsed:    0.0s\n"
     ]
    },
    {
     "name": "stdout",
     "output_type": "stream",
     "text": [
      "Applying baseline correction (mode: zscore)\n",
      "NOTE: tfr_morlet() is a legacy function. New code should use .compute_tfr(method=\"morlet\").\n",
      "Applying baseline correction (mode: zscore)\n",
      "NOTE: tfr_morlet() is a legacy function. New code should use .compute_tfr(method=\"morlet\").\n"
     ]
    },
    {
     "name": "stderr",
     "output_type": "stream",
     "text": [
      "[Parallel(n_jobs=10)]: Done 172 tasks      | elapsed:    0.0s\n",
      "[Parallel(n_jobs=10)]: Done 247 out of 247 | elapsed:    0.1s finished\n",
      "[Parallel(n_jobs=10)]: Using backend LokyBackend with 10 concurrent workers.\n",
      "[Parallel(n_jobs=10)]: Done   8 tasks      | elapsed:    0.0s\n",
      "[Parallel(n_jobs=10)]: Done 172 tasks      | elapsed:    0.1s\n",
      "[Parallel(n_jobs=10)]: Done 247 out of 247 | elapsed:    0.1s finished\n",
      "[Parallel(n_jobs=10)]: Using backend LokyBackend with 10 concurrent workers.\n",
      "[Parallel(n_jobs=10)]: Done   8 tasks      | elapsed:    0.0s\n"
     ]
    },
    {
     "name": "stdout",
     "output_type": "stream",
     "text": [
      "Applying baseline correction (mode: zscore)\n",
      "NOTE: tfr_morlet() is a legacy function. New code should use .compute_tfr(method=\"morlet\").\n",
      "Applying baseline correction (mode: zscore)\n",
      "NOTE: tfr_morlet() is a legacy function. New code should use .compute_tfr(method=\"morlet\").\n"
     ]
    },
    {
     "name": "stderr",
     "output_type": "stream",
     "text": [
      "[Parallel(n_jobs=10)]: Done 172 tasks      | elapsed:    0.0s\n",
      "[Parallel(n_jobs=10)]: Done 247 out of 247 | elapsed:    0.1s finished\n",
      "[Parallel(n_jobs=10)]: Using backend LokyBackend with 10 concurrent workers.\n",
      "[Parallel(n_jobs=10)]: Done   8 tasks      | elapsed:    0.0s\n",
      "[Parallel(n_jobs=10)]: Done 172 tasks      | elapsed:    0.0s\n",
      "[Parallel(n_jobs=10)]: Done 247 out of 247 | elapsed:    0.1s finished\n",
      "[Parallel(n_jobs=10)]: Using backend LokyBackend with 10 concurrent workers.\n",
      "[Parallel(n_jobs=10)]: Done   8 tasks      | elapsed:    0.0s\n"
     ]
    },
    {
     "name": "stdout",
     "output_type": "stream",
     "text": [
      "Applying baseline correction (mode: zscore)\n",
      "NOTE: tfr_morlet() is a legacy function. New code should use .compute_tfr(method=\"morlet\").\n"
     ]
    },
    {
     "name": "stderr",
     "output_type": "stream",
     "text": [
      "[Parallel(n_jobs=10)]: Done 172 tasks      | elapsed:    0.1s\n",
      "[Parallel(n_jobs=10)]: Done 247 out of 247 | elapsed:    0.1s finished\n",
      "[Parallel(n_jobs=10)]: Using backend LokyBackend with 10 concurrent workers.\n",
      "[Parallel(n_jobs=10)]: Done   8 tasks      | elapsed:    0.0s\n",
      "[Parallel(n_jobs=10)]: Done 172 tasks      | elapsed:    0.1s\n"
     ]
    },
    {
     "name": "stdout",
     "output_type": "stream",
     "text": [
      "Applying baseline correction (mode: zscore)\n",
      "NOTE: tfr_morlet() is a legacy function. New code should use .compute_tfr(method=\"morlet\").\n",
      "Applying baseline correction (mode: zscore)\n",
      "NOTE: tfr_morlet() is a legacy function. New code should use .compute_tfr(method=\"morlet\").\n"
     ]
    },
    {
     "name": "stderr",
     "output_type": "stream",
     "text": [
      "[Parallel(n_jobs=10)]: Done 247 out of 247 | elapsed:    0.1s finished\n",
      "[Parallel(n_jobs=10)]: Using backend LokyBackend with 10 concurrent workers.\n",
      "[Parallel(n_jobs=10)]: Done   8 tasks      | elapsed:    0.0s\n",
      "[Parallel(n_jobs=10)]: Done 172 tasks      | elapsed:    0.1s\n",
      "[Parallel(n_jobs=10)]: Done 247 out of 247 | elapsed:    0.1s finished\n",
      "[Parallel(n_jobs=10)]: Using backend LokyBackend with 10 concurrent workers.\n",
      "[Parallel(n_jobs=10)]: Done   8 tasks      | elapsed:    0.0s\n"
     ]
    },
    {
     "name": "stdout",
     "output_type": "stream",
     "text": [
      "Applying baseline correction (mode: zscore)\n",
      "NOTE: tfr_morlet() is a legacy function. New code should use .compute_tfr(method=\"morlet\").\n",
      "Applying baseline correction (mode: zscore)\n",
      "NOTE: tfr_morlet() is a legacy function. New code should use .compute_tfr(method=\"morlet\").\n"
     ]
    },
    {
     "name": "stderr",
     "output_type": "stream",
     "text": [
      "[Parallel(n_jobs=10)]: Done 172 tasks      | elapsed:    0.1s\n",
      "[Parallel(n_jobs=10)]: Done 247 out of 247 | elapsed:    0.1s finished\n",
      "[Parallel(n_jobs=10)]: Using backend LokyBackend with 10 concurrent workers.\n",
      "[Parallel(n_jobs=10)]: Done   8 tasks      | elapsed:    0.0s\n",
      "[Parallel(n_jobs=10)]: Done 172 tasks      | elapsed:    0.1s\n",
      "[Parallel(n_jobs=10)]: Done 247 out of 247 | elapsed:    0.1s finished\n"
     ]
    },
    {
     "name": "stdout",
     "output_type": "stream",
     "text": [
      "Applying baseline correction (mode: zscore)\n",
      "NOTE: tfr_morlet() is a legacy function. New code should use .compute_tfr(method=\"morlet\").\n"
     ]
    },
    {
     "name": "stderr",
     "output_type": "stream",
     "text": [
      "[Parallel(n_jobs=10)]: Using backend LokyBackend with 10 concurrent workers.\n",
      "[Parallel(n_jobs=10)]: Done   8 tasks      | elapsed:    0.0s\n",
      "[Parallel(n_jobs=10)]: Done 172 tasks      | elapsed:    0.1s\n",
      "[Parallel(n_jobs=10)]: Done 247 out of 247 | elapsed:    0.1s finished\n",
      "[Parallel(n_jobs=10)]: Using backend LokyBackend with 10 concurrent workers.\n",
      "[Parallel(n_jobs=10)]: Done   8 tasks      | elapsed:    0.0s\n",
      "[Parallel(n_jobs=10)]: Done 172 tasks      | elapsed:    0.1s\n"
     ]
    },
    {
     "name": "stdout",
     "output_type": "stream",
     "text": [
      "Applying baseline correction (mode: zscore)\n",
      "NOTE: tfr_morlet() is a legacy function. New code should use .compute_tfr(method=\"morlet\").\n",
      "Applying baseline correction (mode: zscore)\n",
      "NOTE: tfr_morlet() is a legacy function. New code should use .compute_tfr(method=\"morlet\").\n"
     ]
    },
    {
     "name": "stderr",
     "output_type": "stream",
     "text": [
      "[Parallel(n_jobs=10)]: Done 247 out of 247 | elapsed:    0.1s finished\n",
      "[Parallel(n_jobs=10)]: Using backend LokyBackend with 10 concurrent workers.\n",
      "[Parallel(n_jobs=10)]: Done   8 tasks      | elapsed:    0.0s\n",
      "[Parallel(n_jobs=10)]: Done 172 tasks      | elapsed:    0.1s\n",
      "[Parallel(n_jobs=10)]: Done 247 out of 247 | elapsed:    0.1s finished\n",
      "[Parallel(n_jobs=10)]: Using backend LokyBackend with 10 concurrent workers.\n",
      "[Parallel(n_jobs=10)]: Done   8 tasks      | elapsed:    0.0s\n",
      "[Parallel(n_jobs=10)]: Done 172 tasks      | elapsed:    0.0s\n"
     ]
    },
    {
     "name": "stdout",
     "output_type": "stream",
     "text": [
      "Applying baseline correction (mode: zscore)\n",
      "NOTE: tfr_morlet() is a legacy function. New code should use .compute_tfr(method=\"morlet\").\n",
      "Applying baseline correction (mode: zscore)\n",
      "NOTE: tfr_morlet() is a legacy function. New code should use .compute_tfr(method=\"morlet\").\n"
     ]
    },
    {
     "name": "stderr",
     "output_type": "stream",
     "text": [
      "[Parallel(n_jobs=10)]: Done 247 out of 247 | elapsed:    0.1s finished\n",
      "[Parallel(n_jobs=10)]: Using backend LokyBackend with 10 concurrent workers.\n",
      "[Parallel(n_jobs=10)]: Done   8 tasks      | elapsed:    0.0s\n",
      "[Parallel(n_jobs=10)]: Done 172 tasks      | elapsed:    0.0s\n",
      "[Parallel(n_jobs=10)]: Done 247 out of 247 | elapsed:    0.1s finished\n",
      "[Parallel(n_jobs=10)]: Using backend LokyBackend with 10 concurrent workers.\n",
      "[Parallel(n_jobs=10)]: Done   8 tasks      | elapsed:    0.0s\n",
      "[Parallel(n_jobs=10)]: Done 172 tasks      | elapsed:    0.1s\n"
     ]
    },
    {
     "name": "stdout",
     "output_type": "stream",
     "text": [
      "Applying baseline correction (mode: zscore)\n",
      "NOTE: tfr_morlet() is a legacy function. New code should use .compute_tfr(method=\"morlet\").\n",
      "Applying baseline correction (mode: zscore)\n",
      "NOTE: tfr_morlet() is a legacy function. New code should use .compute_tfr(method=\"morlet\").\n"
     ]
    },
    {
     "name": "stderr",
     "output_type": "stream",
     "text": [
      "[Parallel(n_jobs=10)]: Done 247 out of 247 | elapsed:    0.1s finished\n",
      "[Parallel(n_jobs=10)]: Using backend LokyBackend with 10 concurrent workers.\n",
      "[Parallel(n_jobs=10)]: Done   8 tasks      | elapsed:    0.0s\n",
      "[Parallel(n_jobs=10)]: Done 172 tasks      | elapsed:    0.1s\n",
      "[Parallel(n_jobs=10)]: Done 247 out of 247 | elapsed:    0.1s finished\n",
      "[Parallel(n_jobs=10)]: Using backend LokyBackend with 10 concurrent workers.\n",
      "[Parallel(n_jobs=10)]: Done   8 tasks      | elapsed:    0.0s\n",
      "[Parallel(n_jobs=10)]: Done 172 tasks      | elapsed:    0.0s\n"
     ]
    },
    {
     "name": "stdout",
     "output_type": "stream",
     "text": [
      "Applying baseline correction (mode: zscore)\n",
      "NOTE: tfr_morlet() is a legacy function. New code should use .compute_tfr(method=\"morlet\").\n",
      "Applying baseline correction (mode: zscore)\n",
      "NOTE: tfr_morlet() is a legacy function. New code should use .compute_tfr(method=\"morlet\").\n"
     ]
    },
    {
     "name": "stderr",
     "output_type": "stream",
     "text": [
      "[Parallel(n_jobs=10)]: Done 247 out of 247 | elapsed:    0.1s finished\n",
      "[Parallel(n_jobs=10)]: Using backend LokyBackend with 10 concurrent workers.\n",
      "[Parallel(n_jobs=10)]: Done   8 tasks      | elapsed:    0.0s\n",
      "[Parallel(n_jobs=10)]: Done 172 tasks      | elapsed:    0.0s\n",
      "[Parallel(n_jobs=10)]: Done 247 out of 247 | elapsed:    0.1s finished\n",
      "[Parallel(n_jobs=10)]: Using backend LokyBackend with 10 concurrent workers.\n",
      "[Parallel(n_jobs=10)]: Done   8 tasks      | elapsed:    0.0s\n",
      "[Parallel(n_jobs=10)]: Done 172 tasks      | elapsed:    0.0s\n"
     ]
    },
    {
     "name": "stdout",
     "output_type": "stream",
     "text": [
      "Applying baseline correction (mode: zscore)\n",
      "NOTE: tfr_morlet() is a legacy function. New code should use .compute_tfr(method=\"morlet\").\n",
      "Applying baseline correction (mode: zscore)\n",
      "NOTE: tfr_morlet() is a legacy function. New code should use .compute_tfr(method=\"morlet\").\n"
     ]
    },
    {
     "name": "stderr",
     "output_type": "stream",
     "text": [
      "[Parallel(n_jobs=10)]: Done 247 out of 247 | elapsed:    0.1s finished\n",
      "[Parallel(n_jobs=10)]: Using backend LokyBackend with 10 concurrent workers.\n",
      "[Parallel(n_jobs=10)]: Done   8 tasks      | elapsed:    0.0s\n",
      "[Parallel(n_jobs=10)]: Done 172 tasks      | elapsed:    0.0s\n",
      "[Parallel(n_jobs=10)]: Done 247 out of 247 | elapsed:    0.1s finished\n",
      "[Parallel(n_jobs=10)]: Using backend LokyBackend with 10 concurrent workers.\n",
      "[Parallel(n_jobs=10)]: Done   8 tasks      | elapsed:    0.0s\n",
      "[Parallel(n_jobs=10)]: Done 172 tasks      | elapsed:    0.0s\n"
     ]
    },
    {
     "name": "stdout",
     "output_type": "stream",
     "text": [
      "Applying baseline correction (mode: zscore)\n",
      "NOTE: tfr_morlet() is a legacy function. New code should use .compute_tfr(method=\"morlet\").\n",
      "Applying baseline correction (mode: zscore)\n",
      "NOTE: tfr_morlet() is a legacy function. New code should use .compute_tfr(method=\"morlet\").\n"
     ]
    },
    {
     "name": "stderr",
     "output_type": "stream",
     "text": [
      "[Parallel(n_jobs=10)]: Done 247 out of 247 | elapsed:    0.1s finished\n",
      "[Parallel(n_jobs=10)]: Using backend LokyBackend with 10 concurrent workers.\n",
      "[Parallel(n_jobs=10)]: Done   8 tasks      | elapsed:    0.0s\n",
      "[Parallel(n_jobs=10)]: Done 172 tasks      | elapsed:    0.0s\n",
      "[Parallel(n_jobs=10)]: Done 247 out of 247 | elapsed:    0.1s finished\n",
      "[Parallel(n_jobs=10)]: Using backend LokyBackend with 10 concurrent workers.\n",
      "[Parallel(n_jobs=10)]: Done   8 tasks      | elapsed:    0.0s\n",
      "[Parallel(n_jobs=10)]: Done 172 tasks      | elapsed:    0.0s\n"
     ]
    },
    {
     "name": "stdout",
     "output_type": "stream",
     "text": [
      "Applying baseline correction (mode: zscore)\n",
      "NOTE: tfr_morlet() is a legacy function. New code should use .compute_tfr(method=\"morlet\").\n",
      "Applying baseline correction (mode: zscore)\n",
      "NOTE: tfr_morlet() is a legacy function. New code should use .compute_tfr(method=\"morlet\").\n"
     ]
    },
    {
     "name": "stderr",
     "output_type": "stream",
     "text": [
      "[Parallel(n_jobs=10)]: Done 247 out of 247 | elapsed:    0.1s finished\n",
      "[Parallel(n_jobs=10)]: Using backend LokyBackend with 10 concurrent workers.\n",
      "[Parallel(n_jobs=10)]: Done   8 tasks      | elapsed:    0.0s\n",
      "[Parallel(n_jobs=10)]: Done 172 tasks      | elapsed:    0.0s\n",
      "[Parallel(n_jobs=10)]: Done 247 out of 247 | elapsed:    0.1s finished\n",
      "[Parallel(n_jobs=10)]: Using backend LokyBackend with 10 concurrent workers.\n",
      "[Parallel(n_jobs=10)]: Done   8 tasks      | elapsed:    0.0s\n",
      "[Parallel(n_jobs=10)]: Done 172 tasks      | elapsed:    0.0s\n"
     ]
    },
    {
     "name": "stdout",
     "output_type": "stream",
     "text": [
      "Applying baseline correction (mode: zscore)\n",
      "NOTE: tfr_morlet() is a legacy function. New code should use .compute_tfr(method=\"morlet\").\n"
     ]
    },
    {
     "name": "stderr",
     "output_type": "stream",
     "text": [
      "[Parallel(n_jobs=10)]: Done 247 out of 247 | elapsed:    0.1s finished\n",
      "[Parallel(n_jobs=10)]: Using backend LokyBackend with 10 concurrent workers.\n",
      "[Parallel(n_jobs=10)]: Done   8 tasks      | elapsed:    0.0s\n",
      "[Parallel(n_jobs=10)]: Done 172 tasks      | elapsed:    0.1s\n"
     ]
    },
    {
     "name": "stdout",
     "output_type": "stream",
     "text": [
      "Applying baseline correction (mode: zscore)\n",
      "NOTE: tfr_morlet() is a legacy function. New code should use .compute_tfr(method=\"morlet\").\n",
      "Applying baseline correction (mode: zscore)\n",
      "NOTE: tfr_morlet() is a legacy function. New code should use .compute_tfr(method=\"morlet\").\n"
     ]
    },
    {
     "name": "stderr",
     "output_type": "stream",
     "text": [
      "[Parallel(n_jobs=10)]: Done 247 out of 247 | elapsed:    0.2s finished\n",
      "[Parallel(n_jobs=10)]: Using backend LokyBackend with 10 concurrent workers.\n",
      "[Parallel(n_jobs=10)]: Done   8 tasks      | elapsed:    0.0s\n",
      "[Parallel(n_jobs=10)]: Done 172 tasks      | elapsed:    0.1s\n",
      "[Parallel(n_jobs=10)]: Done 247 out of 247 | elapsed:    0.1s finished\n",
      "[Parallel(n_jobs=10)]: Using backend LokyBackend with 10 concurrent workers.\n",
      "[Parallel(n_jobs=10)]: Done   8 tasks      | elapsed:    0.0s\n",
      "[Parallel(n_jobs=10)]: Done 172 tasks      | elapsed:    0.0s\n"
     ]
    },
    {
     "name": "stdout",
     "output_type": "stream",
     "text": [
      "Applying baseline correction (mode: zscore)\n",
      "NOTE: tfr_morlet() is a legacy function. New code should use .compute_tfr(method=\"morlet\").\n",
      "Applying baseline correction (mode: zscore)\n",
      "NOTE: tfr_morlet() is a legacy function. New code should use .compute_tfr(method=\"morlet\").\n"
     ]
    },
    {
     "name": "stderr",
     "output_type": "stream",
     "text": [
      "[Parallel(n_jobs=10)]: Done 247 out of 247 | elapsed:    0.1s finished\n",
      "[Parallel(n_jobs=10)]: Using backend LokyBackend with 10 concurrent workers.\n",
      "[Parallel(n_jobs=10)]: Done   8 tasks      | elapsed:    0.0s\n",
      "[Parallel(n_jobs=10)]: Done 172 tasks      | elapsed:    0.0s\n",
      "[Parallel(n_jobs=10)]: Done 247 out of 247 | elapsed:    0.1s finished\n",
      "[Parallel(n_jobs=10)]: Using backend LokyBackend with 10 concurrent workers.\n",
      "[Parallel(n_jobs=10)]: Done   8 tasks      | elapsed:    0.0s\n",
      "[Parallel(n_jobs=10)]: Done 172 tasks      | elapsed:    0.0s\n"
     ]
    },
    {
     "name": "stdout",
     "output_type": "stream",
     "text": [
      "Applying baseline correction (mode: zscore)\n",
      "NOTE: tfr_morlet() is a legacy function. New code should use .compute_tfr(method=\"morlet\").\n",
      "Applying baseline correction (mode: zscore)\n",
      "NOTE: tfr_morlet() is a legacy function. New code should use .compute_tfr(method=\"morlet\").\n"
     ]
    },
    {
     "name": "stderr",
     "output_type": "stream",
     "text": [
      "[Parallel(n_jobs=10)]: Done 247 out of 247 | elapsed:    0.1s finished\n",
      "[Parallel(n_jobs=10)]: Using backend LokyBackend with 10 concurrent workers.\n",
      "[Parallel(n_jobs=10)]: Done   8 tasks      | elapsed:    0.0s\n",
      "[Parallel(n_jobs=10)]: Done 172 tasks      | elapsed:    0.1s\n",
      "[Parallel(n_jobs=10)]: Done 247 out of 247 | elapsed:    0.1s finished\n",
      "[Parallel(n_jobs=10)]: Using backend LokyBackend with 10 concurrent workers.\n",
      "[Parallel(n_jobs=10)]: Done   8 tasks      | elapsed:    0.0s\n"
     ]
    },
    {
     "name": "stdout",
     "output_type": "stream",
     "text": [
      "Applying baseline correction (mode: zscore)\n",
      "NOTE: tfr_morlet() is a legacy function. New code should use .compute_tfr(method=\"morlet\").\n",
      "Applying baseline correction (mode: zscore)\n",
      "NOTE: tfr_morlet() is a legacy function. New code should use .compute_tfr(method=\"morlet\").\n"
     ]
    },
    {
     "name": "stderr",
     "output_type": "stream",
     "text": [
      "[Parallel(n_jobs=10)]: Done 172 tasks      | elapsed:    0.1s\n",
      "[Parallel(n_jobs=10)]: Done 247 out of 247 | elapsed:    0.1s finished\n",
      "[Parallel(n_jobs=10)]: Using backend LokyBackend with 10 concurrent workers.\n",
      "[Parallel(n_jobs=10)]: Done   8 tasks      | elapsed:    0.0s\n",
      "[Parallel(n_jobs=10)]: Done 172 tasks      | elapsed:    0.0s\n",
      "[Parallel(n_jobs=10)]: Done 247 out of 247 | elapsed:    0.1s finished\n",
      "[Parallel(n_jobs=10)]: Using backend LokyBackend with 10 concurrent workers.\n",
      "[Parallel(n_jobs=10)]: Done   8 tasks      | elapsed:    0.0s\n"
     ]
    },
    {
     "name": "stdout",
     "output_type": "stream",
     "text": [
      "Applying baseline correction (mode: zscore)\n",
      "NOTE: tfr_morlet() is a legacy function. New code should use .compute_tfr(method=\"morlet\").\n",
      "Applying baseline correction (mode: zscore)\n",
      "NOTE: tfr_morlet() is a legacy function. New code should use .compute_tfr(method=\"morlet\").\n"
     ]
    },
    {
     "name": "stderr",
     "output_type": "stream",
     "text": [
      "[Parallel(n_jobs=10)]: Done 172 tasks      | elapsed:    0.1s\n",
      "[Parallel(n_jobs=10)]: Done 247 out of 247 | elapsed:    0.1s finished\n",
      "[Parallel(n_jobs=10)]: Using backend LokyBackend with 10 concurrent workers.\n",
      "[Parallel(n_jobs=10)]: Done   8 tasks      | elapsed:    0.0s\n",
      "[Parallel(n_jobs=10)]: Done 172 tasks      | elapsed:    0.1s\n",
      "[Parallel(n_jobs=10)]: Done 247 out of 247 | elapsed:    0.1s finished\n",
      "[Parallel(n_jobs=10)]: Using backend LokyBackend with 10 concurrent workers.\n",
      "[Parallel(n_jobs=10)]: Done   8 tasks      | elapsed:    0.0s\n"
     ]
    },
    {
     "name": "stdout",
     "output_type": "stream",
     "text": [
      "Applying baseline correction (mode: zscore)\n",
      "NOTE: tfr_morlet() is a legacy function. New code should use .compute_tfr(method=\"morlet\").\n",
      "Applying baseline correction (mode: zscore)\n",
      "NOTE: tfr_morlet() is a legacy function. New code should use .compute_tfr(method=\"morlet\").\n"
     ]
    },
    {
     "name": "stderr",
     "output_type": "stream",
     "text": [
      "[Parallel(n_jobs=10)]: Done 172 tasks      | elapsed:    0.1s\n",
      "[Parallel(n_jobs=10)]: Done 247 out of 247 | elapsed:    0.1s finished\n",
      "[Parallel(n_jobs=10)]: Using backend LokyBackend with 10 concurrent workers.\n",
      "[Parallel(n_jobs=10)]: Done   8 tasks      | elapsed:    0.0s\n",
      "[Parallel(n_jobs=10)]: Done 172 tasks      | elapsed:    0.1s\n",
      "[Parallel(n_jobs=10)]: Done 247 out of 247 | elapsed:    0.1s finished\n",
      "[Parallel(n_jobs=10)]: Using backend LokyBackend with 10 concurrent workers.\n",
      "[Parallel(n_jobs=10)]: Done   8 tasks      | elapsed:    0.0s\n"
     ]
    },
    {
     "name": "stdout",
     "output_type": "stream",
     "text": [
      "Applying baseline correction (mode: zscore)\n",
      "NOTE: tfr_morlet() is a legacy function. New code should use .compute_tfr(method=\"morlet\").\n",
      "Applying baseline correction (mode: zscore)\n",
      "NOTE: tfr_morlet() is a legacy function. New code should use .compute_tfr(method=\"morlet\").\n"
     ]
    },
    {
     "name": "stderr",
     "output_type": "stream",
     "text": [
      "[Parallel(n_jobs=10)]: Done 172 tasks      | elapsed:    0.0s\n",
      "[Parallel(n_jobs=10)]: Done 247 out of 247 | elapsed:    0.1s finished\n",
      "[Parallel(n_jobs=10)]: Using backend LokyBackend with 10 concurrent workers.\n",
      "[Parallel(n_jobs=10)]: Done   8 tasks      | elapsed:    0.0s\n",
      "[Parallel(n_jobs=10)]: Done 172 tasks      | elapsed:    0.0s\n",
      "[Parallel(n_jobs=10)]: Done 247 out of 247 | elapsed:    0.1s finished\n",
      "[Parallel(n_jobs=10)]: Using backend LokyBackend with 10 concurrent workers.\n",
      "[Parallel(n_jobs=10)]: Done   8 tasks      | elapsed:    0.0s\n"
     ]
    },
    {
     "name": "stdout",
     "output_type": "stream",
     "text": [
      "Applying baseline correction (mode: zscore)\n",
      "NOTE: tfr_morlet() is a legacy function. New code should use .compute_tfr(method=\"morlet\").\n",
      "Applying baseline correction (mode: zscore)\n",
      "NOTE: tfr_morlet() is a legacy function. New code should use .compute_tfr(method=\"morlet\").\n"
     ]
    },
    {
     "name": "stderr",
     "output_type": "stream",
     "text": [
      "[Parallel(n_jobs=10)]: Done 172 tasks      | elapsed:    0.0s\n",
      "[Parallel(n_jobs=10)]: Done 247 out of 247 | elapsed:    0.1s finished\n",
      "[Parallel(n_jobs=10)]: Using backend LokyBackend with 10 concurrent workers.\n",
      "[Parallel(n_jobs=10)]: Done   8 tasks      | elapsed:    0.0s\n",
      "[Parallel(n_jobs=10)]: Done 172 tasks      | elapsed:    0.1s\n",
      "[Parallel(n_jobs=10)]: Done 247 out of 247 | elapsed:    0.1s finished\n",
      "[Parallel(n_jobs=10)]: Using backend LokyBackend with 10 concurrent workers.\n",
      "[Parallel(n_jobs=10)]: Done   8 tasks      | elapsed:    0.0s\n"
     ]
    },
    {
     "name": "stdout",
     "output_type": "stream",
     "text": [
      "Applying baseline correction (mode: zscore)\n",
      "NOTE: tfr_morlet() is a legacy function. New code should use .compute_tfr(method=\"morlet\").\n",
      "Applying baseline correction (mode: zscore)\n",
      "NOTE: tfr_morlet() is a legacy function. New code should use .compute_tfr(method=\"morlet\").\n"
     ]
    },
    {
     "name": "stderr",
     "output_type": "stream",
     "text": [
      "[Parallel(n_jobs=10)]: Done 172 tasks      | elapsed:    0.1s\n",
      "[Parallel(n_jobs=10)]: Done 247 out of 247 | elapsed:    0.1s finished\n",
      "[Parallel(n_jobs=10)]: Using backend LokyBackend with 10 concurrent workers.\n",
      "[Parallel(n_jobs=10)]: Done   8 tasks      | elapsed:    0.0s\n",
      "[Parallel(n_jobs=10)]: Done 172 tasks      | elapsed:    0.0s\n",
      "[Parallel(n_jobs=10)]: Done 247 out of 247 | elapsed:    0.1s finished\n",
      "[Parallel(n_jobs=10)]: Using backend LokyBackend with 10 concurrent workers.\n",
      "[Parallel(n_jobs=10)]: Done   8 tasks      | elapsed:    0.0s\n"
     ]
    },
    {
     "name": "stdout",
     "output_type": "stream",
     "text": [
      "Applying baseline correction (mode: zscore)\n",
      "NOTE: tfr_morlet() is a legacy function. New code should use .compute_tfr(method=\"morlet\").\n",
      "Applying baseline correction (mode: zscore)\n",
      "NOTE: tfr_morlet() is a legacy function. New code should use .compute_tfr(method=\"morlet\").\n"
     ]
    },
    {
     "name": "stderr",
     "output_type": "stream",
     "text": [
      "[Parallel(n_jobs=10)]: Done 172 tasks      | elapsed:    0.0s\n",
      "[Parallel(n_jobs=10)]: Done 247 out of 247 | elapsed:    0.1s finished\n",
      "[Parallel(n_jobs=10)]: Using backend LokyBackend with 10 concurrent workers.\n",
      "[Parallel(n_jobs=10)]: Done   8 tasks      | elapsed:    0.0s\n",
      "[Parallel(n_jobs=10)]: Done 172 tasks      | elapsed:    0.0s\n",
      "[Parallel(n_jobs=10)]: Done 247 out of 247 | elapsed:    0.1s finished\n",
      "[Parallel(n_jobs=10)]: Using backend LokyBackend with 10 concurrent workers.\n",
      "[Parallel(n_jobs=10)]: Done   8 tasks      | elapsed:    0.0s\n"
     ]
    },
    {
     "name": "stdout",
     "output_type": "stream",
     "text": [
      "Applying baseline correction (mode: zscore)\n",
      "NOTE: tfr_morlet() is a legacy function. New code should use .compute_tfr(method=\"morlet\").\n",
      "Applying baseline correction (mode: zscore)\n",
      "NOTE: tfr_morlet() is a legacy function. New code should use .compute_tfr(method=\"morlet\").\n"
     ]
    },
    {
     "name": "stderr",
     "output_type": "stream",
     "text": [
      "[Parallel(n_jobs=10)]: Done 172 tasks      | elapsed:    0.0s\n",
      "[Parallel(n_jobs=10)]: Done 247 out of 247 | elapsed:    0.1s finished\n",
      "[Parallel(n_jobs=10)]: Using backend LokyBackend with 10 concurrent workers.\n",
      "[Parallel(n_jobs=10)]: Done   8 tasks      | elapsed:    0.0s\n",
      "[Parallel(n_jobs=10)]: Done 172 tasks      | elapsed:    0.0s\n",
      "[Parallel(n_jobs=10)]: Done 247 out of 247 | elapsed:    0.1s finished\n",
      "[Parallel(n_jobs=10)]: Using backend LokyBackend with 10 concurrent workers.\n",
      "[Parallel(n_jobs=10)]: Done   8 tasks      | elapsed:    0.0s\n"
     ]
    },
    {
     "name": "stdout",
     "output_type": "stream",
     "text": [
      "Applying baseline correction (mode: zscore)\n",
      "NOTE: tfr_morlet() is a legacy function. New code should use .compute_tfr(method=\"morlet\").\n",
      "Applying baseline correction (mode: zscore)\n",
      "NOTE: tfr_morlet() is a legacy function. New code should use .compute_tfr(method=\"morlet\").\n"
     ]
    },
    {
     "name": "stderr",
     "output_type": "stream",
     "text": [
      "[Parallel(n_jobs=10)]: Done 172 tasks      | elapsed:    0.0s\n",
      "[Parallel(n_jobs=10)]: Done 247 out of 247 | elapsed:    0.1s finished\n",
      "[Parallel(n_jobs=10)]: Using backend LokyBackend with 10 concurrent workers.\n",
      "[Parallel(n_jobs=10)]: Done   8 tasks      | elapsed:    0.0s\n",
      "[Parallel(n_jobs=10)]: Done 172 tasks      | elapsed:    0.0s\n",
      "[Parallel(n_jobs=10)]: Done 247 out of 247 | elapsed:    0.1s finished\n",
      "[Parallel(n_jobs=10)]: Using backend LokyBackend with 10 concurrent workers.\n",
      "[Parallel(n_jobs=10)]: Done   8 tasks      | elapsed:    0.0s\n"
     ]
    },
    {
     "name": "stdout",
     "output_type": "stream",
     "text": [
      "Applying baseline correction (mode: zscore)\n",
      "NOTE: tfr_morlet() is a legacy function. New code should use .compute_tfr(method=\"morlet\").\n"
     ]
    },
    {
     "name": "stderr",
     "output_type": "stream",
     "text": [
      "[Parallel(n_jobs=10)]: Done 172 tasks      | elapsed:    0.0s\n",
      "[Parallel(n_jobs=10)]: Done 247 out of 247 | elapsed:    0.1s finished\n",
      "[Parallel(n_jobs=10)]: Using backend LokyBackend with 10 concurrent workers.\n",
      "[Parallel(n_jobs=10)]: Done   8 tasks      | elapsed:    0.1s\n",
      "[Parallel(n_jobs=10)]: Done 172 tasks      | elapsed:    0.1s\n"
     ]
    },
    {
     "name": "stdout",
     "output_type": "stream",
     "text": [
      "Applying baseline correction (mode: zscore)\n",
      "NOTE: tfr_morlet() is a legacy function. New code should use .compute_tfr(method=\"morlet\").\n",
      "Applying baseline correction (mode: zscore)\n",
      "NOTE: tfr_morlet() is a legacy function. New code should use .compute_tfr(method=\"morlet\").\n"
     ]
    },
    {
     "name": "stderr",
     "output_type": "stream",
     "text": [
      "[Parallel(n_jobs=10)]: Done 247 out of 247 | elapsed:    0.2s finished\n",
      "[Parallel(n_jobs=10)]: Using backend LokyBackend with 10 concurrent workers.\n",
      "[Parallel(n_jobs=10)]: Done   8 tasks      | elapsed:    0.0s\n",
      "[Parallel(n_jobs=10)]: Done 172 tasks      | elapsed:    0.0s\n",
      "[Parallel(n_jobs=10)]: Done 247 out of 247 | elapsed:    0.1s finished\n",
      "[Parallel(n_jobs=10)]: Using backend LokyBackend with 10 concurrent workers.\n",
      "[Parallel(n_jobs=10)]: Done   8 tasks      | elapsed:    0.0s\n",
      "[Parallel(n_jobs=10)]: Done 172 tasks      | elapsed:    0.0s\n"
     ]
    },
    {
     "name": "stdout",
     "output_type": "stream",
     "text": [
      "Applying baseline correction (mode: zscore)\n",
      "NOTE: tfr_morlet() is a legacy function. New code should use .compute_tfr(method=\"morlet\").\n",
      "Applying baseline correction (mode: zscore)\n",
      "NOTE: tfr_morlet() is a legacy function. New code should use .compute_tfr(method=\"morlet\").\n"
     ]
    },
    {
     "name": "stderr",
     "output_type": "stream",
     "text": [
      "[Parallel(n_jobs=10)]: Done 247 out of 247 | elapsed:    0.1s finished\n",
      "[Parallel(n_jobs=10)]: Using backend LokyBackend with 10 concurrent workers.\n",
      "[Parallel(n_jobs=10)]: Done   8 tasks      | elapsed:    0.0s\n",
      "[Parallel(n_jobs=10)]: Done 172 tasks      | elapsed:    0.0s\n",
      "[Parallel(n_jobs=10)]: Done 247 out of 247 | elapsed:    0.1s finished\n",
      "[Parallel(n_jobs=10)]: Using backend LokyBackend with 10 concurrent workers.\n",
      "[Parallel(n_jobs=10)]: Done   8 tasks      | elapsed:    0.0s\n",
      "[Parallel(n_jobs=10)]: Done 172 tasks      | elapsed:    0.0s\n"
     ]
    },
    {
     "name": "stdout",
     "output_type": "stream",
     "text": [
      "Applying baseline correction (mode: zscore)\n",
      "NOTE: tfr_morlet() is a legacy function. New code should use .compute_tfr(method=\"morlet\").\n",
      "Applying baseline correction (mode: zscore)\n",
      "NOTE: tfr_morlet() is a legacy function. New code should use .compute_tfr(method=\"morlet\").\n"
     ]
    },
    {
     "name": "stderr",
     "output_type": "stream",
     "text": [
      "[Parallel(n_jobs=10)]: Done 247 out of 247 | elapsed:    0.1s finished\n",
      "[Parallel(n_jobs=10)]: Using backend LokyBackend with 10 concurrent workers.\n",
      "[Parallel(n_jobs=10)]: Done   8 tasks      | elapsed:    0.0s\n",
      "[Parallel(n_jobs=10)]: Done 172 tasks      | elapsed:    0.0s\n",
      "[Parallel(n_jobs=10)]: Done 247 out of 247 | elapsed:    0.1s finished\n",
      "[Parallel(n_jobs=10)]: Using backend LokyBackend with 10 concurrent workers.\n",
      "[Parallel(n_jobs=10)]: Done   8 tasks      | elapsed:    0.0s\n",
      "[Parallel(n_jobs=10)]: Done 172 tasks      | elapsed:    0.0s\n"
     ]
    },
    {
     "name": "stdout",
     "output_type": "stream",
     "text": [
      "Applying baseline correction (mode: zscore)\n",
      "NOTE: tfr_morlet() is a legacy function. New code should use .compute_tfr(method=\"morlet\").\n",
      "Applying baseline correction (mode: zscore)\n",
      "NOTE: tfr_morlet() is a legacy function. New code should use .compute_tfr(method=\"morlet\").\n"
     ]
    },
    {
     "name": "stderr",
     "output_type": "stream",
     "text": [
      "[Parallel(n_jobs=10)]: Done 247 out of 247 | elapsed:    0.1s finished\n",
      "[Parallel(n_jobs=10)]: Using backend LokyBackend with 10 concurrent workers.\n",
      "[Parallel(n_jobs=10)]: Done   8 tasks      | elapsed:    0.0s\n",
      "[Parallel(n_jobs=10)]: Done 172 tasks      | elapsed:    0.0s\n",
      "[Parallel(n_jobs=10)]: Done 247 out of 247 | elapsed:    0.1s finished\n",
      "[Parallel(n_jobs=10)]: Using backend LokyBackend with 10 concurrent workers.\n",
      "[Parallel(n_jobs=10)]: Done   8 tasks      | elapsed:    0.0s\n",
      "[Parallel(n_jobs=10)]: Done 172 tasks      | elapsed:    0.1s\n"
     ]
    },
    {
     "name": "stdout",
     "output_type": "stream",
     "text": [
      "Applying baseline correction (mode: zscore)\n",
      "NOTE: tfr_morlet() is a legacy function. New code should use .compute_tfr(method=\"morlet\").\n",
      "Applying baseline correction (mode: zscore)\n",
      "NOTE: tfr_morlet() is a legacy function. New code should use .compute_tfr(method=\"morlet\").\n"
     ]
    },
    {
     "name": "stderr",
     "output_type": "stream",
     "text": [
      "[Parallel(n_jobs=10)]: Done 247 out of 247 | elapsed:    0.1s finished\n",
      "[Parallel(n_jobs=10)]: Using backend LokyBackend with 10 concurrent workers.\n",
      "[Parallel(n_jobs=10)]: Done   8 tasks      | elapsed:    0.0s\n",
      "[Parallel(n_jobs=10)]: Done 172 tasks      | elapsed:    0.0s\n",
      "[Parallel(n_jobs=10)]: Done 247 out of 247 | elapsed:    0.1s finished\n",
      "[Parallel(n_jobs=10)]: Using backend LokyBackend with 10 concurrent workers.\n",
      "[Parallel(n_jobs=10)]: Done   8 tasks      | elapsed:    0.0s\n",
      "[Parallel(n_jobs=10)]: Done 172 tasks      | elapsed:    0.0s\n"
     ]
    },
    {
     "name": "stdout",
     "output_type": "stream",
     "text": [
      "Applying baseline correction (mode: zscore)\n",
      "NOTE: tfr_morlet() is a legacy function. New code should use .compute_tfr(method=\"morlet\").\n",
      "Applying baseline correction (mode: zscore)\n",
      "NOTE: tfr_morlet() is a legacy function. New code should use .compute_tfr(method=\"morlet\").\n"
     ]
    },
    {
     "name": "stderr",
     "output_type": "stream",
     "text": [
      "[Parallel(n_jobs=10)]: Done 247 out of 247 | elapsed:    0.1s finished\n",
      "[Parallel(n_jobs=10)]: Using backend LokyBackend with 10 concurrent workers.\n",
      "[Parallel(n_jobs=10)]: Done   8 tasks      | elapsed:    0.0s\n",
      "[Parallel(n_jobs=10)]: Done 172 tasks      | elapsed:    0.0s\n",
      "[Parallel(n_jobs=10)]: Done 247 out of 247 | elapsed:    0.1s finished\n",
      "[Parallel(n_jobs=10)]: Using backend LokyBackend with 10 concurrent workers.\n",
      "[Parallel(n_jobs=10)]: Done   8 tasks      | elapsed:    0.0s\n",
      "[Parallel(n_jobs=10)]: Done 172 tasks      | elapsed:    0.0s\n"
     ]
    },
    {
     "name": "stdout",
     "output_type": "stream",
     "text": [
      "Applying baseline correction (mode: zscore)\n",
      "NOTE: tfr_morlet() is a legacy function. New code should use .compute_tfr(method=\"morlet\").\n",
      "Applying baseline correction (mode: zscore)\n",
      "NOTE: tfr_morlet() is a legacy function. New code should use .compute_tfr(method=\"morlet\").\n"
     ]
    },
    {
     "name": "stderr",
     "output_type": "stream",
     "text": [
      "[Parallel(n_jobs=10)]: Done 247 out of 247 | elapsed:    0.1s finished\n",
      "[Parallel(n_jobs=10)]: Using backend LokyBackend with 10 concurrent workers.\n",
      "[Parallel(n_jobs=10)]: Done   8 tasks      | elapsed:    0.0s\n",
      "[Parallel(n_jobs=10)]: Done 172 tasks      | elapsed:    0.0s\n",
      "[Parallel(n_jobs=10)]: Done 247 out of 247 | elapsed:    0.1s finished\n",
      "[Parallel(n_jobs=10)]: Using backend LokyBackend with 10 concurrent workers.\n",
      "[Parallel(n_jobs=10)]: Done   8 tasks      | elapsed:    0.0s\n",
      "[Parallel(n_jobs=10)]: Done 172 tasks      | elapsed:    0.0s\n"
     ]
    },
    {
     "name": "stdout",
     "output_type": "stream",
     "text": [
      "Applying baseline correction (mode: zscore)\n",
      "NOTE: tfr_morlet() is a legacy function. New code should use .compute_tfr(method=\"morlet\").\n",
      "Applying baseline correction (mode: zscore)\n",
      "NOTE: tfr_morlet() is a legacy function. New code should use .compute_tfr(method=\"morlet\").\n"
     ]
    },
    {
     "name": "stderr",
     "output_type": "stream",
     "text": [
      "[Parallel(n_jobs=10)]: Done 247 out of 247 | elapsed:    0.1s finished\n",
      "[Parallel(n_jobs=10)]: Using backend LokyBackend with 10 concurrent workers.\n",
      "[Parallel(n_jobs=10)]: Done   8 tasks      | elapsed:    0.0s\n",
      "[Parallel(n_jobs=10)]: Done 172 tasks      | elapsed:    0.0s\n",
      "[Parallel(n_jobs=10)]: Done 247 out of 247 | elapsed:    0.1s finished\n",
      "[Parallel(n_jobs=10)]: Using backend LokyBackend with 10 concurrent workers.\n",
      "[Parallel(n_jobs=10)]: Done   8 tasks      | elapsed:    0.0s\n",
      "[Parallel(n_jobs=10)]: Done 172 tasks      | elapsed:    0.0s\n"
     ]
    },
    {
     "name": "stdout",
     "output_type": "stream",
     "text": [
      "Applying baseline correction (mode: zscore)\n",
      "NOTE: tfr_morlet() is a legacy function. New code should use .compute_tfr(method=\"morlet\").\n",
      "Applying baseline correction (mode: zscore)\n",
      "NOTE: tfr_morlet() is a legacy function. New code should use .compute_tfr(method=\"morlet\").\n"
     ]
    },
    {
     "name": "stderr",
     "output_type": "stream",
     "text": [
      "[Parallel(n_jobs=10)]: Done 247 out of 247 | elapsed:    0.1s finished\n",
      "[Parallel(n_jobs=10)]: Using backend LokyBackend with 10 concurrent workers.\n",
      "[Parallel(n_jobs=10)]: Done   8 tasks      | elapsed:    0.0s\n",
      "[Parallel(n_jobs=10)]: Done 172 tasks      | elapsed:    0.1s\n",
      "[Parallel(n_jobs=10)]: Done 247 out of 247 | elapsed:    0.1s finished\n",
      "[Parallel(n_jobs=10)]: Using backend LokyBackend with 10 concurrent workers.\n",
      "[Parallel(n_jobs=10)]: Done   8 tasks      | elapsed:    0.0s\n",
      "[Parallel(n_jobs=10)]: Done 172 tasks      | elapsed:    0.0s\n"
     ]
    },
    {
     "name": "stdout",
     "output_type": "stream",
     "text": [
      "Applying baseline correction (mode: zscore)\n",
      "NOTE: tfr_morlet() is a legacy function. New code should use .compute_tfr(method=\"morlet\").\n",
      "Applying baseline correction (mode: zscore)\n",
      "NOTE: tfr_morlet() is a legacy function. New code should use .compute_tfr(method=\"morlet\").\n"
     ]
    },
    {
     "name": "stderr",
     "output_type": "stream",
     "text": [
      "[Parallel(n_jobs=10)]: Done 247 out of 247 | elapsed:    0.1s finished\n",
      "[Parallel(n_jobs=10)]: Using backend LokyBackend with 10 concurrent workers.\n",
      "[Parallel(n_jobs=10)]: Done   8 tasks      | elapsed:    0.0s\n",
      "[Parallel(n_jobs=10)]: Done 172 tasks      | elapsed:    0.0s\n",
      "[Parallel(n_jobs=10)]: Done 247 out of 247 | elapsed:    0.1s finished\n",
      "[Parallel(n_jobs=10)]: Using backend LokyBackend with 10 concurrent workers.\n",
      "[Parallel(n_jobs=10)]: Done   8 tasks      | elapsed:    0.0s\n",
      "[Parallel(n_jobs=10)]: Done 172 tasks      | elapsed:    0.0s\n"
     ]
    },
    {
     "name": "stdout",
     "output_type": "stream",
     "text": [
      "Applying baseline correction (mode: zscore)\n",
      "NOTE: tfr_morlet() is a legacy function. New code should use .compute_tfr(method=\"morlet\").\n",
      "Applying baseline correction (mode: zscore)\n",
      "NOTE: tfr_morlet() is a legacy function. New code should use .compute_tfr(method=\"morlet\").\n"
     ]
    },
    {
     "name": "stderr",
     "output_type": "stream",
     "text": [
      "[Parallel(n_jobs=10)]: Done 247 out of 247 | elapsed:    0.1s finished\n",
      "[Parallel(n_jobs=10)]: Using backend LokyBackend with 10 concurrent workers.\n",
      "[Parallel(n_jobs=10)]: Done   8 tasks      | elapsed:    0.0s\n",
      "[Parallel(n_jobs=10)]: Done 172 tasks      | elapsed:    0.0s\n",
      "[Parallel(n_jobs=10)]: Done 247 out of 247 | elapsed:    0.1s finished\n",
      "[Parallel(n_jobs=10)]: Using backend LokyBackend with 10 concurrent workers.\n",
      "[Parallel(n_jobs=10)]: Done   8 tasks      | elapsed:    0.0s\n"
     ]
    },
    {
     "name": "stdout",
     "output_type": "stream",
     "text": [
      "Applying baseline correction (mode: zscore)\n",
      "NOTE: tfr_morlet() is a legacy function. New code should use .compute_tfr(method=\"morlet\").\n",
      "Applying baseline correction (mode: zscore)\n",
      "NOTE: tfr_morlet() is a legacy function. New code should use .compute_tfr(method=\"morlet\").\n"
     ]
    },
    {
     "name": "stderr",
     "output_type": "stream",
     "text": [
      "[Parallel(n_jobs=10)]: Done 172 tasks      | elapsed:    0.1s\n",
      "[Parallel(n_jobs=10)]: Done 247 out of 247 | elapsed:    0.1s finished\n",
      "[Parallel(n_jobs=10)]: Using backend LokyBackend with 10 concurrent workers.\n",
      "[Parallel(n_jobs=10)]: Done   8 tasks      | elapsed:    0.0s\n",
      "[Parallel(n_jobs=10)]: Done 172 tasks      | elapsed:    0.0s\n",
      "[Parallel(n_jobs=10)]: Done 247 out of 247 | elapsed:    0.1s finished\n",
      "[Parallel(n_jobs=10)]: Using backend LokyBackend with 10 concurrent workers.\n",
      "[Parallel(n_jobs=10)]: Done   8 tasks      | elapsed:    0.0s\n"
     ]
    },
    {
     "name": "stdout",
     "output_type": "stream",
     "text": [
      "Applying baseline correction (mode: zscore)\n",
      "NOTE: tfr_morlet() is a legacy function. New code should use .compute_tfr(method=\"morlet\").\n",
      "Applying baseline correction (mode: zscore)\n",
      "NOTE: tfr_morlet() is a legacy function. New code should use .compute_tfr(method=\"morlet\").\n"
     ]
    },
    {
     "name": "stderr",
     "output_type": "stream",
     "text": [
      "[Parallel(n_jobs=10)]: Done 172 tasks      | elapsed:    0.1s\n",
      "[Parallel(n_jobs=10)]: Done 247 out of 247 | elapsed:    0.1s finished\n",
      "[Parallel(n_jobs=10)]: Using backend LokyBackend with 10 concurrent workers.\n",
      "[Parallel(n_jobs=10)]: Done   8 tasks      | elapsed:    0.0s\n",
      "[Parallel(n_jobs=10)]: Done 172 tasks      | elapsed:    0.0s\n",
      "[Parallel(n_jobs=10)]: Done 247 out of 247 | elapsed:    0.1s finished\n",
      "[Parallel(n_jobs=10)]: Using backend LokyBackend with 10 concurrent workers.\n",
      "[Parallel(n_jobs=10)]: Done   8 tasks      | elapsed:    0.0s\n"
     ]
    },
    {
     "name": "stdout",
     "output_type": "stream",
     "text": [
      "Applying baseline correction (mode: zscore)\n",
      "NOTE: tfr_morlet() is a legacy function. New code should use .compute_tfr(method=\"morlet\").\n",
      "Applying baseline correction (mode: zscore)\n",
      "NOTE: tfr_morlet() is a legacy function. New code should use .compute_tfr(method=\"morlet\").\n"
     ]
    },
    {
     "name": "stderr",
     "output_type": "stream",
     "text": [
      "[Parallel(n_jobs=10)]: Done 172 tasks      | elapsed:    0.0s\n",
      "[Parallel(n_jobs=10)]: Done 247 out of 247 | elapsed:    0.1s finished\n",
      "[Parallel(n_jobs=10)]: Using backend LokyBackend with 10 concurrent workers.\n",
      "[Parallel(n_jobs=10)]: Done   8 tasks      | elapsed:    0.0s\n",
      "[Parallel(n_jobs=10)]: Done 172 tasks      | elapsed:    0.0s\n",
      "[Parallel(n_jobs=10)]: Done 247 out of 247 | elapsed:    0.1s finished\n",
      "[Parallel(n_jobs=10)]: Using backend LokyBackend with 10 concurrent workers.\n",
      "[Parallel(n_jobs=10)]: Done   8 tasks      | elapsed:    0.0s\n"
     ]
    },
    {
     "name": "stdout",
     "output_type": "stream",
     "text": [
      "Applying baseline correction (mode: zscore)\n",
      "NOTE: tfr_morlet() is a legacy function. New code should use .compute_tfr(method=\"morlet\").\n",
      "Applying baseline correction (mode: zscore)\n",
      "NOTE: tfr_morlet() is a legacy function. New code should use .compute_tfr(method=\"morlet\").\n"
     ]
    },
    {
     "name": "stderr",
     "output_type": "stream",
     "text": [
      "[Parallel(n_jobs=10)]: Done 172 tasks      | elapsed:    0.1s\n",
      "[Parallel(n_jobs=10)]: Done 247 out of 247 | elapsed:    0.1s finished\n",
      "[Parallel(n_jobs=10)]: Using backend LokyBackend with 10 concurrent workers.\n",
      "[Parallel(n_jobs=10)]: Done   8 tasks      | elapsed:    0.0s\n",
      "[Parallel(n_jobs=10)]: Done 172 tasks      | elapsed:    0.0s\n",
      "[Parallel(n_jobs=10)]: Done 247 out of 247 | elapsed:    0.1s finished\n",
      "[Parallel(n_jobs=10)]: Using backend LokyBackend with 10 concurrent workers.\n",
      "[Parallel(n_jobs=10)]: Done   8 tasks      | elapsed:    0.0s\n"
     ]
    },
    {
     "name": "stdout",
     "output_type": "stream",
     "text": [
      "Applying baseline correction (mode: zscore)\n",
      "NOTE: tfr_morlet() is a legacy function. New code should use .compute_tfr(method=\"morlet\").\n",
      "Applying baseline correction (mode: zscore)\n",
      "NOTE: tfr_morlet() is a legacy function. New code should use .compute_tfr(method=\"morlet\").\n"
     ]
    },
    {
     "name": "stderr",
     "output_type": "stream",
     "text": [
      "[Parallel(n_jobs=10)]: Done 172 tasks      | elapsed:    0.1s\n",
      "[Parallel(n_jobs=10)]: Done 247 out of 247 | elapsed:    0.1s finished\n",
      "[Parallel(n_jobs=10)]: Using backend LokyBackend with 10 concurrent workers.\n",
      "[Parallel(n_jobs=10)]: Done   8 tasks      | elapsed:    0.0s\n",
      "[Parallel(n_jobs=10)]: Done 172 tasks      | elapsed:    0.1s\n",
      "[Parallel(n_jobs=10)]: Done 247 out of 247 | elapsed:    0.1s finished\n",
      "[Parallel(n_jobs=10)]: Using backend LokyBackend with 10 concurrent workers.\n",
      "[Parallel(n_jobs=10)]: Done   8 tasks      | elapsed:    0.0s\n"
     ]
    },
    {
     "name": "stdout",
     "output_type": "stream",
     "text": [
      "Applying baseline correction (mode: zscore)\n",
      "NOTE: tfr_morlet() is a legacy function. New code should use .compute_tfr(method=\"morlet\").\n",
      "Applying baseline correction (mode: zscore)\n",
      "NOTE: tfr_morlet() is a legacy function. New code should use .compute_tfr(method=\"morlet\").\n"
     ]
    },
    {
     "name": "stderr",
     "output_type": "stream",
     "text": [
      "[Parallel(n_jobs=10)]: Done 172 tasks      | elapsed:    0.1s\n",
      "[Parallel(n_jobs=10)]: Done 247 out of 247 | elapsed:    0.1s finished\n",
      "[Parallel(n_jobs=10)]: Using backend LokyBackend with 10 concurrent workers.\n",
      "[Parallel(n_jobs=10)]: Done   8 tasks      | elapsed:    0.0s\n",
      "[Parallel(n_jobs=10)]: Done 172 tasks      | elapsed:    0.0s\n",
      "[Parallel(n_jobs=10)]: Done 247 out of 247 | elapsed:    0.1s finished\n",
      "[Parallel(n_jobs=10)]: Using backend LokyBackend with 10 concurrent workers.\n",
      "[Parallel(n_jobs=10)]: Done   8 tasks      | elapsed:    0.0s\n"
     ]
    },
    {
     "name": "stdout",
     "output_type": "stream",
     "text": [
      "Applying baseline correction (mode: zscore)\n",
      "NOTE: tfr_morlet() is a legacy function. New code should use .compute_tfr(method=\"morlet\").\n",
      "Applying baseline correction (mode: zscore)\n",
      "NOTE: tfr_morlet() is a legacy function. New code should use .compute_tfr(method=\"morlet\").\n"
     ]
    },
    {
     "name": "stderr",
     "output_type": "stream",
     "text": [
      "[Parallel(n_jobs=10)]: Done 172 tasks      | elapsed:    0.0s\n",
      "[Parallel(n_jobs=10)]: Done 247 out of 247 | elapsed:    0.1s finished\n",
      "[Parallel(n_jobs=10)]: Using backend LokyBackend with 10 concurrent workers.\n",
      "[Parallel(n_jobs=10)]: Done   8 tasks      | elapsed:    0.0s\n",
      "[Parallel(n_jobs=10)]: Done 172 tasks      | elapsed:    0.0s\n",
      "[Parallel(n_jobs=10)]: Done 247 out of 247 | elapsed:    0.1s finished\n",
      "[Parallel(n_jobs=10)]: Using backend LokyBackend with 10 concurrent workers.\n",
      "[Parallel(n_jobs=10)]: Done   8 tasks      | elapsed:    0.0s\n"
     ]
    },
    {
     "name": "stdout",
     "output_type": "stream",
     "text": [
      "Applying baseline correction (mode: zscore)\n",
      "NOTE: tfr_morlet() is a legacy function. New code should use .compute_tfr(method=\"morlet\").\n",
      "Applying baseline correction (mode: zscore)\n",
      "NOTE: tfr_morlet() is a legacy function. New code should use .compute_tfr(method=\"morlet\").\n"
     ]
    },
    {
     "name": "stderr",
     "output_type": "stream",
     "text": [
      "[Parallel(n_jobs=10)]: Done 172 tasks      | elapsed:    0.1s\n",
      "[Parallel(n_jobs=10)]: Done 247 out of 247 | elapsed:    0.1s finished\n",
      "[Parallel(n_jobs=10)]: Using backend LokyBackend with 10 concurrent workers.\n",
      "[Parallel(n_jobs=10)]: Done   8 tasks      | elapsed:    0.0s\n",
      "[Parallel(n_jobs=10)]: Done 172 tasks      | elapsed:    0.0s\n",
      "[Parallel(n_jobs=10)]: Done 247 out of 247 | elapsed:    0.1s finished\n",
      "[Parallel(n_jobs=10)]: Using backend LokyBackend with 10 concurrent workers.\n",
      "[Parallel(n_jobs=10)]: Done   8 tasks      | elapsed:    0.0s\n"
     ]
    },
    {
     "name": "stdout",
     "output_type": "stream",
     "text": [
      "Applying baseline correction (mode: zscore)\n",
      "NOTE: tfr_morlet() is a legacy function. New code should use .compute_tfr(method=\"morlet\").\n",
      "Applying baseline correction (mode: zscore)\n",
      "NOTE: tfr_morlet() is a legacy function. New code should use .compute_tfr(method=\"morlet\").\n"
     ]
    },
    {
     "name": "stderr",
     "output_type": "stream",
     "text": [
      "[Parallel(n_jobs=10)]: Done 172 tasks      | elapsed:    0.1s\n",
      "[Parallel(n_jobs=10)]: Done 247 out of 247 | elapsed:    0.1s finished\n",
      "[Parallel(n_jobs=10)]: Using backend LokyBackend with 10 concurrent workers.\n",
      "[Parallel(n_jobs=10)]: Done   8 tasks      | elapsed:    0.0s\n",
      "[Parallel(n_jobs=10)]: Done 172 tasks      | elapsed:    0.0s\n",
      "[Parallel(n_jobs=10)]: Done 247 out of 247 | elapsed:    0.1s finished\n",
      "[Parallel(n_jobs=10)]: Using backend LokyBackend with 10 concurrent workers.\n",
      "[Parallel(n_jobs=10)]: Done   8 tasks      | elapsed:    0.0s\n"
     ]
    },
    {
     "name": "stdout",
     "output_type": "stream",
     "text": [
      "Applying baseline correction (mode: zscore)\n",
      "NOTE: tfr_morlet() is a legacy function. New code should use .compute_tfr(method=\"morlet\").\n",
      "Applying baseline correction (mode: zscore)\n",
      "NOTE: tfr_morlet() is a legacy function. New code should use .compute_tfr(method=\"morlet\").\n"
     ]
    },
    {
     "name": "stderr",
     "output_type": "stream",
     "text": [
      "[Parallel(n_jobs=10)]: Done 172 tasks      | elapsed:    0.0s\n",
      "[Parallel(n_jobs=10)]: Done 247 out of 247 | elapsed:    0.1s finished\n",
      "[Parallel(n_jobs=10)]: Using backend LokyBackend with 10 concurrent workers.\n",
      "[Parallel(n_jobs=10)]: Done   8 tasks      | elapsed:    0.0s\n",
      "[Parallel(n_jobs=10)]: Done 172 tasks      | elapsed:    0.0s\n",
      "[Parallel(n_jobs=10)]: Done 247 out of 247 | elapsed:    0.1s finished\n"
     ]
    },
    {
     "name": "stdout",
     "output_type": "stream",
     "text": [
      "Applying baseline correction (mode: zscore)\n",
      "NOTE: tfr_morlet() is a legacy function. New code should use .compute_tfr(method=\"morlet\").\n"
     ]
    },
    {
     "name": "stderr",
     "output_type": "stream",
     "text": [
      "[Parallel(n_jobs=10)]: Using backend LokyBackend with 10 concurrent workers.\n",
      "[Parallel(n_jobs=10)]: Done   8 tasks      | elapsed:    0.0s\n",
      "[Parallel(n_jobs=10)]: Done 172 tasks      | elapsed:    0.1s\n",
      "[Parallel(n_jobs=10)]: Done 247 out of 247 | elapsed:    0.1s finished\n",
      "[Parallel(n_jobs=10)]: Using backend LokyBackend with 10 concurrent workers.\n",
      "[Parallel(n_jobs=10)]: Done   8 tasks      | elapsed:    0.0s\n",
      "[Parallel(n_jobs=10)]: Done 172 tasks      | elapsed:    0.0s\n"
     ]
    },
    {
     "name": "stdout",
     "output_type": "stream",
     "text": [
      "Applying baseline correction (mode: zscore)\n",
      "NOTE: tfr_morlet() is a legacy function. New code should use .compute_tfr(method=\"morlet\").\n",
      "Applying baseline correction (mode: zscore)\n",
      "NOTE: tfr_morlet() is a legacy function. New code should use .compute_tfr(method=\"morlet\").\n"
     ]
    },
    {
     "name": "stderr",
     "output_type": "stream",
     "text": [
      "[Parallel(n_jobs=10)]: Done 247 out of 247 | elapsed:    0.1s finished\n",
      "[Parallel(n_jobs=10)]: Using backend LokyBackend with 10 concurrent workers.\n",
      "[Parallel(n_jobs=10)]: Done   8 tasks      | elapsed:    0.0s\n",
      "[Parallel(n_jobs=10)]: Done 172 tasks      | elapsed:    0.0s\n",
      "[Parallel(n_jobs=10)]: Done 247 out of 247 | elapsed:    0.1s finished\n",
      "[Parallel(n_jobs=10)]: Using backend LokyBackend with 10 concurrent workers.\n",
      "[Parallel(n_jobs=10)]: Done   8 tasks      | elapsed:    0.0s\n",
      "[Parallel(n_jobs=10)]: Done 172 tasks      | elapsed:    0.1s\n"
     ]
    },
    {
     "name": "stdout",
     "output_type": "stream",
     "text": [
      "Applying baseline correction (mode: zscore)\n",
      "NOTE: tfr_morlet() is a legacy function. New code should use .compute_tfr(method=\"morlet\").\n",
      "Applying baseline correction (mode: zscore)\n",
      "NOTE: tfr_morlet() is a legacy function. New code should use .compute_tfr(method=\"morlet\").\n"
     ]
    },
    {
     "name": "stderr",
     "output_type": "stream",
     "text": [
      "[Parallel(n_jobs=10)]: Done 247 out of 247 | elapsed:    0.1s finished\n",
      "[Parallel(n_jobs=10)]: Using backend LokyBackend with 10 concurrent workers.\n",
      "[Parallel(n_jobs=10)]: Done   8 tasks      | elapsed:    0.0s\n",
      "[Parallel(n_jobs=10)]: Done 172 tasks      | elapsed:    0.0s\n",
      "[Parallel(n_jobs=10)]: Done 247 out of 247 | elapsed:    0.1s finished\n",
      "[Parallel(n_jobs=10)]: Using backend LokyBackend with 10 concurrent workers.\n",
      "[Parallel(n_jobs=10)]: Done   8 tasks      | elapsed:    0.0s\n",
      "[Parallel(n_jobs=10)]: Done 172 tasks      | elapsed:    0.0s\n"
     ]
    },
    {
     "name": "stdout",
     "output_type": "stream",
     "text": [
      "Applying baseline correction (mode: zscore)\n",
      "NOTE: tfr_morlet() is a legacy function. New code should use .compute_tfr(method=\"morlet\").\n",
      "Applying baseline correction (mode: zscore)\n",
      "NOTE: tfr_morlet() is a legacy function. New code should use .compute_tfr(method=\"morlet\").\n"
     ]
    },
    {
     "name": "stderr",
     "output_type": "stream",
     "text": [
      "[Parallel(n_jobs=10)]: Done 247 out of 247 | elapsed:    0.1s finished\n",
      "[Parallel(n_jobs=10)]: Using backend LokyBackend with 10 concurrent workers.\n",
      "[Parallel(n_jobs=10)]: Done   8 tasks      | elapsed:    0.0s\n",
      "[Parallel(n_jobs=10)]: Done 172 tasks      | elapsed:    0.0s\n",
      "[Parallel(n_jobs=10)]: Done 247 out of 247 | elapsed:    0.1s finished\n",
      "[Parallel(n_jobs=10)]: Using backend LokyBackend with 10 concurrent workers.\n",
      "[Parallel(n_jobs=10)]: Done   8 tasks      | elapsed:    0.0s\n",
      "[Parallel(n_jobs=10)]: Done 172 tasks      | elapsed:    0.0s\n"
     ]
    },
    {
     "name": "stdout",
     "output_type": "stream",
     "text": [
      "Applying baseline correction (mode: zscore)\n",
      "NOTE: tfr_morlet() is a legacy function. New code should use .compute_tfr(method=\"morlet\").\n",
      "Applying baseline correction (mode: zscore)\n",
      "NOTE: tfr_morlet() is a legacy function. New code should use .compute_tfr(method=\"morlet\").\n"
     ]
    },
    {
     "name": "stderr",
     "output_type": "stream",
     "text": [
      "[Parallel(n_jobs=10)]: Done 247 out of 247 | elapsed:    0.1s finished\n",
      "[Parallel(n_jobs=10)]: Using backend LokyBackend with 10 concurrent workers.\n",
      "[Parallel(n_jobs=10)]: Done   8 tasks      | elapsed:    0.0s\n",
      "[Parallel(n_jobs=10)]: Done 172 tasks      | elapsed:    0.0s\n",
      "[Parallel(n_jobs=10)]: Done 247 out of 247 | elapsed:    0.1s finished\n",
      "[Parallel(n_jobs=10)]: Using backend LokyBackend with 10 concurrent workers.\n",
      "[Parallel(n_jobs=10)]: Done   8 tasks      | elapsed:    0.0s\n",
      "[Parallel(n_jobs=10)]: Done 172 tasks      | elapsed:    0.0s\n"
     ]
    },
    {
     "name": "stdout",
     "output_type": "stream",
     "text": [
      "Applying baseline correction (mode: zscore)\n",
      "NOTE: tfr_morlet() is a legacy function. New code should use .compute_tfr(method=\"morlet\").\n",
      "Applying baseline correction (mode: zscore)\n",
      "NOTE: tfr_morlet() is a legacy function. New code should use .compute_tfr(method=\"morlet\").\n"
     ]
    },
    {
     "name": "stderr",
     "output_type": "stream",
     "text": [
      "[Parallel(n_jobs=10)]: Done 247 out of 247 | elapsed:    0.1s finished\n",
      "[Parallel(n_jobs=10)]: Using backend LokyBackend with 10 concurrent workers.\n",
      "[Parallel(n_jobs=10)]: Done   8 tasks      | elapsed:    0.0s\n",
      "[Parallel(n_jobs=10)]: Done 172 tasks      | elapsed:    0.0s\n",
      "[Parallel(n_jobs=10)]: Done 247 out of 247 | elapsed:    0.1s finished\n",
      "[Parallel(n_jobs=10)]: Using backend LokyBackend with 10 concurrent workers.\n",
      "[Parallel(n_jobs=10)]: Done   8 tasks      | elapsed:    0.0s\n",
      "[Parallel(n_jobs=10)]: Done 172 tasks      | elapsed:    0.0s\n"
     ]
    },
    {
     "name": "stdout",
     "output_type": "stream",
     "text": [
      "Applying baseline correction (mode: zscore)\n",
      "NOTE: tfr_morlet() is a legacy function. New code should use .compute_tfr(method=\"morlet\").\n",
      "Applying baseline correction (mode: zscore)\n",
      "NOTE: tfr_morlet() is a legacy function. New code should use .compute_tfr(method=\"morlet\").\n"
     ]
    },
    {
     "name": "stderr",
     "output_type": "stream",
     "text": [
      "[Parallel(n_jobs=10)]: Done 247 out of 247 | elapsed:    0.1s finished\n",
      "[Parallel(n_jobs=10)]: Using backend LokyBackend with 10 concurrent workers.\n",
      "[Parallel(n_jobs=10)]: Done   8 tasks      | elapsed:    0.0s\n",
      "[Parallel(n_jobs=10)]: Done 172 tasks      | elapsed:    0.0s\n",
      "[Parallel(n_jobs=10)]: Done 247 out of 247 | elapsed:    0.1s finished\n",
      "[Parallel(n_jobs=10)]: Using backend LokyBackend with 10 concurrent workers.\n",
      "[Parallel(n_jobs=10)]: Done   8 tasks      | elapsed:    0.0s\n",
      "[Parallel(n_jobs=10)]: Done 172 tasks      | elapsed:    0.0s\n"
     ]
    },
    {
     "name": "stdout",
     "output_type": "stream",
     "text": [
      "Applying baseline correction (mode: zscore)\n",
      "NOTE: tfr_morlet() is a legacy function. New code should use .compute_tfr(method=\"morlet\").\n",
      "Applying baseline correction (mode: zscore)\n",
      "NOTE: tfr_morlet() is a legacy function. New code should use .compute_tfr(method=\"morlet\").\n"
     ]
    },
    {
     "name": "stderr",
     "output_type": "stream",
     "text": [
      "[Parallel(n_jobs=10)]: Done 247 out of 247 | elapsed:    0.1s finished\n",
      "[Parallel(n_jobs=10)]: Using backend LokyBackend with 10 concurrent workers.\n",
      "[Parallel(n_jobs=10)]: Done   8 tasks      | elapsed:    0.0s\n",
      "[Parallel(n_jobs=10)]: Done 172 tasks      | elapsed:    0.0s\n",
      "[Parallel(n_jobs=10)]: Done 247 out of 247 | elapsed:    0.1s finished\n",
      "[Parallel(n_jobs=10)]: Using backend LokyBackend with 10 concurrent workers.\n",
      "[Parallel(n_jobs=10)]: Done   8 tasks      | elapsed:    0.0s\n",
      "[Parallel(n_jobs=10)]: Done 172 tasks      | elapsed:    0.0s\n"
     ]
    },
    {
     "name": "stdout",
     "output_type": "stream",
     "text": [
      "Applying baseline correction (mode: zscore)\n",
      "NOTE: tfr_morlet() is a legacy function. New code should use .compute_tfr(method=\"morlet\").\n",
      "Applying baseline correction (mode: zscore)\n",
      "NOTE: tfr_morlet() is a legacy function. New code should use .compute_tfr(method=\"morlet\").\n"
     ]
    },
    {
     "name": "stderr",
     "output_type": "stream",
     "text": [
      "[Parallel(n_jobs=10)]: Done 247 out of 247 | elapsed:    0.1s finished\n",
      "[Parallel(n_jobs=10)]: Using backend LokyBackend with 10 concurrent workers.\n",
      "[Parallel(n_jobs=10)]: Done   8 tasks      | elapsed:    0.0s\n",
      "[Parallel(n_jobs=10)]: Done 172 tasks      | elapsed:    0.0s\n",
      "[Parallel(n_jobs=10)]: Done 247 out of 247 | elapsed:    0.1s finished\n",
      "[Parallel(n_jobs=10)]: Using backend LokyBackend with 10 concurrent workers.\n",
      "[Parallel(n_jobs=10)]: Done   8 tasks      | elapsed:    0.0s\n",
      "[Parallel(n_jobs=10)]: Done 172 tasks      | elapsed:    0.0s\n"
     ]
    },
    {
     "name": "stdout",
     "output_type": "stream",
     "text": [
      "Applying baseline correction (mode: zscore)\n",
      "NOTE: tfr_morlet() is a legacy function. New code should use .compute_tfr(method=\"morlet\").\n",
      "Applying baseline correction (mode: zscore)\n",
      "NOTE: tfr_morlet() is a legacy function. New code should use .compute_tfr(method=\"morlet\").\n"
     ]
    },
    {
     "name": "stderr",
     "output_type": "stream",
     "text": [
      "[Parallel(n_jobs=10)]: Done 247 out of 247 | elapsed:    0.1s finished\n",
      "[Parallel(n_jobs=10)]: Using backend LokyBackend with 10 concurrent workers.\n",
      "[Parallel(n_jobs=10)]: Done   8 tasks      | elapsed:    0.0s\n",
      "[Parallel(n_jobs=10)]: Done 172 tasks      | elapsed:    0.0s\n",
      "[Parallel(n_jobs=10)]: Done 247 out of 247 | elapsed:    0.1s finished\n",
      "[Parallel(n_jobs=10)]: Using backend LokyBackend with 10 concurrent workers.\n",
      "[Parallel(n_jobs=10)]: Done   8 tasks      | elapsed:    0.0s\n",
      "[Parallel(n_jobs=10)]: Done 172 tasks      | elapsed:    0.0s\n"
     ]
    },
    {
     "name": "stdout",
     "output_type": "stream",
     "text": [
      "Applying baseline correction (mode: zscore)\n",
      "NOTE: tfr_morlet() is a legacy function. New code should use .compute_tfr(method=\"morlet\").\n",
      "Applying baseline correction (mode: zscore)\n"
     ]
    },
    {
     "name": "stderr",
     "output_type": "stream",
     "text": [
      "[Parallel(n_jobs=10)]: Done 247 out of 247 | elapsed:    0.1s finished\n",
      "[Parallel(n_jobs=10)]: Using backend LokyBackend with 10 concurrent workers.\n",
      "[Parallel(n_jobs=10)]: Done   8 tasks      | elapsed:    0.0s\n",
      "[Parallel(n_jobs=10)]: Done 172 tasks      | elapsed:    0.1s\n",
      "[Parallel(n_jobs=10)]: Done 247 out of 247 | elapsed:    0.1s finished\n"
     ]
    },
    {
     "name": "stdout",
     "output_type": "stream",
     "text": [
      "NOTE: tfr_morlet() is a legacy function. New code should use .compute_tfr(method=\"morlet\").\n",
      "Applying baseline correction (mode: zscore)\n",
      "NOTE: tfr_morlet() is a legacy function. New code should use .compute_tfr(method=\"morlet\").\n"
     ]
    },
    {
     "name": "stderr",
     "output_type": "stream",
     "text": [
      "[Parallel(n_jobs=10)]: Using backend LokyBackend with 10 concurrent workers.\n",
      "[Parallel(n_jobs=10)]: Done   8 tasks      | elapsed:    0.1s\n",
      "[Parallel(n_jobs=10)]: Done 172 tasks      | elapsed:    0.1s\n",
      "[Parallel(n_jobs=10)]: Done 247 out of 247 | elapsed:    0.2s finished\n",
      "[Parallel(n_jobs=10)]: Using backend LokyBackend with 10 concurrent workers.\n",
      "[Parallel(n_jobs=10)]: Done   8 tasks      | elapsed:    0.0s\n"
     ]
    },
    {
     "name": "stdout",
     "output_type": "stream",
     "text": [
      "Applying baseline correction (mode: zscore)\n",
      "NOTE: tfr_morlet() is a legacy function. New code should use .compute_tfr(method=\"morlet\").\n",
      "Applying baseline correction (mode: zscore)\n",
      "NOTE: tfr_morlet() is a legacy function. New code should use .compute_tfr(method=\"morlet\").\n"
     ]
    },
    {
     "name": "stderr",
     "output_type": "stream",
     "text": [
      "[Parallel(n_jobs=10)]: Done 172 tasks      | elapsed:    0.0s\n",
      "[Parallel(n_jobs=10)]: Done 247 out of 247 | elapsed:    0.1s finished\n",
      "[Parallel(n_jobs=10)]: Using backend LokyBackend with 10 concurrent workers.\n",
      "[Parallel(n_jobs=10)]: Done   8 tasks      | elapsed:    0.0s\n",
      "[Parallel(n_jobs=10)]: Done 172 tasks      | elapsed:    0.0s\n",
      "[Parallel(n_jobs=10)]: Done 247 out of 247 | elapsed:    0.1s finished\n",
      "[Parallel(n_jobs=10)]: Using backend LokyBackend with 10 concurrent workers.\n",
      "[Parallel(n_jobs=10)]: Done   8 tasks      | elapsed:    0.0s\n"
     ]
    },
    {
     "name": "stdout",
     "output_type": "stream",
     "text": [
      "Applying baseline correction (mode: zscore)\n",
      "NOTE: tfr_morlet() is a legacy function. New code should use .compute_tfr(method=\"morlet\").\n",
      "Applying baseline correction (mode: zscore)\n",
      "NOTE: tfr_morlet() is a legacy function. New code should use .compute_tfr(method=\"morlet\").\n"
     ]
    },
    {
     "name": "stderr",
     "output_type": "stream",
     "text": [
      "[Parallel(n_jobs=10)]: Done 172 tasks      | elapsed:    0.0s\n",
      "[Parallel(n_jobs=10)]: Done 247 out of 247 | elapsed:    0.1s finished\n",
      "[Parallel(n_jobs=10)]: Using backend LokyBackend with 10 concurrent workers.\n",
      "[Parallel(n_jobs=10)]: Done   8 tasks      | elapsed:    0.0s\n",
      "[Parallel(n_jobs=10)]: Done 172 tasks      | elapsed:    0.1s\n",
      "[Parallel(n_jobs=10)]: Done 247 out of 247 | elapsed:    0.1s finished\n",
      "[Parallel(n_jobs=10)]: Using backend LokyBackend with 10 concurrent workers.\n",
      "[Parallel(n_jobs=10)]: Done   8 tasks      | elapsed:    0.0s\n"
     ]
    },
    {
     "name": "stdout",
     "output_type": "stream",
     "text": [
      "Applying baseline correction (mode: zscore)\n",
      "NOTE: tfr_morlet() is a legacy function. New code should use .compute_tfr(method=\"morlet\").\n",
      "Applying baseline correction (mode: zscore)\n",
      "NOTE: tfr_morlet() is a legacy function. New code should use .compute_tfr(method=\"morlet\").\n"
     ]
    },
    {
     "name": "stderr",
     "output_type": "stream",
     "text": [
      "[Parallel(n_jobs=10)]: Done 172 tasks      | elapsed:    0.1s\n",
      "[Parallel(n_jobs=10)]: Done 247 out of 247 | elapsed:    0.1s finished\n",
      "[Parallel(n_jobs=10)]: Using backend LokyBackend with 10 concurrent workers.\n",
      "[Parallel(n_jobs=10)]: Done   8 tasks      | elapsed:    0.0s\n",
      "[Parallel(n_jobs=10)]: Done 172 tasks      | elapsed:    0.0s\n",
      "[Parallel(n_jobs=10)]: Done 247 out of 247 | elapsed:    0.1s finished\n",
      "[Parallel(n_jobs=10)]: Using backend LokyBackend with 10 concurrent workers.\n",
      "[Parallel(n_jobs=10)]: Done   8 tasks      | elapsed:    0.0s\n"
     ]
    },
    {
     "name": "stdout",
     "output_type": "stream",
     "text": [
      "Applying baseline correction (mode: zscore)\n",
      "NOTE: tfr_morlet() is a legacy function. New code should use .compute_tfr(method=\"morlet\").\n",
      "Applying baseline correction (mode: zscore)\n",
      "NOTE: tfr_morlet() is a legacy function. New code should use .compute_tfr(method=\"morlet\").\n"
     ]
    },
    {
     "name": "stderr",
     "output_type": "stream",
     "text": [
      "[Parallel(n_jobs=10)]: Done 172 tasks      | elapsed:    0.0s\n",
      "[Parallel(n_jobs=10)]: Done 247 out of 247 | elapsed:    0.1s finished\n",
      "[Parallel(n_jobs=10)]: Using backend LokyBackend with 10 concurrent workers.\n",
      "[Parallel(n_jobs=10)]: Done   8 tasks      | elapsed:    0.0s\n",
      "[Parallel(n_jobs=10)]: Done 172 tasks      | elapsed:    0.0s\n",
      "[Parallel(n_jobs=10)]: Done 247 out of 247 | elapsed:    0.1s finished\n",
      "[Parallel(n_jobs=10)]: Using backend LokyBackend with 10 concurrent workers.\n",
      "[Parallel(n_jobs=10)]: Done   8 tasks      | elapsed:    0.0s\n"
     ]
    },
    {
     "name": "stdout",
     "output_type": "stream",
     "text": [
      "Applying baseline correction (mode: zscore)\n",
      "NOTE: tfr_morlet() is a legacy function. New code should use .compute_tfr(method=\"morlet\").\n",
      "Applying baseline correction (mode: zscore)\n",
      "NOTE: tfr_morlet() is a legacy function. New code should use .compute_tfr(method=\"morlet\").\n"
     ]
    },
    {
     "name": "stderr",
     "output_type": "stream",
     "text": [
      "[Parallel(n_jobs=10)]: Done 172 tasks      | elapsed:    0.0s\n",
      "[Parallel(n_jobs=10)]: Done 247 out of 247 | elapsed:    0.1s finished\n",
      "[Parallel(n_jobs=10)]: Using backend LokyBackend with 10 concurrent workers.\n",
      "[Parallel(n_jobs=10)]: Done   8 tasks      | elapsed:    0.0s\n",
      "[Parallel(n_jobs=10)]: Done 172 tasks      | elapsed:    0.0s\n",
      "[Parallel(n_jobs=10)]: Done 247 out of 247 | elapsed:    0.1s finished\n",
      "[Parallel(n_jobs=10)]: Using backend LokyBackend with 10 concurrent workers.\n",
      "[Parallel(n_jobs=10)]: Done   8 tasks      | elapsed:    0.0s\n"
     ]
    },
    {
     "name": "stdout",
     "output_type": "stream",
     "text": [
      "Applying baseline correction (mode: zscore)\n",
      "NOTE: tfr_morlet() is a legacy function. New code should use .compute_tfr(method=\"morlet\").\n",
      "Applying baseline correction (mode: zscore)\n",
      "NOTE: tfr_morlet() is a legacy function. New code should use .compute_tfr(method=\"morlet\").\n"
     ]
    },
    {
     "name": "stderr",
     "output_type": "stream",
     "text": [
      "[Parallel(n_jobs=10)]: Done 172 tasks      | elapsed:    0.1s\n",
      "[Parallel(n_jobs=10)]: Done 247 out of 247 | elapsed:    0.1s finished\n",
      "[Parallel(n_jobs=10)]: Using backend LokyBackend with 10 concurrent workers.\n",
      "[Parallel(n_jobs=10)]: Done   8 tasks      | elapsed:    0.0s\n",
      "[Parallel(n_jobs=10)]: Done 172 tasks      | elapsed:    0.0s\n",
      "[Parallel(n_jobs=10)]: Done 247 out of 247 | elapsed:    0.1s finished\n",
      "[Parallel(n_jobs=10)]: Using backend LokyBackend with 10 concurrent workers.\n",
      "[Parallel(n_jobs=10)]: Done   8 tasks      | elapsed:    0.0s\n"
     ]
    },
    {
     "name": "stdout",
     "output_type": "stream",
     "text": [
      "Applying baseline correction (mode: zscore)\n",
      "NOTE: tfr_morlet() is a legacy function. New code should use .compute_tfr(method=\"morlet\").\n",
      "Applying baseline correction (mode: zscore)\n",
      "NOTE: tfr_morlet() is a legacy function. New code should use .compute_tfr(method=\"morlet\").\n"
     ]
    },
    {
     "name": "stderr",
     "output_type": "stream",
     "text": [
      "[Parallel(n_jobs=10)]: Done 172 tasks      | elapsed:    0.0s\n",
      "[Parallel(n_jobs=10)]: Done 247 out of 247 | elapsed:    0.1s finished\n",
      "[Parallel(n_jobs=10)]: Using backend LokyBackend with 10 concurrent workers.\n",
      "[Parallel(n_jobs=10)]: Done   8 tasks      | elapsed:    0.0s\n",
      "[Parallel(n_jobs=10)]: Done 172 tasks      | elapsed:    0.0s\n",
      "[Parallel(n_jobs=10)]: Done 247 out of 247 | elapsed:    0.1s finished\n",
      "[Parallel(n_jobs=10)]: Using backend LokyBackend with 10 concurrent workers.\n",
      "[Parallel(n_jobs=10)]: Done   8 tasks      | elapsed:    0.0s\n"
     ]
    },
    {
     "name": "stdout",
     "output_type": "stream",
     "text": [
      "Applying baseline correction (mode: zscore)\n",
      "NOTE: tfr_morlet() is a legacy function. New code should use .compute_tfr(method=\"morlet\").\n",
      "Applying baseline correction (mode: zscore)\n",
      "NOTE: tfr_morlet() is a legacy function. New code should use .compute_tfr(method=\"morlet\").\n"
     ]
    },
    {
     "name": "stderr",
     "output_type": "stream",
     "text": [
      "[Parallel(n_jobs=10)]: Done 172 tasks      | elapsed:    0.0s\n",
      "[Parallel(n_jobs=10)]: Done 247 out of 247 | elapsed:    0.1s finished\n",
      "[Parallel(n_jobs=10)]: Using backend LokyBackend with 10 concurrent workers.\n",
      "[Parallel(n_jobs=10)]: Done   8 tasks      | elapsed:    0.0s\n",
      "[Parallel(n_jobs=10)]: Done 172 tasks      | elapsed:    0.0s\n",
      "[Parallel(n_jobs=10)]: Done 247 out of 247 | elapsed:    0.1s finished\n",
      "[Parallel(n_jobs=10)]: Using backend LokyBackend with 10 concurrent workers.\n",
      "[Parallel(n_jobs=10)]: Done   8 tasks      | elapsed:    0.0s\n"
     ]
    },
    {
     "name": "stdout",
     "output_type": "stream",
     "text": [
      "Applying baseline correction (mode: zscore)\n",
      "NOTE: tfr_morlet() is a legacy function. New code should use .compute_tfr(method=\"morlet\").\n",
      "Applying baseline correction (mode: zscore)\n",
      "NOTE: tfr_morlet() is a legacy function. New code should use .compute_tfr(method=\"morlet\").\n"
     ]
    },
    {
     "name": "stderr",
     "output_type": "stream",
     "text": [
      "[Parallel(n_jobs=10)]: Done 172 tasks      | elapsed:    0.0s\n",
      "[Parallel(n_jobs=10)]: Done 247 out of 247 | elapsed:    0.1s finished\n",
      "[Parallel(n_jobs=10)]: Using backend LokyBackend with 10 concurrent workers.\n",
      "[Parallel(n_jobs=10)]: Done   8 tasks      | elapsed:    0.0s\n",
      "[Parallel(n_jobs=10)]: Done 172 tasks      | elapsed:    0.0s\n",
      "[Parallel(n_jobs=10)]: Done 247 out of 247 | elapsed:    0.1s finished\n",
      "[Parallel(n_jobs=10)]: Using backend LokyBackend with 10 concurrent workers.\n",
      "[Parallel(n_jobs=10)]: Done   8 tasks      | elapsed:    0.0s\n"
     ]
    },
    {
     "name": "stdout",
     "output_type": "stream",
     "text": [
      "Applying baseline correction (mode: zscore)\n",
      "NOTE: tfr_morlet() is a legacy function. New code should use .compute_tfr(method=\"morlet\").\n",
      "Applying baseline correction (mode: zscore)\n",
      "NOTE: tfr_morlet() is a legacy function. New code should use .compute_tfr(method=\"morlet\").\n"
     ]
    },
    {
     "name": "stderr",
     "output_type": "stream",
     "text": [
      "[Parallel(n_jobs=10)]: Done 172 tasks      | elapsed:    0.1s\n",
      "[Parallel(n_jobs=10)]: Done 247 out of 247 | elapsed:    0.1s finished\n",
      "[Parallel(n_jobs=10)]: Using backend LokyBackend with 10 concurrent workers.\n",
      "[Parallel(n_jobs=10)]: Done   8 tasks      | elapsed:    0.0s\n",
      "[Parallel(n_jobs=10)]: Done 172 tasks      | elapsed:    0.1s\n",
      "[Parallel(n_jobs=10)]: Done 247 out of 247 | elapsed:    0.1s finished\n",
      "[Parallel(n_jobs=10)]: Using backend LokyBackend with 10 concurrent workers.\n",
      "[Parallel(n_jobs=10)]: Done   8 tasks      | elapsed:    0.0s\n"
     ]
    },
    {
     "name": "stdout",
     "output_type": "stream",
     "text": [
      "Applying baseline correction (mode: zscore)\n",
      "NOTE: tfr_morlet() is a legacy function. New code should use .compute_tfr(method=\"morlet\").\n"
     ]
    },
    {
     "name": "stderr",
     "output_type": "stream",
     "text": [
      "[Parallel(n_jobs=10)]: Done 172 tasks      | elapsed:    0.0s\n",
      "[Parallel(n_jobs=10)]: Done 247 out of 247 | elapsed:    0.1s finished\n",
      "[Parallel(n_jobs=10)]: Using backend LokyBackend with 10 concurrent workers.\n",
      "[Parallel(n_jobs=10)]: Done   8 tasks      | elapsed:    0.0s\n",
      "[Parallel(n_jobs=10)]: Done 172 tasks      | elapsed:    0.1s\n"
     ]
    },
    {
     "name": "stdout",
     "output_type": "stream",
     "text": [
      "Applying baseline correction (mode: zscore)\n",
      "NOTE: tfr_morlet() is a legacy function. New code should use .compute_tfr(method=\"morlet\").\n",
      "Applying baseline correction (mode: zscore)\n",
      "NOTE: tfr_morlet() is a legacy function. New code should use .compute_tfr(method=\"morlet\").\n"
     ]
    },
    {
     "name": "stderr",
     "output_type": "stream",
     "text": [
      "[Parallel(n_jobs=10)]: Done 247 out of 247 | elapsed:    0.1s finished\n",
      "[Parallel(n_jobs=10)]: Using backend LokyBackend with 10 concurrent workers.\n",
      "[Parallel(n_jobs=10)]: Done   8 tasks      | elapsed:    0.0s\n",
      "[Parallel(n_jobs=10)]: Done 172 tasks      | elapsed:    0.0s\n",
      "[Parallel(n_jobs=10)]: Done 247 out of 247 | elapsed:    0.1s finished\n",
      "[Parallel(n_jobs=10)]: Using backend LokyBackend with 10 concurrent workers.\n",
      "[Parallel(n_jobs=10)]: Done   8 tasks      | elapsed:    0.0s\n",
      "[Parallel(n_jobs=10)]: Done 172 tasks      | elapsed:    0.0s\n"
     ]
    },
    {
     "name": "stdout",
     "output_type": "stream",
     "text": [
      "Applying baseline correction (mode: zscore)\n",
      "NOTE: tfr_morlet() is a legacy function. New code should use .compute_tfr(method=\"morlet\").\n",
      "Applying baseline correction (mode: zscore)\n",
      "NOTE: tfr_morlet() is a legacy function. New code should use .compute_tfr(method=\"morlet\").\n"
     ]
    },
    {
     "name": "stderr",
     "output_type": "stream",
     "text": [
      "[Parallel(n_jobs=10)]: Done 247 out of 247 | elapsed:    0.1s finished\n",
      "[Parallel(n_jobs=10)]: Using backend LokyBackend with 10 concurrent workers.\n",
      "[Parallel(n_jobs=10)]: Done   8 tasks      | elapsed:    0.0s\n",
      "[Parallel(n_jobs=10)]: Done 172 tasks      | elapsed:    0.0s\n",
      "[Parallel(n_jobs=10)]: Done 247 out of 247 | elapsed:    0.1s finished\n",
      "[Parallel(n_jobs=10)]: Using backend LokyBackend with 10 concurrent workers.\n",
      "[Parallel(n_jobs=10)]: Done   8 tasks      | elapsed:    0.0s\n",
      "[Parallel(n_jobs=10)]: Done 172 tasks      | elapsed:    0.0s\n"
     ]
    },
    {
     "name": "stdout",
     "output_type": "stream",
     "text": [
      "Applying baseline correction (mode: zscore)\n",
      "NOTE: tfr_morlet() is a legacy function. New code should use .compute_tfr(method=\"morlet\").\n",
      "Applying baseline correction (mode: zscore)\n",
      "NOTE: tfr_morlet() is a legacy function. New code should use .compute_tfr(method=\"morlet\").\n"
     ]
    },
    {
     "name": "stderr",
     "output_type": "stream",
     "text": [
      "[Parallel(n_jobs=10)]: Done 247 out of 247 | elapsed:    0.1s finished\n",
      "[Parallel(n_jobs=10)]: Using backend LokyBackend with 10 concurrent workers.\n",
      "[Parallel(n_jobs=10)]: Done   8 tasks      | elapsed:    0.0s\n",
      "[Parallel(n_jobs=10)]: Done 172 tasks      | elapsed:    0.0s\n",
      "[Parallel(n_jobs=10)]: Done 247 out of 247 | elapsed:    0.1s finished\n",
      "[Parallel(n_jobs=10)]: Using backend LokyBackend with 10 concurrent workers.\n",
      "[Parallel(n_jobs=10)]: Done   8 tasks      | elapsed:    0.0s\n",
      "[Parallel(n_jobs=10)]: Done 172 tasks      | elapsed:    0.0s\n"
     ]
    },
    {
     "name": "stdout",
     "output_type": "stream",
     "text": [
      "Applying baseline correction (mode: zscore)\n",
      "NOTE: tfr_morlet() is a legacy function. New code should use .compute_tfr(method=\"morlet\").\n",
      "Applying baseline correction (mode: zscore)\n",
      "NOTE: tfr_morlet() is a legacy function. New code should use .compute_tfr(method=\"morlet\").\n"
     ]
    },
    {
     "name": "stderr",
     "output_type": "stream",
     "text": [
      "[Parallel(n_jobs=10)]: Done 247 out of 247 | elapsed:    0.1s finished\n",
      "[Parallel(n_jobs=10)]: Using backend LokyBackend with 10 concurrent workers.\n",
      "[Parallel(n_jobs=10)]: Done   8 tasks      | elapsed:    0.0s\n",
      "[Parallel(n_jobs=10)]: Done 172 tasks      | elapsed:    0.0s\n",
      "[Parallel(n_jobs=10)]: Done 247 out of 247 | elapsed:    0.1s finished\n",
      "[Parallel(n_jobs=10)]: Using backend LokyBackend with 10 concurrent workers.\n",
      "[Parallel(n_jobs=10)]: Done   8 tasks      | elapsed:    0.0s\n",
      "[Parallel(n_jobs=10)]: Done 172 tasks      | elapsed:    0.0s\n"
     ]
    },
    {
     "name": "stdout",
     "output_type": "stream",
     "text": [
      "Applying baseline correction (mode: zscore)\n",
      "NOTE: tfr_morlet() is a legacy function. New code should use .compute_tfr(method=\"morlet\").\n",
      "Applying baseline correction (mode: zscore)\n",
      "NOTE: tfr_morlet() is a legacy function. New code should use .compute_tfr(method=\"morlet\").\n"
     ]
    },
    {
     "name": "stderr",
     "output_type": "stream",
     "text": [
      "[Parallel(n_jobs=10)]: Done 247 out of 247 | elapsed:    0.1s finished\n",
      "[Parallel(n_jobs=10)]: Using backend LokyBackend with 10 concurrent workers.\n",
      "[Parallel(n_jobs=10)]: Done   8 tasks      | elapsed:    0.0s\n",
      "[Parallel(n_jobs=10)]: Done 172 tasks      | elapsed:    0.0s\n",
      "[Parallel(n_jobs=10)]: Done 247 out of 247 | elapsed:    0.1s finished\n",
      "[Parallel(n_jobs=10)]: Using backend LokyBackend with 10 concurrent workers.\n",
      "[Parallel(n_jobs=10)]: Done   8 tasks      | elapsed:    0.0s\n",
      "[Parallel(n_jobs=10)]: Done 172 tasks      | elapsed:    0.1s\n"
     ]
    },
    {
     "name": "stdout",
     "output_type": "stream",
     "text": [
      "Applying baseline correction (mode: zscore)\n",
      "NOTE: tfr_morlet() is a legacy function. New code should use .compute_tfr(method=\"morlet\").\n",
      "Applying baseline correction (mode: zscore)\n",
      "NOTE: tfr_morlet() is a legacy function. New code should use .compute_tfr(method=\"morlet\").\n"
     ]
    },
    {
     "name": "stderr",
     "output_type": "stream",
     "text": [
      "[Parallel(n_jobs=10)]: Done 247 out of 247 | elapsed:    0.1s finished\n",
      "[Parallel(n_jobs=10)]: Using backend LokyBackend with 10 concurrent workers.\n",
      "[Parallel(n_jobs=10)]: Done   8 tasks      | elapsed:    0.0s\n",
      "[Parallel(n_jobs=10)]: Done 172 tasks      | elapsed:    0.0s\n",
      "[Parallel(n_jobs=10)]: Done 247 out of 247 | elapsed:    0.1s finished\n",
      "[Parallel(n_jobs=10)]: Using backend LokyBackend with 10 concurrent workers.\n",
      "[Parallel(n_jobs=10)]: Done   8 tasks      | elapsed:    0.0s\n",
      "[Parallel(n_jobs=10)]: Done 172 tasks      | elapsed:    0.0s\n"
     ]
    },
    {
     "name": "stdout",
     "output_type": "stream",
     "text": [
      "Applying baseline correction (mode: zscore)\n",
      "NOTE: tfr_morlet() is a legacy function. New code should use .compute_tfr(method=\"morlet\").\n",
      "Applying baseline correction (mode: zscore)\n",
      "NOTE: tfr_morlet() is a legacy function. New code should use .compute_tfr(method=\"morlet\").\n"
     ]
    },
    {
     "name": "stderr",
     "output_type": "stream",
     "text": [
      "[Parallel(n_jobs=10)]: Done 247 out of 247 | elapsed:    0.1s finished\n",
      "[Parallel(n_jobs=10)]: Using backend LokyBackend with 10 concurrent workers.\n",
      "[Parallel(n_jobs=10)]: Done   8 tasks      | elapsed:    0.0s\n",
      "[Parallel(n_jobs=10)]: Done 172 tasks      | elapsed:    0.0s\n",
      "[Parallel(n_jobs=10)]: Done 247 out of 247 | elapsed:    0.1s finished\n",
      "[Parallel(n_jobs=10)]: Using backend LokyBackend with 10 concurrent workers.\n",
      "[Parallel(n_jobs=10)]: Done   8 tasks      | elapsed:    0.0s\n",
      "[Parallel(n_jobs=10)]: Done 172 tasks      | elapsed:    0.0s\n"
     ]
    },
    {
     "name": "stdout",
     "output_type": "stream",
     "text": [
      "Applying baseline correction (mode: zscore)\n",
      "NOTE: tfr_morlet() is a legacy function. New code should use .compute_tfr(method=\"morlet\").\n",
      "Applying baseline correction (mode: zscore)\n",
      "NOTE: tfr_morlet() is a legacy function. New code should use .compute_tfr(method=\"morlet\").\n"
     ]
    },
    {
     "name": "stderr",
     "output_type": "stream",
     "text": [
      "[Parallel(n_jobs=10)]: Done 247 out of 247 | elapsed:    0.1s finished\n",
      "[Parallel(n_jobs=10)]: Using backend LokyBackend with 10 concurrent workers.\n",
      "[Parallel(n_jobs=10)]: Done   8 tasks      | elapsed:    0.0s\n",
      "[Parallel(n_jobs=10)]: Done 172 tasks      | elapsed:    0.1s\n",
      "[Parallel(n_jobs=10)]: Done 247 out of 247 | elapsed:    0.1s finished\n",
      "[Parallel(n_jobs=10)]: Using backend LokyBackend with 10 concurrent workers.\n",
      "[Parallel(n_jobs=10)]: Done   8 tasks      | elapsed:    0.0s\n",
      "[Parallel(n_jobs=10)]: Done 172 tasks      | elapsed:    0.0s\n"
     ]
    },
    {
     "name": "stdout",
     "output_type": "stream",
     "text": [
      "Applying baseline correction (mode: zscore)\n",
      "NOTE: tfr_morlet() is a legacy function. New code should use .compute_tfr(method=\"morlet\").\n",
      "Applying baseline correction (mode: zscore)\n",
      "NOTE: tfr_morlet() is a legacy function. New code should use .compute_tfr(method=\"morlet\").\n"
     ]
    },
    {
     "name": "stderr",
     "output_type": "stream",
     "text": [
      "[Parallel(n_jobs=10)]: Done 247 out of 247 | elapsed:    0.1s finished\n",
      "[Parallel(n_jobs=10)]: Using backend LokyBackend with 10 concurrent workers.\n",
      "[Parallel(n_jobs=10)]: Done   8 tasks      | elapsed:    0.0s\n",
      "[Parallel(n_jobs=10)]: Done 172 tasks      | elapsed:    0.0s\n",
      "[Parallel(n_jobs=10)]: Done 247 out of 247 | elapsed:    0.1s finished\n",
      "[Parallel(n_jobs=10)]: Using backend LokyBackend with 10 concurrent workers.\n",
      "[Parallel(n_jobs=10)]: Done   8 tasks      | elapsed:    0.0s\n",
      "[Parallel(n_jobs=10)]: Done 172 tasks      | elapsed:    0.0s\n"
     ]
    },
    {
     "name": "stdout",
     "output_type": "stream",
     "text": [
      "Applying baseline correction (mode: zscore)\n",
      "NOTE: tfr_morlet() is a legacy function. New code should use .compute_tfr(method=\"morlet\").\n",
      "Applying baseline correction (mode: zscore)\n",
      "NOTE: tfr_morlet() is a legacy function. New code should use .compute_tfr(method=\"morlet\").\n"
     ]
    },
    {
     "name": "stderr",
     "output_type": "stream",
     "text": [
      "[Parallel(n_jobs=10)]: Done 247 out of 247 | elapsed:    0.1s finished\n",
      "[Parallel(n_jobs=10)]: Using backend LokyBackend with 10 concurrent workers.\n",
      "[Parallel(n_jobs=10)]: Done   8 tasks      | elapsed:    0.0s\n",
      "[Parallel(n_jobs=10)]: Done 172 tasks      | elapsed:    0.0s\n",
      "[Parallel(n_jobs=10)]: Done 247 out of 247 | elapsed:    0.1s finished\n",
      "[Parallel(n_jobs=10)]: Using backend LokyBackend with 10 concurrent workers.\n",
      "[Parallel(n_jobs=10)]: Done   8 tasks      | elapsed:    0.0s\n",
      "[Parallel(n_jobs=10)]: Done 172 tasks      | elapsed:    0.0s\n"
     ]
    },
    {
     "name": "stdout",
     "output_type": "stream",
     "text": [
      "Applying baseline correction (mode: zscore)\n",
      "NOTE: tfr_morlet() is a legacy function. New code should use .compute_tfr(method=\"morlet\").\n",
      "Applying baseline correction (mode: zscore)\n",
      "NOTE: tfr_morlet() is a legacy function. New code should use .compute_tfr(method=\"morlet\").\n"
     ]
    },
    {
     "name": "stderr",
     "output_type": "stream",
     "text": [
      "[Parallel(n_jobs=10)]: Done 247 out of 247 | elapsed:    0.1s finished\n",
      "[Parallel(n_jobs=10)]: Using backend LokyBackend with 10 concurrent workers.\n",
      "[Parallel(n_jobs=10)]: Done   8 tasks      | elapsed:    0.0s\n",
      "[Parallel(n_jobs=10)]: Done 172 tasks      | elapsed:    0.0s\n",
      "[Parallel(n_jobs=10)]: Done 247 out of 247 | elapsed:    0.1s finished\n",
      "[Parallel(n_jobs=10)]: Using backend LokyBackend with 10 concurrent workers.\n",
      "[Parallel(n_jobs=10)]: Done   8 tasks      | elapsed:    0.0s\n",
      "[Parallel(n_jobs=10)]: Done 172 tasks      | elapsed:    0.0s\n"
     ]
    },
    {
     "name": "stdout",
     "output_type": "stream",
     "text": [
      "Applying baseline correction (mode: zscore)\n",
      "NOTE: tfr_morlet() is a legacy function. New code should use .compute_tfr(method=\"morlet\").\n",
      "Applying baseline correction (mode: zscore)\n",
      "NOTE: tfr_morlet() is a legacy function. New code should use .compute_tfr(method=\"morlet\").\n"
     ]
    },
    {
     "name": "stderr",
     "output_type": "stream",
     "text": [
      "[Parallel(n_jobs=10)]: Done 247 out of 247 | elapsed:    0.1s finished\n",
      "[Parallel(n_jobs=10)]: Using backend LokyBackend with 10 concurrent workers.\n",
      "[Parallel(n_jobs=10)]: Done   8 tasks      | elapsed:    0.0s\n",
      "[Parallel(n_jobs=10)]: Done 172 tasks      | elapsed:    0.0s\n",
      "[Parallel(n_jobs=10)]: Done 247 out of 247 | elapsed:    0.1s finished\n",
      "[Parallel(n_jobs=10)]: Using backend LokyBackend with 10 concurrent workers.\n",
      "[Parallel(n_jobs=10)]: Done   8 tasks      | elapsed:    0.0s\n",
      "[Parallel(n_jobs=10)]: Done 172 tasks      | elapsed:    0.0s\n"
     ]
    },
    {
     "name": "stdout",
     "output_type": "stream",
     "text": [
      "Applying baseline correction (mode: zscore)\n",
      "NOTE: tfr_morlet() is a legacy function. New code should use .compute_tfr(method=\"morlet\").\n",
      "Applying baseline correction (mode: zscore)\n",
      "NOTE: tfr_morlet() is a legacy function. New code should use .compute_tfr(method=\"morlet\").\n"
     ]
    },
    {
     "name": "stderr",
     "output_type": "stream",
     "text": [
      "[Parallel(n_jobs=10)]: Done 247 out of 247 | elapsed:    0.1s finished\n",
      "[Parallel(n_jobs=10)]: Using backend LokyBackend with 10 concurrent workers.\n",
      "[Parallel(n_jobs=10)]: Done   8 tasks      | elapsed:    0.0s\n",
      "[Parallel(n_jobs=10)]: Done 172 tasks      | elapsed:    0.0s\n",
      "[Parallel(n_jobs=10)]: Done 247 out of 247 | elapsed:    0.1s finished\n",
      "[Parallel(n_jobs=10)]: Using backend LokyBackend with 10 concurrent workers.\n",
      "[Parallel(n_jobs=10)]: Done   8 tasks      | elapsed:    0.0s\n",
      "[Parallel(n_jobs=10)]: Done 172 tasks      | elapsed:    0.0s\n"
     ]
    },
    {
     "name": "stdout",
     "output_type": "stream",
     "text": [
      "Applying baseline correction (mode: zscore)\n",
      "NOTE: tfr_morlet() is a legacy function. New code should use .compute_tfr(method=\"morlet\").\n",
      "Applying baseline correction (mode: zscore)\n",
      "NOTE: tfr_morlet() is a legacy function. New code should use .compute_tfr(method=\"morlet\").\n"
     ]
    },
    {
     "name": "stderr",
     "output_type": "stream",
     "text": [
      "[Parallel(n_jobs=10)]: Done 247 out of 247 | elapsed:    0.1s finished\n",
      "[Parallel(n_jobs=10)]: Using backend LokyBackend with 10 concurrent workers.\n",
      "[Parallel(n_jobs=10)]: Done   8 tasks      | elapsed:    0.0s\n",
      "[Parallel(n_jobs=10)]: Done 172 tasks      | elapsed:    0.0s\n",
      "[Parallel(n_jobs=10)]: Done 247 out of 247 | elapsed:    0.1s finished\n",
      "[Parallel(n_jobs=10)]: Using backend LokyBackend with 10 concurrent workers.\n",
      "[Parallel(n_jobs=10)]: Done   8 tasks      | elapsed:    0.0s\n",
      "[Parallel(n_jobs=10)]: Done 172 tasks      | elapsed:    0.0s\n"
     ]
    },
    {
     "name": "stdout",
     "output_type": "stream",
     "text": [
      "Applying baseline correction (mode: zscore)\n",
      "NOTE: tfr_morlet() is a legacy function. New code should use .compute_tfr(method=\"morlet\").\n",
      "Applying baseline correction (mode: zscore)\n",
      "NOTE: tfr_morlet() is a legacy function. New code should use .compute_tfr(method=\"morlet\").\n"
     ]
    },
    {
     "name": "stderr",
     "output_type": "stream",
     "text": [
      "[Parallel(n_jobs=10)]: Done 247 out of 247 | elapsed:    0.1s finished\n",
      "[Parallel(n_jobs=10)]: Using backend LokyBackend with 10 concurrent workers.\n",
      "[Parallel(n_jobs=10)]: Done   8 tasks      | elapsed:    0.0s\n",
      "[Parallel(n_jobs=10)]: Done 172 tasks      | elapsed:    0.0s\n",
      "[Parallel(n_jobs=10)]: Done 247 out of 247 | elapsed:    0.1s finished\n",
      "[Parallel(n_jobs=10)]: Using backend LokyBackend with 10 concurrent workers.\n",
      "[Parallel(n_jobs=10)]: Done   8 tasks      | elapsed:    0.0s\n",
      "[Parallel(n_jobs=10)]: Done 172 tasks      | elapsed:    0.1s\n"
     ]
    },
    {
     "name": "stdout",
     "output_type": "stream",
     "text": [
      "Applying baseline correction (mode: zscore)\n",
      "NOTE: tfr_morlet() is a legacy function. New code should use .compute_tfr(method=\"morlet\").\n",
      "Applying baseline correction (mode: zscore)\n",
      "NOTE: tfr_morlet() is a legacy function. New code should use .compute_tfr(method=\"morlet\").\n"
     ]
    },
    {
     "name": "stderr",
     "output_type": "stream",
     "text": [
      "[Parallel(n_jobs=10)]: Done 247 out of 247 | elapsed:    0.1s finished\n",
      "[Parallel(n_jobs=10)]: Using backend LokyBackend with 10 concurrent workers.\n",
      "[Parallel(n_jobs=10)]: Done   8 tasks      | elapsed:    0.0s\n",
      "[Parallel(n_jobs=10)]: Done 172 tasks      | elapsed:    0.1s\n",
      "[Parallel(n_jobs=10)]: Done 247 out of 247 | elapsed:    0.1s finished\n",
      "[Parallel(n_jobs=10)]: Using backend LokyBackend with 10 concurrent workers.\n",
      "[Parallel(n_jobs=10)]: Done   8 tasks      | elapsed:    0.0s\n",
      "[Parallel(n_jobs=10)]: Done 172 tasks      | elapsed:    0.0s\n"
     ]
    },
    {
     "name": "stdout",
     "output_type": "stream",
     "text": [
      "Applying baseline correction (mode: zscore)\n",
      "NOTE: tfr_morlet() is a legacy function. New code should use .compute_tfr(method=\"morlet\").\n",
      "Applying baseline correction (mode: zscore)\n",
      "NOTE: tfr_morlet() is a legacy function. New code should use .compute_tfr(method=\"morlet\").\n"
     ]
    },
    {
     "name": "stderr",
     "output_type": "stream",
     "text": [
      "[Parallel(n_jobs=10)]: Done 247 out of 247 | elapsed:    0.1s finished\n",
      "[Parallel(n_jobs=10)]: Using backend LokyBackend with 10 concurrent workers.\n",
      "[Parallel(n_jobs=10)]: Done   8 tasks      | elapsed:    0.0s\n",
      "[Parallel(n_jobs=10)]: Done 172 tasks      | elapsed:    0.0s\n",
      "[Parallel(n_jobs=10)]: Done 247 out of 247 | elapsed:    0.1s finished\n",
      "[Parallel(n_jobs=10)]: Using backend LokyBackend with 10 concurrent workers.\n",
      "[Parallel(n_jobs=10)]: Done   8 tasks      | elapsed:    0.0s\n",
      "[Parallel(n_jobs=10)]: Done 172 tasks      | elapsed:    0.0s\n"
     ]
    },
    {
     "name": "stdout",
     "output_type": "stream",
     "text": [
      "Applying baseline correction (mode: zscore)\n",
      "NOTE: tfr_morlet() is a legacy function. New code should use .compute_tfr(method=\"morlet\").\n",
      "Applying baseline correction (mode: zscore)\n",
      "NOTE: tfr_morlet() is a legacy function. New code should use .compute_tfr(method=\"morlet\").\n"
     ]
    },
    {
     "name": "stderr",
     "output_type": "stream",
     "text": [
      "[Parallel(n_jobs=10)]: Done 247 out of 247 | elapsed:    0.1s finished\n",
      "[Parallel(n_jobs=10)]: Using backend LokyBackend with 10 concurrent workers.\n",
      "[Parallel(n_jobs=10)]: Done   8 tasks      | elapsed:    0.0s\n",
      "[Parallel(n_jobs=10)]: Done 172 tasks      | elapsed:    0.0s\n",
      "[Parallel(n_jobs=10)]: Done 247 out of 247 | elapsed:    0.1s finished\n",
      "[Parallel(n_jobs=10)]: Using backend LokyBackend with 10 concurrent workers.\n",
      "[Parallel(n_jobs=10)]: Done   8 tasks      | elapsed:    0.0s\n",
      "[Parallel(n_jobs=10)]: Done 172 tasks      | elapsed:    0.0s\n"
     ]
    },
    {
     "name": "stdout",
     "output_type": "stream",
     "text": [
      "Applying baseline correction (mode: zscore)\n",
      "NOTE: tfr_morlet() is a legacy function. New code should use .compute_tfr(method=\"morlet\").\n",
      "Applying baseline correction (mode: zscore)\n",
      "NOTE: tfr_morlet() is a legacy function. New code should use .compute_tfr(method=\"morlet\").\n"
     ]
    },
    {
     "name": "stderr",
     "output_type": "stream",
     "text": [
      "[Parallel(n_jobs=10)]: Done 247 out of 247 | elapsed:    0.1s finished\n",
      "[Parallel(n_jobs=10)]: Using backend LokyBackend with 10 concurrent workers.\n",
      "[Parallel(n_jobs=10)]: Done   8 tasks      | elapsed:    0.0s\n",
      "[Parallel(n_jobs=10)]: Done 172 tasks      | elapsed:    0.1s\n",
      "[Parallel(n_jobs=10)]: Done 247 out of 247 | elapsed:    0.1s finished\n",
      "[Parallel(n_jobs=10)]: Using backend LokyBackend with 10 concurrent workers.\n",
      "[Parallel(n_jobs=10)]: Done   8 tasks      | elapsed:    0.0s\n"
     ]
    },
    {
     "name": "stdout",
     "output_type": "stream",
     "text": [
      "Applying baseline correction (mode: zscore)\n",
      "NOTE: tfr_morlet() is a legacy function. New code should use .compute_tfr(method=\"morlet\").\n",
      "Applying baseline correction (mode: zscore)\n",
      "NOTE: tfr_morlet() is a legacy function. New code should use .compute_tfr(method=\"morlet\").\n"
     ]
    },
    {
     "name": "stderr",
     "output_type": "stream",
     "text": [
      "[Parallel(n_jobs=10)]: Done 172 tasks      | elapsed:    0.0s\n",
      "[Parallel(n_jobs=10)]: Done 247 out of 247 | elapsed:    0.1s finished\n",
      "[Parallel(n_jobs=10)]: Using backend LokyBackend with 10 concurrent workers.\n",
      "[Parallel(n_jobs=10)]: Done   8 tasks      | elapsed:    0.0s\n",
      "[Parallel(n_jobs=10)]: Done 172 tasks      | elapsed:    0.0s\n",
      "[Parallel(n_jobs=10)]: Done 247 out of 247 | elapsed:    0.1s finished\n",
      "[Parallel(n_jobs=10)]: Using backend LokyBackend with 10 concurrent workers.\n"
     ]
    },
    {
     "name": "stdout",
     "output_type": "stream",
     "text": [
      "Applying baseline correction (mode: zscore)\n",
      "NOTE: tfr_morlet() is a legacy function. New code should use .compute_tfr(method=\"morlet\").\n"
     ]
    },
    {
     "name": "stderr",
     "output_type": "stream",
     "text": [
      "[Parallel(n_jobs=10)]: Done   8 tasks      | elapsed:    0.0s\n",
      "[Parallel(n_jobs=10)]: Done 172 tasks      | elapsed:    0.1s\n",
      "[Parallel(n_jobs=10)]: Done 247 out of 247 | elapsed:    0.1s finished\n",
      "[Parallel(n_jobs=10)]: Using backend LokyBackend with 10 concurrent workers.\n",
      "[Parallel(n_jobs=10)]: Done   8 tasks      | elapsed:    0.0s\n",
      "[Parallel(n_jobs=10)]: Done 172 tasks      | elapsed:    0.1s\n"
     ]
    },
    {
     "name": "stdout",
     "output_type": "stream",
     "text": [
      "Applying baseline correction (mode: zscore)\n",
      "NOTE: tfr_morlet() is a legacy function. New code should use .compute_tfr(method=\"morlet\").\n",
      "Applying baseline correction (mode: zscore)\n",
      "NOTE: tfr_morlet() is a legacy function. New code should use .compute_tfr(method=\"morlet\").\n"
     ]
    },
    {
     "name": "stderr",
     "output_type": "stream",
     "text": [
      "[Parallel(n_jobs=10)]: Done 247 out of 247 | elapsed:    0.1s finished\n",
      "[Parallel(n_jobs=10)]: Using backend LokyBackend with 10 concurrent workers.\n",
      "[Parallel(n_jobs=10)]: Done   8 tasks      | elapsed:    0.0s\n",
      "[Parallel(n_jobs=10)]: Done 172 tasks      | elapsed:    0.1s\n",
      "[Parallel(n_jobs=10)]: Done 247 out of 247 | elapsed:    0.1s finished\n",
      "[Parallel(n_jobs=10)]: Using backend LokyBackend with 10 concurrent workers.\n",
      "[Parallel(n_jobs=10)]: Done   8 tasks      | elapsed:    0.0s\n",
      "[Parallel(n_jobs=10)]: Done 172 tasks      | elapsed:    0.1s\n"
     ]
    },
    {
     "name": "stdout",
     "output_type": "stream",
     "text": [
      "Applying baseline correction (mode: zscore)\n",
      "NOTE: tfr_morlet() is a legacy function. New code should use .compute_tfr(method=\"morlet\").\n",
      "Applying baseline correction (mode: zscore)\n",
      "NOTE: tfr_morlet() is a legacy function. New code should use .compute_tfr(method=\"morlet\").\n"
     ]
    },
    {
     "name": "stderr",
     "output_type": "stream",
     "text": [
      "[Parallel(n_jobs=10)]: Done 247 out of 247 | elapsed:    0.1s finished\n",
      "[Parallel(n_jobs=10)]: Using backend LokyBackend with 10 concurrent workers.\n",
      "[Parallel(n_jobs=10)]: Done   8 tasks      | elapsed:    0.0s\n",
      "[Parallel(n_jobs=10)]: Done 172 tasks      | elapsed:    0.1s\n",
      "[Parallel(n_jobs=10)]: Done 247 out of 247 | elapsed:    0.1s finished\n",
      "[Parallel(n_jobs=10)]: Using backend LokyBackend with 10 concurrent workers.\n",
      "[Parallel(n_jobs=10)]: Done   8 tasks      | elapsed:    0.0s\n",
      "[Parallel(n_jobs=10)]: Done 172 tasks      | elapsed:    0.0s\n"
     ]
    },
    {
     "name": "stdout",
     "output_type": "stream",
     "text": [
      "Applying baseline correction (mode: zscore)\n",
      "NOTE: tfr_morlet() is a legacy function. New code should use .compute_tfr(method=\"morlet\").\n",
      "Applying baseline correction (mode: zscore)\n",
      "NOTE: tfr_morlet() is a legacy function. New code should use .compute_tfr(method=\"morlet\").\n"
     ]
    },
    {
     "name": "stderr",
     "output_type": "stream",
     "text": [
      "[Parallel(n_jobs=10)]: Done 247 out of 247 | elapsed:    0.1s finished\n",
      "[Parallel(n_jobs=10)]: Using backend LokyBackend with 10 concurrent workers.\n",
      "[Parallel(n_jobs=10)]: Done   8 tasks      | elapsed:    0.0s\n",
      "[Parallel(n_jobs=10)]: Done 172 tasks      | elapsed:    0.0s\n",
      "[Parallel(n_jobs=10)]: Done 247 out of 247 | elapsed:    0.1s finished\n",
      "[Parallel(n_jobs=10)]: Using backend LokyBackend with 10 concurrent workers.\n",
      "[Parallel(n_jobs=10)]: Done   8 tasks      | elapsed:    0.0s\n",
      "[Parallel(n_jobs=10)]: Done 172 tasks      | elapsed:    0.0s\n"
     ]
    },
    {
     "name": "stdout",
     "output_type": "stream",
     "text": [
      "Applying baseline correction (mode: zscore)\n",
      "NOTE: tfr_morlet() is a legacy function. New code should use .compute_tfr(method=\"morlet\").\n",
      "Applying baseline correction (mode: zscore)\n",
      "NOTE: tfr_morlet() is a legacy function. New code should use .compute_tfr(method=\"morlet\").\n"
     ]
    },
    {
     "name": "stderr",
     "output_type": "stream",
     "text": [
      "[Parallel(n_jobs=10)]: Done 247 out of 247 | elapsed:    0.1s finished\n",
      "[Parallel(n_jobs=10)]: Using backend LokyBackend with 10 concurrent workers.\n",
      "[Parallel(n_jobs=10)]: Done   8 tasks      | elapsed:    0.0s\n",
      "[Parallel(n_jobs=10)]: Done 172 tasks      | elapsed:    0.0s\n",
      "[Parallel(n_jobs=10)]: Done 247 out of 247 | elapsed:    0.1s finished\n",
      "[Parallel(n_jobs=10)]: Using backend LokyBackend with 10 concurrent workers.\n",
      "[Parallel(n_jobs=10)]: Done   8 tasks      | elapsed:    0.0s\n",
      "[Parallel(n_jobs=10)]: Done 172 tasks      | elapsed:    0.0s\n"
     ]
    },
    {
     "name": "stdout",
     "output_type": "stream",
     "text": [
      "Applying baseline correction (mode: zscore)\n",
      "NOTE: tfr_morlet() is a legacy function. New code should use .compute_tfr(method=\"morlet\").\n",
      "Applying baseline correction (mode: zscore)\n",
      "NOTE: tfr_morlet() is a legacy function. New code should use .compute_tfr(method=\"morlet\").\n"
     ]
    },
    {
     "name": "stderr",
     "output_type": "stream",
     "text": [
      "[Parallel(n_jobs=10)]: Done 247 out of 247 | elapsed:    0.1s finished\n",
      "[Parallel(n_jobs=10)]: Using backend LokyBackend with 10 concurrent workers.\n",
      "[Parallel(n_jobs=10)]: Done   8 tasks      | elapsed:    0.0s\n",
      "[Parallel(n_jobs=10)]: Done 172 tasks      | elapsed:    0.0s\n",
      "[Parallel(n_jobs=10)]: Done 247 out of 247 | elapsed:    0.1s finished\n",
      "[Parallel(n_jobs=10)]: Using backend LokyBackend with 10 concurrent workers.\n",
      "[Parallel(n_jobs=10)]: Done   8 tasks      | elapsed:    0.0s\n",
      "[Parallel(n_jobs=10)]: Done 172 tasks      | elapsed:    0.1s\n"
     ]
    },
    {
     "name": "stdout",
     "output_type": "stream",
     "text": [
      "Applying baseline correction (mode: zscore)\n",
      "NOTE: tfr_morlet() is a legacy function. New code should use .compute_tfr(method=\"morlet\").\n",
      "Applying baseline correction (mode: zscore)\n",
      "NOTE: tfr_morlet() is a legacy function. New code should use .compute_tfr(method=\"morlet\").\n"
     ]
    },
    {
     "name": "stderr",
     "output_type": "stream",
     "text": [
      "[Parallel(n_jobs=10)]: Done 247 out of 247 | elapsed:    0.1s finished\n",
      "[Parallel(n_jobs=10)]: Using backend LokyBackend with 10 concurrent workers.\n",
      "[Parallel(n_jobs=10)]: Done   8 tasks      | elapsed:    0.0s\n",
      "[Parallel(n_jobs=10)]: Done 172 tasks      | elapsed:    0.1s\n",
      "[Parallel(n_jobs=10)]: Done 247 out of 247 | elapsed:    0.1s finished\n",
      "[Parallel(n_jobs=10)]: Using backend LokyBackend with 10 concurrent workers.\n",
      "[Parallel(n_jobs=10)]: Done   8 tasks      | elapsed:    0.0s\n",
      "[Parallel(n_jobs=10)]: Done 172 tasks      | elapsed:    0.0s\n"
     ]
    },
    {
     "name": "stdout",
     "output_type": "stream",
     "text": [
      "Applying baseline correction (mode: zscore)\n",
      "NOTE: tfr_morlet() is a legacy function. New code should use .compute_tfr(method=\"morlet\").\n",
      "Applying baseline correction (mode: zscore)\n",
      "NOTE: tfr_morlet() is a legacy function. New code should use .compute_tfr(method=\"morlet\").\n"
     ]
    },
    {
     "name": "stderr",
     "output_type": "stream",
     "text": [
      "[Parallel(n_jobs=10)]: Done 247 out of 247 | elapsed:    0.1s finished\n",
      "[Parallel(n_jobs=10)]: Using backend LokyBackend with 10 concurrent workers.\n",
      "[Parallel(n_jobs=10)]: Done   8 tasks      | elapsed:    0.0s\n",
      "[Parallel(n_jobs=10)]: Done 172 tasks      | elapsed:    0.0s\n",
      "[Parallel(n_jobs=10)]: Done 247 out of 247 | elapsed:    0.1s finished\n",
      "[Parallel(n_jobs=10)]: Using backend LokyBackend with 10 concurrent workers.\n",
      "[Parallel(n_jobs=10)]: Done   8 tasks      | elapsed:    0.0s\n",
      "[Parallel(n_jobs=10)]: Done 172 tasks      | elapsed:    0.0s\n"
     ]
    },
    {
     "name": "stdout",
     "output_type": "stream",
     "text": [
      "Applying baseline correction (mode: zscore)\n",
      "NOTE: tfr_morlet() is a legacy function. New code should use .compute_tfr(method=\"morlet\").\n",
      "Applying baseline correction (mode: zscore)\n",
      "NOTE: tfr_morlet() is a legacy function. New code should use .compute_tfr(method=\"morlet\").\n"
     ]
    },
    {
     "name": "stderr",
     "output_type": "stream",
     "text": [
      "[Parallel(n_jobs=10)]: Done 247 out of 247 | elapsed:    0.1s finished\n",
      "[Parallel(n_jobs=10)]: Using backend LokyBackend with 10 concurrent workers.\n",
      "[Parallel(n_jobs=10)]: Done   8 tasks      | elapsed:    0.0s\n",
      "[Parallel(n_jobs=10)]: Done 172 tasks      | elapsed:    0.1s\n",
      "[Parallel(n_jobs=10)]: Done 247 out of 247 | elapsed:    0.1s finished\n",
      "[Parallel(n_jobs=10)]: Using backend LokyBackend with 10 concurrent workers.\n",
      "[Parallel(n_jobs=10)]: Done   8 tasks      | elapsed:    0.0s\n",
      "[Parallel(n_jobs=10)]: Done 172 tasks      | elapsed:    0.0s\n"
     ]
    },
    {
     "name": "stdout",
     "output_type": "stream",
     "text": [
      "Applying baseline correction (mode: zscore)\n",
      "NOTE: tfr_morlet() is a legacy function. New code should use .compute_tfr(method=\"morlet\").\n",
      "Applying baseline correction (mode: zscore)\n",
      "NOTE: tfr_morlet() is a legacy function. New code should use .compute_tfr(method=\"morlet\").\n"
     ]
    },
    {
     "name": "stderr",
     "output_type": "stream",
     "text": [
      "[Parallel(n_jobs=10)]: Done 247 out of 247 | elapsed:    0.1s finished\n",
      "[Parallel(n_jobs=10)]: Using backend LokyBackend with 10 concurrent workers.\n",
      "[Parallel(n_jobs=10)]: Done   8 tasks      | elapsed:    0.0s\n",
      "[Parallel(n_jobs=10)]: Done 172 tasks      | elapsed:    0.1s\n",
      "[Parallel(n_jobs=10)]: Done 247 out of 247 | elapsed:    0.1s finished\n",
      "[Parallel(n_jobs=10)]: Using backend LokyBackend with 10 concurrent workers.\n",
      "[Parallel(n_jobs=10)]: Done   8 tasks      | elapsed:    0.0s\n",
      "[Parallel(n_jobs=10)]: Done 172 tasks      | elapsed:    0.0s\n"
     ]
    },
    {
     "name": "stdout",
     "output_type": "stream",
     "text": [
      "Applying baseline correction (mode: zscore)\n",
      "NOTE: tfr_morlet() is a legacy function. New code should use .compute_tfr(method=\"morlet\").\n",
      "Applying baseline correction (mode: zscore)\n",
      "NOTE: tfr_morlet() is a legacy function. New code should use .compute_tfr(method=\"morlet\").\n"
     ]
    },
    {
     "name": "stderr",
     "output_type": "stream",
     "text": [
      "[Parallel(n_jobs=10)]: Done 247 out of 247 | elapsed:    0.1s finished\n",
      "[Parallel(n_jobs=10)]: Using backend LokyBackend with 10 concurrent workers.\n",
      "[Parallel(n_jobs=10)]: Done   8 tasks      | elapsed:    0.0s\n",
      "[Parallel(n_jobs=10)]: Done 172 tasks      | elapsed:    0.0s\n",
      "[Parallel(n_jobs=10)]: Done 247 out of 247 | elapsed:    0.1s finished\n",
      "[Parallel(n_jobs=10)]: Using backend LokyBackend with 10 concurrent workers.\n",
      "[Parallel(n_jobs=10)]: Done   8 tasks      | elapsed:    0.0s\n",
      "[Parallel(n_jobs=10)]: Done 172 tasks      | elapsed:    0.0s\n"
     ]
    },
    {
     "name": "stdout",
     "output_type": "stream",
     "text": [
      "Applying baseline correction (mode: zscore)\n",
      "NOTE: tfr_morlet() is a legacy function. New code should use .compute_tfr(method=\"morlet\").\n"
     ]
    },
    {
     "name": "stderr",
     "output_type": "stream",
     "text": [
      "[Parallel(n_jobs=10)]: Done 247 out of 247 | elapsed:    0.1s finished\n",
      "[Parallel(n_jobs=10)]: Using backend LokyBackend with 10 concurrent workers.\n",
      "[Parallel(n_jobs=10)]: Done   8 tasks      | elapsed:    0.0s\n",
      "[Parallel(n_jobs=10)]: Done 172 tasks      | elapsed:    0.0s\n"
     ]
    },
    {
     "name": "stdout",
     "output_type": "stream",
     "text": [
      "Applying baseline correction (mode: zscore)\n",
      "NOTE: tfr_morlet() is a legacy function. New code should use .compute_tfr(method=\"morlet\").\n",
      "Applying baseline correction (mode: zscore)\n",
      "NOTE: tfr_morlet() is a legacy function. New code should use .compute_tfr(method=\"morlet\").\n"
     ]
    },
    {
     "name": "stderr",
     "output_type": "stream",
     "text": [
      "[Parallel(n_jobs=10)]: Done 247 out of 247 | elapsed:    0.1s finished\n",
      "[Parallel(n_jobs=10)]: Using backend LokyBackend with 10 concurrent workers.\n",
      "[Parallel(n_jobs=10)]: Done   8 tasks      | elapsed:    0.0s\n",
      "[Parallel(n_jobs=10)]: Done 172 tasks      | elapsed:    0.0s\n",
      "[Parallel(n_jobs=10)]: Done 247 out of 247 | elapsed:    0.1s finished\n",
      "[Parallel(n_jobs=10)]: Using backend LokyBackend with 10 concurrent workers.\n",
      "[Parallel(n_jobs=10)]: Done   8 tasks      | elapsed:    0.0s\n",
      "[Parallel(n_jobs=10)]: Done 172 tasks      | elapsed:    0.0s\n"
     ]
    },
    {
     "name": "stdout",
     "output_type": "stream",
     "text": [
      "Applying baseline correction (mode: zscore)\n",
      "NOTE: tfr_morlet() is a legacy function. New code should use .compute_tfr(method=\"morlet\").\n",
      "Applying baseline correction (mode: zscore)\n",
      "NOTE: tfr_morlet() is a legacy function. New code should use .compute_tfr(method=\"morlet\").\n"
     ]
    },
    {
     "name": "stderr",
     "output_type": "stream",
     "text": [
      "[Parallel(n_jobs=10)]: Done 247 out of 247 | elapsed:    0.1s finished\n",
      "[Parallel(n_jobs=10)]: Using backend LokyBackend with 10 concurrent workers.\n",
      "[Parallel(n_jobs=10)]: Done   8 tasks      | elapsed:    0.0s\n",
      "[Parallel(n_jobs=10)]: Done 172 tasks      | elapsed:    0.0s\n",
      "[Parallel(n_jobs=10)]: Done 247 out of 247 | elapsed:    0.1s finished\n",
      "[Parallel(n_jobs=10)]: Using backend LokyBackend with 10 concurrent workers.\n",
      "[Parallel(n_jobs=10)]: Done   8 tasks      | elapsed:    0.0s\n",
      "[Parallel(n_jobs=10)]: Done 172 tasks      | elapsed:    0.0s\n"
     ]
    },
    {
     "name": "stdout",
     "output_type": "stream",
     "text": [
      "Applying baseline correction (mode: zscore)\n",
      "NOTE: tfr_morlet() is a legacy function. New code should use .compute_tfr(method=\"morlet\").\n",
      "Applying baseline correction (mode: zscore)\n",
      "NOTE: tfr_morlet() is a legacy function. New code should use .compute_tfr(method=\"morlet\").\n"
     ]
    },
    {
     "name": "stderr",
     "output_type": "stream",
     "text": [
      "[Parallel(n_jobs=10)]: Done 247 out of 247 | elapsed:    0.1s finished\n",
      "[Parallel(n_jobs=10)]: Using backend LokyBackend with 10 concurrent workers.\n",
      "[Parallel(n_jobs=10)]: Done   8 tasks      | elapsed:    0.0s\n",
      "[Parallel(n_jobs=10)]: Done 172 tasks      | elapsed:    0.0s\n",
      "[Parallel(n_jobs=10)]: Done 247 out of 247 | elapsed:    0.1s finished\n",
      "[Parallel(n_jobs=10)]: Using backend LokyBackend with 10 concurrent workers.\n",
      "[Parallel(n_jobs=10)]: Done   8 tasks      | elapsed:    0.0s\n",
      "[Parallel(n_jobs=10)]: Done 172 tasks      | elapsed:    0.1s\n"
     ]
    },
    {
     "name": "stdout",
     "output_type": "stream",
     "text": [
      "Applying baseline correction (mode: zscore)\n",
      "NOTE: tfr_morlet() is a legacy function. New code should use .compute_tfr(method=\"morlet\").\n",
      "Applying baseline correction (mode: zscore)\n",
      "NOTE: tfr_morlet() is a legacy function. New code should use .compute_tfr(method=\"morlet\").\n"
     ]
    },
    {
     "name": "stderr",
     "output_type": "stream",
     "text": [
      "[Parallel(n_jobs=10)]: Done 247 out of 247 | elapsed:    0.1s finished\n",
      "[Parallel(n_jobs=10)]: Using backend LokyBackend with 10 concurrent workers.\n",
      "[Parallel(n_jobs=10)]: Done   8 tasks      | elapsed:    0.0s\n",
      "[Parallel(n_jobs=10)]: Done 172 tasks      | elapsed:    0.0s\n",
      "[Parallel(n_jobs=10)]: Done 247 out of 247 | elapsed:    0.1s finished\n",
      "[Parallel(n_jobs=10)]: Using backend LokyBackend with 10 concurrent workers.\n",
      "[Parallel(n_jobs=10)]: Done   8 tasks      | elapsed:    0.0s\n",
      "[Parallel(n_jobs=10)]: Done 172 tasks      | elapsed:    0.0s\n"
     ]
    },
    {
     "name": "stdout",
     "output_type": "stream",
     "text": [
      "Applying baseline correction (mode: zscore)\n",
      "NOTE: tfr_morlet() is a legacy function. New code should use .compute_tfr(method=\"morlet\").\n",
      "Applying baseline correction (mode: zscore)\n",
      "NOTE: tfr_morlet() is a legacy function. New code should use .compute_tfr(method=\"morlet\").\n"
     ]
    },
    {
     "name": "stderr",
     "output_type": "stream",
     "text": [
      "[Parallel(n_jobs=10)]: Done 247 out of 247 | elapsed:    0.1s finished\n",
      "[Parallel(n_jobs=10)]: Using backend LokyBackend with 10 concurrent workers.\n",
      "[Parallel(n_jobs=10)]: Done   8 tasks      | elapsed:    0.0s\n",
      "[Parallel(n_jobs=10)]: Done 172 tasks      | elapsed:    0.0s\n",
      "[Parallel(n_jobs=10)]: Done 247 out of 247 | elapsed:    0.1s finished\n",
      "[Parallel(n_jobs=10)]: Using backend LokyBackend with 10 concurrent workers.\n",
      "[Parallel(n_jobs=10)]: Done   8 tasks      | elapsed:    0.0s\n",
      "[Parallel(n_jobs=10)]: Done 172 tasks      | elapsed:    0.1s\n"
     ]
    },
    {
     "name": "stdout",
     "output_type": "stream",
     "text": [
      "Applying baseline correction (mode: zscore)\n",
      "NOTE: tfr_morlet() is a legacy function. New code should use .compute_tfr(method=\"morlet\").\n",
      "Applying baseline correction (mode: zscore)\n",
      "NOTE: tfr_morlet() is a legacy function. New code should use .compute_tfr(method=\"morlet\").\n"
     ]
    },
    {
     "name": "stderr",
     "output_type": "stream",
     "text": [
      "[Parallel(n_jobs=10)]: Done 247 out of 247 | elapsed:    0.1s finished\n",
      "[Parallel(n_jobs=10)]: Using backend LokyBackend with 10 concurrent workers.\n",
      "[Parallel(n_jobs=10)]: Done   8 tasks      | elapsed:    0.0s\n",
      "[Parallel(n_jobs=10)]: Done 172 tasks      | elapsed:    0.0s\n",
      "[Parallel(n_jobs=10)]: Done 247 out of 247 | elapsed:    0.1s finished\n",
      "[Parallel(n_jobs=10)]: Using backend LokyBackend with 10 concurrent workers.\n",
      "[Parallel(n_jobs=10)]: Done   8 tasks      | elapsed:    0.0s\n",
      "[Parallel(n_jobs=10)]: Done 172 tasks      | elapsed:    0.0s\n"
     ]
    },
    {
     "name": "stdout",
     "output_type": "stream",
     "text": [
      "Applying baseline correction (mode: zscore)\n",
      "NOTE: tfr_morlet() is a legacy function. New code should use .compute_tfr(method=\"morlet\").\n",
      "Applying baseline correction (mode: zscore)\n",
      "NOTE: tfr_morlet() is a legacy function. New code should use .compute_tfr(method=\"morlet\").\n"
     ]
    },
    {
     "name": "stderr",
     "output_type": "stream",
     "text": [
      "[Parallel(n_jobs=10)]: Done 247 out of 247 | elapsed:    0.1s finished\n",
      "[Parallel(n_jobs=10)]: Using backend LokyBackend with 10 concurrent workers.\n",
      "[Parallel(n_jobs=10)]: Done   8 tasks      | elapsed:    0.0s\n",
      "[Parallel(n_jobs=10)]: Done 172 tasks      | elapsed:    0.0s\n",
      "[Parallel(n_jobs=10)]: Done 247 out of 247 | elapsed:    0.1s finished\n",
      "[Parallel(n_jobs=10)]: Using backend LokyBackend with 10 concurrent workers.\n",
      "[Parallel(n_jobs=10)]: Done   8 tasks      | elapsed:    0.0s\n",
      "[Parallel(n_jobs=10)]: Done 172 tasks      | elapsed:    0.0s\n"
     ]
    },
    {
     "name": "stdout",
     "output_type": "stream",
     "text": [
      "Applying baseline correction (mode: zscore)\n",
      "NOTE: tfr_morlet() is a legacy function. New code should use .compute_tfr(method=\"morlet\").\n",
      "Applying baseline correction (mode: zscore)\n",
      "NOTE: tfr_morlet() is a legacy function. New code should use .compute_tfr(method=\"morlet\").\n"
     ]
    },
    {
     "name": "stderr",
     "output_type": "stream",
     "text": [
      "[Parallel(n_jobs=10)]: Done 247 out of 247 | elapsed:    0.1s finished\n",
      "[Parallel(n_jobs=10)]: Using backend LokyBackend with 10 concurrent workers.\n",
      "[Parallel(n_jobs=10)]: Done   8 tasks      | elapsed:    0.0s\n",
      "[Parallel(n_jobs=10)]: Done 172 tasks      | elapsed:    0.0s\n",
      "[Parallel(n_jobs=10)]: Done 247 out of 247 | elapsed:    0.1s finished\n",
      "[Parallel(n_jobs=10)]: Using backend LokyBackend with 10 concurrent workers.\n"
     ]
    },
    {
     "name": "stdout",
     "output_type": "stream",
     "text": [
      "Applying baseline correction (mode: zscore)\n",
      "NOTE: tfr_morlet() is a legacy function. New code should use .compute_tfr(method=\"morlet\").\n"
     ]
    },
    {
     "name": "stderr",
     "output_type": "stream",
     "text": [
      "[Parallel(n_jobs=10)]: Done   8 tasks      | elapsed:    0.0s\n",
      "[Parallel(n_jobs=10)]: Done 172 tasks      | elapsed:    0.1s\n",
      "[Parallel(n_jobs=10)]: Done 247 out of 247 | elapsed:    0.1s finished\n",
      "[Parallel(n_jobs=10)]: Using backend LokyBackend with 10 concurrent workers.\n",
      "[Parallel(n_jobs=10)]: Done   8 tasks      | elapsed:    0.0s\n",
      "[Parallel(n_jobs=10)]: Done 172 tasks      | elapsed:    0.0s\n"
     ]
    },
    {
     "name": "stdout",
     "output_type": "stream",
     "text": [
      "Applying baseline correction (mode: zscore)\n",
      "NOTE: tfr_morlet() is a legacy function. New code should use .compute_tfr(method=\"morlet\").\n",
      "Applying baseline correction (mode: zscore)\n",
      "NOTE: tfr_morlet() is a legacy function. New code should use .compute_tfr(method=\"morlet\").\n"
     ]
    },
    {
     "name": "stderr",
     "output_type": "stream",
     "text": [
      "[Parallel(n_jobs=10)]: Done 247 out of 247 | elapsed:    0.1s finished\n",
      "[Parallel(n_jobs=10)]: Using backend LokyBackend with 10 concurrent workers.\n",
      "[Parallel(n_jobs=10)]: Done   8 tasks      | elapsed:    0.0s\n",
      "[Parallel(n_jobs=10)]: Done 172 tasks      | elapsed:    0.0s\n",
      "[Parallel(n_jobs=10)]: Done 247 out of 247 | elapsed:    0.1s finished\n",
      "[Parallel(n_jobs=10)]: Using backend LokyBackend with 10 concurrent workers.\n",
      "[Parallel(n_jobs=10)]: Done   8 tasks      | elapsed:    0.0s\n",
      "[Parallel(n_jobs=10)]: Done 172 tasks      | elapsed:    0.0s\n"
     ]
    },
    {
     "name": "stdout",
     "output_type": "stream",
     "text": [
      "Applying baseline correction (mode: zscore)\n",
      "NOTE: tfr_morlet() is a legacy function. New code should use .compute_tfr(method=\"morlet\").\n",
      "Applying baseline correction (mode: zscore)\n"
     ]
    },
    {
     "name": "stderr",
     "output_type": "stream",
     "text": [
      "[Parallel(n_jobs=10)]: Done 247 out of 247 | elapsed:    0.1s finished\n",
      "[Parallel(n_jobs=10)]: Using backend LokyBackend with 10 concurrent workers.\n",
      "[Parallel(n_jobs=10)]: Done   8 tasks      | elapsed:    0.0s\n",
      "[Parallel(n_jobs=10)]: Done 172 tasks      | elapsed:    0.0s\n",
      "[Parallel(n_jobs=10)]: Done 247 out of 247 | elapsed:    0.1s finished\n"
     ]
    }
   ],
   "source": [
    "transformed_data = data.get_spectrogram(frequencies=frequencies, \n",
    "                            baseline=baseline, \n",
    "                            cycle_divisor=divisor,\n",
    "                            mode='zscore',\n",
    "                            data_only=True)"
   ]
  },
  {
   "cell_type": "code",
   "execution_count": 6,
   "metadata": {},
   "outputs": [
    {
     "name": "stdout",
     "output_type": "stream",
     "text": [
      "No common samples found\n",
      "Batch 0\n",
      "Anchor: tensor([[[[-8.5140e-01, -2.2878e-01,  4.8449e-01,  ..., -8.5692e-02,\n",
      "           -7.1387e-01, -1.0041e+00],\n",
      "          [-8.4413e-01, -2.4459e-01,  4.3447e-01,  ..., -5.0547e-02,\n",
      "           -7.1044e-01, -1.0074e+00],\n",
      "          [-7.9951e-01, -2.5715e-01,  3.4266e-01,  ...,  1.1162e-02,\n",
      "           -6.7006e-01, -9.6929e-01],\n",
      "          ...,\n",
      "          [-1.0168e+00, -5.6361e-01,  6.1673e-02,  ..., -7.9661e-01,\n",
      "           -1.0529e+00, -1.1247e+00],\n",
      "          [-7.7905e-01, -3.5856e-01,  1.6629e-01,  ..., -6.4602e-01,\n",
      "           -8.1622e-01, -9.0747e-01],\n",
      "          [-6.4334e-01, -2.3133e-01,  2.0910e-01,  ..., -6.5135e-01,\n",
      "           -7.3900e-01, -8.2175e-01]],\n",
      "\n",
      "         [[-5.1493e-01,  1.8743e-01,  1.0265e+00,  ...,  7.7813e-01,\n",
      "           -6.3583e-01, -6.2914e-01],\n",
      "          [-5.4564e-01,  1.2404e-01,  9.2939e-01,  ...,  9.3605e-01,\n",
      "           -4.8128e-01, -5.4549e-01],\n",
      "          [-5.9303e-01,  1.7465e-02,  7.5586e-01,  ...,  1.1792e+00,\n",
      "           -2.3508e-01, -4.2035e-01],\n",
      "          ...,\n",
      "          [-1.2828e+00, -9.8953e-01, -4.5124e-01,  ..., -7.0790e-01,\n",
      "           -1.1883e+00, -1.3480e+00],\n",
      "          [-1.3941e+00, -1.1083e+00, -5.6395e-01,  ..., -6.9527e-01,\n",
      "           -1.1846e+00, -1.3700e+00],\n",
      "          [-1.3086e+00, -1.0471e+00, -5.6689e-01,  ..., -6.3094e-01,\n",
      "           -1.0657e+00, -1.2427e+00]],\n",
      "\n",
      "         [[-6.1711e-01,  1.5976e-03,  3.2769e-01,  ..., -4.5532e-01,\n",
      "           -1.1027e+00, -9.6066e-01],\n",
      "          [-6.8122e-01, -4.0911e-02,  3.1227e-01,  ..., -3.3835e-01,\n",
      "           -1.0517e+00, -9.6398e-01],\n",
      "          [-7.7143e-01, -1.0872e-01,  2.7697e-01,  ..., -8.9187e-02,\n",
      "           -9.1882e-01, -9.4103e-01],\n",
      "          ...,\n",
      "          [-8.7582e-01, -7.5909e-02,  7.0482e-01,  ..., -1.5907e+00,\n",
      "           -9.2140e-01, -7.8125e-01],\n",
      "          [-6.5652e-01,  2.1221e-01,  1.0934e+00,  ..., -1.3819e+00,\n",
      "           -9.7372e-01, -8.9991e-01],\n",
      "          [-5.8472e-01,  2.9061e-01,  1.1827e+00,  ..., -1.1724e+00,\n",
      "           -1.0124e+00, -1.0161e+00]],\n",
      "\n",
      "         ...,\n",
      "\n",
      "         [[-8.9432e-01, -5.4694e-01,  4.7140e-03,  ..., -3.0586e-01,\n",
      "           -3.7468e-01, -5.2918e-01],\n",
      "          [-8.8537e-01, -5.2474e-01,  5.3291e-02,  ..., -4.3114e-01,\n",
      "           -5.1160e-01, -6.5504e-01],\n",
      "          [-8.4296e-01, -4.6531e-01,  1.3996e-01,  ..., -6.2664e-01,\n",
      "           -7.1765e-01, -8.3634e-01],\n",
      "          ...,\n",
      "          [ 2.8628e-01,  3.6887e-01,  3.6989e-01,  ...,  8.7421e-01,\n",
      "           -2.0714e-01, -9.7367e-01],\n",
      "          [-2.7367e-01, -4.4020e-01, -5.9373e-01,  ...,  8.8392e-01,\n",
      "           -2.9981e-01, -1.1347e+00],\n",
      "          [-7.8252e-01, -1.0818e+00, -1.3179e+00,  ...,  5.7417e-01,\n",
      "           -4.6949e-01, -1.2185e+00]],\n",
      "\n",
      "         [[-9.5828e-01, -7.6197e-01, -3.7142e-01,  ..., -9.0790e-01,\n",
      "           -9.4198e-01, -9.7142e-01],\n",
      "          [-9.5975e-01, -7.5039e-01, -3.3792e-01,  ..., -9.8343e-01,\n",
      "           -1.0229e+00, -1.0527e+00],\n",
      "          [-9.3885e-01, -7.0605e-01, -2.6281e-01,  ..., -1.0906e+00,\n",
      "           -1.1370e+00, -1.1663e+00],\n",
      "          ...,\n",
      "          [ 2.3196e-01,  5.2688e-01,  9.3086e-01,  ...,  1.8140e+00,\n",
      "            6.1364e-01, -3.1511e-01],\n",
      "          [-2.4408e-01, -1.5990e-01,  2.0676e-01,  ...,  2.1472e+00,\n",
      "            7.5731e-01, -3.3324e-01],\n",
      "          [-8.1712e-01, -9.4779e-01, -6.7608e-01,  ...,  2.1203e+00,\n",
      "            6.6306e-01, -5.0062e-01]],\n",
      "\n",
      "         [[-7.5637e-01, -8.1027e-01, -5.1663e-01,  ..., -8.4616e-01,\n",
      "           -8.2694e-01, -6.8382e-01],\n",
      "          [-7.2002e-01, -7.6641e-01, -4.7325e-01,  ..., -8.5560e-01,\n",
      "           -8.3449e-01, -6.9718e-01],\n",
      "          [-6.5731e-01, -6.8466e-01, -3.8896e-01,  ..., -8.6859e-01,\n",
      "           -8.4816e-01, -7.2503e-01],\n",
      "          ...,\n",
      "          [ 9.4806e-01,  5.8226e-01,  4.5041e-01,  ...,  1.2237e+01,\n",
      "            8.0910e+00,  3.8374e+00],\n",
      "          [-4.7581e-01, -1.0628e+00, -1.0932e+00,  ...,  9.5732e+00,\n",
      "            5.8525e+00,  2.2928e+00],\n",
      "          [-1.0490e+00, -1.5889e+00, -1.6330e+00,  ...,  5.3140e+00,\n",
      "            2.8524e+00,  6.7303e-01]]],\n",
      "\n",
      "\n",
      "        [[[-8.4314e-01, -8.9671e-01, -8.4334e-01,  ..., -8.9855e-01,\n",
      "           -8.9811e-01, -9.0122e-01],\n",
      "          [-9.8291e-01, -1.0253e+00, -9.6817e-01,  ..., -1.0559e+00,\n",
      "           -1.0509e+00, -1.0530e+00],\n",
      "          [-1.1760e+00, -1.1973e+00, -1.1301e+00,  ..., -1.2713e+00,\n",
      "           -1.2616e+00, -1.2630e+00],\n",
      "          ...,\n",
      "          [-1.2141e+00, -1.1971e+00, -1.1722e+00,  ..., -5.7133e-01,\n",
      "           -1.8041e-01, -1.0176e-01],\n",
      "          [-1.2737e+00, -1.2771e+00, -1.2976e+00,  ..., -9.0484e-02,\n",
      "            2.5006e-01,  1.9192e-01],\n",
      "          [-1.2699e+00, -1.2999e+00, -1.3728e+00,  ...,  6.8082e-01,\n",
      "            8.8629e-01,  6.1978e-01]],\n",
      "\n",
      "         [[-9.0393e-01, -9.4455e-01, -9.6652e-01,  ..., -8.8565e-01,\n",
      "           -9.4243e-01, -9.6613e-01],\n",
      "          [-1.0600e+00, -1.0957e+00, -1.1183e+00,  ..., -1.0604e+00,\n",
      "           -1.0986e+00, -1.1184e+00],\n",
      "          [-1.2761e+00, -1.3005e+00, -1.3194e+00,  ..., -1.3055e+00,\n",
      "           -1.3151e+00, -1.3279e+00],\n",
      "          ...,\n",
      "          [-1.1654e+00, -1.1204e+00, -1.0639e+00,  ..., -6.3378e-01,\n",
      "           -3.8962e-01, -4.1552e-01],\n",
      "          [-1.2991e+00, -1.2564e+00, -1.2529e+00,  ..., -3.8676e-01,\n",
      "           -2.5305e-01, -3.9547e-01],\n",
      "          [-1.3547e+00, -1.3260e+00, -1.4028e+00,  ...,  2.1771e-02,\n",
      "           -4.0916e-02, -3.3362e-01]],\n",
      "\n",
      "         [[-8.4974e-01, -8.0213e-01, -8.7106e-01,  ..., -6.7712e-01,\n",
      "           -9.8642e-01, -1.0439e+00],\n",
      "          [-1.0131e+00, -9.6807e-01, -1.0475e+00,  ..., -8.5323e-01,\n",
      "           -1.1035e+00, -1.1545e+00],\n",
      "          [-1.2078e+00, -1.1656e+00, -1.2537e+00,  ..., -1.0825e+00,\n",
      "           -1.2333e+00, -1.2683e+00],\n",
      "          ...,\n",
      "          [-9.4907e-01, -9.0987e-01, -7.6680e-01,  ...,  1.1483e-02,\n",
      "            1.3435e-01, -1.1697e-02],\n",
      "          [-1.1140e+00, -1.0508e+00, -9.1454e-01,  ...,  2.6806e-02,\n",
      "           -8.5714e-03, -2.1297e-01],\n",
      "          [-1.2761e+00, -1.1718e+00, -1.0526e+00,  ..., -9.3128e-02,\n",
      "           -3.1821e-01, -5.4884e-01]],\n",
      "\n",
      "         ...,\n",
      "\n",
      "         [[-4.1811e-01, -8.4240e-02, -6.8361e-01,  ..., -5.2823e-02,\n",
      "           -4.3366e-01, -8.8017e-01],\n",
      "          [-4.0935e-01,  1.1467e-02, -5.1562e-01,  ..., -1.4165e-01,\n",
      "           -5.0378e-01, -9.4863e-01],\n",
      "          [-3.6674e-01,  1.8960e-01, -1.8242e-01,  ..., -2.8970e-01,\n",
      "           -6.0306e-01, -1.0257e+00],\n",
      "          ...,\n",
      "          [ 2.2643e+00,  2.6341e+00,  1.9377e+00,  ...,  2.1458e+00,\n",
      "            2.2859e+00,  1.3481e+00],\n",
      "          [ 2.0916e+00,  2.5323e+00,  1.8977e+00,  ...,  1.9135e+00,\n",
      "            1.9744e+00,  1.0589e+00],\n",
      "          [ 1.8440e+00,  2.3102e+00,  1.7438e+00,  ...,  1.7198e+00,\n",
      "            1.6465e+00,  7.6857e-01]],\n",
      "\n",
      "         [[-1.4278e-01,  1.4316e-01, -3.1995e-01,  ...,  3.3493e-01,\n",
      "            1.7509e-01, -2.8679e-01],\n",
      "          [-1.0645e-01,  2.3649e-01, -1.8664e-01,  ...,  3.0666e-01,\n",
      "            1.5995e-01, -3.0346e-01],\n",
      "          [-3.9268e-02,  3.9951e-01,  5.5897e-02,  ...,  2.4996e-01,\n",
      "            1.2955e-01, -3.2928e-01],\n",
      "          ...,\n",
      "          [ 1.3916e+00,  1.7481e+00,  1.4097e+00,  ...,  1.4030e+00,\n",
      "            1.7108e+00,  9.7363e-01],\n",
      "          [ 1.2313e+00,  1.6474e+00,  1.3626e+00,  ...,  1.2496e+00,\n",
      "            1.3518e+00,  6.4212e-01],\n",
      "          [ 1.0987e+00,  1.5075e+00,  1.2112e+00,  ...,  1.1922e+00,\n",
      "            1.1074e+00,  4.2106e-01]],\n",
      "\n",
      "         [[ 2.5696e-02,  3.3665e-01, -1.4529e-01,  ...,  4.1892e-01,\n",
      "            4.0594e-01, -4.4729e-02],\n",
      "          [ 6.5776e-02,  4.2877e-01, -2.0585e-02,  ...,  4.0465e-01,\n",
      "            4.0257e-01, -5.3011e-02],\n",
      "          [ 1.3571e-01,  5.8576e-01,  1.9871e-01,  ...,  3.7391e-01,\n",
      "            3.9168e-01, -6.7578e-02],\n",
      "          ...,\n",
      "          [ 1.7566e-01,  1.4408e-01, -7.8406e-02,  ...,  1.1166e+00,\n",
      "            1.3262e+00,  6.6471e-01],\n",
      "          [ 2.6403e-01,  3.9209e-01,  2.2990e-01,  ...,  1.2039e+00,\n",
      "            1.1173e+00,  4.1270e-01],\n",
      "          [ 3.5744e-01,  5.4881e-01,  3.6695e-01,  ...,  1.2283e+00,\n",
      "            9.3388e-01,  2.4939e-01]]],\n",
      "\n",
      "\n",
      "        [[[-4.9140e-01, -5.8472e-01, -6.5896e-01,  ..., -4.5787e-01,\n",
      "           -6.1946e-01, -6.6746e-01],\n",
      "          [-5.1645e-01, -5.9054e-01, -6.5423e-01,  ..., -4.9923e-01,\n",
      "           -6.5548e-01, -7.0219e-01],\n",
      "          [-5.4552e-01, -5.8748e-01, -6.3117e-01,  ..., -5.5076e-01,\n",
      "           -6.9743e-01, -7.4227e-01],\n",
      "          ...,\n",
      "          [-7.1596e-01, -6.2261e-01, -5.4191e-01,  ..., -3.8380e-01,\n",
      "           -4.2720e-01, -5.2823e-01],\n",
      "          [-6.6880e-01, -5.9621e-01, -5.6477e-01,  ..., -4.5437e-01,\n",
      "           -5.0724e-01, -5.8690e-01],\n",
      "          [-6.4508e-01, -5.7940e-01, -5.6962e-01,  ..., -5.4197e-01,\n",
      "           -5.8677e-01, -6.4458e-01]],\n",
      "\n",
      "         [[-5.8266e-01, -6.2435e-01, -6.5743e-01,  ..., -6.1421e-01,\n",
      "           -6.6036e-01, -6.6621e-01],\n",
      "          [-6.1090e-01, -6.4172e-01, -6.6676e-01,  ..., -6.4522e-01,\n",
      "           -6.9077e-01, -6.9772e-01],\n",
      "          [-6.4484e-01, -6.5807e-01, -6.6898e-01,  ..., -6.8162e-01,\n",
      "           -7.2604e-01, -7.3493e-01],\n",
      "          ...,\n",
      "          [-8.6192e-01, -7.8724e-01, -7.1730e-01,  ..., -6.9258e-01,\n",
      "           -8.2425e-01, -8.7643e-01],\n",
      "          [-7.9139e-01, -7.3641e-01, -6.9220e-01,  ..., -6.7499e-01,\n",
      "           -7.5528e-01, -8.0005e-01],\n",
      "          [-7.5427e-01, -7.0677e-01, -6.7556e-01,  ..., -6.6856e-01,\n",
      "           -7.2036e-01, -7.6181e-01]],\n",
      "\n",
      "         [[-6.5495e-01, -6.5044e-01, -5.9656e-01,  ..., -6.4300e-01,\n",
      "           -6.4544e-01, -6.1667e-01],\n",
      "          [-6.8657e-01, -6.8133e-01, -6.2608e-01,  ..., -6.6526e-01,\n",
      "           -6.6862e-01, -6.4348e-01],\n",
      "          [-7.2919e-01, -7.2220e-01, -6.6406e-01,  ..., -6.9377e-01,\n",
      "           -6.9819e-01, -6.7900e-01],\n",
      "          ...,\n",
      "          [ 1.8120e-01,  2.8116e-01, -2.5208e-02,  ..., -1.0011e+00,\n",
      "           -7.8875e-01, -6.9312e-01],\n",
      "          [-1.9313e-01, -1.2256e-01, -3.1256e-01,  ..., -1.0717e+00,\n",
      "           -8.3670e-01, -7.3329e-01],\n",
      "          [-5.8527e-01, -5.5086e-01, -6.6030e-01,  ..., -9.5914e-01,\n",
      "           -8.2598e-01, -7.9965e-01]],\n",
      "\n",
      "         ...,\n",
      "\n",
      "         [[-7.2344e-01, -7.0517e-01, -7.1036e-01,  ..., -7.0762e-01,\n",
      "           -5.7156e-01, -4.9999e-01],\n",
      "          [-7.5005e-01, -7.3029e-01, -7.3711e-01,  ..., -7.0086e-01,\n",
      "           -5.7215e-01, -5.1296e-01],\n",
      "          [-8.0565e-01, -7.8250e-01, -7.9110e-01,  ..., -6.9833e-01,\n",
      "           -5.8135e-01, -5.4396e-01],\n",
      "          ...,\n",
      "          [-7.0681e-02,  5.0843e-01,  1.2413e+00,  ...,  2.7976e-01,\n",
      "            6.6766e-02, -3.0046e-01],\n",
      "          [ 9.0552e-02,  8.0614e-01,  1.6191e+00,  ...,  3.0181e-01,\n",
      "            5.5526e-02, -3.1456e-01],\n",
      "          [ 2.5254e-01,  1.0846e+00,  1.9542e+00,  ...,  3.6332e-01,\n",
      "            5.0054e-02, -3.2938e-01]],\n",
      "\n",
      "         [[-8.7586e-01, -8.9321e-01, -8.8541e-01,  ..., -8.6972e-01,\n",
      "           -8.2366e-01, -6.7502e-01],\n",
      "          [-8.7351e-01, -8.9116e-01, -8.8447e-01,  ..., -8.2678e-01,\n",
      "           -7.8503e-01, -6.4616e-01],\n",
      "          [-8.7546e-01, -8.9436e-01, -8.9066e-01,  ..., -7.5530e-01,\n",
      "           -7.2097e-01, -6.0021e-01],\n",
      "          ...,\n",
      "          [-2.2783e-01,  2.9767e-01,  9.8647e-01,  ...,  1.1933e+00,\n",
      "            9.9253e-01,  3.9694e-01],\n",
      "          [ 1.1846e-02,  7.8366e-01,  1.6058e+00,  ...,  1.0918e+00,\n",
      "            7.9161e-01,  2.0236e-01],\n",
      "          [ 3.2771e-01,  1.3054e+00,  2.1945e+00,  ...,  9.1892e-01,\n",
      "            5.3373e-01,  1.5062e-02]],\n",
      "\n",
      "         [[-8.2487e-01, -9.0725e-01, -9.5009e-01,  ..., -8.8364e-01,\n",
      "           -9.0431e-01, -7.0823e-01],\n",
      "          [-8.1287e-01, -8.9525e-01, -9.3739e-01,  ..., -8.2461e-01,\n",
      "           -8.4903e-01, -6.6096e-01],\n",
      "          [-7.9399e-01, -8.7829e-01, -9.2176e-01,  ..., -7.1744e-01,\n",
      "           -7.4831e-01, -5.7622e-01],\n",
      "          ...,\n",
      "          [-1.0241e+00, -8.5520e-01, -5.2040e-01,  ...,  4.1180e+00,\n",
      "            4.3718e+00,  3.4144e+00],\n",
      "          [-1.0738e+00, -5.7921e-01, -1.0085e-01,  ...,  4.7361e+00,\n",
      "            5.0162e+00,  3.9414e+00],\n",
      "          [-7.4666e-01,  4.1908e-02,  5.0367e-01,  ...,  3.9169e+00,\n",
      "            4.5114e+00,  3.8213e+00]]],\n",
      "\n",
      "\n",
      "        ...,\n",
      "\n",
      "\n",
      "        [[[-8.4061e-01, -6.1774e-01,  5.1575e-02,  ..., -5.1691e-01,\n",
      "            4.9149e-02, -2.6459e-01],\n",
      "          [-8.7433e-01, -6.3839e-01,  2.7004e-02,  ..., -3.3221e-01,\n",
      "            1.1512e-01, -2.8021e-01],\n",
      "          [-9.1382e-01, -6.5465e-01,  5.7556e-06,  ..., -4.4022e-03,\n",
      "            2.4401e-01, -2.8358e-01],\n",
      "          ...,\n",
      "          [-7.6691e-02,  3.0154e-01, -1.4067e-02,  ..., -1.0731e+00,\n",
      "           -1.1146e+00, -9.0217e-01],\n",
      "          [ 4.1772e-02,  5.2185e-01,  3.3491e-01,  ..., -3.3052e-01,\n",
      "           -4.8216e-01, -4.4734e-01],\n",
      "          [ 2.3663e-01,  8.2270e-01,  7.5604e-01,  ...,  7.9153e-01,\n",
      "            5.2319e-01,  2.8113e-01]],\n",
      "\n",
      "         [[-8.3082e-01, -7.4125e-01,  2.4341e-02,  ...,  6.1220e-02,\n",
      "            4.5858e-01, -3.4848e-01],\n",
      "          [-8.2823e-01, -7.1241e-01,  6.1029e-02,  ...,  3.3961e-01,\n",
      "            6.2949e-01, -2.5834e-01],\n",
      "          [-7.9985e-01, -6.3859e-01,  1.3133e-01,  ...,  8.4311e-01,\n",
      "            9.4441e-01, -6.7311e-02],\n",
      "          ...,\n",
      "          [ 1.0886e+00,  1.4740e+00,  8.7051e-01,  ...,  3.1225e-02,\n",
      "            2.0923e+00,  3.1501e+00],\n",
      "          [ 1.4470e+00,  1.8681e+00,  1.1777e+00,  ...,  7.5225e-01,\n",
      "            2.9372e+00,  3.9452e+00],\n",
      "          [ 1.7810e+00,  2.2702e+00,  1.5413e+00,  ...,  2.2162e+00,\n",
      "            4.2383e+00,  4.8952e+00]],\n",
      "\n",
      "         [[-7.0610e-01, -8.8701e-01, -8.6025e-01,  ...,  1.1219e-01,\n",
      "            6.4444e-01, -1.6803e-01],\n",
      "          [-6.9338e-01, -8.3019e-01, -7.7694e-01,  ...,  3.6990e-01,\n",
      "            7.9177e-01, -9.2836e-02],\n",
      "          [-6.4393e-01, -7.0544e-01, -6.1495e-01,  ...,  7.8010e-01,\n",
      "            1.0111e+00,  4.6698e-02],\n",
      "          ...,\n",
      "          [-1.1791e+00, -6.0542e-01,  5.8681e-01,  ..., -4.1562e-01,\n",
      "           -4.5298e-01,  7.7560e-01],\n",
      "          [-1.3152e+00, -8.7130e-01,  2.1289e-01,  ..., -1.1669e+00,\n",
      "           -1.0095e+00,  4.6183e-01],\n",
      "          [-1.3441e+00, -1.0444e+00, -2.6729e-01,  ..., -7.7700e-01,\n",
      "           -7.3812e-01,  2.7143e-01]],\n",
      "\n",
      "         ...,\n",
      "\n",
      "         [[-9.7352e-01, -4.2128e-01,  3.0789e-01,  ..., -1.0775e+00,\n",
      "           -1.0468e+00, -9.8452e-01],\n",
      "          [-1.1030e+00, -5.4904e-01,  1.7575e-01,  ..., -1.2532e+00,\n",
      "           -1.2122e+00, -1.1402e+00],\n",
      "          [-1.2659e+00, -7.2760e-01, -3.8236e-02,  ..., -1.4808e+00,\n",
      "           -1.4262e+00, -1.3432e+00],\n",
      "          ...,\n",
      "          [-2.8808e-02, -3.8942e-02, -4.8283e-01,  ..., -7.4696e-01,\n",
      "           -7.2782e-01, -7.2431e-01],\n",
      "          [-1.2535e-01, -9.4847e-02, -3.9068e-01,  ..., -9.0120e-01,\n",
      "           -8.3375e-01, -7.6072e-01],\n",
      "          [-1.9134e-01, -1.1857e-01, -2.6957e-01,  ..., -9.8325e-01,\n",
      "           -8.7626e-01, -7.4901e-01]],\n",
      "\n",
      "         [[-1.1631e+00, -5.1153e-01,  5.7914e-01,  ..., -1.0883e+00,\n",
      "           -1.0231e+00, -9.1149e-01],\n",
      "          [-1.2881e+00, -6.3679e-01,  4.3125e-01,  ..., -1.3152e+00,\n",
      "           -1.2314e+00, -1.1022e+00],\n",
      "          [-1.4207e+00, -7.9611e-01,  1.8715e-01,  ..., -1.5971e+00,\n",
      "           -1.4901e+00, -1.3424e+00],\n",
      "          ...,\n",
      "          [ 5.8664e-02,  1.4195e-01, -2.1874e-01,  ..., -5.1753e-01,\n",
      "           -4.2255e-01, -4.3763e-01],\n",
      "          [ 1.4061e-05,  1.4367e-01, -7.5129e-02,  ..., -6.8616e-01,\n",
      "           -5.4473e-01, -5.0024e-01],\n",
      "          [-4.4827e-02,  1.5180e-01,  6.5873e-02,  ..., -8.2996e-01,\n",
      "           -6.3361e-01, -5.2745e-01]],\n",
      "\n",
      "         [[-1.2959e+00, -8.0929e-01,  4.1850e-01,  ..., -1.0435e+00,\n",
      "           -8.9212e-01, -6.9453e-01],\n",
      "          [-1.3996e+00, -9.0804e-01,  2.7910e-01,  ..., -1.3047e+00,\n",
      "           -1.1298e+00, -9.1075e-01],\n",
      "          [-1.4871e+00, -1.0093e+00,  5.7790e-02,  ..., -1.6231e+00,\n",
      "           -1.4232e+00, -1.1860e+00],\n",
      "          ...,\n",
      "          [ 1.1352e-01,  3.3504e-01,  1.3189e-01,  ..., -3.6720e-01,\n",
      "           -3.5018e-01, -4.3947e-01],\n",
      "          [-2.8824e-02,  2.5818e-01,  2.4352e-01,  ..., -6.2898e-01,\n",
      "           -5.6458e-01, -5.8291e-01],\n",
      "          [-1.3667e-01,  1.9366e-01,  3.0737e-01,  ..., -8.5100e-01,\n",
      "           -7.3297e-01, -6.8596e-01]]],\n",
      "\n",
      "\n",
      "        [[[-7.9933e-01, -7.5738e-01, -7.2913e-01,  ..., -7.1444e-01,\n",
      "           -6.6938e-01, -3.2644e-01],\n",
      "          [-9.1336e-01, -8.6979e-01, -8.3259e-01,  ..., -7.3629e-01,\n",
      "           -7.0407e-01, -4.1283e-01],\n",
      "          [-1.0676e+00, -1.0213e+00, -9.7075e-01,  ..., -7.4769e-01,\n",
      "           -7.4278e-01, -5.3978e-01],\n",
      "          ...,\n",
      "          [ 1.6914e+00,  2.5238e+00,  2.4833e+00,  ...,  8.8894e-01,\n",
      "            1.0514e+00,  1.0101e+00],\n",
      "          [ 1.5043e+00,  2.4278e+00,  2.4225e+00,  ..., -3.6770e-01,\n",
      "            2.2084e-02,  3.3435e-01],\n",
      "          [ 1.1735e+00,  2.0654e+00,  2.0188e+00,  ..., -1.2892e+00,\n",
      "           -7.6049e-01, -2.1948e-01]],\n",
      "\n",
      "         [[-8.0865e-01, -6.2220e-01, -5.2855e-01,  ..., -6.6310e-01,\n",
      "           -8.2952e-01, -5.2868e-01],\n",
      "          [-9.7538e-01, -7.8288e-01, -6.6421e-01,  ..., -7.3777e-01,\n",
      "           -9.0711e-01, -6.4060e-01],\n",
      "          [-1.2534e+00, -1.0514e+00, -8.9428e-01,  ..., -8.5442e-01,\n",
      "           -1.0358e+00, -8.3234e-01],\n",
      "          ...,\n",
      "          [ 8.4162e-01,  1.7139e+00,  1.7553e+00,  ...,  1.6589e+00,\n",
      "            2.1663e+00,  1.9482e+00],\n",
      "          [ 6.6240e-01,  1.4577e+00,  1.5238e+00,  ...,  5.3375e-01,\n",
      "            1.2477e+00,  1.4026e+00],\n",
      "          [ 4.2437e-01,  1.1628e+00,  1.2407e+00,  ..., -3.3389e-01,\n",
      "            5.2705e-01,  9.5517e-01]],\n",
      "\n",
      "         [[-7.5295e-01, -5.3093e-01, -5.1647e-01,  ..., -8.3912e-01,\n",
      "           -1.0147e+00, -1.0368e+00],\n",
      "          [-9.4817e-01, -7.1900e-01, -6.6357e-01,  ..., -9.8311e-01,\n",
      "           -1.1662e+00, -1.1950e+00],\n",
      "          [-1.2514e+00, -1.0182e+00, -9.0548e-01,  ..., -1.2006e+00,\n",
      "           -1.3941e+00, -1.4360e+00],\n",
      "          ...,\n",
      "          [ 1.1330e-01,  8.5351e-01,  8.7823e-01,  ..., -1.0502e+00,\n",
      "           -6.0034e-01, -4.5878e-01],\n",
      "          [ 4.0768e-01,  1.2727e+00,  1.3634e+00,  ..., -9.8608e-01,\n",
      "           -4.7545e-01, -2.7401e-01],\n",
      "          [ 6.1540e-01,  1.5666e+00,  1.7302e+00,  ..., -8.4072e-01,\n",
      "           -3.3498e-01, -1.1183e-01]],\n",
      "\n",
      "         ...,\n",
      "\n",
      "         [[ 1.9319e+00,  2.2286e+00,  1.1725e+00,  ...,  3.9366e+00,\n",
      "            5.6514e-01, -9.5116e-01],\n",
      "          [ 1.8479e+00,  2.1900e+00,  1.2120e+00,  ...,  4.2185e+00,\n",
      "            8.6642e-01, -7.0885e-01],\n",
      "          [ 1.6956e+00,  2.0997e+00,  1.2412e+00,  ...,  4.6853e+00,\n",
      "            1.3978e+00, -2.7762e-01],\n",
      "          ...,\n",
      "          [-9.8440e-01, -1.0264e+00, -1.1019e+00,  ..., -1.4782e+00,\n",
      "           -1.2307e+00, -9.0564e-01],\n",
      "          [-8.3325e-01, -9.4197e-01, -1.0664e+00,  ..., -1.0714e+00,\n",
      "           -8.7819e-01, -6.5679e-01],\n",
      "          [-7.1617e-01, -8.4692e-01, -9.7951e-01,  ..., -6.9329e-01,\n",
      "           -5.5396e-01, -4.3592e-01]],\n",
      "\n",
      "         [[ 2.2018e+00,  1.8812e+00,  5.1214e-01,  ...,  1.1339e+00,\n",
      "           -4.6632e-01, -1.0485e+00],\n",
      "          [ 2.1867e+00,  1.9071e+00,  5.8365e-01,  ...,  1.2930e+00,\n",
      "           -3.1511e-01, -9.3496e-01],\n",
      "          [ 2.1504e+00,  1.9326e+00,  6.8240e-01,  ...,  1.5736e+00,\n",
      "           -3.2217e-02, -7.1869e-01],\n",
      "          ...,\n",
      "          [-1.3705e+00, -1.4846e+00, -1.6377e+00,  ..., -1.6569e+00,\n",
      "           -1.5759e+00, -1.3871e+00],\n",
      "          [-1.1634e+00, -1.2747e+00, -1.4171e+00,  ..., -1.4176e+00,\n",
      "           -1.3445e+00, -1.1792e+00],\n",
      "          [-9.5179e-01, -1.0248e+00, -1.1243e+00,  ..., -1.1211e+00,\n",
      "           -1.0662e+00, -9.4889e-01]],\n",
      "\n",
      "         [[ 2.1388e+00,  1.4498e+00,  4.0047e-02,  ...,  1.7559e-02,\n",
      "           -8.3092e-01, -1.0688e+00],\n",
      "          [ 2.1620e+00,  1.5038e+00,  1.2235e-01,  ...,  9.2065e-02,\n",
      "           -7.6703e-01, -1.0275e+00],\n",
      "          [ 2.1925e+00,  1.5819e+00,  2.4660e-01,  ...,  2.3179e-01,\n",
      "           -6.3705e-01, -9.3811e-01],\n",
      "          ...,\n",
      "          [-9.4086e-01, -1.0715e+00, -1.4079e+00,  ..., -1.4470e+00,\n",
      "           -1.5200e+00, -1.5106e+00],\n",
      "          [-9.0623e-01, -1.0160e+00, -1.3233e+00,  ..., -1.4228e+00,\n",
      "           -1.5063e+00, -1.4841e+00],\n",
      "          [-7.6227e-01, -8.0113e-01, -1.0160e+00,  ..., -1.2545e+00,\n",
      "           -1.3478e+00, -1.3284e+00]]],\n",
      "\n",
      "\n",
      "        [[[-9.8252e-01, -8.3074e-01, -5.4819e-01,  ..., -9.9631e-01,\n",
      "           -8.0859e-01, -5.7435e-01],\n",
      "          [-1.1223e+00, -9.7385e-01, -6.8370e-01,  ..., -1.0901e+00,\n",
      "           -9.1558e-01, -7.0026e-01],\n",
      "          [-1.3455e+00, -1.2042e+00, -9.0510e-01,  ..., -1.2450e+00,\n",
      "           -1.0903e+00, -9.0362e-01],\n",
      "          ...,\n",
      "          [-6.4982e-01, -5.9306e-01, -6.8120e-01,  ..., -1.1405e+00,\n",
      "           -1.0453e+00, -1.1027e+00],\n",
      "          [-6.7707e-01, -7.1297e-01, -8.5828e-01,  ..., -8.7164e-01,\n",
      "           -8.1483e-01, -8.7221e-01],\n",
      "          [-6.7254e-01, -7.2514e-01, -8.7242e-01,  ..., -6.8620e-01,\n",
      "           -6.7813e-01, -7.5269e-01]],\n",
      "\n",
      "         [[-8.8340e-01, -7.5512e-01, -4.2379e-01,  ..., -7.9610e-01,\n",
      "           -8.3472e-01, -5.2973e-01],\n",
      "          [-9.8184e-01, -8.5743e-01, -5.2849e-01,  ..., -8.4209e-01,\n",
      "           -8.7633e-01, -5.9661e-01],\n",
      "          [-1.1271e+00, -1.0100e+00, -6.8821e-01,  ..., -9.1322e-01,\n",
      "           -9.3738e-01, -6.9621e-01],\n",
      "          ...,\n",
      "          [-1.3348e+00, -7.7302e-01,  2.4999e-01,  ..., -7.2557e-01,\n",
      "           -4.2314e-01, -4.4483e-01],\n",
      "          [-1.3776e+00, -8.3808e-01,  8.4855e-02,  ..., -2.7115e-01,\n",
      "           -1.8722e-01, -3.9352e-01],\n",
      "          [-1.2677e+00, -8.3067e-01, -1.6394e-01,  ...,  1.2803e-01,\n",
      "           -5.9020e-02, -4.1844e-01]],\n",
      "\n",
      "         [[-8.7136e-01, -7.8604e-01, -2.3704e-01,  ..., -8.6151e-01,\n",
      "           -5.8018e-01, -1.3602e-01],\n",
      "          [-9.5993e-01, -8.6495e-01, -3.2792e-01,  ..., -9.2113e-01,\n",
      "           -6.6737e-01, -2.6433e-01],\n",
      "          [-1.0863e+00, -9.7644e-01, -4.6117e-01,  ..., -1.0153e+00,\n",
      "           -8.0245e-01, -4.5883e-01],\n",
      "          ...,\n",
      "          [-5.2788e-01,  1.3248e-01,  5.4812e-01,  ..., -4.8706e-01,\n",
      "           -4.5290e-01, -5.6510e-01],\n",
      "          [-7.9011e-01, -4.3293e-02,  4.1899e-01,  ...,  1.3265e-02,\n",
      "           -2.0563e-01, -4.8416e-01],\n",
      "          [-9.3793e-01, -2.2528e-01,  1.1546e-01,  ...,  4.4059e-01,\n",
      "           -6.3456e-02, -4.2868e-01]],\n",
      "\n",
      "         ...,\n",
      "\n",
      "         [[-8.8672e-01, -8.5495e-01, -7.9281e-01,  ...,  3.1753e+00,\n",
      "            2.7061e+00,  8.4747e-01],\n",
      "          [-9.0118e-01, -8.7377e-01, -8.2014e-01,  ...,  3.4032e+00,\n",
      "            2.7168e+00,  8.0079e-01],\n",
      "          [-9.1246e-01, -8.9241e-01, -8.5332e-01,  ...,  3.7433e+00,\n",
      "            2.7230e+00,  7.3290e-01],\n",
      "          ...,\n",
      "          [-1.2819e+00, -1.2763e+00, -1.2686e+00,  ...,  7.1566e-01,\n",
      "            9.9584e-01,  5.2540e-01],\n",
      "          [-1.4105e+00, -1.3941e+00, -1.3532e+00,  ...,  6.9798e-01,\n",
      "            7.1987e-01,  1.8030e-01],\n",
      "          [-1.3981e+00, -1.3786e+00, -1.3136e+00,  ...,  6.3270e-01,\n",
      "            4.2156e-01, -1.2039e-01]],\n",
      "\n",
      "         [[-6.1301e-01, -6.2092e-01, -6.2790e-01,  ...,  2.7580e+00,\n",
      "            2.1036e+00,  5.6865e-01],\n",
      "          [-6.3233e-01, -6.4210e-01, -6.5210e-01,  ...,  2.8526e+00,\n",
      "            2.0633e+00,  5.1961e-01],\n",
      "          [-6.5927e-01, -6.7128e-01, -6.8582e-01,  ...,  3.0062e+00,\n",
      "            2.0132e+00,  4.5423e-01],\n",
      "          ...,\n",
      "          [-1.1028e+00, -1.0967e+00, -1.1064e+00,  ...,  5.1464e-01,\n",
      "            6.6406e-01,  3.3129e-01],\n",
      "          [-1.3309e+00, -1.3053e+00, -1.2793e+00,  ...,  6.0857e-01,\n",
      "            5.5094e-01,  8.5100e-02],\n",
      "          [-1.5851e+00, -1.5268e+00, -1.4312e+00,  ...,  7.0240e-01,\n",
      "            4.0402e-01, -1.8716e-01]],\n",
      "\n",
      "         [[-4.6424e-01, -4.9502e-01, -5.0755e-01,  ...,  1.8254e+00,\n",
      "            1.0229e+00,  1.2717e-02],\n",
      "          [-4.9061e-01, -5.2082e-01, -5.3510e-01,  ...,  1.8551e+00,\n",
      "            9.9316e-01, -1.3827e-02],\n",
      "          [-5.3086e-01, -5.5896e-01, -5.7556e-01,  ...,  1.9118e+00,\n",
      "            9.5713e-01, -4.9995e-02],\n",
      "          ...,\n",
      "          [-7.1256e-01, -5.7673e-01, -6.2769e-01,  ...,  1.2509e+00,\n",
      "            1.1025e+00,  6.0157e-01],\n",
      "          [-9.1620e-01, -6.8008e-01, -6.0869e-01,  ...,  1.1331e+00,\n",
      "            8.8944e-01,  3.2205e-01],\n",
      "          [-1.0919e+00, -7.3839e-01, -4.9017e-01,  ...,  8.4130e-01,\n",
      "            5.3436e-01, -1.8672e-02]]]], dtype=torch.float64)\n",
      "Positive: tensor([[[[-5.2361e-01, -5.7882e-01, -5.4601e-01,  ..., -4.5069e-01,\n",
      "           -5.7085e-01, -4.3635e-01],\n",
      "          [-5.5406e-01, -6.0938e-01, -5.8301e-01,  ..., -4.6594e-01,\n",
      "           -5.7694e-01, -4.5759e-01],\n",
      "          [-5.8790e-01, -6.4031e-01, -6.2222e-01,  ..., -4.8030e-01,\n",
      "           -5.8032e-01, -4.8552e-01],\n",
      "          ...,\n",
      "          [ 1.8909e+00,  2.6784e+00,  2.7029e+00,  ...,  2.5060e+00,\n",
      "            2.5852e+00,  1.8946e+00],\n",
      "          [ 1.7361e+00,  2.6037e+00,  2.8033e+00,  ...,  2.6209e+00,\n",
      "            2.6131e+00,  1.8679e+00],\n",
      "          [ 1.5459e+00,  2.4735e+00,  2.8313e+00,  ...,  2.6542e+00,\n",
      "            2.5960e+00,  1.8001e+00]],\n",
      "\n",
      "         [[-6.2406e-01, -6.2903e-01, -6.1345e-01,  ..., -6.0690e-01,\n",
      "           -6.0959e-01, -3.6930e-01],\n",
      "          [-6.9231e-01, -7.0078e-01, -6.8666e-01,  ..., -6.3945e-01,\n",
      "           -6.3507e-01, -4.0744e-01],\n",
      "          [-7.8519e-01, -7.9824e-01, -7.8621e-01,  ..., -6.6801e-01,\n",
      "           -6.5834e-01, -4.5538e-01],\n",
      "          ...,\n",
      "          [ 7.6962e-01,  1.4616e+00,  1.7007e+00,  ...,  1.7018e+00,\n",
      "            1.9796e+00,  1.5827e+00],\n",
      "          [ 9.7885e-01,  1.6940e+00,  1.7905e+00,  ...,  2.4059e+00,\n",
      "            2.6890e+00,  2.1168e+00],\n",
      "          [ 1.2857e+00,  1.9787e+00,  1.7676e+00,  ...,  3.3206e+00,\n",
      "            3.6685e+00,  2.8865e+00]],\n",
      "\n",
      "         [[-8.9880e-01, -9.0003e-01, -7.8041e-01,  ..., -8.9985e-01,\n",
      "           -7.3113e-01, -3.1675e-01],\n",
      "          [-1.0058e+00, -1.0026e+00, -8.8433e-01,  ..., -1.0122e+00,\n",
      "           -8.2866e-01, -4.1693e-01],\n",
      "          [-1.1651e+00, -1.1554e+00, -1.0386e+00,  ..., -1.1521e+00,\n",
      "           -9.5585e-01, -5.5845e-01],\n",
      "          ...,\n",
      "          [-5.7444e-01, -2.6395e-01, -5.5054e-02,  ..., -9.8367e-01,\n",
      "           -7.1509e-01, -5.4977e-01],\n",
      "          [-6.0485e-01, -3.0049e-01, -1.2408e-01,  ..., -1.0577e+00,\n",
      "           -6.6333e-01, -4.4870e-01],\n",
      "          [-6.4382e-01, -3.9573e-01, -3.1677e-01,  ..., -9.8701e-01,\n",
      "           -5.0279e-01, -2.7175e-01]],\n",
      "\n",
      "         ...,\n",
      "\n",
      "         [[-4.4368e-01, -4.9564e-01, -5.4969e-01,  ...,  6.8139e-01,\n",
      "            9.2204e-01,  7.8579e-01],\n",
      "          [-4.3819e-01, -4.8108e-01, -5.2846e-01,  ...,  5.9368e-01,\n",
      "            8.4276e-01,  7.2087e-01],\n",
      "          [-4.2949e-01, -4.5797e-01, -4.9489e-01,  ...,  4.5962e-01,\n",
      "            7.1719e-01,  6.1646e-01],\n",
      "          ...,\n",
      "          [-5.3532e-01, -5.3209e-01, -3.9913e-01,  ...,  4.2201e+00,\n",
      "            4.3533e+00,  2.9273e+00],\n",
      "          [-6.0296e-01, -6.6790e-01, -5.9824e-01,  ...,  3.8076e+00,\n",
      "            3.5795e+00,  2.2655e+00],\n",
      "          [-6.4491e-01, -7.2605e-01, -6.8343e-01,  ...,  3.4190e+00,\n",
      "            2.8852e+00,  1.6820e+00]],\n",
      "\n",
      "         [[-6.0313e-01, -5.9320e-01, -5.4242e-01,  ...,  3.6869e-01,\n",
      "            2.8741e-01,  4.8637e-02],\n",
      "          [-5.9457e-01, -5.8402e-01, -5.3341e-01,  ...,  3.2413e-01,\n",
      "            2.5630e-01,  3.0572e-02],\n",
      "          [-5.7880e-01, -5.6711e-01, -5.1675e-01,  ...,  2.5128e-01,\n",
      "            2.0467e-01,  8.5589e-04],\n",
      "          ...,\n",
      "          [-3.8955e-01, -4.6644e-01, -5.3281e-01,  ...,  2.3050e+00,\n",
      "            2.3071e+00,  1.3719e+00],\n",
      "          [-4.6741e-01, -5.8434e-01, -6.5842e-01,  ...,  2.3715e+00,\n",
      "            2.2144e+00,  1.2598e+00],\n",
      "          [-5.1841e-01, -6.4738e-01, -7.1740e-01,  ...,  2.4086e+00,\n",
      "            2.0704e+00,  1.1051e+00]],\n",
      "\n",
      "         [[-5.9009e-01, -4.9662e-01, -3.9545e-01,  ...,  7.5184e-02,\n",
      "           -1.0854e-01, -3.1438e-01],\n",
      "          [-5.8754e-01, -4.9565e-01, -3.9510e-01,  ...,  4.9070e-02,\n",
      "           -1.2495e-01, -3.2105e-01],\n",
      "          [-5.8067e-01, -4.9208e-01, -3.9262e-01,  ...,  4.6020e-03,\n",
      "           -1.5236e-01, -3.3079e-01],\n",
      "          ...,\n",
      "          [-4.2442e-01, -5.4814e-01, -7.3087e-01,  ...,  8.1200e-01,\n",
      "            9.3997e-01,  4.3347e-01],\n",
      "          [-5.1104e-01, -6.5630e-01, -8.3029e-01,  ...,  6.7882e-01,\n",
      "            7.6823e-01,  3.0415e-01],\n",
      "          [-5.6709e-01, -7.1322e-01, -8.7096e-01,  ...,  5.8534e-01,\n",
      "            6.0742e-01,  1.7035e-01]]],\n",
      "\n",
      "\n",
      "        [[[-4.6431e-01, -8.2203e-01,  1.7098e-01,  ..., -8.4902e-01,\n",
      "           -8.2897e-01, -8.3443e-01],\n",
      "          [-4.5126e-01, -7.1291e-01,  2.2647e-01,  ..., -9.4930e-01,\n",
      "           -9.3829e-01, -9.4479e-01],\n",
      "          [-4.3510e-01, -5.5407e-01,  2.9461e-01,  ..., -1.0701e+00,\n",
      "           -1.0711e+00, -1.0776e+00],\n",
      "          ...,\n",
      "          [-1.2094e+00, -8.3049e-01, -3.1779e-01,  ..., -2.8903e-01,\n",
      "           -9.4778e-01, -1.2685e+00],\n",
      "          [-1.1118e+00, -8.4149e-01, -5.0979e-01,  ..., -3.7654e-01,\n",
      "           -9.8051e-01, -1.1907e+00],\n",
      "          [-9.5217e-01, -7.7955e-01, -6.1556e-01,  ..., -4.4172e-01,\n",
      "           -9.4864e-01, -1.0472e+00]],\n",
      "\n",
      "         [[-7.8920e-01, -9.1223e-01, -1.7434e-01,  ..., -8.9326e-01,\n",
      "           -8.4001e-01, -8.2470e-01],\n",
      "          [-8.2859e-01, -9.0506e-01, -2.1429e-01,  ..., -1.0031e+00,\n",
      "           -9.6964e-01, -9.5834e-01],\n",
      "          [-8.6628e-01, -8.7540e-01, -2.6971e-01,  ..., -1.1286e+00,\n",
      "           -1.1211e+00, -1.1125e+00],\n",
      "          ...,\n",
      "          [-8.7808e-01, -5.7448e-01, -4.1969e-01,  ...,  2.0316e-01,\n",
      "           -6.9092e-01, -1.2534e+00],\n",
      "          [-8.5696e-01, -6.5951e-01, -5.9859e-01,  ...,  9.6187e-01,\n",
      "           -1.9420e-01, -9.1246e-01],\n",
      "          [-9.4503e-01, -8.3183e-01, -8.6857e-01,  ...,  1.6986e+00,\n",
      "            2.5576e-01, -6.7187e-01]],\n",
      "\n",
      "         [[-7.6813e-01, -8.0295e-01, -5.3631e-01,  ..., -7.0311e-01,\n",
      "           -8.1405e-01, -8.4921e-01],\n",
      "          [-8.2467e-01, -8.5098e-01, -6.1659e-01,  ..., -7.9865e-01,\n",
      "           -9.0916e-01, -9.4445e-01],\n",
      "          [-8.7840e-01, -8.9296e-01, -7.1074e-01,  ..., -8.9983e-01,\n",
      "           -1.0078e+00, -1.0432e+00],\n",
      "          ...,\n",
      "          [-1.1510e+00, -1.1462e+00, -1.1542e+00,  ..., -1.9360e-01,\n",
      "            2.8203e-03, -1.3442e-01],\n",
      "          [-1.1568e+00, -1.1499e+00, -1.1549e+00,  ..., -2.2502e-01,\n",
      "           -3.5553e-02, -1.9260e-01],\n",
      "          [-1.1378e+00, -1.1279e+00, -1.1198e+00,  ..., -2.3946e-01,\n",
      "           -3.0941e-02, -1.9989e-01]],\n",
      "\n",
      "         ...,\n",
      "\n",
      "         [[-2.5216e-01, -1.1417e+00, -1.1160e+00,  ..., -6.2142e-01,\n",
      "           -1.2848e+00, -1.3008e+00],\n",
      "          [-2.8853e-01, -1.1313e+00, -1.0886e+00,  ..., -7.0972e-01,\n",
      "           -1.4030e+00, -1.4443e+00],\n",
      "          [-3.2988e-01, -1.0679e+00, -1.0021e+00,  ..., -8.1530e-01,\n",
      "           -1.5443e+00, -1.6357e+00],\n",
      "          ...,\n",
      "          [-1.0317e+00, -9.8290e-01, -8.7975e-01,  ..., -4.2816e-01,\n",
      "           -4.1334e-01, -6.3620e-01],\n",
      "          [-9.7367e-01, -8.8119e-01, -8.0245e-01,  ..., -5.5853e-01,\n",
      "           -6.1712e-01, -8.1537e-01],\n",
      "          [-8.6466e-01, -7.5863e-01, -7.3455e-01,  ..., -6.4495e-01,\n",
      "           -7.2921e-01, -8.8987e-01]],\n",
      "\n",
      "         [[ 2.0709e+00,  3.5168e-02, -1.0037e+00,  ..., -3.1521e-01,\n",
      "           -9.8626e-01, -1.0670e+00],\n",
      "          [ 2.1805e+00,  2.8864e-01, -6.9616e-01,  ..., -2.9024e-01,\n",
      "           -9.6613e-01, -1.0670e+00],\n",
      "          [ 2.3034e+00,  6.7450e-01, -2.1390e-01,  ..., -2.2093e-01,\n",
      "           -8.9178e-01, -1.0291e+00],\n",
      "          ...,\n",
      "          [-7.5065e-01, -7.1597e-01, -7.5725e-01,  ..., -6.9000e-01,\n",
      "           -5.7368e-01, -6.5980e-01],\n",
      "          [-7.5339e-01, -6.9413e-01, -7.5448e-01,  ..., -8.5525e-01,\n",
      "           -8.0906e-01, -8.5381e-01],\n",
      "          [-7.2187e-01, -6.6599e-01, -7.7462e-01,  ..., -9.5748e-01,\n",
      "           -9.3133e-01, -9.3806e-01]],\n",
      "\n",
      "         [[ 2.8877e+00,  8.0845e-01, -6.9273e-01,  ..., -2.5542e-01,\n",
      "           -7.6015e-01, -7.7590e-01],\n",
      "          [ 2.9549e+00,  1.0408e+00, -3.6793e-01,  ..., -1.8475e-01,\n",
      "           -6.8457e-01, -7.1629e-01],\n",
      "          [ 3.0139e+00,  1.3672e+00,  1.0519e-01,  ..., -5.5756e-02,\n",
      "           -5.4420e-01, -6.0632e-01],\n",
      "          ...,\n",
      "          [ 2.7575e-01,  2.1681e-01, -1.7389e-01,  ..., -1.2781e+00,\n",
      "           -1.0553e+00, -8.8155e-01],\n",
      "          [ 2.3306e-01,  2.1976e-01, -2.5211e-01,  ..., -1.4616e+00,\n",
      "           -1.2879e+00, -1.0888e+00],\n",
      "          [ 2.7431e-01,  2.8146e-01, -2.8609e-01,  ..., -1.5561e+00,\n",
      "           -1.3896e+00, -1.1709e+00]]],\n",
      "\n",
      "\n",
      "        [[[-8.5504e-01, -8.0383e-01, -7.4927e-01,  ..., -1.0893e-01,\n",
      "           -5.4728e-01, -8.1503e-01],\n",
      "          [-9.2011e-01, -8.6826e-01, -8.1747e-01,  ..., -1.4559e-01,\n",
      "           -5.9721e-01, -8.6968e-01],\n",
      "          [-1.0038e+00, -9.5143e-01, -9.0783e-01,  ..., -1.9768e-01,\n",
      "           -6.6210e-01, -9.3789e-01],\n",
      "          ...,\n",
      "          [ 1.1861e+00,  1.4205e+00,  7.7046e-01,  ...,  9.8524e-02,\n",
      "            1.8036e-01, -1.1969e-01],\n",
      "          [ 1.5550e+00,  1.8555e+00,  1.0188e+00,  ..., -2.0673e-01,\n",
      "           -1.5923e-02, -2.9452e-01],\n",
      "          [ 1.8242e+00,  2.2146e+00,  1.3320e+00,  ..., -5.0414e-01,\n",
      "           -2.5766e-01, -5.0395e-01]],\n",
      "\n",
      "         [[-9.5688e-01, -9.7609e-01, -9.4615e-01,  ..., -6.2852e-02,\n",
      "           -6.3845e-01, -9.4460e-01],\n",
      "          [-1.0264e+00, -1.0464e+00, -1.0215e+00,  ..., -1.0539e-01,\n",
      "           -6.8796e-01, -9.9690e-01],\n",
      "          [-1.0981e+00, -1.1191e+00, -1.1035e+00,  ..., -1.6082e-01,\n",
      "           -7.3801e-01, -1.0438e+00],\n",
      "          ...,\n",
      "          [ 2.5137e+00,  2.9525e+00,  2.1733e+00,  ...,  5.7561e-02,\n",
      "           -2.1398e-01, -5.1170e-01],\n",
      "          [ 2.5839e+00,  3.0093e+00,  2.2006e+00,  ..., -2.0671e-01,\n",
      "           -4.2317e-01, -6.2744e-01],\n",
      "          [ 2.6226e+00,  3.0550e+00,  2.2758e+00,  ..., -4.2680e-01,\n",
      "           -5.9737e-01, -7.3378e-01]],\n",
      "\n",
      "         [[-8.0903e-01, -8.3227e-01, -6.9559e-01,  ..., -7.0353e-01,\n",
      "           -8.3920e-01, -8.4179e-01],\n",
      "          [-8.1523e-01, -8.3678e-01, -7.2007e-01,  ..., -7.2488e-01,\n",
      "           -8.5722e-01, -8.6474e-01],\n",
      "          [-7.9510e-01, -8.1491e-01, -7.3232e-01,  ..., -7.2979e-01,\n",
      "           -8.5484e-01, -8.6984e-01],\n",
      "          ...,\n",
      "          [ 2.4409e+00,  2.5994e+00,  1.6946e+00,  ..., -9.9771e-01,\n",
      "           -9.0265e-01, -8.8558e-01],\n",
      "          [ 2.4742e+00,  2.4657e+00,  1.3154e+00,  ..., -8.2152e-01,\n",
      "           -7.8429e-01, -8.0906e-01],\n",
      "          [ 2.4947e+00,  2.3821e+00,  1.1288e+00,  ..., -6.1774e-01,\n",
      "           -6.7069e-01, -7.5045e-01]],\n",
      "\n",
      "         ...,\n",
      "\n",
      "         [[ 3.8903e-01,  1.6473e-01, -3.8048e-01,  ..., -2.1667e-01,\n",
      "           -3.5478e-01, -5.8269e-01],\n",
      "          [ 3.0467e-01,  1.1049e-01, -3.9951e-01,  ..., -2.9534e-01,\n",
      "           -4.2240e-01, -6.4338e-01],\n",
      "          [ 1.7702e-01,  2.9205e-02, -4.2474e-01,  ..., -4.0618e-01,\n",
      "           -5.1463e-01, -7.2315e-01],\n",
      "          ...,\n",
      "          [-1.1358e+00, -8.7054e-01, -3.6601e-01,  ..., -1.2007e+00,\n",
      "           -1.0984e+00, -1.0383e+00],\n",
      "          [-1.0636e+00, -7.7164e-01, -2.3364e-01,  ..., -1.0519e+00,\n",
      "           -9.7822e-01, -9.4037e-01],\n",
      "          [-1.0745e+00, -7.3037e-01, -1.2421e-01,  ..., -9.6375e-01,\n",
      "           -9.1038e-01, -8.9774e-01]],\n",
      "\n",
      "         [[ 6.4186e-01,  4.5659e-01, -2.0156e-01,  ..., -8.9147e-02,\n",
      "           -3.0815e-01, -6.2384e-01],\n",
      "          [ 5.4440e-01,  3.8763e-01, -2.3667e-01,  ..., -1.7288e-01,\n",
      "           -3.7611e-01, -6.8500e-01],\n",
      "          [ 3.9291e-01,  2.8052e-01, -2.8965e-01,  ..., -2.9543e-01,\n",
      "           -4.7037e-01, -7.6590e-01],\n",
      "          ...,\n",
      "          [-1.2665e+00, -9.1564e-01, -2.6476e-01,  ..., -1.3045e+00,\n",
      "           -1.1680e+00, -1.0967e+00],\n",
      "          [-1.1921e+00, -8.0997e-01, -9.8355e-02,  ..., -1.2831e+00,\n",
      "           -1.1355e+00, -1.0384e+00],\n",
      "          [-1.1289e+00, -6.9386e-01,  8.5648e-02,  ..., -1.2347e+00,\n",
      "           -1.0940e+00, -9.8779e-01]],\n",
      "\n",
      "         [[ 1.1022e+00,  9.5390e-01,  7.0031e-02,  ..., -5.0485e-02,\n",
      "           -3.9398e-01, -8.0559e-01],\n",
      "          [ 9.7110e-01,  8.5374e-01,  8.3006e-03,  ..., -1.4467e-01,\n",
      "           -4.6694e-01, -8.7382e-01],\n",
      "          [ 7.5432e-01,  6.8518e-01, -9.3732e-02,  ..., -2.8382e-01,\n",
      "           -5.6364e-01, -9.5613e-01],\n",
      "          ...,\n",
      "          [-1.3634e+00, -8.2512e-01,  9.0790e-03,  ..., -9.0351e-01,\n",
      "           -6.9551e-01, -7.3989e-01],\n",
      "          [-1.2593e+00, -7.1011e-01,  1.4947e-01,  ..., -1.0080e+00,\n",
      "           -7.5575e-01, -7.3538e-01],\n",
      "          [-1.0615e+00, -5.1606e-01,  3.0089e-01,  ..., -9.5817e-01,\n",
      "           -7.0995e-01, -6.5490e-01]]],\n",
      "\n",
      "\n",
      "        ...,\n",
      "\n",
      "\n",
      "        [[[-1.1339e+00, -1.0090e+00, -2.4144e-01,  ..., -1.3990e-01,\n",
      "           -1.0581e+00, -9.2265e-01],\n",
      "          [-1.1660e+00, -1.0168e+00, -2.4158e-01,  ..., -7.8224e-02,\n",
      "           -9.7847e-01, -8.7492e-01],\n",
      "          [-1.1854e+00, -9.9138e-01, -2.1088e-01,  ...,  4.0322e-02,\n",
      "           -8.1314e-01, -7.6719e-01],\n",
      "          ...,\n",
      "          [-1.1842e+00, -5.9612e-01, -5.3207e-03,  ..., -8.1333e-01,\n",
      "           -1.0305e+00, -1.4201e+00],\n",
      "          [-1.0077e+00, -5.9471e-01, -2.4255e-01,  ..., -7.5095e-01,\n",
      "           -9.8162e-01, -1.2927e+00],\n",
      "          [-9.0100e-01, -6.1917e-01, -4.3531e-01,  ..., -7.0235e-01,\n",
      "           -9.2776e-01, -1.1884e+00]],\n",
      "\n",
      "         [[-9.4486e-01, -5.7929e-02,  1.0116e+00,  ...,  2.9105e-02,\n",
      "           -7.3821e-01, -1.1051e+00],\n",
      "          [-9.9672e-01, -9.0153e-02,  1.0120e+00,  ..., -9.6025e-03,\n",
      "           -7.6551e-01, -1.1417e+00],\n",
      "          [-1.0692e+00, -1.2749e-01,  1.0306e+00,  ..., -6.5355e-02,\n",
      "           -7.9753e-01, -1.1903e+00],\n",
      "          ...,\n",
      "          [ 9.0364e-01,  1.5404e+00,  1.7165e+00,  ...,  1.1086e+00,\n",
      "            8.3682e-01,  6.0447e-03],\n",
      "          [ 1.0244e+00,  1.5963e+00,  1.3114e+00,  ...,  8.9736e-01,\n",
      "            6.3111e-01, -2.9002e-01],\n",
      "          [ 8.7742e-01,  1.2245e+00,  4.4214e-01,  ...,  4.2801e-01,\n",
      "            2.6815e-01, -5.6837e-01]],\n",
      "\n",
      "         [[-5.1956e-01,  6.1644e-01,  1.3142e+00,  ..., -1.4622e-01,\n",
      "           -7.9544e-01, -1.0781e+00],\n",
      "          [-6.4073e-01,  5.4537e-01,  1.3333e+00,  ..., -2.3833e-01,\n",
      "           -8.8671e-01, -1.1804e+00],\n",
      "          [-8.4029e-01,  4.2967e-01,  1.3747e+00,  ..., -3.9450e-01,\n",
      "           -1.0373e+00, -1.3502e+00],\n",
      "          ...,\n",
      "          [-4.5109e-01, -9.2981e-02,  1.5992e-01,  ..., -8.3470e-01,\n",
      "           -1.0421e+00, -1.2076e+00],\n",
      "          [-5.5960e-01, -7.8724e-02,  1.0564e-01,  ..., -9.8964e-01,\n",
      "           -1.3039e+00, -1.6069e+00],\n",
      "          [-6.8817e-01, -2.1531e-01, -2.7981e-01,  ..., -9.3785e-01,\n",
      "           -1.3816e+00, -1.8447e+00]],\n",
      "\n",
      "         ...,\n",
      "\n",
      "         [[-6.9871e-01, -6.9173e-01, -6.8599e-01,  ...,  1.4484e-01,\n",
      "           -2.4648e-01, -6.3942e-01],\n",
      "          [-7.3503e-01, -7.2855e-01, -7.2463e-01,  ...,  1.5714e-01,\n",
      "           -2.2847e-01, -6.2306e-01],\n",
      "          [-7.7875e-01, -7.7293e-01, -7.7170e-01,  ...,  1.9717e-01,\n",
      "           -1.7816e-01, -5.7767e-01],\n",
      "          ...,\n",
      "          [-6.3166e-01, -6.0476e-01, -6.7573e-01,  ..., -6.5570e-01,\n",
      "           -7.6889e-01, -7.9690e-01],\n",
      "          [-6.6985e-01, -6.0075e-01, -6.0591e-01,  ..., -7.5017e-01,\n",
      "           -9.0641e-01, -9.2351e-01],\n",
      "          [-7.4360e-01, -6.4497e-01, -6.2733e-01,  ..., -8.2860e-01,\n",
      "           -1.0101e+00, -1.0231e+00]],\n",
      "\n",
      "         [[-6.2364e-01, -6.1772e-01, -5.7144e-01,  ...,  2.4962e-01,\n",
      "           -7.8113e-02, -5.1679e-01],\n",
      "          [-6.5221e-01, -6.4562e-01, -6.0224e-01,  ...,  2.8579e-01,\n",
      "           -5.2169e-02, -5.0211e-01],\n",
      "          [-6.9010e-01, -6.8269e-01, -6.4451e-01,  ...,  3.6548e-01,\n",
      "            1.0476e-02, -4.6160e-01],\n",
      "          ...,\n",
      "          [-3.0339e-01, -2.5497e-01, -4.5784e-01,  ..., -1.0551e+00,\n",
      "           -1.1349e+00, -1.1963e+00],\n",
      "          [-3.7025e-01, -2.0384e-01, -2.6266e-01,  ..., -1.0944e+00,\n",
      "           -1.1567e+00, -1.2111e+00],\n",
      "          [-4.8249e-01, -2.1653e-01, -1.9860e-01,  ..., -1.1355e+00,\n",
      "           -1.1955e+00, -1.2567e+00]],\n",
      "\n",
      "         [[-5.7484e-01, -5.9222e-01, -5.5920e-01,  ...,  1.6013e-01,\n",
      "           -2.1494e-01, -5.5368e-01],\n",
      "          [-5.9955e-01, -6.1447e-01, -5.8221e-01,  ...,  2.0879e-01,\n",
      "           -1.7432e-01, -5.2526e-01],\n",
      "          [-6.3400e-01, -6.4534e-01, -6.1502e-01,  ...,  3.1058e-01,\n",
      "           -8.6077e-02, -4.6176e-01],\n",
      "          ...,\n",
      "          [-3.9150e-01, -2.3282e-01, -3.4439e-01,  ..., -2.3194e-01,\n",
      "           -6.3377e-01, -1.0047e+00],\n",
      "          [-5.7268e-01, -2.2813e-01, -1.3456e-01,  ..., -5.7594e-01,\n",
      "           -6.7265e-01, -9.8532e-01],\n",
      "          [-9.3199e-01, -3.6610e-01, -7.6179e-02,  ..., -1.0219e+00,\n",
      "           -7.9833e-01, -1.0524e+00]]],\n",
      "\n",
      "\n",
      "        [[[ 3.3412e-01,  6.2954e-01,  3.0737e-01,  ...,  4.9692e+00,\n",
      "            2.0654e+00, -3.3377e-01],\n",
      "          [ 2.9418e-01,  6.1420e-01,  3.4645e-01,  ...,  5.3916e+00,\n",
      "            2.4482e+00, -1.3073e-03],\n",
      "          [ 2.3062e-01,  5.8590e-01,  3.9636e-01,  ...,  6.1528e+00,\n",
      "            3.1378e+00,  5.8068e-01],\n",
      "          ...,\n",
      "          [-2.4351e-01,  3.3806e-01,  1.2525e+00,  ...,  9.9962e-01,\n",
      "            1.6510e+00,  1.4902e+00],\n",
      "          [-5.3815e-01, -1.9383e-01,  7.3088e-01,  ...,  1.3287e+00,\n",
      "            2.5570e+00,  2.5332e+00],\n",
      "          [-7.7761e-01, -7.7011e-01, -6.7228e-02,  ...,  1.3429e+00,\n",
      "            2.6989e+00,  2.8246e+00]],\n",
      "\n",
      "         [[ 1.0683e+00,  8.1681e-01, -1.9032e-01,  ...,  8.3657e+00,\n",
      "            3.9734e+00, -2.3511e-01],\n",
      "          [ 1.1075e+00,  9.0876e-01, -6.9208e-02,  ...,  9.3254e+00,\n",
      "            4.7643e+00,  3.6721e-01],\n",
      "          [ 1.1669e+00,  1.0578e+00,  1.2017e-01,  ...,  1.1070e+01,\n",
      "            6.2303e+00,  1.4849e+00],\n",
      "          ...,\n",
      "          [-2.2866e-01, -7.2037e-02,  9.9763e-01,  ...,  1.3039e+01,\n",
      "            1.3603e+01,  1.0989e+01],\n",
      "          [-9.1324e-01, -1.0602e+00, -9.5853e-02,  ...,  1.1906e+01,\n",
      "            1.2681e+01,  1.0243e+01],\n",
      "          [-1.0553e+00, -1.2741e+00, -5.3533e-01,  ...,  9.0318e+00,\n",
      "            9.6614e+00,  7.8047e+00]],\n",
      "\n",
      "         [[-5.9777e-01, -6.4514e-01, -7.0977e-01,  ...,  3.4181e+00,\n",
      "            1.2234e+00, -5.3799e-01],\n",
      "          [-6.2164e-01, -6.5695e-01, -7.1400e-01,  ...,  3.7740e+00,\n",
      "            1.5941e+00, -2.0015e-01],\n",
      "          [-6.5513e-01, -6.6882e-01, -7.1129e-01,  ...,  4.3741e+00,\n",
      "            2.2450e+00,  3.9779e-01],\n",
      "          ...,\n",
      "          [-1.4666e+00, -1.4621e+00, -1.1104e+00,  ...,  1.2606e+01,\n",
      "            1.1613e+01,  8.1142e+00],\n",
      "          [-1.7084e+00, -1.7233e+00, -1.3684e+00,  ...,  1.1407e+01,\n",
      "            1.0148e+01,  6.9524e+00],\n",
      "          [-1.7322e+00, -1.7129e+00, -1.3617e+00,  ...,  8.8552e+00,\n",
      "            7.3531e+00,  4.8992e+00]],\n",
      "\n",
      "         ...,\n",
      "\n",
      "         [[-3.7401e-01, -4.6486e-01, -6.9348e-01,  ..., -8.8234e-01,\n",
      "           -7.7941e-01, -7.0137e-01],\n",
      "          [-3.6616e-01, -4.5395e-01, -6.8583e-01,  ..., -8.6294e-01,\n",
      "           -7.6248e-01, -6.9459e-01],\n",
      "          [-3.4608e-01, -4.2858e-01, -6.6730e-01,  ..., -8.1260e-01,\n",
      "           -7.1855e-01, -6.7217e-01],\n",
      "          ...,\n",
      "          [-4.8879e-01, -2.7219e-01, -3.0950e-01,  ..., -9.0686e-01,\n",
      "           -9.9543e-01, -9.6952e-01],\n",
      "          [-4.9258e-01, -2.6765e-01, -2.7911e-01,  ..., -8.0286e-01,\n",
      "           -9.2862e-01, -9.4287e-01],\n",
      "          [-4.3837e-01, -1.9670e-01, -2.0035e-01,  ..., -5.9788e-01,\n",
      "           -7.7942e-01, -8.5649e-01]],\n",
      "\n",
      "         [[ 1.3003e-01, -1.5879e-01, -7.1445e-01,  ..., -1.1142e+00,\n",
      "           -9.8231e-01, -8.9594e-01],\n",
      "          [ 1.7738e-01, -1.1089e-01, -6.7942e-01,  ..., -1.1149e+00,\n",
      "           -9.7942e-01, -8.9801e-01],\n",
      "          [ 2.6707e-01, -1.9668e-02, -6.1069e-01,  ..., -1.0982e+00,\n",
      "           -9.5783e-01, -8.8806e-01],\n",
      "          ...,\n",
      "          [-9.3159e-01, -8.4362e-01, -8.6998e-01,  ..., -5.9264e-01,\n",
      "           -8.6096e-01, -9.6202e-01],\n",
      "          [-9.3720e-01, -8.4547e-01, -8.6650e-01,  ..., -4.0538e-01,\n",
      "           -7.3903e-01, -9.1811e-01],\n",
      "          [-8.9175e-01, -7.8420e-01, -8.0799e-01,  ..., -1.4656e-01,\n",
      "           -5.5407e-01, -8.2499e-01]],\n",
      "\n",
      "         [[ 8.2490e-01,  3.1325e-01, -5.9297e-01,  ..., -1.1726e+00,\n",
      "           -1.0365e+00, -9.6610e-01],\n",
      "          [ 9.1448e-01,  4.0308e-01, -5.2319e-01,  ..., -1.1871e+00,\n",
      "           -1.0455e+00, -9.7757e-01],\n",
      "          [ 1.0727e+00,  5.6418e-01, -3.9416e-01,  ..., -1.1936e+00,\n",
      "           -1.0436e+00, -9.8208e-01],\n",
      "          ...,\n",
      "          [-1.4712e+00, -1.5133e+00, -1.5178e+00,  ..., -1.0359e+00,\n",
      "           -1.2290e+00, -1.3309e+00],\n",
      "          [-1.4715e+00, -1.5260e+00, -1.5329e+00,  ..., -8.9163e-01,\n",
      "           -1.1247e+00, -1.2831e+00],\n",
      "          [-1.3879e+00, -1.4490e+00, -1.4549e+00,  ..., -7.1114e-01,\n",
      "           -9.6936e-01, -1.1770e+00]]],\n",
      "\n",
      "\n",
      "        [[[-9.3151e-02, -4.7023e-01, -7.2592e-01,  ...,  1.8455e-02,\n",
      "           -4.5165e-01, -7.1491e-01],\n",
      "          [-1.6959e-01, -5.0361e-01, -7.4552e-01,  ...,  5.1913e-02,\n",
      "           -4.3282e-01, -7.0091e-01],\n",
      "          [-2.8427e-01, -5.4789e-01, -7.6246e-01,  ...,  1.2233e-01,\n",
      "           -3.8639e-01, -6.6944e-01],\n",
      "          ...,\n",
      "          [-3.9108e-01, -2.4795e-01, -5.4248e-01,  ...,  8.6778e-01,\n",
      "           -8.4257e-02, -7.0092e-01],\n",
      "          [-3.4978e-01, -3.4278e-02, -1.3714e-01,  ...,  1.4830e+00,\n",
      "            4.1915e-01, -4.3661e-01],\n",
      "          [-4.4851e-01,  1.7136e-01,  3.7178e-01,  ...,  2.3983e+00,\n",
      "            1.0269e+00, -2.5584e-01]],\n",
      "\n",
      "         [[ 5.4400e-01,  2.4066e-01, -5.3863e-01,  ..., -1.8035e-01,\n",
      "           -5.0607e-01, -8.7093e-01],\n",
      "          [ 4.2744e-01,  1.9462e-01, -5.1729e-01,  ..., -6.7113e-02,\n",
      "           -4.6350e-01, -8.4366e-01],\n",
      "          [ 2.3442e-01,  1.1399e-01, -4.7396e-01,  ...,  1.4481e-01,\n",
      "           -3.6040e-01, -7.6920e-01],\n",
      "          ...,\n",
      "          [-6.5815e-01, -6.7830e-01, -6.2582e-01,  ...,  3.0025e+00,\n",
      "            1.0585e+00, -1.8956e-01],\n",
      "          [-6.3354e-01, -7.5688e-01, -7.8557e-01,  ...,  4.0254e+00,\n",
      "            2.0584e+00,  4.9816e-01],\n",
      "          [-6.0605e-01, -7.6409e-01, -8.1561e-01,  ...,  5.1839e+00,\n",
      "            3.2089e+00,  1.2732e+00]],\n",
      "\n",
      "         [[ 7.6764e-02,  4.6909e-01, -7.8562e-02,  ..., -1.7586e-02,\n",
      "           -1.1688e-01, -8.0839e-01],\n",
      "          [-3.2930e-02,  4.2321e-01, -3.6654e-02,  ...,  1.5149e-01,\n",
      "           -9.5853e-02, -8.3544e-01],\n",
      "          [-2.0657e-01,  3.2850e-01,  3.0241e-02,  ...,  4.2532e-01,\n",
      "           -4.9505e-02, -8.3624e-01],\n",
      "          ...,\n",
      "          [-1.1755e+00, -1.1310e+00, -1.1066e+00,  ..., -1.2044e-01,\n",
      "           -6.4398e-01, -8.9877e-01],\n",
      "          [-1.2866e+00, -1.2492e+00, -1.2490e+00,  ...,  6.0947e-02,\n",
      "           -4.7085e-01, -8.3290e-01],\n",
      "          [-1.4110e+00, -1.3804e+00, -1.4078e+00,  ...,  2.4252e-01,\n",
      "           -2.7685e-01, -7.4964e-01]],\n",
      "\n",
      "         ...,\n",
      "\n",
      "         [[-3.0191e-01, -4.6114e-01, -6.1624e-01,  ..., -8.9372e-01,\n",
      "           -8.9889e-01, -8.7829e-01],\n",
      "          [-2.9465e-01, -4.8315e-01, -6.5653e-01,  ..., -9.1373e-01,\n",
      "           -9.1796e-01, -8.9501e-01],\n",
      "          [-2.7393e-01, -5.2059e-01, -7.3189e-01,  ..., -9.4684e-01,\n",
      "           -9.4900e-01, -9.2184e-01],\n",
      "          ...,\n",
      "          [ 6.8795e-02,  2.2498e-01, -3.7708e-03,  ...,  2.2432e-01,\n",
      "           -3.5741e-01, -8.1311e-01],\n",
      "          [-1.1671e-01,  1.6912e-01,  1.3725e-01,  ...,  2.4246e-01,\n",
      "           -4.0442e-01, -9.6798e-01],\n",
      "          [-6.1099e-01, -2.6248e-01, -9.0718e-02,  ..., -9.5811e-02,\n",
      "           -6.4322e-01, -1.2268e+00]],\n",
      "\n",
      "         [[-3.2167e-01, -4.2429e-01, -5.8207e-01,  ..., -8.9170e-01,\n",
      "           -8.2530e-01, -7.5359e-01],\n",
      "          [-3.1615e-01, -4.3797e-01, -6.0866e-01,  ..., -9.1351e-01,\n",
      "           -8.4063e-01, -7.6112e-01],\n",
      "          [-3.0000e-01, -4.6048e-01, -6.5776e-01,  ..., -9.4971e-01,\n",
      "           -8.6375e-01, -7.6918e-01],\n",
      "          ...,\n",
      "          [-5.2664e-01, -6.6676e-01, -9.3653e-01,  ..., -6.6297e-03,\n",
      "           -7.1748e-01, -1.0581e+00],\n",
      "          [-7.4496e-01, -8.3460e-01, -1.0273e+00,  ..., -1.7358e-03,\n",
      "           -7.6558e-01, -1.1831e+00],\n",
      "          [-1.1549e+00, -1.1790e+00, -1.2532e+00,  ..., -2.0342e-01,\n",
      "           -8.7036e-01, -1.3344e+00]],\n",
      "\n",
      "         [[-2.8145e-01, -3.9000e-01, -5.8294e-01,  ..., -6.8801e-01,\n",
      "           -5.4305e-01, -4.7025e-01],\n",
      "          [-2.7181e-01, -3.9505e-01, -6.0029e-01,  ..., -7.0377e-01,\n",
      "           -5.4845e-01, -4.6655e-01],\n",
      "          [-2.4859e-01, -4.0099e-01, -6.3056e-01,  ..., -7.2973e-01,\n",
      "           -5.5382e-01, -4.5422e-01],\n",
      "          ...,\n",
      "          [-1.1491e+00, -1.2473e+00, -1.1382e+00,  ..., -8.4673e-01,\n",
      "           -1.2190e+00, -1.1917e+00],\n",
      "          [-1.2191e+00, -1.3051e+00, -1.2176e+00,  ..., -7.9565e-01,\n",
      "           -1.1693e+00, -1.1679e+00],\n",
      "          [-1.2960e+00, -1.3528e+00, -1.3026e+00,  ..., -7.2947e-01,\n",
      "           -1.0350e+00, -1.0884e+00]]]], dtype=torch.float64)\n",
      "Negative: tensor([[[[-9.0016e-01, -9.1837e-01, -8.6066e-01,  ...,  8.4454e-01,\n",
      "           -5.0766e-01, -9.2347e-01],\n",
      "          [-8.9596e-01, -9.1755e-01, -8.6172e-01,  ...,  9.1683e-01,\n",
      "           -4.4698e-01, -8.8607e-01],\n",
      "          [-8.6772e-01, -8.9122e-01, -8.4052e-01,  ...,  1.0241e+00,\n",
      "           -3.3619e-01, -8.1185e-01],\n",
      "          ...,\n",
      "          [-1.0790e+00, -1.3827e+00, -1.4965e+00,  ...,  1.6356e+00,\n",
      "            2.4697e+00,  1.7583e+00],\n",
      "          [-1.2290e+00, -1.5753e+00, -1.7088e+00,  ...,  1.0320e+00,\n",
      "            2.0902e+00,  1.4975e+00],\n",
      "          [-1.0924e+00, -1.3367e+00, -1.4213e+00,  ...,  6.4143e-01,\n",
      "            1.4972e+00,  9.9800e-01]],\n",
      "\n",
      "         [[-8.2156e-01, -6.0846e-01, -4.9058e-01,  ...,  5.0362e-01,\n",
      "           -4.5031e-01, -8.4558e-01],\n",
      "          [-8.5147e-01, -6.3857e-01, -5.1251e-01,  ...,  4.8076e-01,\n",
      "           -4.4504e-01, -8.4137e-01],\n",
      "          [-8.7407e-01, -6.6417e-01, -5.3125e-01,  ...,  4.4103e-01,\n",
      "           -4.2188e-01, -8.1517e-01],\n",
      "          ...,\n",
      "          [-8.9101e-01, -8.2357e-01, -9.1322e-01,  ...,  2.0447e+00,\n",
      "            1.9699e+00,  7.3768e-01],\n",
      "          [-7.3075e-01, -6.0532e-01, -6.5708e-01,  ...,  9.8172e-01,\n",
      "            1.0914e+00,  2.4884e-01],\n",
      "          [-5.7499e-01, -4.0418e-01, -4.2981e-01,  ...,  4.8292e-01,\n",
      "            5.9380e-01, -3.5344e-02]],\n",
      "\n",
      "         [[-7.2836e-01, -3.8317e-01, -3.9771e-01,  ..., -3.3341e-01,\n",
      "           -4.9172e-01, -8.2814e-01],\n",
      "          [-8.0925e-01, -4.4034e-01, -4.2044e-01,  ..., -3.8777e-01,\n",
      "           -5.6485e-01, -9.1459e-01],\n",
      "          [-9.1620e-01, -5.1482e-01, -4.4224e-01,  ..., -4.6302e-01,\n",
      "           -6.6403e-01, -1.0294e+00],\n",
      "          ...,\n",
      "          [-1.6229e+00, -1.4262e+00, -8.5612e-01,  ..., -1.6534e+00,\n",
      "           -1.6679e+00, -1.7646e+00],\n",
      "          [-1.8000e+00, -1.6727e+00, -1.1029e+00,  ..., -1.6726e+00,\n",
      "           -1.7385e+00, -1.8403e+00],\n",
      "          [-1.4370e+00, -1.3554e+00, -9.1067e-01,  ..., -1.2207e+00,\n",
      "           -1.3368e+00, -1.4308e+00]],\n",
      "\n",
      "         ...,\n",
      "\n",
      "         [[-8.5871e-01, -9.1777e-01, -7.8620e-01,  ..., -8.3661e-01,\n",
      "           -2.9863e-01, -7.7803e-03],\n",
      "          [-9.0476e-01, -9.6077e-01, -8.4145e-01,  ..., -6.6066e-01,\n",
      "           -2.1012e-01, -1.8446e-02],\n",
      "          [-9.6231e-01, -1.0163e+00, -9.2411e-01,  ..., -3.3806e-01,\n",
      "           -5.8061e-02, -3.8036e-02],\n",
      "          ...,\n",
      "          [-1.1102e+00, -1.1140e+00, -1.0380e+00,  ..., -6.7544e-01,\n",
      "           -8.8457e-01, -1.0316e+00],\n",
      "          [-1.1701e+00, -1.2109e+00, -1.1717e+00,  ..., -7.8702e-01,\n",
      "           -9.6449e-01, -1.0978e+00],\n",
      "          [-1.2885e+00, -1.3568e+00, -1.3275e+00,  ..., -9.7733e-01,\n",
      "           -1.1253e+00, -1.2413e+00]],\n",
      "\n",
      "         [[-8.3793e-01, -8.9846e-01, -7.9214e-01,  ..., -8.1113e-01,\n",
      "           -3.1048e-01,  1.3438e-01],\n",
      "          [-8.8603e-01, -9.4538e-01, -8.5325e-01,  ..., -5.8798e-01,\n",
      "           -1.8500e-01,  1.4199e-01],\n",
      "          [-9.4663e-01, -1.0080e+00, -9.4609e-01,  ..., -1.9140e-01,\n",
      "            2.3818e-02,  1.4678e-01],\n",
      "          ...,\n",
      "          [-9.0189e-01, -9.4451e-01, -8.7745e-01,  ..., -5.3424e-01,\n",
      "           -7.9656e-01, -9.4801e-01],\n",
      "          [-9.3879e-01, -1.0333e+00, -1.0024e+00,  ..., -5.1389e-01,\n",
      "           -7.5747e-01, -9.2031e-01],\n",
      "          [-1.0287e+00, -1.1638e+00, -1.1508e+00,  ..., -6.0176e-01,\n",
      "           -8.2876e-01, -9.9482e-01]],\n",
      "\n",
      "         [[-9.6065e-01, -9.7217e-01, -9.0668e-01,  ..., -8.7140e-01,\n",
      "           -4.0487e-01,  4.2409e-02],\n",
      "          [-1.0316e+00, -1.0451e+00, -9.9348e-01,  ..., -6.3793e-01,\n",
      "           -2.7888e-01,  4.3050e-02],\n",
      "          [-1.1161e+00, -1.1356e+00, -1.1108e+00,  ..., -2.2275e-01,\n",
      "           -6.6705e-02,  3.8259e-02],\n",
      "          ...,\n",
      "          [-5.2000e-01, -6.2529e-01, -6.0766e-01,  ..., -8.1640e-01,\n",
      "           -9.4066e-01, -9.8578e-01],\n",
      "          [-5.8623e-01, -7.5745e-01, -7.6550e-01,  ..., -6.0907e-01,\n",
      "           -7.4154e-01, -8.2079e-01],\n",
      "          [-6.4988e-01, -8.6518e-01, -9.0086e-01,  ..., -5.5656e-01,\n",
      "           -6.9491e-01, -7.9071e-01]]],\n",
      "\n",
      "\n",
      "        [[[-8.8727e-01, -1.8011e-01,  1.0175e+00,  ..., -1.0152e+00,\n",
      "           -1.0208e+00, -9.8512e-01],\n",
      "          [-9.6862e-01, -2.9644e-01,  8.8392e-01,  ..., -1.1089e+00,\n",
      "           -1.1119e+00, -1.0754e+00],\n",
      "          [-1.0432e+00, -4.3920e-01,  6.7820e-01,  ..., -1.1915e+00,\n",
      "           -1.1909e+00, -1.1553e+00],\n",
      "          ...,\n",
      "          [ 1.9542e+00,  2.0648e+00,  1.0325e+00,  ..., -8.1772e-01,\n",
      "            1.2439e-01,  9.9678e-01],\n",
      "          [ 1.7073e+00,  1.8005e+00,  8.3477e-01,  ...,  3.1671e-01,\n",
      "            9.6600e-01,  1.4018e+00],\n",
      "          [ 1.2272e+00,  1.3582e+00,  6.4447e-01,  ...,  1.4436e+00,\n",
      "            1.6953e+00,  1.6089e+00]],\n",
      "\n",
      "         [[-9.0177e-01, -3.7726e-01,  6.6355e-01,  ..., -9.5872e-01,\n",
      "           -9.5695e-01, -9.0537e-01],\n",
      "          [-9.7778e-01, -4.7741e-01,  5.3087e-01,  ..., -1.0702e+00,\n",
      "           -1.0661e+00, -1.0130e+00],\n",
      "          [-1.0577e+00, -6.0126e-01,  3.3625e-01,  ..., -1.1898e+00,\n",
      "           -1.1825e+00, -1.1297e+00],\n",
      "          ...,\n",
      "          [ 1.2126e+00,  1.1299e+00,  2.3915e-01,  ...,  1.2496e+00,\n",
      "            1.2867e+00,  1.2123e+00],\n",
      "          [ 8.5654e-01,  7.7842e-01, -2.2960e-02,  ...,  2.4756e+00,\n",
      "            2.2022e+00,  1.7116e+00],\n",
      "          [ 3.8493e-01,  3.7534e-01, -2.2483e-01,  ...,  3.2704e+00,\n",
      "            2.7614e+00,  1.9457e+00]],\n",
      "\n",
      "         [[-9.2490e-01, -7.0358e-01,  2.1202e-01,  ..., -9.5316e-01,\n",
      "           -9.5369e-01, -9.4781e-01],\n",
      "          [-9.9693e-01, -7.6652e-01,  1.2114e-01,  ..., -1.0813e+00,\n",
      "           -1.0856e+00, -1.0772e+00],\n",
      "          [-1.0857e+00, -8.4137e-01, -3.9735e-03,  ..., -1.2350e+00,\n",
      "           -1.2463e+00, -1.2366e+00],\n",
      "          ...,\n",
      "          [ 1.7071e+00,  2.2705e+00,  1.6685e+00,  ..., -8.3015e-01,\n",
      "           -9.5224e-01, -8.9031e-01],\n",
      "          [ 1.7283e+00,  2.3156e+00,  1.7437e+00,  ..., -5.6217e-01,\n",
      "           -6.4289e-01, -6.5120e-01],\n",
      "          [ 1.6637e+00,  2.3016e+00,  1.8512e+00,  ..., -2.7170e-01,\n",
      "           -2.8807e-01, -3.7495e-01]],\n",
      "\n",
      "         ...,\n",
      "\n",
      "         [[-6.6722e-01,  6.2111e-01,  2.3794e+00,  ...,  2.3131e+00,\n",
      "            7.4740e-01, -3.9306e-01],\n",
      "          [-5.6084e-01,  7.1654e-01,  2.4509e+00,  ...,  2.1390e+00,\n",
      "            6.1352e-01, -4.6638e-01],\n",
      "          [-3.9076e-01,  8.5975e-01,  2.5339e+00,  ...,  1.8239e+00,\n",
      "            3.9463e-01, -5.7312e-01],\n",
      "          ...,\n",
      "          [ 1.0399e+00,  1.4002e+00,  1.3822e+00,  ...,  1.4421e+00,\n",
      "            1.3370e+00,  5.7529e-01],\n",
      "          [ 5.0903e-01,  6.2203e-01,  6.0714e-01,  ...,  6.2791e-01,\n",
      "            9.7510e-01,  5.1499e-01],\n",
      "          [ 7.6379e-02, -2.2784e-02, -6.9616e-02,  ...,  1.1055e-01,\n",
      "            6.7736e-01,  4.4028e-01]],\n",
      "\n",
      "         [[-7.6074e-01,  8.0200e-02,  1.1417e+00,  ...,  2.1365e+00,\n",
      "            1.1371e+00,  4.9856e-02],\n",
      "          [-6.8485e-01,  1.6142e-01,  1.2319e+00,  ...,  1.9116e+00,\n",
      "            9.1971e-01, -1.0236e-01],\n",
      "          [-5.5251e-01,  3.0386e-01,  1.3825e+00,  ...,  1.5286e+00,\n",
      "            5.7343e-01, -3.3024e-01],\n",
      "          ...,\n",
      "          [ 1.7143e+00,  1.5803e+00,  7.8105e-01,  ...,  2.8770e+00,\n",
      "            2.8331e+00,  1.7142e+00],\n",
      "          [ 1.0417e+00,  7.0346e-01, -3.1092e-02,  ...,  1.3938e+00,\n",
      "            2.0409e+00,  1.4100e+00],\n",
      "          [ 5.2179e-01,  9.6081e-02, -5.4074e-01,  ...,  4.4057e-01,\n",
      "            1.3569e+00,  1.0691e+00]],\n",
      "\n",
      "         [[-6.6562e-01, -3.5132e-01, -3.7127e-03,  ...,  8.5578e-01,\n",
      "            5.3994e-01,  3.6965e-02],\n",
      "          [-6.6600e-01, -3.4226e-01,  2.2676e-02,  ...,  7.0849e-01,\n",
      "            3.8268e-01, -9.1577e-02],\n",
      "          [-6.5553e-01, -3.0877e-01,  9.0361e-02,  ...,  4.7139e-01,\n",
      "            1.3637e-01, -2.8864e-01],\n",
      "          ...,\n",
      "          [-2.3736e-01, -8.5336e-01, -1.1581e+00,  ...,  7.9247e+00,\n",
      "            7.8765e+00,  5.6319e+00],\n",
      "          [-4.9416e-01, -1.1361e+00, -1.4494e+00,  ...,  6.1608e+00,\n",
      "            7.1270e+00,  5.3369e+00],\n",
      "          [-6.0276e-01, -1.1312e+00, -1.4039e+00,  ...,  4.3220e+00,\n",
      "            6.1052e+00,  4.7787e+00]]],\n",
      "\n",
      "\n",
      "        [[[ 1.3833e-01, -3.3580e-01, -9.9063e-01,  ..., -4.1440e-02,\n",
      "            8.3098e-01,  7.5752e-01],\n",
      "          [-7.2537e-03, -3.6931e-01, -9.3204e-01,  ..., -1.1102e-01,\n",
      "            6.5599e-01,  5.1443e-01],\n",
      "          [-2.3059e-01, -4.1665e-01, -8.2302e-01,  ..., -2.0930e-01,\n",
      "            3.7558e-01,  1.3603e-01],\n",
      "          ...,\n",
      "          [ 3.0498e-01,  6.0352e-01,  4.5278e-01,  ..., -7.2494e-01,\n",
      "           -7.4544e-01, -7.2221e-01],\n",
      "          [ 3.3183e-01,  5.8231e-01,  3.8827e-01,  ..., -6.1235e-01,\n",
      "           -6.7047e-01, -6.8012e-01],\n",
      "          [ 3.5212e-01,  5.4229e-01,  2.7834e-01,  ..., -4.6228e-01,\n",
      "           -5.7807e-01, -6.3599e-01]],\n",
      "\n",
      "         [[ 2.0642e-01, -3.8360e-01, -9.3872e-01,  ...,  1.1152e+00,\n",
      "            2.3548e+00,  1.8664e+00],\n",
      "          [ 8.7490e-02, -3.6665e-01, -8.2554e-01,  ...,  1.0858e+00,\n",
      "            2.1302e+00,  1.5594e+00],\n",
      "          [-9.1867e-02, -3.3534e-01, -6.3430e-01,  ...,  1.0154e+00,\n",
      "            1.7460e+00,  1.0751e+00],\n",
      "          ...,\n",
      "          [-2.9464e-01,  6.0295e-02, -2.2574e-01,  ..., -5.9159e-01,\n",
      "           -1.0387e+00, -1.0941e+00],\n",
      "          [-4.6260e-01, -2.1981e-01, -4.5145e-01,  ..., -4.5290e-01,\n",
      "           -7.6772e-01, -8.5098e-01],\n",
      "          [-6.2577e-01, -4.0923e-01, -5.1763e-01,  ..., -4.4431e-01,\n",
      "           -6.4120e-01, -7.5145e-01]],\n",
      "\n",
      "         [[ 6.6293e-01, -2.2823e-01, -8.0843e-01,  ...,  3.2833e+00,\n",
      "            4.5440e+00,  3.0285e+00],\n",
      "          [ 5.8025e-01, -1.5274e-01, -6.4684e-01,  ...,  3.3175e+00,\n",
      "            4.2832e+00,  2.6869e+00],\n",
      "          [ 4.3845e-01, -4.8004e-02, -3.9905e-01,  ...,  3.3144e+00,\n",
      "            3.8264e+00,  2.1425e+00],\n",
      "          ...,\n",
      "          [-5.0379e-01, -3.9198e-01, -3.2562e-01,  ..., -4.3953e-01,\n",
      "           -5.5500e-01, -5.7002e-01],\n",
      "          [-4.8793e-01, -3.7072e-01, -3.0606e-01,  ..., -3.3978e-01,\n",
      "           -4.4372e-01, -4.9885e-01],\n",
      "          [-4.8986e-01, -3.6588e-01, -3.1114e-01,  ..., -2.6052e-01,\n",
      "           -3.5201e-01, -4.4445e-01]],\n",
      "\n",
      "         ...,\n",
      "\n",
      "         [[-9.0435e-01, -9.1161e-01, -8.9113e-01,  ..., -7.3600e-01,\n",
      "           -8.5920e-01, -1.6740e-01],\n",
      "          [-9.7178e-01, -9.8325e-01, -9.5944e-01,  ..., -6.5447e-01,\n",
      "           -7.4835e-01,  1.9745e-02],\n",
      "          [-1.0771e+00, -1.0958e+00, -1.0659e+00,  ..., -3.9993e-01,\n",
      "           -4.3717e-01,  4.3802e-01],\n",
      "          ...,\n",
      "          [-5.1822e-01,  2.8828e-01,  1.5028e+00,  ..., -3.4051e-01,\n",
      "            1.4748e+00,  2.6646e+00],\n",
      "          [-4.1751e-01,  4.5968e-01,  1.7345e+00,  ...,  9.2996e-01,\n",
      "            2.2844e+00,  3.0120e+00],\n",
      "          [-4.8751e-01,  4.4589e-01,  1.8095e+00,  ...,  2.4989e+00,\n",
      "            3.2988e+00,  3.4377e+00]],\n",
      "\n",
      "         [[-7.2469e-01, -6.7602e-01, -6.8765e-01,  ..., -7.7138e-01,\n",
      "           -3.5359e-01,  7.5478e-01],\n",
      "          [-7.4113e-01, -6.8628e-01, -6.9791e-01,  ..., -7.2045e-01,\n",
      "           -2.3222e-01,  9.6905e-01],\n",
      "          [-7.7048e-01, -7.0304e-01, -7.1278e-01,  ..., -5.7881e-01,\n",
      "            4.9621e-02,  1.4159e+00],\n",
      "          ...,\n",
      "          [-1.2554e+00, -5.1621e-01,  7.0170e-01,  ..., -4.9807e-01,\n",
      "            2.2706e+00,  4.1406e+00],\n",
      "          [-1.1883e+00, -3.4888e-01,  9.5245e-01,  ...,  9.2436e-01,\n",
      "            3.1746e+00,  4.5066e+00],\n",
      "          [-1.2050e+00, -2.8018e-01,  1.0984e+00,  ...,  2.7683e+00,\n",
      "            4.3359e+00,  4.9355e+00]],\n",
      "\n",
      "         [[-5.0183e-01, -4.0783e-01, -4.6778e-01,  ..., -8.1972e-01,\n",
      "           -3.2952e-01,  6.9655e-01],\n",
      "          [-4.9961e-01, -3.9838e-01, -4.6246e-01,  ..., -7.7689e-01,\n",
      "           -2.2182e-01,  8.8008e-01],\n",
      "          [-4.9468e-01, -3.7918e-01, -4.4843e-01,  ..., -6.6284e-01,\n",
      "            1.8708e-02,  1.2533e+00],\n",
      "          ...,\n",
      "          [-1.4345e+00, -1.1237e+00, -3.2967e-01,  ..., -3.1443e-01,\n",
      "            2.0058e+00,  3.4567e+00],\n",
      "          [-1.4118e+00, -1.0194e+00, -1.9201e-01,  ...,  2.8981e-01,\n",
      "            2.2260e+00,  3.3385e+00],\n",
      "          [-1.3831e+00, -8.6074e-01,  4.2731e-02,  ...,  1.2280e+00,\n",
      "            2.7551e+00,  3.4537e+00]]],\n",
      "\n",
      "\n",
      "        ...,\n",
      "\n",
      "\n",
      "        [[[-8.8451e-01, -5.8869e-01, -6.1435e-02,  ..., -5.7413e-01,\n",
      "           -2.2423e-01, -3.0150e-01],\n",
      "          [-1.0305e+00, -7.4861e-01, -2.0981e-01,  ..., -6.5977e-01,\n",
      "           -3.4310e-01, -4.3993e-01],\n",
      "          [-1.2218e+00, -9.6795e-01, -4.2691e-01,  ..., -7.7457e-01,\n",
      "           -5.1269e-01, -6.3536e-01],\n",
      "          ...,\n",
      "          [-3.5578e-02,  1.4344e-01, -2.5603e-01,  ..., -1.5960e+00,\n",
      "           -1.5659e+00, -1.5415e+00],\n",
      "          [-1.6407e-02, -9.1737e-03, -5.1767e-01,  ..., -1.3490e+00,\n",
      "           -1.3591e+00, -1.3719e+00],\n",
      "          [-4.7689e-02, -1.5877e-01, -7.3602e-01,  ..., -1.1741e+00,\n",
      "           -1.2443e+00, -1.3105e+00]],\n",
      "\n",
      "         [[-1.0167e+00, -6.3257e-01,  2.2606e-01,  ..., -5.2595e-01,\n",
      "           -2.2529e-01, -4.5700e-01],\n",
      "          [-1.2036e+00, -8.4934e-01,  2.6774e-03,  ..., -6.5927e-01,\n",
      "           -3.9697e-01, -6.3569e-01],\n",
      "          [-1.4244e+00, -1.1227e+00, -3.0968e-01,  ..., -8.3060e-01,\n",
      "           -6.2758e-01, -8.6680e-01],\n",
      "          ...,\n",
      "          [ 3.2458e-01,  1.1809e+00,  1.7178e+00,  ..., -8.0235e-01,\n",
      "           -8.8077e-01, -9.7554e-01],\n",
      "          [ 1.4107e-01,  8.8209e-01,  1.4309e+00,  ..., -9.8985e-01,\n",
      "           -1.0570e+00, -1.1321e+00],\n",
      "          [-2.4560e-01,  2.5596e-01,  7.6964e-01,  ..., -1.2646e+00,\n",
      "           -1.3007e+00, -1.3314e+00]],\n",
      "\n",
      "         [[-1.1682e+00, -9.8858e-01, -1.2613e-01,  ..., -7.0525e-04,\n",
      "            3.9116e-01, -1.2242e-01],\n",
      "          [-1.3433e+00, -1.1668e+00, -2.9094e-01,  ..., -1.1221e-01,\n",
      "            2.1660e-01, -3.1115e-01],\n",
      "          [-1.5372e+00, -1.3657e+00, -5.0034e-01,  ..., -2.8063e-01,\n",
      "           -5.2955e-02, -5.7614e-01],\n",
      "          ...,\n",
      "          [ 1.1493e-01,  1.2191e+00,  1.9509e+00,  ..., -1.4310e+00,\n",
      "           -1.5413e+00, -1.5846e+00],\n",
      "          [ 1.8879e-01,  1.1508e+00,  1.8385e+00,  ..., -1.1777e+00,\n",
      "           -1.4144e+00, -1.4530e+00],\n",
      "          [ 1.4312e-01,  9.5788e-01,  1.6104e+00,  ..., -1.0253e+00,\n",
      "           -1.3806e+00, -1.4007e+00]],\n",
      "\n",
      "         ...,\n",
      "\n",
      "         [[-3.7541e-01, -7.3015e-01, -8.3548e-01,  ..., -6.9807e-01,\n",
      "            5.1502e-01,  1.8618e+00],\n",
      "          [-4.0175e-01, -7.4386e-01, -8.4179e-01,  ..., -5.0824e-01,\n",
      "            6.9612e-01,  2.0089e+00],\n",
      "          [-4.4672e-01, -7.5723e-01, -8.4513e-01,  ..., -1.8565e-01,\n",
      "            9.6960e-01,  2.1838e+00],\n",
      "          ...,\n",
      "          [-9.2875e-01, -8.1081e-01, -6.7583e-01,  ..., -2.8293e-01,\n",
      "           -1.2425e-01,  1.1595e-02],\n",
      "          [-1.3827e+00, -1.3195e+00, -1.2092e+00,  ..., -5.6948e-01,\n",
      "           -2.3851e-01, -2.5189e-04],\n",
      "          [-1.5343e+00, -1.5786e+00, -1.5603e+00,  ..., -1.0299e+00,\n",
      "           -5.1674e-01, -1.3400e-01]],\n",
      "\n",
      "         [[-5.3698e-01, -7.5342e-01, -7.0441e-01,  ..., -7.1887e-01,\n",
      "            8.5897e-02,  1.3302e+00],\n",
      "          [-5.5404e-01, -7.6194e-01, -7.0305e-01,  ..., -5.2397e-01,\n",
      "            2.8892e-01,  1.5324e+00],\n",
      "          [-5.8958e-01, -7.8139e-01, -7.0874e-01,  ..., -1.7200e-01,\n",
      "            6.6065e-01,  1.9000e+00],\n",
      "          ...,\n",
      "          [-8.0916e-01, -5.4786e-01, -3.7244e-01,  ...,  2.4928e-01,\n",
      "            6.7111e-01,  9.1951e-01],\n",
      "          [-1.1180e+00, -8.9065e-01, -7.5152e-01,  ...,  5.8336e-03,\n",
      "            5.4539e-01,  8.8566e-01],\n",
      "          [-1.2669e+00, -1.1581e+00, -1.1255e+00,  ..., -5.7815e-01,\n",
      "            1.1237e-01,  6.2898e-01]],\n",
      "\n",
      "         [[-5.2117e-01, -7.0447e-01, -5.9531e-01,  ..., -6.3644e-01,\n",
      "           -1.7367e-01,  9.0049e-01],\n",
      "          [-5.2028e-01, -6.9610e-01, -5.7738e-01,  ..., -4.2794e-01,\n",
      "            3.0103e-02,  1.0965e+00],\n",
      "          [-5.2242e-01, -6.8566e-01, -5.5315e-01,  ..., -4.5383e-02,\n",
      "            4.1363e-01,  1.4713e+00],\n",
      "          ...,\n",
      "          [-3.6742e-01,  5.0971e-02,  2.4477e-01,  ..., -1.0878e-02,\n",
      "            3.3711e-01,  5.6218e-01],\n",
      "          [-5.2953e-01, -1.5863e-01, -3.2506e-04,  ..., -2.4139e-01,\n",
      "            1.6573e-02,  2.4568e-01],\n",
      "          [-6.8091e-01, -4.1180e-01, -3.4168e-01,  ..., -6.9643e-01,\n",
      "           -4.1642e-01, -6.7491e-02]]],\n",
      "\n",
      "\n",
      "        [[[-6.3655e-01, -7.6433e-01, -8.5615e-01,  ..., -8.5205e-01,\n",
      "           -7.4249e-01, -6.2916e-01],\n",
      "          [-7.6679e-01, -8.7357e-01, -9.4125e-01,  ..., -9.4807e-01,\n",
      "           -8.5560e-01, -7.6016e-01],\n",
      "          [-9.2142e-01, -1.0032e+00, -1.0436e+00,  ..., -1.0523e+00,\n",
      "           -9.8523e-01, -9.1529e-01],\n",
      "          ...,\n",
      "          [-6.2047e-01, -3.9772e-01, -2.2161e-01,  ..., -2.0183e-01,\n",
      "           -3.1238e-01, -5.4673e-01],\n",
      "          [-6.3075e-01, -3.8181e-01, -1.8447e-01,  ..., -3.3107e-01,\n",
      "           -3.0515e-01, -5.2840e-01],\n",
      "          [-6.7538e-01, -3.9284e-01, -1.6547e-01,  ..., -4.5824e-01,\n",
      "           -2.6388e-01, -5.0278e-01]],\n",
      "\n",
      "         [[-5.6716e-01, -6.0635e-01, -7.4169e-01,  ..., -8.4686e-01,\n",
      "           -7.7208e-01, -6.9428e-01],\n",
      "          [-7.3195e-01, -7.5741e-01, -8.4405e-01,  ..., -9.6648e-01,\n",
      "           -9.0427e-01, -8.3652e-01],\n",
      "          [-9.2612e-01, -9.4022e-01, -9.6872e-01,  ..., -1.0957e+00,\n",
      "           -1.0508e+00, -9.9673e-01],\n",
      "          ...,\n",
      "          [ 1.1678e+00,  2.1701e+00,  2.4357e+00,  ...,  3.6204e-01,\n",
      "            3.5917e-01,  6.9897e-02],\n",
      "          [ 9.1520e-01,  1.8206e+00,  2.0875e+00,  ...,  1.6639e-02,\n",
      "            1.4731e-01, -3.6019e-02],\n",
      "          [ 5.9735e-01,  1.3875e+00,  1.6309e+00,  ..., -3.4992e-01,\n",
      "           -9.8033e-02, -1.8514e-01]],\n",
      "\n",
      "         [[-5.6053e-01, -3.3820e-01, -4.1352e-01,  ..., -9.3350e-01,\n",
      "           -7.1619e-01, -3.0335e-01],\n",
      "          [-7.5182e-01, -5.3105e-01, -5.2715e-01,  ..., -1.0091e+00,\n",
      "           -8.2401e-01, -4.7476e-01],\n",
      "          [-9.7539e-01, -7.7313e-01, -6.7597e-01,  ..., -1.0860e+00,\n",
      "           -9.4626e-01, -6.8729e-01],\n",
      "          ...,\n",
      "          [-1.1101e+00, -5.8368e-01,  5.6726e-03,  ...,  4.3632e+00,\n",
      "            3.9002e+00,  2.4102e+00],\n",
      "          [-9.3501e-01, -5.2519e-01, -1.8799e-01,  ...,  4.0365e+00,\n",
      "            3.9904e+00,  2.7154e+00],\n",
      "          [-9.1048e-01, -6.1265e-01, -5.0144e-01,  ...,  3.0636e+00,\n",
      "            3.4630e+00,  2.5564e+00]],\n",
      "\n",
      "         ...,\n",
      "\n",
      "         [[ 1.7447e+00,  7.2825e-01, -5.6881e-01,  ..., -3.0938e-01,\n",
      "           -5.3740e-02, -2.1916e-01],\n",
      "          [ 1.5981e+00,  6.7167e-01, -5.6421e-01,  ..., -3.6948e-01,\n",
      "           -1.9008e-01, -3.6852e-01],\n",
      "          [ 1.3414e+00,  5.6642e-01, -5.4977e-01,  ..., -4.9875e-01,\n",
      "           -4.2095e-01, -6.0629e-01],\n",
      "          ...,\n",
      "          [-6.6929e-01, -6.3059e-01, -6.6661e-01,  ...,  6.1493e-02,\n",
      "            2.5313e-01,  8.1787e-02],\n",
      "          [-7.5443e-01, -7.1898e-01, -7.6368e-01,  ..., -9.2753e-02,\n",
      "            9.6920e-02, -4.1869e-02],\n",
      "          [-8.4177e-01, -7.9882e-01, -8.2991e-01,  ..., -1.7360e-01,\n",
      "           -1.8917e-02, -1.4242e-01]],\n",
      "\n",
      "         [[ 1.2888e+00,  4.2483e-01, -6.1383e-01,  ..., -6.6825e-01,\n",
      "           -3.3248e-01, -3.1063e-01],\n",
      "          [ 1.1385e+00,  3.3286e-01, -6.6766e-01,  ..., -7.3754e-01,\n",
      "           -4.5310e-01, -4.5121e-01],\n",
      "          [ 8.8136e-01,  1.7909e-01, -7.3996e-01,  ..., -8.6409e-01,\n",
      "           -6.4997e-01, -6.7134e-01],\n",
      "          ...,\n",
      "          [-6.7574e-01, -6.4108e-01, -6.3978e-01,  ..., -3.2188e-01,\n",
      "           -1.0934e-01, -1.1458e-01],\n",
      "          [-7.1678e-01, -6.8762e-01, -6.9293e-01,  ..., -4.9373e-01,\n",
      "           -2.4948e-01, -2.0785e-01],\n",
      "          [-7.4387e-01, -7.1623e-01, -7.1615e-01,  ..., -5.5613e-01,\n",
      "           -3.1315e-01, -2.4908e-01]],\n",
      "\n",
      "         [[ 5.2513e-01, -4.2467e-02, -6.5142e-01,  ..., -6.6641e-01,\n",
      "           -5.2325e-01, -5.5287e-01],\n",
      "          [ 4.2097e-01, -1.2229e-01, -7.2069e-01,  ..., -7.4123e-01,\n",
      "           -6.1747e-01, -6.5369e-01],\n",
      "          [ 2.4744e-01, -2.4961e-01, -8.1955e-01,  ..., -8.6699e-01,\n",
      "           -7.6859e-01, -8.1208e-01],\n",
      "          ...,\n",
      "          [-8.3067e-01, -8.1144e-01, -7.9997e-01,  ..., -5.0098e-01,\n",
      "           -3.3334e-01, -2.1230e-01],\n",
      "          [-8.5937e-01, -8.5105e-01, -8.5017e-01,  ..., -8.0675e-01,\n",
      "           -5.6574e-01, -3.5959e-01],\n",
      "          [-8.6639e-01, -8.7084e-01, -8.7124e-01,  ..., -9.2508e-01,\n",
      "           -6.5201e-01, -4.0760e-01]]],\n",
      "\n",
      "\n",
      "        [[[-9.7869e-01, -8.8475e-01, -8.1660e-01,  ..., -5.4341e-01,\n",
      "           -9.5798e-01, -7.5849e-01],\n",
      "          [-1.1061e+00, -1.0094e+00, -9.3054e-01,  ..., -5.9551e-01,\n",
      "           -9.8868e-01, -8.2074e-01],\n",
      "          [-1.2739e+00, -1.1726e+00, -1.0768e+00,  ..., -6.5779e-01,\n",
      "           -1.0120e+00, -8.9455e-01],\n",
      "          ...,\n",
      "          [-2.2867e-01, -6.4293e-03,  7.8282e-02,  ...,  5.9830e-01,\n",
      "            7.3655e-02, -5.0113e-01],\n",
      "          [-9.7593e-02,  2.1536e-01,  3.0951e-01,  ...,  8.5512e-01,\n",
      "            3.0739e-01, -3.5567e-01],\n",
      "          [ 1.2761e-01,  5.2887e-01,  5.8805e-01,  ...,  1.2664e+00,\n",
      "            6.9938e-01, -1.0841e-01]],\n",
      "\n",
      "         [[-9.9436e-01, -8.4613e-01, -7.1873e-01,  ..., -5.5701e-01,\n",
      "           -9.8215e-01, -8.7347e-01],\n",
      "          [-1.1370e+00, -9.8628e-01, -8.4505e-01,  ..., -6.3985e-01,\n",
      "           -1.0402e+00, -9.5234e-01],\n",
      "          [-1.3232e+00, -1.1699e+00, -1.0089e+00,  ..., -7.4410e-01,\n",
      "           -1.0994e+00, -1.0455e+00],\n",
      "          ...,\n",
      "          [-4.8735e-01, -1.0980e-02,  4.1889e-01,  ..., -3.2931e-01,\n",
      "           -3.7575e-01, -4.7312e-01],\n",
      "          [-4.6847e-01,  2.2606e-02,  4.1928e-01,  ..., -1.0332e-01,\n",
      "           -1.3094e-01, -2.9144e-01],\n",
      "          [-4.0638e-01,  1.1941e-01,  4.9039e-01,  ...,  2.1147e-01,\n",
      "            2.2127e-01, -9.7522e-03]],\n",
      "\n",
      "         [[-1.0949e+00, -7.8758e-01, -4.6509e-01,  ..., -6.4310e-01,\n",
      "           -1.0904e+00, -1.0525e+00],\n",
      "          [-1.2712e+00, -9.5856e-01, -6.1542e-01,  ..., -7.7434e-01,\n",
      "           -1.2006e+00, -1.1776e+00],\n",
      "          [-1.5049e+00, -1.1877e+00, -8.1822e-01,  ..., -9.4872e-01,\n",
      "           -1.3331e+00, -1.3354e+00],\n",
      "          ...,\n",
      "          [-4.4288e-01, -2.6259e-01, -1.4352e-01,  ..., -5.9589e-01,\n",
      "           -4.7452e-01, -4.3579e-01],\n",
      "          [-5.4212e-01, -4.3183e-01, -3.9165e-01,  ..., -6.4908e-01,\n",
      "           -5.3896e-01, -4.9916e-01],\n",
      "          [-6.6177e-01, -6.0602e-01, -6.2404e-01,  ..., -7.3360e-01,\n",
      "           -6.2977e-01, -5.8482e-01]],\n",
      "\n",
      "         ...,\n",
      "\n",
      "         [[ 6.6153e-01, -3.6777e-01, -5.8525e-01,  ..., -3.8747e-01,\n",
      "            1.3623e+00,  3.1649e+00],\n",
      "          [ 7.2739e-01, -2.3539e-01, -4.3434e-01,  ..., -2.1508e-01,\n",
      "            1.5234e+00,  3.2532e+00],\n",
      "          [ 8.3266e-01, -3.1334e-02, -2.1221e-01,  ...,  7.9582e-02,\n",
      "            1.8091e+00,  3.4222e+00],\n",
      "          ...,\n",
      "          [ 9.3955e-01,  1.3916e+00,  1.4791e+00,  ..., -9.8957e-01,\n",
      "           -9.3366e-01, -8.9006e-01],\n",
      "          [ 8.1815e-01,  1.1278e+00,  1.2096e+00,  ..., -8.8662e-01,\n",
      "           -8.4538e-01, -8.3342e-01],\n",
      "          [ 5.9893e-01,  6.9512e-01,  7.7487e-01,  ..., -7.9724e-01,\n",
      "           -8.0728e-01, -8.6477e-01]],\n",
      "\n",
      "         [[ 2.1375e+00,  5.4262e-01, -6.1358e-01,  ..., -1.1054e-01,\n",
      "            1.0350e+00,  1.8872e+00],\n",
      "          [ 2.2197e+00,  7.2321e-01, -3.7802e-01,  ..., -1.1570e-01,\n",
      "            1.0358e+00,  1.8692e+00],\n",
      "          [ 2.3371e+00,  9.9488e-01, -2.7209e-02,  ..., -1.1361e-01,\n",
      "            1.0413e+00,  1.8380e+00],\n",
      "          ...,\n",
      "          [ 1.1630e+00,  1.1379e+00,  7.5875e-01,  ..., -9.7368e-01,\n",
      "           -9.2491e-01, -8.7124e-01],\n",
      "          [ 1.0201e+00,  8.2116e-01,  4.0818e-01,  ..., -9.1030e-01,\n",
      "           -8.6132e-01, -8.1571e-01],\n",
      "          [ 8.7604e-01,  4.3275e-01, -5.8985e-02,  ..., -9.0184e-01,\n",
      "           -8.6954e-01, -8.5043e-01]],\n",
      "\n",
      "         [[ 2.9774e+00,  1.2001e+00, -4.5359e-01,  ..., -1.4785e-01,\n",
      "            7.0846e-01,  1.3333e+00],\n",
      "          [ 3.0338e+00,  1.3692e+00, -2.0330e-01,  ..., -1.9206e-01,\n",
      "            6.7745e-01,  1.3008e+00],\n",
      "          [ 3.0890e+00,  1.6069e+00,  1.6409e-01,  ..., -2.4826e-01,\n",
      "            6.3222e-01,  1.2443e+00],\n",
      "          ...,\n",
      "          [ 1.1899e+00,  5.3992e-01, -2.8049e-01,  ..., -1.1101e+00,\n",
      "           -1.0609e+00, -1.0073e+00],\n",
      "          [ 1.1880e+00,  4.2886e-01, -4.1568e-01,  ..., -1.0123e+00,\n",
      "           -9.6045e-01, -9.0821e-01],\n",
      "          [ 1.3015e+00,  3.7883e-01, -5.6352e-01,  ..., -9.8865e-01,\n",
      "           -9.4347e-01, -9.0231e-01]]]], dtype=torch.float64)\n",
      "Batch: 0\n",
      "Input: tensor([[[[-0.7594, -0.2307, -0.1457,  ..., -0.8677, -0.9079, -1.0237],\n",
      "          [-0.8983, -0.3692, -0.2345,  ..., -1.0217, -1.0585, -1.1704],\n",
      "          [-1.0745, -0.5552, -0.3557,  ..., -1.2198, -1.2501, -1.3548],\n",
      "          ...,\n",
      "          [-0.2108, -0.3346, -0.6376,  ...,  1.4958,  1.7376,  1.4861],\n",
      "          [ 0.0598, -0.0698, -0.5351,  ...,  0.8426,  1.5076,  1.5894],\n",
      "          [ 0.5072,  0.3935, -0.3049,  ...,  0.0643,  1.2170,  1.7654]],\n",
      "\n",
      "         [[-0.7685, -0.3868, -0.3550,  ..., -0.7921, -0.8555, -0.9495],\n",
      "          [-0.8833, -0.5004, -0.4235,  ..., -0.9309, -0.9865, -1.0753],\n",
      "          [-1.0235, -0.6448, -0.5080,  ..., -1.1083, -1.1512, -1.2310],\n",
      "          ...,\n",
      "          [-0.6471, -0.4660, -0.3153,  ...,  1.5142,  2.0729,  1.6698],\n",
      "          [-0.1954,  0.1180,  0.1493,  ...,  1.2568,  2.1319,  1.9608],\n",
      "          [ 0.3047,  0.7469,  0.6726,  ...,  0.8803,  1.8904,  1.9824]],\n",
      "\n",
      "         [[-0.8051, -0.5245, -0.4520,  ..., -0.8123, -0.8736, -0.8702],\n",
      "          [-0.8860, -0.6017, -0.5020,  ..., -0.9312, -0.9873, -0.9857],\n",
      "          [-0.9885, -0.6983, -0.5589,  ..., -1.0999, -1.1472, -1.1475],\n",
      "          ...,\n",
      "          [-0.8862, -0.9873, -1.0244,  ..., -0.6496, -0.5941, -0.6724],\n",
      "          [-0.8014, -0.8851, -0.9543,  ..., -0.5449, -0.5124, -0.6095],\n",
      "          [-0.7806, -0.8660, -0.9956,  ..., -0.5197, -0.5230, -0.6346]],\n",
      "\n",
      "         ...,\n",
      "\n",
      "         [[-0.6016, -0.6718, -0.7426,  ..., -0.3387, -0.1682, -0.1297],\n",
      "          [-0.6188, -0.6606, -0.7018,  ..., -0.4034, -0.2248, -0.1771],\n",
      "          [-0.6405, -0.6350, -0.6268,  ..., -0.5041, -0.3099, -0.2472],\n",
      "          ...,\n",
      "          [ 0.3776,  0.7837,  0.8171,  ..., -1.2132, -1.1474, -1.1294],\n",
      "          [ 0.6811,  0.9522,  0.8979,  ..., -0.9523, -0.8608, -0.8917],\n",
      "          [ 0.8997,  0.8419,  0.5804,  ..., -0.5925, -0.4442, -0.5643]],\n",
      "\n",
      "         [[-0.6497, -0.7043, -0.6212,  ..., -0.0579,  0.2304,  0.2801],\n",
      "          [-0.6666, -0.7032, -0.6044,  ..., -0.1132,  0.1819,  0.2396],\n",
      "          [-0.6894, -0.6955, -0.5699,  ..., -0.2013,  0.1089,  0.1807],\n",
      "          ...,\n",
      "          [ 0.1878,  0.2685,  0.0555,  ..., -1.0081, -0.8145, -0.7160],\n",
      "          [ 0.4095,  0.2751, -0.1163,  ..., -0.5828, -0.3719, -0.3256],\n",
      "          [ 0.5506,  0.1310, -0.4991,  ..., -0.1056,  0.1148,  0.0667]],\n",
      "\n",
      "         [[-0.7191, -0.7538, -0.6211,  ..., -0.1107,  0.2598,  0.3572],\n",
      "          [-0.7376, -0.7580, -0.6136,  ..., -0.1531,  0.2212,  0.3223],\n",
      "          [-0.7621, -0.7580, -0.5933,  ..., -0.2188,  0.1657,  0.2736],\n",
      "          ...,\n",
      "          [-0.0642, -0.2028, -0.5827,  ..., -0.6321, -0.3513, -0.2250],\n",
      "          [-0.0920, -0.3141, -0.7629,  ..., -0.2243, -0.0371, -0.0418],\n",
      "          [-0.1977, -0.4404, -0.8966,  ...,  0.1464,  0.1854,  0.0236]]]],\n",
      "       dtype=torch.float64)\n",
      "Label: tensor([2])\n"
     ]
    }
   ],
   "source": [
    "dataset = MEGDataset_Conv(transformed_data, label_map='covert_vowel_class_label_map')\n",
    "train_indices, test_indices = train_test_split(\n",
    "    list(range(len(dataset))), \n",
    "    test_size=0.2, \n",
    "    random_state=42, \n",
    "    stratify=dataset.labels)\n",
    "\n",
    "train_dataset = TripletMEGDataset(transformed_data, label_map='covert_vowel_class_label_map', indices=train_indices)\n",
    "test_dataset = Subset((MEGDataset_Conv(transformed_data, label_map='covert_vowel_class_label_map', normalize=False)), test_indices)\n",
    "\n",
    "# Check for common samples\n",
    "common_samples = set(train_indices).intersection(test_indices)\n",
    "if common_samples:\n",
    "    print(f\"Common samples found: {common_samples}\")\n",
    "else:\n",
    "    print(\"No common samples found\")\n",
    "\n",
    "\n",
    "train_loader = DataLoader(train_dataset, batch_size=32, shuffle=True)\n",
    "for i, (anchor, positive, negative) in enumerate(train_loader):\n",
    "    print(f\"Batch {i}\")\n",
    "    print(\"Anchor:\", anchor)\n",
    "    print(\"Positive:\", positive)\n",
    "    print(\"Negative:\", negative)\n",
    "    break\n",
    "\n",
    "test_loader = DataLoader(test_dataset, batch_size=1, shuffle=False)\n",
    "for i, (input,label) in enumerate(test_loader):\n",
    "    print(f\"Batch: {i}\")\n",
    "    print(f\"Input: {input}\")\n",
    "    print(f\"Label: {label}\")\n",
    "    break"
   ]
  },
  {
   "cell_type": "code",
   "execution_count": 7,
   "metadata": {},
   "outputs": [
    {
     "name": "stdout",
     "output_type": "stream",
     "text": [
      "Epoch [1 / 100], Step [10/16], Loss: 10.475430\n",
      "Epoch [2 / 100], Step [10/16], Loss: 10.355314\n",
      "Epoch [3 / 100], Step [10/16], Loss: 9.674778\n",
      "Epoch [4 / 100], Step [10/16], Loss: 9.996514\n",
      "Epoch [5 / 100], Step [10/16], Loss: 9.968903\n",
      "Epoch [6 / 100], Step [10/16], Loss: 10.174206\n",
      "Epoch [7 / 100], Step [10/16], Loss: 9.689634\n",
      "Epoch [8 / 100], Step [10/16], Loss: 9.889215\n",
      "Epoch [9 / 100], Step [10/16], Loss: 9.072967\n",
      "Epoch [10 / 100], Step [10/16], Loss: 10.327597\n",
      "Epoch [11 / 100], Step [10/16], Loss: 10.125992\n",
      "Epoch [12 / 100], Step [10/16], Loss: 9.452953\n",
      "Epoch [13 / 100], Step [10/16], Loss: 9.664639\n",
      "Epoch [14 / 100], Step [10/16], Loss: 8.198694\n",
      "Epoch [15 / 100], Step [10/16], Loss: 10.705570\n",
      "Epoch [16 / 100], Step [10/16], Loss: 10.555359\n",
      "Epoch [17 / 100], Step [10/16], Loss: 10.060613\n",
      "Epoch [18 / 100], Step [10/16], Loss: 7.174542\n",
      "Epoch [19 / 100], Step [10/16], Loss: 7.890179\n",
      "Epoch [20 / 100], Step [10/16], Loss: 4.303816\n",
      "Epoch [21 / 100], Step [10/16], Loss: 5.759506\n",
      "Epoch [22 / 100], Step [10/16], Loss: 3.298290\n",
      "Epoch [23 / 100], Step [10/16], Loss: 4.333323\n",
      "Epoch [24 / 100], Step [10/16], Loss: 3.388826\n",
      "Epoch [25 / 100], Step [10/16], Loss: 2.333844\n",
      "Epoch [26 / 100], Step [10/16], Loss: 1.133117\n",
      "Epoch [27 / 100], Step [10/16], Loss: 2.510631\n",
      "Epoch [28 / 100], Step [10/16], Loss: 1.399733\n",
      "Epoch [29 / 100], Step [10/16], Loss: 3.974729\n",
      "Epoch [30 / 100], Step [10/16], Loss: 1.061830\n",
      "Epoch [31 / 100], Step [10/16], Loss: 1.532335\n",
      "Epoch [32 / 100], Step [10/16], Loss: 0.841156\n",
      "Epoch [33 / 100], Step [10/16], Loss: 0.733195\n",
      "Epoch [34 / 100], Step [10/16], Loss: 1.191124\n",
      "Epoch [35 / 100], Step [10/16], Loss: 0.382848\n",
      "Epoch [36 / 100], Step [10/16], Loss: 1.500481\n",
      "Epoch [37 / 100], Step [10/16], Loss: 0.872192\n",
      "Epoch [38 / 100], Step [10/16], Loss: 0.982946\n",
      "Epoch [39 / 100], Step [10/16], Loss: 0.089290\n",
      "Epoch [40 / 100], Step [10/16], Loss: 0.237550\n",
      "Epoch [41 / 100], Step [10/16], Loss: 0.161319\n",
      "Epoch [42 / 100], Step [10/16], Loss: 0.354084\n",
      "Epoch [43 / 100], Step [10/16], Loss: 0.320345\n",
      "Epoch [44 / 100], Step [10/16], Loss: 0.703557\n",
      "Epoch [45 / 100], Step [10/16], Loss: 0.196122\n",
      "Epoch [46 / 100], Step [10/16], Loss: 1.978750\n",
      "Epoch [47 / 100], Step [10/16], Loss: 0.587130\n",
      "Epoch [48 / 100], Step [10/16], Loss: 0.080124\n",
      "Epoch [49 / 100], Step [10/16], Loss: 1.323264\n",
      "Epoch [50 / 100], Step [10/16], Loss: 1.340497\n",
      "Epoch [51 / 100], Step [10/16], Loss: 1.498524\n",
      "Epoch [52 / 100], Step [10/16], Loss: 1.757503\n",
      "Epoch [53 / 100], Step [10/16], Loss: 1.313901\n",
      "Epoch [54 / 100], Step [10/16], Loss: 0.348218\n",
      "Epoch [55 / 100], Step [10/16], Loss: 0.251104\n",
      "Epoch [56 / 100], Step [10/16], Loss: 0.107789\n",
      "Epoch [57 / 100], Step [10/16], Loss: 2.880228\n",
      "Epoch [58 / 100], Step [10/16], Loss: 1.293110\n",
      "Epoch [59 / 100], Step [10/16], Loss: 2.289834\n",
      "Epoch [60 / 100], Step [10/16], Loss: 0.188214\n",
      "Epoch [61 / 100], Step [10/16], Loss: 0.649821\n",
      "Epoch [62 / 100], Step [10/16], Loss: 0.000000\n",
      "Epoch [63 / 100], Step [10/16], Loss: 1.702717\n",
      "Epoch [64 / 100], Step [10/16], Loss: 0.048615\n",
      "Epoch [65 / 100], Step [10/16], Loss: 0.184280\n",
      "Epoch [66 / 100], Step [10/16], Loss: 0.818981\n",
      "Epoch [67 / 100], Step [10/16], Loss: 1.803679\n",
      "Epoch [68 / 100], Step [10/16], Loss: 1.550135\n",
      "Epoch [69 / 100], Step [10/16], Loss: 0.428608\n",
      "Epoch [70 / 100], Step [10/16], Loss: 2.259251\n",
      "Epoch [71 / 100], Step [10/16], Loss: 0.546350\n",
      "Epoch [72 / 100], Step [10/16], Loss: 0.622976\n",
      "Epoch [73 / 100], Step [10/16], Loss: 0.111060\n",
      "Epoch [74 / 100], Step [10/16], Loss: 0.000000\n",
      "Epoch [75 / 100], Step [10/16], Loss: 1.600500\n",
      "Epoch [76 / 100], Step [10/16], Loss: 0.289734\n",
      "Epoch [77 / 100], Step [10/16], Loss: 0.114594\n",
      "Epoch [78 / 100], Step [10/16], Loss: 0.211969\n",
      "Epoch [79 / 100], Step [10/16], Loss: 0.235274\n",
      "Epoch [80 / 100], Step [10/16], Loss: 0.116115\n",
      "Epoch [81 / 100], Step [10/16], Loss: 0.030004\n",
      "Epoch [82 / 100], Step [10/16], Loss: 0.575633\n",
      "Epoch [83 / 100], Step [10/16], Loss: 0.331993\n",
      "Epoch [84 / 100], Step [10/16], Loss: 0.856920\n",
      "Epoch [85 / 100], Step [10/16], Loss: 0.009882\n",
      "Epoch [86 / 100], Step [10/16], Loss: 1.212730\n",
      "Epoch [87 / 100], Step [10/16], Loss: 0.000000\n",
      "Epoch [88 / 100], Step [10/16], Loss: 0.000000\n",
      "Epoch [89 / 100], Step [10/16], Loss: 0.000553\n",
      "Epoch [90 / 100], Step [10/16], Loss: 0.000000\n",
      "Epoch [91 / 100], Step [10/16], Loss: 0.000000\n",
      "Epoch [92 / 100], Step [10/16], Loss: 0.000000\n",
      "Epoch [93 / 100], Step [10/16], Loss: 0.255618\n",
      "Epoch [94 / 100], Step [10/16], Loss: 0.000000\n",
      "Epoch [95 / 100], Step [10/16], Loss: 0.007968\n",
      "Epoch [96 / 100], Step [10/16], Loss: 0.028801\n",
      "Epoch [97 / 100], Step [10/16], Loss: 0.000000\n",
      "Epoch [98 / 100], Step [10/16], Loss: 0.000000\n",
      "Epoch [99 / 100], Step [10/16], Loss: 0.013369\n",
      "Epoch [100 / 100], Step [10/16], Loss: 0.000000\n",
      "Training Finished\n"
     ]
    }
   ],
   "source": [
    "from sklearn.preprocessing import normalize\n",
    "torch.manual_seed(0)\n",
    "device = 'mps'\n",
    "model = model.to(device=device)\n",
    "criterion = nn.TripletMarginLoss(margin=10.0, p=2)\n",
    "optimizer = optim.Adam(model.parameters(), lr=0.0001)\n",
    "epochs = 100\n",
    "total_steps = len(train_loader)\n",
    "\n",
    "loss_values = []\n",
    "model.train()\n",
    "for epoch in range(epochs):\n",
    "    for i, (anchor, positive, negative) in enumerate(train_loader):\n",
    "    \n",
    "        anchor, positive, negative = anchor.to(device, dtype=torch.float32),positive.to(device, dtype=torch.float32), negative.to(device, dtype=torch.float32)\n",
    "        \n",
    "        optimizer.zero_grad()\n",
    "        anchor_embedding = model(anchor)\n",
    "        positive_embedding = model(positive)\n",
    "        negative_embedding = model(negative)\n",
    "\n",
    "        loss = criterion(anchor_embedding, positive_embedding, negative_embedding)\n",
    "\n",
    "        \n",
    "        loss.backward()\n",
    "        optimizer.step()\n",
    "        \n",
    "\n",
    "        loss_values.append(loss.item())\n",
    "\n",
    "        if (i+1) % 10 == 0:  # Adjusted the condition to a smaller number\n",
    "            print(f'Epoch [{epoch + 1} / {epochs}], Step [{i + 1}/{total_steps}], Loss: {loss.item():.6f}')\n",
    "print('Training Finished')\n"
   ]
  },
  {
   "cell_type": "code",
   "execution_count": 8,
   "metadata": {},
   "outputs": [],
   "source": [
    "#Compute embeddings for KNN\n",
    "train_clustering = Subset(MEGDataset_Conv(transformed_data, label_map='covert_vowel_class_label_map'), train_indices)\n",
    "clustering_loader = DataLoader(train_clustering, batch_size=1)\n",
    "\n",
    "clustering_embeddings = []\n",
    "clustering_labels = []\n",
    "\n",
    "model.eval()\n",
    "\n",
    "with torch.no_grad():\n",
    "    for i, (inputs, label) in enumerate(clustering_loader):\n",
    "        inputs = inputs.to(device, dtype=torch.float32)\n",
    "        embeddings = model(inputs)\n",
    "        clustering_embeddings.append(embeddings.cpu().numpy())\n",
    "        clustering_labels.append(label.cpu().numpy())\n",
    "\n",
    "clustering_embeddings = normalize(np.concatenate(clustering_embeddings, axis=0))\n",
    "clustering_labels = np.concatenate(clustering_labels, axis=0)\n",
    "\n",
    "\n",
    "test_embeddings = []\n",
    "test_labels = []\n",
    "with torch.no_grad():\n",
    "    true_labels = []\n",
    "    for i, (inputs, label) in enumerate(test_loader):\n",
    "        inputs = inputs.to(device, dtype=torch.float32)\n",
    "        embeddings = model(inputs)\n",
    "        test_embeddings.append(embeddings.cpu().numpy())\n",
    "        test_labels.append(label.cpu().numpy())\n",
    "\n",
    "test_embeddings = normalize(np.concatenate(test_embeddings, axis=0))\n",
    "test_labels = np.concatenate(test_labels, axis=0)"
   ]
  },
  {
   "cell_type": "code",
   "execution_count": 25,
   "metadata": {},
   "outputs": [
    {
     "name": "stdout",
     "output_type": "stream",
     "text": [
      "KNN Accuracy: 41.32%\n",
      "KNN F1 Score: 41.38\n"
     ]
    }
   ],
   "source": [
    "from sklearn.neighbors import KNeighborsClassifier\n",
    "k = 7\n",
    "knn = KNeighborsClassifier(n_neighbors=k, metric='euclidean')  # Euclidean distance in embedding space\n",
    "\n",
    "# Convert lists to numpy arrays\n",
    "clustering_embeddings = np.array(clustering_embeddings)\n",
    "clustering_labels = np.array(clustering_labels)\n",
    "\n",
    "# Train KNN on training embeddings\n",
    "knn.fit(clustering_embeddings, clustering_labels)\n",
    "\n",
    "# Convert test embeddings to numpy array\n",
    "test_embeddings = np.array(test_embeddings)\n",
    "\n",
    "# Predict labels for test embeddings\n",
    "predicted_labels = knn.predict(test_embeddings)\n",
    "\n",
    "# Evaluate accuracy\n",
    "from sklearn.metrics import accuracy_score, f1_score\n",
    "\n",
    "accuracy = accuracy_score(test_labels, predicted_labels)\n",
    "f1 = f1_score(test_labels, predicted_labels, average='weighted')\n",
    "\n",
    "print(f\"KNN Accuracy: {accuracy * 100:.2f}%\")\n",
    "print(f\"KNN F1 Score: {f1 * 100:.2f}\")"
   ]
  },
  {
   "cell_type": "code",
   "execution_count": 1,
   "metadata": {},
   "outputs": [
    {
     "ename": "NameError",
     "evalue": "name 'np' is not defined",
     "output_type": "error",
     "traceback": [
      "\u001b[0;31m---------------------------------------------------------------------------\u001b[0m",
      "\u001b[0;31mNameError\u001b[0m                                 Traceback (most recent call last)",
      "Cell \u001b[0;32mIn[1], line 9\u001b[0m\n\u001b[1;32m      2\u001b[0m \u001b[38;5;28;01mfrom\u001b[39;00m \u001b[38;5;21;01msklearn\u001b[39;00m\u001b[38;5;21;01m.\u001b[39;00m\u001b[38;5;21;01mmanifold\u001b[39;00m \u001b[38;5;28;01mimport\u001b[39;00m TSNE\n\u001b[1;32m      4\u001b[0m \u001b[38;5;66;03m# Example data: Replace with your embeddings and labels\u001b[39;00m\n\u001b[1;32m      5\u001b[0m \u001b[38;5;66;03m# clustering_embeddings, test_embeddings, clustering_labels, test_labels\u001b[39;00m\n\u001b[1;32m      6\u001b[0m \u001b[38;5;66;03m# are assumed to be defined.\u001b[39;00m\n\u001b[1;32m      7\u001b[0m \n\u001b[1;32m      8\u001b[0m \u001b[38;5;66;03m# Combine embeddings and labels\u001b[39;00m\n\u001b[0;32m----> 9\u001b[0m all_embeddings \u001b[38;5;241m=\u001b[39m \u001b[43mnp\u001b[49m\u001b[38;5;241m.\u001b[39mconcatenate((clustering_embeddings, test_embeddings), axis\u001b[38;5;241m=\u001b[39m\u001b[38;5;241m0\u001b[39m)\n\u001b[1;32m     10\u001b[0m all_labels \u001b[38;5;241m=\u001b[39m np\u001b[38;5;241m.\u001b[39mconcatenate((clustering_labels, test_labels), axis\u001b[38;5;241m=\u001b[39m\u001b[38;5;241m0\u001b[39m)\n\u001b[1;32m     12\u001b[0m \u001b[38;5;66;03m# Fit t-SNE\u001b[39;00m\n",
      "\u001b[0;31mNameError\u001b[0m: name 'np' is not defined"
     ]
    }
   ],
   "source": [
    "# Combine clustering and test embeddings for visualization\n",
    "from sklearn.manifold import TSNE\n",
    "\n",
    "# Example data: Replace with your embeddings and labels\n",
    "# clustering_embeddings, test_embeddings, clustering_labels, test_labels\n",
    "# are assumed to be defined.\n",
    "\n",
    "# Combine embeddings and labels\n",
    "all_embeddings = np.concatenate((clustering_embeddings, test_embeddings), axis=0)\n",
    "all_labels = np.concatenate((clustering_labels, test_labels), axis=0)\n",
    "\n",
    "# Fit t-SNE\n",
    "tsne = TSNE(n_components=2, random_state=42)\n",
    "tsne_results = tsne.fit_transform(all_embeddings)\n",
    "\n",
    "# Split t-SNE results for clustering and test embeddings\n",
    "clustering_tsne = tsne_results[:len(clustering_embeddings)]\n",
    "test_tsne = tsne_results[len(clustering_embeddings):]\n",
    "\n",
    "# Plot the results\n",
    "plt.figure(figsize=(10, 8))\n",
    "\n",
    "# Plot clustering embeddings\n",
    "scatter_clustering = plt.scatter(\n",
    "    clustering_tsne[:, 0], clustering_tsne[:, 1],\n",
    "    c=clustering_labels, cmap='viridis', alpha=0.6, marker='o', label='Clustering Embeddings'\n",
    ")\n",
    "\n",
    "# Plot test embeddings\n",
    "scatter_test = plt.scatter(\n",
    "    test_tsne[:, 0], test_tsne[:, 1],\n",
    "    c=test_labels, cmap='viridis', alpha=0.6, marker='D', label='Test Embeddings'\n",
    ")\n",
    "\n",
    "# Add legend and colorbar\n",
    "plt.colorbar(scatter_clustering, label='Labels')\n",
    "plt.legend(loc='best')\n",
    "plt.title('t-SNE visualization of embeddings')\n",
    "plt.xlabel('t-SNE component 1')\n",
    "plt.ylabel('t-SNE component 2')\n",
    "plt.show()"
   ]
  },
  {
   "cell_type": "code",
   "execution_count": 11,
   "metadata": {},
   "outputs": [],
   "source": [
    "map = {\"a_112\": 0, \"e_114\": 1, \"i_116\": 2, \"la_122\": 3, \"le_124\": 4, \"li_126\": 5, \"ma_132\": 6, \"me_134\": 7, \"mi_136\": 8, \"ra_142\": 9, \"re_144\": 10, \"ri_146\": 11, \"sa_152\": 12, \"se_154\": 13, \"si_156\": 14, \"ta_162\": 15, \"te_164\": 16, \"ti_166\": 17}"
   ]
  },
  {
   "cell_type": "code",
   "execution_count": 12,
   "metadata": {},
   "outputs": [
    {
     "name": "stdout",
     "output_type": "stream",
     "text": [
      "{'a_112': 0, 'e_114': 1, 'i_116': 2, 'la_122': 3, 'le_124': 4, 'li_126': 5, 'ma_132': 6, 'me_134': 7, 'mi_136': 8, 'ra_142': 9, 're_144': 10, 'ri_146': 11, 'sa_152': 12, 'se_154': 13, 'si_156': 14, 'ta_162': 15, 'te_164': 16, 'ti_166': 17}\n"
     ]
    }
   ],
   "source": [
    "print(map)"
   ]
  },
  {
   "cell_type": "code",
   "execution_count": null,
   "metadata": {},
   "outputs": [],
   "source": []
  }
 ],
 "metadata": {
  "kernelspec": {
   "display_name": "mne",
   "language": "python",
   "name": "python3"
  },
  "language_info": {
   "codemirror_mode": {
    "name": "ipython",
    "version": 3
   },
   "file_extension": ".py",
   "mimetype": "text/x-python",
   "name": "python",
   "nbconvert_exporter": "python",
   "pygments_lexer": "ipython3",
   "version": "3.12.6"
  }
 },
 "nbformat": 4,
 "nbformat_minor": 2
}
