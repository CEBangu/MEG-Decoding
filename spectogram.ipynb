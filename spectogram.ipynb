{
 "cells": [
  {
   "cell_type": "code",
   "execution_count": 5,
   "metadata": {},
   "outputs": [],
   "source": [
    "from BcomMEG import *\n",
    "import mne\n",
    "import numpy as np\n",
    "import matplotlib.pyplot as plt\n",
    "import os"
   ]
  },
  {
   "cell_type": "code",
   "execution_count": 6,
   "metadata": {},
   "outputs": [],
   "source": [
    "import torch.nn as nn\n",
    "class BigTripletNet(nn.Module): #this one is designed to take in all the sensors as one big tensor\n",
    "    def __init__(self):\n",
    "        super(BigTripletNet, self).__init__()\n",
    "        \n",
    "        #Conv Blocks\n",
    "        self.conv1 = nn.Conv2d(in_channels=247, out_channels=16, kernel_size=3, padding=1)\n",
    "        self.bn1 = nn.BatchNorm2d(16)\n",
    "        self.act1 = nn.GELU()\n",
    "        self.pool1 = nn.MaxPool2d(kernel_size=2, stride=2) #(16, 24, 40)\n",
    "\n",
    "        self.conv2 = nn.Conv2d(in_channels=16, out_channels=32, kernel_size=3, padding=1) \n",
    "        self.bn2 = nn.BatchNorm2d(32)\n",
    "        self.act2 = nn.GELU()\n",
    "        self.pool2 = nn.MaxPool2d(kernel_size=2, stride=2) #(32, 12, 20)\n",
    "\n",
    "        self.conv3 = nn.Conv2d(in_channels=32, out_channels=64, kernel_size=3, padding=1)\n",
    "        self.bn3 = nn.BatchNorm2d(64)\n",
    "        self.act3 = nn.GELU()\n",
    "        self.pool3 = nn.MaxPool2d(kernel_size=2, stride=2) #64, 6, 10\n",
    "\n",
    "        self.conv4 = nn.Conv2d(in_channels=64, out_channels=128, kernel_size=3, padding=1)\n",
    "        self.bn4 = nn.BatchNorm2d(128)\n",
    "        self.act4 = nn.GELU()\n",
    "        self.pool4 = nn.MaxPool2d(kernel_size=2, stride=2) #128, 3, 5\n",
    "\n",
    "        #FC layers\n",
    "        self.fc1 = nn.Linear(1920, 512)\n",
    "        self.fc2 = nn.Linear(512, 128)\n",
    "\n",
    "\n",
    "    def forward(self, x):\n",
    "        x = self.pool1(self.act1(self.bn1(self.conv1(x))))\n",
    "        x = self.pool2(self.act2(self.bn2(self.conv2(x))))\n",
    "        x = self.pool3(self.act3(self.bn3(self.conv3(x))))\n",
    "        x = self.pool4(self.act4(self.bn4(self.conv4(x))))\n",
    "\n",
    "        x = x.view(x.size(0), -1)\n",
    "        x = self.fc1(x)\n",
    "        x = self.fc2(x)\n",
    "        print(x.shape)\n",
    "\n",
    "        return x\n"
   ]
  },
  {
   "cell_type": "code",
   "execution_count": 7,
   "metadata": {},
   "outputs": [],
   "source": [
    "model = BigTripletNet()"
   ]
  },
  {
   "cell_type": "code",
   "execution_count": null,
   "metadata": {},
   "outputs": [],
   "source": [
    "dir = 'Data_Sample'\n",
    "subject = ['BCOM_18_2']\n",
    "avoid_reading=False\n",
    "picks=None\n",
    "frequencies = np.array(range(0, 100, 2))\n",
    "divisor = 7\n",
    "\n",
    "\n",
    "data = BcomMEG(subjects=subject, dir=dir, picks=picks, avoid_reading=False)\n",
    "data = data.get_spectrogram(frequencies=frequencies, cycle_divisor=divisor, data_only=True)\n",
    "\n"
   ]
  },
  {
   "cell_type": "code",
   "execution_count": 100,
   "metadata": {},
   "outputs": [],
   "source": [
    "model.to(device='mps')\n",
    "data = torch.tensor(data_from_baseline_correction, dtype=torch.float32)\n",
    "data = data.to(device='mps')"
   ]
  },
  {
   "cell_type": "code",
   "execution_count": 1,
   "metadata": {},
   "outputs": [
    {
     "ename": "NameError",
     "evalue": "name 'data' is not defined",
     "output_type": "error",
     "traceback": [
      "\u001b[0;31m---------------------------------------------------------------------------\u001b[0m",
      "\u001b[0;31mNameError\u001b[0m                                 Traceback (most recent call last)",
      "Cell \u001b[0;32mIn[1], line 2\u001b[0m\n\u001b[1;32m      1\u001b[0m \u001b[38;5;66;03m# Add an extra dimension to the data tensor\u001b[39;00m\n\u001b[0;32m----> 2\u001b[0m data \u001b[38;5;241m=\u001b[39m \u001b[43mdata\u001b[49m\u001b[38;5;241m.\u001b[39munsqueeze(\u001b[38;5;241m0\u001b[39m)  \u001b[38;5;66;03m# Add an extra dimension to the data tensor\u001b[39;00m\n\u001b[1;32m      3\u001b[0m data\u001b[38;5;241m.\u001b[39mshape\n",
      "\u001b[0;31mNameError\u001b[0m: name 'data' is not defined"
     ]
    }
   ],
   "source": [
    "# Add an extra dimension to the data tensor\n",
    "data = data.unsqueeze(0)  # Add an extra dimension to the data tensor\n",
    "data.shape"
   ]
  },
  {
   "cell_type": "code",
   "execution_count": 102,
   "metadata": {},
   "outputs": [
    {
     "name": "stdout",
     "output_type": "stream",
     "text": [
      "torch.Size([1, 128])\n"
     ]
    },
    {
     "data": {
      "text/plain": [
       "tensor([[ 0.5340, -0.1571, -0.4861,  0.4363,  0.0455,  0.3874, -0.1402, -0.2919,\n",
       "         -0.2654, -0.3802, -0.1191, -0.3442,  0.8937,  0.7089, -0.6383,  0.1493,\n",
       "         -0.1862,  0.0138, -0.2385,  0.5055, -0.2366,  0.1213, -0.5600, -1.1846,\n",
       "          0.2480, -0.5383,  0.1487,  0.1989, -0.1804, -0.0408,  0.0185,  0.4276,\n",
       "          0.2146,  0.6647, -0.5078, -0.4014, -0.0204,  0.2452, -0.2439,  0.0123,\n",
       "         -0.3380,  0.1554,  0.1999, -0.2314,  0.3361,  0.3895,  0.4610, -0.6637,\n",
       "          0.7090, -0.2900,  0.5108,  0.1444, -0.2961, -0.1916, -1.0463, -0.0291,\n",
       "         -0.1955, -0.7884, -0.0267,  0.2512,  0.0257,  0.4350,  0.0825,  0.8260,\n",
       "          0.7408, -0.1746, -0.1979, -0.2789,  0.1306, -0.0055,  0.3905,  0.6522,\n",
       "         -0.1001,  0.2987, -0.1067, -0.0682, -0.1999,  0.3542,  0.3543, -0.1683,\n",
       "         -0.0475,  0.3658, -0.1471,  0.4864,  1.3819,  0.3530,  0.5918,  0.3983,\n",
       "         -0.0049,  0.2658, -0.2764, -0.3923,  0.1244, -0.4531, -0.6760,  0.8823,\n",
       "          0.0422, -0.1372, -0.0381,  0.3792,  0.9725,  0.1107,  0.0432, -0.0825,\n",
       "         -0.0534, -0.0113, -0.1026, -0.1360, -0.1356,  0.1972,  0.0435,  0.0254,\n",
       "          0.1158, -0.2471,  0.2153,  0.1339,  0.0717,  0.2385,  0.3740,  0.4143,\n",
       "          0.2843, -0.3274,  0.2560,  0.2765,  0.0499,  0.8822,  0.2701,  0.2977]],\n",
       "       device='mps:0', grad_fn=<LinearBackward0>)"
      ]
     },
     "execution_count": 102,
     "metadata": {},
     "output_type": "execute_result"
    }
   ],
   "source": [
    "model(data)"
   ]
  },
  {
   "cell_type": "code",
   "execution_count": null,
   "metadata": {},
   "outputs": [],
   "source": []
  },
  {
   "cell_type": "code",
   "execution_count": null,
   "metadata": {},
   "outputs": [],
   "source": []
  },
  {
   "cell_type": "code",
   "execution_count": null,
   "metadata": {},
   "outputs": [],
   "source": []
  },
  {
   "cell_type": "code",
   "execution_count": null,
   "metadata": {},
   "outputs": [],
   "source": []
  }
 ],
 "metadata": {
  "kernelspec": {
   "display_name": "mne",
   "language": "python",
   "name": "python3"
  },
  "language_info": {
   "codemirror_mode": {
    "name": "ipython",
    "version": 3
   },
   "file_extension": ".py",
   "mimetype": "text/x-python",
   "name": "python",
   "nbconvert_exporter": "python",
   "pygments_lexer": "ipython3",
   "version": "3.12.6"
  }
 },
 "nbformat": 4,
 "nbformat_minor": 2
}
