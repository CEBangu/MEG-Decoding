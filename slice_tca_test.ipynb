{
 "cells": [
  {
   "cell_type": "code",
   "execution_count": 2,
   "metadata": {},
   "outputs": [],
   "source": [
    "import slicetca\n",
    "import torch\n",
    "import numpy as np\n",
    "import pandas as pd\n",
    "import pickle\n",
    "import scipy.ndimage as spnd\n",
    "import scipy.stats as sps\n",
    "import matplotlib.pyplot as plt\n",
    "import matplotlib\n",
    "import gdown\n",
    "\n",
    "from functions import *"
   ]
  },
  {
   "cell_type": "code",
   "execution_count": 3,
   "metadata": {},
   "outputs": [
    {
     "name": "stdout",
     "output_type": "stream",
     "text": [
      "Reading /Users/ciprianbangu/Cogmaster/M2 Internship/BCI code/Data_Sample/BCOM_18_2_ma_32-epo.fif ...\n",
      "    Found the data of interest:\n",
      "        t =    -300.00 ...     500.00 ms\n",
      "        0 CTF compensation matrices available\n",
      "Not setting metadata\n",
      "18 matching events found\n",
      "No baseline correction applied\n",
      "0 projection items activated\n",
      "Reading /Users/ciprianbangu/Cogmaster/M2 Internship/BCI code/Data_Sample/BCOM_18_2_i_16-epo.fif ...\n",
      "    Found the data of interest:\n",
      "        t =    -300.00 ...     500.00 ms\n",
      "        0 CTF compensation matrices available\n",
      "Not setting metadata\n",
      "12 matching events found\n",
      "No baseline correction applied\n",
      "0 projection items activated\n",
      "Reading /Users/ciprianbangu/Cogmaster/M2 Internship/BCI code/Data_Sample/BCOM_18_2_me_34-epo.fif ...\n",
      "    Found the data of interest:\n",
      "        t =    -300.00 ...     500.00 ms\n",
      "        0 CTF compensation matrices available\n",
      "Not setting metadata\n",
      "12 matching events found\n",
      "No baseline correction applied\n",
      "0 projection items activated\n",
      "Reading /Users/ciprianbangu/Cogmaster/M2 Internship/BCI code/Data_Sample/BCOM_18_2_si_56-epo.fif ...\n",
      "    Found the data of interest:\n",
      "        t =    -300.00 ...     500.00 ms\n",
      "        0 CTF compensation matrices available\n",
      "Not setting metadata\n",
      "6 matching events found\n",
      "No baseline correction applied\n",
      "0 projection items activated\n",
      "Reading /Users/ciprianbangu/Cogmaster/M2 Internship/BCI code/Data_Sample/BCOM_18_2_re_44-epo.fif ...\n",
      "    Found the data of interest:\n",
      "        t =    -300.00 ...     500.00 ms\n",
      "        0 CTF compensation matrices available\n",
      "Not setting metadata\n",
      "8 matching events found\n",
      "No baseline correction applied\n",
      "0 projection items activated\n",
      "Reading /Users/ciprianbangu/Cogmaster/M2 Internship/BCI code/Data_Sample/BCOM_18_2_li_26-epo.fif ...\n",
      "    Found the data of interest:\n",
      "        t =    -300.00 ...     500.00 ms\n",
      "        0 CTF compensation matrices available\n",
      "Not setting metadata\n",
      "14 matching events found\n",
      "No baseline correction applied\n",
      "0 projection items activated\n",
      "Reading /Users/ciprianbangu/Cogmaster/M2 Internship/BCI code/Data_Sample/BCOM_18_2_ti_66-epo.fif ...\n",
      "    Found the data of interest:\n",
      "        t =    -300.00 ...     500.00 ms\n",
      "        0 CTF compensation matrices available\n",
      "Not setting metadata\n",
      "6 matching events found\n",
      "No baseline correction applied\n",
      "0 projection items activated\n",
      "Reading /Users/ciprianbangu/Cogmaster/M2 Internship/BCI code/Data_Sample/BCOM_18_2_ra_42-epo.fif ...\n",
      "    Found the data of interest:\n",
      "        t =    -300.00 ...     500.00 ms\n",
      "        0 CTF compensation matrices available\n",
      "Not setting metadata\n",
      "14 matching events found\n",
      "No baseline correction applied\n",
      "0 projection items activated\n",
      "Reading /Users/ciprianbangu/Cogmaster/M2 Internship/BCI code/Data_Sample/BCOM_18_2_ta_62-epo.fif ...\n",
      "    Found the data of interest:\n",
      "        t =    -300.00 ...     500.00 ms\n",
      "        0 CTF compensation matrices available\n",
      "Not setting metadata\n",
      "11 matching events found\n",
      "No baseline correction applied\n",
      "0 projection items activated\n",
      "Reading /Users/ciprianbangu/Cogmaster/M2 Internship/BCI code/Data_Sample/BCOM_18_2_le_24-epo.fif ...\n",
      "    Found the data of interest:\n",
      "        t =    -300.00 ...     500.00 ms\n",
      "        0 CTF compensation matrices available\n",
      "Not setting metadata\n",
      "7 matching events found\n",
      "No baseline correction applied\n",
      "0 projection items activated\n",
      "Reading /Users/ciprianbangu/Cogmaster/M2 Internship/BCI code/Data_Sample/BCOM_18_2_ri_46-epo.fif ...\n",
      "    Found the data of interest:\n",
      "        t =    -300.00 ...     500.00 ms\n",
      "        0 CTF compensation matrices available\n",
      "Not setting metadata\n",
      "13 matching events found\n",
      "No baseline correction applied\n",
      "0 projection items activated\n",
      "Reading /Users/ciprianbangu/Cogmaster/M2 Internship/BCI code/Data_Sample/BCOM_18_2_la_22-epo.fif ...\n",
      "    Found the data of interest:\n",
      "        t =    -300.00 ...     500.00 ms\n",
      "        0 CTF compensation matrices available\n",
      "Not setting metadata\n",
      "15 matching events found\n",
      "No baseline correction applied\n",
      "0 projection items activated\n",
      "Reading /Users/ciprianbangu/Cogmaster/M2 Internship/BCI code/Data_Sample/BCOM_18_2_te_64-epo.fif ...\n",
      "    Found the data of interest:\n",
      "        t =    -300.00 ...     500.00 ms\n",
      "        0 CTF compensation matrices available\n",
      "Not setting metadata\n",
      "10 matching events found\n",
      "No baseline correction applied\n",
      "0 projection items activated\n",
      "Reading /Users/ciprianbangu/Cogmaster/M2 Internship/BCI code/Data_Sample/BCOM_18_2_e_14-epo.fif ...\n",
      "    Found the data of interest:\n",
      "        t =    -300.00 ...     500.00 ms\n",
      "        0 CTF compensation matrices available\n",
      "Not setting metadata\n",
      "12 matching events found\n",
      "No baseline correction applied\n",
      "0 projection items activated\n",
      "Reading /Users/ciprianbangu/Cogmaster/M2 Internship/BCI code/Data_Sample/BCOM_18_2_sa_52-epo.fif ...\n",
      "    Found the data of interest:\n",
      "        t =    -300.00 ...     500.00 ms\n",
      "        0 CTF compensation matrices available\n",
      "Not setting metadata\n",
      "13 matching events found\n",
      "No baseline correction applied\n",
      "0 projection items activated\n",
      "Reading /Users/ciprianbangu/Cogmaster/M2 Internship/BCI code/Data_Sample/BCOM_18_2_se_54-epo.fif ...\n",
      "    Found the data of interest:\n",
      "        t =    -300.00 ...     500.00 ms\n",
      "        0 CTF compensation matrices available\n",
      "Not setting metadata\n",
      "5 matching events found\n",
      "No baseline correction applied\n",
      "0 projection items activated\n",
      "Reading /Users/ciprianbangu/Cogmaster/M2 Internship/BCI code/Data_Sample/BCOM_18_2_mi_36-epo.fif ...\n",
      "    Found the data of interest:\n",
      "        t =    -300.00 ...     500.00 ms\n",
      "        0 CTF compensation matrices available\n",
      "Not setting metadata\n",
      "10 matching events found\n",
      "No baseline correction applied\n",
      "0 projection items activated\n",
      "Reading /Users/ciprianbangu/Cogmaster/M2 Internship/BCI code/Data_Sample/BCOM_18_2_a_12-epo.fif ...\n",
      "    Found the data of interest:\n",
      "        t =    -300.00 ...     500.00 ms\n",
      "        0 CTF compensation matrices available\n",
      "Not setting metadata\n",
      "17 matching events found\n",
      "No baseline correction applied\n",
      "0 projection items activated\n"
     ]
    }
   ],
   "source": [
    "dir = '/Volumes/@neurospeech/PROJECTS/BCI/BCOM/DATA_ANALYZED/EVOKED/DATA/WITHOUT_BADS/COVERT'\n",
    "dir2 = '/Users/ciprianbangu/Cogmaster/M2 Internship/BCI code/Data_Sample'\n",
    "subjects = ['BCOM_18_2']\n",
    "picks=['MEG 130', 'MEG 139','MEG 133','MEG 117','MEG 140','MEG 127','MEG 128','MEG 109','MEG 135','MEG 132','MEG 137',\n",
    " 'MEG 131','MEG 129','MEG 118','MEG 134','MEG 136','MEG 141','MEG 116','MEG 114','MEG 115']\n",
    "\n",
    "data_dict = data_load(dir2, subjects, picks, avoid_overt=True)"
   ]
  },
  {
   "cell_type": "code",
   "execution_count": 7,
   "metadata": {},
   "outputs": [
    {
     "data": {
      "text/plain": [
       "<matplotlib.colorbar.Colorbar at 0x1691add90>"
      ]
     },
     "execution_count": 7,
     "metadata": {},
     "output_type": "execute_result"
    },
    {
     "data": {
      "image/png": "[encoded data removed]",
      "text/plain": [
       "<Figure size 1600x200 with 2 Axes>"
      ]
     },
     "metadata": {},
     "output_type": "display_data"
    }
   ],
   "source": [
    "plt.matshow(data_dict['BCOM_18_2']['i_16'][0]) #Ok actually, the data does have negative values, so can't do naive NMF here\n",
    "plt.colorbar()"
   ]
  },
  {
   "cell_type": "code",
   "execution_count": null,
   "metadata": {},
   "outputs": [
    {
     "data": {
      "text/plain": [
       "324"
      ]
     },
     "execution_count": 32,
     "metadata": {},
     "output_type": "execute_result"
    }
   ],
   "source": [
    "data_dict['BCOM_18_2'].keys()"
   ]
  },
  {
   "cell_type": "code",
   "execution_count": 13,
   "metadata": {},
   "outputs": [
    {
     "name": "stdout",
     "output_type": "stream",
     "text": [
      "(20, 241)\n",
      "(20, 241)\n",
      "(20, 241)\n",
      "(20, 241)\n",
      "(20, 241)\n",
      "(20, 241)\n",
      "(20, 241)\n",
      "(20, 241)\n",
      "(20, 241)\n",
      "(20, 241)\n",
      "(20, 241)\n",
      "(20, 241)\n",
      "(20, 241)\n",
      "(20, 241)\n",
      "(20, 241)\n",
      "(20, 241)\n",
      "(20, 241)\n",
      "(20, 241)\n"
     ]
    },
    {
     "data": {
      "text/plain": [
       "(20, 241)"
      ]
     },
     "execution_count": 13,
     "metadata": {},
     "output_type": "execute_result"
    }
   ],
   "source": [
    "# she suggested I look at the avearge of the data - it looks like there are some trends actually, but if they're trends everywhere they will be hard to separate\n",
    "\n",
    "means = {}\n",
    "sums = np.zeros([20, 241])\n",
    "for subject in data_dict:\n",
    "    for syllable in data_dict[subject]:\n",
    "        for epoch in data_dict[subject][syllable]:\n",
    "            sums += epoch\n",
    "        print(sums.shape)\n",
    "        mean = sums / len(data_dict[subject][syllable])\n",
    "        means[syllable] = mean\n",
    "\n",
    "means['ma_32'].shape"
   ]
  },
  {
   "cell_type": "code",
   "execution_count": 3,
   "metadata": {},
   "outputs": [],
   "source": [
    "device = \"mps\"\n",
    "concatenated = np.array([])\n",
    "\n",
    "# so, since we have different depths, numpy doesn't want to concatenate them smh. We will have to be clever\n",
    "lengths = get_syllable_counts(data_dict)\n",
    "max_length = get_max_length(lengths)"
   ]
  },
  {
   "cell_type": "code",
   "execution_count": 4,
   "metadata": {},
   "outputs": [
    {
     "data": {
      "text/plain": [
       "(324, 20, 241)"
      ]
     },
     "execution_count": 4,
     "metadata": {},
     "output_type": "execute_result"
    }
   ],
   "source": [
    "#padding\n",
    "x = data_dict.copy()\n",
    "for subject in x:\n",
    "    for syllable in data_dict[subject]:\n",
    "        if len(data_dict[subject][syllable]) < max_length[subject]: # if the length is smaller than the max length\n",
    "            padding = np.zeros([max_length[subject] - len(data_dict[subject][syllable]), 20, 241]) # create a padding array\n",
    "            data_dict[subject][syllable] = np.concatenate((data_dict[subject][syllable], padding)) # concatenate the padding to the original array\n",
    "\n",
    "#concatenating\n",
    "concatenated = np.zeros((0, 20, 241)) # create an empty array to concatenate the data to\n",
    "for subject in data_dict: # for each subject\n",
    "    for syllable in data_dict[subject]: # for each syllable\n",
    "            concatenated = np.concatenate((concatenated, data_dict[subject][syllable]), axis=0) # concatenate the data to the empty array\n",
    "concatenated.shape"
   ]
  },
  {
   "cell_type": "code",
   "execution_count": 5,
   "metadata": {},
   "outputs": [
    {
     "data": {
      "text/plain": [
       "(203, 20, 241)"
      ]
     },
     "execution_count": 5,
     "metadata": {},
     "output_type": "execute_result"
    }
   ],
   "source": [
    "padding_array = np.zeros([20, 241])\n",
    "\n",
    "\n",
    "index_list = []\n",
    "i = -1\n",
    "for slice in concatenated:\n",
    "    i += 1\n",
    "    if np.array_equal(slice, padding_array):\n",
    "        index_list.append(i)\n",
    "index_list\n",
    "concatenated = np.delete(concatenated, index_list, axis=0)\n",
    "concatenated = concatenated.astype(np.float32)\n",
    "# remove_padding(concatenated).shape\n",
    "concatenated.shape"
   ]
  },
  {
   "cell_type": "code",
   "execution_count": 6,
   "metadata": {},
   "outputs": [],
   "source": [
    "x = torch.tensor(concatenated, dtype=torch.float32, device=device)"
   ]
  },
  {
   "cell_type": "code",
   "execution_count": 4,
   "metadata": {},
   "outputs": [],
   "source": [
    "MEG_DATA_TENSOR = data_to_tensor(data_dict)"
   ]
  },
  {
   "cell_type": "code",
   "execution_count": 5,
   "metadata": {},
   "outputs": [],
   "source": [
    "MEG_DATA_TENSOR = MEG_DATA_TENSOR/MEG_DATA_TENSOR.std()"
   ]
  },
  {
   "cell_type": "code",
   "execution_count": null,
   "metadata": {},
   "outputs": [
    {
     "name": "stderr",
     "output_type": "stream",
     "text": [
      "The model converged. Loss: 0.447957307100296 :  22%|██▏       | 2208/10000 [00:12<00:45, 171.85it/s]\n"
     ]
    }
   ],
   "source": [
    "#TODO: Get epoch IDXs for plot colours and length for x-axis\n",
    "\n",
    "\n",
    "components, model = slicetca.decompose(MEG_DATA_TENSOR,\n",
    "                                       number_components=(4,1,1),\n",
    "                                       positive=False,\n",
    "                                       learning_rate=5*10**-3,\n",
    "                                       min_std=10**-5,\n",
    "                                       max_iter=10000,\n",
    "                                       seed=0)"
   ]
  },
  {
   "cell_type": "code",
   "execution_count": null,
   "metadata": {},
   "outputs": [
    {
     "data": {
      "image/png": "[encoded data removed]",
      "text/plain": [
       "<Figure size 400x300 with 1 Axes>"
      ]
     },
     "metadata": {},
     "output_type": "display_data"
    }
   ],
   "source": [
    "plt.figure(figsize=(4,3), dpi=100)\n",
    "plt.plot(np.arange(1000,len(model.losses)), model.losses[1000:], 'k')\n",
    "plt.xlabel('iterations')\n",
    "plt.ylabel('mean squared error')\n",
    "plt.xlim(0,len(model.losses))\n",
    "plt.tight_layout()"
   ]
  },
  {
   "cell_type": "code",
   "execution_count": 26,
   "metadata": {},
   "outputs": [
    {
     "ename": "NameError",
     "evalue": "name 'trial_colors' is not defined",
     "output_type": "error",
     "traceback": [
      "\u001b[0;31m---------------------------------------------------------------------------\u001b[0m",
      "\u001b[0;31mNameError\u001b[0m                                 Traceback (most recent call last)",
      "Cell \u001b[0;32mIn[26], line 7\u001b[0m\n\u001b[1;32m      2\u001b[0m neuron_sorting_peak_time \u001b[38;5;241m=\u001b[39m np\u001b[38;5;241m.\u001b[39margsort(np\u001b[38;5;241m.\u001b[39margmax(components[\u001b[38;5;241m0\u001b[39m][\u001b[38;5;241m1\u001b[39m][\u001b[38;5;241m0\u001b[39m], axis\u001b[38;5;241m=\u001b[39m\u001b[38;5;241m1\u001b[39m))\n\u001b[1;32m      4\u001b[0m \u001b[38;5;66;03m# call plotting function, indicating index for sorting trials and colors for different angles as well as time\u001b[39;00m\n\u001b[1;32m      5\u001b[0m axes \u001b[38;5;241m=\u001b[39m slicetca\u001b[38;5;241m.\u001b[39mplot(model,\n\u001b[1;32m      6\u001b[0m               variables\u001b[38;5;241m=\u001b[39m(\u001b[38;5;124m'\u001b[39m\u001b[38;5;124mtrial\u001b[39m\u001b[38;5;124m'\u001b[39m, \u001b[38;5;124m'\u001b[39m\u001b[38;5;124mneuron\u001b[39m\u001b[38;5;124m'\u001b[39m, \u001b[38;5;124m'\u001b[39m\u001b[38;5;124mtime\u001b[39m\u001b[38;5;124m'\u001b[39m),\n\u001b[0;32m----> 7\u001b[0m               colors\u001b[38;5;241m=\u001b[39m(\u001b[43mtrial_colors\u001b[49m[trial_idx], \u001b[38;5;28;01mNone\u001b[39;00m, \u001b[38;5;28;01mNone\u001b[39;00m), \u001b[38;5;66;03m# we only want the trials to be colored\u001b[39;00m\n\u001b[1;32m      8\u001b[0m               ticks\u001b[38;5;241m=\u001b[39m(\u001b[38;5;28;01mNone\u001b[39;00m, \u001b[38;5;28;01mNone\u001b[39;00m, np\u001b[38;5;241m.\u001b[39mlinspace(\u001b[38;5;241m0\u001b[39m,\u001b[38;5;241m150\u001b[39m,\u001b[38;5;241m4\u001b[39m)), \u001b[38;5;66;03m# we only want to modify the time ticks\u001b[39;00m\n\u001b[1;32m      9\u001b[0m               tick_labels\u001b[38;5;241m=\u001b[39m(\u001b[38;5;28;01mNone\u001b[39;00m, \u001b[38;5;28;01mNone\u001b[39;00m, np\u001b[38;5;241m.\u001b[39mlinspace(\u001b[38;5;241m-\u001b[39m\u001b[38;5;241m1\u001b[39m,\u001b[38;5;241m0.5\u001b[39m,\u001b[38;5;241m4\u001b[39m)),\n\u001b[1;32m     10\u001b[0m               sorting_indices\u001b[38;5;241m=\u001b[39m(trial_idx, neuron_sorting_peak_time, \u001b[38;5;28;01mNone\u001b[39;00m),\n\u001b[1;32m     11\u001b[0m               quantile\u001b[38;5;241m=\u001b[39m\u001b[38;5;241m0.99\u001b[39m)\n",
      "\u001b[0;31mNameError\u001b[0m: name 'trial_colors' is not defined"
     ]
    }
   ],
   "source": [
    "# we sort the neurons of the trial slices according to their peak activity in the first slice.\n",
    "neuron_sorting_peak_time = np.argsort(np.argmax(components[0][1][0], axis=1))\n",
    "\n",
    "# call plotting function, indicating index for sorting trials and colors for different angles as well as time\n",
    "axes = slicetca.plot(model,\n",
    "              variables=('trial', 'neuron', 'time'),\n",
    "              colors=(trial_colors[trial_idx], None, None), # we only want the trials to be colored\n",
    "              ticks=(None, None, np.linspace(0,150,4)), # we only want to modify the time ticks\n",
    "              tick_labels=(None, None, np.linspace(-1,0.5,4)),\n",
    "              sorting_indices=(trial_idx, neuron_sorting_peak_time, None),\n",
    "              quantile=0.99)"
   ]
  }
 ],
 "metadata": {
  "kernelspec": {
   "display_name": "mne",
   "language": "python",
   "name": "python3"
  },
  "language_info": {
   "codemirror_mode": {
    "name": "ipython",
    "version": 3
   },
   "file_extension": ".py",
   "mimetype": "text/x-python",
   "name": "python",
   "nbconvert_exporter": "python",
   "pygments_lexer": "ipython3",
   "version": "3.12.6"
  }
 },
 "nbformat": 4,
 "nbformat_minor": 2
}
