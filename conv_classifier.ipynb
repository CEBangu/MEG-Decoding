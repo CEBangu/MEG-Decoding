{
 "cells": [
  {
   "cell_type": "code",
   "execution_count": 1,
   "metadata": {},
   "outputs": [],
   "source": [
    "import torch\n",
    "import torch.nn as nn\n",
    "import torch.optim as optim\n",
    "from torch.utils.data import Dataset, DataLoader\n",
    "from torchvision import models, transforms\n",
    "import torch.nn.functional as F\n",
    "from BcomMEG import *\n",
    "from MEGDataset_Conv import *\n",
    "from ConvNet import *\n",
    "import matplotlib.pyplot as plt\n"
   ]
  },
  {
   "cell_type": "code",
   "execution_count": 2,
   "metadata": {},
   "outputs": [],
   "source": [
    "# So one option would be to use ResNet as the pretrained and try to fine-tune it. \n",
    "# I'm not opposed to this, but it would require messing with the first layer, and\n",
    "# making sort of arbitrary downscaling of the MEG data. We would have to be clever\n",
    "# about this. I think I'm just going to try to train my own for right now and see\n",
    "# how it goes\n",
    "# resnet = models.resnet50(weights='ResNet50_Weights.DEFAULT')\n",
    "# print(resnet.conv1)"
   ]
  },
  {
   "cell_type": "markdown",
   "metadata": {},
   "source": [
    "### OK, actually, the label map depends on how you want to split your categories, so it should be defined by the user externally."
   ]
  },
  {
   "cell_type": "code",
   "execution_count": null,
   "metadata": {},
   "outputs": [],
   "source": []
  },
  {
   "cell_type": "code",
   "execution_count": null,
   "metadata": {},
   "outputs": [],
   "source": [
    "dir = '/Volumes/@neurospeech/PROJECTS/BCI/BCOM/DATA_ANALYZED/EVOKED/DATA/WITHOUT_BADS/COVERT'\n",
    "dir1 = '/Users/ciprianbangu/Cogmaster/M2 Internship/BCI code/Data_Sample'\n",
    "subjects = ['BCOM_18_2']\n",
    "picks = None\n",
    "\n",
    "data = BcomMEG(dir=dir1, subjects=subjects, picks=picks, avoid_reading=False)"
   ]
  },
  {
   "cell_type": "code",
   "execution_count": 4,
   "metadata": {},
   "outputs": [],
   "source": [
    "dataset = MEGDataset_Conv(data, label_map='multi_class_overt')"
   ]
  },
  {
   "cell_type": "code",
   "execution_count": 5,
   "metadata": {},
   "outputs": [],
   "source": [
    "dataset.data = dataset.data * 1e13"
   ]
  },
  {
   "cell_type": "code",
   "execution_count": 57,
   "metadata": {},
   "outputs": [
    {
     "name": "stdout",
     "output_type": "stream",
     "text": [
      "Batch 0:\n",
      "  Data shape: torch.Size([4, 1, 247, 241])\n",
      "  Labels shape: torch.Size([4])\n"
     ]
    }
   ],
   "source": [
    "from torch.utils.data import DataLoader\n",
    "data_loader = DataLoader(\n",
    "    dataset, \n",
    "    batch_size=4, \n",
    "    shuffle=True,\n",
    ")\n",
    "\n",
    "for batch_index, (data, labels) in enumerate(data_loader):\n",
    "    print(f\"Batch {batch_index}:\")\n",
    "    print(f\"  Data shape: {data.shape}\")\n",
    "    print(f\"  Labels shape: {labels.shape}\")\n",
    "    break"
   ]
  },
  {
   "cell_type": "code",
   "execution_count": null,
   "metadata": {},
   "outputs": [],
   "source": [
    "device = 'mps'\n",
    "model = ConvNet().to(device=device)\n",
    "criterion = nn.CrossEntropyLoss()\n",
    "optimizer = optim.Adam(model.parameters(), lr=0.0005)\n",
    "epochs = 10\n",
    "\n",
    "n_total_steps = len(data_loader)\n",
    "\n",
    "loss_values = []\n",
    "for epoch in range(epochs):\n",
    "    for i, (data, labels) in enumerate(data_loader):\n",
    "        labels = labels.to(device)\n",
    "        # print(data)\n",
    "\n",
    "        outputs = model(data)\n",
    "        # print(f\"Outputs: {outputs}\")\n",
    "        # print(f\"Labels: {labels}\")\n",
    "        loss = criterion(outputs, labels)\n",
    "        print(f\"Loss: {loss.item()}\")\n",
    "\n",
    "        optimizer.zero_grad()\n",
    "        loss.backward()\n",
    "        optimizer.step()\n",
    "\n",
    "        loss_values.append(loss.item())\n",
    "\n",
    "        if (i+1) % 200 == 0:  # Adjusted the condition to a smaller number\n",
    "            print(f'Epoch [{epoch + 1} / {epochs}], Step [{i + 1}/{n_total_steps}], Loss: {loss.item():.4f}')\n",
    "print('Training Finished')\n",
    "\n"
   ]
  },
  {
   "cell_type": "code",
   "execution_count": 64,
   "metadata": {},
   "outputs": [
    {
     "data": {
      "text/plain": [
       "[<matplotlib.lines.Line2D at 0x34a1a0e00>]"
      ]
     },
     "execution_count": 64,
     "metadata": {},
     "output_type": "execute_result"
    },
    {
     "data": {
      "image/png": "[encoded data removed]",
      "text/plain": [
       "<Figure size 640x480 with 1 Axes>"
      ]
     },
     "metadata": {},
     "output_type": "display_data"
    }
   ],
   "source": [
    "plt.plot(range(len(loss_values)), loss_values)"
   ]
  },
  {
   "cell_type": "code",
   "execution_count": 65,
   "metadata": {},
   "outputs": [
    {
     "data": {
      "text/plain": [
       "0.0007938735652714968"
      ]
     },
     "execution_count": 65,
     "metadata": {},
     "output_type": "execute_result"
    }
   ],
   "source": [
    "loss_values[-1]"
   ]
  },
  {
   "cell_type": "code",
   "execution_count": null,
   "metadata": {},
   "outputs": [],
   "source": []
  }
 ],
 "metadata": {
  "kernelspec": {
   "display_name": "mne",
   "language": "python",
   "name": "python3"
  },
  "language_info": {
   "codemirror_mode": {
    "name": "ipython",
    "version": 3
   },
   "file_extension": ".py",
   "mimetype": "text/x-python",
   "name": "python",
   "nbconvert_exporter": "python",
   "pygments_lexer": "ipython3",
   "version": "3.12.6"
  }
 },
 "nbformat": 4,
 "nbformat_minor": 2
}
