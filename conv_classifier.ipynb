{
 "cells": [
  {
   "cell_type": "code",
   "execution_count": 1,
   "metadata": {},
   "outputs": [],
   "source": [
    "import torch\n",
    "import torch.nn as nn\n",
    "import torch.optim as optim\n",
    "from torch.utils.data import Dataset, DataLoader\n",
    "from torchvision import models, transforms\n",
    "import torch.nn.functional as F\n",
    "from BcomMEG import *\n"
   ]
  },
  {
   "cell_type": "code",
   "execution_count": null,
   "metadata": {},
   "outputs": [
    {
     "name": "stderr",
     "output_type": "stream",
     "text": [
      "Downloading: \"https://download.pytorch.org/models/resnet50-11ad3fa6.pth\" to /Users/ciprianbangu/.cache/torch/hub/checkpoints/resnet50-11ad3fa6.pth\n",
      "  0%|          | 0.00/97.8M [00:00<?, ?B/s]0.00s - Debugger warning: It seems that frozen modules are being used, which may\n",
      "0.00s - make the debugger miss breakpoints. Please pass -Xfrozen_modules=off\n",
      "0.00s - to python to disable frozen modules.\n",
      "0.00s - Note: Debugging will proceed. Set PYDEVD_DISABLE_FILE_VALIDATION=1 to disable this validation.\n",
      "100%|██████████| 97.8M/97.8M [00:03<00:00, 32.6MB/s]\n"
     ]
    },
    {
     "name": "stdout",
     "output_type": "stream",
     "text": [
      "Conv2d(3, 64, kernel_size=(7, 7), stride=(2, 2), padding=(3, 3), bias=False)\n"
     ]
    }
   ],
   "source": [
    "# So one option would be to use ResNet as the pretrained and try to fine-tune it. \n",
    "# I'm not opposed to this, but it would require messing with the first layer, and\n",
    "# making sort of arbitrary downscaling of the MEG data. We would have to be clever\n",
    "# about this. I think I'm just going to try to train my own for right now and see\n",
    "# how it goes\n",
    "# resnet = models.resnet50(weights='ResNet50_Weights.DEFAULT')\n",
    "# print(resnet.conv1)"
   ]
  },
  {
   "cell_type": "code",
   "execution_count": null,
   "metadata": {},
   "outputs": [],
   "source": [
    "dir = '/Volumes/@neurospeech/PROJECTS/BCI/BCOM/DATA_ANALYZED/EVOKED/DATA/WITHOUT_BADS/COVERT'\n",
    "subjects = ['BCOM_18_2', 'BCOM_18_3', 'BCOM_18_4']\n",
    "data = BcomMEG(dir=dir, subjects=subjects, picks=picks)\n",
    "\n",
    "#TODO: There needs to be a default mapping because otherwise if you initialize a dataset that is missing some of the\n",
    "        # labels, the indexes will get overun. This shouldn't be a problem if you load all the data,\n",
    "        # but if you don't then you could have major isses. \n",
    "        # I think it might just have to be manually initialized in the class attributes?\n",
    "        \n",
    "        \n",
    "# get all the syllables in the dataset accross included subjects        \n",
    "syllables = [] \n",
    "for subject in data:\n",
    "    syllables.extend(data[subject].keys()) #put em into a list\n",
    "syllables = set(syllables) #get uniques\n",
    "        \n",
    "\n",
    "# Map syllables to categorical vars (ints) and ints to their syllable counterparts\n",
    "label_to_int_map = {label: index for index, label in enumerate(syllables)}\n",
    "int_to_label_map = {index: label for index, label in enumerate(syllables)}\n",
    "\n",
    "#Extract the labels again this should probably be a method in the data_dict class\n",
    "label = []\n",
    "for subject in data:\n",
    "        label.extend(label_to_int_map[syllable] for syllable in data[subject])\n",
    "label\n"
   ]
  },
  {
   "cell_type": "markdown",
   "metadata": {},
   "source": [
    "At least for now, we are gunna be trying all-class covert. But it would be interesting to try binary Covert/Overt, or smaller classes - like breaking them down based on the vowel"
   ]
  },
  {
   "cell_type": "code",
   "execution_count": null,
   "metadata": {},
   "outputs": [],
   "source": [
    "class MEGDataset_Conv(Dataset):\n",
    "    def __init__(self, data_dict, label_map):\n",
    "        # Ok, now the project of doing this correctly starts\n",
    "        self.data_dict = data_dict \n",
    "        self.label_map = label_map #actually, I think this should be a property of this class, because it only really matters for the decoding. \n",
    "\n",
    "        self.labels = self.get_labels(self.data_dict, self.label_map)\n",
    "\n",
    "        self.data, _  = data_to_tensor(data_dict) #NB! this is already a torch tensor, and also returns indexes\n",
    "                                                  # which we want to avoid (the '_')\n",
    "\n",
    "\n",
    "    def get_labels(self, data_dict, label_map):\n",
    "        labels = []\n",
    "        for subject in data_dict:\n",
    "            labels.extend(label_map[syllable] for syllable in data_dict[subject])\n",
    "        return labels\n",
    "\n",
    "    def __len__(self):\n",
    "        return len(self.data)\n",
    "    \n",
    "    def __getitem__(self, index):\n",
    "        sample = self.data[index]\n",
    "        label = self.labels[index]\n",
    "\n",
    "        # if self.transform:\n",
    "        #     sample = self.transform(sample)\n",
    "\n",
    "        return sample, label\n",
    "    \n"
   ]
  },
  {
   "cell_type": "code",
   "execution_count": 116,
   "metadata": {},
   "outputs": [],
   "source": [
    "dataset = MEGDataset_Conv(data, label_to_int_map)"
   ]
  }
 ],
 "metadata": {
  "kernelspec": {
   "display_name": "mne",
   "language": "python",
   "name": "python3"
  },
  "language_info": {
   "codemirror_mode": {
    "name": "ipython",
    "version": 3
   },
   "file_extension": ".py",
   "mimetype": "text/x-python",
   "name": "python",
   "nbconvert_exporter": "python",
   "pygments_lexer": "ipython3",
   "version": "3.12.6"
  }
 },
 "nbformat": 4,
 "nbformat_minor": 2
}
