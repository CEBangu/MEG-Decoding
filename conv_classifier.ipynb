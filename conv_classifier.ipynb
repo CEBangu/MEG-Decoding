{
 "cells": [
  {
   "cell_type": "markdown",
   "metadata": {},
   "source": [
    "### 2x Better than Chance within trial but does not generalize well accross trials"
   ]
  },
  {
   "cell_type": "code",
   "execution_count": 2,
   "metadata": {},
   "outputs": [],
   "source": [
    "import torch\n",
    "import torch.nn as nn\n",
    "import torch.optim as optim\n",
    "from torch.utils.data import Dataset, DataLoader, Subset\n",
    "from torchvision import models, transforms\n",
    "import torch.nn.functional as F\n",
    "from BcomMEG import *\n",
    "from MEGDataset_Conv import *\n",
    "from ConvNet import *\n",
    "import matplotlib.pyplot as plt\n",
    "from sklearn.model_selection import train_test_split\n",
    "from sklearn.metrics import f1_score"
   ]
  },
  {
   "cell_type": "code",
   "execution_count": 2,
   "metadata": {},
   "outputs": [],
   "source": [
    "# So one option would be to use ResNet as the pretrained and try to fine-tune it. \n",
    "# I'm not opposed to this, but it would require messing with the first layer, and\n",
    "# making sort of arbitrary downscaling of the MEG data. We would have to be clever\n",
    "# about this. I think I'm just going to try to train my own for right now and see\n",
    "# how it goes\n",
    "# resnet = models.resnet50(weights='ResNet50_Weights.DEFAULT')\n",
    "# print(resnet.conv1)"
   ]
  },
  {
   "cell_type": "code",
   "execution_count": 4,
   "metadata": {},
   "outputs": [],
   "source": [
    "dir = '/Volumes/@neurospeech/PROJECTS/BCI/BCOM/DATA_ANALYZED/EVOKED/DATA/WITHOUT_BADS/COVERT'\n",
    "dir1 = '/Users/ciprianbangu/Cogmaster/M2 Internship/BCI code/Data_Sample'\n",
    "subjects = ['BCOM_18_2']\n",
    "picks = None\n",
    "\n",
    "data = BcomMEG(dir=dir, subjects=subjects, picks=picks, avoid_reading=True)"
   ]
  },
  {
   "cell_type": "code",
   "execution_count": 4,
   "metadata": {},
   "outputs": [],
   "source": [
    "data.upscale(13)"
   ]
  },
  {
   "cell_type": "code",
   "execution_count": 5,
   "metadata": {},
   "outputs": [],
   "source": [
    "dataset = MEGDataset_Conv(data, label_map='multi_class_covert')"
   ]
  },
  {
   "cell_type": "code",
   "execution_count": 22,
   "metadata": {},
   "outputs": [
    {
     "name": "stdout",
     "output_type": "stream",
     "text": [
      "Batch 0:\n",
      "  Data shape: torch.Size([4, 1, 247, 241])\n",
      "  Labels shape: torch.Size([4])\n"
     ]
    }
   ],
   "source": [
    "dataset_size = len(dataset)\n",
    "indices = list(range(dataset_size))\n",
    "train_indices, test_indices = train_test_split(\n",
    "    list(range(len(dataset))), \n",
    "    test_size=0.4, \n",
    "    random_state=42, \n",
    "    stratify=dataset.labels)\n",
    "\n",
    "train_dataset = Subset(dataset, train_indices)\n",
    "test_dataset = Subset(dataset, test_indices)\n",
    "\n",
    "train_loader = DataLoader(train_dataset, batch_size=4, shuffle=True)\n",
    "test_loader = DataLoader(test_dataset, batch_size=1, shuffle=False)\n",
    "for batch_index, (data, labels) in enumerate(train_loader):\n",
    "    print(f\"Batch {batch_index}:\")\n",
    "    print(f\"  Data shape: {data.shape}\")\n",
    "    print(f\"  Labels shape: {labels.shape}\")\n",
    "    break"
   ]
  },
  {
   "cell_type": "code",
   "execution_count": 23,
   "metadata": {},
   "outputs": [
    {
     "name": "stdout",
     "output_type": "stream",
     "text": [
      "Epoch [1 / 10], Step [10/31], Loss: 9.1708\n",
      "Epoch [1 / 10], Step [20/31], Loss: 3.0337\n",
      "Epoch [1 / 10], Step [30/31], Loss: 2.8899\n",
      "Epoch [2 / 10], Step [10/31], Loss: 2.8610\n",
      "Epoch [2 / 10], Step [20/31], Loss: 2.9205\n",
      "Epoch [2 / 10], Step [30/31], Loss: 2.8394\n",
      "Epoch [3 / 10], Step [10/31], Loss: 2.8073\n",
      "Epoch [3 / 10], Step [20/31], Loss: 2.6034\n",
      "Epoch [3 / 10], Step [30/31], Loss: 2.3858\n",
      "Epoch [4 / 10], Step [10/31], Loss: 2.2282\n",
      "Epoch [4 / 10], Step [20/31], Loss: 1.6561\n",
      "Epoch [4 / 10], Step [30/31], Loss: 2.4278\n",
      "Epoch [5 / 10], Step [10/31], Loss: 0.6494\n",
      "Epoch [5 / 10], Step [20/31], Loss: 0.1801\n",
      "Epoch [5 / 10], Step [30/31], Loss: 0.2328\n",
      "Epoch [6 / 10], Step [10/31], Loss: 0.0791\n",
      "Epoch [6 / 10], Step [20/31], Loss: 0.0413\n",
      "Epoch [6 / 10], Step [30/31], Loss: 0.0056\n",
      "Epoch [7 / 10], Step [10/31], Loss: 0.0166\n",
      "Epoch [7 / 10], Step [20/31], Loss: 0.0376\n",
      "Epoch [7 / 10], Step [30/31], Loss: 0.1085\n",
      "Epoch [8 / 10], Step [10/31], Loss: 0.0259\n",
      "Epoch [8 / 10], Step [20/31], Loss: 0.0929\n",
      "Epoch [8 / 10], Step [30/31], Loss: 0.0015\n",
      "Epoch [9 / 10], Step [10/31], Loss: 0.0011\n",
      "Epoch [9 / 10], Step [20/31], Loss: 0.0026\n",
      "Epoch [9 / 10], Step [30/31], Loss: 0.0023\n",
      "Epoch [10 / 10], Step [10/31], Loss: 0.0008\n",
      "Epoch [10 / 10], Step [20/31], Loss: 0.0022\n",
      "Epoch [10 / 10], Step [30/31], Loss: 0.0013\n",
      "Training Finished\n"
     ]
    }
   ],
   "source": [
    "device = 'mps'\n",
    "model = ConvNet().to(device=device)\n",
    "criterion = nn.CrossEntropyLoss()\n",
    "optimizer = optim.Adam(model.parameters(), lr=0.0005)\n",
    "epochs = 10\n",
    "\n",
    "n_total_steps = len(train_loader)\n",
    "\n",
    "loss_values = []\n",
    "for epoch in range(epochs):\n",
    "    for i, (data, labels) in enumerate(train_loader):\n",
    "        labels = labels.to(device)\n",
    "        # print(data)\n",
    "\n",
    "        outputs = model(data)\n",
    "        # print(f\"Outputs: {outputs}\")\n",
    "        # print(f\"Labels: {labels}\")\n",
    "        loss = criterion(outputs, labels)\n",
    "        # print(f\"Loss: {loss.item()}\")\n",
    "\n",
    "        optimizer.zero_grad()\n",
    "        loss.backward()\n",
    "        optimizer.step()\n",
    "\n",
    "        loss_values.append(loss.item())\n",
    "\n",
    "        if (i+1) % 10 == 0:  # Adjusted the condition to a smaller number\n",
    "            print(f'Epoch [{epoch + 1} / {epochs}], Step [{i + 1}/{n_total_steps}], Loss: {loss.item():.4f}')\n",
    "print('Training Finished')\n",
    "\n"
   ]
  },
  {
   "cell_type": "code",
   "execution_count": 24,
   "metadata": {},
   "outputs": [
    {
     "data": {
      "text/plain": [
       "[<matplotlib.lines.Line2D at 0x177d902f0>]"
      ]
     },
     "execution_count": 24,
     "metadata": {},
     "output_type": "execute_result"
    },
    {
     "data": {
      "image/png": "[encoded data removed]",
      "text/plain": [
       "<Figure size 640x480 with 1 Axes>"
      ]
     },
     "metadata": {},
     "output_type": "display_data"
    }
   ],
   "source": [
    "plt.plot(range(len(loss_values)), loss_values)"
   ]
  },
  {
   "cell_type": "code",
   "execution_count": null,
   "metadata": {},
   "outputs": [
    {
     "name": "stdout",
     "output_type": "stream",
     "text": [
      "Epoch [10/10], Test Loss: 4.8077, Test Accuracy: 10.8434\n",
      "Test Loss: 0.0579, F1-Score: 0.1098\n"
     ]
    }
   ],
   "source": [
    "test_loss_values = []  # To store test loss\n",
    "test_accuracies = [] \n",
    "all_preds = []\n",
    "all_labels = []\n",
    "model.eval()  # Set the model to evaluation mode\n",
    "test_loss = 0\n",
    "correct = 0\n",
    "total = 0\n",
    "with torch.no_grad():  # Disable gradient computation for evaluation\n",
    "    for data, labels in test_loader:\n",
    "        labels = labels.to(device)\n",
    "\n",
    "        outputs = model(data)\n",
    "        loss = criterion(outputs, labels)\n",
    "        test_loss += loss.item()\n",
    "        # Calculate accuracy\n",
    "        _, predicted = torch.max(outputs, 1)  # Get class with max logit\n",
    "        all_preds.extend(predicted.cpu().numpy())  # Collect predictions\n",
    "        all_labels.extend(labels.cpu().numpy()) \n",
    "        correct += (predicted == labels).sum().item()\n",
    "        total += labels.size(0)\n",
    "\n",
    "test_loss /= len(test_loader)  # Average test loss\n",
    "accuracy = correct / total  # Test accuracy\n",
    "test_loss_values.append(test_loss)\n",
    "test_accuracies.append(accuracy)\n",
    "\n",
    "print(f'Epoch [{epoch + 1}/{epochs}], Test Loss: {test_loss:.4f}, Test Accuracy: {100 * accuracy:.4f}')\n",
    "f1 = f1_score(all_labels, all_preds, average='weighted')\n",
    "print(f\"Test Loss: {test_loss:.4f}, F1-Score: {f1:.4f}\")"
   ]
  },
  {
   "cell_type": "code",
   "execution_count": 52,
   "metadata": {},
   "outputs": [
    {
     "data": {
      "text/plain": [
       "5.555555555555555"
      ]
     },
     "execution_count": 52,
     "metadata": {},
     "output_type": "execute_result"
    }
   ],
   "source": [
    "1/len(np.unique(dataset.labels)) * 100"
   ]
  },
  {
   "cell_type": "markdown",
   "metadata": {},
   "source": [
    "Then the obvious extension is to train it on more data. Perhaps train it on first 2 trials and have it predict on the last one?"
   ]
  },
  {
   "cell_type": "markdown",
   "metadata": {},
   "source": [
    "### Accross trials"
   ]
  },
  {
   "cell_type": "code",
   "execution_count": null,
   "metadata": {},
   "outputs": [],
   "source": [
    "data2 = BcomMEG(subjects=['BCOM_18_3', 'BCOM_18_4'], dir=dir, picks=picks, avoid_reading=True)\n",
    "data2.upscale(13)\n",
    "tensor_2 = MEGDataset_Conv(data2, label_map='multi_class_covert')\n",
    "train_loader_2 = DataLoader(tensor_2, batch_size=4, shuffle=True)"
   ]
  },
  {
   "cell_type": "code",
   "execution_count": null,
   "metadata": {},
   "outputs": [],
   "source": [
    "data_test = BcomMEG(subjects=['BCOM_18_2'], dir=dir, picks=picks, avoid_reading=True)\n",
    "data_test.upscale(13)\n",
    "tensor_test = MEGDataset_Conv(data_test, label_map='multi_class_covert')\n",
    "test_loader = DataLoader(tensor_test, batch_size=4, shuffle=False)"
   ]
  },
  {
   "cell_type": "code",
   "execution_count": null,
   "metadata": {},
   "outputs": [
    {
     "name": "stdout",
     "output_type": "stream",
     "text": [
      "Epoch [1 / 8], Step [10/99], Loss: 3.6860\n",
      "Epoch [1 / 8], Step [20/99], Loss: 2.8909\n",
      "Epoch [1 / 8], Step [30/99], Loss: 2.9110\n",
      "Epoch [1 / 8], Step [40/99], Loss: 2.8782\n",
      "Epoch [1 / 8], Step [50/99], Loss: 2.9124\n",
      "Epoch [1 / 8], Step [60/99], Loss: 2.8765\n",
      "Epoch [1 / 8], Step [70/99], Loss: 2.8844\n",
      "Epoch [1 / 8], Step [80/99], Loss: 2.8872\n",
      "Epoch [1 / 8], Step [90/99], Loss: 2.8688\n",
      "Epoch [2 / 8], Step [10/99], Loss: 2.8884\n",
      "Epoch [2 / 8], Step [20/99], Loss: 2.8872\n",
      "Epoch [2 / 8], Step [30/99], Loss: 2.8496\n",
      "Epoch [2 / 8], Step [40/99], Loss: 2.8825\n",
      "Epoch [2 / 8], Step [50/99], Loss: 2.8732\n",
      "Epoch [2 / 8], Step [60/99], Loss: 2.8509\n",
      "Epoch [2 / 8], Step [70/99], Loss: 3.1566\n",
      "Epoch [2 / 8], Step [80/99], Loss: 2.9381\n",
      "Epoch [2 / 8], Step [90/99], Loss: 2.8827\n",
      "Epoch [3 / 8], Step [10/99], Loss: 2.8913\n",
      "Epoch [3 / 8], Step [20/99], Loss: 2.8455\n",
      "Epoch [3 / 8], Step [30/99], Loss: 2.8396\n",
      "Epoch [3 / 8], Step [40/99], Loss: 2.9086\n",
      "Epoch [3 / 8], Step [50/99], Loss: 2.8505\n",
      "Epoch [3 / 8], Step [60/99], Loss: 2.7848\n",
      "Epoch [3 / 8], Step [70/99], Loss: 2.8499\n",
      "Epoch [3 / 8], Step [80/99], Loss: 2.9135\n",
      "Epoch [3 / 8], Step [90/99], Loss: 2.9023\n",
      "Epoch [4 / 8], Step [10/99], Loss: 2.7829\n",
      "Epoch [4 / 8], Step [20/99], Loss: 2.8252\n",
      "Epoch [4 / 8], Step [30/99], Loss: 2.4619\n",
      "Epoch [4 / 8], Step [40/99], Loss: 2.7265\n",
      "Epoch [4 / 8], Step [50/99], Loss: 2.7864\n",
      "Epoch [4 / 8], Step [60/99], Loss: 2.5548\n",
      "Epoch [4 / 8], Step [70/99], Loss: 2.6586\n",
      "Epoch [4 / 8], Step [80/99], Loss: 3.1146\n",
      "Epoch [4 / 8], Step [90/99], Loss: 2.7514\n",
      "Epoch [5 / 8], Step [10/99], Loss: 1.7084\n",
      "Epoch [5 / 8], Step [20/99], Loss: 2.0252\n",
      "Epoch [5 / 8], Step [30/99], Loss: 2.5391\n",
      "Epoch [5 / 8], Step [40/99], Loss: 2.8940\n",
      "Epoch [5 / 8], Step [50/99], Loss: 2.3592\n",
      "Epoch [5 / 8], Step [60/99], Loss: 2.0157\n",
      "Epoch [5 / 8], Step [70/99], Loss: 2.1168\n",
      "Epoch [5 / 8], Step [80/99], Loss: 2.5131\n",
      "Epoch [5 / 8], Step [90/99], Loss: 2.1639\n",
      "Epoch [6 / 8], Step [10/99], Loss: 1.4385\n",
      "Epoch [6 / 8], Step [20/99], Loss: 1.2273\n",
      "Epoch [6 / 8], Step [30/99], Loss: 1.4778\n",
      "Epoch [6 / 8], Step [40/99], Loss: 0.4461\n",
      "Epoch [6 / 8], Step [50/99], Loss: 2.3076\n",
      "Epoch [6 / 8], Step [60/99], Loss: 0.9378\n",
      "Epoch [6 / 8], Step [70/99], Loss: 0.3209\n",
      "Epoch [6 / 8], Step [80/99], Loss: 0.7221\n",
      "Epoch [6 / 8], Step [90/99], Loss: 1.9372\n",
      "Epoch [7 / 8], Step [10/99], Loss: 0.1302\n",
      "Epoch [7 / 8], Step [20/99], Loss: 0.4620\n",
      "Epoch [7 / 8], Step [30/99], Loss: 0.3354\n",
      "Epoch [7 / 8], Step [40/99], Loss: 0.2429\n",
      "Epoch [7 / 8], Step [50/99], Loss: 0.1160\n",
      "Epoch [7 / 8], Step [60/99], Loss: 0.3630\n",
      "Epoch [7 / 8], Step [70/99], Loss: 0.3555\n",
      "Epoch [7 / 8], Step [80/99], Loss: 0.1072\n",
      "Epoch [7 / 8], Step [90/99], Loss: 0.1881\n",
      "Epoch [8 / 8], Step [10/99], Loss: 0.9086\n",
      "Epoch [8 / 8], Step [20/99], Loss: 0.0114\n",
      "Epoch [8 / 8], Step [30/99], Loss: 0.0051\n",
      "Epoch [8 / 8], Step [40/99], Loss: 0.0631\n",
      "Epoch [8 / 8], Step [50/99], Loss: 0.0333\n",
      "Epoch [8 / 8], Step [60/99], Loss: 0.0671\n",
      "Epoch [8 / 8], Step [70/99], Loss: 0.0373\n",
      "Epoch [8 / 8], Step [80/99], Loss: 0.1661\n",
      "Epoch [8 / 8], Step [90/99], Loss: 0.0372\n",
      "Training Finished\n"
     ]
    }
   ],
   "source": [
    "device = 'mps'\n",
    "model_2 = ConvNet().to(device=device)\n",
    "criterion = nn.CrossEntropyLoss()\n",
    "optimizer = optim.Adam(model_2.parameters(), lr=0.00065)\n",
    "epochs = 8\n",
    "\n",
    "n_total_steps = len(train_loader_2)\n",
    "\n",
    "loss_values = []\n",
    "for epoch in range(epochs):\n",
    "    for i, (data, labels) in enumerate(train_loader_2):\n",
    "        labels = labels.to(device)\n",
    "        # print(data)\n",
    "\n",
    "        outputs = model_2(data)\n",
    "        # print(f\"Outputs: {outputs}\")\n",
    "        # print(f\"Labels: {labels}\")\n",
    "        loss = criterion(outputs, labels)\n",
    "        # print(f\"Loss: {loss.item()}\")\n",
    "\n",
    "        optimizer.zero_grad()\n",
    "        loss.backward()\n",
    "        optimizer.step()\n",
    "\n",
    "        loss_values.append(loss.item())\n",
    "\n",
    "        if (i+1) % 10 == 0:  # Adjusted the condition to a smaller number\n",
    "            print(f'Epoch [{epoch + 1} / {epochs}], Step [{i + 1}/{n_total_steps}], Loss: {loss.item():.4f}')\n",
    "print('Training Finished')\n"
   ]
  },
  {
   "cell_type": "code",
   "execution_count": 74,
   "metadata": {},
   "outputs": [
    {
     "name": "stdout",
     "output_type": "stream",
     "text": [
      "Test Loss: 7.5752, Accuracy: 2.91%\n",
      "\n",
      "Confusion Matrix:\n",
      "[[1 0 1 1 0 0 2 2 1 1 1 2 0 0 0 2 0 2]\n",
      " [1 0 1 0 0 0 0 1 2 2 1 2 0 0 1 1 0 0]\n",
      " [0 0 1 1 0 1 0 2 2 0 1 2 0 0 0 0 0 2]\n",
      " [1 1 1 0 0 2 0 1 3 1 0 2 1 0 1 0 0 2]\n",
      " [0 2 1 0 0 1 0 0 0 0 0 0 0 0 0 3 0 0]\n",
      " [0 1 2 4 0 0 1 0 1 0 0 1 1 1 0 1 0 1]\n",
      " [1 0 1 1 0 2 0 0 3 1 1 1 0 1 2 2 1 1]\n",
      " [1 0 1 0 0 2 0 0 1 0 0 3 1 0 0 1 1 1]\n",
      " [1 0 0 1 0 1 0 0 1 0 1 2 0 0 0 1 1 2]\n",
      " [0 0 1 1 0 0 1 1 2 0 1 0 1 1 1 2 1 1]\n",
      " [1 0 0 0 0 0 0 0 0 0 0 4 0 0 1 1 1 0]\n",
      " [0 0 0 0 0 2 2 1 3 0 2 1 0 0 0 0 1 1]\n",
      " [1 1 0 0 0 0 0 2 2 1 2 2 0 0 0 0 0 2]\n",
      " [0 0 0 1 0 2 0 0 1 0 0 0 0 0 0 0 1 0]\n",
      " [0 0 1 1 0 0 1 0 1 0 0 1 0 0 0 1 0 0]\n",
      " [0 0 1 0 0 2 0 0 2 0 2 0 0 0 1 2 3 0]\n",
      " [2 0 0 1 0 0 1 2 1 1 0 0 0 0 0 1 0 1]\n",
      " [0 1 0 0 0 0 0 0 2 0 0 1 0 0 1 1 0 0]]\n",
      "\n",
      "Detailed Classification Report:\n",
      "              precision    recall  f1-score   support\n",
      "\n",
      "           0       0.10      0.06      0.08        16\n",
      "           1       0.00      0.00      0.00        12\n",
      "           2       0.08      0.08      0.08        12\n",
      "           3       0.00      0.00      0.00        16\n",
      "           4       0.00      0.00      0.00         7\n",
      "           5       0.00      0.00      0.00        14\n",
      "           6       0.00      0.00      0.00        18\n",
      "           7       0.00      0.00      0.00        12\n",
      "           8       0.04      0.09      0.05        11\n",
      "           9       0.00      0.00      0.00        14\n",
      "          10       0.00      0.00      0.00         8\n",
      "          11       0.04      0.08      0.05        13\n",
      "          12       0.00      0.00      0.00        13\n",
      "          13       0.00      0.00      0.00         5\n",
      "          14       0.00      0.00      0.00         6\n",
      "          15       0.11      0.15      0.12        13\n",
      "          16       0.00      0.00      0.00        10\n",
      "          17       0.00      0.00      0.00         6\n",
      "\n",
      "    accuracy                           0.03       206\n",
      "   macro avg       0.02      0.03      0.02       206\n",
      "weighted avg       0.02      0.03      0.02       206\n",
      "\n",
      "\n",
      "Class distribution in test set:\n",
      "Counter({6: 18, 0: 16, 3: 16, 9: 14, 5: 14, 11: 13, 12: 13, 15: 13, 2: 12, 1: 12, 7: 12, 8: 11, 16: 10, 10: 8, 4: 7, 14: 6, 17: 6, 13: 5})\n",
      "\n",
      "Sample predictions vs actual:\n",
      "Predicted: 16, Actual: 10\n",
      "Predicted: 15, Actual: 10\n",
      "Predicted: 11, Actual: 10\n",
      "Predicted: 11, Actual: 10\n",
      "Predicted: 11, Actual: 10\n",
      "Predicted: 11, Actual: 10\n",
      "Predicted: 14, Actual: 10\n",
      "Predicted: 0, Actual: 10\n",
      "Predicted: 7, Actual: 2\n",
      "Predicted: 2, Actual: 2\n"
     ]
    },
    {
     "name": "stderr",
     "output_type": "stream",
     "text": [
      "/opt/homebrew/Caskroom/miniconda/base/envs/mne/lib/python3.12/site-packages/sklearn/metrics/_classification.py:1531: UndefinedMetricWarning: Precision is ill-defined and being set to 0.0 in labels with no predicted samples. Use `zero_division` parameter to control this behavior.\n",
      "  _warn_prf(average, modifier, f\"{metric.capitalize()} is\", len(result))\n",
      "/opt/homebrew/Caskroom/miniconda/base/envs/mne/lib/python3.12/site-packages/sklearn/metrics/_classification.py:1531: UndefinedMetricWarning: Precision is ill-defined and being set to 0.0 in labels with no predicted samples. Use `zero_division` parameter to control this behavior.\n",
      "  _warn_prf(average, modifier, f\"{metric.capitalize()} is\", len(result))\n",
      "/opt/homebrew/Caskroom/miniconda/base/envs/mne/lib/python3.12/site-packages/sklearn/metrics/_classification.py:1531: UndefinedMetricWarning: Precision is ill-defined and being set to 0.0 in labels with no predicted samples. Use `zero_division` parameter to control this behavior.\n",
      "  _warn_prf(average, modifier, f\"{metric.capitalize()} is\", len(result))\n"
     ]
    }
   ],
   "source": [
    "test_loss_values = []\n",
    "test_accuracies = [] \n",
    "all_preds = []\n",
    "all_labels = []\n",
    "model_2.eval()\n",
    "\n",
    "test_loss = 0\n",
    "correct = 0\n",
    "total = 0\n",
    "\n",
    "with torch.no_grad():\n",
    "    for data, labels in test_loader:\n",
    "        # Move both data and labels to device\n",
    "        labels = labels.to(device)\n",
    "        \n",
    "        # Get predictions\n",
    "        outputs = model_2(data)\n",
    "        loss = criterion(outputs, labels)\n",
    "        \n",
    "        # Accumulate loss\n",
    "        test_loss += loss.item()\n",
    "        \n",
    "        # Get predictions\n",
    "        _, predicted = torch.max(outputs.data, 1)\n",
    "        \n",
    "        # Save predictions and labels for metrics\n",
    "        all_preds.extend(predicted.cpu().numpy())\n",
    "        all_labels.extend(labels.cpu().numpy())\n",
    "        \n",
    "        # Calculate accuracy\n",
    "        total += labels.size(0)\n",
    "        correct += (predicted == labels).sum().item()\n",
    "    \n",
    "    # Calculate final metrics\n",
    "    test_loss /= len(test_loader)\n",
    "    accuracy = correct / total\n",
    "\n",
    "    print(f'Test Loss: {test_loss:.4f}, Accuracy: {100 * accuracy:.2f}%')\n",
    "\n",
    "# Print detailed metrics\n",
    "from sklearn.metrics import classification_report, confusion_matrix\n",
    "print(\"\\nConfusion Matrix:\")\n",
    "print(confusion_matrix(all_labels, all_preds))\n",
    "print(\"\\nDetailed Classification Report:\")\n",
    "print(classification_report(all_labels, all_preds))\n",
    "\n",
    "# Additional diagnostics\n",
    "print(\"\\nClass distribution in test set:\")\n",
    "from collections import Counter\n",
    "print(Counter(all_labels))\n",
    "\n",
    "# Look at some predictions\n",
    "print(\"\\nSample predictions vs actual:\")\n",
    "for i in range(min(10, len(all_preds))):\n",
    "    print(f\"Predicted: {all_preds[i]}, Actual: {all_labels[i]}\")"
   ]
  },
  {
   "cell_type": "markdown",
   "metadata": {},
   "source": [
    "### Let's keep it within trials"
   ]
  },
  {
   "cell_type": "code",
   "execution_count": 167,
   "metadata": {},
   "outputs": [],
   "source": [
    "dataset_3_size = len(tensor_2)\n",
    "indices = list(range(dataset_3_size))\n",
    "train_indices, test_indices = train_test_split(\n",
    "    list(range(len(tensor_2))), \n",
    "    test_size=0.40, \n",
    "    random_state=42, \n",
    "    stratify=tensor_2.labels)\n",
    "\n",
    "train_dataset_3 = Subset(tensor_2, train_indices)\n",
    "test_dataset_3 = Subset(tensor_2, test_indices)\n",
    "\n",
    "train_loader_3 = DataLoader(train_dataset_3, batch_size=10, shuffle=True)\n",
    "test_loader_3 = DataLoader(test_dataset_3, batch_size=1, shuffle=False)"
   ]
  },
  {
   "cell_type": "code",
   "execution_count": 112,
   "metadata": {},
   "outputs": [
    {
     "data": {
      "text/plain": [
       "<torch.utils.data.dataloader.DataLoader at 0x17bfe4d70>"
      ]
     },
     "execution_count": 112,
     "metadata": {},
     "output_type": "execute_result"
    }
   ],
   "source": [
    "train_loader_3"
   ]
  },
  {
   "cell_type": "code",
   "execution_count": 180,
   "metadata": {},
   "outputs": [
    {
     "name": "stdout",
     "output_type": "stream",
     "text": [
      "Epoch [1 / 20], Step [10/24], Loss: 4.7987\n",
      "Epoch [1 / 20], Step [20/24], Loss: 2.9143\n",
      "Epoch [2 / 20], Step [10/24], Loss: 2.9732\n",
      "Epoch [2 / 20], Step [20/24], Loss: 2.7228\n",
      "Epoch [3 / 20], Step [10/24], Loss: 2.8064\n",
      "Epoch [3 / 20], Step [20/24], Loss: 2.2437\n",
      "Epoch [4 / 20], Step [10/24], Loss: 0.9619\n",
      "Epoch [4 / 20], Step [20/24], Loss: 1.1070\n",
      "Epoch [5 / 20], Step [10/24], Loss: 0.1645\n",
      "Epoch [5 / 20], Step [20/24], Loss: 0.0739\n",
      "Epoch [6 / 20], Step [10/24], Loss: 0.0188\n",
      "Epoch [6 / 20], Step [20/24], Loss: 0.0305\n",
      "Epoch [7 / 20], Step [10/24], Loss: 0.0479\n",
      "Epoch [7 / 20], Step [20/24], Loss: 0.0143\n",
      "Epoch [8 / 20], Step [10/24], Loss: 0.0058\n",
      "Epoch [8 / 20], Step [20/24], Loss: 0.0036\n",
      "Epoch [9 / 20], Step [10/24], Loss: 0.0010\n",
      "Epoch [9 / 20], Step [20/24], Loss: 0.0037\n",
      "Epoch [10 / 20], Step [10/24], Loss: 0.0020\n",
      "Epoch [10 / 20], Step [20/24], Loss: 0.0010\n",
      "Epoch [11 / 20], Step [10/24], Loss: 0.0014\n",
      "Epoch [11 / 20], Step [20/24], Loss: 0.0012\n",
      "Epoch [12 / 20], Step [10/24], Loss: 0.0011\n",
      "Epoch [12 / 20], Step [20/24], Loss: 0.0011\n",
      "Epoch [13 / 20], Step [10/24], Loss: 0.0011\n",
      "Epoch [13 / 20], Step [20/24], Loss: 0.0009\n",
      "Epoch [14 / 20], Step [10/24], Loss: 0.0005\n",
      "Epoch [14 / 20], Step [20/24], Loss: 0.0010\n",
      "Epoch [15 / 20], Step [10/24], Loss: 0.0007\n",
      "Epoch [15 / 20], Step [20/24], Loss: 0.0003\n",
      "Epoch [16 / 20], Step [10/24], Loss: 0.0009\n",
      "Epoch [16 / 20], Step [20/24], Loss: 0.0006\n",
      "Epoch [17 / 20], Step [10/24], Loss: 0.0005\n",
      "Epoch [17 / 20], Step [20/24], Loss: 0.0002\n",
      "Epoch [18 / 20], Step [10/24], Loss: 0.0003\n",
      "Epoch [18 / 20], Step [20/24], Loss: 0.0005\n",
      "Epoch [19 / 20], Step [10/24], Loss: 0.0004\n",
      "Epoch [19 / 20], Step [20/24], Loss: 0.0002\n",
      "Epoch [20 / 20], Step [10/24], Loss: 0.0004\n",
      "Epoch [20 / 20], Step [20/24], Loss: 0.0003\n",
      "Training Finished\n"
     ]
    }
   ],
   "source": [
    "device = 'mps'\n",
    "model_3 = ConvNet().to(device=device)\n",
    "criterion = nn.CrossEntropyLoss()\n",
    "optimizer = optim.Adam(model_3.parameters(), lr=0.00065)\n",
    "epochs = 20\n",
    "\n",
    "n_total_steps = len(train_loader_3)\n",
    "\n",
    "loss_values = []\n",
    "for epoch in range(epochs):\n",
    "    for i, (data, labels) in enumerate(train_loader_3):\n",
    "        labels = labels.to(device)\n",
    "        # print(data)\n",
    "\n",
    "        outputs = model_3(data)\n",
    "        # print(f\"Outputs: {outputs}\")\n",
    "        # print(f\"Labels: {labels}\")\n",
    "        loss = criterion(outputs, labels)\n",
    "        # print(f\"Loss: {loss.item()}\")\n",
    "\n",
    "        optimizer.zero_grad()\n",
    "        loss.backward()\n",
    "        optimizer.step()\n",
    "\n",
    "        loss_values.append(loss.item())\n",
    "\n",
    "        if (i+1) % 10 == 0:  # Adjusted the condition to a smaller number\n",
    "            print(f'Epoch [{epoch + 1} / {epochs}], Step [{i + 1}/{n_total_steps}], Loss: {loss.item():.4f}')\n",
    "print('Training Finished')\n"
   ]
  },
  {
   "cell_type": "code",
   "execution_count": 181,
   "metadata": {},
   "outputs": [
    {
     "data": {
      "text/plain": [
       "[<matplotlib.lines.Line2D at 0x17bd45760>]"
      ]
     },
     "execution_count": 181,
     "metadata": {},
     "output_type": "execute_result"
    },
    {
     "data": {
      "image/png": "[encoded data removed]",
      "text/plain": [
       "<Figure size 640x480 with 1 Axes>"
      ]
     },
     "metadata": {},
     "output_type": "display_data"
    }
   ],
   "source": [
    "plt.plot(range(len(loss_values)), loss_values)"
   ]
  },
  {
   "cell_type": "code",
   "execution_count": 182,
   "metadata": {},
   "outputs": [
    {
     "name": "stdout",
     "output_type": "stream",
     "text": [
      "Test Loss: 7.2470, Accuracy: 6.29%\n",
      "\n",
      "Confusion Matrix:\n",
      "[[1 0 1 2 0 0 0 0 0 0 0 1 0 0 3 0 0 0]\n",
      " [1 0 1 0 0 0 1 0 0 2 0 1 0 0 0 1 0 0]\n",
      " [0 0 2 0 0 0 3 0 0 2 0 0 1 0 0 1 1 0]\n",
      " [0 0 0 0 1 0 2 2 1 1 1 0 0 0 0 0 1 1]\n",
      " [0 0 0 1 0 0 1 0 0 0 1 0 1 0 0 0 0 0]\n",
      " [1 0 1 1 0 1 2 0 0 1 1 0 0 0 1 0 0 0]\n",
      " [0 0 2 0 0 0 1 1 1 1 0 1 1 0 0 0 1 2]\n",
      " [1 1 0 0 0 0 1 0 0 1 1 1 0 0 1 2 0 1]\n",
      " [0 1 1 1 0 0 1 0 2 0 1 0 0 1 0 2 0 1]\n",
      " [0 0 0 1 0 0 1 0 1 1 0 3 0 0 2 1 0 0]\n",
      " [2 0 0 1 0 2 0 1 2 0 0 0 0 0 0 0 1 1]\n",
      " [0 0 0 2 0 0 1 1 0 2 2 1 0 0 0 1 0 0]\n",
      " [0 0 0 0 0 0 0 0 2 0 0 0 0 0 0 1 1 0]\n",
      " [0 0 1 2 0 0 0 1 1 1 0 0 0 0 0 1 0 0]\n",
      " [0 0 1 1 0 0 1 0 1 0 1 0 0 2 0 1 1 1]\n",
      " [1 2 0 1 0 1 1 0 1 0 0 0 0 0 0 0 0 1]\n",
      " [2 1 0 0 0 1 0 1 1 0 0 1 0 1 1 0 1 0]\n",
      " [0 0 0 1 0 2 2 0 2 2 1 0 0 0 0 0 0 0]]\n",
      "\n",
      "Detailed Classification Report:\n",
      "              precision    recall  f1-score   support\n",
      "\n",
      "           0       0.11      0.12      0.12         8\n",
      "           1       0.00      0.00      0.00         7\n",
      "           2       0.20      0.20      0.20        10\n",
      "           3       0.00      0.00      0.00        10\n",
      "           4       0.00      0.00      0.00         4\n",
      "           5       0.14      0.11      0.12         9\n",
      "           6       0.06      0.09      0.07        11\n",
      "           7       0.00      0.00      0.00        10\n",
      "           8       0.13      0.18      0.15        11\n",
      "           9       0.07      0.10      0.08        10\n",
      "          10       0.00      0.00      0.00        10\n",
      "          11       0.11      0.10      0.11        10\n",
      "          12       0.00      0.00      0.00         4\n",
      "          13       0.00      0.00      0.00         7\n",
      "          14       0.00      0.00      0.00        10\n",
      "          15       0.00      0.00      0.00         8\n",
      "          16       0.14      0.10      0.12        10\n",
      "          17       0.00      0.00      0.00        10\n",
      "\n",
      "    accuracy                           0.06       159\n",
      "   macro avg       0.05      0.06      0.05       159\n",
      "weighted avg       0.06      0.06      0.06       159\n",
      "\n",
      "\n",
      "Class distribution in test set:\n",
      "Counter({6: 11, 8: 11, 10: 10, 11: 10, 16: 10, 17: 10, 9: 10, 7: 10, 14: 10, 2: 10, 3: 10, 5: 9, 15: 8, 0: 8, 13: 7, 1: 7, 12: 4, 4: 4})\n",
      "\n",
      "Sample predictions vs actual:\n",
      "Predicted: 3, Actual: 10\n",
      "Predicted: 10, Actual: 11\n",
      "Predicted: 13, Actual: 16\n",
      "Predicted: 5, Actual: 16\n",
      "Predicted: 9, Actual: 17\n",
      "Predicted: 16, Actual: 12\n",
      "Predicted: 1, Actual: 15\n",
      "Predicted: 6, Actual: 9\n",
      "Predicted: 9, Actual: 7\n",
      "Predicted: 9, Actual: 13\n"
     ]
    }
   ],
   "source": [
    "test_loss_values = []\n",
    "test_accuracies = [] \n",
    "all_preds = []\n",
    "all_labels = []\n",
    "model_3.eval()\n",
    "\n",
    "test_loss = 0\n",
    "correct = 0\n",
    "total = 0\n",
    "\n",
    "with torch.no_grad():\n",
    "    for data, labels in test_loader_3:\n",
    "        # Move both data and labels to device\n",
    "        labels = labels.to(device)\n",
    "        \n",
    "        # Get predictions\n",
    "        outputs = model_3(data)\n",
    "        loss = criterion(outputs, labels)\n",
    "        \n",
    "        # Accumulate loss\n",
    "        test_loss += loss.item()\n",
    "        \n",
    "        # Get predictions\n",
    "        _, predicted = torch.max(outputs.data, 1)\n",
    "        \n",
    "        # Save predictions and labels for metrics\n",
    "        all_preds.extend(predicted.cpu().numpy())\n",
    "        all_labels.extend(labels.cpu().numpy())\n",
    "        \n",
    "        # Calculate accuracy\n",
    "        total += labels.size(0)\n",
    "        correct += (predicted == labels).sum().item()\n",
    "    \n",
    "    # Calculate final metrics\n",
    "    test_loss /= len(test_loader_3)\n",
    "    accuracy = correct / total\n",
    "\n",
    "    print(f'Test Loss: {test_loss:.4f}, Accuracy: {100 * accuracy:.2f}%')\n",
    "\n",
    "# Print detailed metrics\n",
    "from sklearn.metrics import classification_report, confusion_matrix\n",
    "print(\"\\nConfusion Matrix:\")\n",
    "print(confusion_matrix(all_labels, all_preds))\n",
    "print(\"\\nDetailed Classification Report:\")\n",
    "print(classification_report(all_labels, all_preds))\n",
    "\n",
    "# Additional diagnostics\n",
    "print(\"\\nClass distribution in test set:\")\n",
    "from collections import Counter\n",
    "print(Counter(all_labels))\n",
    "\n",
    "# Look at some predictions\n",
    "print(\"\\nSample predictions vs actual:\")\n",
    "for i in range(min(10, len(all_preds))):\n",
    "    print(f\"Predicted: {all_preds[i]}, Actual: {all_labels[i]}\")"
   ]
  },
  {
   "cell_type": "code",
   "execution_count": 82,
   "metadata": {},
   "outputs": [
    {
     "name": "stdout",
     "output_type": "stream",
     "text": [
      "Batch 0:\n",
      "  Data shape: torch.Size([1, 1, 247, 241])\n",
      "  Labels shape: torch.Size([1])\n"
     ]
    }
   ],
   "source": [
    "for batch_index, (data, labels) in enumerate(test_loader_3):\n",
    "    print(f\"Batch {batch_index}:\")\n",
    "    print(f\"  Data shape: {data.shape}\")\n",
    "    print(f\"  Labels shape: {labels.shape}\")\n",
    "    break"
   ]
  }
 ],
 "metadata": {
  "kernelspec": {
   "display_name": "mne",
   "language": "python",
   "name": "python3"
  },
  "language_info": {
   "codemirror_mode": {
    "name": "ipython",
    "version": 3
   },
   "file_extension": ".py",
   "mimetype": "text/x-python",
   "name": "python",
   "nbconvert_exporter": "python",
   "pygments_lexer": "ipython3",
   "version": "3.12.6"
  }
 },
 "nbformat": 4,
 "nbformat_minor": 2
}
