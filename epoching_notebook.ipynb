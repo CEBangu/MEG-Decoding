{
 "cells": [
  {
   "cell_type": "code",
   "execution_count": 2,
   "id": "d9e952a8",
   "metadata": {},
   "outputs": [],
   "source": [
    "import mne\n",
    "import pandas as pd\n",
    "from pymatreader import read_mat\n",
    "import numpy as np\n",
    "import os\n",
    "from autoreject import AutoReject\n",
    "from BCOM_processing.SCRIPTS.functions import Epoching\n",
    "import os.path as op"
   ]
  },
  {
   "cell_type": "markdown",
   "id": "6c7724bd",
   "metadata": {},
   "source": [
    "### Ok wait is the baseline actually in that file?"
   ]
  },
  {
   "cell_type": "code",
   "execution_count": 122,
   "id": "80a05c9d",
   "metadata": {},
   "outputs": [
    {
     "name": "stdout",
     "output_type": "stream",
     "text": [
      "Opening raw data file /Volumes/BCOM/ciprian_project/data_analyzed/preprocessed/BCOM_18/4/subject_cleaned_ica_raw.fif...\n",
      "    Range : 0 ... 382749 =      0.000 ...   765.498 secs\n",
      "Ready.\n",
      "Reading 0 ... 382749  =      0.000 ...   765.498 secs...\n"
     ]
    }
   ],
   "source": [
    "sample = mne.io.read_raw_fif(\n",
    "    \"/Volumes/BCOM/ciprian_project/data_analyzed/preprocessed/BCOM_13/4/subject_cleaned_ica_raw.fif\",\n",
    "    preload=True\n",
    ")"
   ]
  },
  {
   "cell_type": "code",
   "execution_count": 123,
   "id": "9bf18a75",
   "metadata": {},
   "outputs": [
    {
     "name": "stdout",
     "output_type": "stream",
     "text": [
      "Using pyopengl with version 3.1.6\n"
     ]
    },
    {
     "data": {
      "text/plain": [
       "<mne_qt_browser._pg_figure.MNEQtBrowser at 0x6898cb2f0>"
      ]
     },
     "execution_count": 123,
     "metadata": {},
     "output_type": "execute_result"
    }
   ],
   "source": [
    "sample.plot()"
   ]
  },
  {
   "cell_type": "code",
   "execution_count": 124,
   "id": "b04d63eb",
   "metadata": {},
   "outputs": [],
   "source": [
    "events = np.load(\"/Volumes/BCOM/ciprian_project/data_analyzed/preprocessed/BCOM_18/4/resampled_events.npy\")"
   ]
  },
  {
   "cell_type": "code",
   "execution_count": 125,
   "id": "cca1f99d",
   "metadata": {},
   "outputs": [
    {
     "name": "stdout",
     "output_type": "stream",
     "text": [
      "Channels marked as bad:\n",
      "['MEG 132', 'MEG 227', 'MEG 248', 'MEG 228', 'MEG 173', 'MEG 144', 'MEG 247', 'MEG 245', 'MEG 059', 'MEG 246']\n"
     ]
    }
   ],
   "source": [
    "t1 = sample.times[events[list(events[:,2]).index(514), 0]]\n",
    "t2 = sample.times[events[list(events[:,2]).index(4), 0]]"
   ]
  },
  {
   "cell_type": "code",
   "execution_count": 126,
   "id": "ac65af91",
   "metadata": {},
   "outputs": [
    {
     "name": "stdout",
     "output_type": "stream",
     "text": [
      "12.602\n",
      "47.744\n"
     ]
    }
   ],
   "source": [
    "print(t1)\n",
    "print(t2)"
   ]
  },
  {
   "cell_type": "code",
   "execution_count": 129,
   "id": "0f14af0f",
   "metadata": {},
   "outputs": [],
   "source": [
    "if (t2 - t1) > 30:\n",
    "    for t_index in range(events[list(events[:,2]).index(514), 0], events[list(events[:, 2]).index(4),0], 900):\n",
    "                        # if the rounded time difference between the current time and t1 is 29, then we have found the right time\n",
    "        if round(sample.times[t_index] - t1) == 29:\n",
    "            t2 = sample.times[t_index] #set t2 to that index\n",
    "            break"
   ]
  },
  {
   "cell_type": "code",
   "execution_count": 135,
   "id": "892130e5",
   "metadata": {},
   "outputs": [
    {
     "data": {
      "text/plain": [
       "41.402"
      ]
     },
     "execution_count": 135,
     "metadata": {},
     "output_type": "execute_result"
    }
   ],
   "source": [
    "t2"
   ]
  },
  {
   "cell_type": "code",
   "execution_count": 130,
   "id": "18c1e59d",
   "metadata": {},
   "outputs": [],
   "source": [
    "baseline = sample.copy().crop(tmin=t1, tmax=t2)"
   ]
  },
  {
   "cell_type": "code",
   "execution_count": 131,
   "id": "db0b2b03",
   "metadata": {},
   "outputs": [
    {
     "name": "stdout",
     "output_type": "stream",
     "text": [
      "Using pyopengl with version 3.1.6\n"
     ]
    },
    {
     "data": {
      "text/plain": [
       "<mne_qt_browser._pg_figure.MNEQtBrowser at 0x64c521590>"
      ]
     },
     "execution_count": 131,
     "metadata": {},
     "output_type": "execute_result"
    },
    {
     "name": "stdout",
     "output_type": "stream",
     "text": [
      "Channels marked as bad:\n",
      "['MEG 132', 'MEG 227', 'MEG 248', 'MEG 228', 'MEG 173', 'MEG 144', 'MEG 247', 'MEG 245', 'MEG 059', 'MEG 246']\n"
     ]
    }
   ],
   "source": [
    "baseline.plot()"
   ]
  },
  {
   "cell_type": "code",
   "execution_count": 2,
   "id": "5cfc57e0",
   "metadata": {},
   "outputs": [],
   "source": [
    "root = \"/Volumes/BCOM\"\n",
    "\n",
    "output_path = op.join(root, \"ciprian_project/data_analyzed/evoked/data\")\n",
    "# os.makedirs(output_path, exist_ok=True)\n",
    "raws_path = op.join(root, \"BCOM/DATA_RAW\")\n",
    "cleaned_path = op.join(root, 'ciprian_project/data_analyzed/preprocessed')\n",
    "\n",
    "# this channel has a weird position in the helmet coordinate space,\n",
    "# so the thinking is to not interpolate it here\n",
    "bad_localization_channel = \"MEG 173\" "
   ]
  },
  {
   "cell_type": "code",
   "execution_count": null,
   "id": "4b7fe15d",
   "metadata": {},
   "outputs": [],
   "source": [
    "# set up directories\n",
    "triggers_pd = pd.read_csv(op.join(root, \"BCOM/PROTOCOL/trigger_labels.csv\"), sep=';')\n",
    "\n",
    "produce_triggers = triggers_pd['produce_head'].to_list() #the csv already has names\n",
    "\n",
    "read_triggers = triggers_pd['read_head'].to_list()\n",
    "\n",
    "syllables = triggers_pd['syllable'].to_list()"
   ]
  },
  {
   "cell_type": "code",
   "execution_count": null,
   "id": "ed567c4b",
   "metadata": {},
   "outputs": [],
   "source": [
    "epoch_tmin=-0.4\n",
    "epoch_tmax=0.8\n",
    "reject_dict = dict(mag=5e-12)\n",
    "\n",
    "conditions = ['OVERT', 'COVERT']\n",
    "cleanings = ['WITHOUT_BADS', 'WITH_BADS']\n",
    "\n",
    "evoked_output = os.path.join(output_path, 'DATA')"
   ]
  },
  {
   "cell_type": "code",
   "execution_count": null,
   "id": "f2ba5615",
   "metadata": {},
   "outputs": [],
   "source": [
    "for trigger in produce_triggers:\n",
    "    for sub in subjects:\n",
    "        for i in range(2, 5):\n",
    "            f_path = os.path.join(cleaned_path, sub, str(i), \"subject_cleaned_raw.fif\")\n",
    "            cleaned_raw = mne.io.read_raw_fif(f_path, preload=True)\n",
    "\n",
    "            path = os.path.join(raws_path, sub, \"MEG\", sub, \"BCom\")\n",
    "\n",
    "            for file in os.listdir(path):\n",
    "                if os.path.isdir(os.path.join(path, file)):\n",
    "                    if sub == 'BCOM_08': #something special about this one\n",
    "                        mat_path = os.path.join(path, file, str(i + 1))\n",
    "                    else:\n",
    "                        mat_path = os.path.join(path, file, str(i))\n",
    "                    break\n",
    "\n",
    "            events = np.load(op.join(cleaned_path, sub, str(i), 'resampled_events.npy'))\n",
    "\n",
    "            produce_trigger = trigger\n",
    "            read_trigger = trigger - 100\n",
    "\n",
    "            all_read_events = [event for event in events if int(event[2]) == int(read_trigger)] \n",
    "            all_produce_events = [event for event in events if int(event[2]) == int(produce_trigger)] \n",
    "\n",
    "            Epo = Epoching(mat_path, events)\n",
    "\n",
    "            bad_idx = Epo.get_bad_syll(raws_folder, sub, read_trigger, read_triggers, syllables, i)\n",
    "\n",
    "            cleaned_read_events = all_read_events.copy()\n",
    "            cleaned_produce_events = all_produce_events.copy()\n",
    "            \n",
    "            for idx in bad_idx[::-1]:\n",
    "                cleaned_read_events.pop(idx)\n",
    "                cleaned_produce_events.pop(idx)\n",
    "\n",
    "            events_list = []\n",
    "\n",
    "            all_read_events_covert = np.array([event for event in all_read_events if not Epo.is_overt(event)]) \n",
    "            events_list.append(all_read_events_covert)\n",
    "            all_read_events_overt = np.array([event for event in all_read_events if Epo.is_overt(event)]) \n",
    "            events_list.append(all_read_events_overt)\n",
    "\n",
    "            all_produce_events_covert = np.array([event for event in all_produce_events if not Epo.is_overt(event)]) \n",
    "            events_list.append(all_produce_events_covert)\n",
    "            all_produce_events_overt = np.array([event for event in all_produce_events if Epo.is_overt(event)])\n",
    "            events_list.append(all_produce_events_overt)\n",
    "\n",
    "            cleaned_read_events_covert = np.array([event for event in cleaned_read_events if not Epo.is_overt(event)])\n",
    "            events_list.append(cleaned_read_events_covert)\n",
    "            cleaned_read_events_overt = np.array([event for event in cleaned_read_events if Epo.is_overt(event)])\n",
    "            events_list.append(cleaned_read_events_overt)\n",
    "\n",
    "            cleaned_produce_events_covert = [event for event in cleaned_produce_events if not Epo.is_overt(event)]\n",
    "            events_list.append(cleaned_produce_events_covert)\n",
    "            cleaned_produce_events_overt = [event for event in cleaned_produce_events if Epo.is_overt(event)]\n",
    "            events_list.append(cleaned_produce_events_overt)\n",
    "\n",
    "            picks = mne.pick_types(cleaned_raw.info, meg=True, eeg=False, stim=False, eog=False, ecg=False, misc=False) \n",
    "\n",
    "            for idx in range(len(events_list)): \n",
    "                evs = events_list[idx]\n",
    "                if idx < 4:\n",
    "                    cleaning = 'WITH_BADS'\n",
    "                elif idx > 3:\n",
    "                    cleaning = 'WITHOUT_BADS'\n",
    "                if idx % 2 == 0:\n",
    "                    condition = 'COVERT'\n",
    "                elif idx % 2 == 1:\n",
    "                    condition = 'OVERT'\n",
    "\n",
    "\n",
    "                if len(evs) > 0:\n",
    "\n",
    "                    cleaned_raw = interploate_without_bad_loc(cleaned_raw, bad_localization_channel)\n",
    "\n",
    "                    epochs_main = mne.Epochs(cleaned_raw, events=evs, reject=reject_dict, picks=picks, baseline=None,\n",
    "                                         tmin=epoch_tmin, tmax=epoch_tmax, preload=True) \n",
    "\n",
    "                    if len(epochs_main) != 0:\n",
    "                        ar = AutoReject(verbose=True, picks=picks, n_jobs=3) \n",
    "                        try:\n",
    "                            epochs_clean = ar.fit_transform(epochs_main) \n",
    "                        except:\n",
    "                            epochs_clean = epochs_main \n",
    "\n",
    "                        trigger_index = produce_triggers.index(produce_trigger)\n",
    "                        if len(epochs_clean) != 0:\n",
    "                            syll_label = epochs_main.events[0][2]\n",
    "                            epochs_clean.save(op.join(evo_output, cleaning, condition, sub+'_'+str(i)+'_'+syllables[trigger_index]+'_'+str(syll_label)+'-epo.fif'))"
   ]
  }
 ],
 "metadata": {
  "kernelspec": {
   "display_name": "mne",
   "language": "python",
   "name": "python3"
  },
  "language_info": {
   "codemirror_mode": {
    "name": "ipython",
    "version": 3
   },
   "file_extension": ".py",
   "mimetype": "text/x-python",
   "name": "python",
   "nbconvert_exporter": "python",
   "pygments_lexer": "ipython3",
   "version": "3.12.6"
  }
 },
 "nbformat": 4,
 "nbformat_minor": 5
}
