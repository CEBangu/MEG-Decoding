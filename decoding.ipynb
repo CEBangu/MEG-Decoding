{
 "cells": [
  {
   "cell_type": "markdown",
   "metadata": {},
   "source": [
    "#Fisher Linear Discriminant\n",
    "#Difference Matrix\n",
    "#Auto Encoders"
   ]
  }
 ],
 "metadata": {
  "language_info": {
   "name": "python"
  }
 },
 "nbformat": 4,
 "nbformat_minor": 2
}
